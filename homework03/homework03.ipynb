{
  "nbformat": 4,
  "nbformat_minor": 0,
  "metadata": {
    "kernelspec": {
      "display_name": "Python 3.8.3 64-bit ('anaconda': virtualenv)",
      "language": "python",
      "name": "python38364bitanacondavirtualenv2104d344b54c4fe3aa1acf6d958bba27"
    },
    "language_info": {
      "codemirror_mode": {
        "name": "ipython",
        "version": 3
      },
      "file_extension": ".py",
      "mimetype": "text/x-python",
      "name": "python",
      "nbconvert_exporter": "python",
      "pygments_lexer": "ipython3",
      "version": "3.8.3-final"
    },
    "colab": {
      "name": "homework03.ipynb",
      "provenance": []
    }
  },
  "cells": [
    {
      "cell_type": "code",
      "metadata": {
        "id": "vkLPCXYtsF0r"
      },
      "source": [
        "import tensorflow as tf\n",
        "import tensorflow_datasets as tfds\n",
        "import pandas\n",
        "import numpy as np\n",
        "import matplotlib.pyplot as plt"
      ],
      "execution_count": 1,
      "outputs": []
    },
    {
      "cell_type": "code",
      "metadata": {
        "id": "D9xjSOT_sF0v"
      },
      "source": [
        "# loading the datasets seperately because spliting with indices\n",
        "# only allows using one element to be selected \n",
        "ds_test, ds_test_info = tfds.load(\n",
        "    'genomics_ood',\n",
        "    split='test[:1000]',\n",
        "    shuffle_files=True,\n",
        "    as_supervised=True, # ds is turned into a tuple\n",
        "    # if as_supervised=False: will be a dictionary with all the features\n",
        "    with_info=True,\n",
        ")\n",
        "\n",
        "ds_train, ds_train_info = tfds.load(\n",
        "    'genomics_ood',\n",
        "    split='train[:100000]',\n",
        "    shuffle_files=True,\n",
        "    as_supervised=True,\n",
        "    with_info=True,\n",
        ")"
      ],
      "execution_count": 2,
      "outputs": []
    },
    {
      "cell_type": "code",
      "metadata": {
        "id": "sQSdy7FssF0v"
      },
      "source": [
        "def transformToHot(Seq, Lab):\n",
        "    vocab = {\"A\":\"1\", \"C\":\"2\", \"G\":\"3\", \"T\":\"0\"}\n",
        "    for key in vocab.keys():\n",
        "        Seq = tf.strings.regex_replace(Seq, key, vocab[key])\n",
        "    split = tf.strings.bytes_split(Seq)\n",
        "    labels = tf.cast(tf.strings.to_number(split), tf.uint8)\n",
        "    Seq = tf.one_hot(labels, 4)\n",
        "    Seq = tf.reshape(Seq, (-1,))\n",
        "\n",
        "    Lab = tf.one_hot(Lab, 10)\n",
        "    return Seq, Lab"
      ],
      "execution_count": 3,
      "outputs": []
    },
    {
      "cell_type": "code",
      "metadata": {
        "tags": [],
        "id": "SbUx9Jw2sF0v"
      },
      "source": [
        "# buffer size should be the size of the dataset\n",
        "ds_train = ds_train.shuffle(buffer_size=100000)\n",
        "ds_train = ds_train.map(transformToHot)\n",
        "ds_train = ds_train.batch(32)\n",
        "ds_train = ds_train.cache()\n",
        "ds_train = ds_train.prefetch(tf.data.experimental.AUTOTUNE)\n",
        "# while model is executing training step s\n",
        "# the pipeline is reading the data for the next step\n",
        "\n",
        "\n",
        "ds_test = ds_test.map(transformToHot)\n",
        "ds_test = ds_test.batch(32)\n",
        "ds_test = ds_test.cache()\n",
        "ds_test = ds_test.prefetch(tf.data.experimental.AUTOTUNE)\n"
      ],
      "execution_count": 4,
      "outputs": []
    },
    {
      "cell_type": "code",
      "metadata": {
        "id": "__tLLraKsF0v",
        "colab": {
          "base_uri": "https://localhost:8080/"
        },
        "outputId": "75180fe0-1819-4980-fb6d-8889176a772f"
      },
      "source": [
        "from tensorflow.keras import Model\n",
        "from tensorflow.keras.layers import Layer\n",
        "\n",
        "# creating the model\n",
        "model = tf.keras.Sequential(name=\"myModel\")\n",
        "model.add(tf.keras.Input(shape=(1000), name=\"Input\"))\n",
        "model.add(tf.keras.layers.Dense(256, activation=tf.keras.activations.sigmoid, name=\"hidden_1\"))\n",
        "model.add(tf.keras.layers.Dense(256, activation=tf.keras.activations.sigmoid, name=\"hidden_2\"))\n",
        "model.add(tf.keras.layers.Dense(10, activation=tf.keras.activations.softmax, name=\"otuput0\"))\n",
        "\n",
        "# define optimizer (gradient) and loss function \n",
        "opt = tf.keras.optimizers.SGD(learning_rate=0.1, name='SGD')\n",
        "loss_fn = tf.keras.losses.categorical_crossentropy\n",
        "\n",
        "# save accuracy of each epoch\n",
        "model.compile(optimizer=opt, loss=loss_fn, metrics=['accuracy'])\n",
        "model.summary()\n",
        "\n"
      ],
      "execution_count": 5,
      "outputs": [
        {
          "output_type": "stream",
          "text": [
            "Model: \"myModel\"\n",
            "_________________________________________________________________\n",
            "Layer (type)                 Output Shape              Param #   \n",
            "=================================================================\n",
            "hidden_1 (Dense)             (None, 256)               256256    \n",
            "_________________________________________________________________\n",
            "hidden_2 (Dense)             (None, 256)               65792     \n",
            "_________________________________________________________________\n",
            "otuput0 (Dense)              (None, 10)                2570      \n",
            "=================================================================\n",
            "Total params: 324,618\n",
            "Trainable params: 324,618\n",
            "Non-trainable params: 0\n",
            "_________________________________________________________________\n"
          ],
          "name": "stdout"
        }
      ]
    },
    {
      "cell_type": "markdown",
      "metadata": {
        "id": "r4Qr-cV4sF01"
      },
      "source": [
        "### Run with GPU"
      ]
    },
    {
      "cell_type": "code",
      "metadata": {
        "id": "Dn9VhgBysF03",
        "colab": {
          "base_uri": "https://localhost:8080/"
        },
        "outputId": "f78375e7-c7c1-498f-84ce-4b76694ee97f"
      },
      "source": [
        "gpus = tf.config.experimental.list_physical_devices('GPU')\n",
        "if gpus:\n",
        "  try:\n",
        "    # if gpu has low memory this limits the size tf is allowed to use\n",
        "    # using to much space can lead to breakage\n",
        "   tf.config.experimental.set_virtual_device_configuration(gpus[0], [tf.config.experimental.VirtualDeviceConfiguration(memory_limit=4048)])\n",
        "  except RuntimeError as e:\n",
        "   print(e)\n",
        "\n",
        "with tf.device(\"/device:GPU:0\"):\n",
        "    history = model.fit(ds_train, epochs=10, validation_data=ds_test)\n",
        "    # uses validation data to test each epoch"
      ],
      "execution_count": 6,
      "outputs": [
        {
          "output_type": "stream",
          "text": [
            "Epoch 1/10\n",
            "3125/3125 [==============================] - 32s 10ms/step - loss: 1.6011 - accuracy: 0.3129 - val_loss: 1.4794 - val_accuracy: 0.3360\n",
            "Epoch 2/10\n",
            "3125/3125 [==============================] - 14s 4ms/step - loss: 1.4890 - accuracy: 0.3531 - val_loss: 1.4668 - val_accuracy: 0.3570\n",
            "Epoch 3/10\n",
            "3125/3125 [==============================] - 12s 4ms/step - loss: 1.4747 - accuracy: 0.3637 - val_loss: 1.4605 - val_accuracy: 0.3650\n",
            "Epoch 4/10\n",
            "3125/3125 [==============================] - 11s 3ms/step - loss: 1.4667 - accuracy: 0.3686 - val_loss: 1.4567 - val_accuracy: 0.3770\n",
            "Epoch 5/10\n",
            "3125/3125 [==============================] - 10s 3ms/step - loss: 1.4618 - accuracy: 0.3715 - val_loss: 1.4543 - val_accuracy: 0.3780\n",
            "Epoch 6/10\n",
            "3125/3125 [==============================] - 11s 3ms/step - loss: 1.4583 - accuracy: 0.3743 - val_loss: 1.4528 - val_accuracy: 0.3820\n",
            "Epoch 7/10\n",
            "3125/3125 [==============================] - 10s 3ms/step - loss: 1.4554 - accuracy: 0.3763 - val_loss: 1.4520 - val_accuracy: 0.3860\n",
            "Epoch 8/10\n",
            "3125/3125 [==============================] - 10s 3ms/step - loss: 1.4526 - accuracy: 0.3783 - val_loss: 1.4515 - val_accuracy: 0.3850\n",
            "Epoch 9/10\n",
            "3125/3125 [==============================] - 10s 3ms/step - loss: 1.4499 - accuracy: 0.3805 - val_loss: 1.4515 - val_accuracy: 0.3840\n",
            "Epoch 10/10\n",
            "3125/3125 [==============================] - 10s 3ms/step - loss: 1.4470 - accuracy: 0.3830 - val_loss: 1.4518 - val_accuracy: 0.3850\n"
          ],
          "name": "stdout"
        }
      ]
    },
    {
      "cell_type": "code",
      "metadata": {
        "id": "axR5ryS1sF04",
        "colab": {
          "base_uri": "https://localhost:8080/",
          "height": 282
        },
        "outputId": "6db738de-22ae-4728-e0bc-b9e981f5d1e8"
      },
      "source": [
        "# ploting the resulting data\n",
        "x_axis = np.arange(1, 11)\n",
        "\n",
        "# somehow test accuracy is very case sensitive\n",
        "fig, ax = plt.subplots(1,2)\n",
        "ax[0].plot(x_axis, history.history[\"loss\"])\n",
        "ax[0].plot(x_axis, history.history[\"val_loss\"])\n",
        "ax[1].plot(x_axis, history.history[\"accuracy\"])\n",
        "ax[1].plot(x_axis, history.history[\"val_accuracy\"])\n",
        "\n"
      ],
      "execution_count": 7,
      "outputs": [
        {
          "output_type": "execute_result",
          "data": {
            "text/plain": [
              "[<matplotlib.lines.Line2D at 0x7f3848b19518>]"
            ]
          },
          "metadata": {
            "tags": []
          },
          "execution_count": 7
        },
        {
          "output_type": "display_data",
          "data": {
            "image/png": "[encoded data removed]",
            "text/plain": [
              "<Figure size 432x288 with 2 Axes>"
            ]
          },
          "metadata": {
            "tags": [],
            "needs_background": "light"
          }
        }
      ]
    },
    {
      "cell_type": "code",
      "metadata": {
        "id": "DGAsugezsdXf"
      },
      "source": [
        ""
      ],
      "execution_count": 7,
      "outputs": []
    }
  ]
}