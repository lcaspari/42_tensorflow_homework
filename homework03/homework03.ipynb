{
  "nbformat": 4,
  "nbformat_minor": 0,
  "metadata": {
    "kernelspec": {
      "display_name": "Python 3.8.3 64-bit ('anaconda': virtualenv)",
      "language": "python",
      "name": "python38364bitanacondavirtualenv2104d344b54c4fe3aa1acf6d958bba27"
    },
    "language_info": {
      "codemirror_mode": {
        "name": "ipython",
        "version": 3
      },
      "file_extension": ".py",
      "mimetype": "text/x-python",
      "name": "python",
      "nbconvert_exporter": "python",
      "pygments_lexer": "ipython3",
      "version": "3.8.3-final"
    },
    "colab": {
      "name": "homework03.ipynb",
      "provenance": []
    }
  },
  "cells": [
    {
      "cell_type": "code",
      "metadata": {
        "id": "vkLPCXYtsF0r"
      },
      "source": [
        "import tensorflow as tf\n",
        "import tensorflow_datasets as tfds\n",
        "import pandas\n",
        "import numpy as np\n",
        "import matplotlib.pyplot as plt"
      ],
      "execution_count": 1,
      "outputs": []
    },
    {
      "cell_type": "code",
      "metadata": {
        "id": "D9xjSOT_sF0v"
      },
      "source": [
        "# loading the datasets seperately because spliting with indices\n",
        "# only allows using one element to be selected \n",
        "ds_test, ds_test_info = tfds.load(\n",
        "    'genomics_ood',\n",
        "    split='test[:1000]',\n",
        "    shuffle_files=True, # automatically shuffels the files\n",
        "    as_supervised=True, # ds is turned into a tuple\n",
        "    # if as_supervised=False: will be a dictionary with all the features\n",
        "    with_info=True, # contains information about the builder\n",
        ")\n",
        "\n",
        "ds_train, ds_train_info = tfds.load(\n",
        "    'genomics_ood',\n",
        "    split='train[:100000]',\n",
        "    shuffle_files=True,\n",
        "    as_supervised=True,\n",
        "    with_info=True,\n",
        ")\n",
        "\n"
      ],
      "execution_count": 2,
      "outputs": []
    },
    {
      "cell_type": "code",
      "metadata": {
        "id": "sQSdy7FssF0v"
      },
      "source": [
        "def transformFunction(seq, label):\n",
        "    vocab = {\"A\":\"1\", \"C\":\"2\", \"G\":\"3\", \"T\":\"0\"}\n",
        "    for key in vocab.keys():\n",
        "        seq = tf.strings.regex_replace(seq, key, vocab[key])\n",
        "    split = tf.strings.bytes_split(seq)\n",
        "    labels = tf.cast(tf.strings.to_number(split), tf.uint8)\n",
        "    seq = tf.one_hot(labels, 4)\n",
        "    seq = tf.reshape(seq, (-1,))\n",
        "\n",
        "    label = tf.one_hot(label, 10)\n",
        "    return seq, label\n"
      ],
      "execution_count": 3,
      "outputs": []
    },
    {
      "cell_type": "code",
      "metadata": {
        "tags": [],
        "id": "SbUx9Jw2sF0v"
      },
      "source": [
        "buffer_train = ds_train_info.splits['train[:100000]'].num_examples \n",
        "buffer_test = ds_test_info.splits['test[:1000]'].num_examples \n",
        "# ds_train_info is the same as ds_test_info (they contain information about the complete dataset)\n",
        "\n",
        "ds_train = ds_train.map(transformFunction)\n",
        "ds_train = ds_train.cache() # caches the dataset → saving time (no opening of files etc.)\n",
        "ds_train = ds_train.shuffle(buffer_size=buffer_train) # buffer size should be the size of the dataset\n",
        "ds_train = ds_train.batch(32)\n",
        "ds_train = ds_train.prefetch(tf.data.experimental.AUTOTUNE)\n",
        "# alternatively: ds_train.prefetch(buffer_size) \n",
        "# buffer_size :=  the maximum number of elements that will be buffered when prefetching.  \n",
        "\n",
        "# while model is executing training step s\n",
        "# the pipeline is reading the data for the next step\n",
        "\n",
        "# elements to prefetch should be equal to (or possibly greater than) \n",
        "# the number of batches consumed by a single training step\n",
        "\n",
        "\n",
        "ds_test = ds_test.map(transformFunction)\n",
        "ds_test = ds_test.cache()\n",
        "ds_test = ds_test.shuffle(buffer_size=buffer_test)\n",
        "ds_test = ds_test.batch(32)\n",
        "ds_test = ds_test.prefetch(tf.data.experimental.AUTOTUNE)\n",
        "\n"
      ],
      "execution_count": 4,
      "outputs": []
    },
    {
      "cell_type": "code",
      "metadata": {
        "id": "__tLLraKsF0v",
        "outputId": "c2356700-b393-45ff-cb85-e3c210230f10",
        "colab": {
          "base_uri": "https://localhost:8080/"
        }
      },
      "source": [
        "from tensorflow.keras import Model\n",
        "from tensorflow.keras.layers import Layer\n",
        "\n",
        "model = tf.keras.Sequential(name=\"myModel\")\n",
        "model.add(tf.keras.Input(shape=(1000), name=\"Input\"))\n",
        "model.add(tf.keras.layers.Dense(256, activation=tf.keras.activations.sigmoid, name=\"hidden_1\"))\n",
        "model.add(tf.keras.layers.Dense(256, activation=tf.keras.activations.sigmoid, name=\"hidden_2\"))\n",
        "model.add(tf.keras.layers.Dense(10, activation=tf.keras.activations.softmax, name=\"otuput0\"))\n",
        "\n",
        "opt = tf.keras.optimizers.SGD(learning_rate=0.1, name='SGD')\n",
        "loss_fn = tf.keras.losses.categorical_crossentropy\n",
        "\n",
        "model.compile(optimizer=opt, loss=loss_fn, metrics=['accuracy'])\n",
        "model.summary()"
      ],
      "execution_count": 5,
      "outputs": [
        {
          "output_type": "stream",
          "text": [
            "Model: \"myModel\"\n",
            "_________________________________________________________________\n",
            "Layer (type)                 Output Shape              Param #   \n",
            "=================================================================\n",
            "hidden_1 (Dense)             (None, 256)               256256    \n",
            "_________________________________________________________________\n",
            "hidden_2 (Dense)             (None, 256)               65792     \n",
            "_________________________________________________________________\n",
            "otuput0 (Dense)              (None, 10)                2570      \n",
            "=================================================================\n",
            "Total params: 324,618\n",
            "Trainable params: 324,618\n",
            "Non-trainable params: 0\n",
            "_________________________________________________________________\n"
          ],
          "name": "stdout"
        }
      ]
    },
    {
      "cell_type": "markdown",
      "metadata": {
        "id": "r4Qr-cV4sF01"
      },
      "source": [
        "### Run with GPU"
      ]
    },
    {
      "cell_type": "code",
      "metadata": {
        "id": "Dn9VhgBysF03",
        "outputId": "75cd6a27-42e9-4c05-ead9-a4c2f212e5e8",
        "colab": {
          "base_uri": "https://localhost:8080/"
        }
      },
      "source": [
        "history = model.fit(ds_train, epochs=10, validation_data=ds_test)"
      ],
      "execution_count": 6,
      "outputs": [
        {
          "output_type": "stream",
          "text": [
            "Epoch 1/10\n",
            "3125/3125 [==============================] - 10s 3ms/step - loss: 1.6037 - accuracy: 0.3131 - val_loss: 1.4675 - val_accuracy: 0.3750\n",
            "Epoch 2/10\n",
            "3125/3125 [==============================] - 10s 3ms/step - loss: 1.4874 - accuracy: 0.3544 - val_loss: 1.4918 - val_accuracy: 0.3430\n",
            "Epoch 3/10\n",
            "3125/3125 [==============================] - 10s 3ms/step - loss: 1.4732 - accuracy: 0.3643 - val_loss: 1.4601 - val_accuracy: 0.3880\n",
            "Epoch 4/10\n",
            "3125/3125 [==============================] - 10s 3ms/step - loss: 1.4651 - accuracy: 0.3693 - val_loss: 1.4593 - val_accuracy: 0.3870\n",
            "Epoch 5/10\n",
            "3125/3125 [==============================] - 10s 3ms/step - loss: 1.4603 - accuracy: 0.3729 - val_loss: 1.4607 - val_accuracy: 0.3730\n",
            "Epoch 6/10\n",
            "3125/3125 [==============================] - 11s 4ms/step - loss: 1.4574 - accuracy: 0.3740 - val_loss: 1.4604 - val_accuracy: 0.3770\n",
            "Epoch 7/10\n",
            "3125/3125 [==============================] - 12s 4ms/step - loss: 1.4543 - accuracy: 0.3762 - val_loss: 1.4499 - val_accuracy: 0.3800\n",
            "Epoch 8/10\n",
            "3125/3125 [==============================] - 10s 3ms/step - loss: 1.4504 - accuracy: 0.3785 - val_loss: 1.4457 - val_accuracy: 0.3850\n",
            "Epoch 9/10\n",
            "3125/3125 [==============================] - 10s 3ms/step - loss: 1.4454 - accuracy: 0.3809 - val_loss: 1.4527 - val_accuracy: 0.3780\n",
            "Epoch 10/10\n",
            "3125/3125 [==============================] - 10s 3ms/step - loss: 1.4361 - accuracy: 0.3881 - val_loss: 1.4444 - val_accuracy: 0.3760\n"
          ],
          "name": "stdout"
        }
      ]
    },
    {
      "cell_type": "code",
      "metadata": {
        "id": "axR5ryS1sF04",
        "outputId": "882f6079-789a-4afe-acaf-a23205a5e88f",
        "colab": {
          "base_uri": "https://localhost:8080/",
          "height": 282
        }
      },
      "source": [
        "x_axis = np.arange(1, 11)\n",
        "\n",
        "\n",
        "fig, ax = plt.subplots(1,2)\n",
        "ax[0].plot(x_axis, history.history[\"loss\"])\n",
        "ax[0].plot(x_axis, history.history[\"val_loss\"])\n",
        "ax[1].plot(x_axis, history.history[\"accuracy\"])\n",
        "ax[1].plot(x_axis, history.history[\"val_accuracy\"])\n"
      ],
      "execution_count": 7,
      "outputs": [
        {
          "output_type": "execute_result",
          "data": {
            "text/plain": [
              "[<matplotlib.lines.Line2D at 0x7fd287a575c0>]"
            ]
          },
          "metadata": {
            "tags": []
          },
          "execution_count": 7
        },
        {
          "output_type": "display_data",
          "data": {
            "image/png": "[encoded data removed]",
            "text/plain": [
              "<Figure size 432x288 with 2 Axes>"
            ]
          },
          "metadata": {
            "tags": [],
            "needs_background": "light"
          }
        }
      ]
    },
    {
      "cell_type": "code",
      "metadata": {
        "id": "DGAsugezsdXf"
      },
      "source": [
        ""
      ],
      "execution_count": 7,
      "outputs": []
    }
  ]
}