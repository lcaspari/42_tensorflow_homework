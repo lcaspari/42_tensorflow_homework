{
 "cells": [
  {
   "cell_type": "code",
   "execution_count": 1,
   "metadata": {},
   "outputs": [],
   "source": [
    "import tensorflow as tf\n",
    "import tensorflow_datasets as tfds\n",
    "import pandas\n",
    "import numpy as np\n",
    "import matplotlib.pyplot as plt"
   ]
  },
  {
   "cell_type": "code",
   "execution_count": 2,
   "metadata": {},
   "outputs": [],
   "source": [
    "# loading the datasets seperately because spliting with indices\n",
    "# only allows using one element to be selected \n",
    "ds_test, ds_test_info = tfds.load(\n",
    "    'genomics_ood',\n",
    "    split='test[:1000]',\n",
    "    shuffle_files=True, # automatically shuffels the files\n",
    "    as_supervised=True, # ds is turned into a tuple\n",
    "    # if as_supervised=False: will be a dictionary with all the features\n",
    "    with_info=True, # contains information about the builder\n",
    ")\n",
    "\n",
    "ds_train, ds_train_info = tfds.load(\n",
    "    'genomics_ood',\n",
    "    split='train[:100000]',\n",
    "    shuffle_files=True,\n",
    "    as_supervised=True,\n",
    "    with_info=True,\n",
    ")\n",
    "\n"
   ]
  },
  {
   "cell_type": "code",
   "execution_count": 3,
   "metadata": {},
   "outputs": [],
   "source": [
    "def transformFunction(seq, label):\n",
    "    vocab = {\"A\":\"1\", \"C\":\"2\", \"G\":\"3\", \"T\":\"0\"}\n",
    "    for key in vocab.keys():\n",
    "        seq = tf.strings.regex_replace(seq, key, vocab[key])\n",
    "    split = tf.strings.bytes_split(seq)\n",
    "    labels = tf.cast(tf.strings.to_number(split), tf.uint8)\n",
    "    seq = tf.one_hot(labels, 4)\n",
    "    seq = tf.reshape(seq, (-1,))\n",
    "\n",
    "    label = tf.one_hot(label, 10)\n",
    "    return seq, label\n"
   ]
  },
  {
   "cell_type": "code",
   "execution_count": 4,
   "metadata": {
    "tags": []
   },
   "outputs": [],
   "source": [
    "ds_train = ds_train.map(transformFunction)\n",
    "ds_train = ds_train.cache() # caches the dataset → saving time (no opening of files etc.)\n",
    "ds_train = ds_train.shuffle(buffer_size=100000) # buffer size should be the size of the dataset\n",
    "ds_train = ds_train.batch(32)\n",
    "ds_train = ds_train.prefetch(tf.data.experimental.AUTOTUNE)\n",
    "# alternatively: ds_train.prefetch(buffer_size) \n",
    "# buffer_size :=  the maximum number of elements that will be buffered when prefetching.  \n",
    "\n",
    "# while model is executing training step s\n",
    "# the pipeline is reading the data for the next step\n",
    "\n",
    "# elements to prefetch should be equal to (or possibly greater than) \n",
    "# the number of batches consumed by a single training step\n",
    "\n",
    "\n",
    "ds_test = ds_test.map(transformFunction)\n",
    "ds_test = ds_test.cache()\n",
    "ds_test = ds_train.shuffle(buffer_size=1000)\n",
    "ds_test = ds_test.batch(32)\n",
    "ds_test = ds_test.prefetch(tf.data.experimental.AUTOTUNE)\n",
    "\n"
   ]
  },
  {
   "cell_type": "code",
   "execution_count": 5,
   "metadata": {},
   "outputs": [
    {
     "name": "stdout",
     "output_type": "stream",
     "text": [
      "Model: \"myModel\"\n",
      "_________________________________________________________________\n",
      "Layer (type)                 Output Shape              Param #   \n",
      "=================================================================\n",
      "hidden_1 (Dense)             (None, 256)               256256    \n",
      "_________________________________________________________________\n",
      "hidden_2 (Dense)             (None, 256)               65792     \n",
      "_________________________________________________________________\n",
      "otuput0 (Dense)              (None, 10)                2570      \n",
      "=================================================================\n",
      "Total params: 324,618\n",
      "Trainable params: 324,618\n",
      "Non-trainable params: 0\n",
      "_________________________________________________________________\n"
     ]
    }
   ],
   "source": [
    "from tensorflow.keras import Model\n",
    "from tensorflow.keras.layers import Layer\n",
    "\n",
    "model = tf.keras.Sequential(name=\"myModel\")\n",
    "model.add(tf.keras.Input(shape=(1000), name=\"Input\"))\n",
    "model.add(tf.keras.layers.Dense(256, activation=tf.keras.activations.sigmoid, name=\"hidden_1\"))\n",
    "model.add(tf.keras.layers.Dense(256, activation=tf.keras.activations.sigmoid, name=\"hidden_2\"))\n",
    "model.add(tf.keras.layers.Dense(10, activation=tf.keras.activations.softmax, name=\"otuput0\"))\n",
    "\n",
    "opt = tf.keras.optimizers.SGD(learning_rate=0.1, name='SGD')\n",
    "loss_fn = tf.keras.losses.categorical_crossentropy\n",
    "\n",
    "model.compile(optimizer=opt, loss=loss_fn, metrics=['accuracy'])\n",
    "model.summary()"
   ]
  },
  {
   "cell_type": "markdown",
   "metadata": {},
   "source": [
    "### Run with GPU"
   ]
  },
  {
   "cell_type": "code",
   "execution_count": null,
   "metadata": {},
   "outputs": [
    {
     "name": "stdout",
     "output_type": "stream",
     "text": [
      "Epoch 1/10\n"
     ]
    }
   ],
   "source": [
    "gpus = tf.config.experimental.list_physical_devices('GPU')\n",
    "if gpus:\n",
    "  try:\n",
    "   tf.config.experimental.set_virtual_device_configuration(gpus[0], [tf.config.experimental.VirtualDeviceConfiguration(memory_limit=2048)])\n",
    "  except RuntimeError as e:\n",
    "   print(e)\n",
    "else:\n",
    "    history = model.fit(ds_train, epochs=10, validation_data=ds_test)\n",
    "\n",
    "with tf.device(\"/device:GPU:0\"):\n",
    "    history = model.fit(ds_train, epochs=10, validation_data=ds_test)"
   ]
  },
  {
   "cell_type": "code",
   "execution_count": 7,
   "metadata": {},
   "outputs": [
    {
     "ename": "NameError",
     "evalue": "name 'history' is not defined",
     "output_type": "error",
     "traceback": [
      "\u001b[0;31m---------------------------------------------------------------------------\u001b[0m",
      "\u001b[0;31mNameError\u001b[0m                                 Traceback (most recent call last)",
      "\u001b[0;32m<ipython-input-7-5b7fc755fb6c>\u001b[0m in \u001b[0;36m<module>\u001b[0;34m\u001b[0m\n\u001b[1;32m      3\u001b[0m \u001b[0;34m\u001b[0m\u001b[0m\n\u001b[1;32m      4\u001b[0m \u001b[0mfig\u001b[0m\u001b[0;34m,\u001b[0m \u001b[0max\u001b[0m \u001b[0;34m=\u001b[0m \u001b[0mplt\u001b[0m\u001b[0;34m.\u001b[0m\u001b[0msubplots\u001b[0m\u001b[0;34m(\u001b[0m\u001b[0;36m1\u001b[0m\u001b[0;34m,\u001b[0m\u001b[0;36m2\u001b[0m\u001b[0;34m)\u001b[0m\u001b[0;34m\u001b[0m\u001b[0;34m\u001b[0m\u001b[0m\n\u001b[0;32m----> 5\u001b[0;31m \u001b[0max\u001b[0m\u001b[0;34m[\u001b[0m\u001b[0;36m0\u001b[0m\u001b[0;34m]\u001b[0m\u001b[0;34m.\u001b[0m\u001b[0mplot\u001b[0m\u001b[0;34m(\u001b[0m\u001b[0mx_axis\u001b[0m\u001b[0;34m,\u001b[0m \u001b[0mhistory\u001b[0m\u001b[0;34m.\u001b[0m\u001b[0mhistory\u001b[0m\u001b[0;34m[\u001b[0m\u001b[0;34m\"loss\"\u001b[0m\u001b[0;34m]\u001b[0m\u001b[0;34m)\u001b[0m\u001b[0;34m\u001b[0m\u001b[0;34m\u001b[0m\u001b[0m\n\u001b[0m\u001b[1;32m      6\u001b[0m \u001b[0max\u001b[0m\u001b[0;34m[\u001b[0m\u001b[0;36m0\u001b[0m\u001b[0;34m]\u001b[0m\u001b[0;34m.\u001b[0m\u001b[0mplot\u001b[0m\u001b[0;34m(\u001b[0m\u001b[0mx_axis\u001b[0m\u001b[0;34m,\u001b[0m \u001b[0mhistory\u001b[0m\u001b[0;34m.\u001b[0m\u001b[0mhistory\u001b[0m\u001b[0;34m[\u001b[0m\u001b[0;34m\"val_loss\"\u001b[0m\u001b[0;34m]\u001b[0m\u001b[0;34m)\u001b[0m\u001b[0;34m\u001b[0m\u001b[0;34m\u001b[0m\u001b[0m\n\u001b[1;32m      7\u001b[0m \u001b[0max\u001b[0m\u001b[0;34m[\u001b[0m\u001b[0;36m1\u001b[0m\u001b[0;34m]\u001b[0m\u001b[0;34m.\u001b[0m\u001b[0mplot\u001b[0m\u001b[0;34m(\u001b[0m\u001b[0mx_axis\u001b[0m\u001b[0;34m,\u001b[0m \u001b[0mhistory\u001b[0m\u001b[0;34m.\u001b[0m\u001b[0mhistory\u001b[0m\u001b[0;34m[\u001b[0m\u001b[0;34m\"accuracy\"\u001b[0m\u001b[0;34m]\u001b[0m\u001b[0;34m)\u001b[0m\u001b[0;34m\u001b[0m\u001b[0;34m\u001b[0m\u001b[0m\n",
      "\u001b[0;31mNameError\u001b[0m: name 'history' is not defined"
     ]
    }
   ],
   "source": [
    "x_axis = np.arange(1, 11)\n",
    "\n",
    "\n",
    "fig, ax = plt.subplots(1,2)\n",
    "ax[0].plot(x_axis, history.history[\"loss\"])\n",
    "ax[0].plot(x_axis, history.history[\"val_loss\"])\n",
    "ax[1].plot(x_axis, history.history[\"accuracy\"])\n",
    "ax[1].plot(x_axis, history.history[\"val_accuracy\"])\n"
   ]
  },
  {
   "cell_type": "code",
   "execution_count": null,
   "metadata": {},
   "outputs": [],
   "source": []
  }
 ],
 "metadata": {
  "kernelspec": {
   "display_name": "Python 3.8.3 64-bit ('anaconda': virtualenv)",
   "language": "python",
   "name": "python38364bitanacondavirtualenv2104d344b54c4fe3aa1acf6d958bba27"
  },
  "language_info": {
   "codemirror_mode": {
    "name": "ipython",
    "version": 3
   },
   "file_extension": ".py",
   "mimetype": "text/x-python",
   "name": "python",
   "nbconvert_exporter": "python",
   "pygments_lexer": "ipython3",
   "version": "3.8.3"
  }
 },
 "nbformat": 4,
 "nbformat_minor": 2
}
