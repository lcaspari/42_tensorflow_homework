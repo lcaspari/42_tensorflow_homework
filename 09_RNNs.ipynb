{
  "nbformat": 4,
  "nbformat_minor": 0,
  "metadata": {
    "colab": {
      "name": "09_RNNs.ipynb",
      "provenance": [],
      "collapsed_sections": [],
      "include_colab_link": true
    },
    "kernelspec": {
      "display_name": "Python 3",
      "name": "python3"
    }
  },
  "cells": [
    {
      "cell_type": "markdown",
      "metadata": {
        "id": "view-in-github",
        "colab_type": "text"
      },
      "source": [
        "<a href=\"https://colab.research.google.com/github/lcaspari/42_tensorflow_homework/blob/main/09_RNNs.ipynb\" target=\"_parent\"><img src=\"https://colab.research.google.com/assets/colab-badge.svg\" alt=\"Open In Colab\"/></a>"
      ]
    },
    {
      "cell_type": "code",
      "metadata": {
        "id": "FzDkx6UgS433"
      },
      "source": [
        "import numpy as np\r\n",
        "import tensorflow as tf\r\n",
        "import matplotlib.pyplot as plt"
      ],
      "execution_count": 527,
      "outputs": []
    },
    {
      "cell_type": "markdown",
      "metadata": {
        "id": "awnZT4ZfM9uR"
      },
      "source": [
        "# Data Set"
      ]
    },
    {
      "cell_type": "code",
      "metadata": {
        "colab": {
          "base_uri": "https://localhost:8080/"
        },
        "id": "lGNk9XUvP41R",
        "outputId": "0df1e7cb-9873-40a9-effb-f59f25447368"
      },
      "source": [
        "# generates a tf array of length 'size' with following random tuples:\r\n",
        "# (digit, sequence, target)\r\n",
        "def generate_data(size, seq_max_len = 25):\r\n",
        "    digit_len = 2\r\n",
        "\r\n",
        "    # generate\r\n",
        "    for _ in range(size):\r\n",
        "        # digit\r\n",
        "        random = np.random.randint(1,10)\r\n",
        "        first = np.random.randint(1,10)\r\n",
        "        second = first\r\n",
        "        while first == second:\r\n",
        "            second = np.random.randint(1,10)\r\n",
        "\r\n",
        "        digit = [first, second]\r\n",
        "        # sequence\r\n",
        "        sequence = ''\r\n",
        "        # choose the current length of sequence (min = digit_len)\r\n",
        "        #seq_len = np.random.randint(digit_len,seq_max_len)\r\n",
        "        seq_len = seq_max_len\r\n",
        "        # create array for (digit, seq_part)\r\n",
        "        data = np.zeros((seq_len, 3))\r\n",
        "        for i in range(seq_len):\r\n",
        "            random = np.random.randint(1,10)\r\n",
        "            sequence += str(random)\r\n",
        "            data[i, 0] = first\r\n",
        "            data[i, 1] = second\r\n",
        "            data[i, 2] = str(random)\r\n",
        "\r\n",
        "        # target: number in digit which occurs most often in sequence\r\n",
        "        max_occurences = 0\r\n",
        "        target = ''\r\n",
        "        for i in range(len(digit)):\r\n",
        "            num_occurences_1 = sequence.count(str(first))\r\n",
        "            num_occurences_2 = sequence.count(str(second))\r\n",
        "            if num_occurences_1 > num_occurences_2:\r\n",
        "                # target is the first digit, hence 0\r\n",
        "                target = str(0)\r\n",
        "            elif num_occurences_1 < num_occurences_2:\r\n",
        "                # target is second digit, hence 1\r\n",
        "                target = str(1)\r\n",
        "            else:\r\n",
        "                # target is 2 if both occur equally often\r\n",
        "                target = str(2)\r\n",
        "        yield data, int(target)\r\n",
        "\r\n",
        "# print some sequences\r\n",
        "for i in generate_data(10):\r\n",
        "    (a,b) = i\r\n",
        "    # print(f\"a: {a} \\n b: {b}\")\r\n",
        "    print(a.shape)"
      ],
      "execution_count": 528,
      "outputs": [
        {
          "output_type": "stream",
          "text": [
            "(25, 3)\n",
            "(25, 3)\n",
            "(25, 3)\n",
            "(25, 3)\n",
            "(25, 3)\n",
            "(25, 3)\n",
            "(25, 3)\n",
            "(25, 3)\n",
            "(25, 3)\n",
            "(25, 3)\n"
          ],
          "name": "stdout"
        }
      ]
    },
    {
      "cell_type": "code",
      "metadata": {
        "colab": {
          "base_uri": "https://localhost:8080/"
        },
        "id": "cy1i5IcZZedF",
        "outputId": "f88c29a2-f25a-46c3-d8e5-3f116def783d"
      },
      "source": [
        "# create a dataset from the generated sequences\r\n",
        "dataset_size = 1000\r\n",
        "max_seq_length = 20\r\n",
        "batch_size = 100\r\n",
        "\r\n",
        "generated_dataset = np.zeros((dataset_size, max_seq_length, 3), dtype = np.uint8)\r\n",
        "generated_targets = np.zeros(dataset_size, dtype = np.uint8)\r\n",
        "for k, (data, target) in enumerate(generate_data(dataset_size, max_seq_length)):\r\n",
        "    generated_dataset[k] = data\r\n",
        "    generated_targets[k] = target\r\n",
        "\r\n",
        "print(generated_targets[5])\r\n",
        "dataset = tf.data.Dataset.from_tensor_slices(generated_dataset)\r\n",
        "dataset = dataset.map(lambda x: tf.one_hot(x, 9))\r\n",
        "for i in dataset:\r\n",
        "  print(i)\r\n",
        "  break\r\n",
        "dataset = dataset.map(lambda x: tf.cast(x, tf.int32))\r\n",
        "targets = tf.data.Dataset.from_tensor_slices(generated_targets)\r\n",
        "targets = targets.map(lambda x: tf.one_hot(x, 3))\r\n",
        "targets = targets.map(lambda x: tf.cast(x, tf.int32))\r\n",
        "\r\n",
        "dataset = tf.data.Dataset.zip((dataset, targets))\r\n",
        "dataset = dataset.batch(batch_size)"
      ],
      "execution_count": 529,
      "outputs": [
        {
          "output_type": "stream",
          "text": [
            "0\n",
            "tf.Tensor(\n",
            "[[[0. 0. 0. 0. 0. 0. 0. 1. 0.]\n",
            "  [0. 0. 0. 0. 1. 0. 0. 0. 0.]\n",
            "  [0. 1. 0. 0. 0. 0. 0. 0. 0.]]\n",
            "\n",
            " [[0. 0. 0. 0. 0. 0. 0. 1. 0.]\n",
            "  [0. 0. 0. 0. 1. 0. 0. 0. 0.]\n",
            "  [0. 0. 0. 0. 0. 0. 1. 0. 0.]]\n",
            "\n",
            " [[0. 0. 0. 0. 0. 0. 0. 1. 0.]\n",
            "  [0. 0. 0. 0. 1. 0. 0. 0. 0.]\n",
            "  [0. 0. 0. 0. 0. 0. 0. 0. 0.]]\n",
            "\n",
            " [[0. 0. 0. 0. 0. 0. 0. 1. 0.]\n",
            "  [0. 0. 0. 0. 1. 0. 0. 0. 0.]\n",
            "  [0. 1. 0. 0. 0. 0. 0. 0. 0.]]\n",
            "\n",
            " [[0. 0. 0. 0. 0. 0. 0. 1. 0.]\n",
            "  [0. 0. 0. 0. 1. 0. 0. 0. 0.]\n",
            "  [0. 0. 0. 0. 0. 0. 0. 0. 0.]]\n",
            "\n",
            " [[0. 0. 0. 0. 0. 0. 0. 1. 0.]\n",
            "  [0. 0. 0. 0. 1. 0. 0. 0. 0.]\n",
            "  [0. 0. 0. 0. 0. 0. 1. 0. 0.]]\n",
            "\n",
            " [[0. 0. 0. 0. 0. 0. 0. 1. 0.]\n",
            "  [0. 0. 0. 0. 1. 0. 0. 0. 0.]\n",
            "  [0. 0. 0. 0. 0. 0. 0. 1. 0.]]\n",
            "\n",
            " [[0. 0. 0. 0. 0. 0. 0. 1. 0.]\n",
            "  [0. 0. 0. 0. 1. 0. 0. 0. 0.]\n",
            "  [0. 0. 0. 1. 0. 0. 0. 0. 0.]]\n",
            "\n",
            " [[0. 0. 0. 0. 0. 0. 0. 1. 0.]\n",
            "  [0. 0. 0. 0. 1. 0. 0. 0. 0.]\n",
            "  [0. 0. 0. 0. 0. 0. 0. 1. 0.]]\n",
            "\n",
            " [[0. 0. 0. 0. 0. 0. 0. 1. 0.]\n",
            "  [0. 0. 0. 0. 1. 0. 0. 0. 0.]\n",
            "  [0. 0. 1. 0. 0. 0. 0. 0. 0.]]\n",
            "\n",
            " [[0. 0. 0. 0. 0. 0. 0. 1. 0.]\n",
            "  [0. 0. 0. 0. 1. 0. 0. 0. 0.]\n",
            "  [0. 0. 0. 0. 0. 0. 0. 0. 0.]]\n",
            "\n",
            " [[0. 0. 0. 0. 0. 0. 0. 1. 0.]\n",
            "  [0. 0. 0. 0. 1. 0. 0. 0. 0.]\n",
            "  [0. 0. 0. 0. 0. 0. 0. 0. 1.]]\n",
            "\n",
            " [[0. 0. 0. 0. 0. 0. 0. 1. 0.]\n",
            "  [0. 0. 0. 0. 1. 0. 0. 0. 0.]\n",
            "  [0. 0. 0. 0. 0. 0. 0. 1. 0.]]\n",
            "\n",
            " [[0. 0. 0. 0. 0. 0. 0. 1. 0.]\n",
            "  [0. 0. 0. 0. 1. 0. 0. 0. 0.]\n",
            "  [0. 0. 0. 1. 0. 0. 0. 0. 0.]]\n",
            "\n",
            " [[0. 0. 0. 0. 0. 0. 0. 1. 0.]\n",
            "  [0. 0. 0. 0. 1. 0. 0. 0. 0.]\n",
            "  [0. 0. 0. 0. 0. 0. 0. 0. 0.]]\n",
            "\n",
            " [[0. 0. 0. 0. 0. 0. 0. 1. 0.]\n",
            "  [0. 0. 0. 0. 1. 0. 0. 0. 0.]\n",
            "  [0. 0. 0. 0. 0. 0. 0. 1. 0.]]\n",
            "\n",
            " [[0. 0. 0. 0. 0. 0. 0. 1. 0.]\n",
            "  [0. 0. 0. 0. 1. 0. 0. 0. 0.]\n",
            "  [0. 0. 0. 0. 0. 0. 0. 0. 1.]]\n",
            "\n",
            " [[0. 0. 0. 0. 0. 0. 0. 1. 0.]\n",
            "  [0. 0. 0. 0. 1. 0. 0. 0. 0.]\n",
            "  [0. 0. 0. 0. 1. 0. 0. 0. 0.]]\n",
            "\n",
            " [[0. 0. 0. 0. 0. 0. 0. 1. 0.]\n",
            "  [0. 0. 0. 0. 1. 0. 0. 0. 0.]\n",
            "  [0. 0. 0. 0. 1. 0. 0. 0. 0.]]\n",
            "\n",
            " [[0. 0. 0. 0. 0. 0. 0. 1. 0.]\n",
            "  [0. 0. 0. 0. 1. 0. 0. 0. 0.]\n",
            "  [0. 0. 1. 0. 0. 0. 0. 0. 0.]]], shape=(20, 3, 9), dtype=float32)\n"
          ],
          "name": "stdout"
        }
      ]
    },
    {
      "cell_type": "markdown",
      "metadata": {
        "id": "-bz224NFM7Fc"
      },
      "source": [
        "# Model"
      ]
    },
    {
      "cell_type": "markdown",
      "metadata": {
        "id": "w_jkyhN0EItj"
      },
      "source": [
        "LSTM Cell"
      ]
    },
    {
      "cell_type": "code",
      "metadata": {
        "id": "D84Z_wacuxgY"
      },
      "source": [
        "class LSTM_cell(tf.keras.Model):\r\n",
        "    def __init__(self, state_size):\r\n",
        "        super(LSTM_cell, self).__init__()\r\n",
        "        \r\n",
        "        self.forget_gate = tf.keras.layers.Dense(\r\n",
        "            units = state_size,\r\n",
        "            activation = 'sigmoid',\r\n",
        "            bias_initializer = 'ones',\r\n",
        "            name = \"Robert\"\r\n",
        "        )\r\n",
        "\r\n",
        "        self.input_gate = tf.keras.layers.Dense(\r\n",
        "            units = state_size,\r\n",
        "            activation = 'sigmoid',\r\n",
        "            name = \"Jürgen\"\r\n",
        "        )\r\n",
        "        \r\n",
        "        self.candid_gate = tf.keras.layers.Dense(\r\n",
        "            units = state_size,\r\n",
        "            activation = 'tanh',\r\n",
        "            name = \"Norbert\"\r\n",
        "        )\r\n",
        "\r\n",
        "        self.output_gate = tf.keras.layers.Dense(\r\n",
        "            units = state_size,\r\n",
        "            activation = 'sigmoid',\r\n",
        "            name = \"Peter\"\r\n",
        "        )\r\n",
        "\r\n",
        "        self.tanh = tf.keras.activations.tanh\r\n",
        "\r\n",
        "    def call(self, input, hidden_state, cell_state):\r\n",
        "        # concat input\r\n",
        "        concat_input = tf.concat([input, hidden_state], 1) # [1,6]\r\n",
        "        # forget layer\r\n",
        "        cell_state *= self.forget_gate(concat_input) # [1,3]\r\n",
        "        # Input Layer\r\n",
        "        update = self.input_gate(concat_input) * self.candid_gate(concat_input)\r\n",
        "        cell_state += update\r\n",
        "        # Output Layer \r\n",
        "        output = self.tanh(cell_state) * self.output_gate(concat_input)\r\n",
        "        return output, cell_state  "
      ],
      "execution_count": 530,
      "outputs": []
    },
    {
      "cell_type": "markdown",
      "metadata": {
        "id": "l0PXKA-NEQTS"
      },
      "source": [
        "LSTM"
      ]
    },
    {
      "cell_type": "code",
      "metadata": {
        "id": "XJ_ByCneELHD"
      },
      "source": [
        "class LSTM(tf.keras.Model):\r\n",
        "    def __init__(self, state_size = 3):\r\n",
        "        super(LSTM, self).__init__()\r\n",
        "\r\n",
        "        self.state_size = 3\r\n",
        "        self.input_layer = tf.keras.layers.Dense(units = state_size)\r\n",
        "        self.lstm_cell = LSTM_cell(state_size)\r\n",
        "        self.output_layer = tf.keras.layers.Dense(units = 1, name = \"Kevin\")\r\n",
        "\r\n",
        "    def call(self, x):\r\n",
        "        cell_state = tf.zeros(self.state_size)\r\n",
        "        hidden_state = tf.zeros((3, 9), dtype = tf.int32)\r\n",
        "        output = []\r\n",
        "        for sequence in x:\r\n",
        "\r\n",
        "            for number in sequence:\r\n",
        "                prediction, cell_state = self.lstm_cell(number, hidden_state, cell_state)\r\n",
        "            \r\n",
        "            prediction = self.output_layer(prediction)\r\n",
        "            prediction = tf.reshape(prediction, (-1))\r\n",
        "            output.append(prediction)\r\n",
        "\r\n",
        "        return output\r\n"
      ],
      "execution_count": 531,
      "outputs": []
    },
    {
      "cell_type": "markdown",
      "metadata": {
        "id": "jlM4qH0pMzca"
      },
      "source": [
        "# Training"
      ]
    },
    {
      "cell_type": "code",
      "metadata": {
        "id": "pWQQSB9zKO4H"
      },
      "source": [
        "from IPython.display import clear_output\r\n",
        "\r\n",
        "def plot_performance(total_epochs, train_loss, test_loss, accuracies, timing):\r\n",
        "    \"\"\"Helper function to plot the models performance inline during and after training\"\"\"\r\n",
        "    clear_output(wait=True) # Clear the previous graph\r\n",
        "    fig, ax = plt.subplots(1,2, figsize=(12,6))\r\n",
        "    # Estimation for remaining time\r\n",
        "    epoch = len(train_loss) - 1\r\n",
        "    remaining_time = (timing[1] - timing[0]) * (total_epochs - epoch)\r\n",
        "    fig.suptitle(f\"Epoch {epoch} / {total_epochs} - Remaining Training Time: {time.strftime('%M:%S', time.gmtime(remaining_time))} min\", fontsize=16)\r\n",
        "\r\n",
        "    ax[0].plot(train_loss)\r\n",
        "    ax[0].plot(test_loss)\r\n",
        "    ax[0].legend([\"training\", \"test\"])\r\n",
        "    ax[0].set(xlabel=\"Training Steps\", ylabel=\"Loss\")\r\n",
        "    ax[1].plot(accuracies)\r\n",
        "    ax[1].set(xlabel=\"Training Steps\", ylabel=\"Accuracy\", title=f\"max accuracy: {max(accuracies)*100:.2f}%\")\r\n",
        "\r\n",
        "    plt.show()"
      ],
      "execution_count": 532,
      "outputs": []
    },
    {
      "cell_type": "code",
      "metadata": {
        "id": "x_PNYoym4sxD"
      },
      "source": [
        "def train_step(model, input, target, loss_function, optimizer):\n",
        "    # loss_object and optimizer_object are instances of respective tensorflow classes\n",
        "    \n",
        "    with tf.GradientTape() as tape:\n",
        "        prediction = model(input)\n",
        "        #print(f\"target: {target.shape} prediction: {prediction}\")\n",
        "        loss = loss_function(target, prediction)\n",
        "        gradients = tape.gradient(loss, model.trainable_variables)\n",
        "    optimizer.apply_gradients(zip(gradients, model.trainable_variables))\n",
        "    return loss \n",
        "\n",
        "def test(model, test_data, loss_function):\n",
        "    # test over complete test data\n",
        "    test_accuracy_aggregator = []\n",
        "    test_loss_aggregator = []\n",
        "    for (input, target) in test_data:\n",
        "        prediction = model(input)\n",
        "        sample_test_loss = loss_function(target, prediction)\n",
        "        sample_test_accuracy =  np.argmax(target, axis=1) == np.argmax(prediction, axis=1)\n",
        "        sample_test_accuracy = np.mean(sample_test_accuracy)\n",
        "        test_loss_aggregator.append(sample_test_loss.numpy())\n",
        "        test_accuracy_aggregator.append(np.mean(sample_test_accuracy))\n",
        "\n",
        "    test_loss = np.mean(test_loss_aggregator)\n",
        "    test_accuracy = np.mean(test_accuracy_aggregator)\n",
        "\n",
        "    return test_loss, test_accuracy"
      ],
      "execution_count": 533,
      "outputs": []
    },
    {
      "cell_type": "code",
      "metadata": {
        "colab": {
          "background_save": true,
          "base_uri": "https://localhost:8080/",
          "height": 468
        },
        "id": "MWhlvOo_Cxvd",
        "outputId": "133d8ca5-0865-42d8-ee37-4777116198b7"
      },
      "source": [
        "import time\n",
        "tf.keras.backend.clear_session()\n",
        "\n",
        "### Hyperparameters\n",
        "num_epochs = 10\n",
        "learning_rate = 0.001\n",
        "running_average_factor = 0.95\n",
        "\n",
        "# Initialize the model.\n",
        "model = LSTM()\n",
        "# Initialize the loss: categorical cross entropy. Check out 'tf.keras.losses'.\n",
        "categorical_entropy_loss = tf.keras.losses.CategoricalCrossentropy()\n",
        "# optimizer\n",
        "optimizer = tf.keras.optimizers.Adam(learning_rate)\n",
        "\n",
        "# Initialize lists for later visualization.\n",
        "train_losses = []\n",
        "test_losses = []\n",
        "test_accuracies = []\n",
        "\n",
        "# We train for num_epochs epochs.\n",
        "for epoch in range(num_epochs):\n",
        "    print('Epoch: __ ' + str(epoch))\n",
        "    #training (and checking in with training)\n",
        "    start = time.perf_counter()\n",
        "    running_average = 0\n",
        "    for (input,target) in dataset:\n",
        "        print(\"|\", end= \"\")\n",
        "        train_loss = train_step(model, input, target, categorical_entropy_loss, optimizer)\n",
        "        running_average = running_average_factor * running_average  + (1 - running_average_factor) * train_loss\n",
        "    train_losses.append(running_average)\n",
        "\n",
        "    #testing\n",
        "    test_loss, test_accuracy = test(model, dataset, categorical_entropy_loss)\n",
        "    test_losses.append(test_loss)\n",
        "    test_accuracies.append(test_accuracy)\n",
        "\n",
        "    end = time.perf_counter()\n",
        "    plot_performance(num_epochs, train_losses, test_losses, test_accuracies, (start, end))"
      ],
      "execution_count": null,
      "outputs": [
        {
          "output_type": "display_data",
          "data": {
            "image/png": "[encoded data removed]",
            "text/plain": [
              "<Figure size 864x432 with 2 Axes>"
            ]
          },
          "metadata": {
            "tags": [],
            "needs_background": "light"
          }
        },
        {
          "output_type": "stream",
          "text": [
            "Epoch: __ 2\n",
            "|||"
          ],
          "name": "stdout"
        }
      ]
    }
  ]
}