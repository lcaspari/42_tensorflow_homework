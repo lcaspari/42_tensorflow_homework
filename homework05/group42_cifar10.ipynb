{
  "nbformat": 4,
  "nbformat_minor": 0,
  "metadata": {
    "colab": {
      "name": "cifar_10_ds.ipynb",
      "provenance": [],
      "collapsed_sections": [],
      "authorship_tag": "ABX9TyOjdFnDF0q6EHBYFA7xNd9Y",
      "include_colab_link": true
    },
    "kernelspec": {
      "name": "python3",
      "display_name": "Python 3"
    }
  },
  "cells": [
    {
      "cell_type": "markdown",
      "metadata": {
        "id": "view-in-github",
        "colab_type": "text"
      },
      "source": [
        "<a href=\"https://colab.research.google.com/github/lcaspari/42_tensorflow_homework/blob/main/group42_cifar10.ipynb\" target=\"_parent\"><img src=\"https://colab.research.google.com/assets/colab-badge.svg\" alt=\"Open In Colab\"/></a>"
      ]
    },
    {
      "cell_type": "code",
      "metadata": {
        "id": "0XZKkT4u2L5I"
      },
      "source": [
        "import numpy as np\n",
        "%tensorflow_version 2.x\n",
        "import tensorflow as tf\n",
        "import matplotlib.pyplot as plt"
      ],
      "execution_count": 211,
      "outputs": []
    },
    {
      "cell_type": "markdown",
      "metadata": {
        "id": "4ed18dNr2UbX"
      },
      "source": [
        "# 1 Data set"
      ]
    },
    {
      "cell_type": "markdown",
      "metadata": {
        "id": "2NnnGQ0g4vAm"
      },
      "source": [
        "Load the dataset"
      ]
    },
    {
      "cell_type": "code",
      "metadata": {
        "id": "3Q9LocTQ2YBo"
      },
      "source": [
        "(train_images, train_labels), (test_images, test_labels) = tf.keras.datasets.cifar10.load_data()"
      ],
      "execution_count": 212,
      "outputs": []
    },
    {
      "cell_type": "markdown",
      "metadata": {
        "id": "DbyrFwIi4xJX"
      },
      "source": [
        "Inspect the dataset"
      ]
    },
    {
      "cell_type": "code",
      "metadata": {
        "colab": {
          "base_uri": "https://localhost:8080/"
        },
        "id": "BIng3vOA4ANq",
        "outputId": "7df87f90-9f10-46bd-f58a-aabd98d59e4b"
      },
      "source": [
        "print(train_images.shape)\n",
        "print(train_labels.shape)\n",
        "print(test_images.shape)\n",
        "print(test_labels.shape)\n",
        "print(np.max(train_images[0]))\n",
        "print(np.min(train_images[0]))"
      ],
      "execution_count": 213,
      "outputs": [
        {
          "output_type": "stream",
          "text": [
            "(50000, 32, 32, 3)\n",
            "(50000, 1)\n",
            "(10000, 32, 32, 3)\n",
            "(10000, 1)\n",
            "255\n",
            "0\n"
          ],
          "name": "stdout"
        }
      ]
    },
    {
      "cell_type": "code",
      "metadata": {
        "colab": {
          "base_uri": "https://localhost:8080/"
        },
        "id": "sweQK0LT48gB",
        "outputId": "d5a94619-3027-4c77-c359-75645880ed50"
      },
      "source": [
        "print(train_labels[:20])"
      ],
      "execution_count": 214,
      "outputs": [
        {
          "output_type": "stream",
          "text": [
            "[[6]\n",
            " [9]\n",
            " [9]\n",
            " [4]\n",
            " [1]\n",
            " [1]\n",
            " [2]\n",
            " [7]\n",
            " [8]\n",
            " [3]\n",
            " [4]\n",
            " [7]\n",
            " [7]\n",
            " [2]\n",
            " [9]\n",
            " [9]\n",
            " [9]\n",
            " [3]\n",
            " [2]\n",
            " [6]]\n"
          ],
          "name": "stdout"
        }
      ]
    },
    {
      "cell_type": "code",
      "metadata": {
        "colab": {
          "base_uri": "https://localhost:8080/",
          "height": 132
        },
        "id": "W8tfwSj25srW",
        "outputId": "d6254636-c06a-469c-c9d2-cc7bfea1e609"
      },
      "source": [
        "fig, ax = plt.subplots(1,10)\n",
        "for i in range(10):\n",
        "\n",
        "    # Readout an image and the corresponding label.\n",
        "    img = train_images[i]\n",
        "    lbl = train_labels[i]\n",
        "\n",
        "    ax[i].imshow(img, cmap='gray')\n",
        "    ax[i].set_title(lbl)\n",
        "    ax[i].axis(\"off\")"
      ],
      "execution_count": 215,
      "outputs": [
        {
          "output_type": "stream",
          "text": [
            "/usr/local/lib/python3.6/dist-packages/matplotlib/text.py:1165: FutureWarning: elementwise comparison failed; returning scalar instead, but in the future will perform elementwise comparison\n",
            "  if s != self._text:\n"
          ],
          "name": "stderr"
        },
        {
          "output_type": "display_data",
          "data": {
            "image/png": "[encoded data removed]",
            "text/plain": [
              "<Figure size 432x288 with 10 Axes>"
            ]
          },
          "metadata": {
            "tags": [],
            "needs_background": "light"
          }
        }
      ]
    },
    {
      "cell_type": "code",
      "metadata": {
        "id": "ZCm3OeU95wDM"
      },
      "source": [
        "train_dataset_images = tf.data.Dataset.from_tensor_slices(train_images)\n",
        "train_dataset_images = train_dataset_images.map(lambda img : tf.cast(img, tf.float32))\n",
        "\n",
        "train_dataset_targets = tf.data.Dataset.from_tensor_slices(train_labels)\n",
        "# get the value out of the array: [x] -> x\n",
        "train_dataset_targets = train_dataset_targets.map(lambda t: tf.reshape(t, []))\n",
        "train_dataset_targets = train_dataset_targets.map(lambda t : tf.one_hot(t, 10))\n",
        "\n",
        "# center around zero\n",
        "train_dataset_images_centered = train_dataset_images.map(lambda img : tf.cast(2*(img/255)-1, tf.float32))\n",
        "\n",
        "# zip together input and labels\n",
        "train_dataset_centered = tf.data.Dataset.zip((train_dataset_images_centered, train_dataset_targets))\n",
        "train_dataset_centered = train_dataset_centered.shuffle(buffer_size = 128)\n",
        "train_dataset_centered = train_dataset_centered.batch(128)\n",
        "train_dataset_centered = train_dataset_centered.prefetch(tf.data.experimental.AUTOTUNE)\n",
        "\n",
        "# Same for test dataset\n",
        "test_dataset_images = tf.data.Dataset.from_tensor_slices(test_images)\n",
        "test_dataset_targets = tf.data.Dataset.from_tensor_slices(test_labels)\n",
        "test_dataset_targets = test_dataset_targets.map(lambda t: tf.reshape(t, []))\n",
        "test_dataset_targets = test_dataset_targets.map(lambda t : tf.one_hot(t, 10))\n",
        "test_dataset = tf.data.Dataset.zip((test_dataset_images, test_dataset_targets))\n",
        "test_dataset_images_centered = test_dataset_images.map(lambda img : tf.cast(2*(img/255)-1, tf.float32))\n",
        "test_dataset_centered = tf.data.Dataset.zip((test_dataset_images_centered, test_dataset_targets))\n",
        "test_dataset_centered = test_dataset_centered.shuffle(buffer_size = 128)\n",
        "test_dataset_centered = test_dataset_centered.batch(128)\n",
        "test_dataset_centered = test_dataset_centered.prefetch(tf.data.experimental.AUTOTUNE)"
      ],
      "execution_count": 216,
      "outputs": []
    },
    {
      "cell_type": "markdown",
      "metadata": {
        "id": "uEKsA6eqtJmm"
      },
      "source": [
        "# 2 Model"
      ]
    },
    {
      "cell_type": "code",
      "metadata": {
        "id": "8O7jvxRBtIip"
      },
      "source": [
        "from tensorflow.keras import Model\n",
        "from tensorflow.keras.layers import Layer\n",
        "import tensorflow.keras as keras\n",
        "\n",
        "class Model(Model):\n",
        "    def __init__(self):\n",
        "        super(Model, self).__init__()\n",
        "        self.activation = keras.layers.LeakyReLU()\n",
        "        self.batch_norm = keras.layers.BatchNormalization()\n",
        "        # first convolutional block\n",
        "        self.conv_1 = keras.layers.Conv2D(\n",
        "            filters = 32,\n",
        "            kernel_size = 3,\n",
        "            input_shape = (32, 32, 3)\n",
        "        )\n",
        "        # second convolutional block\n",
        "        self.conv_2 = keras.layers.Conv2D(\n",
        "            64, (3,3)\n",
        "        )\n",
        "        self.max_pool = keras.layers.MaxPooling2D((2,2))\n",
        "        # third convolutional layer\n",
        "        self.conv_3 = keras.layers.Conv2D(\n",
        "            128, (3,3),\n",
        "            kernel_regularizer = tf.keras.regularizers.l2(0.01)\n",
        "        )\n",
        "        # forth convolutional block\n",
        "        self.conv_4 = keras.layers.Conv2D(\n",
        "            64, (3,3)\n",
        "        )\n",
        "\n",
        "        # classifier head\n",
        "        self.flatten = keras.layers.Flatten()\n",
        "        self.output_1 = keras.layers.Dense(units = 32, activation = \"relu\")\n",
        "        self.output_2 = keras.layers.Dense(units = 10, activation = \"softmax\")\n",
        "\n",
        "    def call(self, x):\n",
        "        x = self.conv_1(x)\n",
        "        x = self.activation(x)\n",
        "        x = self.conv_2(x)\n",
        "        x = self.activation(x)\n",
        "        x = self.batch_norm(x)\n",
        "        x = self.max_pool(x)\n",
        "        x = self.conv_3(x)\n",
        "        x = self.activation(x)\n",
        "        x = self.conv_4(x)\n",
        "        x = self.activation(x)\n",
        "        x = self.batch_norm(x)\n",
        "        x = self.flatten(x)\n",
        "        x = self.output_1(x)\n",
        "        x = self.output_2(x)\n",
        "        return x"
      ],
      "execution_count": 217,
      "outputs": []
    },
    {
      "cell_type": "markdown",
      "metadata": {
        "id": "meBL-jEqyVrl"
      },
      "source": [
        "# 3 Training"
      ]
    },
    {
      "cell_type": "code",
      "metadata": {
        "id": "RJeG1DgUjspc"
      },
      "source": [
        "def acc_metric(target,output):\n",
        "    # how many items in pred and target are same (first cast output from float tensor to int --> rounding)\n",
        "    acc = np.argmax(target, axis=1) == np.argmax(output, axis=1)\n",
        "    acc = np.mean(acc)    \n",
        "    return acc\n",
        "\n",
        "def train_step(model, input, target, loss_function, optimizer):\n",
        "  # loss_object and optimizer_object are instances of respective tensorflow classes\n",
        "  with tf.GradientTape() as tape:\n",
        "    prediction = model(input)    \n",
        "    loss = loss_function(target, prediction) + tf.reduce_sum(model.losses)\n",
        "    gradients = tape.gradient(loss, model.trainable_variables)\n",
        "  optimizer.apply_gradients(zip(gradients, model.trainable_variables))\n",
        "  return loss \n",
        "\n",
        "def test(model, test_data, loss_function):\n",
        "  # test over complete test data\n",
        "\n",
        "  test_accuracy_aggregator = []\n",
        "  test_loss_aggregator = []\n",
        "\n",
        "  for (input, target) in test_data:\n",
        "    prediction = model(input)\n",
        "    sample_test_loss = loss_function(target, prediction)\n",
        "    sample_test_accuracy =  acc_metric(target, prediction)\n",
        "\n",
        "    test_loss_aggregator.append(sample_test_loss.numpy())\n",
        "    test_accuracy_aggregator.append(sample_test_accuracy)\n",
        "\n",
        "  test_loss = np.mean(test_loss_aggregator)\n",
        "  test_accuracy = np.mean(test_accuracy_aggregator)\n",
        "\n",
        "  return test_loss, test_accuracy"
      ],
      "execution_count": 218,
      "outputs": []
    },
    {
      "cell_type": "code",
      "metadata": {
        "id": "24Uzuo-oyUtN",
        "colab": {
          "base_uri": "https://localhost:8080/"
        },
        "outputId": "30ecb1ab-91e0-40b1-f1e0-08475ecc8035"
      },
      "source": [
        "tf.keras.backend.clear_session()\n",
        "\n",
        "### Hyperparameters\n",
        "num_epochs = 10\n",
        "learning_rate = 0.001\n",
        "running_average_factor = 0.95\n",
        "\n",
        "# Initialize the model.\n",
        "model = Model()\n",
        "# Initialize the loss: categorical cross entropy. Check out 'tf.keras.losses'.\n",
        "cross_entropy_loss = tf.keras.losses.CategoricalCrossentropy(reduction=tf.keras.losses.Reduction.SUM_OVER_BATCH_SIZE)\n",
        "# Initialize the optimizer: SGD with default parameters. Check out 'tf.keras.optimizers'\n",
        "optimizer = tf.keras.optimizers.Adam(learning_rate)\n",
        "\n",
        "# Initialize lists for later visualization.\n",
        "train_losses = []\n",
        "test_losses = []\n",
        "test_accuracies = []\n",
        "\n",
        "# We train for num_epochs epochs.\n",
        "for epoch in range(num_epochs):\n",
        "    print('Epoch: ' + str(epoch), end = \" \")\n",
        "\n",
        "    train_dataset_centered = train_dataset_centered.shuffle(buffer_size=128)\n",
        "    test_dataset_centered = test_dataset_centered.shuffle(buffer_size=128)\n",
        "\n",
        "    #training (and checking in with training)\n",
        "    average = []\n",
        "    length_ds = len(train_dataset_centered)\n",
        "    for i,(input,target) in enumerate(train_dataset_centered):\n",
        "        if i % 8 == 0: print(\"|\", end = \"\")\n",
        "        train_loss = train_step(model, input, target, cross_entropy_loss, optimizer) + tf.reduce_sum(model.losses)\n",
        "        average.append(train_loss)\n",
        "        \n",
        "    train_losses.append(np.mean(average))\n",
        "    \n",
        "    #testing\n",
        "    test_loss, test_accuracy = test(model, test_dataset_centered, cross_entropy_loss)\n",
        "    test_losses.append(test_loss)\n",
        "    test_accuracies.append(test_accuracy)\n",
        "    print(' Test Accuracy: ', test_accuracy)\n"
      ],
      "execution_count": 219,
      "outputs": [
        {
          "output_type": "stream",
          "text": [
            "Epoch: 0 ||||||||||||||||||||||||||||||||||||||||||||||||| Test Accuracy:  0.5925632911392406\n",
            "Epoch: 1 ||||||||||||||||||||||||||||||||||||||||||||||||| Test Accuracy:  0.6661392405063291\n",
            "Epoch: 2 ||||||||||||||||||||||||||||||||||||||||||||||||| Test Accuracy:  0.6889833860759493\n",
            "Epoch: 3 ||||||||||||||||||||||||||||||||||||||||||||||||| Test Accuracy:  0.7131131329113924\n",
            "Epoch: 4 ||||||||||||||||||||||||||||||||||||||||||||||||| Test Accuracy:  0.719442246835443\n",
            "Epoch: 5 ||||||||||||||||||||||||||||||||||||||||||||||||| Test Accuracy:  0.7281447784810127\n",
            "Epoch: 6 ||||||||||||||||||||||||||||||||||||||||||||||||| Test Accuracy:  0.734375\n",
            "Epoch: 7 ||||||||||||||||||||||||||||||||||||||||||||||||| Test Accuracy:  0.7293314873417721\n",
            "Epoch: 8 ||||||||||||||||||||||||||||||||||||||||||||||||| Test Accuracy:  0.7373417721518988\n",
            "Epoch: 9 ||||||||||||||||||||||||||||||||||||||||||||||||| Test Accuracy:  0.7411985759493671\n",
            "Epoch: 10 ||||||||||||||||||||||||||||||||||||||||||||||||| Test Accuracy:  0.7474287974683544\n",
            "Epoch: 11 ||||||||||||||||||||||||||||||||||||||||||||||||| Test Accuracy:  0.7480221518987342\n",
            "Epoch: 12 ||||||||||||||||||||||||||||||||||||||||||||||||| Test Accuracy:  0.745253164556962\n",
            "Epoch: 13 ||||||||||||||||||||||||||||||||||||||||||||||||| Test Accuracy:  0.7434731012658228\n",
            "Epoch: 14 ||||||||||||||||||||||||||||||||||||||||||||||||| Test Accuracy:  0.7478243670886076\n",
            "Epoch: 15 ||||||||||||||||||||||||||||||||||||||||||||||||| Test Accuracy:  0.7399129746835443\n",
            "Epoch: 16 ||||||||||||||||||||||||||||||||||||||||||||||||| Test Accuracy:  0.7467365506329114\n",
            "Epoch: 17 ||||||||||||||||||||||||||||||||||||||||||||||||| Test Accuracy:  0.7485166139240507\n",
            "Epoch: 18 ||||||||||||||||||||||||||||||||||||||||||||||||| Test Accuracy:  0.7473299050632911\n",
            "Epoch: 19 ||||||||||||||||||||||||||||||||||||||||||||||||| Test Accuracy:  0.7433742088607594\n"
          ],
          "name": "stdout"
        }
      ]
    },
    {
      "cell_type": "markdown",
      "metadata": {
        "id": "AyJHGwPXyskc"
      },
      "source": [
        "# 4 Visualization"
      ]
    },
    {
      "cell_type": "code",
      "metadata": {
        "id": "_gg-Xtdgywdg",
        "colab": {
          "base_uri": "https://localhost:8080/",
          "height": 557
        },
        "outputId": "ad14d4c1-93bd-4dc9-d2a3-174ab139615b"
      },
      "source": [
        "# Visualize accuracy and loss for training and test data. \n",
        "# One plot training and test loss.\n",
        "# One plot training and test accuracy.\n",
        "plt.figure()\n",
        "line1, = plt.plot(train_losses)\n",
        "line2, = plt.plot(test_losses)\n",
        "plt.xlabel(\"Epochs\")\n",
        "plt.ylabel(\"Loss\")\n",
        "plt.legend((line1,line2),(\"training\",\"test\"))\n",
        "plt.show()\n",
        "\n",
        "plt.figure()\n",
        "line1, = plt.plot(test_accuracies)\n",
        "plt.xlabel(\"Epochs\")\n",
        "plt.ylabel(\"Accuracy\")\n",
        "plt.title(\"Accuracy: \" + str(test_accuracies[-1]))\n",
        "plt.show()"
      ],
      "execution_count": 220,
      "outputs": [
        {
          "output_type": "display_data",
          "data": {
            "image/png": "[encoded data removed]",
            "text/plain": [
              "<Figure size 432x288 with 1 Axes>"
            ]
          },
          "metadata": {
            "tags": [],
            "needs_background": "light"
          }
        },
        {
          "output_type": "display_data",
          "data": {
            "image/png": "[encoded data removed]",
            "text/plain": [
              "<Figure size 432x288 with 1 Axes>"
            ]
          },
          "metadata": {
            "tags": [],
            "needs_background": "light"
          }
        }
      ]
    }
  ]
}