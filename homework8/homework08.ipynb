{
  "nbformat": 4,
  "nbformat_minor": 0,
  "metadata": {
    "colab": {
      "name": "homework08.ipynb",
      "provenance": [],
      "collapsed_sections": [],
      "include_colab_link": true
    },
    "kernelspec": {
      "name": "python3",
      "display_name": "Python 3"
    }
  },
  "cells": [
    {
      "cell_type": "markdown",
      "metadata": {
        "id": "view-in-github",
        "colab_type": "text"
      },
      "source": [
        "<a href=\"https://colab.research.google.com/github/lcaspari/42_tensorflow_homework/blob/Melih/homework8/homework08.ipynb\" target=\"_parent\"><img src=\"https://colab.research.google.com/assets/colab-badge.svg\" alt=\"Open In Colab\"/></a>"
      ]
    },
    {
      "cell_type": "code",
      "metadata": {
        "id": "Kmy_b2brRSjO"
      },
      "source": [
        "import tensorflow as tf\r\n",
        "import tensorflow_datasets as tfds\r\n",
        "import glob\r\n",
        "import imageio\r\n",
        "import matplotlib.pyplot as plt\r\n",
        "import numpy as np\r\n",
        "import os\r\n",
        "import PIL\r\n",
        "from tensorflow.keras import layers\r\n",
        "import time\r\n",
        "from tensorflow.keras.layers import Dense, Conv2DTranspose, MaxPool2D, BatchNormalization, Activation, Reshape, LeakyReLU, Dropout, Flatten\r\n",
        "from IPython import display"
      ],
      "execution_count": null,
      "outputs": []
    },
    {
      "cell_type": "code",
      "metadata": {
        "colab": {
          "base_uri": "https://localhost:8080/"
        },
        "id": "t0vTwOemRZ3e",
        "outputId": "15c1a40e-4d8f-4b5c-d811-b9ae98c79739"
      },
      "source": [
        "(train_images, train_labels), (_ , _ ) = tf.keras.datasets.fashion_mnist.load_data()\r\n",
        "\r\n",
        "# preprocessing steps\r\n",
        "\r\n",
        "train_images = train_images.reshape(train_images.shape[0], 28, 28, 1).astype('float32')\r\n",
        "# Normalize the images to [-1, 1]\r\n",
        "train_images = (train_images - 127.5) / 127.5 \r\n",
        "\r\n",
        "BUFFER_SIZE = 60000\r\n",
        "BATCH_SIZE = 34\r\n",
        "\r\n",
        "# Batch and shuffle the data\r\n",
        "train_dataset = tf.data.Dataset.from_tensor_slices(train_images).shuffle(BUFFER_SIZE).batch(BATCH_SIZE)\r\n",
        "\r\n",
        "print(train_images.shape, train_labels.shape)\r\n"
      ],
      "execution_count": null,
      "outputs": [
        {
          "output_type": "stream",
          "text": [
            "(60000, 28, 28, 1) (60000,)\n"
          ],
          "name": "stdout"
        }
      ]
    },
    {
      "cell_type": "code",
      "metadata": {
        "id": "krm3Kp8FiRgU"
      },
      "source": [
        "# Model --> GAN \r\n",
        "\r\n",
        "class Generator(tf.keras.Model):\r\n",
        "  def __init__(self): \r\n",
        "\r\n",
        "    super(Generator, self).__init__()\r\n",
        "    \"\"\" Conv2DTranspose is used to generate a new picture. Upsampling until the goal image size is reached.\"\"\" \r\n",
        "\r\n",
        "    # first layer \r\n",
        "    self.GeneratorLayers = [Dense(7*7*256, use_bias=False, input_shape=(100,)),\r\n",
        "                BatchNormalization(),\r\n",
        "                LeakyReLU()]\r\n",
        "\r\n",
        "\r\n",
        "    self.reshape_1 = Reshape(target_shape=(7,7,256))\r\n",
        "\r\n",
        "    # second layer\r\n",
        "    self.layer_1 = [Conv2DTranspose(128, (5,5), strides=(1,1), padding='same', use_bias=False),\r\n",
        "               BatchNormalization(),\r\n",
        "               LeakyReLU()] \r\n",
        "    # third layer\r\n",
        "    self.layer_2 = [Conv2DTranspose(64, (5,5), strides=(2,2), padding='same', use_bias=False),\r\n",
        "                    BatchNormalization(),\r\n",
        "                    LeakyReLU()]\r\n",
        "    self.Conv2DTranspose = Conv2DTranspose(1, (5, 5), strides=(2, 2), padding='same', use_bias=False, activation='tanh')\r\n",
        "\r\n",
        "    self.GeneratorLayers.append(self.reshape_1)\r\n",
        "    self.GeneratorLayers.extend(self.layer_1)\r\n",
        "    self.GeneratorLayers.extend(self.layer_2)\r\n",
        "    self.GeneratorLayers.append(self.Conv2DTranspose)\r\n",
        "\r\n",
        "  @tf.function    \r\n",
        "  def call(self, x, training = True):\r\n",
        "    \"\"\"Activate our model propagating the input through the network layer by layer\r\n",
        "\r\n",
        "    Arguments:\r\n",
        "      x (Tensor): Tensor containing the input to our network\r\n",
        "      training (Boolean): Indicates whether regularization methods should be used or not when calling the model \r\n",
        "\r\n",
        "    Returns:\r\n",
        "      x (Tensor): Tensor containing the probabilities for the ten classes\r\n",
        "    \"\"\"\r\n",
        "\r\n",
        "    for layer in self.GeneratorLayers:\r\n",
        "      x = layer(x, training = training)\r\n",
        "    \r\n",
        "    return x\r\n",
        "\r\n",
        "\r\n"
      ],
      "execution_count": null,
      "outputs": []
    },
    {
      "cell_type": "code",
      "metadata": {
        "colab": {
          "base_uri": "https://localhost:8080/",
          "height": 284
        },
        "id": "9eV0-LaCtNSt",
        "outputId": "75f6784a-7e35-4708-b1f3-911152628485"
      },
      "source": [
        "# generating a picture --> testing Generator\r\n",
        "generator = Generator()\r\n",
        "\r\n",
        "noise = tf.random.normal([1, 100])\r\n",
        "generated_image = generator(noise, training=False)\r\n",
        "\r\n",
        "plt.imshow(generated_image[0, :, :, 0], cmap='gray')\r\n"
      ],
      "execution_count": null,
      "outputs": [
        {
          "output_type": "execute_result",
          "data": {
            "text/plain": [
              "<matplotlib.image.AxesImage at 0x7f85b5677588>"
            ]
          },
          "metadata": {
            "tags": []
          },
          "execution_count": 164
        },
        {
          "output_type": "display_data",
          "data": {
            "image/png": "[encoded data removed]",
            "text/plain": [
              "<Figure size 432x288 with 1 Axes>"
            ]
          },
          "metadata": {
            "tags": [],
            "needs_background": "light"
          }
        }
      ]
    },
    {
      "cell_type": "code",
      "metadata": {
        "id": "BTrP_3Jwsv5v"
      },
      "source": [
        "class Discriminator(tf.keras.Model):\r\n",
        "  def __init__(self): \r\n",
        "    \"\"\" CNN based picture classifier\"\"\"\r\n",
        "    super(Discriminator, self).__init__()\r\n",
        "\r\n",
        "    self.Discriminator_layers = [Conv2D(64, (5, 5), strides=(2, 2), padding='same', input_shape=[28, 28, 1]),\r\n",
        "                    LeakyReLU(),\r\n",
        "                    Dropout(0.3)]\r\n",
        "\r\n",
        "    self.layer_1 = [Conv2D(128, (5, 5), strides=(2, 2), padding='same'),\r\n",
        "                    LeakyReLU(),\r\n",
        "                    Dropout(0.3)]\r\n",
        "\r\n",
        "\r\n",
        "    self.layer_2 = [Flatten(), Dense(1)] \r\n",
        "\r\n",
        "    self.Discriminator_layers.extend(self.layer_1)\r\n",
        "    self.Discriminator_layers.extend(self.layer_2)\r\n",
        "\r\n",
        "  @tf.function    \r\n",
        "  def call(self, x, training = True):\r\n",
        "    \"\"\"Activate our model propagating the input through the network layer by layer\r\n",
        "\r\n",
        "    Arguments:\r\n",
        "      x (Tensor): Tensor containing the input to our network\r\n",
        "      training (Boolean): Indicates whether regularization methods should be used or not when calling the model \r\n",
        "\r\n",
        "    Returns:\r\n",
        "      x (Tensor): Tensor containing the probabilities for the ten classes\r\n",
        "    \"\"\"\r\n",
        "\r\n",
        "    for layer in self.Discriminator_layers:\r\n",
        "      x = layer(x, training = training)\r\n",
        "    return x\r\n",
        "\r\n"
      ],
      "execution_count": null,
      "outputs": []
    },
    {
      "cell_type": "code",
      "metadata": {
        "colab": {
          "base_uri": "https://localhost:8080/"
        },
        "id": "fN-kvy_-0GjD",
        "outputId": "58c0f6de-6714-4924-ae2a-bbb900192684"
      },
      "source": [
        "# Using unteached Discriminator to decide wheter generated image is real or not\r\n",
        "# pos numbers == real / negative numbers == fake\r\n",
        "\r\n",
        "discriminator = Discriminator()\r\n",
        "decision = discriminator(generated_image)\r\n",
        "print (decision)\r\n"
      ],
      "execution_count": null,
      "outputs": [
        {
          "output_type": "stream",
          "text": [
            "tf.Tensor([[-0.00048007]], shape=(1, 1), dtype=float32)\n"
          ],
          "name": "stdout"
        }
      ]
    },
    {
      "cell_type": "code",
      "metadata": {
        "id": "c5GneZsCn30A"
      },
      "source": [
        "# Computing loss \r\n",
        "\r\n",
        "# This method returns a helper function to compute cross entropy loss\r\n",
        "binary_cross_entropy = tf.keras.losses.BinaryCrossentropy(from_logits=True)\r\n",
        "\r\n",
        "# determine optimizer\r\n",
        "generator_optimizer = tf.keras.optimizers.Adam(1e-4)\r\n",
        "discriminator_optimizer = tf.keras.optimizers.Adam(1e-4)\r\n",
        "\r\n",
        "\r\n",
        "def generator_loss(d_pred): \r\n",
        "  \"\"\"\r\n",
        "  d_pred: discriminator's prediction  of the image generated by the generator  \r\n",
        "  take cross entropy between predicted label and all labels as 1s\r\n",
        "  because we want to minimize the difference between them\r\n",
        "  --> the more the discriminator thinks the images are real, the better our generator\r\n",
        "  \"\"\"\r\n",
        "  return binary_cross_entropy(tf.ones_like(d_pred), d_pred) # tf.ones_like(d_pred) is same as tf.ones(d_pred.shape)\r\n",
        "\r\n",
        "\r\n",
        "def discriminator_loss(real_output, fake_output):\r\n",
        "  \"\"\"\r\n",
        "  real_output: labels that discriminator predicted when seeing real images (should ideally be all 1s)\r\n",
        "  fake_output: labels that discriminator predicted when seeing fake images (should ideally be all 0s)\r\n",
        "  \"\"\"\r\n",
        "  real_loss = binary_cross_entropy(tf.ones(real_output.shape), real_output)\r\n",
        "  fake_loss = binary_cross_entropy(tf.zeros(fake_output.shape), fake_output)\r\n",
        "\r\n",
        "  return real_loss + fake_loss\r\n"
      ],
      "execution_count": null,
      "outputs": []
    },
    {
      "cell_type": "code",
      "metadata": {
        "id": "XGlpMHndn37l"
      },
      "source": [
        "# pseudocode trainingstep GAN\r\n",
        "\r\n",
        "# def training step(generator, discriminator, real_images):\r\n",
        "\r\n",
        "  # create noise\r\n",
        "  # feed into generator\r\n",
        "\r\n",
        "  # feed real images into discriminator, get the predictions\r\n",
        "  # feed fake images into discriminator, get the predictions\r\n",
        "  \r\n",
        "  # calculate discr loss \r\n",
        "  # apply the gradients\r\n",
        "\r\n",
        "  # calc gen loss\r\n",
        "  # apply gradients \r\n",
        "\r\n",
        "  # return both losses"
      ],
      "execution_count": null,
      "outputs": []
    },
    {
      "cell_type": "markdown",
      "metadata": {
        "id": "i1bNRtN64NEt"
      },
      "source": [
        "\r\n",
        "# **Training**"
      ]
    },
    {
      "cell_type": "code",
      "metadata": {
        "id": "5SZrluqF36ZY"
      },
      "source": [
        "EPOCHS = 10\r\n",
        "noise_dim = 100\r\n",
        "num_examples_to_generate = 16\r\n",
        "\r\n",
        "# We will reuse this seed overtime (so it's easier)\r\n",
        "# to visualize progress in the animated GIF)\r\n",
        "seed = tf.random.normal([num_examples_to_generate, noise_dim])\r\n",
        "\r\n",
        "\r\n",
        "@tf.function\r\n",
        "def train_step(images):\r\n",
        "    noise = tf.random.normal([BATCH_SIZE, noise_dim])\r\n",
        "\r\n",
        "    with tf.GradientTape() as gen_tape, tf.GradientTape() as disc_tape:\r\n",
        "      generated_images = generator(noise, training=True)\r\n",
        "\r\n",
        "      real_output = discriminator(images, training=True)\r\n",
        "      fake_output = discriminator(generated_images, training=True)\r\n",
        "\r\n",
        "      gen_loss = generator_loss(fake_output)\r\n",
        "      disc_loss = discriminator_loss(real_output, fake_output)\r\n",
        "\r\n",
        "    gradients_of_generator = gen_tape.gradient(gen_loss, generator.trainable_variables)\r\n",
        "    gradients_of_discriminator = disc_tape.gradient(disc_loss, discriminator.trainable_variables)\r\n",
        "\r\n",
        "    generator_optimizer.apply_gradients(zip(gradients_of_generator, generator.trainable_variables))\r\n",
        "    discriminator_optimizer.apply_gradients(zip(gradients_of_discriminator, discriminator.trainable_variables))\r\n",
        "\r\n",
        "\r\n",
        "\r\n",
        "def train(dataset, epochs):\r\n",
        "  for epoch in range(epochs):\r\n",
        "    start = time.time()\r\n",
        "\r\n",
        "    for image_batch in dataset:\r\n",
        "      train_step(image_batch)\r\n",
        "\r\n",
        "    # Produce images for the GIF as we go\r\n",
        "    display.clear_output(wait=True)\r\n",
        "    generate_and_save_images(generator,\r\n",
        "                             epoch + 1,\r\n",
        "                             seed)\r\n",
        "\r\n",
        "    # Save the model every 15 epochs\r\n",
        "    if (epoch + 1) % 15 == 0:\r\n",
        "      checkpoint.save(file_prefix = checkpoint_prefix)\r\n",
        "\r\n",
        "    print ('Time for epoch {} is {} sec'.format(epoch + 1, time.time()-start))\r\n",
        "\r\n",
        "  # Generate after the final epoch\r\n",
        "  display.clear_output(wait=True)\r\n",
        "  generate_and_save_images(generator,\r\n",
        "                           epochs,\r\n",
        "                           seed)\r\n",
        "  \r\n",
        "\r\n",
        "def generate_and_save_images(model, epoch, test_input):\r\n",
        "  # Notice `training` is set to False.\r\n",
        "  # This is so all layers run in inference mode (batchnorm).\r\n",
        "  predictions = model(test_input, training=False)\r\n",
        "\r\n",
        "  fig = plt.figure(figsize=(4,4))\r\n",
        "\r\n",
        "  for i in range(predictions.shape[0]):\r\n",
        "      plt.subplot(4, 4, i+1)\r\n",
        "      plt.imshow(predictions[i, :, :, 0] * 127.5 + 127.5, cmap='gray')\r\n",
        "      plt.axis('off')\r\n",
        "\r\n",
        "  plt.savefig('image_at_epoch_{:04d}.png'.format(epoch))\r\n",
        "  plt.show()\r\n",
        " \r\n"
      ],
      "execution_count": null,
      "outputs": []
    },
    {
      "cell_type": "code",
      "metadata": {
        "colab": {
          "base_uri": "https://localhost:8080/",
          "height": 248
        },
        "id": "ecBB_6LK5Gw6",
        "outputId": "769866c7-ab05-4e21-8876-0d29d8af841a"
      },
      "source": [
        "train(train_dataset, EPOCHS)\r\n"
      ],
      "execution_count": null,
      "outputs": [
        {
          "output_type": "display_data",
          "data": {
            "image/png": "[encoded data removed]",
            "text/plain": [
              "<Figure size 288x288 with 16 Axes>"
            ]
          },
          "metadata": {
            "tags": [],
            "needs_background": "light"
          }
        }
      ]
    }
  ]
}