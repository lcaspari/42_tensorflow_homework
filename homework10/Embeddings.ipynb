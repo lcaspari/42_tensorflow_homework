{
  "nbformat": 4,
  "nbformat_minor": 0,
  "metadata": {
    "colab": {
      "name": "tinyUni",
      "provenance": [],
      "collapsed_sections": [],
      "include_colab_link": true
    },
    "kernelspec": {
      "name": "python3",
      "display_name": "Python 3"
    },
    "widgets": {
      "application/vnd.jupyter.widget-state+json": {
        "e69ff3f9167b4ae7b1b4b818e47b886b": {
          "model_module": "@jupyter-widgets/controls",
          "model_name": "HBoxModel",
          "state": {
            "_view_name": "HBoxView",
            "_dom_classes": [],
            "_model_name": "HBoxModel",
            "_view_module": "@jupyter-widgets/controls",
            "_model_module_version": "1.5.0",
            "_view_count": null,
            "_view_module_version": "1.5.0",
            "box_style": "",
            "layout": "IPY_MODEL_2d25527e23114c6eba272be4afb38b98",
            "_model_module": "@jupyter-widgets/controls",
            "children": [
              "IPY_MODEL_393cf14e102648b2b183b2ffd4779e11",
              "IPY_MODEL_a3694edcbf734ff9ad7f3ca7d0a7e447"
            ]
          }
        },
        "2d25527e23114c6eba272be4afb38b98": {
          "model_module": "@jupyter-widgets/base",
          "model_name": "LayoutModel",
          "state": {
            "_view_name": "LayoutView",
            "grid_template_rows": null,
            "right": null,
            "justify_content": null,
            "_view_module": "@jupyter-widgets/base",
            "overflow": null,
            "_model_module_version": "1.2.0",
            "_view_count": null,
            "flex_flow": null,
            "width": null,
            "min_width": null,
            "border": null,
            "align_items": null,
            "bottom": null,
            "_model_module": "@jupyter-widgets/base",
            "top": null,
            "grid_column": null,
            "overflow_y": null,
            "overflow_x": null,
            "grid_auto_flow": null,
            "grid_area": null,
            "grid_template_columns": null,
            "flex": null,
            "_model_name": "LayoutModel",
            "justify_items": null,
            "grid_row": null,
            "max_height": null,
            "align_content": null,
            "visibility": null,
            "align_self": null,
            "height": null,
            "min_height": null,
            "padding": null,
            "grid_auto_rows": null,
            "grid_gap": null,
            "max_width": null,
            "order": null,
            "_view_module_version": "1.2.0",
            "grid_template_areas": null,
            "object_position": null,
            "object_fit": null,
            "grid_auto_columns": null,
            "margin": null,
            "display": null,
            "left": null
          }
        },
        "393cf14e102648b2b183b2ffd4779e11": {
          "model_module": "@jupyter-widgets/controls",
          "model_name": "FloatProgressModel",
          "state": {
            "_view_name": "ProgressView",
            "style": "IPY_MODEL_7435639107a44f42b43b469ce25c4624",
            "_dom_classes": [],
            "description": "Dl Completed...: 100%",
            "_model_name": "FloatProgressModel",
            "bar_style": "success",
            "max": 1,
            "_view_module": "@jupyter-widgets/controls",
            "_model_module_version": "1.5.0",
            "value": 1,
            "_view_count": null,
            "_view_module_version": "1.5.0",
            "orientation": "horizontal",
            "min": 0,
            "description_tooltip": null,
            "_model_module": "@jupyter-widgets/controls",
            "layout": "IPY_MODEL_c5a24c59cedc4bad91a9cac0d17efc1c"
          }
        },
        "a3694edcbf734ff9ad7f3ca7d0a7e447": {
          "model_module": "@jupyter-widgets/controls",
          "model_name": "HTMLModel",
          "state": {
            "_view_name": "HTMLView",
            "style": "IPY_MODEL_972fd2134a23412bb38e10211448d844",
            "_dom_classes": [],
            "description": "",
            "_model_name": "HTMLModel",
            "placeholder": "​",
            "_view_module": "@jupyter-widgets/controls",
            "_model_module_version": "1.5.0",
            "value": " 1/1 [00:00&lt;00:00,  2.07 url/s]",
            "_view_count": null,
            "_view_module_version": "1.5.0",
            "description_tooltip": null,
            "_model_module": "@jupyter-widgets/controls",
            "layout": "IPY_MODEL_81b47ea906f64cbe837e3af1685b2f18"
          }
        },
        "7435639107a44f42b43b469ce25c4624": {
          "model_module": "@jupyter-widgets/controls",
          "model_name": "ProgressStyleModel",
          "state": {
            "_view_name": "StyleView",
            "_model_name": "ProgressStyleModel",
            "description_width": "initial",
            "_view_module": "@jupyter-widgets/base",
            "_model_module_version": "1.5.0",
            "_view_count": null,
            "_view_module_version": "1.2.0",
            "bar_color": null,
            "_model_module": "@jupyter-widgets/controls"
          }
        },
        "c5a24c59cedc4bad91a9cac0d17efc1c": {
          "model_module": "@jupyter-widgets/base",
          "model_name": "LayoutModel",
          "state": {
            "_view_name": "LayoutView",
            "grid_template_rows": null,
            "right": null,
            "justify_content": null,
            "_view_module": "@jupyter-widgets/base",
            "overflow": null,
            "_model_module_version": "1.2.0",
            "_view_count": null,
            "flex_flow": null,
            "width": null,
            "min_width": null,
            "border": null,
            "align_items": null,
            "bottom": null,
            "_model_module": "@jupyter-widgets/base",
            "top": null,
            "grid_column": null,
            "overflow_y": null,
            "overflow_x": null,
            "grid_auto_flow": null,
            "grid_area": null,
            "grid_template_columns": null,
            "flex": null,
            "_model_name": "LayoutModel",
            "justify_items": null,
            "grid_row": null,
            "max_height": null,
            "align_content": null,
            "visibility": null,
            "align_self": null,
            "height": null,
            "min_height": null,
            "padding": null,
            "grid_auto_rows": null,
            "grid_gap": null,
            "max_width": null,
            "order": null,
            "_view_module_version": "1.2.0",
            "grid_template_areas": null,
            "object_position": null,
            "object_fit": null,
            "grid_auto_columns": null,
            "margin": null,
            "display": null,
            "left": null
          }
        },
        "972fd2134a23412bb38e10211448d844": {
          "model_module": "@jupyter-widgets/controls",
          "model_name": "DescriptionStyleModel",
          "state": {
            "_view_name": "StyleView",
            "_model_name": "DescriptionStyleModel",
            "description_width": "",
            "_view_module": "@jupyter-widgets/base",
            "_model_module_version": "1.5.0",
            "_view_count": null,
            "_view_module_version": "1.2.0",
            "_model_module": "@jupyter-widgets/controls"
          }
        },
        "81b47ea906f64cbe837e3af1685b2f18": {
          "model_module": "@jupyter-widgets/base",
          "model_name": "LayoutModel",
          "state": {
            "_view_name": "LayoutView",
            "grid_template_rows": null,
            "right": null,
            "justify_content": null,
            "_view_module": "@jupyter-widgets/base",
            "overflow": null,
            "_model_module_version": "1.2.0",
            "_view_count": null,
            "flex_flow": null,
            "width": null,
            "min_width": null,
            "border": null,
            "align_items": null,
            "bottom": null,
            "_model_module": "@jupyter-widgets/base",
            "top": null,
            "grid_column": null,
            "overflow_y": null,
            "overflow_x": null,
            "grid_auto_flow": null,
            "grid_area": null,
            "grid_template_columns": null,
            "flex": null,
            "_model_name": "LayoutModel",
            "justify_items": null,
            "grid_row": null,
            "max_height": null,
            "align_content": null,
            "visibility": null,
            "align_self": null,
            "height": null,
            "min_height": null,
            "padding": null,
            "grid_auto_rows": null,
            "grid_gap": null,
            "max_width": null,
            "order": null,
            "_view_module_version": "1.2.0",
            "grid_template_areas": null,
            "object_position": null,
            "object_fit": null,
            "grid_auto_columns": null,
            "margin": null,
            "display": null,
            "left": null
          }
        },
        "7c6483977a134f7ab8bed5470fe59043": {
          "model_module": "@jupyter-widgets/controls",
          "model_name": "HBoxModel",
          "state": {
            "_view_name": "HBoxView",
            "_dom_classes": [],
            "_model_name": "HBoxModel",
            "_view_module": "@jupyter-widgets/controls",
            "_model_module_version": "1.5.0",
            "_view_count": null,
            "_view_module_version": "1.5.0",
            "box_style": "",
            "layout": "IPY_MODEL_5a90ab3feccb4329b16c7889a93b383d",
            "_model_module": "@jupyter-widgets/controls",
            "children": [
              "IPY_MODEL_1561d94cf45b4e6c89d15561a00c230a",
              "IPY_MODEL_77f308cc455a41ddaf093d6e8b40cf84"
            ]
          }
        },
        "5a90ab3feccb4329b16c7889a93b383d": {
          "model_module": "@jupyter-widgets/base",
          "model_name": "LayoutModel",
          "state": {
            "_view_name": "LayoutView",
            "grid_template_rows": null,
            "right": null,
            "justify_content": null,
            "_view_module": "@jupyter-widgets/base",
            "overflow": null,
            "_model_module_version": "1.2.0",
            "_view_count": null,
            "flex_flow": null,
            "width": null,
            "min_width": null,
            "border": null,
            "align_items": null,
            "bottom": null,
            "_model_module": "@jupyter-widgets/base",
            "top": null,
            "grid_column": null,
            "overflow_y": null,
            "overflow_x": null,
            "grid_auto_flow": null,
            "grid_area": null,
            "grid_template_columns": null,
            "flex": null,
            "_model_name": "LayoutModel",
            "justify_items": null,
            "grid_row": null,
            "max_height": null,
            "align_content": null,
            "visibility": null,
            "align_self": null,
            "height": null,
            "min_height": null,
            "padding": null,
            "grid_auto_rows": null,
            "grid_gap": null,
            "max_width": null,
            "order": null,
            "_view_module_version": "1.2.0",
            "grid_template_areas": null,
            "object_position": null,
            "object_fit": null,
            "grid_auto_columns": null,
            "margin": null,
            "display": null,
            "left": null
          }
        },
        "1561d94cf45b4e6c89d15561a00c230a": {
          "model_module": "@jupyter-widgets/controls",
          "model_name": "FloatProgressModel",
          "state": {
            "_view_name": "ProgressView",
            "style": "IPY_MODEL_1312c51abb4646a9a28abd1d7f6c70d6",
            "_dom_classes": [],
            "description": "Dl Size...: ",
            "_model_name": "FloatProgressModel",
            "bar_style": "success",
            "max": 1,
            "_view_module": "@jupyter-widgets/controls",
            "_model_module_version": "1.5.0",
            "value": 1,
            "_view_count": null,
            "_view_module_version": "1.5.0",
            "orientation": "horizontal",
            "min": 0,
            "description_tooltip": null,
            "_model_module": "@jupyter-widgets/controls",
            "layout": "IPY_MODEL_7643e24fb7d546dcb7b6d2e887c94045"
          }
        },
        "77f308cc455a41ddaf093d6e8b40cf84": {
          "model_module": "@jupyter-widgets/controls",
          "model_name": "HTMLModel",
          "state": {
            "_view_name": "HTMLView",
            "style": "IPY_MODEL_74fc0087905a40238df800bd4389a140",
            "_dom_classes": [],
            "description": "",
            "_model_name": "HTMLModel",
            "placeholder": "​",
            "_view_module": "@jupyter-widgets/controls",
            "_model_module_version": "1.5.0",
            "value": " 1/0 [00:00&lt;00:00,  2.23 MiB/s]",
            "_view_count": null,
            "_view_module_version": "1.5.0",
            "description_tooltip": null,
            "_model_module": "@jupyter-widgets/controls",
            "layout": "IPY_MODEL_b56537f3acdf4bf4b189fbfce0cfca20"
          }
        },
        "1312c51abb4646a9a28abd1d7f6c70d6": {
          "model_module": "@jupyter-widgets/controls",
          "model_name": "ProgressStyleModel",
          "state": {
            "_view_name": "StyleView",
            "_model_name": "ProgressStyleModel",
            "description_width": "initial",
            "_view_module": "@jupyter-widgets/base",
            "_model_module_version": "1.5.0",
            "_view_count": null,
            "_view_module_version": "1.2.0",
            "bar_color": null,
            "_model_module": "@jupyter-widgets/controls"
          }
        },
        "7643e24fb7d546dcb7b6d2e887c94045": {
          "model_module": "@jupyter-widgets/base",
          "model_name": "LayoutModel",
          "state": {
            "_view_name": "LayoutView",
            "grid_template_rows": null,
            "right": null,
            "justify_content": null,
            "_view_module": "@jupyter-widgets/base",
            "overflow": null,
            "_model_module_version": "1.2.0",
            "_view_count": null,
            "flex_flow": null,
            "width": null,
            "min_width": null,
            "border": null,
            "align_items": null,
            "bottom": null,
            "_model_module": "@jupyter-widgets/base",
            "top": null,
            "grid_column": null,
            "overflow_y": null,
            "overflow_x": null,
            "grid_auto_flow": null,
            "grid_area": null,
            "grid_template_columns": null,
            "flex": null,
            "_model_name": "LayoutModel",
            "justify_items": null,
            "grid_row": null,
            "max_height": null,
            "align_content": null,
            "visibility": null,
            "align_self": null,
            "height": null,
            "min_height": null,
            "padding": null,
            "grid_auto_rows": null,
            "grid_gap": null,
            "max_width": null,
            "order": null,
            "_view_module_version": "1.2.0",
            "grid_template_areas": null,
            "object_position": null,
            "object_fit": null,
            "grid_auto_columns": null,
            "margin": null,
            "display": null,
            "left": null
          }
        },
        "74fc0087905a40238df800bd4389a140": {
          "model_module": "@jupyter-widgets/controls",
          "model_name": "DescriptionStyleModel",
          "state": {
            "_view_name": "StyleView",
            "_model_name": "DescriptionStyleModel",
            "description_width": "",
            "_view_module": "@jupyter-widgets/base",
            "_model_module_version": "1.5.0",
            "_view_count": null,
            "_view_module_version": "1.2.0",
            "_model_module": "@jupyter-widgets/controls"
          }
        },
        "b56537f3acdf4bf4b189fbfce0cfca20": {
          "model_module": "@jupyter-widgets/base",
          "model_name": "LayoutModel",
          "state": {
            "_view_name": "LayoutView",
            "grid_template_rows": null,
            "right": null,
            "justify_content": null,
            "_view_module": "@jupyter-widgets/base",
            "overflow": null,
            "_model_module_version": "1.2.0",
            "_view_count": null,
            "flex_flow": null,
            "width": null,
            "min_width": null,
            "border": null,
            "align_items": null,
            "bottom": null,
            "_model_module": "@jupyter-widgets/base",
            "top": null,
            "grid_column": null,
            "overflow_y": null,
            "overflow_x": null,
            "grid_auto_flow": null,
            "grid_area": null,
            "grid_template_columns": null,
            "flex": null,
            "_model_name": "LayoutModel",
            "justify_items": null,
            "grid_row": null,
            "max_height": null,
            "align_content": null,
            "visibility": null,
            "align_self": null,
            "height": null,
            "min_height": null,
            "padding": null,
            "grid_auto_rows": null,
            "grid_gap": null,
            "max_width": null,
            "order": null,
            "_view_module_version": "1.2.0",
            "grid_template_areas": null,
            "object_position": null,
            "object_fit": null,
            "grid_auto_columns": null,
            "margin": null,
            "display": null,
            "left": null
          }
        },
        "553ee6d70ad9492c99be1b6ecdd0a8e3": {
          "model_module": "@jupyter-widgets/controls",
          "model_name": "HBoxModel",
          "state": {
            "_view_name": "HBoxView",
            "_dom_classes": [],
            "_model_name": "HBoxModel",
            "_view_module": "@jupyter-widgets/controls",
            "_model_module_version": "1.5.0",
            "_view_count": null,
            "_view_module_version": "1.5.0",
            "box_style": "",
            "layout": "IPY_MODEL_5e6a00a4c81848e7955228d7255104d3",
            "_model_module": "@jupyter-widgets/controls",
            "children": [
              "IPY_MODEL_90f7c375b9ae4bbaa782d0f438ef8974",
              "IPY_MODEL_017ec4b120b94cdd8b18b46c56d6bfe2"
            ]
          }
        },
        "5e6a00a4c81848e7955228d7255104d3": {
          "model_module": "@jupyter-widgets/base",
          "model_name": "LayoutModel",
          "state": {
            "_view_name": "LayoutView",
            "grid_template_rows": null,
            "right": null,
            "justify_content": null,
            "_view_module": "@jupyter-widgets/base",
            "overflow": null,
            "_model_module_version": "1.2.0",
            "_view_count": null,
            "flex_flow": null,
            "width": null,
            "min_width": null,
            "border": null,
            "align_items": null,
            "bottom": null,
            "_model_module": "@jupyter-widgets/base",
            "top": null,
            "grid_column": null,
            "overflow_y": null,
            "overflow_x": null,
            "grid_auto_flow": null,
            "grid_area": null,
            "grid_template_columns": null,
            "flex": null,
            "_model_name": "LayoutModel",
            "justify_items": null,
            "grid_row": null,
            "max_height": null,
            "align_content": null,
            "visibility": null,
            "align_self": null,
            "height": null,
            "min_height": null,
            "padding": null,
            "grid_auto_rows": null,
            "grid_gap": null,
            "max_width": null,
            "order": null,
            "_view_module_version": "1.2.0",
            "grid_template_areas": null,
            "object_position": null,
            "object_fit": null,
            "grid_auto_columns": null,
            "margin": null,
            "display": null,
            "left": null
          }
        },
        "90f7c375b9ae4bbaa782d0f438ef8974": {
          "model_module": "@jupyter-widgets/controls",
          "model_name": "FloatProgressModel",
          "state": {
            "_view_name": "ProgressView",
            "style": "IPY_MODEL_01a7bf3a20a4440cbbe1df572a41d04c",
            "_dom_classes": [],
            "description": "",
            "_model_name": "FloatProgressModel",
            "bar_style": "info",
            "max": 1,
            "_view_module": "@jupyter-widgets/controls",
            "_model_module_version": "1.5.0",
            "value": 1,
            "_view_count": null,
            "_view_module_version": "1.5.0",
            "orientation": "horizontal",
            "min": 0,
            "description_tooltip": null,
            "_model_module": "@jupyter-widgets/controls",
            "layout": "IPY_MODEL_4b49b56071e44abc8092b0d722f057da"
          }
        },
        "017ec4b120b94cdd8b18b46c56d6bfe2": {
          "model_module": "@jupyter-widgets/controls",
          "model_name": "HTMLModel",
          "state": {
            "_view_name": "HTMLView",
            "style": "IPY_MODEL_99b5669cf9134e86a5ba9c0a70c6f38d",
            "_dom_classes": [],
            "description": "",
            "_model_name": "HTMLModel",
            "placeholder": "​",
            "_view_module": "@jupyter-widgets/controls",
            "_model_module_version": "1.5.0",
            "value": " 1/0 [00:00&lt;00:00, 32.79 examples/s]",
            "_view_count": null,
            "_view_module_version": "1.5.0",
            "description_tooltip": null,
            "_model_module": "@jupyter-widgets/controls",
            "layout": "IPY_MODEL_75b24276038f4d088b65697ae92d124b"
          }
        },
        "01a7bf3a20a4440cbbe1df572a41d04c": {
          "model_module": "@jupyter-widgets/controls",
          "model_name": "ProgressStyleModel",
          "state": {
            "_view_name": "StyleView",
            "_model_name": "ProgressStyleModel",
            "description_width": "initial",
            "_view_module": "@jupyter-widgets/base",
            "_model_module_version": "1.5.0",
            "_view_count": null,
            "_view_module_version": "1.2.0",
            "bar_color": null,
            "_model_module": "@jupyter-widgets/controls"
          }
        },
        "4b49b56071e44abc8092b0d722f057da": {
          "model_module": "@jupyter-widgets/base",
          "model_name": "LayoutModel",
          "state": {
            "_view_name": "LayoutView",
            "grid_template_rows": null,
            "right": null,
            "justify_content": null,
            "_view_module": "@jupyter-widgets/base",
            "overflow": null,
            "_model_module_version": "1.2.0",
            "_view_count": null,
            "flex_flow": null,
            "width": null,
            "min_width": null,
            "border": null,
            "align_items": null,
            "bottom": null,
            "_model_module": "@jupyter-widgets/base",
            "top": null,
            "grid_column": null,
            "overflow_y": null,
            "overflow_x": null,
            "grid_auto_flow": null,
            "grid_area": null,
            "grid_template_columns": null,
            "flex": null,
            "_model_name": "LayoutModel",
            "justify_items": null,
            "grid_row": null,
            "max_height": null,
            "align_content": null,
            "visibility": null,
            "align_self": null,
            "height": null,
            "min_height": null,
            "padding": null,
            "grid_auto_rows": null,
            "grid_gap": null,
            "max_width": null,
            "order": null,
            "_view_module_version": "1.2.0",
            "grid_template_areas": null,
            "object_position": null,
            "object_fit": null,
            "grid_auto_columns": null,
            "margin": null,
            "display": null,
            "left": null
          }
        },
        "99b5669cf9134e86a5ba9c0a70c6f38d": {
          "model_module": "@jupyter-widgets/controls",
          "model_name": "DescriptionStyleModel",
          "state": {
            "_view_name": "StyleView",
            "_model_name": "DescriptionStyleModel",
            "description_width": "",
            "_view_module": "@jupyter-widgets/base",
            "_model_module_version": "1.5.0",
            "_view_count": null,
            "_view_module_version": "1.2.0",
            "_model_module": "@jupyter-widgets/controls"
          }
        },
        "75b24276038f4d088b65697ae92d124b": {
          "model_module": "@jupyter-widgets/base",
          "model_name": "LayoutModel",
          "state": {
            "_view_name": "LayoutView",
            "grid_template_rows": null,
            "right": null,
            "justify_content": null,
            "_view_module": "@jupyter-widgets/base",
            "overflow": null,
            "_model_module_version": "1.2.0",
            "_view_count": null,
            "flex_flow": null,
            "width": null,
            "min_width": null,
            "border": null,
            "align_items": null,
            "bottom": null,
            "_model_module": "@jupyter-widgets/base",
            "top": null,
            "grid_column": null,
            "overflow_y": null,
            "overflow_x": null,
            "grid_auto_flow": null,
            "grid_area": null,
            "grid_template_columns": null,
            "flex": null,
            "_model_name": "LayoutModel",
            "justify_items": null,
            "grid_row": null,
            "max_height": null,
            "align_content": null,
            "visibility": null,
            "align_self": null,
            "height": null,
            "min_height": null,
            "padding": null,
            "grid_auto_rows": null,
            "grid_gap": null,
            "max_width": null,
            "order": null,
            "_view_module_version": "1.2.0",
            "grid_template_areas": null,
            "object_position": null,
            "object_fit": null,
            "grid_auto_columns": null,
            "margin": null,
            "display": null,
            "left": null
          }
        },
        "183d0ab2fe3a4c559704704b92ecac6c": {
          "model_module": "@jupyter-widgets/controls",
          "model_name": "HBoxModel",
          "state": {
            "_view_name": "HBoxView",
            "_dom_classes": [],
            "_model_name": "HBoxModel",
            "_view_module": "@jupyter-widgets/controls",
            "_model_module_version": "1.5.0",
            "_view_count": null,
            "_view_module_version": "1.5.0",
            "box_style": "",
            "layout": "IPY_MODEL_6e041c83d6234c81b437506b491aa52f",
            "_model_module": "@jupyter-widgets/controls",
            "children": [
              "IPY_MODEL_f4b041a693304b17b18ca93762da3ab6",
              "IPY_MODEL_8d78066a5df8405ab5ad1198fa2c6c04"
            ]
          }
        },
        "6e041c83d6234c81b437506b491aa52f": {
          "model_module": "@jupyter-widgets/base",
          "model_name": "LayoutModel",
          "state": {
            "_view_name": "LayoutView",
            "grid_template_rows": null,
            "right": null,
            "justify_content": null,
            "_view_module": "@jupyter-widgets/base",
            "overflow": null,
            "_model_module_version": "1.2.0",
            "_view_count": null,
            "flex_flow": null,
            "width": null,
            "min_width": null,
            "border": null,
            "align_items": null,
            "bottom": null,
            "_model_module": "@jupyter-widgets/base",
            "top": null,
            "grid_column": null,
            "overflow_y": null,
            "overflow_x": null,
            "grid_auto_flow": null,
            "grid_area": null,
            "grid_template_columns": null,
            "flex": null,
            "_model_name": "LayoutModel",
            "justify_items": null,
            "grid_row": null,
            "max_height": null,
            "align_content": null,
            "visibility": null,
            "align_self": null,
            "height": null,
            "min_height": null,
            "padding": null,
            "grid_auto_rows": null,
            "grid_gap": null,
            "max_width": null,
            "order": null,
            "_view_module_version": "1.2.0",
            "grid_template_areas": null,
            "object_position": null,
            "object_fit": null,
            "grid_auto_columns": null,
            "margin": null,
            "display": null,
            "left": null
          }
        },
        "f4b041a693304b17b18ca93762da3ab6": {
          "model_module": "@jupyter-widgets/controls",
          "model_name": "FloatProgressModel",
          "state": {
            "_view_name": "ProgressView",
            "style": "IPY_MODEL_615b76af1c9f430897d295adffcb9d61",
            "_dom_classes": [],
            "description": "  0%",
            "_model_name": "FloatProgressModel",
            "bar_style": "danger",
            "max": 1,
            "_view_module": "@jupyter-widgets/controls",
            "_model_module_version": "1.5.0",
            "value": 0,
            "_view_count": null,
            "_view_module_version": "1.5.0",
            "orientation": "horizontal",
            "min": 0,
            "description_tooltip": null,
            "_model_module": "@jupyter-widgets/controls",
            "layout": "IPY_MODEL_be34983a10ca42398ca758e17e5ff539"
          }
        },
        "8d78066a5df8405ab5ad1198fa2c6c04": {
          "model_module": "@jupyter-widgets/controls",
          "model_name": "HTMLModel",
          "state": {
            "_view_name": "HTMLView",
            "style": "IPY_MODEL_175ecd3ba11c448a8bb8b01cd2ce7623",
            "_dom_classes": [],
            "description": "",
            "_model_name": "HTMLModel",
            "placeholder": "​",
            "_view_module": "@jupyter-widgets/controls",
            "_model_module_version": "1.5.0",
            "value": " 0/1 [00:00&lt;?, ? examples/s]",
            "_view_count": null,
            "_view_module_version": "1.5.0",
            "description_tooltip": null,
            "_model_module": "@jupyter-widgets/controls",
            "layout": "IPY_MODEL_76ab7bd401564477b3abdad884839844"
          }
        },
        "615b76af1c9f430897d295adffcb9d61": {
          "model_module": "@jupyter-widgets/controls",
          "model_name": "ProgressStyleModel",
          "state": {
            "_view_name": "StyleView",
            "_model_name": "ProgressStyleModel",
            "description_width": "initial",
            "_view_module": "@jupyter-widgets/base",
            "_model_module_version": "1.5.0",
            "_view_count": null,
            "_view_module_version": "1.2.0",
            "bar_color": null,
            "_model_module": "@jupyter-widgets/controls"
          }
        },
        "be34983a10ca42398ca758e17e5ff539": {
          "model_module": "@jupyter-widgets/base",
          "model_name": "LayoutModel",
          "state": {
            "_view_name": "LayoutView",
            "grid_template_rows": null,
            "right": null,
            "justify_content": null,
            "_view_module": "@jupyter-widgets/base",
            "overflow": null,
            "_model_module_version": "1.2.0",
            "_view_count": null,
            "flex_flow": null,
            "width": null,
            "min_width": null,
            "border": null,
            "align_items": null,
            "bottom": null,
            "_model_module": "@jupyter-widgets/base",
            "top": null,
            "grid_column": null,
            "overflow_y": null,
            "overflow_x": null,
            "grid_auto_flow": null,
            "grid_area": null,
            "grid_template_columns": null,
            "flex": null,
            "_model_name": "LayoutModel",
            "justify_items": null,
            "grid_row": null,
            "max_height": null,
            "align_content": null,
            "visibility": null,
            "align_self": null,
            "height": null,
            "min_height": null,
            "padding": null,
            "grid_auto_rows": null,
            "grid_gap": null,
            "max_width": null,
            "order": null,
            "_view_module_version": "1.2.0",
            "grid_template_areas": null,
            "object_position": null,
            "object_fit": null,
            "grid_auto_columns": null,
            "margin": null,
            "display": null,
            "left": null
          }
        },
        "175ecd3ba11c448a8bb8b01cd2ce7623": {
          "model_module": "@jupyter-widgets/controls",
          "model_name": "DescriptionStyleModel",
          "state": {
            "_view_name": "StyleView",
            "_model_name": "DescriptionStyleModel",
            "description_width": "",
            "_view_module": "@jupyter-widgets/base",
            "_model_module_version": "1.5.0",
            "_view_count": null,
            "_view_module_version": "1.2.0",
            "_model_module": "@jupyter-widgets/controls"
          }
        },
        "76ab7bd401564477b3abdad884839844": {
          "model_module": "@jupyter-widgets/base",
          "model_name": "LayoutModel",
          "state": {
            "_view_name": "LayoutView",
            "grid_template_rows": null,
            "right": null,
            "justify_content": null,
            "_view_module": "@jupyter-widgets/base",
            "overflow": null,
            "_model_module_version": "1.2.0",
            "_view_count": null,
            "flex_flow": null,
            "width": null,
            "min_width": null,
            "border": null,
            "align_items": null,
            "bottom": null,
            "_model_module": "@jupyter-widgets/base",
            "top": null,
            "grid_column": null,
            "overflow_y": null,
            "overflow_x": null,
            "grid_auto_flow": null,
            "grid_area": null,
            "grid_template_columns": null,
            "flex": null,
            "_model_name": "LayoutModel",
            "justify_items": null,
            "grid_row": null,
            "max_height": null,
            "align_content": null,
            "visibility": null,
            "align_self": null,
            "height": null,
            "min_height": null,
            "padding": null,
            "grid_auto_rows": null,
            "grid_gap": null,
            "max_width": null,
            "order": null,
            "_view_module_version": "1.2.0",
            "grid_template_areas": null,
            "object_position": null,
            "object_fit": null,
            "grid_auto_columns": null,
            "margin": null,
            "display": null,
            "left": null
          }
        },
        "c21379645802495885a13a73271efb17": {
          "model_module": "@jupyter-widgets/controls",
          "model_name": "HBoxModel",
          "state": {
            "_view_name": "HBoxView",
            "_dom_classes": [],
            "_model_name": "HBoxModel",
            "_view_module": "@jupyter-widgets/controls",
            "_model_module_version": "1.5.0",
            "_view_count": null,
            "_view_module_version": "1.5.0",
            "box_style": "",
            "layout": "IPY_MODEL_869ca181dbe049b2bbf1cac7d814e0a7",
            "_model_module": "@jupyter-widgets/controls",
            "children": [
              "IPY_MODEL_56c87187e2e14a3d8517a235e8503938",
              "IPY_MODEL_fc873fbe43e345c18b8353ddc58414fe"
            ]
          }
        },
        "869ca181dbe049b2bbf1cac7d814e0a7": {
          "model_module": "@jupyter-widgets/base",
          "model_name": "LayoutModel",
          "state": {
            "_view_name": "LayoutView",
            "grid_template_rows": null,
            "right": null,
            "justify_content": null,
            "_view_module": "@jupyter-widgets/base",
            "overflow": null,
            "_model_module_version": "1.2.0",
            "_view_count": null,
            "flex_flow": null,
            "width": null,
            "min_width": null,
            "border": null,
            "align_items": null,
            "bottom": null,
            "_model_module": "@jupyter-widgets/base",
            "top": null,
            "grid_column": null,
            "overflow_y": null,
            "overflow_x": null,
            "grid_auto_flow": null,
            "grid_area": null,
            "grid_template_columns": null,
            "flex": null,
            "_model_name": "LayoutModel",
            "justify_items": null,
            "grid_row": null,
            "max_height": null,
            "align_content": null,
            "visibility": null,
            "align_self": null,
            "height": null,
            "min_height": null,
            "padding": null,
            "grid_auto_rows": null,
            "grid_gap": null,
            "max_width": null,
            "order": null,
            "_view_module_version": "1.2.0",
            "grid_template_areas": null,
            "object_position": null,
            "object_fit": null,
            "grid_auto_columns": null,
            "margin": null,
            "display": null,
            "left": null
          }
        },
        "56c87187e2e14a3d8517a235e8503938": {
          "model_module": "@jupyter-widgets/controls",
          "model_name": "FloatProgressModel",
          "state": {
            "_view_name": "ProgressView",
            "style": "IPY_MODEL_c686584669bb495dbdb7828cf6061c37",
            "_dom_classes": [],
            "description": "",
            "_model_name": "FloatProgressModel",
            "bar_style": "info",
            "max": 1,
            "_view_module": "@jupyter-widgets/controls",
            "_model_module_version": "1.5.0",
            "value": 1,
            "_view_count": null,
            "_view_module_version": "1.5.0",
            "orientation": "horizontal",
            "min": 0,
            "description_tooltip": null,
            "_model_module": "@jupyter-widgets/controls",
            "layout": "IPY_MODEL_633dc72b2a6e4449b7ccf3ba21fe291d"
          }
        },
        "fc873fbe43e345c18b8353ddc58414fe": {
          "model_module": "@jupyter-widgets/controls",
          "model_name": "HTMLModel",
          "state": {
            "_view_name": "HTMLView",
            "style": "IPY_MODEL_2ea80431dbb94074b9adb54cdfd5a3ab",
            "_dom_classes": [],
            "description": "",
            "_model_name": "HTMLModel",
            "placeholder": "​",
            "_view_module": "@jupyter-widgets/controls",
            "_model_module_version": "1.5.0",
            "value": " 1/0 [00:00&lt;00:00, 27.89 examples/s]",
            "_view_count": null,
            "_view_module_version": "1.5.0",
            "description_tooltip": null,
            "_model_module": "@jupyter-widgets/controls",
            "layout": "IPY_MODEL_61ea98c6144d402691cac7004ce87b25"
          }
        },
        "c686584669bb495dbdb7828cf6061c37": {
          "model_module": "@jupyter-widgets/controls",
          "model_name": "ProgressStyleModel",
          "state": {
            "_view_name": "StyleView",
            "_model_name": "ProgressStyleModel",
            "description_width": "initial",
            "_view_module": "@jupyter-widgets/base",
            "_model_module_version": "1.5.0",
            "_view_count": null,
            "_view_module_version": "1.2.0",
            "bar_color": null,
            "_model_module": "@jupyter-widgets/controls"
          }
        },
        "633dc72b2a6e4449b7ccf3ba21fe291d": {
          "model_module": "@jupyter-widgets/base",
          "model_name": "LayoutModel",
          "state": {
            "_view_name": "LayoutView",
            "grid_template_rows": null,
            "right": null,
            "justify_content": null,
            "_view_module": "@jupyter-widgets/base",
            "overflow": null,
            "_model_module_version": "1.2.0",
            "_view_count": null,
            "flex_flow": null,
            "width": null,
            "min_width": null,
            "border": null,
            "align_items": null,
            "bottom": null,
            "_model_module": "@jupyter-widgets/base",
            "top": null,
            "grid_column": null,
            "overflow_y": null,
            "overflow_x": null,
            "grid_auto_flow": null,
            "grid_area": null,
            "grid_template_columns": null,
            "flex": null,
            "_model_name": "LayoutModel",
            "justify_items": null,
            "grid_row": null,
            "max_height": null,
            "align_content": null,
            "visibility": null,
            "align_self": null,
            "height": null,
            "min_height": null,
            "padding": null,
            "grid_auto_rows": null,
            "grid_gap": null,
            "max_width": null,
            "order": null,
            "_view_module_version": "1.2.0",
            "grid_template_areas": null,
            "object_position": null,
            "object_fit": null,
            "grid_auto_columns": null,
            "margin": null,
            "display": null,
            "left": null
          }
        },
        "2ea80431dbb94074b9adb54cdfd5a3ab": {
          "model_module": "@jupyter-widgets/controls",
          "model_name": "DescriptionStyleModel",
          "state": {
            "_view_name": "StyleView",
            "_model_name": "DescriptionStyleModel",
            "description_width": "",
            "_view_module": "@jupyter-widgets/base",
            "_model_module_version": "1.5.0",
            "_view_count": null,
            "_view_module_version": "1.2.0",
            "_model_module": "@jupyter-widgets/controls"
          }
        },
        "61ea98c6144d402691cac7004ce87b25": {
          "model_module": "@jupyter-widgets/base",
          "model_name": "LayoutModel",
          "state": {
            "_view_name": "LayoutView",
            "grid_template_rows": null,
            "right": null,
            "justify_content": null,
            "_view_module": "@jupyter-widgets/base",
            "overflow": null,
            "_model_module_version": "1.2.0",
            "_view_count": null,
            "flex_flow": null,
            "width": null,
            "min_width": null,
            "border": null,
            "align_items": null,
            "bottom": null,
            "_model_module": "@jupyter-widgets/base",
            "top": null,
            "grid_column": null,
            "overflow_y": null,
            "overflow_x": null,
            "grid_auto_flow": null,
            "grid_area": null,
            "grid_template_columns": null,
            "flex": null,
            "_model_name": "LayoutModel",
            "justify_items": null,
            "grid_row": null,
            "max_height": null,
            "align_content": null,
            "visibility": null,
            "align_self": null,
            "height": null,
            "min_height": null,
            "padding": null,
            "grid_auto_rows": null,
            "grid_gap": null,
            "max_width": null,
            "order": null,
            "_view_module_version": "1.2.0",
            "grid_template_areas": null,
            "object_position": null,
            "object_fit": null,
            "grid_auto_columns": null,
            "margin": null,
            "display": null,
            "left": null
          }
        },
        "b8d79ec1975046deb205d8f77a41a53a": {
          "model_module": "@jupyter-widgets/controls",
          "model_name": "HBoxModel",
          "state": {
            "_view_name": "HBoxView",
            "_dom_classes": [],
            "_model_name": "HBoxModel",
            "_view_module": "@jupyter-widgets/controls",
            "_model_module_version": "1.5.0",
            "_view_count": null,
            "_view_module_version": "1.5.0",
            "box_style": "",
            "layout": "IPY_MODEL_585bc135a73442cf878f68787fc18ff4",
            "_model_module": "@jupyter-widgets/controls",
            "children": [
              "IPY_MODEL_46bb46fa375b4cf5a320ae69b653b056",
              "IPY_MODEL_4458eee69bde4ef79cc90292d632600b"
            ]
          }
        },
        "585bc135a73442cf878f68787fc18ff4": {
          "model_module": "@jupyter-widgets/base",
          "model_name": "LayoutModel",
          "state": {
            "_view_name": "LayoutView",
            "grid_template_rows": null,
            "right": null,
            "justify_content": null,
            "_view_module": "@jupyter-widgets/base",
            "overflow": null,
            "_model_module_version": "1.2.0",
            "_view_count": null,
            "flex_flow": null,
            "width": null,
            "min_width": null,
            "border": null,
            "align_items": null,
            "bottom": null,
            "_model_module": "@jupyter-widgets/base",
            "top": null,
            "grid_column": null,
            "overflow_y": null,
            "overflow_x": null,
            "grid_auto_flow": null,
            "grid_area": null,
            "grid_template_columns": null,
            "flex": null,
            "_model_name": "LayoutModel",
            "justify_items": null,
            "grid_row": null,
            "max_height": null,
            "align_content": null,
            "visibility": null,
            "align_self": null,
            "height": null,
            "min_height": null,
            "padding": null,
            "grid_auto_rows": null,
            "grid_gap": null,
            "max_width": null,
            "order": null,
            "_view_module_version": "1.2.0",
            "grid_template_areas": null,
            "object_position": null,
            "object_fit": null,
            "grid_auto_columns": null,
            "margin": null,
            "display": null,
            "left": null
          }
        },
        "46bb46fa375b4cf5a320ae69b653b056": {
          "model_module": "@jupyter-widgets/controls",
          "model_name": "FloatProgressModel",
          "state": {
            "_view_name": "ProgressView",
            "style": "IPY_MODEL_94128265deb64344ac48d3900c2524b1",
            "_dom_classes": [],
            "description": "  0%",
            "_model_name": "FloatProgressModel",
            "bar_style": "danger",
            "max": 1,
            "_view_module": "@jupyter-widgets/controls",
            "_model_module_version": "1.5.0",
            "value": 0,
            "_view_count": null,
            "_view_module_version": "1.5.0",
            "orientation": "horizontal",
            "min": 0,
            "description_tooltip": null,
            "_model_module": "@jupyter-widgets/controls",
            "layout": "IPY_MODEL_ea899b15c0c04f8e97ba7ae75c154d6b"
          }
        },
        "4458eee69bde4ef79cc90292d632600b": {
          "model_module": "@jupyter-widgets/controls",
          "model_name": "HTMLModel",
          "state": {
            "_view_name": "HTMLView",
            "style": "IPY_MODEL_42a53c635c5e4a3e9ce877c229eac149",
            "_dom_classes": [],
            "description": "",
            "_model_name": "HTMLModel",
            "placeholder": "​",
            "_view_module": "@jupyter-widgets/controls",
            "_model_module_version": "1.5.0",
            "value": " 0/1 [00:00&lt;?, ? examples/s]",
            "_view_count": null,
            "_view_module_version": "1.5.0",
            "description_tooltip": null,
            "_model_module": "@jupyter-widgets/controls",
            "layout": "IPY_MODEL_4bf20de3bf1c4066b79c12b2f24cb4ff"
          }
        },
        "94128265deb64344ac48d3900c2524b1": {
          "model_module": "@jupyter-widgets/controls",
          "model_name": "ProgressStyleModel",
          "state": {
            "_view_name": "StyleView",
            "_model_name": "ProgressStyleModel",
            "description_width": "initial",
            "_view_module": "@jupyter-widgets/base",
            "_model_module_version": "1.5.0",
            "_view_count": null,
            "_view_module_version": "1.2.0",
            "bar_color": null,
            "_model_module": "@jupyter-widgets/controls"
          }
        },
        "ea899b15c0c04f8e97ba7ae75c154d6b": {
          "model_module": "@jupyter-widgets/base",
          "model_name": "LayoutModel",
          "state": {
            "_view_name": "LayoutView",
            "grid_template_rows": null,
            "right": null,
            "justify_content": null,
            "_view_module": "@jupyter-widgets/base",
            "overflow": null,
            "_model_module_version": "1.2.0",
            "_view_count": null,
            "flex_flow": null,
            "width": null,
            "min_width": null,
            "border": null,
            "align_items": null,
            "bottom": null,
            "_model_module": "@jupyter-widgets/base",
            "top": null,
            "grid_column": null,
            "overflow_y": null,
            "overflow_x": null,
            "grid_auto_flow": null,
            "grid_area": null,
            "grid_template_columns": null,
            "flex": null,
            "_model_name": "LayoutModel",
            "justify_items": null,
            "grid_row": null,
            "max_height": null,
            "align_content": null,
            "visibility": null,
            "align_self": null,
            "height": null,
            "min_height": null,
            "padding": null,
            "grid_auto_rows": null,
            "grid_gap": null,
            "max_width": null,
            "order": null,
            "_view_module_version": "1.2.0",
            "grid_template_areas": null,
            "object_position": null,
            "object_fit": null,
            "grid_auto_columns": null,
            "margin": null,
            "display": null,
            "left": null
          }
        },
        "42a53c635c5e4a3e9ce877c229eac149": {
          "model_module": "@jupyter-widgets/controls",
          "model_name": "DescriptionStyleModel",
          "state": {
            "_view_name": "StyleView",
            "_model_name": "DescriptionStyleModel",
            "description_width": "",
            "_view_module": "@jupyter-widgets/base",
            "_model_module_version": "1.5.0",
            "_view_count": null,
            "_view_module_version": "1.2.0",
            "_model_module": "@jupyter-widgets/controls"
          }
        },
        "4bf20de3bf1c4066b79c12b2f24cb4ff": {
          "model_module": "@jupyter-widgets/base",
          "model_name": "LayoutModel",
          "state": {
            "_view_name": "LayoutView",
            "grid_template_rows": null,
            "right": null,
            "justify_content": null,
            "_view_module": "@jupyter-widgets/base",
            "overflow": null,
            "_model_module_version": "1.2.0",
            "_view_count": null,
            "flex_flow": null,
            "width": null,
            "min_width": null,
            "border": null,
            "align_items": null,
            "bottom": null,
            "_model_module": "@jupyter-widgets/base",
            "top": null,
            "grid_column": null,
            "overflow_y": null,
            "overflow_x": null,
            "grid_auto_flow": null,
            "grid_area": null,
            "grid_template_columns": null,
            "flex": null,
            "_model_name": "LayoutModel",
            "justify_items": null,
            "grid_row": null,
            "max_height": null,
            "align_content": null,
            "visibility": null,
            "align_self": null,
            "height": null,
            "min_height": null,
            "padding": null,
            "grid_auto_rows": null,
            "grid_gap": null,
            "max_width": null,
            "order": null,
            "_view_module_version": "1.2.0",
            "grid_template_areas": null,
            "object_position": null,
            "object_fit": null,
            "grid_auto_columns": null,
            "margin": null,
            "display": null,
            "left": null
          }
        },
        "daa5f889b6664a9aab0f0b31c9f6580d": {
          "model_module": "@jupyter-widgets/controls",
          "model_name": "HBoxModel",
          "state": {
            "_view_name": "HBoxView",
            "_dom_classes": [],
            "_model_name": "HBoxModel",
            "_view_module": "@jupyter-widgets/controls",
            "_model_module_version": "1.5.0",
            "_view_count": null,
            "_view_module_version": "1.5.0",
            "box_style": "",
            "layout": "IPY_MODEL_ec8057fca6384b9889ccda386c8e574a",
            "_model_module": "@jupyter-widgets/controls",
            "children": [
              "IPY_MODEL_b6435b83bb9448519af5d36c24366a6d",
              "IPY_MODEL_70f93a79026447cd9a8cc0e7689afa8c"
            ]
          }
        },
        "ec8057fca6384b9889ccda386c8e574a": {
          "model_module": "@jupyter-widgets/base",
          "model_name": "LayoutModel",
          "state": {
            "_view_name": "LayoutView",
            "grid_template_rows": null,
            "right": null,
            "justify_content": null,
            "_view_module": "@jupyter-widgets/base",
            "overflow": null,
            "_model_module_version": "1.2.0",
            "_view_count": null,
            "flex_flow": null,
            "width": null,
            "min_width": null,
            "border": null,
            "align_items": null,
            "bottom": null,
            "_model_module": "@jupyter-widgets/base",
            "top": null,
            "grid_column": null,
            "overflow_y": null,
            "overflow_x": null,
            "grid_auto_flow": null,
            "grid_area": null,
            "grid_template_columns": null,
            "flex": null,
            "_model_name": "LayoutModel",
            "justify_items": null,
            "grid_row": null,
            "max_height": null,
            "align_content": null,
            "visibility": null,
            "align_self": null,
            "height": null,
            "min_height": null,
            "padding": null,
            "grid_auto_rows": null,
            "grid_gap": null,
            "max_width": null,
            "order": null,
            "_view_module_version": "1.2.0",
            "grid_template_areas": null,
            "object_position": null,
            "object_fit": null,
            "grid_auto_columns": null,
            "margin": null,
            "display": null,
            "left": null
          }
        },
        "b6435b83bb9448519af5d36c24366a6d": {
          "model_module": "@jupyter-widgets/controls",
          "model_name": "FloatProgressModel",
          "state": {
            "_view_name": "ProgressView",
            "style": "IPY_MODEL_f6f49b2b6a0547ffa0da0d8289d94510",
            "_dom_classes": [],
            "description": "",
            "_model_name": "FloatProgressModel",
            "bar_style": "info",
            "max": 1,
            "_view_module": "@jupyter-widgets/controls",
            "_model_module_version": "1.5.0",
            "value": 1,
            "_view_count": null,
            "_view_module_version": "1.5.0",
            "orientation": "horizontal",
            "min": 0,
            "description_tooltip": null,
            "_model_module": "@jupyter-widgets/controls",
            "layout": "IPY_MODEL_843b3bd6de9e4119ae5230cce48730e8"
          }
        },
        "70f93a79026447cd9a8cc0e7689afa8c": {
          "model_module": "@jupyter-widgets/controls",
          "model_name": "HTMLModel",
          "state": {
            "_view_name": "HTMLView",
            "style": "IPY_MODEL_4fd7faa7b5394ed88161fe6048983b56",
            "_dom_classes": [],
            "description": "",
            "_model_name": "HTMLModel",
            "placeholder": "​",
            "_view_module": "@jupyter-widgets/controls",
            "_model_module_version": "1.5.0",
            "value": " 1/0 [00:00&lt;00:00, 27.05 examples/s]",
            "_view_count": null,
            "_view_module_version": "1.5.0",
            "description_tooltip": null,
            "_model_module": "@jupyter-widgets/controls",
            "layout": "IPY_MODEL_908b9960417b459da3e9f5b83dd21b26"
          }
        },
        "f6f49b2b6a0547ffa0da0d8289d94510": {
          "model_module": "@jupyter-widgets/controls",
          "model_name": "ProgressStyleModel",
          "state": {
            "_view_name": "StyleView",
            "_model_name": "ProgressStyleModel",
            "description_width": "initial",
            "_view_module": "@jupyter-widgets/base",
            "_model_module_version": "1.5.0",
            "_view_count": null,
            "_view_module_version": "1.2.0",
            "bar_color": null,
            "_model_module": "@jupyter-widgets/controls"
          }
        },
        "843b3bd6de9e4119ae5230cce48730e8": {
          "model_module": "@jupyter-widgets/base",
          "model_name": "LayoutModel",
          "state": {
            "_view_name": "LayoutView",
            "grid_template_rows": null,
            "right": null,
            "justify_content": null,
            "_view_module": "@jupyter-widgets/base",
            "overflow": null,
            "_model_module_version": "1.2.0",
            "_view_count": null,
            "flex_flow": null,
            "width": null,
            "min_width": null,
            "border": null,
            "align_items": null,
            "bottom": null,
            "_model_module": "@jupyter-widgets/base",
            "top": null,
            "grid_column": null,
            "overflow_y": null,
            "overflow_x": null,
            "grid_auto_flow": null,
            "grid_area": null,
            "grid_template_columns": null,
            "flex": null,
            "_model_name": "LayoutModel",
            "justify_items": null,
            "grid_row": null,
            "max_height": null,
            "align_content": null,
            "visibility": null,
            "align_self": null,
            "height": null,
            "min_height": null,
            "padding": null,
            "grid_auto_rows": null,
            "grid_gap": null,
            "max_width": null,
            "order": null,
            "_view_module_version": "1.2.0",
            "grid_template_areas": null,
            "object_position": null,
            "object_fit": null,
            "grid_auto_columns": null,
            "margin": null,
            "display": null,
            "left": null
          }
        },
        "4fd7faa7b5394ed88161fe6048983b56": {
          "model_module": "@jupyter-widgets/controls",
          "model_name": "DescriptionStyleModel",
          "state": {
            "_view_name": "StyleView",
            "_model_name": "DescriptionStyleModel",
            "description_width": "",
            "_view_module": "@jupyter-widgets/base",
            "_model_module_version": "1.5.0",
            "_view_count": null,
            "_view_module_version": "1.2.0",
            "_model_module": "@jupyter-widgets/controls"
          }
        },
        "908b9960417b459da3e9f5b83dd21b26": {
          "model_module": "@jupyter-widgets/base",
          "model_name": "LayoutModel",
          "state": {
            "_view_name": "LayoutView",
            "grid_template_rows": null,
            "right": null,
            "justify_content": null,
            "_view_module": "@jupyter-widgets/base",
            "overflow": null,
            "_model_module_version": "1.2.0",
            "_view_count": null,
            "flex_flow": null,
            "width": null,
            "min_width": null,
            "border": null,
            "align_items": null,
            "bottom": null,
            "_model_module": "@jupyter-widgets/base",
            "top": null,
            "grid_column": null,
            "overflow_y": null,
            "overflow_x": null,
            "grid_auto_flow": null,
            "grid_area": null,
            "grid_template_columns": null,
            "flex": null,
            "_model_name": "LayoutModel",
            "justify_items": null,
            "grid_row": null,
            "max_height": null,
            "align_content": null,
            "visibility": null,
            "align_self": null,
            "height": null,
            "min_height": null,
            "padding": null,
            "grid_auto_rows": null,
            "grid_gap": null,
            "max_width": null,
            "order": null,
            "_view_module_version": "1.2.0",
            "grid_template_areas": null,
            "object_position": null,
            "object_fit": null,
            "grid_auto_columns": null,
            "margin": null,
            "display": null,
            "left": null
          }
        },
        "cf8981f825304adbb01b638000fc3a31": {
          "model_module": "@jupyter-widgets/controls",
          "model_name": "HBoxModel",
          "state": {
            "_view_name": "HBoxView",
            "_dom_classes": [],
            "_model_name": "HBoxModel",
            "_view_module": "@jupyter-widgets/controls",
            "_model_module_version": "1.5.0",
            "_view_count": null,
            "_view_module_version": "1.5.0",
            "box_style": "",
            "layout": "IPY_MODEL_9cfd0ca73f7645309654bc6fd7ea5c44",
            "_model_module": "@jupyter-widgets/controls",
            "children": [
              "IPY_MODEL_4659cb7cc1854211ad6cdb4d25357e38",
              "IPY_MODEL_fdcfba6bad97490db13df7e8c412124c"
            ]
          }
        },
        "9cfd0ca73f7645309654bc6fd7ea5c44": {
          "model_module": "@jupyter-widgets/base",
          "model_name": "LayoutModel",
          "state": {
            "_view_name": "LayoutView",
            "grid_template_rows": null,
            "right": null,
            "justify_content": null,
            "_view_module": "@jupyter-widgets/base",
            "overflow": null,
            "_model_module_version": "1.2.0",
            "_view_count": null,
            "flex_flow": null,
            "width": null,
            "min_width": null,
            "border": null,
            "align_items": null,
            "bottom": null,
            "_model_module": "@jupyter-widgets/base",
            "top": null,
            "grid_column": null,
            "overflow_y": null,
            "overflow_x": null,
            "grid_auto_flow": null,
            "grid_area": null,
            "grid_template_columns": null,
            "flex": null,
            "_model_name": "LayoutModel",
            "justify_items": null,
            "grid_row": null,
            "max_height": null,
            "align_content": null,
            "visibility": null,
            "align_self": null,
            "height": null,
            "min_height": null,
            "padding": null,
            "grid_auto_rows": null,
            "grid_gap": null,
            "max_width": null,
            "order": null,
            "_view_module_version": "1.2.0",
            "grid_template_areas": null,
            "object_position": null,
            "object_fit": null,
            "grid_auto_columns": null,
            "margin": null,
            "display": null,
            "left": null
          }
        },
        "4659cb7cc1854211ad6cdb4d25357e38": {
          "model_module": "@jupyter-widgets/controls",
          "model_name": "FloatProgressModel",
          "state": {
            "_view_name": "ProgressView",
            "style": "IPY_MODEL_5514834f45994d4ebff12f3975aac864",
            "_dom_classes": [],
            "description": "  0%",
            "_model_name": "FloatProgressModel",
            "bar_style": "danger",
            "max": 1,
            "_view_module": "@jupyter-widgets/controls",
            "_model_module_version": "1.5.0",
            "value": 0,
            "_view_count": null,
            "_view_module_version": "1.5.0",
            "orientation": "horizontal",
            "min": 0,
            "description_tooltip": null,
            "_model_module": "@jupyter-widgets/controls",
            "layout": "IPY_MODEL_71c683e39a264b7bb8eaec68474c0a37"
          }
        },
        "fdcfba6bad97490db13df7e8c412124c": {
          "model_module": "@jupyter-widgets/controls",
          "model_name": "HTMLModel",
          "state": {
            "_view_name": "HTMLView",
            "style": "IPY_MODEL_c57ffb486cce4617afb41cbc74841288",
            "_dom_classes": [],
            "description": "",
            "_model_name": "HTMLModel",
            "placeholder": "​",
            "_view_module": "@jupyter-widgets/controls",
            "_model_module_version": "1.5.0",
            "value": " 0/1 [00:00&lt;?, ? examples/s]",
            "_view_count": null,
            "_view_module_version": "1.5.0",
            "description_tooltip": null,
            "_model_module": "@jupyter-widgets/controls",
            "layout": "IPY_MODEL_6e250eba41a74fc89456f9d8f0146170"
          }
        },
        "5514834f45994d4ebff12f3975aac864": {
          "model_module": "@jupyter-widgets/controls",
          "model_name": "ProgressStyleModel",
          "state": {
            "_view_name": "StyleView",
            "_model_name": "ProgressStyleModel",
            "description_width": "initial",
            "_view_module": "@jupyter-widgets/base",
            "_model_module_version": "1.5.0",
            "_view_count": null,
            "_view_module_version": "1.2.0",
            "bar_color": null,
            "_model_module": "@jupyter-widgets/controls"
          }
        },
        "71c683e39a264b7bb8eaec68474c0a37": {
          "model_module": "@jupyter-widgets/base",
          "model_name": "LayoutModel",
          "state": {
            "_view_name": "LayoutView",
            "grid_template_rows": null,
            "right": null,
            "justify_content": null,
            "_view_module": "@jupyter-widgets/base",
            "overflow": null,
            "_model_module_version": "1.2.0",
            "_view_count": null,
            "flex_flow": null,
            "width": null,
            "min_width": null,
            "border": null,
            "align_items": null,
            "bottom": null,
            "_model_module": "@jupyter-widgets/base",
            "top": null,
            "grid_column": null,
            "overflow_y": null,
            "overflow_x": null,
            "grid_auto_flow": null,
            "grid_area": null,
            "grid_template_columns": null,
            "flex": null,
            "_model_name": "LayoutModel",
            "justify_items": null,
            "grid_row": null,
            "max_height": null,
            "align_content": null,
            "visibility": null,
            "align_self": null,
            "height": null,
            "min_height": null,
            "padding": null,
            "grid_auto_rows": null,
            "grid_gap": null,
            "max_width": null,
            "order": null,
            "_view_module_version": "1.2.0",
            "grid_template_areas": null,
            "object_position": null,
            "object_fit": null,
            "grid_auto_columns": null,
            "margin": null,
            "display": null,
            "left": null
          }
        },
        "c57ffb486cce4617afb41cbc74841288": {
          "model_module": "@jupyter-widgets/controls",
          "model_name": "DescriptionStyleModel",
          "state": {
            "_view_name": "StyleView",
            "_model_name": "DescriptionStyleModel",
            "description_width": "",
            "_view_module": "@jupyter-widgets/base",
            "_model_module_version": "1.5.0",
            "_view_count": null,
            "_view_module_version": "1.2.0",
            "_model_module": "@jupyter-widgets/controls"
          }
        },
        "6e250eba41a74fc89456f9d8f0146170": {
          "model_module": "@jupyter-widgets/base",
          "model_name": "LayoutModel",
          "state": {
            "_view_name": "LayoutView",
            "grid_template_rows": null,
            "right": null,
            "justify_content": null,
            "_view_module": "@jupyter-widgets/base",
            "overflow": null,
            "_model_module_version": "1.2.0",
            "_view_count": null,
            "flex_flow": null,
            "width": null,
            "min_width": null,
            "border": null,
            "align_items": null,
            "bottom": null,
            "_model_module": "@jupyter-widgets/base",
            "top": null,
            "grid_column": null,
            "overflow_y": null,
            "overflow_x": null,
            "grid_auto_flow": null,
            "grid_area": null,
            "grid_template_columns": null,
            "flex": null,
            "_model_name": "LayoutModel",
            "justify_items": null,
            "grid_row": null,
            "max_height": null,
            "align_content": null,
            "visibility": null,
            "align_self": null,
            "height": null,
            "min_height": null,
            "padding": null,
            "grid_auto_rows": null,
            "grid_gap": null,
            "max_width": null,
            "order": null,
            "_view_module_version": "1.2.0",
            "grid_template_areas": null,
            "object_position": null,
            "object_fit": null,
            "grid_auto_columns": null,
            "margin": null,
            "display": null,
            "left": null
          }
        }
      }
    }
  },
  "cells": [
    {
      "cell_type": "markdown",
      "metadata": {
        "id": "view-in-github",
        "colab_type": "text"
      },
      "source": [
        "<a href=\"https://colab.research.google.com/github/lcaspari/42_tensorflow_homework/blob/main/homework10/Embeddings.ipynb\" target=\"_parent\"><img src=\"https://colab.research.google.com/assets/colab-badge.svg\" alt=\"Open In Colab\"/></a>"
      ]
    },
    {
      "cell_type": "code",
      "metadata": {
        "id": "Iy7V8ftA5BBs"
      },
      "source": [
        "import matplotlib.pyplot as plt\n",
        "import numpy as np\n",
        "import tensorflow as tf\n",
        "\n",
        "from tensorflow.keras import Model\n",
        "from tensorflow.keras.layers import Activation, Dense, Dot, Embedding, Flatten, GlobalAveragePooling1D, Reshape, Layer\n",
        "from tensorflow.keras.layers.experimental import preprocessing\n",
        "\n",
        "from tensorflow.keras.initializers import RandomUniform\n",
        "\n",
        "from tensorflow.python.util import compat\n",
        "\n",
        "import tensorflow_datasets as tfds\n",
        "import matplotlib.pyplot as plt\n",
        "\n",
        "from scipy.spatial import distance\n",
        "from sklearn.manifold import TSNE\n",
        "\n",
        "import re, math, time"
      ],
      "execution_count": 1,
      "outputs": []
    },
    {
      "cell_type": "markdown",
      "metadata": {
        "id": "LV_gr6U76GB1"
      },
      "source": [
        "# Load and preprocess the data"
      ]
    },
    {
      "cell_type": "markdown",
      "metadata": {
        "id": "n1Vrjq6s6NRp"
      },
      "source": [
        "## Load the data"
      ]
    },
    {
      "cell_type": "code",
      "metadata": {
        "id": "inWNgui8aCTS",
        "colab": {
          "base_uri": "https://localhost:8080/",
          "height": 357,
          "referenced_widgets": [
            "e69ff3f9167b4ae7b1b4b818e47b886b",
            "2d25527e23114c6eba272be4afb38b98",
            "393cf14e102648b2b183b2ffd4779e11",
            "a3694edcbf734ff9ad7f3ca7d0a7e447",
            "7435639107a44f42b43b469ce25c4624",
            "c5a24c59cedc4bad91a9cac0d17efc1c",
            "972fd2134a23412bb38e10211448d844",
            "81b47ea906f64cbe837e3af1685b2f18",
            "7c6483977a134f7ab8bed5470fe59043",
            "5a90ab3feccb4329b16c7889a93b383d",
            "1561d94cf45b4e6c89d15561a00c230a",
            "77f308cc455a41ddaf093d6e8b40cf84",
            "1312c51abb4646a9a28abd1d7f6c70d6",
            "7643e24fb7d546dcb7b6d2e887c94045",
            "74fc0087905a40238df800bd4389a140",
            "b56537f3acdf4bf4b189fbfce0cfca20",
            "553ee6d70ad9492c99be1b6ecdd0a8e3",
            "5e6a00a4c81848e7955228d7255104d3",
            "90f7c375b9ae4bbaa782d0f438ef8974",
            "017ec4b120b94cdd8b18b46c56d6bfe2",
            "01a7bf3a20a4440cbbe1df572a41d04c",
            "4b49b56071e44abc8092b0d722f057da",
            "99b5669cf9134e86a5ba9c0a70c6f38d",
            "75b24276038f4d088b65697ae92d124b",
            "183d0ab2fe3a4c559704704b92ecac6c",
            "6e041c83d6234c81b437506b491aa52f",
            "f4b041a693304b17b18ca93762da3ab6",
            "8d78066a5df8405ab5ad1198fa2c6c04",
            "615b76af1c9f430897d295adffcb9d61",
            "be34983a10ca42398ca758e17e5ff539",
            "175ecd3ba11c448a8bb8b01cd2ce7623",
            "76ab7bd401564477b3abdad884839844",
            "c21379645802495885a13a73271efb17",
            "869ca181dbe049b2bbf1cac7d814e0a7",
            "56c87187e2e14a3d8517a235e8503938",
            "fc873fbe43e345c18b8353ddc58414fe",
            "c686584669bb495dbdb7828cf6061c37",
            "633dc72b2a6e4449b7ccf3ba21fe291d",
            "2ea80431dbb94074b9adb54cdfd5a3ab",
            "61ea98c6144d402691cac7004ce87b25",
            "b8d79ec1975046deb205d8f77a41a53a",
            "585bc135a73442cf878f68787fc18ff4",
            "46bb46fa375b4cf5a320ae69b653b056",
            "4458eee69bde4ef79cc90292d632600b",
            "94128265deb64344ac48d3900c2524b1",
            "ea899b15c0c04f8e97ba7ae75c154d6b",
            "42a53c635c5e4a3e9ce877c229eac149",
            "4bf20de3bf1c4066b79c12b2f24cb4ff",
            "daa5f889b6664a9aab0f0b31c9f6580d",
            "ec8057fca6384b9889ccda386c8e574a",
            "b6435b83bb9448519af5d36c24366a6d",
            "70f93a79026447cd9a8cc0e7689afa8c",
            "f6f49b2b6a0547ffa0da0d8289d94510",
            "843b3bd6de9e4119ae5230cce48730e8",
            "4fd7faa7b5394ed88161fe6048983b56",
            "908b9960417b459da3e9f5b83dd21b26",
            "cf8981f825304adbb01b638000fc3a31",
            "9cfd0ca73f7645309654bc6fd7ea5c44",
            "4659cb7cc1854211ad6cdb4d25357e38",
            "fdcfba6bad97490db13df7e8c412124c",
            "5514834f45994d4ebff12f3975aac864",
            "71c683e39a264b7bb8eaec68474c0a37",
            "c57ffb486cce4617afb41cbc74841288",
            "6e250eba41a74fc89456f9d8f0146170"
          ]
        },
        "outputId": "b8af16fd-4706-4189-e7c5-5c52a90ff68d"
      },
      "source": [
        "testData = tfds.load(name=\"tiny_shakespeare\")[\"test\"]\n"
      ],
      "execution_count": 2,
      "outputs": [
        {
          "output_type": "stream",
          "text": [
            "\u001b[1mDownloading and preparing dataset tiny_shakespeare/1.0.0 (download: Unknown size, generated: 1.06 MiB, total: 1.06 MiB) to /root/tensorflow_datasets/tiny_shakespeare/1.0.0...\u001b[0m\n"
          ],
          "name": "stdout"
        },
        {
          "output_type": "display_data",
          "data": {
            "application/vnd.jupyter.widget-view+json": {
              "model_id": "e69ff3f9167b4ae7b1b4b818e47b886b",
              "version_minor": 0,
              "version_major": 2
            },
            "text/plain": [
              "HBox(children=(FloatProgress(value=1.0, bar_style='info', description='Dl Completed...', max=1.0, style=Progre…"
            ]
          },
          "metadata": {
            "tags": []
          }
        },
        {
          "output_type": "display_data",
          "data": {
            "application/vnd.jupyter.widget-view+json": {
              "model_id": "7c6483977a134f7ab8bed5470fe59043",
              "version_minor": 0,
              "version_major": 2
            },
            "text/plain": [
              "HBox(children=(FloatProgress(value=1.0, bar_style='info', description='Dl Size...', max=1.0, style=ProgressSty…"
            ]
          },
          "metadata": {
            "tags": []
          }
        },
        {
          "output_type": "stream",
          "text": [
            "\n",
            "\n",
            "\n",
            "\n"
          ],
          "name": "stdout"
        },
        {
          "output_type": "display_data",
          "data": {
            "application/vnd.jupyter.widget-view+json": {
              "model_id": "553ee6d70ad9492c99be1b6ecdd0a8e3",
              "version_minor": 0,
              "version_major": 2
            },
            "text/plain": [
              "HBox(children=(FloatProgress(value=1.0, bar_style='info', max=1.0), HTML(value='')))"
            ]
          },
          "metadata": {
            "tags": []
          }
        },
        {
          "output_type": "stream",
          "text": [
            "\rShuffling and writing examples to /root/tensorflow_datasets/tiny_shakespeare/1.0.0.incompleteTJHA7R/tiny_shakespeare-train.tfrecord\n"
          ],
          "name": "stdout"
        },
        {
          "output_type": "display_data",
          "data": {
            "application/vnd.jupyter.widget-view+json": {
              "model_id": "183d0ab2fe3a4c559704704b92ecac6c",
              "version_minor": 0,
              "version_major": 2
            },
            "text/plain": [
              "HBox(children=(FloatProgress(value=0.0, max=1.0), HTML(value='')))"
            ]
          },
          "metadata": {
            "tags": []
          }
        },
        {
          "output_type": "stream",
          "text": [
            "\r"
          ],
          "name": "stdout"
        },
        {
          "output_type": "display_data",
          "data": {
            "application/vnd.jupyter.widget-view+json": {
              "model_id": "c21379645802495885a13a73271efb17",
              "version_minor": 0,
              "version_major": 2
            },
            "text/plain": [
              "HBox(children=(FloatProgress(value=1.0, bar_style='info', max=1.0), HTML(value='')))"
            ]
          },
          "metadata": {
            "tags": []
          }
        },
        {
          "output_type": "stream",
          "text": [
            "\rShuffling and writing examples to /root/tensorflow_datasets/tiny_shakespeare/1.0.0.incompleteTJHA7R/tiny_shakespeare-validation.tfrecord\n"
          ],
          "name": "stdout"
        },
        {
          "output_type": "display_data",
          "data": {
            "application/vnd.jupyter.widget-view+json": {
              "model_id": "b8d79ec1975046deb205d8f77a41a53a",
              "version_minor": 0,
              "version_major": 2
            },
            "text/plain": [
              "HBox(children=(FloatProgress(value=0.0, max=1.0), HTML(value='')))"
            ]
          },
          "metadata": {
            "tags": []
          }
        },
        {
          "output_type": "stream",
          "text": [
            "\r"
          ],
          "name": "stdout"
        },
        {
          "output_type": "display_data",
          "data": {
            "application/vnd.jupyter.widget-view+json": {
              "model_id": "daa5f889b6664a9aab0f0b31c9f6580d",
              "version_minor": 0,
              "version_major": 2
            },
            "text/plain": [
              "HBox(children=(FloatProgress(value=1.0, bar_style='info', max=1.0), HTML(value='')))"
            ]
          },
          "metadata": {
            "tags": []
          }
        },
        {
          "output_type": "stream",
          "text": [
            "\rShuffling and writing examples to /root/tensorflow_datasets/tiny_shakespeare/1.0.0.incompleteTJHA7R/tiny_shakespeare-test.tfrecord\n"
          ],
          "name": "stdout"
        },
        {
          "output_type": "display_data",
          "data": {
            "application/vnd.jupyter.widget-view+json": {
              "model_id": "cf8981f825304adbb01b638000fc3a31",
              "version_minor": 0,
              "version_major": 2
            },
            "text/plain": [
              "HBox(children=(FloatProgress(value=0.0, max=1.0), HTML(value='')))"
            ]
          },
          "metadata": {
            "tags": []
          }
        },
        {
          "output_type": "stream",
          "text": [
            "\u001b[1mDataset tiny_shakespeare downloaded and prepared to /root/tensorflow_datasets/tiny_shakespeare/1.0.0. Subsequent calls will reuse this data.\u001b[0m\n",
            "\r"
          ],
          "name": "stdout"
        }
      ]
    },
    {
      "cell_type": "code",
      "metadata": {
        "colab": {
          "base_uri": "https://localhost:8080/"
        },
        "id": "g0NpZQqqaMAC",
        "outputId": "f20d85c4-bc3f-4185-dbb3-663a16533bab"
      },
      "source": [
        "for i in testData:\n",
        "  print(i.keys())\n",
        "  "
      ],
      "execution_count": 3,
      "outputs": [
        {
          "output_type": "stream",
          "text": [
            "dict_keys(['text'])\n"
          ],
          "name": "stdout"
        }
      ]
    },
    {
      "cell_type": "markdown",
      "metadata": {
        "id": "KzxkLlpL6n80"
      },
      "source": [
        "# 2. Word Embeddings"
      ]
    },
    {
      "cell_type": "markdown",
      "metadata": {
        "id": "AZvEdvNb6rdT"
      },
      "source": [
        "## 2.1 Preprocessing\n",
        "- translate words to enitity id \"castle\" → 1450\n",
        "  - convert to lowercase\n",
        "  - remove punctuation and new line characters\n",
        "- create two dictionaries containing the mappings\n",
        "  - dict1: word → id\n",
        "  - dict2: id → word\n",
        "- create input-target pairs \n",
        "  - containing the input and its context (the target)\n",
        "  - using a context window of 4 words\n",
        "    - (word, context1)\n",
        "    - (word, context2)\n",
        "    - (word, context3)\n",
        "    - (word, context4)\n",
        "\n",
        "**outstanding**\n",
        "→ disregard often occuring words with the given formular"
      ]
    },
    {
      "cell_type": "code",
      "metadata": {
        "id": "VQsKk753ZGJu"
      },
      "source": [
        "import re\n",
        "\n",
        "# remove punctuation\n",
        "trainText = next(iter(testData))[\"text\"].numpy()\n",
        "print(trainText)\n",
        "\n",
        "trainText = re.sub(r'\\\\n', ' ', str(trainText).lower())\n",
        "trainText = re.sub(r\"[^a-zA-Z ]\", '', trainText)\n",
        "\n",
        "print(trainText)"
      ],
      "execution_count": null,
      "outputs": []
    },
    {
      "cell_type": "code",
      "metadata": {
        "id": "ib123nXgh60A"
      },
      "source": [
        "# assign ids to the words and create the dictionaries\n",
        "vocab = {}\n",
        "\n",
        "s = 0.001\n",
        "\n",
        "calcProb = lambda x, z: (np.sqrt(z/s)+1)*(s/z)\n",
        "\n",
        "# split the string\n",
        "tokens = trainText.split(\" \")\n",
        "for index, token in enumerate(set(tokens)):\n",
        "  # add the subsampling calucaltion\n",
        "  # z = tokens.count(token)\n",
        "  # prob = (np.sqrt(z/s)+1)*(s/z)\n",
        "  vocab[token] = index\n",
        "\n",
        "vocab_size = len(vocab)\n",
        "inverse_vocab = {index: token for token, index in vocab.items()}\n",
        "\n",
        "print(vocab_size)\n",
        "print(vocab)\n",
        "print(inverse_vocab)"
      ],
      "execution_count": null,
      "outputs": []
    },
    {
      "cell_type": "code",
      "metadata": {
        "colab": {
          "base_uri": "https://localhost:8080/"
        },
        "id": "6sTE6f8cpQFE",
        "outputId": "d7954f9b-eb13-4cc4-8adb-95fa637c9bc5"
      },
      "source": [
        "# create input-context pairs\n",
        "train_sequence = [vocab[word] for word in tokens]\n",
        "\n",
        "window_size = 4\n",
        "positive_skip_grams, _ = tf.keras.preprocessing.sequence.skipgrams(\n",
        "      train_sequence, \n",
        "      vocabulary_size=vocab_size+1,\n",
        "      window_size=window_size,\n",
        "      negative_samples=0,\n",
        "      categorical=True,\n",
        "      shuffle=True)\n",
        "print(len(positive_skip_grams))"
      ],
      "execution_count": 6,
      "outputs": [
        {
          "output_type": "stream",
          "text": [
            "75848\n"
          ],
          "name": "stdout"
        }
      ]
    },
    {
      "cell_type": "code",
      "metadata": {
        "colab": {
          "base_uri": "https://localhost:8080/"
        },
        "id": "GNAmBgWGpsIy",
        "outputId": "f57ee47c-4aa3-4048-86c6-0f9fb067003f"
      },
      "source": [
        "for target, context in positive_skip_grams[:8]:\n",
        "  #if target == 2184:\n",
        "  print(f\"({target}, {context}): ({inverse_vocab[target]}, {inverse_vocab[context]})\")\n"
      ],
      "execution_count": 7,
      "outputs": [
        {
          "output_type": "stream",
          "text": [
            "(680, 1967): (to, whose)\n",
            "(703, 773): (i, mean)\n",
            "(1902, 1575): (sober, gentleman)\n",
            "(2171, 703): (know, i)\n",
            "(2179, 1971): (and, have)\n",
            "(1027, 637): (busy, cannot)\n",
            "(1985, 1482): (woman, of)\n",
            "(680, 1312): (to, wife)\n"
          ],
          "name": "stdout"
        }
      ]
    },
    {
      "cell_type": "code",
      "metadata": {
        "id": "Ff8tVlcuEmjD"
      },
      "source": [
        "batchSize = 32\n",
        "bufferSize = len(positive_skip_grams)\n",
        "\n",
        "asNum = np.array(positive_skip_grams)\n",
        "test_dataset = tf.data.Dataset.from_tensor_slices((asNum[:,0], asNum[:,1]))\n",
        "\n",
        "test_dataset = test_dataset.shuffle(bufferSize)\n",
        "test_dataset = test_dataset.batch(batchSize)\n",
        "test_dataset = test_dataset.cache()\n",
        "test_dataset = test_dataset.prefetch(buffer_size=tf.data.AUTOTUNE)\n",
        "\n"
      ],
      "execution_count": 8,
      "outputs": []
    },
    {
      "cell_type": "code",
      "metadata": {
        "colab": {
          "base_uri": "https://localhost:8080/"
        },
        "id": "CLh1MuR9GfYS",
        "outputId": "3a78cb6a-8ef5-4163-8537-8cf9ac0e51e2"
      },
      "source": [
        "for i in test_dataset:\n",
        "  print(i)\n",
        "  break"
      ],
      "execution_count": 9,
      "outputs": [
        {
          "output_type": "stream",
          "text": [
            "(<tf.Tensor: shape=(32,), dtype=int64, numpy=\n",
            "array([1236, 2023,  821, 2047,  672, 1039, 1050, 1541, 1491, 1050,  510,\n",
            "       1243,  877,  106,  421,  152,  640, 1050,  659, 1810, 1900, 1050,\n",
            "        680,  680,  777,  921,  598, 1189, 1016,  965, 1810, 1725])>, <tf.Tensor: shape=(32,), dtype=int64, numpy=\n",
            "array([ 499,  620,  486, 1997, 2044, 1971,  811,  103, 2104, 1379,  705,\n",
            "        175, 1876,   96, 1463,  295,  153, 1105,  567, 2013, 1567, 1257,\n",
            "        941, 1926,  703,  811, 1487,  545,   32, 1151, 1482,  971])>)\n"
          ],
          "name": "stdout"
        }
      ]
    },
    {
      "cell_type": "markdown",
      "metadata": {
        "id": "b5Ai61RIAOK6"
      },
      "source": [
        "## 2.2 Model\n",
        "- implement a skip Gram model to create word embeddings\n",
        "- use keras layer for the model\n",
        "- overwrite the build function\n",
        "  - use the tf.nn.nec_loss\n",
        "  - only the outputs for the target and the sampled words can be computed this way\n",
        "  - initalize the vocabulary in the __init__ function\n",
        "  - get the embeddings in the call function\n",
        "  - get the embeddings using tf.nn.embedding_lookup\n",
        "  average the batch manually\n"
      ]
    },
    {
      "cell_type": "code",
      "metadata": {
        "id": "9xDroWoMIz-h"
      },
      "source": [
        "class Word2Vec(Layer):\n",
        "  def __init__(self, vocabSize, embeddingSize):\n",
        "    super(Word2Vec, self).__init__()\n",
        "\n",
        "    self.vocabSize = vocabSize\n",
        "    self.embeddingSize = embeddingSize\n",
        "\n",
        "  def build(self, InputShape):\n",
        "    # goal is to optimize the embedding parameters \n",
        "    self.embedding = self.add_weight(\n",
        "            shape=(self.vocabSize, self.embeddingSize),\n",
        "            initializer = RandomUniform(minval=-1, maxval=1),\n",
        "            trainable=True,\n",
        "        )\n",
        "    \n",
        "    self.nce_weights = self.add_weight(\n",
        "        shape=(self.vocabSize, self.embeddingSize),\n",
        "        initializer=\"random_normal\",\n",
        "        trainable=True\n",
        "    )\n",
        "    self.nce_biases = self.add_weight(\n",
        "        shape=(self.vocabSize,),\n",
        "        initializer=\"random_normal\",\n",
        "        trainable=True\n",
        "    )\n",
        "\n",
        "  # train_inputs := source context\n",
        "  # train_labels := target words  \n",
        "  def call(self, train_inputs, train_labels, batchSize):\n",
        "    # train_inputs should have the shape=[batch_size]\n",
        "    # train_labels should have the shape=[batch_size, 1]\n",
        "    train_labels = tf.expand_dims(train_labels, -1) \n",
        "\n",
        "    embed = tf.nn.embedding_lookup(self.embedding, train_inputs)\n",
        "\n",
        "    # print(tf.shape(embed))\n",
        "    # print(self.vocabSize)\n",
        "    loss = tf.reduce_mean(\n",
        "        tf.nn.nce_loss(\n",
        "            weights = self.nce_weights, \n",
        "            biases = self.nce_biases, \n",
        "            labels = train_labels, \n",
        "            inputs = embed, \n",
        "            num_sampled = 1, \n",
        "            num_classes = self.vocabSize, \n",
        "            num_true=1\n",
        "    ))\n",
        "\n",
        "    return loss\n",
        "\n"
      ],
      "execution_count": 10,
      "outputs": []
    },
    {
      "cell_type": "markdown",
      "metadata": {
        "id": "lgrP9n7qYW0-"
      },
      "source": [
        "# 2.3 Training"
      ]
    },
    {
      "cell_type": "code",
      "metadata": {
        "id": "-8iGXlLnun74"
      },
      "source": [
        "def train_step(model, target, context, optimizer):\n",
        "  with tf.GradientTape() as tape:\n",
        "    loss = model(target, context, batchSize)\n",
        "    gradients = tape.gradient(loss, model.trainable_variables)\n",
        "\n",
        "  optimizer.apply_gradients(zip(gradients, model.trainable_variables))\n",
        "\n",
        "  return loss\n",
        "\n",
        "def nearest_neighbours(target, k, embedding):\n",
        "  # get the embedding of the target word\n",
        "  targetEmbedding = tf.nn.embedding_lookup(embedding, vocab[target])\n",
        "  \n",
        "  # collect the similiarity scores \n",
        "  mostSimilar = []\n",
        "  for ii in embedding.numpy():\n",
        "    mostSimilar.append(distance.cosine(targetEmbedding, ii))\n",
        "  \n",
        "  kNeighbours = np.argsort(np.array(mostSimilar))[-(1+k):-1]\n",
        "  \n",
        "  return [inverse_vocab[n] for n in kNeighbours], targetEmbedding\n",
        "\n",
        "def plotEmbedding(embeddings, tokens):\n",
        "  tsne = TSNE(n_components=2, init='pca', random_state=0)\n",
        "  X_tsne = tsne.fit_transform(embeddings)\n",
        "\n",
        "  n = [58, 651, 393, 203, 123, 123, 123]  \n",
        "  plt.scatter(X_tsne[:,0], X_tsne[:,1])\n",
        "\n",
        "  for i, token in enumerate(tokens):\n",
        "    plt.annotate(token, (X_tsne[i,0], X_tsne[i,1]))\n",
        "\n",
        "def train_model(model, epochs, learning_rate, test_tokens):\n",
        "  optimizer = tf.keras.optimizers.Adam(learning_rate=learning_rate)\n",
        "\n",
        "  for epoch in range(epochs):\n",
        "    losses = []\n",
        "\n",
        "    runningLoss = []\n",
        "    for data in test_dataset:\n",
        "      loss = train_step(model, data[0], data[1], optimizer)\n",
        "      runningLoss.append(loss)\n",
        "\n",
        "    losses.append(np.mean(runningLoss))\n",
        "    print(f\"Epoch: {epoch} loss: {loss}\")\n",
        "\n",
        "    embeddings = []\n",
        "    for token in test_tokens:\n",
        "      nearestWords, wordEmbeddings = nearest_neighbours(token, num_neighbours, model.embedding)\n",
        "      embeddings.append(wordEmbeddings)\n",
        "      print(f\"  {token}: {', '.join(nearestWords)}\")\n",
        "\n",
        "    plotEmbedding(np.array(embeddings), test_tokens)\n",
        "    plt.show()\n",
        "    \n"
      ],
      "execution_count": 11,
      "outputs": []
    },
    {
      "cell_type": "code",
      "metadata": {
        "colab": {
          "base_uri": "https://localhost:8080/",
          "height": 1000
        },
        "id": "7SK_cfYvVAcD",
        "outputId": "20adf452-1351-477b-a7ea-cb8134316256"
      },
      "source": [
        "epochs = 10\n",
        "learning_rate = 0.01\n",
        "embedding_size = 65\n",
        "num_neighbours = 5 \n",
        "\n",
        "test_tokens = [\"gold\", \"authority\", \"wine\", \"death\", \"love\", \"faith\", \"day\"]\n",
        "\n",
        "model = Word2Vec(vocab_size, embedding_size)\n",
        "\n",
        "train_model(model, epochs, learning_rate, test_tokens)"
      ],
      "execution_count": 12,
      "outputs": [
        {
          "output_type": "stream",
          "text": [
            "Epoch: 0 loss: 0.6149881482124329\n",
            "  gold: curld, awakend, sinner, scape, serve\n",
            "  authority: sayest, trod, nigh, room, bergamo\n",
            "  wine: behind, scape, confounds, obedient, trod\n",
            "  death: paid, confounds, trod, nigh, scape\n",
            "  love: dwelling, lieu, forswear, awakend, nigh\n",
            "  faith: paid, quickwitted, scape, ship, nigh\n",
            "  day: ye, darest, scape, trod, awakend\n"
          ],
          "name": "stdout"
        },
        {
          "output_type": "display_data",
          "data": {
            "image/png": "[encoded data removed]",
            "text/plain": [
              "<Figure size 432x288 with 1 Axes>"
            ]
          },
          "metadata": {
            "tags": [],
            "needs_background": "light"
          }
        },
        {
          "output_type": "stream",
          "text": [
            "Epoch: 1 loss: 0.048147398978471756\n",
            "  gold: carries, serve, replied, born, straws\n",
            "  authority: heavenly, up, forgets, sin, winkst\n",
            "  wine: lodging, carries, prerogative, odd, plaster\n",
            "  death: bodes, joves, forgets, princess, field\n",
            "  love: awful, humble, straws, honeycomb, beasts\n",
            "  faith: beginning, clouds, enough, annual, whistle\n",
            "  day: sore, assure, beyond, jarring, darest\n"
          ],
          "name": "stdout"
        },
        {
          "output_type": "display_data",
          "data": {
            "image/png": "[encoded data removed]",
            "text/plain": [
              "<Figure size 432x288 with 1 Axes>"
            ]
          },
          "metadata": {
            "tags": [],
            "needs_background": "light"
          }
        },
        {
          "output_type": "stream",
          "text": [
            "Epoch: 2 loss: 0.6449207067489624\n",
            "  gold: intolerable, round, study, retired, mediterranean\n",
            "  authority: retired, lodging, stuffs, came, deafness\n",
            "  wine: visitor, lodging, stuffs, wert, question\n",
            "  death: speech, cock, retired, making, mistress\n",
            "  love: fine, dulness, deserved, scapes, endured\n",
            "  faith: leapd, stuffs, should, stained, souls\n",
            "  day: right, sign, laying, dulness, beside\n"
          ],
          "name": "stdout"
        },
        {
          "output_type": "display_data",
          "data": {
            "image/png": "[encoded data removed]",
            "text/plain": [
              "<Figure size 432x288 with 1 Axes>"
            ]
          },
          "metadata": {
            "tags": [],
            "needs_background": "light"
          }
        },
        {
          "output_type": "stream",
          "text": [
            "Epoch: 3 loss: 0.3346157968044281\n",
            "  gold: tilth, servant, sin, , blots\n",
            "  authority: advantage, honeycomb, bees, sin, winkst\n",
            "  wine: servant, fortunes, question, whoreson, blots\n",
            "  death: speech, goodlier, making, plaster, confounds\n",
            "  love: expound, imagination, show, deceiving, task\n",
            "  faith: blots, leapd, making, should, comfort\n",
            "  day: cake, shape, may, warrants, winkst\n"
          ],
          "name": "stdout"
        },
        {
          "output_type": "display_data",
          "data": {
            "image/png": "[encoded data removed]",
            "text/plain": [
              "<Figure size 432x288 with 1 Axes>"
            ]
          },
          "metadata": {
            "tags": [],
            "needs_background": "light"
          }
        },
        {
          "output_type": "stream",
          "text": [
            "Epoch: 4 loss: 0.4189351797103882\n",
            "  gold: married, few, devil, bad, \n",
            "  authority: smile, fame, grass, goddess, tended\n",
            "  wine: impossible, changed, mast, young, lovely\n",
            "  death: bed, moody, play, grand, swift\n",
            "  love: adventure, bawling, water, habit, ferdinand\n",
            "  faith: swift, grand, penetrate, spiriting, grudge\n",
            "  day: winkst, quaint, wills, moving, pike\n"
          ],
          "name": "stdout"
        },
        {
          "output_type": "display_data",
          "data": {
            "image/png": "[encoded data removed]",
            "text/plain": [
              "<Figure size 432x288 with 1 Axes>"
            ]
          },
          "metadata": {
            "tags": [],
            "needs_background": "light"
          }
        },
        {
          "output_type": "stream",
          "text": [
            "Epoch: 5 loss: 1.3394804000854492\n",
            "  gold: married, succession, mong, piteous, seastorm\n",
            "  authority: wombs, came, steaded, strong, seastorm\n",
            "  wine: darest, grown, muddy, alonso, like\n",
            "  death: pinchd, goodlier, confounds, bed, joves\n",
            "  love: darest, words, villain, mans, tortoise\n",
            "  faith: parsley, earthy, grand, else, basis\n",
            "  day: furze, pike, laughter, birth, foison\n"
          ],
          "name": "stdout"
        },
        {
          "output_type": "display_data",
          "data": {
            "image/png": "[encoded data removed]",
            "text/plain": [
              "<Figure size 432x288 with 1 Axes>"
            ]
          },
          "metadata": {
            "tags": [],
            "needs_background": "light"
          }
        },
        {
          "output_type": "stream",
          "text": [
            "Epoch: 6 loss: 0.2723785936832428\n",
            "  gold: thyself, borne, seastorm, , demanded\n",
            "  authority: clouds, monstrous, goddess, winkst, seastorm\n",
            "  wine: own, possesses, bowd, magistrate, marrying\n",
            "  death: howld, fall, goodlier, making, gate\n",
            "  love: strokedst, subdued, calldst, bawling, water\n",
            "  faith: grand, against, eye, else, int\n",
            "  day: almost, weeping, eye, beside, has\n"
          ],
          "name": "stdout"
        },
        {
          "output_type": "display_data",
          "data": {
            "image/png": "[encoded data removed]",
            "text/plain": [
              "<Figure size 432x288 with 1 Axes>"
            ]
          },
          "metadata": {
            "tags": [],
            "needs_background": "light"
          }
        },
        {
          "output_type": "stream",
          "text": [
            "Epoch: 7 loss: 0.0014188583008944988\n",
            "  gold: command, now, exactly, , bad\n",
            "  authority: fair, but, strong, winkst, privately\n",
            "  wine: muddy, like, endowd, marrying, privately\n",
            "  death: banishd, mistress, fall, grudge, confounds\n",
            "  love: deceiving, endowd, upon, strokedst, winds\n",
            "  faith: clouds, eye, basis, earthy, joy\n",
            "  day: serve, glosses, beside, one, has\n"
          ],
          "name": "stdout"
        },
        {
          "output_type": "display_data",
          "data": {
            "image/png": "[encoded data removed]",
            "text/plain": [
              "<Figure size 432x288 with 1 Axes>"
            ]
          },
          "metadata": {
            "tags": [],
            "needs_background": "light"
          }
        },
        {
          "output_type": "stream",
          "text": [
            "Epoch: 8 loss: 0.5151702761650085\n",
            "  gold: hours, bad, seastorm, tribute, exactly\n",
            "  authority: key, none, came, goddess, changed\n",
            "  wine: endowd, affection, deign, scarlet, name\n",
            "  death: fall, mountain, seek, tortoise, likelihood\n",
            "  love: cramps, task, strokedst, bowsprit, bees\n",
            "  faith: waist, hoop, earthy, basis, remembrance\n",
            "  day: impossible, ways, one, potent, warrants\n"
          ],
          "name": "stdout"
        },
        {
          "output_type": "display_data",
          "data": {
            "image/png": "[encoded data removed]",
            "text/plain": [
              "<Figure size 432x288 with 1 Axes>"
            ]
          },
          "metadata": {
            "tags": [],
            "needs_background": "light"
          }
        },
        {
          "output_type": "stream",
          "text": [
            "Epoch: 9 loss: 0.10493133217096329\n",
            "  gold: exactly, bad, thyself, seastorm, devil\n",
            "  authority: human, new, their, foul, changed\n",
            "  wine: comfort, affection, extirpate, like, deign\n",
            "  death: grudge, privilegio, gun, tot, trust\n",
            "  love: imposter, extirpate, take, mocking, strokedst\n",
            "  faith: had, purposed, lay, sword, run\n",
            "  day: perils, hush, mediterranean, study, howl\n"
          ],
          "name": "stdout"
        },
        {
          "output_type": "display_data",
          "data": {
            "image/png": "[encoded data removed]",
            "text/plain": [
              "<Figure size 432x288 with 1 Axes>"
            ]
          },
          "metadata": {
            "tags": [],
            "needs_background": "light"
          }
        }
      ]
    },
    {
      "cell_type": "markdown",
      "metadata": {
        "id": "xRzEym09YcK-"
      },
      "source": [
        "# 3 Text Generation"
      ]
    },
    {
      "cell_type": "markdown",
      "metadata": {
        "id": "XsEGAncrYffx"
      },
      "source": [
        "## 3.1 Preprocessing"
      ]
    },
    {
      "cell_type": "code",
      "metadata": {
        "id": "beZeulHIQNjb"
      },
      "source": [
        "dataset = tfds.load('tiny_shakespeare', split = 'train')"
      ],
      "execution_count": 13,
      "outputs": []
    },
    {
      "cell_type": "code",
      "metadata": {
        "id": "OoGWK6YaQPPo"
      },
      "source": [
        "# preprocessing data \r\n",
        "\r\n",
        "def make_handy(dataset):\r\n",
        "  \"\"\" This function extracts the string tensor and converts it \r\n",
        "      into a string and afterwards makes the text handy to work with\"\"\"\r\n",
        "\r\n",
        "  for data in dataset:\r\n",
        "    # Extracting text from dictionary and get string tensor with .numpy()\r\n",
        "    # convert string tensor to string with compat.as_text --> more handy \r\n",
        "    text = compat.as_text(data[\"text\"].numpy())\r\n",
        "\r\n",
        "  return text"
      ],
      "execution_count": 14,
      "outputs": []
    },
    {
      "cell_type": "code",
      "metadata": {
        "id": "3sgTJsIAQRix"
      },
      "source": [
        "text = make_handy(dataset)"
      ],
      "execution_count": 15,
      "outputs": []
    },
    {
      "cell_type": "code",
      "metadata": {
        "colab": {
          "base_uri": "https://localhost:8080/"
        },
        "id": "N7Em5F-2QUdl",
        "outputId": "609b15ed-7900-460b-ce0a-26b9f3e6e5d0"
      },
      "source": [
        "# The unique characters in the file\r\n",
        "vocab = sorted(set(text))\r\n",
        "print('{} unique characters'.format(len(vocab)))\r\n",
        "\r\n",
        "#splitting chars\r\n",
        "chars = tf.strings.unicode_split(text, input_encoding='UTF-8')\r\n",
        "\r\n",
        "# create Lookup \r\n",
        "\r\n",
        "# ids from chars\r\n",
        "ids_from_chars = preprocessing.StringLookup(\r\n",
        "    vocabulary=list(vocab))\r\n",
        "\r\n",
        "# chars from ids\r\n",
        "chars_from_ids = tf.keras.layers.experimental.preprocessing.StringLookup(\r\n",
        "    vocabulary=ids_from_chars.get_vocabulary(), invert=True)\r\n",
        "\r\n",
        "# all IDs\r\n",
        "all_ids = ids_from_chars(tf.strings.unicode_split(text, 'UTF-8'))\r\n",
        "\r\n",
        "ids_dataset = tf.data.Dataset.from_tensor_slices(all_ids)\r\n",
        "\r\n",
        "def text_from_ids(ids):\r\n",
        "  return tf.strings.reduce_join(chars_from_ids(ids), axis=-1)\r\n"
      ],
      "execution_count": 16,
      "outputs": [
        {
          "output_type": "stream",
          "text": [
            "65 unique characters\n"
          ],
          "name": "stdout"
        }
      ]
    },
    {
      "cell_type": "code",
      "metadata": {
        "id": "-3ykJD-hf6jj"
      },
      "source": [
        "def split_input_target(sequence):\r\n",
        "    input_text = sequence[:-1]\r\n",
        "    target_text = sequence[1:]\r\n",
        "    return input_text, target_text"
      ],
      "execution_count": 17,
      "outputs": []
    },
    {
      "cell_type": "code",
      "metadata": {
        "colab": {
          "base_uri": "https://localhost:8080/"
        },
        "id": "08xEcOooSNQS",
        "outputId": "f2316d8d-9454-44ca-9b4b-fa9a92163e02"
      },
      "source": [
        "seq_length = 100\r\n",
        "examples_per_epoch = len(text)//(seq_length+1)\r\n",
        "\r\n",
        "sequences = ids_dataset.batch(seq_length+1, drop_remainder=True)\r\n",
        "\r\n",
        "for seq in sequences.take(1):\r\n",
        "  print(chars_from_ids(seq))\r\n",
        "\r\n",
        "\r\n",
        "dataset = sequences.map(split_input_target)\r\n",
        "\r\n",
        "\r\n",
        "for input_example, target_example in  dataset.take(1):\r\n",
        "    print(\"Input :\", text_from_ids(input_example).numpy())\r\n",
        "    print(\"Target:\", text_from_ids(target_example).numpy())\r\n"
      ],
      "execution_count": 18,
      "outputs": [
        {
          "output_type": "stream",
          "text": [
            "tf.Tensor(\n",
            "[b'F' b'i' b'r' b's' b't' b' ' b'C' b'i' b't' b'i' b'z' b'e' b'n' b':'\n",
            " b'\\n' b'B' b'e' b'f' b'o' b'r' b'e' b' ' b'w' b'e' b' ' b'p' b'r' b'o'\n",
            " b'c' b'e' b'e' b'd' b' ' b'a' b'n' b'y' b' ' b'f' b'u' b'r' b't' b'h'\n",
            " b'e' b'r' b',' b' ' b'h' b'e' b'a' b'r' b' ' b'm' b'e' b' ' b's' b'p'\n",
            " b'e' b'a' b'k' b'.' b'\\n' b'\\n' b'A' b'l' b'l' b':' b'\\n' b'S' b'p' b'e'\n",
            " b'a' b'k' b',' b' ' b's' b'p' b'e' b'a' b'k' b'.' b'\\n' b'\\n' b'F' b'i'\n",
            " b'r' b's' b't' b' ' b'C' b'i' b't' b'i' b'z' b'e' b'n' b':' b'\\n' b'Y'\n",
            " b'o' b'u' b' '], shape=(101,), dtype=string)\n",
            "Input : b'First Citizen:\\nBefore we proceed any further, hear me speak.\\n\\nAll:\\nSpeak, speak.\\n\\nFirst Citizen:\\nYou'\n",
            "Target: b'irst Citizen:\\nBefore we proceed any further, hear me speak.\\n\\nAll:\\nSpeak, speak.\\n\\nFirst Citizen:\\nYou '\n"
          ],
          "name": "stdout"
        }
      ]
    },
    {
      "cell_type": "code",
      "metadata": {
        "colab": {
          "base_uri": "https://localhost:8080/"
        },
        "id": "AZEOy6ElS0s8",
        "outputId": "b1c8b4c6-142f-4547-a47c-53212a3242f8"
      },
      "source": [
        "# Batch size\r\n",
        "BATCH_SIZE = 64\r\n",
        "\r\n",
        "# Buffer size to shuffle the dataset\r\n",
        "# (TF data is designed to work with possibly infinite sequences,\r\n",
        "# so it doesn't attempt to shuffle the entire sequence in memory. Instead,\r\n",
        "# it maintains a buffer in which it shuffles elements).\r\n",
        "BUFFER_SIZE = 10000\r\n",
        "\r\n",
        "dataset = (\r\n",
        "    dataset\r\n",
        "    .shuffle(BUFFER_SIZE)\r\n",
        "    .batch(BATCH_SIZE, drop_remainder=True)\r\n",
        "    .prefetch(tf.data.experimental.AUTOTUNE))\r\n",
        "\r\n",
        "dataset"
      ],
      "execution_count": 19,
      "outputs": [
        {
          "output_type": "execute_result",
          "data": {
            "text/plain": [
              "<PrefetchDataset shapes: ((64, 100), (64, 100)), types: (tf.int64, tf.int64)>"
            ]
          },
          "metadata": {
            "tags": []
          },
          "execution_count": 19
        }
      ]
    },
    {
      "cell_type": "code",
      "metadata": {
        "colab": {
          "base_uri": "https://localhost:8080/"
        },
        "id": "A8vy1wujR6wZ",
        "outputId": "b980e99b-0b89-4ca4-ed06-7751065b02c8"
      },
      "source": [
        "#dataset = sequences.map(split_input_target)\r\n",
        "\r\n",
        "for input_example_batch, target_example_batch in dataset.take(1):\r\n",
        "  print(input_example_batch)"
      ],
      "execution_count": 20,
      "outputs": [
        {
          "output_type": "stream",
          "text": [
            "tf.Tensor(\n",
            "[[ 8  3 65 ... 43 45  3]\n",
            " [30 52 41 ... 58 44 59]\n",
            " [59  8  3 ... 41  3 59]\n",
            " ...\n",
            " [48 49 53 ...  3 42 45]\n",
            " [62 45  3 ... 59  3 58]\n",
            " [65  8  2 ... 28 21  3]], shape=(64, 100), dtype=int64)\n"
          ],
          "name": "stdout"
        }
      ]
    },
    {
      "cell_type": "code",
      "metadata": {
        "id": "ZQ5lDTR_TosC"
      },
      "source": [
        "# Length of the vocabulary in chars\r\n",
        "vocab_size = len(vocab)\r\n",
        "\r\n",
        "# The embedding dimension\r\n",
        "embedding_dim = 256\r\n",
        "\r\n",
        "# Number of RNN units\r\n",
        "rnn_units = 1024\r\n"
      ],
      "execution_count": 21,
      "outputs": []
    },
    {
      "cell_type": "code",
      "metadata": {
        "id": "UOmwBcNdQWZ_"
      },
      "source": [
        "class MyModel(tf.keras.Model):\r\n",
        "  def __init__(self, vocab_size, embedding_dim, rnn_units):\r\n",
        "    super().__init__(self)\r\n",
        "    self.embedding = tf.keras.layers.Embedding(vocab_size, embedding_dim)\r\n",
        "    self.gru = tf.keras.layers.GRU(rnn_units,\r\n",
        "                                   return_sequences=True, \r\n",
        "                                   return_state=True, \r\n",
        "                                   name = \"kevin\")\r\n",
        "    self.dense = tf.keras.layers.Dense(vocab_size)\r\n",
        "\r\n",
        "  def call(self, inputs, states=None, return_state=False, training=False):\r\n",
        "    x = inputs\r\n",
        "    # print(x, \"inputs\")\r\n",
        "    x = self.embedding(x, training=training)\r\n",
        "    if states is None:\r\n",
        "      states = self.gru.get_initial_state(x)\r\n",
        "    x, states = self.gru(x, initial_state=states, training=training)\r\n",
        "    x = self.dense(x, training=training)\r\n",
        "\r\n",
        "    if return_state:\r\n",
        "      return x, states\r\n",
        "    else: \r\n",
        "      return x"
      ],
      "execution_count": 22,
      "outputs": []
    },
    {
      "cell_type": "code",
      "metadata": {
        "colab": {
          "base_uri": "https://localhost:8080/"
        },
        "id": "Yw47oe-KQ_SX",
        "outputId": "58df4315-04d9-4b26-9bcb-fcd36d5d4932"
      },
      "source": [
        "model = MyModel(\r\n",
        "    # Be sure the vocabulary size matches the `StringLookup` layers.\r\n",
        "    vocab_size=len(ids_from_chars.get_vocabulary()),\r\n",
        "    embedding_dim=embedding_dim,\r\n",
        "    rnn_units=rnn_units)\r\n",
        "\r\n",
        "print(vocab_size)"
      ],
      "execution_count": 23,
      "outputs": [
        {
          "output_type": "stream",
          "text": [
            "65\n"
          ],
          "name": "stdout"
        }
      ]
    },
    {
      "cell_type": "code",
      "metadata": {
        "colab": {
          "base_uri": "https://localhost:8080/"
        },
        "id": "fTYAMKZZTd1s",
        "outputId": "ef020c20-0b7f-4570-93b2-9299c2469401"
      },
      "source": [
        "for input_example_batch, target_example_batch in dataset.take(1):\r\n",
        "    example_batch_predictions = model(input_example_batch)\r\n",
        "    print(example_batch_predictions.shape, \"# (batch_size, sequence_length, vocab_size)\")\r\n",
        "\r\n",
        "model.summary()"
      ],
      "execution_count": 24,
      "outputs": [
        {
          "output_type": "stream",
          "text": [
            "(64, 100, 67) # (batch_size, sequence_length, vocab_size)\n",
            "Model: \"my_model\"\n",
            "_________________________________________________________________\n",
            "Layer (type)                 Output Shape              Param #   \n",
            "=================================================================\n",
            "embedding (Embedding)        multiple                  17152     \n",
            "_________________________________________________________________\n",
            "kevin (GRU)                  multiple                  3938304   \n",
            "_________________________________________________________________\n",
            "dense (Dense)                multiple                  68675     \n",
            "=================================================================\n",
            "Total params: 4,024,131\n",
            "Trainable params: 4,024,131\n",
            "Non-trainable params: 0\n",
            "_________________________________________________________________\n"
          ],
          "name": "stdout"
        }
      ]
    },
    {
      "cell_type": "code",
      "metadata": {
        "id": "_ex4G_x6RBY1"
      },
      "source": [
        "loss = tf.losses.SparseCategoricalCrossentropy(from_logits=True)\r\n"
      ],
      "execution_count": 25,
      "outputs": []
    },
    {
      "cell_type": "code",
      "metadata": {
        "id": "loXwdS3SREAa",
        "colab": {
          "base_uri": "https://localhost:8080/"
        },
        "outputId": "28816630-f353-4daf-9359-6e12223c2120"
      },
      "source": [
        "example_batch_loss = loss(target_example_batch, example_batch_predictions)\r\n",
        "mean_loss = example_batch_loss.numpy().mean()\r\n",
        "print(\"Prediction shape: \", example_batch_predictions.shape, \" # (batch_size, sequence_length, vocab_size)\")\r\n",
        "print(\"Mean loss:        \", mean_loss)"
      ],
      "execution_count": 26,
      "outputs": [
        {
          "output_type": "stream",
          "text": [
            "Prediction shape:  (64, 100, 67)  # (batch_size, sequence_length, vocab_size)\n",
            "Mean loss:         4.2053504\n"
          ],
          "name": "stdout"
        }
      ]
    },
    {
      "cell_type": "code",
      "metadata": {
        "id": "8adG-ha7RHqk"
      },
      "source": [
        "model.compile(optimizer='adam', loss=loss)\r\n"
      ],
      "execution_count": 27,
      "outputs": []
    },
    {
      "cell_type": "code",
      "metadata": {
        "id": "KiOdJ_dhRJr3",
        "colab": {
          "base_uri": "https://localhost:8080/"
        },
        "outputId": "6a9ddc00-110b-473a-c98c-b0df3d4ec37b"
      },
      "source": [
        "EPOCHS = 20\r\n",
        "\r\n",
        "history = model.fit(dataset, epochs=EPOCHS)\r\n"
      ],
      "execution_count": 28,
      "outputs": [
        {
          "output_type": "stream",
          "text": [
            "Epoch 1/20\n",
            "155/155 [==============================] - 11s 57ms/step - loss: 3.3343\n",
            "Epoch 2/20\n",
            "155/155 [==============================] - 10s 57ms/step - loss: 2.1239\n",
            "Epoch 3/20\n",
            "155/155 [==============================] - 10s 58ms/step - loss: 1.8022\n",
            "Epoch 4/20\n",
            "155/155 [==============================] - 10s 59ms/step - loss: 1.6071\n",
            "Epoch 5/20\n",
            "155/155 [==============================] - 10s 58ms/step - loss: 1.4891\n",
            "Epoch 6/20\n",
            "155/155 [==============================] - 10s 57ms/step - loss: 1.4072\n",
            "Epoch 7/20\n",
            "155/155 [==============================] - 10s 57ms/step - loss: 1.3477\n",
            "Epoch 8/20\n",
            "155/155 [==============================] - 10s 57ms/step - loss: 1.2960\n",
            "Epoch 9/20\n",
            "155/155 [==============================] - 10s 57ms/step - loss: 1.2524\n",
            "Epoch 10/20\n",
            "155/155 [==============================] - 10s 57ms/step - loss: 1.2042\n",
            "Epoch 11/20\n",
            "155/155 [==============================] - 10s 57ms/step - loss: 1.1649\n",
            "Epoch 12/20\n",
            "155/155 [==============================] - 10s 58ms/step - loss: 1.1183\n",
            "Epoch 13/20\n",
            "155/155 [==============================] - 10s 57ms/step - loss: 1.0747\n",
            "Epoch 14/20\n",
            "155/155 [==============================] - 10s 57ms/step - loss: 1.0255\n",
            "Epoch 15/20\n",
            "155/155 [==============================] - 10s 57ms/step - loss: 0.9725\n",
            "Epoch 16/20\n",
            "155/155 [==============================] - 10s 57ms/step - loss: 0.9198\n",
            "Epoch 17/20\n",
            "155/155 [==============================] - 10s 57ms/step - loss: 0.8606\n",
            "Epoch 18/20\n",
            "155/155 [==============================] - 10s 57ms/step - loss: 0.8038\n",
            "Epoch 19/20\n",
            "155/155 [==============================] - 10s 57ms/step - loss: 0.7498\n",
            "Epoch 20/20\n",
            "155/155 [==============================] - 10s 57ms/step - loss: 0.6927\n"
          ],
          "name": "stdout"
        }
      ]
    },
    {
      "cell_type": "code",
      "metadata": {
        "id": "bxyxNEbJRKJa"
      },
      "source": [
        "class OneStep(tf.keras.Model):\r\n",
        "  def __init__(self, model, chars_from_ids, ids_from_chars, temperature=1.0):\r\n",
        "    super().__init__()\r\n",
        "    self.temperature=temperature\r\n",
        "    self.model = model\r\n",
        "    self.chars_from_ids = chars_from_ids\r\n",
        "    self.ids_from_chars = ids_from_chars\r\n",
        "\r\n",
        "    # Create a mask to prevent \"\" or \"[UNK]\" from being generated.\r\n",
        "    skip_ids = self.ids_from_chars(['','[UNK]'])[:, None]\r\n",
        "    sparse_mask = tf.SparseTensor(\r\n",
        "        # Put a -inf at each bad index.\r\n",
        "        values=[-float('inf')]*len(skip_ids),\r\n",
        "        indices = skip_ids,\r\n",
        "        # Match the shape to the vocabulary\r\n",
        "        dense_shape=[len(ids_from_chars.get_vocabulary())]) \r\n",
        "    self.prediction_mask = tf.sparse.to_dense(sparse_mask)\r\n",
        "\r\n",
        "  @tf.function\r\n",
        "  def generate_one_step(self, inputs, states=None):\r\n",
        "    # Convert strings to token IDs.\r\n",
        "    input_chars = tf.strings.unicode_split(inputs, 'UTF-8')\r\n",
        "    input_ids = self.ids_from_chars(input_chars).to_tensor()\r\n",
        "\r\n",
        "    # Run the model.\r\n",
        "    # predicted_logits.shape is [batch, char, next_char_logits] \r\n",
        "    predicted_logits, states =  self.model(inputs=input_ids, states=states, \r\n",
        "                                          return_state=True)\r\n",
        "    # Only use the last prediction.\r\n",
        "    predicted_logits = predicted_logits[:, -1, :]\r\n",
        "    predicted_logits = predicted_logits/self.temperature\r\n",
        "    # Apply the prediction mask: prevent \"\" or \"[UNK]\" from being generated.\r\n",
        "    predicted_logits = predicted_logits + self.prediction_mask\r\n",
        "\r\n",
        "    # Sample the output logits to generate token IDs.\r\n",
        "    predicted_ids = tf.random.categorical(predicted_logits, num_samples=1)\r\n",
        "    predicted_ids = tf.squeeze(predicted_ids, axis=-1)\r\n",
        "\r\n",
        "    # Convert from token ids to characters\r\n",
        "    predicted_chars = self.chars_from_ids(predicted_ids)\r\n",
        "\r\n",
        "    # Return the characters and model state.\r\n",
        "    return predicted_chars, states\r\n",
        "\r\n",
        "one_step_model = OneStep(model, chars_from_ids, ids_from_chars)\r\n"
      ],
      "execution_count": 29,
      "outputs": []
    },
    {
      "cell_type": "code",
      "metadata": {
        "id": "Q4OPT4dwRM-l",
        "colab": {
          "base_uri": "https://localhost:8080/"
        },
        "outputId": "8b9522da-16ed-4dc2-caf9-5ffc73ecdf87"
      },
      "source": [
        "start = time.time()\r\n",
        "states = None\r\n",
        "next_char = tf.constant(['ROMEO:'])\r\n",
        "result = [next_char]\r\n",
        "\r\n",
        "for n in range(1000):\r\n",
        "  next_char, states = one_step_model.generate_one_step(next_char, states=states)\r\n",
        "  result.append(next_char)\r\n",
        "\r\n",
        "result = tf.strings.join(result)\r\n",
        "end = time.time()\r\n",
        "\r\n",
        "print(result[0].numpy().decode('utf-8'), '\\n\\n' + '_'*80)\r\n",
        "\r\n",
        "print(f\"\\nRun time: {end - start}\")\r\n"
      ],
      "execution_count": 30,
      "outputs": [
        {
          "output_type": "stream",
          "text": [
            "ROMEO:\n",
            "I saw her curses that faults Marcius for the banishment\n",
            "That is so study when you pardon to myself?\n",
            "What, if thou wilt path the causes of them are\n",
            "neither maidens sudden.\n",
            "\n",
            "WARWICK:\n",
            "Send them, as near as this shame? Yourge Marcius!\n",
            "\n",
            "MARCIUS:\n",
            "I'll be gone; the very time escapes of\n",
            "Mantus to see any sharp in heaven at whit?\n",
            "Here's me deserve walk. Come, living Romeo,\n",
            "If the beard the appetite to len her crown\n",
            "Then were condect'd in Rome: you are not well-seeming,\n",
            "Bears a common friends. I love you, look that\n",
            "Which dead? She is another breaks,\n",
            "And wasten it with our steel again; nor Edward's charge,\n",
            "Have I not been within the ground. Have we not lend them serve\n",
            "Thee--not so fladiout,\n",
            "To writ their patience toward men.\n",
            "\n",
            "Nurse:\n",
            "if he certain out which name I tend it.\n",
            "But, sirrah, now from the dewicizer\n",
            "And wilt thou live to let him he hardly.\n",
            "\n",
            "HASTINGS:\n",
            "I know they shall be thus to die.\n",
            "\n",
            "DUKE VINCENTIO:\n",
            "It is a rap our cares: somewhen is there be good;\n",
            "For she shall have merel, the offender \n",
            "\n",
            "________________________________________________________________________________\n",
            "\n",
            "Run time: 2.7443461418151855\n"
          ],
          "name": "stdout"
        }
      ]
    }
  ]
}