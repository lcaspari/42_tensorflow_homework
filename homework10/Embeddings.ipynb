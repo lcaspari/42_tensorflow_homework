{
  "nbformat": 4,
  "nbformat_minor": 0,
  "metadata": {
    "colab": {
      "name": "tinyUni",
      "provenance": [],
      "collapsed_sections": [],
      "authorship_tag": "ABX9TyNigF9qsYbXomHGuHENaOUa",
      "include_colab_link": true
    },
    "kernelspec": {
      "name": "python3",
      "display_name": "Python 3"
    },
    "widgets": {
      "application/vnd.jupyter.widget-state+json": {
        "588d2ae384e546d4a0ecd73a141373aa": {
          "model_module": "@jupyter-widgets/controls",
          "model_name": "HBoxModel",
          "state": {
            "_view_name": "HBoxView",
            "_dom_classes": [],
            "_model_name": "HBoxModel",
            "_view_module": "@jupyter-widgets/controls",
            "_model_module_version": "1.5.0",
            "_view_count": null,
            "_view_module_version": "1.5.0",
            "box_style": "",
            "layout": "IPY_MODEL_66a317b3ab1341b1b5310cf5d01b7dd3",
            "_model_module": "@jupyter-widgets/controls",
            "children": [
              "IPY_MODEL_d98703b36f1a4a6fbddaf6b6a4e72cbd",
              "IPY_MODEL_4e38869d6b574c7f90afce3d5b5e489d"
            ]
          }
        },
        "66a317b3ab1341b1b5310cf5d01b7dd3": {
          "model_module": "@jupyter-widgets/base",
          "model_name": "LayoutModel",
          "state": {
            "_view_name": "LayoutView",
            "grid_template_rows": null,
            "right": null,
            "justify_content": null,
            "_view_module": "@jupyter-widgets/base",
            "overflow": null,
            "_model_module_version": "1.2.0",
            "_view_count": null,
            "flex_flow": null,
            "width": null,
            "min_width": null,
            "border": null,
            "align_items": null,
            "bottom": null,
            "_model_module": "@jupyter-widgets/base",
            "top": null,
            "grid_column": null,
            "overflow_y": null,
            "overflow_x": null,
            "grid_auto_flow": null,
            "grid_area": null,
            "grid_template_columns": null,
            "flex": null,
            "_model_name": "LayoutModel",
            "justify_items": null,
            "grid_row": null,
            "max_height": null,
            "align_content": null,
            "visibility": null,
            "align_self": null,
            "height": null,
            "min_height": null,
            "padding": null,
            "grid_auto_rows": null,
            "grid_gap": null,
            "max_width": null,
            "order": null,
            "_view_module_version": "1.2.0",
            "grid_template_areas": null,
            "object_position": null,
            "object_fit": null,
            "grid_auto_columns": null,
            "margin": null,
            "display": null,
            "left": null
          }
        },
        "d98703b36f1a4a6fbddaf6b6a4e72cbd": {
          "model_module": "@jupyter-widgets/controls",
          "model_name": "FloatProgressModel",
          "state": {
            "_view_name": "ProgressView",
            "style": "IPY_MODEL_94f36c7fda144e29bd4317bee5ca9274",
            "_dom_classes": [],
            "description": "Dl Completed...: 100%",
            "_model_name": "FloatProgressModel",
            "bar_style": "success",
            "max": 1,
            "_view_module": "@jupyter-widgets/controls",
            "_model_module_version": "1.5.0",
            "value": 1,
            "_view_count": null,
            "_view_module_version": "1.5.0",
            "orientation": "horizontal",
            "min": 0,
            "description_tooltip": null,
            "_model_module": "@jupyter-widgets/controls",
            "layout": "IPY_MODEL_6a832fcce23044e1b76125575dbc0f6e"
          }
        },
        "4e38869d6b574c7f90afce3d5b5e489d": {
          "model_module": "@jupyter-widgets/controls",
          "model_name": "HTMLModel",
          "state": {
            "_view_name": "HTMLView",
            "style": "IPY_MODEL_bfe0d07e99ba4239af4b539679681a94",
            "_dom_classes": [],
            "description": "",
            "_model_name": "HTMLModel",
            "placeholder": "​",
            "_view_module": "@jupyter-widgets/controls",
            "_model_module_version": "1.5.0",
            "value": " 1/1 [00:00&lt;00:00,  1.65 url/s]",
            "_view_count": null,
            "_view_module_version": "1.5.0",
            "description_tooltip": null,
            "_model_module": "@jupyter-widgets/controls",
            "layout": "IPY_MODEL_e7f7f9d87e0d4d77b7d2e59b6e3af8f2"
          }
        },
        "94f36c7fda144e29bd4317bee5ca9274": {
          "model_module": "@jupyter-widgets/controls",
          "model_name": "ProgressStyleModel",
          "state": {
            "_view_name": "StyleView",
            "_model_name": "ProgressStyleModel",
            "description_width": "initial",
            "_view_module": "@jupyter-widgets/base",
            "_model_module_version": "1.5.0",
            "_view_count": null,
            "_view_module_version": "1.2.0",
            "bar_color": null,
            "_model_module": "@jupyter-widgets/controls"
          }
        },
        "6a832fcce23044e1b76125575dbc0f6e": {
          "model_module": "@jupyter-widgets/base",
          "model_name": "LayoutModel",
          "state": {
            "_view_name": "LayoutView",
            "grid_template_rows": null,
            "right": null,
            "justify_content": null,
            "_view_module": "@jupyter-widgets/base",
            "overflow": null,
            "_model_module_version": "1.2.0",
            "_view_count": null,
            "flex_flow": null,
            "width": null,
            "min_width": null,
            "border": null,
            "align_items": null,
            "bottom": null,
            "_model_module": "@jupyter-widgets/base",
            "top": null,
            "grid_column": null,
            "overflow_y": null,
            "overflow_x": null,
            "grid_auto_flow": null,
            "grid_area": null,
            "grid_template_columns": null,
            "flex": null,
            "_model_name": "LayoutModel",
            "justify_items": null,
            "grid_row": null,
            "max_height": null,
            "align_content": null,
            "visibility": null,
            "align_self": null,
            "height": null,
            "min_height": null,
            "padding": null,
            "grid_auto_rows": null,
            "grid_gap": null,
            "max_width": null,
            "order": null,
            "_view_module_version": "1.2.0",
            "grid_template_areas": null,
            "object_position": null,
            "object_fit": null,
            "grid_auto_columns": null,
            "margin": null,
            "display": null,
            "left": null
          }
        },
        "bfe0d07e99ba4239af4b539679681a94": {
          "model_module": "@jupyter-widgets/controls",
          "model_name": "DescriptionStyleModel",
          "state": {
            "_view_name": "StyleView",
            "_model_name": "DescriptionStyleModel",
            "description_width": "",
            "_view_module": "@jupyter-widgets/base",
            "_model_module_version": "1.5.0",
            "_view_count": null,
            "_view_module_version": "1.2.0",
            "_model_module": "@jupyter-widgets/controls"
          }
        },
        "e7f7f9d87e0d4d77b7d2e59b6e3af8f2": {
          "model_module": "@jupyter-widgets/base",
          "model_name": "LayoutModel",
          "state": {
            "_view_name": "LayoutView",
            "grid_template_rows": null,
            "right": null,
            "justify_content": null,
            "_view_module": "@jupyter-widgets/base",
            "overflow": null,
            "_model_module_version": "1.2.0",
            "_view_count": null,
            "flex_flow": null,
            "width": null,
            "min_width": null,
            "border": null,
            "align_items": null,
            "bottom": null,
            "_model_module": "@jupyter-widgets/base",
            "top": null,
            "grid_column": null,
            "overflow_y": null,
            "overflow_x": null,
            "grid_auto_flow": null,
            "grid_area": null,
            "grid_template_columns": null,
            "flex": null,
            "_model_name": "LayoutModel",
            "justify_items": null,
            "grid_row": null,
            "max_height": null,
            "align_content": null,
            "visibility": null,
            "align_self": null,
            "height": null,
            "min_height": null,
            "padding": null,
            "grid_auto_rows": null,
            "grid_gap": null,
            "max_width": null,
            "order": null,
            "_view_module_version": "1.2.0",
            "grid_template_areas": null,
            "object_position": null,
            "object_fit": null,
            "grid_auto_columns": null,
            "margin": null,
            "display": null,
            "left": null
          }
        },
        "c5c060f3a38948e2af8eb79eec5a9b70": {
          "model_module": "@jupyter-widgets/controls",
          "model_name": "HBoxModel",
          "state": {
            "_view_name": "HBoxView",
            "_dom_classes": [],
            "_model_name": "HBoxModel",
            "_view_module": "@jupyter-widgets/controls",
            "_model_module_version": "1.5.0",
            "_view_count": null,
            "_view_module_version": "1.5.0",
            "box_style": "",
            "layout": "IPY_MODEL_796bd8e5b8604393a50032cdc0c99441",
            "_model_module": "@jupyter-widgets/controls",
            "children": [
              "IPY_MODEL_5e10b67c548e4084b9c5ee900f3e2cd5",
              "IPY_MODEL_eb33ff8c431843fe9194dbda83e56e20"
            ]
          }
        },
        "796bd8e5b8604393a50032cdc0c99441": {
          "model_module": "@jupyter-widgets/base",
          "model_name": "LayoutModel",
          "state": {
            "_view_name": "LayoutView",
            "grid_template_rows": null,
            "right": null,
            "justify_content": null,
            "_view_module": "@jupyter-widgets/base",
            "overflow": null,
            "_model_module_version": "1.2.0",
            "_view_count": null,
            "flex_flow": null,
            "width": null,
            "min_width": null,
            "border": null,
            "align_items": null,
            "bottom": null,
            "_model_module": "@jupyter-widgets/base",
            "top": null,
            "grid_column": null,
            "overflow_y": null,
            "overflow_x": null,
            "grid_auto_flow": null,
            "grid_area": null,
            "grid_template_columns": null,
            "flex": null,
            "_model_name": "LayoutModel",
            "justify_items": null,
            "grid_row": null,
            "max_height": null,
            "align_content": null,
            "visibility": null,
            "align_self": null,
            "height": null,
            "min_height": null,
            "padding": null,
            "grid_auto_rows": null,
            "grid_gap": null,
            "max_width": null,
            "order": null,
            "_view_module_version": "1.2.0",
            "grid_template_areas": null,
            "object_position": null,
            "object_fit": null,
            "grid_auto_columns": null,
            "margin": null,
            "display": null,
            "left": null
          }
        },
        "5e10b67c548e4084b9c5ee900f3e2cd5": {
          "model_module": "@jupyter-widgets/controls",
          "model_name": "FloatProgressModel",
          "state": {
            "_view_name": "ProgressView",
            "style": "IPY_MODEL_dd4dddab1218404c97b6d8096736b26f",
            "_dom_classes": [],
            "description": "Dl Size...: ",
            "_model_name": "FloatProgressModel",
            "bar_style": "success",
            "max": 1,
            "_view_module": "@jupyter-widgets/controls",
            "_model_module_version": "1.5.0",
            "value": 1,
            "_view_count": null,
            "_view_module_version": "1.5.0",
            "orientation": "horizontal",
            "min": 0,
            "description_tooltip": null,
            "_model_module": "@jupyter-widgets/controls",
            "layout": "IPY_MODEL_bcec0610aa1146509c132b2f167032a9"
          }
        },
        "eb33ff8c431843fe9194dbda83e56e20": {
          "model_module": "@jupyter-widgets/controls",
          "model_name": "HTMLModel",
          "state": {
            "_view_name": "HTMLView",
            "style": "IPY_MODEL_772bfbb7d62d46d6b1a59da5076449fc",
            "_dom_classes": [],
            "description": "",
            "_model_name": "HTMLModel",
            "placeholder": "​",
            "_view_module": "@jupyter-widgets/controls",
            "_model_module_version": "1.5.0",
            "value": " 1/0 [00:00&lt;00:00,  1.74 MiB/s]",
            "_view_count": null,
            "_view_module_version": "1.5.0",
            "description_tooltip": null,
            "_model_module": "@jupyter-widgets/controls",
            "layout": "IPY_MODEL_474df63edd51483ead67a2851cf52d9a"
          }
        },
        "dd4dddab1218404c97b6d8096736b26f": {
          "model_module": "@jupyter-widgets/controls",
          "model_name": "ProgressStyleModel",
          "state": {
            "_view_name": "StyleView",
            "_model_name": "ProgressStyleModel",
            "description_width": "initial",
            "_view_module": "@jupyter-widgets/base",
            "_model_module_version": "1.5.0",
            "_view_count": null,
            "_view_module_version": "1.2.0",
            "bar_color": null,
            "_model_module": "@jupyter-widgets/controls"
          }
        },
        "bcec0610aa1146509c132b2f167032a9": {
          "model_module": "@jupyter-widgets/base",
          "model_name": "LayoutModel",
          "state": {
            "_view_name": "LayoutView",
            "grid_template_rows": null,
            "right": null,
            "justify_content": null,
            "_view_module": "@jupyter-widgets/base",
            "overflow": null,
            "_model_module_version": "1.2.0",
            "_view_count": null,
            "flex_flow": null,
            "width": null,
            "min_width": null,
            "border": null,
            "align_items": null,
            "bottom": null,
            "_model_module": "@jupyter-widgets/base",
            "top": null,
            "grid_column": null,
            "overflow_y": null,
            "overflow_x": null,
            "grid_auto_flow": null,
            "grid_area": null,
            "grid_template_columns": null,
            "flex": null,
            "_model_name": "LayoutModel",
            "justify_items": null,
            "grid_row": null,
            "max_height": null,
            "align_content": null,
            "visibility": null,
            "align_self": null,
            "height": null,
            "min_height": null,
            "padding": null,
            "grid_auto_rows": null,
            "grid_gap": null,
            "max_width": null,
            "order": null,
            "_view_module_version": "1.2.0",
            "grid_template_areas": null,
            "object_position": null,
            "object_fit": null,
            "grid_auto_columns": null,
            "margin": null,
            "display": null,
            "left": null
          }
        },
        "772bfbb7d62d46d6b1a59da5076449fc": {
          "model_module": "@jupyter-widgets/controls",
          "model_name": "DescriptionStyleModel",
          "state": {
            "_view_name": "StyleView",
            "_model_name": "DescriptionStyleModel",
            "description_width": "",
            "_view_module": "@jupyter-widgets/base",
            "_model_module_version": "1.5.0",
            "_view_count": null,
            "_view_module_version": "1.2.0",
            "_model_module": "@jupyter-widgets/controls"
          }
        },
        "474df63edd51483ead67a2851cf52d9a": {
          "model_module": "@jupyter-widgets/base",
          "model_name": "LayoutModel",
          "state": {
            "_view_name": "LayoutView",
            "grid_template_rows": null,
            "right": null,
            "justify_content": null,
            "_view_module": "@jupyter-widgets/base",
            "overflow": null,
            "_model_module_version": "1.2.0",
            "_view_count": null,
            "flex_flow": null,
            "width": null,
            "min_width": null,
            "border": null,
            "align_items": null,
            "bottom": null,
            "_model_module": "@jupyter-widgets/base",
            "top": null,
            "grid_column": null,
            "overflow_y": null,
            "overflow_x": null,
            "grid_auto_flow": null,
            "grid_area": null,
            "grid_template_columns": null,
            "flex": null,
            "_model_name": "LayoutModel",
            "justify_items": null,
            "grid_row": null,
            "max_height": null,
            "align_content": null,
            "visibility": null,
            "align_self": null,
            "height": null,
            "min_height": null,
            "padding": null,
            "grid_auto_rows": null,
            "grid_gap": null,
            "max_width": null,
            "order": null,
            "_view_module_version": "1.2.0",
            "grid_template_areas": null,
            "object_position": null,
            "object_fit": null,
            "grid_auto_columns": null,
            "margin": null,
            "display": null,
            "left": null
          }
        },
        "952dab501a5a42178fed16a02a7c754a": {
          "model_module": "@jupyter-widgets/controls",
          "model_name": "HBoxModel",
          "state": {
            "_view_name": "HBoxView",
            "_dom_classes": [],
            "_model_name": "HBoxModel",
            "_view_module": "@jupyter-widgets/controls",
            "_model_module_version": "1.5.0",
            "_view_count": null,
            "_view_module_version": "1.5.0",
            "box_style": "",
            "layout": "IPY_MODEL_a5c43667e1af4ff49d05f32f1190b814",
            "_model_module": "@jupyter-widgets/controls",
            "children": [
              "IPY_MODEL_40a64813c06a4493b0a9a50001fcb49f",
              "IPY_MODEL_413da83f903441cda6e6a0d34f0813f2"
            ]
          }
        },
        "a5c43667e1af4ff49d05f32f1190b814": {
          "model_module": "@jupyter-widgets/base",
          "model_name": "LayoutModel",
          "state": {
            "_view_name": "LayoutView",
            "grid_template_rows": null,
            "right": null,
            "justify_content": null,
            "_view_module": "@jupyter-widgets/base",
            "overflow": null,
            "_model_module_version": "1.2.0",
            "_view_count": null,
            "flex_flow": null,
            "width": null,
            "min_width": null,
            "border": null,
            "align_items": null,
            "bottom": null,
            "_model_module": "@jupyter-widgets/base",
            "top": null,
            "grid_column": null,
            "overflow_y": null,
            "overflow_x": null,
            "grid_auto_flow": null,
            "grid_area": null,
            "grid_template_columns": null,
            "flex": null,
            "_model_name": "LayoutModel",
            "justify_items": null,
            "grid_row": null,
            "max_height": null,
            "align_content": null,
            "visibility": null,
            "align_self": null,
            "height": null,
            "min_height": null,
            "padding": null,
            "grid_auto_rows": null,
            "grid_gap": null,
            "max_width": null,
            "order": null,
            "_view_module_version": "1.2.0",
            "grid_template_areas": null,
            "object_position": null,
            "object_fit": null,
            "grid_auto_columns": null,
            "margin": null,
            "display": null,
            "left": null
          }
        },
        "40a64813c06a4493b0a9a50001fcb49f": {
          "model_module": "@jupyter-widgets/controls",
          "model_name": "FloatProgressModel",
          "state": {
            "_view_name": "ProgressView",
            "style": "IPY_MODEL_a16a0cf2dbca4a4dae4fd2134335fad3",
            "_dom_classes": [],
            "description": "",
            "_model_name": "FloatProgressModel",
            "bar_style": "info",
            "max": 1,
            "_view_module": "@jupyter-widgets/controls",
            "_model_module_version": "1.5.0",
            "value": 1,
            "_view_count": null,
            "_view_module_version": "1.5.0",
            "orientation": "horizontal",
            "min": 0,
            "description_tooltip": null,
            "_model_module": "@jupyter-widgets/controls",
            "layout": "IPY_MODEL_413027e5e2464f56aabb68b35cd31218"
          }
        },
        "413da83f903441cda6e6a0d34f0813f2": {
          "model_module": "@jupyter-widgets/controls",
          "model_name": "HTMLModel",
          "state": {
            "_view_name": "HTMLView",
            "style": "IPY_MODEL_55ba0cddc29440f8903d7688dc39828d",
            "_dom_classes": [],
            "description": "",
            "_model_name": "HTMLModel",
            "placeholder": "​",
            "_view_module": "@jupyter-widgets/controls",
            "_model_module_version": "1.5.0",
            "value": " 1/0 [00:00&lt;00:00, 28.62 examples/s]",
            "_view_count": null,
            "_view_module_version": "1.5.0",
            "description_tooltip": null,
            "_model_module": "@jupyter-widgets/controls",
            "layout": "IPY_MODEL_fea1478ddb094a978ef5687617035a15"
          }
        },
        "a16a0cf2dbca4a4dae4fd2134335fad3": {
          "model_module": "@jupyter-widgets/controls",
          "model_name": "ProgressStyleModel",
          "state": {
            "_view_name": "StyleView",
            "_model_name": "ProgressStyleModel",
            "description_width": "initial",
            "_view_module": "@jupyter-widgets/base",
            "_model_module_version": "1.5.0",
            "_view_count": null,
            "_view_module_version": "1.2.0",
            "bar_color": null,
            "_model_module": "@jupyter-widgets/controls"
          }
        },
        "413027e5e2464f56aabb68b35cd31218": {
          "model_module": "@jupyter-widgets/base",
          "model_name": "LayoutModel",
          "state": {
            "_view_name": "LayoutView",
            "grid_template_rows": null,
            "right": null,
            "justify_content": null,
            "_view_module": "@jupyter-widgets/base",
            "overflow": null,
            "_model_module_version": "1.2.0",
            "_view_count": null,
            "flex_flow": null,
            "width": null,
            "min_width": null,
            "border": null,
            "align_items": null,
            "bottom": null,
            "_model_module": "@jupyter-widgets/base",
            "top": null,
            "grid_column": null,
            "overflow_y": null,
            "overflow_x": null,
            "grid_auto_flow": null,
            "grid_area": null,
            "grid_template_columns": null,
            "flex": null,
            "_model_name": "LayoutModel",
            "justify_items": null,
            "grid_row": null,
            "max_height": null,
            "align_content": null,
            "visibility": null,
            "align_self": null,
            "height": null,
            "min_height": null,
            "padding": null,
            "grid_auto_rows": null,
            "grid_gap": null,
            "max_width": null,
            "order": null,
            "_view_module_version": "1.2.0",
            "grid_template_areas": null,
            "object_position": null,
            "object_fit": null,
            "grid_auto_columns": null,
            "margin": null,
            "display": null,
            "left": null
          }
        },
        "55ba0cddc29440f8903d7688dc39828d": {
          "model_module": "@jupyter-widgets/controls",
          "model_name": "DescriptionStyleModel",
          "state": {
            "_view_name": "StyleView",
            "_model_name": "DescriptionStyleModel",
            "description_width": "",
            "_view_module": "@jupyter-widgets/base",
            "_model_module_version": "1.5.0",
            "_view_count": null,
            "_view_module_version": "1.2.0",
            "_model_module": "@jupyter-widgets/controls"
          }
        },
        "fea1478ddb094a978ef5687617035a15": {
          "model_module": "@jupyter-widgets/base",
          "model_name": "LayoutModel",
          "state": {
            "_view_name": "LayoutView",
            "grid_template_rows": null,
            "right": null,
            "justify_content": null,
            "_view_module": "@jupyter-widgets/base",
            "overflow": null,
            "_model_module_version": "1.2.0",
            "_view_count": null,
            "flex_flow": null,
            "width": null,
            "min_width": null,
            "border": null,
            "align_items": null,
            "bottom": null,
            "_model_module": "@jupyter-widgets/base",
            "top": null,
            "grid_column": null,
            "overflow_y": null,
            "overflow_x": null,
            "grid_auto_flow": null,
            "grid_area": null,
            "grid_template_columns": null,
            "flex": null,
            "_model_name": "LayoutModel",
            "justify_items": null,
            "grid_row": null,
            "max_height": null,
            "align_content": null,
            "visibility": null,
            "align_self": null,
            "height": null,
            "min_height": null,
            "padding": null,
            "grid_auto_rows": null,
            "grid_gap": null,
            "max_width": null,
            "order": null,
            "_view_module_version": "1.2.0",
            "grid_template_areas": null,
            "object_position": null,
            "object_fit": null,
            "grid_auto_columns": null,
            "margin": null,
            "display": null,
            "left": null
          }
        },
        "9d1683c64b20428c9afe2362ee2c05c2": {
          "model_module": "@jupyter-widgets/controls",
          "model_name": "HBoxModel",
          "state": {
            "_view_name": "HBoxView",
            "_dom_classes": [],
            "_model_name": "HBoxModel",
            "_view_module": "@jupyter-widgets/controls",
            "_model_module_version": "1.5.0",
            "_view_count": null,
            "_view_module_version": "1.5.0",
            "box_style": "",
            "layout": "IPY_MODEL_00dddcc75b144d878cbfb07ab0497a5f",
            "_model_module": "@jupyter-widgets/controls",
            "children": [
              "IPY_MODEL_96cf676aa567443ab9d41f8e1a6c59b1",
              "IPY_MODEL_54bd635c7c8c47e2bfcdc81372b20b06"
            ]
          }
        },
        "00dddcc75b144d878cbfb07ab0497a5f": {
          "model_module": "@jupyter-widgets/base",
          "model_name": "LayoutModel",
          "state": {
            "_view_name": "LayoutView",
            "grid_template_rows": null,
            "right": null,
            "justify_content": null,
            "_view_module": "@jupyter-widgets/base",
            "overflow": null,
            "_model_module_version": "1.2.0",
            "_view_count": null,
            "flex_flow": null,
            "width": null,
            "min_width": null,
            "border": null,
            "align_items": null,
            "bottom": null,
            "_model_module": "@jupyter-widgets/base",
            "top": null,
            "grid_column": null,
            "overflow_y": null,
            "overflow_x": null,
            "grid_auto_flow": null,
            "grid_area": null,
            "grid_template_columns": null,
            "flex": null,
            "_model_name": "LayoutModel",
            "justify_items": null,
            "grid_row": null,
            "max_height": null,
            "align_content": null,
            "visibility": null,
            "align_self": null,
            "height": null,
            "min_height": null,
            "padding": null,
            "grid_auto_rows": null,
            "grid_gap": null,
            "max_width": null,
            "order": null,
            "_view_module_version": "1.2.0",
            "grid_template_areas": null,
            "object_position": null,
            "object_fit": null,
            "grid_auto_columns": null,
            "margin": null,
            "display": null,
            "left": null
          }
        },
        "96cf676aa567443ab9d41f8e1a6c59b1": {
          "model_module": "@jupyter-widgets/controls",
          "model_name": "FloatProgressModel",
          "state": {
            "_view_name": "ProgressView",
            "style": "IPY_MODEL_9e1358f98cc442a79a6da3dbfef69ece",
            "_dom_classes": [],
            "description": "  0%",
            "_model_name": "FloatProgressModel",
            "bar_style": "danger",
            "max": 1,
            "_view_module": "@jupyter-widgets/controls",
            "_model_module_version": "1.5.0",
            "value": 0,
            "_view_count": null,
            "_view_module_version": "1.5.0",
            "orientation": "horizontal",
            "min": 0,
            "description_tooltip": null,
            "_model_module": "@jupyter-widgets/controls",
            "layout": "IPY_MODEL_f2f2f00b1a2e45af9480b4ef2718bc9a"
          }
        },
        "54bd635c7c8c47e2bfcdc81372b20b06": {
          "model_module": "@jupyter-widgets/controls",
          "model_name": "HTMLModel",
          "state": {
            "_view_name": "HTMLView",
            "style": "IPY_MODEL_2bc86b08b9ef485e9a9b21a7e4c7e959",
            "_dom_classes": [],
            "description": "",
            "_model_name": "HTMLModel",
            "placeholder": "​",
            "_view_module": "@jupyter-widgets/controls",
            "_model_module_version": "1.5.0",
            "value": " 0/1 [00:00&lt;?, ? examples/s]",
            "_view_count": null,
            "_view_module_version": "1.5.0",
            "description_tooltip": null,
            "_model_module": "@jupyter-widgets/controls",
            "layout": "IPY_MODEL_d1ec09ad7880468bb6289f682bc68afb"
          }
        },
        "9e1358f98cc442a79a6da3dbfef69ece": {
          "model_module": "@jupyter-widgets/controls",
          "model_name": "ProgressStyleModel",
          "state": {
            "_view_name": "StyleView",
            "_model_name": "ProgressStyleModel",
            "description_width": "initial",
            "_view_module": "@jupyter-widgets/base",
            "_model_module_version": "1.5.0",
            "_view_count": null,
            "_view_module_version": "1.2.0",
            "bar_color": null,
            "_model_module": "@jupyter-widgets/controls"
          }
        },
        "f2f2f00b1a2e45af9480b4ef2718bc9a": {
          "model_module": "@jupyter-widgets/base",
          "model_name": "LayoutModel",
          "state": {
            "_view_name": "LayoutView",
            "grid_template_rows": null,
            "right": null,
            "justify_content": null,
            "_view_module": "@jupyter-widgets/base",
            "overflow": null,
            "_model_module_version": "1.2.0",
            "_view_count": null,
            "flex_flow": null,
            "width": null,
            "min_width": null,
            "border": null,
            "align_items": null,
            "bottom": null,
            "_model_module": "@jupyter-widgets/base",
            "top": null,
            "grid_column": null,
            "overflow_y": null,
            "overflow_x": null,
            "grid_auto_flow": null,
            "grid_area": null,
            "grid_template_columns": null,
            "flex": null,
            "_model_name": "LayoutModel",
            "justify_items": null,
            "grid_row": null,
            "max_height": null,
            "align_content": null,
            "visibility": null,
            "align_self": null,
            "height": null,
            "min_height": null,
            "padding": null,
            "grid_auto_rows": null,
            "grid_gap": null,
            "max_width": null,
            "order": null,
            "_view_module_version": "1.2.0",
            "grid_template_areas": null,
            "object_position": null,
            "object_fit": null,
            "grid_auto_columns": null,
            "margin": null,
            "display": null,
            "left": null
          }
        },
        "2bc86b08b9ef485e9a9b21a7e4c7e959": {
          "model_module": "@jupyter-widgets/controls",
          "model_name": "DescriptionStyleModel",
          "state": {
            "_view_name": "StyleView",
            "_model_name": "DescriptionStyleModel",
            "description_width": "",
            "_view_module": "@jupyter-widgets/base",
            "_model_module_version": "1.5.0",
            "_view_count": null,
            "_view_module_version": "1.2.0",
            "_model_module": "@jupyter-widgets/controls"
          }
        },
        "d1ec09ad7880468bb6289f682bc68afb": {
          "model_module": "@jupyter-widgets/base",
          "model_name": "LayoutModel",
          "state": {
            "_view_name": "LayoutView",
            "grid_template_rows": null,
            "right": null,
            "justify_content": null,
            "_view_module": "@jupyter-widgets/base",
            "overflow": null,
            "_model_module_version": "1.2.0",
            "_view_count": null,
            "flex_flow": null,
            "width": null,
            "min_width": null,
            "border": null,
            "align_items": null,
            "bottom": null,
            "_model_module": "@jupyter-widgets/base",
            "top": null,
            "grid_column": null,
            "overflow_y": null,
            "overflow_x": null,
            "grid_auto_flow": null,
            "grid_area": null,
            "grid_template_columns": null,
            "flex": null,
            "_model_name": "LayoutModel",
            "justify_items": null,
            "grid_row": null,
            "max_height": null,
            "align_content": null,
            "visibility": null,
            "align_self": null,
            "height": null,
            "min_height": null,
            "padding": null,
            "grid_auto_rows": null,
            "grid_gap": null,
            "max_width": null,
            "order": null,
            "_view_module_version": "1.2.0",
            "grid_template_areas": null,
            "object_position": null,
            "object_fit": null,
            "grid_auto_columns": null,
            "margin": null,
            "display": null,
            "left": null
          }
        },
        "c006d18358a9413799b2084aebe9f472": {
          "model_module": "@jupyter-widgets/controls",
          "model_name": "HBoxModel",
          "state": {
            "_view_name": "HBoxView",
            "_dom_classes": [],
            "_model_name": "HBoxModel",
            "_view_module": "@jupyter-widgets/controls",
            "_model_module_version": "1.5.0",
            "_view_count": null,
            "_view_module_version": "1.5.0",
            "box_style": "",
            "layout": "IPY_MODEL_ea8aecf6d249423dbbef2a204f554ed4",
            "_model_module": "@jupyter-widgets/controls",
            "children": [
              "IPY_MODEL_b8a080fc1b36460190f84d597e9cc297",
              "IPY_MODEL_e4a360b23f85468b8924d313dde6d24d"
            ]
          }
        },
        "ea8aecf6d249423dbbef2a204f554ed4": {
          "model_module": "@jupyter-widgets/base",
          "model_name": "LayoutModel",
          "state": {
            "_view_name": "LayoutView",
            "grid_template_rows": null,
            "right": null,
            "justify_content": null,
            "_view_module": "@jupyter-widgets/base",
            "overflow": null,
            "_model_module_version": "1.2.0",
            "_view_count": null,
            "flex_flow": null,
            "width": null,
            "min_width": null,
            "border": null,
            "align_items": null,
            "bottom": null,
            "_model_module": "@jupyter-widgets/base",
            "top": null,
            "grid_column": null,
            "overflow_y": null,
            "overflow_x": null,
            "grid_auto_flow": null,
            "grid_area": null,
            "grid_template_columns": null,
            "flex": null,
            "_model_name": "LayoutModel",
            "justify_items": null,
            "grid_row": null,
            "max_height": null,
            "align_content": null,
            "visibility": null,
            "align_self": null,
            "height": null,
            "min_height": null,
            "padding": null,
            "grid_auto_rows": null,
            "grid_gap": null,
            "max_width": null,
            "order": null,
            "_view_module_version": "1.2.0",
            "grid_template_areas": null,
            "object_position": null,
            "object_fit": null,
            "grid_auto_columns": null,
            "margin": null,
            "display": null,
            "left": null
          }
        },
        "b8a080fc1b36460190f84d597e9cc297": {
          "model_module": "@jupyter-widgets/controls",
          "model_name": "FloatProgressModel",
          "state": {
            "_view_name": "ProgressView",
            "style": "IPY_MODEL_a7ccdb5d5a2840499046db8501b875a4",
            "_dom_classes": [],
            "description": "",
            "_model_name": "FloatProgressModel",
            "bar_style": "info",
            "max": 1,
            "_view_module": "@jupyter-widgets/controls",
            "_model_module_version": "1.5.0",
            "value": 1,
            "_view_count": null,
            "_view_module_version": "1.5.0",
            "orientation": "horizontal",
            "min": 0,
            "description_tooltip": null,
            "_model_module": "@jupyter-widgets/controls",
            "layout": "IPY_MODEL_703c771bce534d6cae2597128917b516"
          }
        },
        "e4a360b23f85468b8924d313dde6d24d": {
          "model_module": "@jupyter-widgets/controls",
          "model_name": "HTMLModel",
          "state": {
            "_view_name": "HTMLView",
            "style": "IPY_MODEL_cbd7bdfd2994452ab90a027e3d1e81f5",
            "_dom_classes": [],
            "description": "",
            "_model_name": "HTMLModel",
            "placeholder": "​",
            "_view_module": "@jupyter-widgets/controls",
            "_model_module_version": "1.5.0",
            "value": " 1/0 [00:00&lt;00:00, 17.80 examples/s]",
            "_view_count": null,
            "_view_module_version": "1.5.0",
            "description_tooltip": null,
            "_model_module": "@jupyter-widgets/controls",
            "layout": "IPY_MODEL_e2e2e24fed7c440193b1d1906571bd7e"
          }
        },
        "a7ccdb5d5a2840499046db8501b875a4": {
          "model_module": "@jupyter-widgets/controls",
          "model_name": "ProgressStyleModel",
          "state": {
            "_view_name": "StyleView",
            "_model_name": "ProgressStyleModel",
            "description_width": "initial",
            "_view_module": "@jupyter-widgets/base",
            "_model_module_version": "1.5.0",
            "_view_count": null,
            "_view_module_version": "1.2.0",
            "bar_color": null,
            "_model_module": "@jupyter-widgets/controls"
          }
        },
        "703c771bce534d6cae2597128917b516": {
          "model_module": "@jupyter-widgets/base",
          "model_name": "LayoutModel",
          "state": {
            "_view_name": "LayoutView",
            "grid_template_rows": null,
            "right": null,
            "justify_content": null,
            "_view_module": "@jupyter-widgets/base",
            "overflow": null,
            "_model_module_version": "1.2.0",
            "_view_count": null,
            "flex_flow": null,
            "width": null,
            "min_width": null,
            "border": null,
            "align_items": null,
            "bottom": null,
            "_model_module": "@jupyter-widgets/base",
            "top": null,
            "grid_column": null,
            "overflow_y": null,
            "overflow_x": null,
            "grid_auto_flow": null,
            "grid_area": null,
            "grid_template_columns": null,
            "flex": null,
            "_model_name": "LayoutModel",
            "justify_items": null,
            "grid_row": null,
            "max_height": null,
            "align_content": null,
            "visibility": null,
            "align_self": null,
            "height": null,
            "min_height": null,
            "padding": null,
            "grid_auto_rows": null,
            "grid_gap": null,
            "max_width": null,
            "order": null,
            "_view_module_version": "1.2.0",
            "grid_template_areas": null,
            "object_position": null,
            "object_fit": null,
            "grid_auto_columns": null,
            "margin": null,
            "display": null,
            "left": null
          }
        },
        "cbd7bdfd2994452ab90a027e3d1e81f5": {
          "model_module": "@jupyter-widgets/controls",
          "model_name": "DescriptionStyleModel",
          "state": {
            "_view_name": "StyleView",
            "_model_name": "DescriptionStyleModel",
            "description_width": "",
            "_view_module": "@jupyter-widgets/base",
            "_model_module_version": "1.5.0",
            "_view_count": null,
            "_view_module_version": "1.2.0",
            "_model_module": "@jupyter-widgets/controls"
          }
        },
        "e2e2e24fed7c440193b1d1906571bd7e": {
          "model_module": "@jupyter-widgets/base",
          "model_name": "LayoutModel",
          "state": {
            "_view_name": "LayoutView",
            "grid_template_rows": null,
            "right": null,
            "justify_content": null,
            "_view_module": "@jupyter-widgets/base",
            "overflow": null,
            "_model_module_version": "1.2.0",
            "_view_count": null,
            "flex_flow": null,
            "width": null,
            "min_width": null,
            "border": null,
            "align_items": null,
            "bottom": null,
            "_model_module": "@jupyter-widgets/base",
            "top": null,
            "grid_column": null,
            "overflow_y": null,
            "overflow_x": null,
            "grid_auto_flow": null,
            "grid_area": null,
            "grid_template_columns": null,
            "flex": null,
            "_model_name": "LayoutModel",
            "justify_items": null,
            "grid_row": null,
            "max_height": null,
            "align_content": null,
            "visibility": null,
            "align_self": null,
            "height": null,
            "min_height": null,
            "padding": null,
            "grid_auto_rows": null,
            "grid_gap": null,
            "max_width": null,
            "order": null,
            "_view_module_version": "1.2.0",
            "grid_template_areas": null,
            "object_position": null,
            "object_fit": null,
            "grid_auto_columns": null,
            "margin": null,
            "display": null,
            "left": null
          }
        },
        "f38200ddd13a486d9298e466e710a4b8": {
          "model_module": "@jupyter-widgets/controls",
          "model_name": "HBoxModel",
          "state": {
            "_view_name": "HBoxView",
            "_dom_classes": [],
            "_model_name": "HBoxModel",
            "_view_module": "@jupyter-widgets/controls",
            "_model_module_version": "1.5.0",
            "_view_count": null,
            "_view_module_version": "1.5.0",
            "box_style": "",
            "layout": "IPY_MODEL_5f3cb3a00c354937af418a9558673aea",
            "_model_module": "@jupyter-widgets/controls",
            "children": [
              "IPY_MODEL_d12866018dbd401293e6e462847c516e",
              "IPY_MODEL_29c76b4866da4cbeb4ec00b639c62aa6"
            ]
          }
        },
        "5f3cb3a00c354937af418a9558673aea": {
          "model_module": "@jupyter-widgets/base",
          "model_name": "LayoutModel",
          "state": {
            "_view_name": "LayoutView",
            "grid_template_rows": null,
            "right": null,
            "justify_content": null,
            "_view_module": "@jupyter-widgets/base",
            "overflow": null,
            "_model_module_version": "1.2.0",
            "_view_count": null,
            "flex_flow": null,
            "width": null,
            "min_width": null,
            "border": null,
            "align_items": null,
            "bottom": null,
            "_model_module": "@jupyter-widgets/base",
            "top": null,
            "grid_column": null,
            "overflow_y": null,
            "overflow_x": null,
            "grid_auto_flow": null,
            "grid_area": null,
            "grid_template_columns": null,
            "flex": null,
            "_model_name": "LayoutModel",
            "justify_items": null,
            "grid_row": null,
            "max_height": null,
            "align_content": null,
            "visibility": null,
            "align_self": null,
            "height": null,
            "min_height": null,
            "padding": null,
            "grid_auto_rows": null,
            "grid_gap": null,
            "max_width": null,
            "order": null,
            "_view_module_version": "1.2.0",
            "grid_template_areas": null,
            "object_position": null,
            "object_fit": null,
            "grid_auto_columns": null,
            "margin": null,
            "display": null,
            "left": null
          }
        },
        "d12866018dbd401293e6e462847c516e": {
          "model_module": "@jupyter-widgets/controls",
          "model_name": "FloatProgressModel",
          "state": {
            "_view_name": "ProgressView",
            "style": "IPY_MODEL_fbab2ed92bee43de868c39f2608c2701",
            "_dom_classes": [],
            "description": "  0%",
            "_model_name": "FloatProgressModel",
            "bar_style": "danger",
            "max": 1,
            "_view_module": "@jupyter-widgets/controls",
            "_model_module_version": "1.5.0",
            "value": 0,
            "_view_count": null,
            "_view_module_version": "1.5.0",
            "orientation": "horizontal",
            "min": 0,
            "description_tooltip": null,
            "_model_module": "@jupyter-widgets/controls",
            "layout": "IPY_MODEL_c4237b4931a349689ac3f4a6f0b572fe"
          }
        },
        "29c76b4866da4cbeb4ec00b639c62aa6": {
          "model_module": "@jupyter-widgets/controls",
          "model_name": "HTMLModel",
          "state": {
            "_view_name": "HTMLView",
            "style": "IPY_MODEL_2c219540657446099908de678ffeeee6",
            "_dom_classes": [],
            "description": "",
            "_model_name": "HTMLModel",
            "placeholder": "​",
            "_view_module": "@jupyter-widgets/controls",
            "_model_module_version": "1.5.0",
            "value": " 0/1 [00:00&lt;?, ? examples/s]",
            "_view_count": null,
            "_view_module_version": "1.5.0",
            "description_tooltip": null,
            "_model_module": "@jupyter-widgets/controls",
            "layout": "IPY_MODEL_82269a2cc18b4b0e90880f75063fd103"
          }
        },
        "fbab2ed92bee43de868c39f2608c2701": {
          "model_module": "@jupyter-widgets/controls",
          "model_name": "ProgressStyleModel",
          "state": {
            "_view_name": "StyleView",
            "_model_name": "ProgressStyleModel",
            "description_width": "initial",
            "_view_module": "@jupyter-widgets/base",
            "_model_module_version": "1.5.0",
            "_view_count": null,
            "_view_module_version": "1.2.0",
            "bar_color": null,
            "_model_module": "@jupyter-widgets/controls"
          }
        },
        "c4237b4931a349689ac3f4a6f0b572fe": {
          "model_module": "@jupyter-widgets/base",
          "model_name": "LayoutModel",
          "state": {
            "_view_name": "LayoutView",
            "grid_template_rows": null,
            "right": null,
            "justify_content": null,
            "_view_module": "@jupyter-widgets/base",
            "overflow": null,
            "_model_module_version": "1.2.0",
            "_view_count": null,
            "flex_flow": null,
            "width": null,
            "min_width": null,
            "border": null,
            "align_items": null,
            "bottom": null,
            "_model_module": "@jupyter-widgets/base",
            "top": null,
            "grid_column": null,
            "overflow_y": null,
            "overflow_x": null,
            "grid_auto_flow": null,
            "grid_area": null,
            "grid_template_columns": null,
            "flex": null,
            "_model_name": "LayoutModel",
            "justify_items": null,
            "grid_row": null,
            "max_height": null,
            "align_content": null,
            "visibility": null,
            "align_self": null,
            "height": null,
            "min_height": null,
            "padding": null,
            "grid_auto_rows": null,
            "grid_gap": null,
            "max_width": null,
            "order": null,
            "_view_module_version": "1.2.0",
            "grid_template_areas": null,
            "object_position": null,
            "object_fit": null,
            "grid_auto_columns": null,
            "margin": null,
            "display": null,
            "left": null
          }
        },
        "2c219540657446099908de678ffeeee6": {
          "model_module": "@jupyter-widgets/controls",
          "model_name": "DescriptionStyleModel",
          "state": {
            "_view_name": "StyleView",
            "_model_name": "DescriptionStyleModel",
            "description_width": "",
            "_view_module": "@jupyter-widgets/base",
            "_model_module_version": "1.5.0",
            "_view_count": null,
            "_view_module_version": "1.2.0",
            "_model_module": "@jupyter-widgets/controls"
          }
        },
        "82269a2cc18b4b0e90880f75063fd103": {
          "model_module": "@jupyter-widgets/base",
          "model_name": "LayoutModel",
          "state": {
            "_view_name": "LayoutView",
            "grid_template_rows": null,
            "right": null,
            "justify_content": null,
            "_view_module": "@jupyter-widgets/base",
            "overflow": null,
            "_model_module_version": "1.2.0",
            "_view_count": null,
            "flex_flow": null,
            "width": null,
            "min_width": null,
            "border": null,
            "align_items": null,
            "bottom": null,
            "_model_module": "@jupyter-widgets/base",
            "top": null,
            "grid_column": null,
            "overflow_y": null,
            "overflow_x": null,
            "grid_auto_flow": null,
            "grid_area": null,
            "grid_template_columns": null,
            "flex": null,
            "_model_name": "LayoutModel",
            "justify_items": null,
            "grid_row": null,
            "max_height": null,
            "align_content": null,
            "visibility": null,
            "align_self": null,
            "height": null,
            "min_height": null,
            "padding": null,
            "grid_auto_rows": null,
            "grid_gap": null,
            "max_width": null,
            "order": null,
            "_view_module_version": "1.2.0",
            "grid_template_areas": null,
            "object_position": null,
            "object_fit": null,
            "grid_auto_columns": null,
            "margin": null,
            "display": null,
            "left": null
          }
        },
        "28656f7c2381472f9efc0aedc130679c": {
          "model_module": "@jupyter-widgets/controls",
          "model_name": "HBoxModel",
          "state": {
            "_view_name": "HBoxView",
            "_dom_classes": [],
            "_model_name": "HBoxModel",
            "_view_module": "@jupyter-widgets/controls",
            "_model_module_version": "1.5.0",
            "_view_count": null,
            "_view_module_version": "1.5.0",
            "box_style": "",
            "layout": "IPY_MODEL_1a125e4187224b358c2e50c0219cfa11",
            "_model_module": "@jupyter-widgets/controls",
            "children": [
              "IPY_MODEL_addf38fa612f463a8157474cf48d336a",
              "IPY_MODEL_80e69ce260044906abf3004377483650"
            ]
          }
        },
        "1a125e4187224b358c2e50c0219cfa11": {
          "model_module": "@jupyter-widgets/base",
          "model_name": "LayoutModel",
          "state": {
            "_view_name": "LayoutView",
            "grid_template_rows": null,
            "right": null,
            "justify_content": null,
            "_view_module": "@jupyter-widgets/base",
            "overflow": null,
            "_model_module_version": "1.2.0",
            "_view_count": null,
            "flex_flow": null,
            "width": null,
            "min_width": null,
            "border": null,
            "align_items": null,
            "bottom": null,
            "_model_module": "@jupyter-widgets/base",
            "top": null,
            "grid_column": null,
            "overflow_y": null,
            "overflow_x": null,
            "grid_auto_flow": null,
            "grid_area": null,
            "grid_template_columns": null,
            "flex": null,
            "_model_name": "LayoutModel",
            "justify_items": null,
            "grid_row": null,
            "max_height": null,
            "align_content": null,
            "visibility": null,
            "align_self": null,
            "height": null,
            "min_height": null,
            "padding": null,
            "grid_auto_rows": null,
            "grid_gap": null,
            "max_width": null,
            "order": null,
            "_view_module_version": "1.2.0",
            "grid_template_areas": null,
            "object_position": null,
            "object_fit": null,
            "grid_auto_columns": null,
            "margin": null,
            "display": null,
            "left": null
          }
        },
        "addf38fa612f463a8157474cf48d336a": {
          "model_module": "@jupyter-widgets/controls",
          "model_name": "FloatProgressModel",
          "state": {
            "_view_name": "ProgressView",
            "style": "IPY_MODEL_ec08f7401ad648779903019ca8caf01b",
            "_dom_classes": [],
            "description": "",
            "_model_name": "FloatProgressModel",
            "bar_style": "info",
            "max": 1,
            "_view_module": "@jupyter-widgets/controls",
            "_model_module_version": "1.5.0",
            "value": 1,
            "_view_count": null,
            "_view_module_version": "1.5.0",
            "orientation": "horizontal",
            "min": 0,
            "description_tooltip": null,
            "_model_module": "@jupyter-widgets/controls",
            "layout": "IPY_MODEL_d0cdc180937a4e538effe020120f3a30"
          }
        },
        "80e69ce260044906abf3004377483650": {
          "model_module": "@jupyter-widgets/controls",
          "model_name": "HTMLModel",
          "state": {
            "_view_name": "HTMLView",
            "style": "IPY_MODEL_4eba9aadefd140b7a795d9226af50bcc",
            "_dom_classes": [],
            "description": "",
            "_model_name": "HTMLModel",
            "placeholder": "​",
            "_view_module": "@jupyter-widgets/controls",
            "_model_module_version": "1.5.0",
            "value": " 1/0 [00:00&lt;00:00, 20.32 examples/s]",
            "_view_count": null,
            "_view_module_version": "1.5.0",
            "description_tooltip": null,
            "_model_module": "@jupyter-widgets/controls",
            "layout": "IPY_MODEL_4ffaada824f3403d82acff39758b67f4"
          }
        },
        "ec08f7401ad648779903019ca8caf01b": {
          "model_module": "@jupyter-widgets/controls",
          "model_name": "ProgressStyleModel",
          "state": {
            "_view_name": "StyleView",
            "_model_name": "ProgressStyleModel",
            "description_width": "initial",
            "_view_module": "@jupyter-widgets/base",
            "_model_module_version": "1.5.0",
            "_view_count": null,
            "_view_module_version": "1.2.0",
            "bar_color": null,
            "_model_module": "@jupyter-widgets/controls"
          }
        },
        "d0cdc180937a4e538effe020120f3a30": {
          "model_module": "@jupyter-widgets/base",
          "model_name": "LayoutModel",
          "state": {
            "_view_name": "LayoutView",
            "grid_template_rows": null,
            "right": null,
            "justify_content": null,
            "_view_module": "@jupyter-widgets/base",
            "overflow": null,
            "_model_module_version": "1.2.0",
            "_view_count": null,
            "flex_flow": null,
            "width": null,
            "min_width": null,
            "border": null,
            "align_items": null,
            "bottom": null,
            "_model_module": "@jupyter-widgets/base",
            "top": null,
            "grid_column": null,
            "overflow_y": null,
            "overflow_x": null,
            "grid_auto_flow": null,
            "grid_area": null,
            "grid_template_columns": null,
            "flex": null,
            "_model_name": "LayoutModel",
            "justify_items": null,
            "grid_row": null,
            "max_height": null,
            "align_content": null,
            "visibility": null,
            "align_self": null,
            "height": null,
            "min_height": null,
            "padding": null,
            "grid_auto_rows": null,
            "grid_gap": null,
            "max_width": null,
            "order": null,
            "_view_module_version": "1.2.0",
            "grid_template_areas": null,
            "object_position": null,
            "object_fit": null,
            "grid_auto_columns": null,
            "margin": null,
            "display": null,
            "left": null
          }
        },
        "4eba9aadefd140b7a795d9226af50bcc": {
          "model_module": "@jupyter-widgets/controls",
          "model_name": "DescriptionStyleModel",
          "state": {
            "_view_name": "StyleView",
            "_model_name": "DescriptionStyleModel",
            "description_width": "",
            "_view_module": "@jupyter-widgets/base",
            "_model_module_version": "1.5.0",
            "_view_count": null,
            "_view_module_version": "1.2.0",
            "_model_module": "@jupyter-widgets/controls"
          }
        },
        "4ffaada824f3403d82acff39758b67f4": {
          "model_module": "@jupyter-widgets/base",
          "model_name": "LayoutModel",
          "state": {
            "_view_name": "LayoutView",
            "grid_template_rows": null,
            "right": null,
            "justify_content": null,
            "_view_module": "@jupyter-widgets/base",
            "overflow": null,
            "_model_module_version": "1.2.0",
            "_view_count": null,
            "flex_flow": null,
            "width": null,
            "min_width": null,
            "border": null,
            "align_items": null,
            "bottom": null,
            "_model_module": "@jupyter-widgets/base",
            "top": null,
            "grid_column": null,
            "overflow_y": null,
            "overflow_x": null,
            "grid_auto_flow": null,
            "grid_area": null,
            "grid_template_columns": null,
            "flex": null,
            "_model_name": "LayoutModel",
            "justify_items": null,
            "grid_row": null,
            "max_height": null,
            "align_content": null,
            "visibility": null,
            "align_self": null,
            "height": null,
            "min_height": null,
            "padding": null,
            "grid_auto_rows": null,
            "grid_gap": null,
            "max_width": null,
            "order": null,
            "_view_module_version": "1.2.0",
            "grid_template_areas": null,
            "object_position": null,
            "object_fit": null,
            "grid_auto_columns": null,
            "margin": null,
            "display": null,
            "left": null
          }
        },
        "283ed2344e044ed4bcd61c284da1be67": {
          "model_module": "@jupyter-widgets/controls",
          "model_name": "HBoxModel",
          "state": {
            "_view_name": "HBoxView",
            "_dom_classes": [],
            "_model_name": "HBoxModel",
            "_view_module": "@jupyter-widgets/controls",
            "_model_module_version": "1.5.0",
            "_view_count": null,
            "_view_module_version": "1.5.0",
            "box_style": "",
            "layout": "IPY_MODEL_3bbf01a21bd44ca3ba2e1777f925bbbd",
            "_model_module": "@jupyter-widgets/controls",
            "children": [
              "IPY_MODEL_234bdaecabb541c4aee11e0d6da7fed6",
              "IPY_MODEL_47307daec7644497af11a5fd0a33d8c4"
            ]
          }
        },
        "3bbf01a21bd44ca3ba2e1777f925bbbd": {
          "model_module": "@jupyter-widgets/base",
          "model_name": "LayoutModel",
          "state": {
            "_view_name": "LayoutView",
            "grid_template_rows": null,
            "right": null,
            "justify_content": null,
            "_view_module": "@jupyter-widgets/base",
            "overflow": null,
            "_model_module_version": "1.2.0",
            "_view_count": null,
            "flex_flow": null,
            "width": null,
            "min_width": null,
            "border": null,
            "align_items": null,
            "bottom": null,
            "_model_module": "@jupyter-widgets/base",
            "top": null,
            "grid_column": null,
            "overflow_y": null,
            "overflow_x": null,
            "grid_auto_flow": null,
            "grid_area": null,
            "grid_template_columns": null,
            "flex": null,
            "_model_name": "LayoutModel",
            "justify_items": null,
            "grid_row": null,
            "max_height": null,
            "align_content": null,
            "visibility": null,
            "align_self": null,
            "height": null,
            "min_height": null,
            "padding": null,
            "grid_auto_rows": null,
            "grid_gap": null,
            "max_width": null,
            "order": null,
            "_view_module_version": "1.2.0",
            "grid_template_areas": null,
            "object_position": null,
            "object_fit": null,
            "grid_auto_columns": null,
            "margin": null,
            "display": null,
            "left": null
          }
        },
        "234bdaecabb541c4aee11e0d6da7fed6": {
          "model_module": "@jupyter-widgets/controls",
          "model_name": "FloatProgressModel",
          "state": {
            "_view_name": "ProgressView",
            "style": "IPY_MODEL_0e9d521576e142a0bc8f5fcad27b2b6c",
            "_dom_classes": [],
            "description": "  0%",
            "_model_name": "FloatProgressModel",
            "bar_style": "danger",
            "max": 1,
            "_view_module": "@jupyter-widgets/controls",
            "_model_module_version": "1.5.0",
            "value": 0,
            "_view_count": null,
            "_view_module_version": "1.5.0",
            "orientation": "horizontal",
            "min": 0,
            "description_tooltip": null,
            "_model_module": "@jupyter-widgets/controls",
            "layout": "IPY_MODEL_e169ecbd49584f829b6f98bd910f17f9"
          }
        },
        "47307daec7644497af11a5fd0a33d8c4": {
          "model_module": "@jupyter-widgets/controls",
          "model_name": "HTMLModel",
          "state": {
            "_view_name": "HTMLView",
            "style": "IPY_MODEL_77c9ea75ca584871952f19b3c4be3867",
            "_dom_classes": [],
            "description": "",
            "_model_name": "HTMLModel",
            "placeholder": "​",
            "_view_module": "@jupyter-widgets/controls",
            "_model_module_version": "1.5.0",
            "value": " 0/1 [00:00&lt;?, ? examples/s]",
            "_view_count": null,
            "_view_module_version": "1.5.0",
            "description_tooltip": null,
            "_model_module": "@jupyter-widgets/controls",
            "layout": "IPY_MODEL_b84519e9d7bb4e1da6d2d41fb27a76f6"
          }
        },
        "0e9d521576e142a0bc8f5fcad27b2b6c": {
          "model_module": "@jupyter-widgets/controls",
          "model_name": "ProgressStyleModel",
          "state": {
            "_view_name": "StyleView",
            "_model_name": "ProgressStyleModel",
            "description_width": "initial",
            "_view_module": "@jupyter-widgets/base",
            "_model_module_version": "1.5.0",
            "_view_count": null,
            "_view_module_version": "1.2.0",
            "bar_color": null,
            "_model_module": "@jupyter-widgets/controls"
          }
        },
        "e169ecbd49584f829b6f98bd910f17f9": {
          "model_module": "@jupyter-widgets/base",
          "model_name": "LayoutModel",
          "state": {
            "_view_name": "LayoutView",
            "grid_template_rows": null,
            "right": null,
            "justify_content": null,
            "_view_module": "@jupyter-widgets/base",
            "overflow": null,
            "_model_module_version": "1.2.0",
            "_view_count": null,
            "flex_flow": null,
            "width": null,
            "min_width": null,
            "border": null,
            "align_items": null,
            "bottom": null,
            "_model_module": "@jupyter-widgets/base",
            "top": null,
            "grid_column": null,
            "overflow_y": null,
            "overflow_x": null,
            "grid_auto_flow": null,
            "grid_area": null,
            "grid_template_columns": null,
            "flex": null,
            "_model_name": "LayoutModel",
            "justify_items": null,
            "grid_row": null,
            "max_height": null,
            "align_content": null,
            "visibility": null,
            "align_self": null,
            "height": null,
            "min_height": null,
            "padding": null,
            "grid_auto_rows": null,
            "grid_gap": null,
            "max_width": null,
            "order": null,
            "_view_module_version": "1.2.0",
            "grid_template_areas": null,
            "object_position": null,
            "object_fit": null,
            "grid_auto_columns": null,
            "margin": null,
            "display": null,
            "left": null
          }
        },
        "77c9ea75ca584871952f19b3c4be3867": {
          "model_module": "@jupyter-widgets/controls",
          "model_name": "DescriptionStyleModel",
          "state": {
            "_view_name": "StyleView",
            "_model_name": "DescriptionStyleModel",
            "description_width": "",
            "_view_module": "@jupyter-widgets/base",
            "_model_module_version": "1.5.0",
            "_view_count": null,
            "_view_module_version": "1.2.0",
            "_model_module": "@jupyter-widgets/controls"
          }
        },
        "b84519e9d7bb4e1da6d2d41fb27a76f6": {
          "model_module": "@jupyter-widgets/base",
          "model_name": "LayoutModel",
          "state": {
            "_view_name": "LayoutView",
            "grid_template_rows": null,
            "right": null,
            "justify_content": null,
            "_view_module": "@jupyter-widgets/base",
            "overflow": null,
            "_model_module_version": "1.2.0",
            "_view_count": null,
            "flex_flow": null,
            "width": null,
            "min_width": null,
            "border": null,
            "align_items": null,
            "bottom": null,
            "_model_module": "@jupyter-widgets/base",
            "top": null,
            "grid_column": null,
            "overflow_y": null,
            "overflow_x": null,
            "grid_auto_flow": null,
            "grid_area": null,
            "grid_template_columns": null,
            "flex": null,
            "_model_name": "LayoutModel",
            "justify_items": null,
            "grid_row": null,
            "max_height": null,
            "align_content": null,
            "visibility": null,
            "align_self": null,
            "height": null,
            "min_height": null,
            "padding": null,
            "grid_auto_rows": null,
            "grid_gap": null,
            "max_width": null,
            "order": null,
            "_view_module_version": "1.2.0",
            "grid_template_areas": null,
            "object_position": null,
            "object_fit": null,
            "grid_auto_columns": null,
            "margin": null,
            "display": null,
            "left": null
          }
        }
      }
    }
  },
  "cells": [
    {
      "cell_type": "markdown",
      "metadata": {
        "id": "view-in-github",
        "colab_type": "text"
      },
      "source": [
        "<a href=\"https://colab.research.google.com/github/lcaspari/42_tensorflow_homework/blob/main/homework10/Embeddings.ipynb\" target=\"_parent\"><img src=\"https://colab.research.google.com/assets/colab-badge.svg\" alt=\"Open In Colab\"/></a>"
      ]
    },
    {
      "cell_type": "code",
      "metadata": {
        "id": "Iy7V8ftA5BBs"
      },
      "source": [
        "import matplotlib.pyplot as plt\n",
        "import numpy as np\n",
        "import tensorflow as tf\n",
        "\n",
        "from tensorflow.keras import Model\n",
        "from tensorflow.keras.layers import Activation, Dense, Dot, Embedding, Flatten, GlobalAveragePooling1D, Reshape, Layer\n",
        "\n",
        "from tensorflow.keras.initializers import RandomUniform\n",
        "\n",
        "import tensorflow_datasets as tfds\n",
        "import matplotlib.pyplot as plt\n",
        "\n",
        "from scipy.spatial import distance\n",
        "from sklearn.manifold import TSNE\n",
        "\n",
        "import re, math"
      ],
      "execution_count": 18,
      "outputs": []
    },
    {
      "cell_type": "markdown",
      "metadata": {
        "id": "LV_gr6U76GB1"
      },
      "source": [
        "# Load and preprocess the data"
      ]
    },
    {
      "cell_type": "markdown",
      "metadata": {
        "id": "n1Vrjq6s6NRp"
      },
      "source": [
        "## Load the data"
      ]
    },
    {
      "cell_type": "code",
      "metadata": {
        "id": "inWNgui8aCTS",
        "colab": {
          "base_uri": "https://localhost:8080/",
          "height": 337,
          "referenced_widgets": [
            "588d2ae384e546d4a0ecd73a141373aa",
            "66a317b3ab1341b1b5310cf5d01b7dd3",
            "d98703b36f1a4a6fbddaf6b6a4e72cbd",
            "4e38869d6b574c7f90afce3d5b5e489d",
            "94f36c7fda144e29bd4317bee5ca9274",
            "6a832fcce23044e1b76125575dbc0f6e",
            "bfe0d07e99ba4239af4b539679681a94",
            "e7f7f9d87e0d4d77b7d2e59b6e3af8f2",
            "c5c060f3a38948e2af8eb79eec5a9b70",
            "796bd8e5b8604393a50032cdc0c99441",
            "5e10b67c548e4084b9c5ee900f3e2cd5",
            "eb33ff8c431843fe9194dbda83e56e20",
            "dd4dddab1218404c97b6d8096736b26f",
            "bcec0610aa1146509c132b2f167032a9",
            "772bfbb7d62d46d6b1a59da5076449fc",
            "474df63edd51483ead67a2851cf52d9a",
            "952dab501a5a42178fed16a02a7c754a",
            "a5c43667e1af4ff49d05f32f1190b814",
            "40a64813c06a4493b0a9a50001fcb49f",
            "413da83f903441cda6e6a0d34f0813f2",
            "a16a0cf2dbca4a4dae4fd2134335fad3",
            "413027e5e2464f56aabb68b35cd31218",
            "55ba0cddc29440f8903d7688dc39828d",
            "fea1478ddb094a978ef5687617035a15",
            "9d1683c64b20428c9afe2362ee2c05c2",
            "00dddcc75b144d878cbfb07ab0497a5f",
            "96cf676aa567443ab9d41f8e1a6c59b1",
            "54bd635c7c8c47e2bfcdc81372b20b06",
            "9e1358f98cc442a79a6da3dbfef69ece",
            "f2f2f00b1a2e45af9480b4ef2718bc9a",
            "2bc86b08b9ef485e9a9b21a7e4c7e959",
            "d1ec09ad7880468bb6289f682bc68afb",
            "c006d18358a9413799b2084aebe9f472",
            "ea8aecf6d249423dbbef2a204f554ed4",
            "b8a080fc1b36460190f84d597e9cc297",
            "e4a360b23f85468b8924d313dde6d24d",
            "a7ccdb5d5a2840499046db8501b875a4",
            "703c771bce534d6cae2597128917b516",
            "cbd7bdfd2994452ab90a027e3d1e81f5",
            "e2e2e24fed7c440193b1d1906571bd7e",
            "f38200ddd13a486d9298e466e710a4b8",
            "5f3cb3a00c354937af418a9558673aea",
            "d12866018dbd401293e6e462847c516e",
            "29c76b4866da4cbeb4ec00b639c62aa6",
            "fbab2ed92bee43de868c39f2608c2701",
            "c4237b4931a349689ac3f4a6f0b572fe",
            "2c219540657446099908de678ffeeee6",
            "82269a2cc18b4b0e90880f75063fd103",
            "28656f7c2381472f9efc0aedc130679c",
            "1a125e4187224b358c2e50c0219cfa11",
            "addf38fa612f463a8157474cf48d336a",
            "80e69ce260044906abf3004377483650",
            "ec08f7401ad648779903019ca8caf01b",
            "d0cdc180937a4e538effe020120f3a30",
            "4eba9aadefd140b7a795d9226af50bcc",
            "4ffaada824f3403d82acff39758b67f4",
            "283ed2344e044ed4bcd61c284da1be67",
            "3bbf01a21bd44ca3ba2e1777f925bbbd",
            "234bdaecabb541c4aee11e0d6da7fed6",
            "47307daec7644497af11a5fd0a33d8c4",
            "0e9d521576e142a0bc8f5fcad27b2b6c",
            "e169ecbd49584f829b6f98bd910f17f9",
            "77c9ea75ca584871952f19b3c4be3867",
            "b84519e9d7bb4e1da6d2d41fb27a76f6"
          ]
        },
        "outputId": "6e6d9f04-5212-4782-d8ca-d562481d52cf"
      },
      "source": [
        "testData = tfds.load(name=\"tiny_shakespeare\")[\"test\"]\n"
      ],
      "execution_count": 2,
      "outputs": [
        {
          "output_type": "stream",
          "text": [
            "\u001b[1mDownloading and preparing dataset tiny_shakespeare/1.0.0 (download: Unknown size, generated: 1.06 MiB, total: 1.06 MiB) to /root/tensorflow_datasets/tiny_shakespeare/1.0.0...\u001b[0m\n"
          ],
          "name": "stdout"
        },
        {
          "output_type": "display_data",
          "data": {
            "application/vnd.jupyter.widget-view+json": {
              "model_id": "588d2ae384e546d4a0ecd73a141373aa",
              "version_minor": 0,
              "version_major": 2
            },
            "text/plain": [
              "HBox(children=(FloatProgress(value=1.0, bar_style='info', description='Dl Completed...', max=1.0, style=Progre…"
            ]
          },
          "metadata": {
            "tags": []
          }
        },
        {
          "output_type": "display_data",
          "data": {
            "application/vnd.jupyter.widget-view+json": {
              "model_id": "c5c060f3a38948e2af8eb79eec5a9b70",
              "version_minor": 0,
              "version_major": 2
            },
            "text/plain": [
              "HBox(children=(FloatProgress(value=1.0, bar_style='info', description='Dl Size...', max=1.0, style=ProgressSty…"
            ]
          },
          "metadata": {
            "tags": []
          }
        },
        {
          "output_type": "stream",
          "text": [
            "\n",
            "\n",
            "\n",
            "\n"
          ],
          "name": "stdout"
        },
        {
          "output_type": "display_data",
          "data": {
            "application/vnd.jupyter.widget-view+json": {
              "model_id": "952dab501a5a42178fed16a02a7c754a",
              "version_minor": 0,
              "version_major": 2
            },
            "text/plain": [
              "HBox(children=(FloatProgress(value=1.0, bar_style='info', max=1.0), HTML(value='')))"
            ]
          },
          "metadata": {
            "tags": []
          }
        },
        {
          "output_type": "stream",
          "text": [
            "\rShuffling and writing examples to /root/tensorflow_datasets/tiny_shakespeare/1.0.0.incomplete0TGVN1/tiny_shakespeare-train.tfrecord\n"
          ],
          "name": "stdout"
        },
        {
          "output_type": "display_data",
          "data": {
            "application/vnd.jupyter.widget-view+json": {
              "model_id": "9d1683c64b20428c9afe2362ee2c05c2",
              "version_minor": 0,
              "version_major": 2
            },
            "text/plain": [
              "HBox(children=(FloatProgress(value=0.0, max=1.0), HTML(value='')))"
            ]
          },
          "metadata": {
            "tags": []
          }
        },
        {
          "output_type": "stream",
          "text": [
            "\r"
          ],
          "name": "stdout"
        },
        {
          "output_type": "display_data",
          "data": {
            "application/vnd.jupyter.widget-view+json": {
              "model_id": "c006d18358a9413799b2084aebe9f472",
              "version_minor": 0,
              "version_major": 2
            },
            "text/plain": [
              "HBox(children=(FloatProgress(value=1.0, bar_style='info', max=1.0), HTML(value='')))"
            ]
          },
          "metadata": {
            "tags": []
          }
        },
        {
          "output_type": "stream",
          "text": [
            "\rShuffling and writing examples to /root/tensorflow_datasets/tiny_shakespeare/1.0.0.incomplete0TGVN1/tiny_shakespeare-validation.tfrecord\n"
          ],
          "name": "stdout"
        },
        {
          "output_type": "display_data",
          "data": {
            "application/vnd.jupyter.widget-view+json": {
              "model_id": "f38200ddd13a486d9298e466e710a4b8",
              "version_minor": 0,
              "version_major": 2
            },
            "text/plain": [
              "HBox(children=(FloatProgress(value=0.0, max=1.0), HTML(value='')))"
            ]
          },
          "metadata": {
            "tags": []
          }
        },
        {
          "output_type": "stream",
          "text": [
            "\r"
          ],
          "name": "stdout"
        },
        {
          "output_type": "display_data",
          "data": {
            "application/vnd.jupyter.widget-view+json": {
              "model_id": "28656f7c2381472f9efc0aedc130679c",
              "version_minor": 0,
              "version_major": 2
            },
            "text/plain": [
              "HBox(children=(FloatProgress(value=1.0, bar_style='info', max=1.0), HTML(value='')))"
            ]
          },
          "metadata": {
            "tags": []
          }
        },
        {
          "output_type": "stream",
          "text": [
            "Shuffling and writing examples to /root/tensorflow_datasets/tiny_shakespeare/1.0.0.incomplete0TGVN1/tiny_shakespeare-test.tfrecord\n"
          ],
          "name": "stdout"
        },
        {
          "output_type": "display_data",
          "data": {
            "application/vnd.jupyter.widget-view+json": {
              "model_id": "283ed2344e044ed4bcd61c284da1be67",
              "version_minor": 0,
              "version_major": 2
            },
            "text/plain": [
              "HBox(children=(FloatProgress(value=0.0, max=1.0), HTML(value='')))"
            ]
          },
          "metadata": {
            "tags": []
          }
        },
        {
          "output_type": "stream",
          "text": [
            "\u001b[1mDataset tiny_shakespeare downloaded and prepared to /root/tensorflow_datasets/tiny_shakespeare/1.0.0. Subsequent calls will reuse this data.\u001b[0m\n"
          ],
          "name": "stdout"
        }
      ]
    },
    {
      "cell_type": "code",
      "metadata": {
        "colab": {
          "base_uri": "https://localhost:8080/"
        },
        "id": "g0NpZQqqaMAC",
        "outputId": "d850455a-0e3f-4dc8-de4b-e6f92f6b65d3"
      },
      "source": [
        "for i in testData:\n",
        "  print(i.keys())\n",
        "  "
      ],
      "execution_count": 3,
      "outputs": [
        {
          "output_type": "stream",
          "text": [
            "dict_keys(['text'])\n"
          ],
          "name": "stdout"
        }
      ]
    },
    {
      "cell_type": "markdown",
      "metadata": {
        "id": "KzxkLlpL6n80"
      },
      "source": [
        "# 2. Word Embeddings"
      ]
    },
    {
      "cell_type": "markdown",
      "metadata": {
        "id": "AZvEdvNb6rdT"
      },
      "source": [
        "## 2.1 Preprocessing\n",
        "- translate words to enitity id \"castle\" → 1450\n",
        "  - convert to lowercase\n",
        "  - remove punctuation and new line characters\n",
        "- create two dictionaries containing the mappings\n",
        "  - dict1: word → id\n",
        "  - dict2: id → word\n",
        "- create input-target pairs \n",
        "  - containing the input and its context (the target)\n",
        "  - using a context window of 4 words\n",
        "    - (word, context1)\n",
        "    - (word, context2)\n",
        "    - (word, context3)\n",
        "    - (word, context4)\n",
        "\n",
        "**outstanding**\n",
        "→ disregard often occuring words with the given formular"
      ]
    },
    {
      "cell_type": "code",
      "metadata": {
        "colab": {
          "base_uri": "https://localhost:8080/"
        },
        "id": "VQsKk753ZGJu",
        "outputId": "5b652dc0-7649-46a5-a0d7-d117dc1e7cc4"
      },
      "source": [
        "import re\n",
        "\n",
        "# remove punctuation\n",
        "trainText = next(iter(testData))[\"text\"].numpy()\n",
        "print(trainText)\n",
        "\n",
        "trainText = re.sub(r'\\\\n', ' ', str(trainText).lower())\n",
        "trainText = re.sub(r\"[^a-zA-Z ]\", '', trainText)\n",
        "\n",
        "print(trainText)"
      ],
      "execution_count": 4,
      "outputs": [
        {
          "output_type": "stream",
          "text": [
            "b\"rance ta'en\\nAs shall with either part's agreement stand?\\n\\nBAPTISTA:\\nNot in my house, Lucentio; for, you know,\\nPitchers have ears, and I have many servants:\\nBesides, old Gremio is hearkening still;\\nAnd happily we might be interrupted.\\n\\nTRANIO:\\nThen at my lodging, an it like you:\\nThere doth my father lie; and there, this night,\\nWe'll pass the business privately and well.\\nSend for your daughter by your servant here:\\nMy boy shall fetch the scrivener presently.\\nThe worst is this, that, at so slender warning,\\nYou are like to have a thin and slender pittance.\\n\\nBAPTISTA:\\nIt likes me well. Biondello, hie you home,\\nAnd bid Bianca make her ready straight;\\nAnd, if you will, tell what hath happened,\\nLucentio's father is arrived in Padua,\\nAnd how she's like to be Lucentio's wife.\\n\\nBIONDELLO:\\nI pray the gods she may with all my heart!\\n\\nTRANIO:\\nDally not with the gods, but get thee gone.\\nSignior Baptista, shall I lead the way?\\nWelcome! one mess is like to be your cheer:\\nCome, sir; we will better it in Pisa.\\n\\nBAPTISTA:\\nI follow you.\\n\\nBIONDELLO:\\nCambio!\\n\\nLUCENTIO:\\nWhat sayest thou, Biondello?\\n\\nBIONDELLO:\\nYou saw my master wink and laugh upon you?\\n\\nLUCENTIO:\\nBiondello, what of that?\\n\\nBIONDELLO:\\nFaith, nothing; but has left me here behind, to\\nexpound the meaning or moral of his signs and tokens.\\n\\nLUCENTIO:\\nI pray thee, moralize them.\\n\\nBIONDELLO:\\nThen thus. Baptista is safe, talking with the\\ndeceiving father of a deceitful son.\\n\\nLUCENTIO:\\nAnd what of him?\\n\\nBIONDELLO:\\nHis daughter is to be brought by you to the supper.\\n\\nLUCENTIO:\\nAnd then?\\n\\nBIONDELLO:\\nThe old priest of Saint Luke's church is at your\\ncommand at all hours.\\n\\nLUCENTIO:\\nAnd what of all this?\\n\\nBIONDELLO:\\nI cannot tell; expect they are busied about a\\ncounterfeit assurance: take you assurance of her,\\n'cum privilegio ad imprimendum solum:' to the\\nchurch; take the priest, clerk, and some sufficient\\nhonest witnesses: If this be not that you look for,\\nI have no more to say, But bid Bianca farewell for\\never and a day.\\n\\nLUCENTIO:\\nHearest thou, Biondello?\\n\\nBIONDELLO:\\nI cannot tarry: I knew a wench married in an\\nafternoon as she went to the garden for parsley to\\nstuff a rabbit; and so may you, sir: and so, adieu,\\nsir. My master hath appointed me to go to Saint\\nLuke's, to bid the priest be ready to come against\\nyou come with your appendix.\\n\\nLUCENTIO:\\nI may, and will, if she be so contented:\\nShe will be pleased; then wherefore should I doubt?\\nHap what hap may, I'll roundly go about her:\\nIt shall go hard if Cambio go without her.\\n\\nPETRUCHIO:\\nCome on, i' God's name; once more toward our father's.\\nGood Lord, how bright and goodly shines the moon!\\n\\nKATHARINA:\\nThe moon! the sun: it is not moonlight now.\\n\\nPETRUCHIO:\\nI say it is the moon that shines so bright.\\n\\nKATHARINA:\\nI know it is the sun that shines so bright.\\n\\nPETRUCHIO:\\nNow, by my mother's son, and that's myself,\\nIt shall be moon, or star, or what I list,\\nOr ere I journey to your father's house.\\nGo on, and fetch our horses back again.\\nEvermore cross'd and cross'd; nothing but cross'd!\\n\\nHORTENSIO:\\nSay as he says, or we shall never go.\\n\\nKATHARINA:\\nForward, I pray, since we have come so far,\\nAnd be it moon, or sun, or what you please:\\nAn if you please to call it a rush-candle,\\nHenceforth I vow it shall be so for me.\\n\\nPETRUCHIO:\\nI say it is the moon.\\n\\nKATHARINA:\\nI know it is the moon.\\n\\nPETRUCHIO:\\nNay, then you lie: it is the blessed sun.\\n\\nKATHARINA:\\nThen, God be bless'd, it is the blessed sun:\\nBut sun it is not, when you say it is not;\\nAnd the moon changes even as your mind.\\nWhat you will have it named, even that it is;\\nAnd so it shall be so for Katharina.\\n\\nHORTENSIO:\\nPetruchio, go thy ways; the field is won.\\n\\nPETRUCHIO:\\nWell, forward, forward! thus the bowl should run,\\nAnd not unluckily against the bias.\\nBut, soft! company is coming here.\\nGood morrow, gentle mistress: where away?\\nTell me, sweet Kate, and tell me truly too,\\nHast thou beheld a fresher gentlewoman?\\nSuch war of white and red within her cheeks!\\nWhat stars do spangle heaven with such beauty,\\nAs those two eyes become that heavenly face?\\nFair lovely maid, once more good day to thee.\\nSweet Kate, embrace her for her beauty's sake.\\n\\nHORTENSIO:\\nA' will make the man mad, to make a woman of him.\\n\\nKATHARINA:\\nYoung budding virgin, fair and fresh and sweet,\\nWhither away, or where is thy abode?\\nHappy the parents of so fair a child;\\nHappier the man, whom favourable stars\\nAllot thee for his lovely bed-fellow!\\n\\nPETRUCHIO:\\nWhy, how now, Kate! I hope thou art not mad:\\nThis is a man, old, wrinkled, faded, wither'd,\\nAnd not a maiden, as thou say'st he is.\\n\\nKATHARINA:\\nPardon, old father, my mistaking eyes,\\nThat have been so bedazzled with the sun\\nThat everything I look on seemeth green:\\nNow I perceive thou art a reverend father;\\nPardon, I pray thee, for my mad mistaking.\\n\\nPETRUCHIO:\\nDo, good old grandsire; and withal make known\\nWhich way thou travellest: if along with us,\\nWe shall be joyful of thy company.\\n\\nVINCENTIO:\\nFair sir, and you my merry mistress,\\nThat with your strange encounter much amazed me,\\nMy name is call'd Vincentio; my dwelling Pisa;\\nAnd bound I am to Padua; there to visit\\nA son of mine, which long I have not seen.\\n\\nPETRUCHIO:\\nWhat is his name?\\n\\nVINCENTIO:\\nLucentio, gentle sir.\\n\\nPETRUCHIO:\\nHappily we met; the happier for thy son.\\nAnd now by law, as well as reverend age,\\nI may entitle thee my loving father:\\nThe sister to my wife, this gentlewoman,\\nThy son by this hath married. Wonder not,\\nNor be grieved: she is of good esteem,\\nHer dowery wealthy, and of worthy birth;\\nBeside, so qualified as may beseem\\nThe spouse of any noble gentleman.\\nLet me embrace with old Vincentio,\\nAnd wander we to see thy honest son,\\nWho will of thy arrival be full joyous.\\n\\nVINCENTIO:\\nBut is it true? or else is it your pleasure,\\nLike pleasant travellers, to break a jest\\nUpon the company you overtake?\\n\\nHORTENSIO:\\nI do assure thee, father, so it is.\\n\\nPETRUCHIO:\\nCome, go along, and see the truth hereof;\\nFor our first merriment hath made thee jealous.\\n\\nHORTENSIO:\\nWell, Petruchio, this has put me in heart.\\nHave to my widow! and if she be froward,\\nThen hast thou taught Hortensio to be untoward.\\n\\nBIONDELLO:\\nSoftly and swiftly, sir; for the priest is ready.\\n\\nLUCENTIO:\\nI fly, Biondello: but they may chance to need thee\\nat home; therefore leave us.\\n\\nBIONDELLO:\\nNay, faith, I'll see the church o' your back; and\\nthen come back to my master's as soon as I can.\\n\\nGREMIO:\\nI marvel Cambio comes not all this while.\\n\\nPETRUCHIO:\\nSir, here's the door, this is Lucentio's house:\\nMy father's bears more toward the market-place;\\nThither must I, and here I leave you, sir.\\n\\nVINCENTIO:\\nYou shall not choose but drink before you go:\\nI think I shall command your welcome here,\\nAnd, by all likelihood, some cheer is toward.\\n\\nGREMIO:\\nThey're busy within; you were best knock louder.\\n\\nPedant:\\nWhat's he that knocks as he would beat down the gate?\\n\\nVINCENTIO:\\nIs Signior Lucentio within, sir?\\n\\nPedant:\\nHe's within, sir, but not to be spoken withal.\\n\\nVINCENTIO:\\nWhat if a man bring him a hundred pound or two, to\\nmake merry withal?\\n\\nPedant:\\nKeep your hundred pounds to yourself: he shall\\nneed none, so long as I live.\\n\\nPETRUCHIO:\\nNay, I told you your son was well beloved in Padua.\\nDo you hear, sir? To leave frivolous circumstances,\\nI pray you, tell Signior Lucentio that his father is\\ncome from Pisa, and is here at the door to speak with him.\\n\\nPedant:\\nThou liest: his father is come from Padua and here\\nlooking out at the window.\\n\\nVINCENTIO:\\nArt thou his father?\\n\\nPedant:\\nAy, sir; so his mother says, if I may believe her.\\n\\nPETRUCHIO:\\n\\nPedant:\\nLay hands on the villain: I believe a' means to\\ncozen somebody in this city under my countenance.\\n\\nBIONDELLO:\\nI have seen them in the church together: God send\\n'em good shipping! But who is here? mine old\\nmaster Vincentio! now we are undone and brought to nothing.\\n\\nVINCENTIO:\\n\\nBIONDELLO:\\nHope I may choose, sir.\\n\\nVINCENTIO:\\nCome hither, you rogue. What, have you forgot me?\\n\\nBIONDELLO:\\nForgot you! no, sir: I could not forget you, for I\\nnever saw you before in all my life.\\n\\nVINCENTIO:\\nWhat, you notorious villain, didst thou never see\\nthy master's father, Vincentio?\\n\\nBIONDELLO:\\nWhat, my old worshipful old master? yes, marry, sir:\\nsee where he looks out of the window.\\n\\nVINCENTIO:\\nIs't so, indeed.\\n\\nBIONDELLO:\\nHelp, help, help! here's a madman will murder me.\\n\\nPedant:\\nHelp, son! help, Signior Baptista!\\n\\nPETRUCHIO:\\nPrithee, Kate, let's stand aside and see the end of\\nthis controversy.\\n\\nTRANIO:\\nSir, what are you that offer to beat my servant?\\n\\nVINCENTIO:\\nWhat am I, sir! nay, what are you, sir? O immortal\\ngods! O fine villain! A silken doublet! a velvet\\nhose! a scarlet cloak! and a copatain hat! O, I\\nam undone! I am undone! while I play the good\\nhusband at home, my son and my servant spend all at\\nthe university.\\n\\nTRANIO:\\nHow now! what's the matter?\\n\\nBAPTISTA:\\nWhat, is the man lunatic?\\n\\nTRANIO:\\nSir, you seem a sober ancient gentleman by your\\nhabit, but your words show you a madman. Why, sir,\\nwhat 'cerns it you if I wear pearl and gold? I\\nthank my good father, I am able to maintain it.\\n\\nVINCENTIO:\\nThy father! O villain! he is a sailmaker in Bergamo.\\n\\nBAPTISTA:\\nYou mistake, sir, you mistake, sir. Pray, what do\\nyou think is his name?\\n\\nVINCENTIO:\\nHis name! as if I knew not his name: I have brought\\nhim up ever since he was three years old, and his\\nname is Tranio.\\n\\nPedant:\\nAway, away, mad ass! his name is Lucentio and he is\\nmine only son, and heir to the lands of me, Signior Vincentio.\\n\\nVINCENTIO:\\nLucentio! O, he hath murdered his master! Lay hold\\non him, I charge you, in the duke's name. O, my\\nson, my son! Tell me, thou villain, where is my son Lucentio?\\n\\nTRANIO:\\nCall forth an officer.\\nCarry this mad knave to the gaol. Father Baptista,\\nI charge you see that he be forthcoming.\\n\\nVINCENTIO:\\nCarry me to the gaol!\\n\\nGREMIO:\\nStay, officer: he shall not go to prison.\\n\\nBAPTISTA:\\nTalk not, Signior Gremio: I say he shall go to prison.\\n\\nGREMIO:\\nTake heed, Signior Baptista, lest you be\\ncony-catched in this business: I dare swear this\\nis the right Vincentio.\\n\\nPedant:\\nSwear, if thou darest.\\n\\nGREMIO:\\nNay, I dare not swear it.\\n\\nTRANIO:\\nThen thou wert best say that I am not Lucentio.\\n\\nGREMIO:\\nYes, I know thee to be Signior Lucentio.\\n\\nBAPTISTA:\\nAway with the dotard! to the gaol with him!\\n\\nVINCENTIO:\\nThus strangers may be hailed and abused: O\\nmonstrous villain!\\n\\nBIONDELLO:\\nO! we are spoiled and--yonder he is: deny him,\\nforswear him, or else we are all undone.\\n\\nLUCENTIO:\\n\\nVINCENTIO:\\nLives my sweet son?\\n\\nBIANCA:\\nPardon, dear father.\\n\\nBAPTISTA:\\nHow hast thou offended?\\nWhere is Lucentio?\\n\\nLUCENTIO:\\nHere's Lucentio,\\nRight son to the right Vincentio;\\nThat have by marriage made thy daughter mine,\\nWhile counterfeit supposes bleared thine eyne.\\n\\nGREMIO:\\nHere's packing, with a witness to deceive us all!\\n\\nVINCENTIO:\\nWhere is that damned villain Tranio,\\nThat faced and braved me in this matter so?\\n\\nBAPTISTA:\\nWhy, tell me, is not this my Cambio?\\n\\nBIANCA:\\nCambio is changed into Lucentio.\\n\\nLUCENTIO:\\nLove wrought these miracles. Bianca's love\\nMade me exchange my state with Tranio,\\nWhile he did bear my countenance in the town;\\nAnd happily I have arrived at the last\\nUnto the wished haven of my bliss.\\nWhat Tranio did, myself enforced him to;\\nThen pardon him, sweet father, for my sake.\\n\\nVINCENTIO:\\nI'll slit the villain's nose, that would have sent\\nme to the gaol.\\n\\nBAPTISTA:\\nBut do you hear, sir? have you married my daughter\\nwithout asking my good will?\\n\\nVINCENTIO:\\nFear not, Baptista; we will content you, go to: but\\nI will in, to be revenged for this villany.\\n\\nBAPTISTA:\\nAnd I, to sound the depth of this knavery.\\n\\nLUCENTIO:\\nLook not pale, Bianca; thy father will not frown.\\n\\nGREMIO:\\nMy cake is dough; but I'll in among the rest,\\nOut of hope of all, but my share of the feast.\\n\\nKATHARINA:\\nHusband, let's follow, to see the end of this ado.\\n\\nPETRUCHIO:\\nFirst kiss me, Kate, and we will.\\n\\nKATHARINA:\\nWhat, in the midst of the street?\\n\\nPETRUCHIO:\\nWhat, art thou ashamed of me?\\n\\nKATHARINA:\\nNo, sir, God forbid; but ashamed to kiss.\\n\\nPETRUCHIO:\\nWhy, then let's home again. Come, sirrah, let's away.\\n\\nKATHARINA:\\nNay, I will give thee a kiss: now pray thee, love, stay.\\n\\nPETRUCHIO:\\nIs not this well? Come, my sweet Kate:\\nBetter once than never, for never too late.\\n\\nLUCENTIO:\\nAt last, though long, our jarring notes agree:\\nAnd time it is, when raging war is done,\\nTo smile at scapes and perils overblown.\\nMy fair Bianca, bid my father welcome,\\nWhile I with self-same kindness welcome thine.\\nBrother Petruchio, sister Katharina,\\nAnd thou, Hortensio, with thy loving widow,\\nFeast with the best, and welcome to my house:\\nMy banquet is to close our stomachs up,\\nAfter our great good cheer. Pray you, sit down;\\nFor now we sit to chat as well as eat.\\n\\nPETRUCHIO:\\nNothing but sit and sit, and eat and eat!\\n\\nBAPTISTA:\\nPadua affords this kindness, son Petruchio.\\n\\nPETRUCHIO:\\nPadua affords nothing but what is kind.\\n\\nHORTENSIO:\\nFor both our sakes, I would that word were true.\\n\\nPETRUCHIO:\\nNow, for my life, Hortensio fears his widow.\\n\\nWidow:\\nThen never trust me, if I be afeard.\\n\\nPETRUCHIO:\\nYou are very sensible, and yet you miss my sense:\\nI mean, Hortensio is afeard of you.\\n\\nWidow:\\nHe that is giddy thinks the world turns round.\\n\\nPETRUCHIO:\\nRoundly replied.\\n\\nKATHARINA:\\nMistress, how mean you that?\\n\\nWidow:\\nThus I conceive by him.\\n\\nPETRUCHIO:\\nConceives by me! How likes Hortensio that?\\n\\nHORTENSIO:\\nMy widow says, thus she conceives her tale.\\n\\nPETRUCHIO:\\nVery well mended. Kiss him for that, good widow.\\n\\nKATHARINA:\\n'He that is giddy thinks the world turns round:'\\nI pray you, tell me what you meant by that.\\n\\nWidow:\\nYour husband, being troubled with a shrew,\\nMeasures my husband's sorrow by his woe:\\nAnd now you know my meaning,\\n\\nKATHARINA:\\nA very mean meaning.\\n\\nWidow:\\nRight, I mean you.\\n\\nKATHARINA:\\nAnd I am mean indeed, respecting you.\\n\\nPETRUCHIO:\\nTo her, Kate!\\n\\nHORTENSIO:\\nTo her, widow!\\n\\nPETRUCHIO:\\nA hundred marks, my Kate does put her down.\\n\\nHORTENSIO:\\nThat's my office.\\n\\nPETRUCHIO:\\nSpoke like an officer; ha' to thee, lad!\\n\\nBAPTISTA:\\nHow likes Gremio these quick-witted folks?\\n\\nGREMIO:\\nBelieve me, sir, they butt together well.\\n\\nBIANCA:\\nHead, and butt! an hasty-witted body\\nWould say your head and butt were head and horn.\\n\\nVINCENTIO:\\nAy, mistress bride, hath that awaken'd you?\\n\\nBIANCA:\\nAy, but not frighted me; therefore I'll sleep again.\\n\\nPETRUCHIO:\\nNay, that you shall not: since you have begun,\\nHave at you for a bitter jest or two!\\n\\nBIANCA:\\nAm I your bird? I mean to shift my bush;\\nAnd then pursue me as you draw your bow.\\nYou are welcome all.\\n\\nPETRUCHIO:\\nShe hath prevented me. Here, Signior Tranio.\\nThis bird you aim'd at, though you hit her not;\\nTherefore a health to all that shot and miss'd.\\n\\nTRANIO:\\nO, sir, Lucentio slipp'd me like his greyhound,\\nWhich runs himself and catches for his master.\\n\\nPETRUCHIO:\\nA good swift simile, but something currish.\\n\\nTRANIO:\\n'Tis well, sir, that you hunted for yourself:\\n'Tis thought your deer does hold you at a bay.\\n\\nBAPTISTA:\\nO ho, Petruchio! Tranio hits you now.\\n\\nLUCENTIO:\\nI thank thee for that gird, good Tranio.\\n\\nHORTENSIO:\\nConfess, confess, hath he not hit you here?\\n\\nPETRUCHIO:\\nA' has a little gall'd me, I confess;\\nAnd, as the jest did glance away from me,\\n'Tis ten to one it maim'd you two outright.\\n\\nBAPTISTA:\\nNow, in good sadness, son Petruchio,\\nI think thou hast the veriest shrew of all.\\n\\nPETRUCHIO:\\nWell, I say no: and therefore for assurance\\nLet's each one send unto his wife;\\nAnd he whose wife is most obedient\\nTo come at first when he doth send for her,\\nShall win the wager which we will propose.\\n\\nHORTENSIO:\\nContent. What is the wager?\\n\\nLUCENTIO:\\nTwenty crowns.\\n\\nPETRUCHIO:\\nTwenty crowns!\\nI'll venture so much of my hawk or hound,\\nBut twenty times so much upon my wife.\\n\\nLUCENTIO:\\nA hundred then.\\n\\nHORTENSIO:\\nContent.\\n\\nPETRUCHIO:\\nA match! 'tis done.\\n\\nHORTENSIO:\\nWho shall begin?\\n\\nLUCENTIO:\\nThat will I.\\nGo, Biondello, bid your mistress come to me.\\n\\nBIONDELLO:\\nI go.\\n\\nBAPTISTA:\\nSon, I'll be your half, Bianca comes.\\n\\nLUCENTIO:\\nI'll have no halves; I'll bear it all myself.\\nHow now! what news?\\n\\nBIONDELLO:\\nSir, my mistress sends you word\\nThat she is busy and she cannot come.\\n\\nPETRUCHIO:\\nHow! she is busy and she cannot come!\\nIs that an answer?\\n\\nGREMIO:\\nAy, and a kind one too:\\nPray God, sir, your wife send you not a worse.\\n\\nPETRUCHIO:\\nI hope better.\\n\\nHORTENSIO:\\nSirrah Biondello, go and entreat my wife\\nTo come to me forthwith.\\n\\nPETRUCHIO:\\nO, ho! entreat her!\\nNay, then she must needs come.\\n\\nHORTENSIO:\\nI am afraid, sir,\\nDo what you can, yours will not be entreated.\\nNow, where's my wife?\\n\\nBIONDELLO:\\nShe says you have some goodly jest in hand:\\nShe will not come: she bids you come to her.\\n\\nPETRUCHIO:\\nWorse and worse; she will not come! O vile,\\nIntolerable, not to be endured!\\nSirrah Grumio, go to your mistress;\\nSay, I command her to come to me.\\n\\nHORTENSIO:\\nI know her answer.\\n\\nPETRUCHIO:\\nWhat?\\n\\nHORTENSIO:\\nShe will not.\\n\\nPETRUCHIO:\\nThe fouler fortune mine, and there an end.\\n\\nBAPTISTA:\\nNow, by my holidame, here comes Katharina!\\n\\nKATHARINA:\\nWhat is your will, sir, that you send for me?\\n\\nPETRUCHIO:\\nWhere is your sister, and Hortensio's wife?\\n\\nKATHARINA:\\nThey sit conferring by the parlor fire.\\n\\nPETRUCHIO:\\nGo fetch them hither: if they deny to come.\\nSwinge me them soundly forth unto their husbands:\\nAway, I say, and bring them hither straight.\\n\\nLUCENTIO:\\nHere is a wonder, if you talk of a wonder.\\n\\nHORTENSIO:\\nAnd so it is: I wonder what it bodes.\\n\\nPETRUCHIO:\\nMarry, peace it bodes, and love and quiet life,\\nAnd awful rule and right supremacy;\\nAnd, to be short, what not, that's sweet and happy?\\n\\nBAPTISTA:\\nNow, fair befal thee, good Petruchio!\\nThe wager thou hast won; and I will add\\nUnto their losses twenty thousand crowns;\\nAnother dowry to another daughter,\\nFor she is changed, as she had never been.\\n\\nPETRUCHIO:\\nNay, I will win my wager better yet\\nAnd show more sign of her obedience,\\nHer new-built virtue and obedience.\\nSee where she comes and brings your froward wives\\nAs prisoners to her womanly persuasion.\\nKatharina, that cap of yours becomes you not:\\nOff with that bauble, throw it under-foot.\\n\\nWidow:\\nLord, let me never have a cause to sigh,\\nTill I be brought to such a silly pass!\\n\\nBIANCA:\\nFie! what a foolish duty call you this?\\n\\nLUCENTIO:\\nI would your duty were as foolish too:\\nThe wisdom of your duty, fair Bianca,\\nHath cost me an hundred crowns since supper-time.\\n\\nBIANCA:\\nThe more fool you, for laying on my duty.\\n\\nPETRUCHIO:\\nKatharina, I charge thee, tell these headstrong women\\nWhat duty they do owe their lords and husbands.\\n\\nWidow:\\nCome, come, you're mocking: we will have no telling.\\n\\nPETRUCHIO:\\nCome on, I say; and first begin with her.\\n\\nWidow:\\nShe shall not.\\n\\nPETRUCHIO:\\nI say she shall: and first begin with her.\\n\\nKATHARINA:\\nFie, fie! unknit that threatening unkind brow,\\nAnd dart not scornful glances from those eyes,\\nTo wound thy lord, thy king, thy governor:\\nIt blots thy beauty as frosts do bite the meads,\\nConfounds thy fame as whirlwinds shake fair buds,\\nAnd in no sense is meet or amiable.\\nA woman moved is like a fountain troubled,\\nMuddy, ill-seeming, thick, bereft of beauty;\\nAnd while it is so, none so dry or thirsty\\nWill deign to sip or touch one drop of it.\\nThy husband is thy lord, thy life, thy keeper,\\nThy head, thy sovereign; one that cares for thee,\\nAnd for thy maintenance commits his body\\nTo painful labour both by sea and land,\\nTo watch the night in storms, the day in cold,\\nWhilst thou liest warm at home, secure and safe;\\nAnd craves no other tribute at thy hands\\nBut love, fair looks and true obedience;\\nToo little payment for so great a debt.\\nSuch duty as the subject owes the prince\\nEven such a woman oweth to her husband;\\nAnd when she is froward, peevish, sullen, sour,\\nAnd not obedient to his honest will,\\nWhat is she but a foul contending rebel\\nAnd graceless traitor to her loving lord?\\nI am ashamed that women are so simple\\nTo offer war where they should kneel for peace;\\nOr seek for rule, supremacy and sway,\\nWhen they are bound to serve, love and obey.\\nWhy are our bodies soft and weak and smooth,\\nUnapt to toil and trouble in the world,\\nBut that our soft conditions and our hearts\\nShould well agree with our external parts?\\nCome, come, you froward and unable worms!\\nMy mind hath been as big as one of yours,\\nMy heart as great, my reason haply more,\\nTo bandy word for word and frown for frown;\\nBut now I see our lances are but straws,\\nOur strength as weak, our weakness past compare,\\nThat seeming to be most which we indeed least are.\\nThen vail your stomachs, for it is no boot,\\nAnd place your hands below your husband's foot:\\nIn token of which duty, if he please,\\nMy hand is ready; may it do him ease.\\n\\nPETRUCHIO:\\nWhy, there's a wench! Come on, and kiss me, Kate.\\n\\nLUCENTIO:\\nWell, go thy ways, old lad; for thou shalt ha't.\\n\\nVINCENTIO:\\n'Tis a good hearing when children are toward.\\n\\nLUCENTIO:\\nBut a harsh hearing when women are froward.\\n\\nPETRUCHIO:\\nCome, Kate, we'll to bed.\\nWe three are married, but you two are sped.\\n'Twas I won the wager, though you hit the white;\\nAnd, being a winner, God give you good night!\\n\\nHORTENSIO:\\nNow, go thy ways; thou hast tamed a curst shrew.\\n\\nLUCENTIO:\\n'Tis a wonder, by your leave, she will be tamed so.\\n\\nMaster:\\nBoatswain!\\n\\nBoatswain:\\nHere, master: what cheer?\\n\\nMaster:\\nGood, speak to the mariners: fall to't, yarely,\\nor we run ourselves aground: bestir, bestir.\\n\\nBoatswain:\\nHeigh, my hearts! cheerly, cheerly, my hearts!\\nyare, yare! Take in the topsail. Tend to the\\nmaster's whistle. Blow, till thou burst thy wind,\\nif room enough!\\n\\nALONSO:\\nGood boatswain, have care. Where's the master?\\nPlay the men.\\n\\nBoatswain:\\nI pray now, keep below.\\n\\nANTONIO:\\nWhere is the master, boatswain?\\n\\nBoatswain:\\nDo you not hear him? You mar our labour: keep your\\ncabins: you do assist the storm.\\n\\nGONZALO:\\nNay, good, be patient.\\n\\nBoatswain:\\nWhen the sea is. Hence! What cares these roarers\\nfor the name of king? To cabin: silence! trouble us not.\\n\\nGONZALO:\\nGood, yet remember whom thou hast aboard.\\n\\nBoatswain:\\nNone that I more love than myself. You are a\\ncounsellor; if you can command these elements to\\nsilence, and work the peace of the present, we will\\nnot hand a rope more; use your authority: if you\\ncannot, give thanks you have lived so long, and make\\nyourself ready in your cabin for the mischance of\\nthe hour, if it so hap. Cheerly, good hearts! Out\\nof our way, I say.\\n\\nGONZALO:\\nI have great comfort from this fellow: methinks he\\nhath no drowning mark upon him; his complexion is\\nperfect gallows. Stand fast, good Fate, to his\\nhanging: make the rope of his destiny our cable,\\nfor our own doth little advantage. If he be not\\nborn to be hanged, our case is miserable.\\n\\nBoatswain:\\nDown with the topmast! yare! lower, lower! Bring\\nher to try with main-course.\\nA plague upon this howling! they are louder than\\nthe weather or our office.\\nYet again! what do you here? Shall we give o'er\\nand drown? Have you a mind to sink?\\n\\nSEBASTIAN:\\nA pox o' your throat, you bawling, blasphemous,\\nincharitable dog!\\n\\nBoatswain:\\nWork you then.\\n\\nANTONIO:\\nHang, cur! hang, you whoreson, insolent noisemaker!\\nWe are less afraid to be drowned than thou art.\\n\\nGONZALO:\\nI'll warrant him for drowning; though the ship were\\nno stronger than a nutshell and as leaky as an\\nunstanched wench.\\n\\nBoatswain:\\nLay her a-hold, a-hold! set her two courses off to\\nsea again; lay her off.\\n\\nMariners:\\nAll lost! to prayers, to prayers! all lost!\\n\\nBoatswain:\\nWhat, must our mouths be cold?\\n\\nGONZALO:\\nThe king and prince at prayers! let's assist them,\\nFor our case is as theirs.\\n\\nSEBASTIAN:\\nI'm out of patience.\\n\\nANTONIO:\\nWe are merely cheated of our lives by drunkards:\\nThis wide-chapp'd rascal--would thou mightst lie drowning\\nThe washing of ten tides!\\n\\nGONZALO:\\nHe'll be hang'd yet,\\nThough every drop of water swear against it\\nAnd gape at widest to glut him.\\n\\nANTONIO:\\nLet's all sink with the king.\\n\\nSEBASTIAN:\\nLet's take leave of him.\\n\\nGONZALO:\\nNow would I give a thousand furlongs of sea for an\\nacre of barren ground, long heath, brown furze, any\\nthing. The wills above be done! but I would fain\\ndie a dry death.\\n\\nMIRANDA:\\nIf by your art, my dearest father, you have\\nPut the wild waters in this roar, allay them.\\nThe sky, it seems, would pour down stinking pitch,\\nBut that the sea, mounting to the welkin's cheek,\\nDashes the fire out. O, I have suffered\\nWith those that I saw suffer: a brave vessel,\\nWho had, no doubt, some noble creature in her,\\nDash'd all to pieces. O, the cry did knock\\nAgainst my very heart. Poor souls, they perish'd.\\nHad I been any god of power, I would\\nHave sunk the sea within the earth or ere\\nIt should the good ship so have swallow'd and\\nThe fraughting souls within her.\\n\\nPROSPERO:\\nBe collected:\\nNo more amazement: tell your piteous heart\\nThere's no harm done.\\n\\nMIRANDA:\\nO, woe the day!\\n\\nPROSPERO:\\nNo harm.\\nI have done nothing but in care of thee,\\nOf thee, my dear one, thee, my daughter, who\\nArt ignorant of what thou art, nought knowing\\nOf whence I am, nor that I am more better\\nThan Prospero, master of a full poor cell,\\nAnd thy no greater father.\\n\\nMIRANDA:\\nMore to know\\nDid never meddle with my thoughts.\\n\\nPROSPERO:\\n'Tis time\\nI should inform thee farther. Lend thy hand,\\nAnd pluck my magic garment from me. So:\\nLie there, my art. Wipe thou thine eyes; have comfort.\\nThe direful spectacle of the wreck, which touch'd\\nThe very virtue of compassion in thee,\\nI have with such provision in mine art\\nSo safely ordered that there is no soul--\\nNo, not so much perdition as an hair\\nBetid to any creature in the vessel\\nWhich thou heard'st cry, which thou saw'st sink. Sit down;\\nFor thou must now know farther.\\n\\nMIRANDA:\\nYou have often\\nBegun to tell me what I am, but stopp'd\\nAnd left me to a bootless inquisition,\\nConcluding 'Stay: not yet.'\\n\\nPROSPERO:\\nThe hour's now come;\\nThe very minute bids thee ope thine ear;\\nObey and be attentive. Canst thou remember\\nA time before we came unto this cell?\\nI do not think thou canst, for then thou wast not\\nOut three years old.\\n\\nMIRANDA:\\nCertainly, sir, I can.\\n\\nPROSPERO:\\nBy what? by any other house or person?\\nOf any thing the image tell me that\\nHath kept with thy remembrance.\\n\\nMIRANDA:\\n'Tis far off\\nAnd rather like a dream than an assurance\\nThat my remembrance warrants. Had I not\\nFour or five women once that tended me?\\n\\nPROSPERO:\\nThou hadst, and more, Miranda. But how is it\\nThat this lives in thy mind? What seest thou else\\nIn the dark backward and abysm of time?\\nIf thou remember'st aught ere thou camest here,\\nHow thou camest here thou mayst.\\n\\nMIRANDA:\\nBut that I do not.\\n\\nPROSPERO:\\nTwelve year since, Miranda, twelve year since,\\nThy father was the Duke of Milan and\\nA prince of power.\\n\\nMIRANDA:\\nSir, are not you my father?\\n\\nPROSPERO:\\nThy mother was a piece of virtue, and\\nShe said thou wast my daughter; and thy father\\nWas Duke of Milan; and thou his only heir\\nAnd princess no worse issued.\\n\\nMIRANDA:\\nO the heavens!\\nWhat foul play had we, that we came from thence?\\nOr blessed was't we did?\\n\\nPROSPERO:\\nBoth, both, my girl:\\nBy foul play, as thou say'st, were we heaved thence,\\nBut blessedly holp hither.\\n\\nMIRANDA:\\nO, my heart bleeds\\nTo think o' the teen that I have turn'd you to,\\nWhich is from my remembrance! Please you, farther.\\n\\nPROSPERO:\\nMy brother and thy uncle, call'd Antonio--\\nI pray thee, mark me--that a brother should\\nBe so perfidious!--he whom next thyself\\nOf all the world I loved and to him put\\nThe manage of my state; as at that time\\nThrough all the signories it was the first\\nAnd Prospero the prime duke, being so reputed\\nIn dignity, and for the liberal arts\\nWithout a parallel; those being all my study,\\nThe government I cast upon my brother\\nAnd to my state grew stranger, being transported\\nAnd rapt in secret studies. Thy false uncle--\\nDost thou attend me?\\n\\nMIRANDA:\\nSir, most heedfully.\\n\\nPROSPERO:\\nBeing once perfected how to grant suits,\\nHow to deny them, who to advance and who\\nTo trash for over-topping, new created\\nThe creatures that were mine, I say, or changed 'em,\\nOr else new form'd 'em; having both the key\\nOf officer and office, set all hearts i' the state\\nTo what tune pleased his ear; that now he was\\nThe ivy which had hid my princely trunk,\\nAnd suck'd my verdure out on't. Thou attend'st not.\\n\\nMIRANDA:\\nO, good sir, I do.\\n\\nPROSPERO:\\nI pray thee, mark me.\\nI, thus neglecting worldly ends, all dedicated\\nTo closeness and the bettering of my mind\\nWith that which, but by being so retired,\\nO'er-prized all popular rate, in my false brother\\nAwaked an evil nature; and my trust,\\nLike a good parent, did beget of him\\nA falsehood in its contrary as great\\nAs my trust was; which had indeed no limit,\\nA confidence sans bound. He being thus lorded,\\nNot only with what my revenue yielded,\\nBut what my power might else exact, like one\\nWho having into truth, by telling of it,\\nMade such a sinner of his memory,\\nTo credit his own lie, he did believe\\nHe was indeed the duke; out o' the substitution\\nAnd executing the outward face of royalty,\\nWith all prerogative: hence his ambition growing--\\nDost thou hear?\\n\\nMIRANDA:\\nYour tale, sir, would cure deafness.\\n\\nPROSPERO:\\nTo have no screen between this part he play'd\\nAnd him he play'd it for, he needs will be\\nAbsolute Milan. Me, poor man, my library\\nWas dukedom large enough: of temporal royalties\\nHe thinks me now incapable; confederates--\\nSo dry he was for sway--wi' the King of Naples\\nTo give him annual tribute, do him homage,\\nSubject his coronet to his crown and bend\\nThe dukedom yet unbow'd--alas, poor Milan!--\\nTo most ignoble stooping.\\n\\nMIRANDA:\\nO the heavens!\\n\\nPROSPERO:\\nMark his condition and the event; then tell me\\nIf this might be a brother.\\n\\nMIRANDA:\\nI should sin\\nTo think but nobly of my grandmother:\\nGood wombs have borne bad sons.\\n\\nPROSPERO:\\nNow the condition.\\nThe King of Naples, being an enemy\\nTo me inveterate, hearkens my brother's suit;\\nWhich was, that he, in lieu o' the premises\\nOf homage and I know not how much tribute,\\nShould presently extirpate me and mine\\nOut of the dukedom and confer fair Milan\\nWith all the honours on my brother: whereon,\\nA treacherous army levied, one midnight\\nFated to the purpose did Antonio open\\nThe gates of Milan, and, i' the dead of darkness,\\nThe ministers for the purpose hurried thence\\nMe and thy crying self.\\n\\nMIRANDA:\\nAlack, for pity!\\nI, not remembering how I cried out then,\\nWill cry it o'er again: it is a hint\\nThat wrings mine eyes to't.\\n\\nPROSPERO:\\nHear a little further\\nAnd then I'll bring thee to the present business\\nWhich now's upon's; without the which this story\\nWere most impertinent.\\n\\nMIRANDA:\\nWherefore did they not\\nThat hour destroy us?\\n\\nPROSPERO:\\nWell demanded, wench:\\nMy tale provokes that question. Dear, they durst not,\\nSo dear the love my people bore me, nor set\\nA mark so bloody on the business, but\\nWith colours fairer painted their foul ends.\\nIn few, they hurried us aboard a bark,\\nBore us some leagues to sea; where they prepared\\nA rotten carcass of a boat, not rigg'd,\\nNor tackle, sail, nor mast; the very rats\\nInstinctively had quit it: there they hoist us,\\nTo cry to the sea that roar'd to us, to sigh\\nTo the winds whose pity, sighing back again,\\nDid us but loving wrong.\\n\\nMIRANDA:\\nAlack, what trouble\\nWas I then to you!\\n\\nPROSPERO:\\nO, a cherubim\\nThou wast that did preserve me. Thou didst smile.\\nInfused with a fortitude from heaven,\\nWhen I have deck'd the sea with drops full salt,\\nUnder my burthen groan'd; which raised in me\\nAn undergoing stomach, to bear up\\nAgainst what should ensue.\\n\\nMIRANDA:\\nHow came we ashore?\\n\\nPROSPERO:\\nBy Providence divine.\\nSome food we had and some fresh water that\\nA noble Neapolitan, Gonzalo,\\nOut of his charity, being then appointed\\nMaster of this design, did give us, with\\nRich garments, linens, stuffs and necessaries,\\nWhich since have steaded much; so, of his gentleness,\\nKnowing I loved my books, he furnish'd me\\nFrom mine own library with volumes that\\nI prize above my dukedom.\\n\\nMIRANDA:\\nWould I might\\nBut ever see that man!\\n\\nPROSPERO:\\nNow I arise:\\nSit still, and hear the last of our sea-sorrow.\\nHere in this island we arrived; and here\\nHave I, thy schoolmaster, made thee more profit\\nThan other princesses can that have more time\\nFor vainer hours and tutors not so careful.\\n\\nMIRANDA:\\nHeavens thank you for't! And now, I pray you, sir,\\nFor still 'tis beating in my mind, your reason\\nFor raising this sea-storm?\\n\\nPROSPERO:\\nKnow thus far forth.\\nBy accident most strange, bountiful Fortune,\\nNow my dear lady, hath mine enemies\\nBrought to this shore; and by my prescience\\nI find my zenith doth depend upon\\nA most auspicious star, whose influence\\nIf now I court not but omit, my fortunes\\nWill ever after droop. Here cease more questions:\\nThou art inclined to sleep; 'tis a good dulness,\\nAnd give it way: I know thou canst not choose.\\nCome away, servant, come. I am ready now.\\nApproach, my Ariel, come.\\n\\nARIEL:\\nAll hail, great master! grave sir, hail! I come\\nTo answer thy best pleasure; be't to fly,\\nTo swim, to dive into the fire, to ride\\nOn the curl'd clouds, to thy strong bidding task\\nAriel and all his quality.\\n\\nPROSPERO:\\nHast thou, spirit,\\nPerform'd to point the tempest that I bade thee?\\n\\nARIEL:\\nTo every article.\\nI boarded the king's ship; now on the beak,\\nNow in the waist, the deck, in every cabin,\\nI flamed amazement: sometime I'ld divide,\\nAnd burn in many places; on the topmast,\\nThe yards and bowsprit, would I flame distinctly,\\nThen meet and join. Jove's lightnings, the precursors\\nO' the dreadful thunder-claps, more momentary\\nAnd sight-outrunning were not; the fire and cracks\\nOf sulphurous roaring the most mighty Neptune\\nSeem to besiege and make his bold waves tremble,\\nYea, his dread trident shake.\\n\\nPROSPERO:\\nMy brave spirit!\\nWho was so firm, so constant, that this coil\\nWould not infect his reason?\\n\\nARIEL:\\nNot a soul\\nBut felt a fever of the mad and play'd\\nSome tricks of desperation. All but mariners\\nPlunged in the foaming brine and quit the vessel,\\nThen all afire with me: the king's son, Ferdinand,\\nWith hair up-staring,--then like reeds, not hair,--\\nWas the first man that leap'd; cried, 'Hell is empty\\nAnd all the devils are here.'\\n\\nPROSPERO:\\nWhy that's my spirit!\\nBut was not this nigh shore?\\n\\nARIEL:\\nClose by, my master.\\n\\nPROSPERO:\\nBut are they, Ariel, safe?\\n\\nARIEL:\\nNot a hair perish'd;\\nOn their sustaining garments not a blemish,\\nBut fresher than before: and, as thou badest me,\\nIn troops I have dispersed them 'bout the isle.\\nThe king's son have I landed by himself;\\nWhom I left cooling of the air with sighs\\nIn an odd angle of the isle and sitting,\\nHis arms in this sad knot.\\n\\nPROSPERO:\\nOf the king's ship\\nThe mariners say how thou hast disposed\\nAnd all the rest o' the fleet.\\n\\nARIEL:\\nSafely in harbour\\nIs the king's ship; in the deep nook, where once\\nThou call'dst me up at midnight to fetch dew\\nFrom the still-vex'd Bermoothes, there she's hid:\\nThe mariners all under hatches stow'd;\\nWho, with a charm join'd to their suffer'd labour,\\nI have left asleep; and for the rest o' the fleet\\nWhich I dispersed, they all have met again\\nAnd are upon the Mediterranean flote,\\nBound sadly home for Naples,\\nSupposing that they saw the king's ship wreck'd\\nAnd his great person perish.\\n\\nPROSPERO:\\nAriel, thy charge\\nExactly is perform'd: but there's more work.\\nWhat is the time o' the day?\\n\\nARIEL:\\nPast the mid season.\\n\\nPROSPERO:\\nAt least two glasses. The time 'twixt six and now\\nMust by us both be spent most preciously.\\n\\nARIEL:\\nIs there more toil? Since thou dost give me pains,\\nLet me remember thee what thou hast promised,\\nWhich is not yet perform'd me.\\n\\nPROSPERO:\\nHow now? moody?\\nWhat is't thou canst demand?\\n\\nARIEL:\\nMy liberty.\\n\\nPROSPERO:\\nBefore the time be out? no more!\\n\\nARIEL:\\nI prithee,\\nRemember I have done thee worthy service;\\nTold thee no lies, made thee no mistakings, served\\nWithout or grudge or grumblings: thou didst promise\\nTo bate me a full year.\\n\\nPROSPERO:\\nDost thou forget\\nFrom what a torment I did free thee?\\n\\nARIEL:\\nNo.\\n\\nPROSPERO:\\nThou dost, and think'st it much to tread the ooze\\nOf the salt deep,\\nTo run upon the sharp wind of the north,\\nTo do me business in the veins o' the earth\\nWhen it is baked with frost.\\n\\nARIEL:\\nI do not, sir.\\n\\nPROSPERO:\\nThou liest, malignant thing! Hast thou forgot\\nThe foul witch Sycorax, who with age and envy\\nWas grown into a hoop? hast thou forgot her?\\n\\nARIEL:\\nNo, sir.\\n\\nPROSPERO:\\nThou hast. Where was she born? speak; tell me.\\n\\nARIEL:\\nSir, in Argier.\\n\\nPROSPERO:\\nO, was she so? I must\\nOnce in a month recount what thou hast been,\\nWhich thou forget'st. This damn'd witch Sycorax,\\nFor mischiefs manifold and sorceries terrible\\nTo enter human hearing, from Argier,\\nThou know'st, was banish'd: for one thing she did\\nThey would not take her life. Is not this true?\\n\\nARIEL:\\nAy, sir.\\n\\nPROSPERO:\\nThis blue-eyed hag was hither brought with child\\nAnd here was left by the sailors. Thou, my slave,\\nAs thou report'st thyself, wast then her servant;\\nAnd, for thou wast a spirit too delicate\\nTo act her earthy and abhorr'd commands,\\nRefusing her grand hests, she did confine thee,\\nBy help of her more potent ministers\\nAnd in her most unmitigable rage,\\nInto a cloven pine; within which rift\\nImprison'd thou didst painfully remain\\nA dozen years; within which space she died\\nAnd left thee there; where thou didst vent thy groans\\nAs fast as mill-wheels strike. Then was this island--\\nSave for the son that she did litter here,\\nA freckled whelp hag-born--not honour'd with\\nA human shape.\\n\\nARIEL:\\nYes, Caliban her son.\\n\\nPROSPERO:\\nDull thing, I say so; he, that Caliban\\nWhom now I keep in service. Thou best know'st\\nWhat torment I did find thee in; thy groans\\nDid make wolves howl and penetrate the breasts\\nOf ever angry bears: it was a torment\\nTo lay upon the damn'd, which Sycorax\\nCould not again undo: it was mine art,\\nWhen I arrived and heard thee, that made gape\\nThe pine and let thee out.\\n\\nARIEL:\\nI thank thee, master.\\n\\nPROSPERO:\\nIf thou more murmur'st, I will rend an oak\\nAnd peg thee in his knotty entrails till\\nThou hast howl'd away twelve winters.\\n\\nARIEL:\\nPardon, master;\\nI will be correspondent to command\\nAnd do my spiriting gently.\\n\\nPROSPERO:\\nDo so, and after two days\\nI will discharge thee.\\n\\nARIEL:\\nThat's my noble master!\\nWhat shall I do? say what; what shall I do?\\n\\nPROSPERO:\\nGo make thyself like a nymph o' the sea: be subject\\nTo no sight but thine and mine, invisible\\nTo every eyeball else. Go take this shape\\nAnd hither come in't: go, hence with diligence!\\nAwake, dear heart, awake! thou hast slept well; Awake!\\n\\nMIRANDA:\\nThe strangeness of your story put\\nHeaviness in me.\\n\\nPROSPERO:\\nShake it off. Come on;\\nWe'll visit Caliban my slave, who never\\nYields us kind answer.\\n\\nMIRANDA:\\n'Tis a villain, sir,\\nI do not love to look on.\\n\\nPROSPERO:\\nBut, as 'tis,\\nWe cannot miss him: he does make our fire,\\nFetch in our wood and serves in offices\\nThat profit us. What, ho! slave! Caliban!\\nThou earth, thou! speak.\\n\\nCALIBAN:\\n\\nPROSPERO:\\nCome forth, I say! there's other business for thee:\\nCome, thou tortoise! when?\\nFine apparition! My quaint Ariel,\\nHark in thine ear.\\n\\nARIEL:\\nMy lord it shall be done.\\n\\nPROSPERO:\\nThou poisonous slave, got by the devil himself\\nUpon thy wicked dam, come forth!\\n\\nCALIBAN:\\nAs wicked dew as e'er my mother brush'd\\nWith raven's feather from unwholesome fen\\nDrop on you both! a south-west blow on ye\\nAnd blister you all o'er!\\n\\nPROSPERO:\\nFor this, be sure, to-night thou shalt have cramps,\\nSide-stitches that shall pen thy breath up; urchins\\nShall, for that vast of night that they may work,\\nAll exercise on thee; thou shalt be pinch'd\\nAs thick as honeycomb, each pinch more stinging\\nThan bees that made 'em.\\n\\nCALIBAN:\\nI must eat my dinner.\\nThis island's mine, by Sycorax my mother,\\nWhich thou takest from me. When thou camest first,\\nThou strokedst me and madest much of me, wouldst give me\\nWater with berries in't, and teach me how\\nTo name the bigger light, and how the less,\\nThat burn by day and night: and then I loved thee\\nAnd show'd thee all the qualities o' the isle,\\nThe fresh springs, brine-pits, barren place and fertile:\\nCursed be I that did so! All the charms\\nOf Sycorax, toads, beetles, bats, light on you!\\nFor I am all the subjects that you have,\\nWhich first was mine own king: and here you sty me\\nIn this hard rock, whiles you do keep from me\\nThe rest o' the island.\\n\\nPROSPERO:\\nThou most lying slave,\\nWhom stripes may move, not kindness! I have used thee,\\nFilth as thou art, with human care, and lodged thee\\nIn mine own cell, till thou didst seek to violate\\nThe honour of my child.\\n\\nCALIBAN:\\nO ho, O ho! would't had been done!\\nThou didst prevent me; I had peopled else\\nThis isle with Calibans.\\n\\nPROSPERO:\\nAbhorred slave,\\nWhich any print of goodness wilt not take,\\nBeing capable of all ill! I pitied thee,\\nTook pains to make thee speak, taught thee each hour\\nOne thing or other: when thou didst not, savage,\\nKnow thine own meaning, but wouldst gabble like\\nA thing most brutish, I endow'd thy purposes\\nWith words that made them known. But thy vile race,\\nThough thou didst learn, had that in't which\\ngood natures\\nCould not abide to be with; therefore wast thou\\nDeservedly confined into this rock,\\nWho hadst deserved more than a prison.\\n\\nCALIBAN:\\nYou taught me language; and my profit on't\\nIs, I know how to curse. The red plague rid you\\nFor learning me your language!\\n\\nPROSPERO:\\nHag-seed, hence!\\nFetch us in fuel; and be quick, thou'rt best,\\nTo answer other business. Shrug'st thou, malice?\\nIf thou neglect'st or dost unwillingly\\nWhat I command, I'll rack thee with old cramps,\\nFill all thy bones with aches, make thee roar\\nThat beasts shall tremble at thy din.\\n\\nCALIBAN:\\nNo, pray thee.\\nI must obey: his art is of such power,\\nIt would control my dam's god, Setebos,\\nand make a vassal of him.\\n\\nPROSPERO:\\nSo, slave; hence!\\nCome unto these yellow sands,\\nAnd then take hands:\\nCourtsied when you have and kiss'd\\nThe wild waves whist,\\nFoot it featly here and there;\\nAnd, sweet sprites, the burthen bear.\\nHark, hark!\\n\\nFERDINAND:\\nWhere should this music be? i' the air or the earth?\\nIt sounds no more: and sure, it waits upon\\nSome god o' the island. Sitting on a bank,\\nWeeping again the king my father's wreck,\\nThis music crept by me upon the waters,\\nAllaying both their fury and my passion\\nWith its sweet air: thence I have follow'd it,\\nOr it hath drawn me rather. But 'tis gone.\\nNo, it begins again.\\nFull fathom five thy father lies;\\nOf his bones are coral made;\\nThose are pearls that were his eyes:\\nNothing of him that doth fade\\nBut doth suffer a sea-change\\nInto something rich and strange.\\nSea-nymphs hourly ring his knell\\nHark! now I hear them,--Ding-dong, bell.\\n\\nFERDINAND:\\nThe ditty does remember my drown'd father.\\nThis is no mortal business, nor no sound\\nThat the earth owes. I hear it now above me.\\n\\nPROSPERO:\\nThe fringed curtains of thine eye advance\\nAnd say what thou seest yond.\\n\\nMIRANDA:\\nWhat is't? a spirit?\\nLord, how it looks about! Believe me, sir,\\nIt carries a brave form. But 'tis a spirit.\\n\\nPROSPERO:\\nNo, wench; it eats and sleeps and hath such senses\\nAs we have, such. This gallant which thou seest\\nWas in the wreck; and, but he's something stain'd\\nWith grief that's beauty's canker, thou mightst call him\\nA goodly person: he hath lost his fellows\\nAnd strays about to find 'em.\\n\\nMIRANDA:\\nI might call him\\nA thing divine, for nothing natural\\nI ever saw so noble.\\n\\nPROSPERO:\\n\\nFERDINAND:\\nMost sure, the goddess\\nOn whom these airs attend! Vouchsafe my prayer\\nMay know if you remain upon this island;\\nAnd that you will some good instruction give\\nHow I may bear me here: my prime request,\\nWhich I do last pronounce, is, O you wonder!\\nIf you be maid or no?\\n\\nMIRANDA:\\nNo wonder, sir;\\nBut certainly a maid.\\n\\nFERDINAND:\\nMy language! heavens!\\nI am the best of them that speak this speech,\\nWere I but where 'tis spoken.\\n\\nPROSPERO:\\nHow? the best?\\nWhat wert thou, if the King of Naples heard thee?\\n\\nFERDINAND:\\nA single thing, as I am now, that wonders\\nTo hear thee speak of Naples. He does hear me;\\nAnd that he does I weep: myself am Naples,\\nWho with mine eyes, never since at ebb, beheld\\nThe king my father wreck'd.\\n\\nMIRANDA:\\nAlack, for mercy!\\n\\nFERDINAND:\\nYes, faith, and all his lords; the Duke of Milan\\nAnd his brave son being twain.\\n\\nPROSPERO:\\n\\nMIRANDA:\\nWhy speaks my father so ungently? This\\nIs the third man that e'er I saw, the first\\nThat e'er I sigh'd for: pity move my father\\nTo be inclined my way!\\n\\nFERDINAND:\\nO, if a virgin,\\nAnd your affection not gone forth, I'll make you\\nThe queen of Naples.\\n\\nPROSPERO:\\nSoft, sir! one word more.\\nThey are both in either's powers; but this swift business\\nI must uneasy make, lest too light winning\\nMake the prize light.\\nOne word more; I charge thee\\nThat thou attend me: thou dost here usurp\\nThe name thou owest not; and hast put thyself\\nUpon this island as a spy, to win it\\nFrom me, the lord on't.\\n\\nFERDINAND:\\nNo, as I am a man.\\n\\nMIRANDA:\\nThere's nothing ill can dwell in such a temple:\\nIf the ill spirit have so fair a house,\\nGood things will strive to dwell with't.\\n\\nPROSPERO:\\nFollow me.\\nSpeak not you for him; he's a traitor. Come;\\nI'll manacle thy neck and feet together:\\nSea-water shalt thou drink; thy food shall be\\nThe fresh-brook muscles, wither'd roots and husks\\nWherein the acorn cradled. Follow.\\n\\nFERDINAND:\\nNo;\\nI will resist such entertainment till\\nMine enemy has more power.\\n\\nMIRANDA:\\nO dear father,\\nMake not too rash a trial of him, for\\nHe's gentle and not fearful.\\n\\nPROSPERO:\\nWhat? I say,\\nMy foot my tutor? Put thy sword up, traitor;\\nWho makest a show but darest not strike, thy conscience\\nIs so possess'd with guilt: come from thy ward,\\nFor I can here disarm thee with this stick\\nAnd make thy weapon drop.\\n\\nMIRANDA:\\nBeseech you, father.\\n\\nPROSPERO:\\nHence! hang not on my garments.\\n\\nMIRANDA:\\nSir, have pity;\\nI'll be his surety.\\n\\nPROSPERO:\\nSilence! one word more\\nShall make me chide thee, if not hate thee. What!\\nAn advocate for an imposter! hush!\\nThou think'st there is no more such shapes as he,\\nHaving seen but him and Caliban: foolish wench!\\nTo the most of men this is a Caliban\\nAnd they to him are angels.\\n\\nMIRANDA:\\nMy affections\\nAre then most humble; I have no ambition\\nTo see a goodlier man.\\n\\nPROSPERO:\\nCome on; obey:\\nThy nerves are in their infancy again\\nAnd have no vigour in them.\\n\\nFERDINAND:\\nSo they are;\\nMy spirits, as in a dream, are all bound up.\\nMy father's loss, the weakness which I feel,\\nThe wreck of all my friends, nor this man's threats,\\nTo whom I am subdued, are but light to me,\\nMight I but through my prison once a day\\nBehold this maid: all corners else o' the earth\\nLet liberty make use of; space enough\\nHave I in such a prison.\\n\\nPROSPERO:\\n\\nMIRANDA:\\nBe of comfort;\\nMy father's of a better nature, sir,\\nThan he appears by speech: this is unwonted\\nWhich now came from him.\\n\\nPROSPERO:\\nThou shalt be free\\nAs mountain winds: but then exactly do\\nAll points of my command.\\n\\nARIEL:\\nTo the syllable.\\n\\nPROSPERO:\\nCome, follow. Speak not for him.\\n\\nGONZALO:\\nBeseech you, sir, be merry; you have cause,\\nSo have we all, of joy; for our escape\\nIs much beyond our loss. Our hint of woe\\nIs common; every day some sailor's wife,\\nThe masters of some merchant and the merchant\\nHave just our theme of woe; but for the miracle,\\nI mean our preservation, few in millions\\nCan speak like us: then wisely, good sir, weigh\\nOur sorrow with our comfort.\\n\\nALONSO:\\nPrithee, peace.\\n\\nSEBASTIAN:\\nHe receives comfort like cold porridge.\\n\\nANTONIO:\\nThe visitor will not give him o'er so.\\n\\nSEBASTIAN:\\nLook he's winding up the watch of his wit;\\nby and by it will strike.\\n\\nGONZALO:\\nSir,--\\n\\nSEBASTIAN:\\nOne: tell.\\n\\nGONZALO:\\nWhen every grief is entertain'd that's offer'd,\\nComes to the entertainer--\\n\\nSEBASTIAN:\\nA dollar.\\n\\nGONZALO:\\nDolour comes to him, indeed: you\\nhave spoken truer than you purposed.\\n\\nSEBASTIAN:\\nYou have taken it wiselier than I meant you should.\\n\\nGONZALO:\\nTherefore, my lord,--\\n\\nANTONIO:\\nFie, what a spendthrift is he of his tongue!\\n\\nALONSO:\\nI prithee, spare.\\n\\nGONZALO:\\nWell, I have done: but yet,--\\n\\nSEBASTIAN:\\nHe will be talking.\\n\\nANTONIO:\\nWhich, of he or Adrian, for a good\\nwager, first begins to crow?\\n\\nSEBASTIAN:\\nThe old cock.\\n\\nANTONIO:\\nThe cockerel.\\n\\nSEBASTIAN:\\nDone. The wager?\\n\\nANTONIO:\\nA laughter.\\n\\nSEBASTIAN:\\nA match!\\n\\nADRIAN:\\nThough this island seem to be desert,--\\n\\nSEBASTIAN:\\nHa, ha, ha! So, you're paid.\\n\\nADRIAN:\\nUninhabitable and almost inaccessible,--\\n\\nSEBASTIAN:\\nYet,--\\n\\nADRIAN:\\nYet,--\\n\\nANTONIO:\\nHe could not miss't.\\n\\nADRIAN:\\nIt must needs be of subtle, tender and delicate\\ntemperance.\\n\\nANTONIO:\\nTemperance was a delicate wench.\\n\\nSEBASTIAN:\\nAy, and a subtle; as he most learnedly delivered.\\n\\nADRIAN:\\nThe air breathes upon us here most sweetly.\\n\\nSEBASTIAN:\\nAs if it had lungs and rotten ones.\\n\\nANTONIO:\\nOr as 'twere perfumed by a fen.\\n\\nGONZALO:\\nHere is everything advantageous to life.\\n\\nANTONIO:\\nTrue; save means to live.\\n\\nSEBASTIAN:\\nOf that there's none, or little.\\n\\nGONZALO:\\nHow lush and lusty the grass looks! how green!\\n\\nANTONIO:\\nThe ground indeed is tawny.\\n\\nSEBASTIAN:\\nWith an eye of green in't.\\n\\nANTONIO:\\nHe misses not much.\\n\\nSEBASTIAN:\\nNo; he doth but mistake the truth totally.\\n\\nGONZALO:\\nBut the rarity of it is,--which is indeed almost\\nbeyond credit,--\\n\\nSEBASTIAN:\\nAs many vouched rarities are.\\n\\nGONZALO:\\nThat our garments, being, as they were, drenched in\\nthe sea, hold notwithstanding their freshness and\\nglosses, being rather new-dyed than stained with\\nsalt water.\\n\\nANTONIO:\\nIf but one of his pockets could speak, would it not\\nsay he lies?\\n\\nSEBASTIAN:\\nAy, or very falsely pocket up his report\\n\\nGONZALO:\\nMethinks our garments are now as fresh as when we\\nput them on first in Afric, at the marriage of\\nthe king's fair daughter Claribel to the King of Tunis.\\n\\nSEBASTIAN:\\n'Twas a sweet marriage, and we prosper well in our return.\\n\\nADRIAN:\\nTunis was never graced before with such a paragon to\\ntheir queen.\\n\\nGONZALO:\\nNot since widow Dido's time.\\n\\nANTONIO:\\nWidow! a pox o' that! How came that widow in?\\nwidow Dido!\\n\\nSEBASTIAN:\\nWhat if he had said 'widower AEneas' too? Good Lord,\\nhow you take it!\\n\\nADRIAN:\\n'Widow Dido' said you? you make me study of that:\\nshe was of Carthage, not of Tunis.\\n\\nGONZALO:\\nThis Tunis, sir, was Carthage.\\n\\nADRIAN:\\nCarthage?\\n\\nGONZALO:\\nI assure you, Carthage.\\n\\nSEBASTIAN:\\nHis word is more than the miraculous harp; he hath\\nraised the wall and houses too.\\n\\nANTONIO:\\nWhat impossible matter will he make easy next?\\n\\nSEBASTIAN:\\nI think he will carry this island home in his pocket\\nand give it his son for an apple.\\n\\nANTONIO:\\nAnd, sowing the kernels of it in the sea, bring\\nforth more islands.\\n\\nGONZALO:\\nAy.\\n\\nANTONIO:\\nWhy, in good time.\\n\\nGONZALO:\\nSir, we were talking that our garments seem now\\nas fresh as when we were at Tunis at the marriage\\nof your daughter, who is now queen.\\n\\nANTONIO:\\nAnd the rarest that e'er came there.\\n\\nSEBASTIAN:\\nBate, I beseech you, widow Dido.\\n\\nANTONIO:\\nO, widow Dido! ay, widow Dido.\\n\\nGONZALO:\\nIs not, sir, my doublet as fresh as the first day I\\nwore it? I mean, in a sort.\\n\\nANTONIO:\\nThat sort was well fished for.\\n\\nGONZALO:\\nWhen I wore it at your daughter's marriage?\\n\\nALONSO:\\nYou cram these words into mine ears against\\nThe stomach of my sense. Would I had never\\nMarried my daughter there! for, coming thence,\\nMy son is lost and, in my rate, she too,\\nWho is so far from Italy removed\\nI ne'er again shall see her. O thou mine heir\\nOf Naples and of Milan, what strange fish\\nHath made his meal on thee?\\n\\nFRANCISCO:\\nSir, he may live:\\nI saw him beat the surges under him,\\nAnd ride upon their backs; he trod the water,\\nWhose enmity he flung aside, and breasted\\nThe surge most swoln that met him; his bold head\\n'Bove the contentious waves he kept, and oar'd\\nHimself with his good arms in lusty stroke\\nTo the shore, that o'er his wave-worn basis bow'd,\\nAs stooping to relieve him: I not doubt\\nHe came alive to land.\\n\\nALONSO:\\nNo, no, he's gone.\\n\\nSEBASTIAN:\\nSir, you may thank yourself for this great loss,\\nThat would not bless our Europe with your daughter,\\nBut rather lose her to an African;\\nWhere she at least is banish'd from your eye,\\nWho hath cause to wet the grief on't.\\n\\nALONSO:\\nPrithee, peace.\\n\\nSEBASTIAN:\\nYou were kneel'd to and importuned otherwise\\nBy all of us, and the fair soul herself\\nWeigh'd between loathness and obedience, at\\nWhich end o' the beam should bow. We have lost your\\nson,\\nI fear, for ever: Milan and Naples have\\nMore widows in them of this business' making\\nThan we bring men to comfort them:\\nThe fault's your own.\\n\\nALONSO:\\nSo is the dear'st o' the loss.\\n\\nGONZALO:\\nMy lord Sebastian,\\nThe truth you speak doth lack some gentleness\\nAnd time to speak it in: you rub the sore,\\nWhen you should bring the plaster.\\n\\nSEBASTIAN:\\nVery well.\\n\\nANTONIO:\\nAnd most chirurgeonly.\\n\\nGONZALO:\\nIt is foul weather in us all, good sir,\\nWhen you are cloudy.\\n\\nSEBASTIAN:\\nFoul weather?\\n\\nANTONIO:\\nVery foul.\\n\\nGONZALO:\\nHad I plantation of this isle, my lord,--\\n\\nANTONIO:\\nHe'ld sow't with nettle-seed.\\n\\nSEBASTIAN:\\nOr docks, or mallows.\\n\\nGONZALO:\\nAnd were the king on't, what would I do?\\n\\nSEBASTIAN:\\n'Scape being drunk for want of wine.\\n\\nGONZALO:\\nI' the commonwealth I would by contraries\\nExecute all things; for no kind of traffic\\nWould I admit; no name of magistrate;\\nLetters should not be known; riches, poverty,\\nAnd use of service, none; contract, succession,\\nBourn, bound of land, tilth, vineyard, none;\\nNo use of metal, corn, or wine, or oil;\\nNo occupation; all men idle, all;\\nAnd women too, but innocent and pure;\\nNo sovereignty;--\\n\\nSEBASTIAN:\\nYet he would be king on't.\\n\\nANTONIO:\\nThe latter end of his commonwealth forgets the\\nbeginning.\\n\\nGONZALO:\\nAll things in common nature should produce\\nWithout sweat or endeavour: treason, felony,\\nSword, pike, knife, gun, or need of any engine,\\nWould I not have; but nature should bring forth,\\nOf its own kind, all foison, all abundance,\\nTo feed my innocent people.\\n\\nSEBASTIAN:\\nNo marrying 'mong his subjects?\\n\\nANTONIO:\\nNone, man; all idle: whores and knaves.\\n\\nGONZALO:\\nI would with such perfection govern, sir,\\nTo excel the golden age.\\n\\nSEBASTIAN:\\nGod save his majesty!\\n\\nANTONIO:\\nLong live Gonzalo!\\n\\nGONZALO:\\nAnd,--do you mark me, sir?\\n\\nALONSO:\\nPrithee, no more: thou dost talk nothing to me.\\n\\nGONZALO:\\nI do well believe your highness; and\\ndid it to minister occasion to these gentlemen,\\nwho are of such sensible and nimble lungs that\\nthey always use to laugh at nothing.\\n\\nANTONIO:\\n'Twas you we laughed at.\\n\\nGONZALO:\\nWho in this kind of merry fooling am nothing\\nto you: so you may continue and laugh at\\nnothing still.\\n\\nANTONIO:\\nWhat a blow was there given!\\n\\nSEBASTIAN:\\nAn it had not fallen flat-long.\\n\\nGONZALO:\\nYou are gentlemen of brave metal; you would lift\\nthe moon out of her sphere, if she would continue\\nin it five weeks without changing.\\n\\nSEBASTIAN:\\nWe would so, and then go a bat-fowling.\\n\\nANTONIO:\\nNay, good my lord, be not angry.\\n\\nGONZALO:\\nNo, I warrant you; I will not adventure\\nmy discretion so weakly. Will you laugh\\nme asleep, for I am very heavy?\\n\\nANTONIO:\\nGo sleep, and hear us.\\n\\nALONSO:\\nWhat, all so soon asleep! I wish mine eyes\\nWould, with themselves, shut up my thoughts: I find\\nThey are inclined to do so.\\n\\nSEBASTIAN:\\nPlease you, sir,\\nDo not omit the heavy offer of it:\\nIt seldom visits sorrow; when it doth,\\nIt is a comforter.\\n\\nANTONIO:\\nWe two, my lord,\\nWill guard your person while you take your rest,\\nAnd watch your safety.\\n\\nALONSO:\\nThank you. Wondrous heavy.\\n\\nSEBASTIAN:\\nWhat a strange drowsiness possesses them!\\n\\nANTONIO:\\nIt is the quality o' the climate.\\n\\nSEBASTIAN:\\nWhy\\nDoth it not then our eyelids sink? I find not\\nMyself disposed to sleep.\\n\\nANTONIO:\\nNor I; my spirits are nimble.\\nThey fell together all, as by consent;\\nThey dropp'd, as by a thunder-stroke. What might,\\nWorthy Sebastian? O, what might?--No more:--\\nAnd yet me thinks I see it in thy face,\\nWhat thou shouldst be: the occasion speaks thee, and\\nMy strong imagination sees a crown\\nDropping upon thy head.\\n\\nSEBASTIAN:\\nWhat, art thou waking?\\n\\nANTONIO:\\nDo you not hear me speak?\\n\\nSEBASTIAN:\\nI do; and surely\\nIt is a sleepy language and thou speak'st\\nOut of thy sleep. What is it thou didst say?\\nThis is a strange repose, to be asleep\\nWith eyes wide open; standing, speaking, moving,\\nAnd yet so fast asleep.\\n\\nANTONIO:\\nNoble Sebastian,\\nThou let'st thy fortune sleep--die, rather; wink'st\\nWhiles thou art waking.\\n\"\n",
            "brance taen as shall with either parts agreement stand  baptista not in my house lucentio for you know pitchers have ears and i have many servants besides old gremio is hearkening still and happily we might be interrupted  tranio then at my lodging an it like you there doth my father lie and there this night well pass the business privately and well send for your daughter by your servant here my boy shall fetch the scrivener presently the worst is this that at so slender warning you are like to have a thin and slender pittance  baptista it likes me well biondello hie you home and bid bianca make her ready straight and if you will tell what hath happened lucentios father is arrived in padua and how shes like to be lucentios wife  biondello i pray the gods she may with all my heart  tranio dally not with the gods but get thee gone signior baptista shall i lead the way welcome one mess is like to be your cheer come sir we will better it in pisa  baptista i follow you  biondello cambio  lucentio what sayest thou biondello  biondello you saw my master wink and laugh upon you  lucentio biondello what of that  biondello faith nothing but has left me here behind to expound the meaning or moral of his signs and tokens  lucentio i pray thee moralize them  biondello then thus baptista is safe talking with the deceiving father of a deceitful son  lucentio and what of him  biondello his daughter is to be brought by you to the supper  lucentio and then  biondello the old priest of saint lukes church is at your command at all hours  lucentio and what of all this  biondello i cannot tell expect they are busied about a counterfeit assurance take you assurance of her cum privilegio ad imprimendum solum to the church take the priest clerk and some sufficient honest witnesses if this be not that you look for i have no more to say but bid bianca farewell for ever and a day  lucentio hearest thou biondello  biondello i cannot tarry i knew a wench married in an afternoon as she went to the garden for parsley to stuff a rabbit and so may you sir and so adieu sir my master hath appointed me to go to saint lukes to bid the priest be ready to come against you come with your appendix  lucentio i may and will if she be so contented she will be pleased then wherefore should i doubt hap what hap may ill roundly go about her it shall go hard if cambio go without her  petruchio come on i gods name once more toward our fathers good lord how bright and goodly shines the moon  katharina the moon the sun it is not moonlight now  petruchio i say it is the moon that shines so bright  katharina i know it is the sun that shines so bright  petruchio now by my mothers son and thats myself it shall be moon or star or what i list or ere i journey to your fathers house go on and fetch our horses back again evermore crossd and crossd nothing but crossd  hortensio say as he says or we shall never go  katharina forward i pray since we have come so far and be it moon or sun or what you please an if you please to call it a rushcandle henceforth i vow it shall be so for me  petruchio i say it is the moon  katharina i know it is the moon  petruchio nay then you lie it is the blessed sun  katharina then god be blessd it is the blessed sun but sun it is not when you say it is not and the moon changes even as your mind what you will have it named even that it is and so it shall be so for katharina  hortensio petruchio go thy ways the field is won  petruchio well forward forward thus the bowl should run and not unluckily against the bias but soft company is coming here good morrow gentle mistress where away tell me sweet kate and tell me truly too hast thou beheld a fresher gentlewoman such war of white and red within her cheeks what stars do spangle heaven with such beauty as those two eyes become that heavenly face fair lovely maid once more good day to thee sweet kate embrace her for her beautys sake  hortensio a will make the man mad to make a woman of him  katharina young budding virgin fair and fresh and sweet whither away or where is thy abode happy the parents of so fair a child happier the man whom favourable stars allot thee for his lovely bedfellow  petruchio why how now kate i hope thou art not mad this is a man old wrinkled faded witherd and not a maiden as thou sayst he is  katharina pardon old father my mistaking eyes that have been so bedazzled with the sun that everything i look on seemeth green now i perceive thou art a reverend father pardon i pray thee for my mad mistaking  petruchio do good old grandsire and withal make known which way thou travellest if along with us we shall be joyful of thy company  vincentio fair sir and you my merry mistress that with your strange encounter much amazed me my name is calld vincentio my dwelling pisa and bound i am to padua there to visit a son of mine which long i have not seen  petruchio what is his name  vincentio lucentio gentle sir  petruchio happily we met the happier for thy son and now by law as well as reverend age i may entitle thee my loving father the sister to my wife this gentlewoman thy son by this hath married wonder not nor be grieved she is of good esteem her dowery wealthy and of worthy birth beside so qualified as may beseem the spouse of any noble gentleman let me embrace with old vincentio and wander we to see thy honest son who will of thy arrival be full joyous  vincentio but is it true or else is it your pleasure like pleasant travellers to break a jest upon the company you overtake  hortensio i do assure thee father so it is  petruchio come go along and see the truth hereof for our first merriment hath made thee jealous  hortensio well petruchio this has put me in heart have to my widow and if she be froward then hast thou taught hortensio to be untoward  biondello softly and swiftly sir for the priest is ready  lucentio i fly biondello but they may chance to need thee at home therefore leave us  biondello nay faith ill see the church o your back and then come back to my masters as soon as i can  gremio i marvel cambio comes not all this while  petruchio sir heres the door this is lucentios house my fathers bears more toward the marketplace thither must i and here i leave you sir  vincentio you shall not choose but drink before you go i think i shall command your welcome here and by all likelihood some cheer is toward  gremio theyre busy within you were best knock louder  pedant whats he that knocks as he would beat down the gate  vincentio is signior lucentio within sir  pedant hes within sir but not to be spoken withal  vincentio what if a man bring him a hundred pound or two to make merry withal  pedant keep your hundred pounds to yourself he shall need none so long as i live  petruchio nay i told you your son was well beloved in padua do you hear sir to leave frivolous circumstances i pray you tell signior lucentio that his father is come from pisa and is here at the door to speak with him  pedant thou liest his father is come from padua and here looking out at the window  vincentio art thou his father  pedant ay sir so his mother says if i may believe her  petruchio  pedant lay hands on the villain i believe a means to cozen somebody in this city under my countenance  biondello i have seen them in the church together god send em good shipping but who is here mine old master vincentio now we are undone and brought to nothing  vincentio  biondello hope i may choose sir  vincentio come hither you rogue what have you forgot me  biondello forgot you no sir i could not forget you for i never saw you before in all my life  vincentio what you notorious villain didst thou never see thy masters father vincentio  biondello what my old worshipful old master yes marry sir see where he looks out of the window  vincentio ist so indeed  biondello help help help heres a madman will murder me  pedant help son help signior baptista  petruchio prithee kate lets stand aside and see the end of this controversy  tranio sir what are you that offer to beat my servant  vincentio what am i sir nay what are you sir o immortal gods o fine villain a silken doublet a velvet hose a scarlet cloak and a copatain hat o i am undone i am undone while i play the good husband at home my son and my servant spend all at the university  tranio how now whats the matter  baptista what is the man lunatic  tranio sir you seem a sober ancient gentleman by your habit but your words show you a madman why sir what cerns it you if i wear pearl and gold i thank my good father i am able to maintain it  vincentio thy father o villain he is a sailmaker in bergamo  baptista you mistake sir you mistake sir pray what do you think is his name  vincentio his name as if i knew not his name i have brought him up ever since he was three years old and his name is tranio  pedant away away mad ass his name is lucentio and he is mine only son and heir to the lands of me signior vincentio  vincentio lucentio o he hath murdered his master lay hold on him i charge you in the dukes name o my son my son tell me thou villain where is my son lucentio  tranio call forth an officer carry this mad knave to the gaol father baptista i charge you see that he be forthcoming  vincentio carry me to the gaol  gremio stay officer he shall not go to prison  baptista talk not signior gremio i say he shall go to prison  gremio take heed signior baptista lest you be conycatched in this business i dare swear this is the right vincentio  pedant swear if thou darest  gremio nay i dare not swear it  tranio then thou wert best say that i am not lucentio  gremio yes i know thee to be signior lucentio  baptista away with the dotard to the gaol with him  vincentio thus strangers may be hailed and abused o monstrous villain  biondello o we are spoiled andyonder he is deny him forswear him or else we are all undone  lucentio  vincentio lives my sweet son  bianca pardon dear father  baptista how hast thou offended where is lucentio  lucentio heres lucentio right son to the right vincentio that have by marriage made thy daughter mine while counterfeit supposes bleared thine eyne  gremio heres packing with a witness to deceive us all  vincentio where is that damned villain tranio that faced and braved me in this matter so  baptista why tell me is not this my cambio  bianca cambio is changed into lucentio  lucentio love wrought these miracles biancas love made me exchange my state with tranio while he did bear my countenance in the town and happily i have arrived at the last unto the wished haven of my bliss what tranio did myself enforced him to then pardon him sweet father for my sake  vincentio ill slit the villains nose that would have sent me to the gaol  baptista but do you hear sir have you married my daughter without asking my good will  vincentio fear not baptista we will content you go to but i will in to be revenged for this villany  baptista and i to sound the depth of this knavery  lucentio look not pale bianca thy father will not frown  gremio my cake is dough but ill in among the rest out of hope of all but my share of the feast  katharina husband lets follow to see the end of this ado  petruchio first kiss me kate and we will  katharina what in the midst of the street  petruchio what art thou ashamed of me  katharina no sir god forbid but ashamed to kiss  petruchio why then lets home again come sirrah lets away  katharina nay i will give thee a kiss now pray thee love stay  petruchio is not this well come my sweet kate better once than never for never too late  lucentio at last though long our jarring notes agree and time it is when raging war is done to smile at scapes and perils overblown my fair bianca bid my father welcome while i with selfsame kindness welcome thine brother petruchio sister katharina and thou hortensio with thy loving widow feast with the best and welcome to my house my banquet is to close our stomachs up after our great good cheer pray you sit down for now we sit to chat as well as eat  petruchio nothing but sit and sit and eat and eat  baptista padua affords this kindness son petruchio  petruchio padua affords nothing but what is kind  hortensio for both our sakes i would that word were true  petruchio now for my life hortensio fears his widow  widow then never trust me if i be afeard  petruchio you are very sensible and yet you miss my sense i mean hortensio is afeard of you  widow he that is giddy thinks the world turns round  petruchio roundly replied  katharina mistress how mean you that  widow thus i conceive by him  petruchio conceives by me how likes hortensio that  hortensio my widow says thus she conceives her tale  petruchio very well mended kiss him for that good widow  katharina he that is giddy thinks the world turns round i pray you tell me what you meant by that  widow your husband being troubled with a shrew measures my husbands sorrow by his woe and now you know my meaning  katharina a very mean meaning  widow right i mean you  katharina and i am mean indeed respecting you  petruchio to her kate  hortensio to her widow  petruchio a hundred marks my kate does put her down  hortensio thats my office  petruchio spoke like an officer ha to thee lad  baptista how likes gremio these quickwitted folks  gremio believe me sir they butt together well  bianca head and butt an hastywitted body would say your head and butt were head and horn  vincentio ay mistress bride hath that awakend you  bianca ay but not frighted me therefore ill sleep again  petruchio nay that you shall not since you have begun have at you for a bitter jest or two  bianca am i your bird i mean to shift my bush and then pursue me as you draw your bow you are welcome all  petruchio she hath prevented me here signior tranio this bird you aimd at though you hit her not therefore a health to all that shot and missd  tranio o sir lucentio slippd me like his greyhound which runs himself and catches for his master  petruchio a good swift simile but something currish  tranio tis well sir that you hunted for yourself tis thought your deer does hold you at a bay  baptista o ho petruchio tranio hits you now  lucentio i thank thee for that gird good tranio  hortensio confess confess hath he not hit you here  petruchio a has a little galld me i confess and as the jest did glance away from me tis ten to one it maimd you two outright  baptista now in good sadness son petruchio i think thou hast the veriest shrew of all  petruchio well i say no and therefore for assurance lets each one send unto his wife and he whose wife is most obedient to come at first when he doth send for her shall win the wager which we will propose  hortensio content what is the wager  lucentio twenty crowns  petruchio twenty crowns ill venture so much of my hawk or hound but twenty times so much upon my wife  lucentio a hundred then  hortensio content  petruchio a match tis done  hortensio who shall begin  lucentio that will i go biondello bid your mistress come to me  biondello i go  baptista son ill be your half bianca comes  lucentio ill have no halves ill bear it all myself how now what news  biondello sir my mistress sends you word that she is busy and she cannot come  petruchio how she is busy and she cannot come is that an answer  gremio ay and a kind one too pray god sir your wife send you not a worse  petruchio i hope better  hortensio sirrah biondello go and entreat my wife to come to me forthwith  petruchio o ho entreat her nay then she must needs come  hortensio i am afraid sir do what you can yours will not be entreated now wheres my wife  biondello she says you have some goodly jest in hand she will not come she bids you come to her  petruchio worse and worse she will not come o vile intolerable not to be endured sirrah grumio go to your mistress say i command her to come to me  hortensio i know her answer  petruchio what  hortensio she will not  petruchio the fouler fortune mine and there an end  baptista now by my holidame here comes katharina  katharina what is your will sir that you send for me  petruchio where is your sister and hortensios wife  katharina they sit conferring by the parlor fire  petruchio go fetch them hither if they deny to come swinge me them soundly forth unto their husbands away i say and bring them hither straight  lucentio here is a wonder if you talk of a wonder  hortensio and so it is i wonder what it bodes  petruchio marry peace it bodes and love and quiet life and awful rule and right supremacy and to be short what not thats sweet and happy  baptista now fair befal thee good petruchio the wager thou hast won and i will add unto their losses twenty thousand crowns another dowry to another daughter for she is changed as she had never been  petruchio nay i will win my wager better yet and show more sign of her obedience her newbuilt virtue and obedience see where she comes and brings your froward wives as prisoners to her womanly persuasion katharina that cap of yours becomes you not off with that bauble throw it underfoot  widow lord let me never have a cause to sigh till i be brought to such a silly pass  bianca fie what a foolish duty call you this  lucentio i would your duty were as foolish too the wisdom of your duty fair bianca hath cost me an hundred crowns since suppertime  bianca the more fool you for laying on my duty  petruchio katharina i charge thee tell these headstrong women what duty they do owe their lords and husbands  widow come come youre mocking we will have no telling  petruchio come on i say and first begin with her  widow she shall not  petruchio i say she shall and first begin with her  katharina fie fie unknit that threatening unkind brow and dart not scornful glances from those eyes to wound thy lord thy king thy governor it blots thy beauty as frosts do bite the meads confounds thy fame as whirlwinds shake fair buds and in no sense is meet or amiable a woman moved is like a fountain troubled muddy illseeming thick bereft of beauty and while it is so none so dry or thirsty will deign to sip or touch one drop of it thy husband is thy lord thy life thy keeper thy head thy sovereign one that cares for thee and for thy maintenance commits his body to painful labour both by sea and land to watch the night in storms the day in cold whilst thou liest warm at home secure and safe and craves no other tribute at thy hands but love fair looks and true obedience too little payment for so great a debt such duty as the subject owes the prince even such a woman oweth to her husband and when she is froward peevish sullen sour and not obedient to his honest will what is she but a foul contending rebel and graceless traitor to her loving lord i am ashamed that women are so simple to offer war where they should kneel for peace or seek for rule supremacy and sway when they are bound to serve love and obey why are our bodies soft and weak and smooth unapt to toil and trouble in the world but that our soft conditions and our hearts should well agree with our external parts come come you froward and unable worms my mind hath been as big as one of yours my heart as great my reason haply more to bandy word for word and frown for frown but now i see our lances are but straws our strength as weak our weakness past compare that seeming to be most which we indeed least are then vail your stomachs for it is no boot and place your hands below your husbands foot in token of which duty if he please my hand is ready may it do him ease  petruchio why theres a wench come on and kiss me kate  lucentio well go thy ways old lad for thou shalt hat  vincentio tis a good hearing when children are toward  lucentio but a harsh hearing when women are froward  petruchio come kate well to bed we three are married but you two are sped twas i won the wager though you hit the white and being a winner god give you good night  hortensio now go thy ways thou hast tamed a curst shrew  lucentio tis a wonder by your leave she will be tamed so  master boatswain  boatswain here master what cheer  master good speak to the mariners fall tot yarely or we run ourselves aground bestir bestir  boatswain heigh my hearts cheerly cheerly my hearts yare yare take in the topsail tend to the masters whistle blow till thou burst thy wind if room enough  alonso good boatswain have care wheres the master play the men  boatswain i pray now keep below  antonio where is the master boatswain  boatswain do you not hear him you mar our labour keep your cabins you do assist the storm  gonzalo nay good be patient  boatswain when the sea is hence what cares these roarers for the name of king to cabin silence trouble us not  gonzalo good yet remember whom thou hast aboard  boatswain none that i more love than myself you are a counsellor if you can command these elements to silence and work the peace of the present we will not hand a rope more use your authority if you cannot give thanks you have lived so long and make yourself ready in your cabin for the mischance of the hour if it so hap cheerly good hearts out of our way i say  gonzalo i have great comfort from this fellow methinks he hath no drowning mark upon him his complexion is perfect gallows stand fast good fate to his hanging make the rope of his destiny our cable for our own doth little advantage if he be not born to be hanged our case is miserable  boatswain down with the topmast yare lower lower bring her to try with maincourse a plague upon this howling they are louder than the weather or our office yet again what do you here shall we give oer and drown have you a mind to sink  sebastian a pox o your throat you bawling blasphemous incharitable dog  boatswain work you then  antonio hang cur hang you whoreson insolent noisemaker we are less afraid to be drowned than thou art  gonzalo ill warrant him for drowning though the ship were no stronger than a nutshell and as leaky as an unstanched wench  boatswain lay her ahold ahold set her two courses off to sea again lay her off  mariners all lost to prayers to prayers all lost  boatswain what must our mouths be cold  gonzalo the king and prince at prayers lets assist them for our case is as theirs  sebastian im out of patience  antonio we are merely cheated of our lives by drunkards this widechappd rascalwould thou mightst lie drowning the washing of ten tides  gonzalo hell be hangd yet though every drop of water swear against it and gape at widest to glut him  antonio lets all sink with the king  sebastian lets take leave of him  gonzalo now would i give a thousand furlongs of sea for an acre of barren ground long heath brown furze any thing the wills above be done but i would fain die a dry death  miranda if by your art my dearest father you have put the wild waters in this roar allay them the sky it seems would pour down stinking pitch but that the sea mounting to the welkins cheek dashes the fire out o i have suffered with those that i saw suffer a brave vessel who had no doubt some noble creature in her dashd all to pieces o the cry did knock against my very heart poor souls they perishd had i been any god of power i would have sunk the sea within the earth or ere it should the good ship so have swallowd and the fraughting souls within her  prospero be collected no more amazement tell your piteous heart theres no harm done  miranda o woe the day  prospero no harm i have done nothing but in care of thee of thee my dear one thee my daughter who art ignorant of what thou art nought knowing of whence i am nor that i am more better than prospero master of a full poor cell and thy no greater father  miranda more to know did never meddle with my thoughts  prospero tis time i should inform thee farther lend thy hand and pluck my magic garment from me so lie there my art wipe thou thine eyes have comfort the direful spectacle of the wreck which touchd the very virtue of compassion in thee i have with such provision in mine art so safely ordered that there is no soul no not so much perdition as an hair betid to any creature in the vessel which thou heardst cry which thou sawst sink sit down for thou must now know farther  miranda you have often begun to tell me what i am but stoppd and left me to a bootless inquisition concluding stay not yet  prospero the hours now come the very minute bids thee ope thine ear obey and be attentive canst thou remember a time before we came unto this cell i do not think thou canst for then thou wast not out three years old  miranda certainly sir i can  prospero by what by any other house or person of any thing the image tell me that hath kept with thy remembrance  miranda tis far off and rather like a dream than an assurance that my remembrance warrants had i not four or five women once that tended me  prospero thou hadst and more miranda but how is it that this lives in thy mind what seest thou else in the dark backward and abysm of time if thou rememberst aught ere thou camest here how thou camest here thou mayst  miranda but that i do not  prospero twelve year since miranda twelve year since thy father was the duke of milan and a prince of power  miranda sir are not you my father  prospero thy mother was a piece of virtue and she said thou wast my daughter and thy father was duke of milan and thou his only heir and princess no worse issued  miranda o the heavens what foul play had we that we came from thence or blessed wast we did  prospero both both my girl by foul play as thou sayst were we heaved thence but blessedly holp hither  miranda o my heart bleeds to think o the teen that i have turnd you to which is from my remembrance please you farther  prospero my brother and thy uncle calld antonio i pray thee mark methat a brother should be so perfidioushe whom next thyself of all the world i loved and to him put the manage of my state as at that time through all the signories it was the first and prospero the prime duke being so reputed in dignity and for the liberal arts without a parallel those being all my study the government i cast upon my brother and to my state grew stranger being transported and rapt in secret studies thy false uncle dost thou attend me  miranda sir most heedfully  prospero being once perfected how to grant suits how to deny them who to advance and who to trash for overtopping new created the creatures that were mine i say or changed em or else new formd em having both the key of officer and office set all hearts i the state to what tune pleased his ear that now he was the ivy which had hid my princely trunk and suckd my verdure out ont thou attendst not  miranda o good sir i do  prospero i pray thee mark me i thus neglecting worldly ends all dedicated to closeness and the bettering of my mind with that which but by being so retired oerprized all popular rate in my false brother awaked an evil nature and my trust like a good parent did beget of him a falsehood in its contrary as great as my trust was which had indeed no limit a confidence sans bound he being thus lorded not only with what my revenue yielded but what my power might else exact like one who having into truth by telling of it made such a sinner of his memory to credit his own lie he did believe he was indeed the duke out o the substitution and executing the outward face of royalty with all prerogative hence his ambition growing dost thou hear  miranda your tale sir would cure deafness  prospero to have no screen between this part he playd and him he playd it for he needs will be absolute milan me poor man my library was dukedom large enough of temporal royalties he thinks me now incapable confederates so dry he was for swaywi the king of naples to give him annual tribute do him homage subject his coronet to his crown and bend the dukedom yet unbowdalas poor milan to most ignoble stooping  miranda o the heavens  prospero mark his condition and the event then tell me if this might be a brother  miranda i should sin to think but nobly of my grandmother good wombs have borne bad sons  prospero now the condition the king of naples being an enemy to me inveterate hearkens my brothers suit which was that he in lieu o the premises of homage and i know not how much tribute should presently extirpate me and mine out of the dukedom and confer fair milan with all the honours on my brother whereon a treacherous army levied one midnight fated to the purpose did antonio open the gates of milan and i the dead of darkness the ministers for the purpose hurried thence me and thy crying self  miranda alack for pity i not remembering how i cried out then will cry it oer again it is a hint that wrings mine eyes tot  prospero hear a little further and then ill bring thee to the present business which nows upons without the which this story were most impertinent  miranda wherefore did they not that hour destroy us  prospero well demanded wench my tale provokes that question dear they durst not so dear the love my people bore me nor set a mark so bloody on the business but with colours fairer painted their foul ends in few they hurried us aboard a bark bore us some leagues to sea where they prepared a rotten carcass of a boat not riggd nor tackle sail nor mast the very rats instinctively had quit it there they hoist us to cry to the sea that roard to us to sigh to the winds whose pity sighing back again did us but loving wrong  miranda alack what trouble was i then to you  prospero o a cherubim thou wast that did preserve me thou didst smile infused with a fortitude from heaven when i have deckd the sea with drops full salt under my burthen groand which raised in me an undergoing stomach to bear up against what should ensue  miranda how came we ashore  prospero by providence divine some food we had and some fresh water that a noble neapolitan gonzalo out of his charity being then appointed master of this design did give us with rich garments linens stuffs and necessaries which since have steaded much so of his gentleness knowing i loved my books he furnishd me from mine own library with volumes that i prize above my dukedom  miranda would i might but ever see that man  prospero now i arise sit still and hear the last of our seasorrow here in this island we arrived and here have i thy schoolmaster made thee more profit than other princesses can that have more time for vainer hours and tutors not so careful  miranda heavens thank you fort and now i pray you sir for still tis beating in my mind your reason for raising this seastorm  prospero know thus far forth by accident most strange bountiful fortune now my dear lady hath mine enemies brought to this shore and by my prescience i find my zenith doth depend upon a most auspicious star whose influence if now i court not but omit my fortunes will ever after droop here cease more questions thou art inclined to sleep tis a good dulness and give it way i know thou canst not choose come away servant come i am ready now approach my ariel come  ariel all hail great master grave sir hail i come to answer thy best pleasure bet to fly to swim to dive into the fire to ride on the curld clouds to thy strong bidding task ariel and all his quality  prospero hast thou spirit performd to point the tempest that i bade thee  ariel to every article i boarded the kings ship now on the beak now in the waist the deck in every cabin i flamed amazement sometime ild divide and burn in many places on the topmast the yards and bowsprit would i flame distinctly then meet and join joves lightnings the precursors o the dreadful thunderclaps more momentary and sightoutrunning were not the fire and cracks of sulphurous roaring the most mighty neptune seem to besiege and make his bold waves tremble yea his dread trident shake  prospero my brave spirit who was so firm so constant that this coil would not infect his reason  ariel not a soul but felt a fever of the mad and playd some tricks of desperation all but mariners plunged in the foaming brine and quit the vessel then all afire with me the kings son ferdinand with hair upstaringthen like reeds not hair was the first man that leapd cried hell is empty and all the devils are here  prospero why thats my spirit but was not this nigh shore  ariel close by my master  prospero but are they ariel safe  ariel not a hair perishd on their sustaining garments not a blemish but fresher than before and as thou badest me in troops i have dispersed them bout the isle the kings son have i landed by himself whom i left cooling of the air with sighs in an odd angle of the isle and sitting his arms in this sad knot  prospero of the kings ship the mariners say how thou hast disposed and all the rest o the fleet  ariel safely in harbour is the kings ship in the deep nook where once thou calldst me up at midnight to fetch dew from the stillvexd bermoothes there shes hid the mariners all under hatches stowd who with a charm joind to their sufferd labour i have left asleep and for the rest o the fleet which i dispersed they all have met again and are upon the mediterranean flote bound sadly home for naples supposing that they saw the kings ship wreckd and his great person perish  prospero ariel thy charge exactly is performd but theres more work what is the time o the day  ariel past the mid season  prospero at least two glasses the time twixt six and now must by us both be spent most preciously  ariel is there more toil since thou dost give me pains let me remember thee what thou hast promised which is not yet performd me  prospero how now moody what ist thou canst demand  ariel my liberty  prospero before the time be out no more  ariel i prithee remember i have done thee worthy service told thee no lies made thee no mistakings served without or grudge or grumblings thou didst promise to bate me a full year  prospero dost thou forget from what a torment i did free thee  ariel no  prospero thou dost and thinkst it much to tread the ooze of the salt deep to run upon the sharp wind of the north to do me business in the veins o the earth when it is baked with frost  ariel i do not sir  prospero thou liest malignant thing hast thou forgot the foul witch sycorax who with age and envy was grown into a hoop hast thou forgot her  ariel no sir  prospero thou hast where was she born speak tell me  ariel sir in argier  prospero o was she so i must once in a month recount what thou hast been which thou forgetst this damnd witch sycorax for mischiefs manifold and sorceries terrible to enter human hearing from argier thou knowst was banishd for one thing she did they would not take her life is not this true  ariel ay sir  prospero this blueeyed hag was hither brought with child and here was left by the sailors thou my slave as thou reportst thyself wast then her servant and for thou wast a spirit too delicate to act her earthy and abhorrd commands refusing her grand hests she did confine thee by help of her more potent ministers and in her most unmitigable rage into a cloven pine within which rift imprisond thou didst painfully remain a dozen years within which space she died and left thee there where thou didst vent thy groans as fast as millwheels strike then was this island save for the son that she did litter here a freckled whelp hagbornnot honourd with a human shape  ariel yes caliban her son  prospero dull thing i say so he that caliban whom now i keep in service thou best knowst what torment i did find thee in thy groans did make wolves howl and penetrate the breasts of ever angry bears it was a torment to lay upon the damnd which sycorax could not again undo it was mine art when i arrived and heard thee that made gape the pine and let thee out  ariel i thank thee master  prospero if thou more murmurst i will rend an oak and peg thee in his knotty entrails till thou hast howld away twelve winters  ariel pardon master i will be correspondent to command and do my spiriting gently  prospero do so and after two days i will discharge thee  ariel thats my noble master what shall i do say what what shall i do  prospero go make thyself like a nymph o the sea be subject to no sight but thine and mine invisible to every eyeball else go take this shape and hither come int go hence with diligence awake dear heart awake thou hast slept well awake  miranda the strangeness of your story put heaviness in me  prospero shake it off come on well visit caliban my slave who never yields us kind answer  miranda tis a villain sir i do not love to look on  prospero but as tis we cannot miss him he does make our fire fetch in our wood and serves in offices that profit us what ho slave caliban thou earth thou speak  caliban  prospero come forth i say theres other business for thee come thou tortoise when fine apparition my quaint ariel hark in thine ear  ariel my lord it shall be done  prospero thou poisonous slave got by the devil himself upon thy wicked dam come forth  caliban as wicked dew as eer my mother brushd with ravens feather from unwholesome fen drop on you both a southwest blow on ye and blister you all oer  prospero for this be sure tonight thou shalt have cramps sidestitches that shall pen thy breath up urchins shall for that vast of night that they may work all exercise on thee thou shalt be pinchd as thick as honeycomb each pinch more stinging than bees that made em  caliban i must eat my dinner this islands mine by sycorax my mother which thou takest from me when thou camest first thou strokedst me and madest much of me wouldst give me water with berries int and teach me how to name the bigger light and how the less that burn by day and night and then i loved thee and showd thee all the qualities o the isle the fresh springs brinepits barren place and fertile cursed be i that did so all the charms of sycorax toads beetles bats light on you for i am all the subjects that you have which first was mine own king and here you sty me in this hard rock whiles you do keep from me the rest o the island  prospero thou most lying slave whom stripes may move not kindness i have used thee filth as thou art with human care and lodged thee in mine own cell till thou didst seek to violate the honour of my child  caliban o ho o ho wouldt had been done thou didst prevent me i had peopled else this isle with calibans  prospero abhorred slave which any print of goodness wilt not take being capable of all ill i pitied thee took pains to make thee speak taught thee each hour one thing or other when thou didst not savage know thine own meaning but wouldst gabble like a thing most brutish i endowd thy purposes with words that made them known but thy vile race though thou didst learn had that int which good natures could not abide to be with therefore wast thou deservedly confined into this rock who hadst deserved more than a prison  caliban you taught me language and my profit ont is i know how to curse the red plague rid you for learning me your language  prospero hagseed hence fetch us in fuel and be quick thourt best to answer other business shrugst thou malice if thou neglectst or dost unwillingly what i command ill rack thee with old cramps fill all thy bones with aches make thee roar that beasts shall tremble at thy din  caliban no pray thee i must obey his art is of such power it would control my dams god setebos and make a vassal of him  prospero so slave hence come unto these yellow sands and then take hands courtsied when you have and kissd the wild waves whist foot it featly here and there and sweet sprites the burthen bear hark hark  ferdinand where should this music be i the air or the earth it sounds no more and sure it waits upon some god o the island sitting on a bank weeping again the king my fathers wreck this music crept by me upon the waters allaying both their fury and my passion with its sweet air thence i have followd it or it hath drawn me rather but tis gone no it begins again full fathom five thy father lies of his bones are coral made those are pearls that were his eyes nothing of him that doth fade but doth suffer a seachange into something rich and strange seanymphs hourly ring his knell hark now i hear themdingdong bell  ferdinand the ditty does remember my drownd father this is no mortal business nor no sound that the earth owes i hear it now above me  prospero the fringed curtains of thine eye advance and say what thou seest yond  miranda what ist a spirit lord how it looks about believe me sir it carries a brave form but tis a spirit  prospero no wench it eats and sleeps and hath such senses as we have such this gallant which thou seest was in the wreck and but hes something staind with grief thats beautys canker thou mightst call him a goodly person he hath lost his fellows and strays about to find em  miranda i might call him a thing divine for nothing natural i ever saw so noble  prospero  ferdinand most sure the goddess on whom these airs attend vouchsafe my prayer may know if you remain upon this island and that you will some good instruction give how i may bear me here my prime request which i do last pronounce is o you wonder if you be maid or no  miranda no wonder sir but certainly a maid  ferdinand my language heavens i am the best of them that speak this speech were i but where tis spoken  prospero how the best what wert thou if the king of naples heard thee  ferdinand a single thing as i am now that wonders to hear thee speak of naples he does hear me and that he does i weep myself am naples who with mine eyes never since at ebb beheld the king my father wreckd  miranda alack for mercy  ferdinand yes faith and all his lords the duke of milan and his brave son being twain  prospero  miranda why speaks my father so ungently this is the third man that eer i saw the first that eer i sighd for pity move my father to be inclined my way  ferdinand o if a virgin and your affection not gone forth ill make you the queen of naples  prospero soft sir one word more they are both in eithers powers but this swift business i must uneasy make lest too light winning make the prize light one word more i charge thee that thou attend me thou dost here usurp the name thou owest not and hast put thyself upon this island as a spy to win it from me the lord ont  ferdinand no as i am a man  miranda theres nothing ill can dwell in such a temple if the ill spirit have so fair a house good things will strive to dwell witht  prospero follow me speak not you for him hes a traitor come ill manacle thy neck and feet together seawater shalt thou drink thy food shall be the freshbrook muscles witherd roots and husks wherein the acorn cradled follow  ferdinand no i will resist such entertainment till mine enemy has more power  miranda o dear father make not too rash a trial of him for hes gentle and not fearful  prospero what i say my foot my tutor put thy sword up traitor who makest a show but darest not strike thy conscience is so possessd with guilt come from thy ward for i can here disarm thee with this stick and make thy weapon drop  miranda beseech you father  prospero hence hang not on my garments  miranda sir have pity ill be his surety  prospero silence one word more shall make me chide thee if not hate thee what an advocate for an imposter hush thou thinkst there is no more such shapes as he having seen but him and caliban foolish wench to the most of men this is a caliban and they to him are angels  miranda my affections are then most humble i have no ambition to see a goodlier man  prospero come on obey thy nerves are in their infancy again and have no vigour in them  ferdinand so they are my spirits as in a dream are all bound up my fathers loss the weakness which i feel the wreck of all my friends nor this mans threats to whom i am subdued are but light to me might i but through my prison once a day behold this maid all corners else o the earth let liberty make use of space enough have i in such a prison  prospero  miranda be of comfort my fathers of a better nature sir than he appears by speech this is unwonted which now came from him  prospero thou shalt be free as mountain winds but then exactly do all points of my command  ariel to the syllable  prospero come follow speak not for him  gonzalo beseech you sir be merry you have cause so have we all of joy for our escape is much beyond our loss our hint of woe is common every day some sailors wife the masters of some merchant and the merchant have just our theme of woe but for the miracle i mean our preservation few in millions can speak like us then wisely good sir weigh our sorrow with our comfort  alonso prithee peace  sebastian he receives comfort like cold porridge  antonio the visitor will not give him oer so  sebastian look hes winding up the watch of his wit by and by it will strike  gonzalo sir  sebastian one tell  gonzalo when every grief is entertaind thats offerd comes to the entertainer  sebastian a dollar  gonzalo dolour comes to him indeed you have spoken truer than you purposed  sebastian you have taken it wiselier than i meant you should  gonzalo therefore my lord  antonio fie what a spendthrift is he of his tongue  alonso i prithee spare  gonzalo well i have done but yet  sebastian he will be talking  antonio which of he or adrian for a good wager first begins to crow  sebastian the old cock  antonio the cockerel  sebastian done the wager  antonio a laughter  sebastian a match  adrian though this island seem to be desert  sebastian ha ha ha so youre paid  adrian uninhabitable and almost inaccessible  sebastian yet  adrian yet  antonio he could not misst  adrian it must needs be of subtle tender and delicate temperance  antonio temperance was a delicate wench  sebastian ay and a subtle as he most learnedly delivered  adrian the air breathes upon us here most sweetly  sebastian as if it had lungs and rotten ones  antonio or as twere perfumed by a fen  gonzalo here is everything advantageous to life  antonio true save means to live  sebastian of that theres none or little  gonzalo how lush and lusty the grass looks how green  antonio the ground indeed is tawny  sebastian with an eye of green int  antonio he misses not much  sebastian no he doth but mistake the truth totally  gonzalo but the rarity of it iswhich is indeed almost beyond credit  sebastian as many vouched rarities are  gonzalo that our garments being as they were drenched in the sea hold notwithstanding their freshness and glosses being rather newdyed than stained with salt water  antonio if but one of his pockets could speak would it not say he lies  sebastian ay or very falsely pocket up his report  gonzalo methinks our garments are now as fresh as when we put them on first in afric at the marriage of the kings fair daughter claribel to the king of tunis  sebastian twas a sweet marriage and we prosper well in our return  adrian tunis was never graced before with such a paragon to their queen  gonzalo not since widow didos time  antonio widow a pox o that how came that widow in widow dido  sebastian what if he had said widower aeneas too good lord how you take it  adrian widow dido said you you make me study of that she was of carthage not of tunis  gonzalo this tunis sir was carthage  adrian carthage  gonzalo i assure you carthage  sebastian his word is more than the miraculous harp he hath raised the wall and houses too  antonio what impossible matter will he make easy next  sebastian i think he will carry this island home in his pocket and give it his son for an apple  antonio and sowing the kernels of it in the sea bring forth more islands  gonzalo ay  antonio why in good time  gonzalo sir we were talking that our garments seem now as fresh as when we were at tunis at the marriage of your daughter who is now queen  antonio and the rarest that eer came there  sebastian bate i beseech you widow dido  antonio o widow dido ay widow dido  gonzalo is not sir my doublet as fresh as the first day i wore it i mean in a sort  antonio that sort was well fished for  gonzalo when i wore it at your daughters marriage  alonso you cram these words into mine ears against the stomach of my sense would i had never married my daughter there for coming thence my son is lost and in my rate she too who is so far from italy removed i neer again shall see her o thou mine heir of naples and of milan what strange fish hath made his meal on thee  francisco sir he may live i saw him beat the surges under him and ride upon their backs he trod the water whose enmity he flung aside and breasted the surge most swoln that met him his bold head bove the contentious waves he kept and oard himself with his good arms in lusty stroke to the shore that oer his waveworn basis bowd as stooping to relieve him i not doubt he came alive to land  alonso no no hes gone  sebastian sir you may thank yourself for this great loss that would not bless our europe with your daughter but rather lose her to an african where she at least is banishd from your eye who hath cause to wet the grief ont  alonso prithee peace  sebastian you were kneeld to and importuned otherwise by all of us and the fair soul herself weighd between loathness and obedience at which end o the beam should bow we have lost your son i fear for ever milan and naples have more widows in them of this business making than we bring men to comfort them the faults your own  alonso so is the dearst o the loss  gonzalo my lord sebastian the truth you speak doth lack some gentleness and time to speak it in you rub the sore when you should bring the plaster  sebastian very well  antonio and most chirurgeonly  gonzalo it is foul weather in us all good sir when you are cloudy  sebastian foul weather  antonio very foul  gonzalo had i plantation of this isle my lord  antonio held sowt with nettleseed  sebastian or docks or mallows  gonzalo and were the king ont what would i do  sebastian scape being drunk for want of wine  gonzalo i the commonwealth i would by contraries execute all things for no kind of traffic would i admit no name of magistrate letters should not be known riches poverty and use of service none contract succession bourn bound of land tilth vineyard none no use of metal corn or wine or oil no occupation all men idle all and women too but innocent and pure no sovereignty  sebastian yet he would be king ont  antonio the latter end of his commonwealth forgets the beginning  gonzalo all things in common nature should produce without sweat or endeavour treason felony sword pike knife gun or need of any engine would i not have but nature should bring forth of its own kind all foison all abundance to feed my innocent people  sebastian no marrying mong his subjects  antonio none man all idle whores and knaves  gonzalo i would with such perfection govern sir to excel the golden age  sebastian god save his majesty  antonio long live gonzalo  gonzalo anddo you mark me sir  alonso prithee no more thou dost talk nothing to me  gonzalo i do well believe your highness and did it to minister occasion to these gentlemen who are of such sensible and nimble lungs that they always use to laugh at nothing  antonio twas you we laughed at  gonzalo who in this kind of merry fooling am nothing to you so you may continue and laugh at nothing still  antonio what a blow was there given  sebastian an it had not fallen flatlong  gonzalo you are gentlemen of brave metal you would lift the moon out of her sphere if she would continue in it five weeks without changing  sebastian we would so and then go a batfowling  antonio nay good my lord be not angry  gonzalo no i warrant you i will not adventure my discretion so weakly will you laugh me asleep for i am very heavy  antonio go sleep and hear us  alonso what all so soon asleep i wish mine eyes would with themselves shut up my thoughts i find they are inclined to do so  sebastian please you sir do not omit the heavy offer of it it seldom visits sorrow when it doth it is a comforter  antonio we two my lord will guard your person while you take your rest and watch your safety  alonso thank you wondrous heavy  sebastian what a strange drowsiness possesses them  antonio it is the quality o the climate  sebastian why doth it not then our eyelids sink i find not myself disposed to sleep  antonio nor i my spirits are nimble they fell together all as by consent they droppd as by a thunderstroke what might worthy sebastian o what mightno more and yet me thinks i see it in thy face what thou shouldst be the occasion speaks thee and my strong imagination sees a crown dropping upon thy head  sebastian what art thou waking  antonio do you not hear me speak  sebastian i do and surely it is a sleepy language and thou speakst out of thy sleep what is it thou didst say this is a strange repose to be asleep with eyes wide open standing speaking moving and yet so fast asleep  antonio noble sebastian thou letst thy fortune sleepdie rather winkst whiles thou art waking \n"
          ],
          "name": "stdout"
        }
      ]
    },
    {
      "cell_type": "code",
      "metadata": {
        "colab": {
          "base_uri": "https://localhost:8080/"
        },
        "id": "ib123nXgh60A",
        "outputId": "8ebd1f5c-965d-4590-c7dc-72617a10d567"
      },
      "source": [
        "# assign ids to the words and create the dictionaries\n",
        "vocab = {}\n",
        "\n",
        "s = 0.001\n",
        "\n",
        "calcProb = lambda x, z: (np.sqrt(z/s)+1)*(s/z)\n",
        "\n",
        "# split the string\n",
        "tokens = trainText.split(\" \")\n",
        "for index, token in enumerate(set(tokens)):\n",
        "  # add the subsampling calucaltion\n",
        "  # z = tokens.count(token)\n",
        "  # prob = (np.sqrt(z/s)+1)*(s/z)\n",
        "  vocab[token] = index\n",
        "\n",
        "vocab_size = len(vocab)\n",
        "inverse_vocab = {index: token for token, index in vocab.items()}\n",
        "\n",
        "print(vocab_size)\n",
        "print(vocab)\n",
        "print(inverse_vocab)"
      ],
      "execution_count": 5,
      "outputs": [
        {
          "output_type": "stream",
          "text": [
            "2185\n",
            "{'': 0, 'provision': 1, 'war': 2, 'dulness': 3, 'stoppd': 4, 'dukes': 5, 'now': 6, 'ild': 7, 'sightoutrunning': 8, 'counsellor': 9, 'parents': 10, 'butt': 11, 'joind': 12, 'tend': 13, 'mean': 14, 'spouse': 15, 'marketplace': 16, 'strangeness': 17, 'might': 18, 'hearkening': 19, 'conscience': 20, 'making': 21, 'wilt': 22, 'frown': 23, 'bride': 24, 'fen': 25, 'eye': 26, 'bound': 27, 'every': 28, 'coil': 29, 'safety': 30, 'poor': 31, 'consent': 32, 'marry': 33, 'ambition': 34, 'yellow': 35, 'boat': 36, 'lay': 37, 'place': 38, 'bourn': 39, 'sometime': 40, 'dozen': 41, 'princess': 42, 'speaks': 43, 'empty': 44, 'fresh': 45, 'spoken': 46, 'stronger': 47, 'beauty': 48, 'pray': 49, 'offices': 50, 'threats': 51, 'deceitful': 52, 'lusty': 53, 'coming': 54, 'seen': 55, 'labour': 56, 'ward': 57, 'lances': 58, 'men': 59, 'blasphemous': 60, 'point': 61, 'prepared': 62, 'dedicated': 63, 'pardon': 64, 'heaviness': 65, 'doublet': 66, 'stuffs': 67, 'brinepits': 68, 'hap': 69, 'anddo': 70, 'cradled': 71, 'brothers': 72, 'boatswain': 73, 'royalties': 74, 'brow': 75, 'good': 76, 'enter': 77, 'prize': 78, 'false': 79, 'lad': 80, 'wished': 81, 'preservation': 82, 'leaky': 83, 'swaywi': 84, 'both': 85, 'furnishd': 86, 'allaying': 87, 'thyself': 88, 'present': 89, 'offer': 90, 'flung': 91, 'wonder': 92, 'commonwealth': 93, 'thought': 94, 'for': 95, 'dreadful': 96, 'cell': 97, 'heath': 98, 'destiny': 99, 'sped': 100, 'thing': 101, 'cause': 102, 'heedfully': 103, 'dashd': 104, 'concluding': 105, 'roard': 106, 'velvet': 107, 'possessd': 108, 'roaring': 109, 'ensue': 110, 'furze': 111, 'baptista': 112, 'created': 113, 'theme': 114, 'signior': 115, 'mans': 116, 'graceless': 117, 'confess': 118, 'bodes': 119, 'ministers': 120, 'priest': 121, 'riches': 122, 'loved': 123, 'foot': 124, 'abode': 125, 'vouchsafe': 126, 'oard': 127, 'attend': 128, 'saint': 129, 'counterfeit': 130, 'entertainer': 131, 'wander': 132, 'impossible': 133, 'produce': 134, 'lived': 135, 'agreement': 136, 'fort': 137, 'goodlier': 138, 'land': 139, 'bees': 140, 'burthen': 141, 'adieu': 142, 'pounds': 143, 'meet': 144, 'forgetst': 145, 'ears': 146, 'stowd': 147, 'hell': 148, 'gird': 149, 'falsely': 150, 'office': 151, 'rift': 152, 'crying': 153, 'beside': 154, 'exchange': 155, 'talking': 156, 'clouds': 157, 'there': 158, 'breath': 159, 'vainer': 160, 'fertile': 161, 'torment': 162, 'waves': 163, 'season': 164, 'fortune': 165, 'gone': 166, 'behold': 167, 'vow': 168, 'sadness': 169, 'playd': 170, 'im': 171, 'unable': 172, 'humble': 173, 'fair': 174, 'unbowdalas': 175, 'herself': 176, 'rather': 177, 'grudge': 178, 'eyelids': 179, 'eithers': 180, 'stained': 181, 'gold': 182, 'propose': 183, 'husbands': 184, 'sail': 185, 'oil': 186, 'dido': 187, 'man': 188, 'fathom': 189, 'sycorax': 190, 'pronounce': 191, 'persuasion': 192, 'did': 193, 'methat': 194, 'sober': 195, 'moonlight': 196, 'infect': 197, 'tarry': 198, 'malignant': 199, 'few': 200, 'son': 201, 'words': 202, 'instruction': 203, 'third': 204, 'dread': 205, 'laughed': 206, 'fill': 207, 'take': 208, 'cannot': 209, 'liest': 210, 'bate': 211, 'this': 212, 'charm': 213, 'joyous': 214, 'privilegio': 215, 'veriest': 216, 'sitting': 217, 'carries': 218, 'mayst': 219, 'likelihood': 220, 'silly': 221, 'suffered': 222, 'sustaining': 223, 'bawling': 224, 'dream': 225, 'miserable': 226, 'drink': 227, 'bleared': 228, 'spend': 229, 'among': 230, 'swinge': 231, 'some': 232, 'fearful': 233, 'kings': 234, 'marriage': 235, 'nutshell': 236, 'twixt': 237, 'much': 238, 'metal': 239, 'common': 240, 'vent': 241, 'endeavour': 242, 'named': 243, 'wink': 244, 'whelp': 245, 'happier': 246, 'hawk': 247, 'tokens': 248, 'end': 249, 'pitch': 250, 'yields': 251, 'natural': 252, 'womanly': 253, 'meaning': 254, 'muscles': 255, 'deceive': 256, 'millions': 257, 'rarity': 258, 'dart': 259, 'verdure': 260, 'swiftly': 261, 'troubled': 262, 'witch': 263, 'importuned': 264, 'ass': 265, 'subjects': 266, 'contending': 267, 'stranger': 268, 'thither': 269, 'teen': 270, 'din': 271, 'gabble': 272, 'thirsty': 273, 'goddess': 274, 'subtle': 275, 'knell': 276, 'mistress': 277, 'miraculous': 278, 'always': 279, 'kiss': 280, 'bodies': 281, 'wipe': 282, 'daughter': 283, 'comes': 284, 'against': 285, 'seachange': 286, 'scapes': 287, 'so': 288, 'thinkst': 289, 'darkness': 290, 'image': 291, 'forgot': 292, 'deserved': 293, 'break': 294, 'notwithstanding': 295, 'mothers': 296, 'grandmother': 297, 'swim': 298, 'music': 299, 'mad': 300, 'substitution': 301, 'morrow': 302, 'single': 303, 'maiden': 304, 'peace': 305, 'pieces': 306, 'before': 307, 'sign': 308, 'riggd': 309, 'ay': 310, 'none': 311, 'fathers': 312, 'approach': 313, 'constant': 314, 'untoward': 315, 'cooling': 316, 'dwell': 317, 'sleeps': 318, 'glut': 319, 'advance': 320, 'pockets': 321, 'heigh': 322, 'sufficient': 323, 'alonso': 324, 'firm': 325, 'african': 326, 'owest': 327, 'losses': 328, 'likes': 329, 'ready': 330, 'enmity': 331, 'next': 332, 'ope': 333, 'blessed': 334, 'afire': 335, 'greyhound': 336, 'hands': 337, 'upons': 338, 'drowsiness': 339, 'bush': 340, 'imprisond': 341, 'servants': 342, 'sensible': 343, 'toward': 344, 'vassal': 345, 'guilt': 346, 'packing': 347, 'slender': 348, 'dare': 349, 'winning': 350, 'comfort': 351, 'fish': 352, 'topsail': 353, 'glosses': 354, 'till': 355, 'safe': 356, 'pleasant': 357, 'removed': 358, 'sort': 359, 'antonio': 360, 'confine': 361, 'drownd': 362, 'yards': 363, 'curse': 364, 'divine': 365, 'mischiefs': 366, 'yes': 367, 'abundance': 368, 'seldom': 369, 'respecting': 370, 'assurance': 371, 'knowst': 372, 'temporal': 373, 'stillvexd': 374, 'waveworn': 375, 'blessd': 376, 'seems': 377, 'knotty': 378, 'times': 379, 'hose': 380, 'dowry': 381, 'dowery': 382, 'food': 383, 'angle': 384, 'mounting': 385, 'beginning': 386, 'peopled': 387, 'sea': 388, 'each': 389, 'docks': 390, 'out': 391, 'does': 392, 'beseech': 393, 'treacherous': 394, 'rub': 395, 'taen': 396, 'thourt': 397, 'pass': 398, 'prescience': 399, 'incharitable': 400, 'children': 401, 'charity': 402, 'remember': 403, 'recount': 404, 'madest': 405, 'wouldst': 406, 'about': 407, 'zenith': 408, 'devil': 409, 'beyond': 410, 'occasion': 411, 'affection': 412, 'rascalwould': 413, 'rid': 414, 'has': 415, 'scrivener': 416, 'cheek': 417, 'nose': 418, 'conycatched': 419, 'five': 420, 'certainly': 421, 'those': 422, 'speak': 423, 'strange': 424, 'courses': 425, 'eyes': 426, 'perfected': 427, 'passion': 428, 'lorded': 429, 'fall': 430, 'tale': 431, 'gallant': 432, 'bianca': 433, 'straws': 434, 'another': 435, 'midst': 436, 'use': 437, 'rotten': 438, 'overtake': 439, 'grandsire': 440, 'perils': 441, 'int': 442, 'too': 443, 'while': 444, 'dry': 445, 'winds': 446, 'knaves': 447, 'sighing': 448, 'pound': 449, 'bay': 450, 'takest': 451, 'whistle': 452, 'knife': 453, 'that': 454, 'besides': 455, 'landed': 456, 'people': 457, 'sore': 458, 'afeard': 459, 'news': 460, 'mark': 461, 'angry': 462, 'seemeth': 463, 'to': 464, 'lieu': 465, 'rememberst': 466, 'garments': 467, 'desert': 468, 'naples': 469, 'born': 470, 'cheeks': 471, 'could': 472, 'assure': 473, 'awful': 474, 'pitied': 475, 'life': 476, 'long': 477, 'may': 478, 'know': 479, 'points': 480, 'plunged': 481, 'six': 482, 'hand': 483, 'amiable': 484, 'volumes': 485, 'scornful': 486, 'inclined': 487, 'entertaind': 488, 'is': 489, 'worms': 490, 'calibans': 491, 'him': 492, 'ends': 493, 'assist': 494, 'sowt': 495, 'liberty': 496, 'bid': 497, 'ditty': 498, 'we': 499, 'request': 500, 'full': 501, 'sunk': 502, 'weak': 503, 'warrants': 504, 'ad': 505, 'patience': 506, 'bootless': 507, 'time': 508, 'door': 509, 'room': 510, 'hint': 511, 'hie': 512, 'earth': 513, 'murmurst': 514, 'into': 515, 'notes': 516, 'chat': 517, 'case': 518, 'stomach': 519, 'marvel': 520, 'less': 521, 'green': 522, 'part': 523, 'preserve': 524, 'stay': 525, 'fears': 526, 'yond': 527, 'collected': 528, 'sawst': 529, 'honest': 530, 'language': 531, 'therefore': 532, 'newdyed': 533, 'filth': 534, 'lovely': 535, 'subdued': 536, 'touchd': 537, 'made': 538, 'hate': 539, 'ever': 540, 'if': 541, 'heavens': 542, 'delicate': 543, 'penetrate': 544, 'brutish': 545, 'villains': 546, 'thunderstroke': 547, 'blemish': 548, 'rash': 549, 'absolute': 550, 'prayer': 551, 'known': 552, 'wouldt': 553, 'talk': 554, 'peevish': 555, 'unluckily': 556, 'a': 557, 'served': 558, 'thats': 559, 'yourself': 560, 'her': 561, 'sense': 562, 'roundly': 563, 'dark': 564, 'it': 565, 'abhorred': 566, 'surge': 567, 'capable': 568, 'dotard': 569, 'joyful': 570, 'ariel': 571, 'cur': 572, 'halves': 573, 'beseem': 574, 'annual': 575, 'twelve': 576, 'manifold': 577, 'far': 578, 'took': 579, 'hearest': 580, 'young': 581, 'aches': 582, 'fever': 583, 'sir': 584, 'parent': 585, 'sty': 586, 'waking': 587, 'yielded': 588, 'dead': 589, 'unwonted': 590, 'sip': 591, 'blots': 592, 'along': 593, 'came': 594, 'frighted': 595, 'government': 596, 'welkins': 597, 'draw': 598, 'malice': 599, 'seawater': 600, 'murdered': 601, 'rushcandle': 602, 'perceive': 603, 'rate': 604, 'here': 605, 'get': 606, 'fresher': 607, 'sphere': 608, 'horn': 609, 'still': 610, 'witherd': 611, 'married': 612, 'faded': 613, 'brother': 614, 'correspondent': 615, 'widow': 616, 'southwest': 617, 'infancy': 618, 'contract': 619, 'issued': 620, 'hold': 621, 'given': 622, 'cum': 623, 'sin': 624, 'cloven': 625, 'become': 626, 'hes': 627, 'powers': 628, 'learn': 629, 'heaven': 630, 'travellest': 631, 'calld': 632, 'wonders': 633, 'fury': 634, 'mountain': 635, 'meads': 636, 'paragon': 637, 'adventure': 638, 'hortensios': 639, 'bold': 640, 'bandy': 641, 'selfsame': 642, 'cast': 643, 'twain': 644, 'exactly': 645, 'cheated': 646, 'when': 647, 'distinctly': 648, 'hail': 649, 'witht': 650, 'waters': 651, 'play': 652, 'grief': 653, 'move': 654, 'quickwitted': 655, 'lords': 656, 'tonight': 657, 'die': 658, 'nimble': 659, 'hearts': 660, 'cheerly': 661, 'mistaking': 662, 'ways': 663, 'winkst': 664, 'sounds': 665, 'gentlemen': 666, 'something': 667, 'didst': 668, 'serves': 669, 'drenched': 670, 'extirpate': 671, 'unwillingly': 672, 'remembering': 673, 'impertinent': 674, 'weeping': 675, 'influence': 676, 'child': 677, 'wild': 678, 'scarlet': 679, 'forth': 680, 'such': 681, 'springs': 682, 'says': 683, 'drunkards': 684, 'library': 685, 'leapd': 686, 'deckd': 687, 'forward': 688, 'bear': 689, 'ship': 690, 'tackle': 691, 'spectacle': 692, 'open': 693, 'performd': 694, 'perishd': 695, 'wheres': 696, 'airs': 697, 'lest': 698, 'confer': 699, 'wiselier': 700, 'parlor': 701, 'carry': 702, 'maintain': 703, 'curst': 704, 'state': 705, 'dear': 706, 'its': 707, 'moralize': 708, 'wind': 709, 'favourable': 710, 'presently': 711, 'swift': 712, 'neglectst': 713, 'flote': 714, 'hit': 715, 'treason': 716, 'love': 717, 'signories': 718, 'questions': 719, 'throw': 720, 'lost': 721, 'fished': 722, 'husks': 723, 'latter': 724, 'canst': 725, 'linens': 726, 'visits': 727, 'nerves': 728, 'dough': 729, 'desperation': 730, 'pocket': 731, 'courtsied': 732, 'ivy': 733, 'stinging': 734, 'bedazzled': 735, 'diligence': 736, 'brance': 737, 'bidding': 738, 'allot': 739, 'scape': 740, 'sakes': 741, 'debt': 742, 'reason': 743, 'oerprized': 744, 'duke': 745, 'waits': 746, 'sends': 747, 'harm': 748, 'question': 749, 'see': 750, 'barren': 751, 'endowd': 752, 'maimd': 753, 'coronet': 754, 'payment': 755, 'arrived': 756, 'conferring': 757, 'temple': 758, 'villain': 759, 'plague': 760, 'yarely': 761, 'month': 762, 'ashore': 763, 'contrary': 764, 'weigh': 765, 'as': 766, 'kate': 767, 'form': 768, 'amazed': 769, 'please': 770, 'whoreson': 771, 'carthage': 772, 'letst': 773, 'violate': 774, 'spirits': 775, 'conceive': 776, 'miracle': 777, 'borne': 778, 'thy': 779, 'ashamed': 780, 'vail': 781, 'between': 782, 'ancient': 783, 'odd': 784, 'exercise': 785, 'tortoise': 786, 'governor': 787, 'external': 788, 'levied': 789, 'basis': 790, 'misst': 791, 'truer': 792, 'nor': 793, 'quick': 794, 'marrying': 795, 'howl': 796, 'traffic': 797, 'control': 798, 'an': 799, 'darest': 800, 'apparition': 801, 'replied': 802, 'unknit': 803, 'can': 804, 'believe': 805, 'quality': 806, 'destroy': 807, 'awaked': 808, 'iswhich': 809, 'flamed': 810, 'fade': 811, 'sent': 812, 'vineyard': 813, 'fie': 814, 'drops': 815, 'two': 816, 'discretion': 817, 'ebb': 818, 'ten': 819, 'army': 820, 'cheer': 821, 'homage': 822, 'bigger': 823, 'happily': 824, 'do': 825, 'heardst': 826, 'minute': 827, 'women': 828, 'seem': 829, 'these': 830, 'of': 831, 'pour': 832, 'big': 833, 'noisemaker': 834, 'one': 835, 'deign': 836, 'salt': 837, 'rich': 838, 'katharina': 839, 'missd': 840, 'habit': 841, 'europe': 842, 'engine': 843, 'hagseed': 844, 'solum': 845, 'unstanched': 846, 'inform': 847, 'pisa': 848, 'tempest': 849, 'enemy': 850, 'awake': 851, 'afraid': 852, 'attendst': 853, 'wills': 854, 'sad': 855, 'large': 856, 'eats': 857, 'come': 858, 'grown': 859, 'thine': 860, 'boot': 861, 'caliban': 862, 'surges': 863, 'court': 864, 'acorn': 865, 'sleepdie': 866, 'intolerable': 867, 'newbuilt': 868, 'fairer': 869, 'worshipful': 870, 'shot': 871, 'joy': 872, 'hair': 873, 'appendix': 874, 'sword': 875, 'francisco': 876, 'marks': 877, 'wast': 878, 'beetles': 879, 'claribel': 880, 'endured': 881, 'bettering': 882, 'fuel': 883, 'waist': 884, 'prerogative': 885, 'buds': 886, 'louder': 887, 'notorious': 888, 'knew': 889, 'thick': 890, 'master': 891, 'strong': 892, 'mercy': 893, 'speakst': 894, 'name': 895, 'many': 896, 'kissd': 897, 'isle': 898, 'gentleness': 899, 'underfoot': 900, 'else': 901, 'soundly': 902, 'sullen': 903, 'pox': 904, 'hence': 905, 'jest': 906, 'twenty': 907, 'mariners': 908, 'beating': 909, 'stripes': 910, 'fire': 911, 'suckd': 912, 'encounter': 913, 'add': 914, 'thank': 915, 'away': 916, 'stuff': 917, 'street': 918, 'gods': 919, 'fallen': 920, 'advantage': 921, 'dog': 922, 'at': 923, 'often': 924, 'omit': 925, 'nigh': 926, 'rage': 927, 'washing': 928, 'budding': 929, 'kindness': 930, 'silken': 931, 'wrings': 932, 'kneeld': 933, 'divide': 934, 'toads': 935, 'lucentio': 936, 'help': 937, 'home': 938, 'face': 939, 'loving': 940, 'never': 941, 'drown': 942, 'them': 943, 'dukedom': 944, 'beam': 945, 'night': 946, 'leave': 947, 'send': 948, 'town': 949, 'purposed': 950, 'got': 951, 'bitter': 952, 'retired': 953, 'little': 954, 'pinch': 955, 'tread': 956, 'showd': 957, 'spare': 958, 'lukes': 959, 'hereof': 960, 'pleasure': 961, 'cramps': 962, 'field': 963, 'house': 964, 'fell': 965, 'truth': 966, 'cockerel': 967, 'backs': 968, 'sailmaker': 969, 'laughter': 970, 'father': 971, 'lunatic': 972, 'bed': 973, 'excel': 974, 'self': 975, 'very': 976, 'fraughting': 977, 'charms': 978, 'queen': 979, 'below': 980, 'ha': 981, 'meddle': 982, 'fool': 983, 'becomes': 984, 'slippd': 985, 'studies': 986, 'wherein': 987, 'owe': 988, 'stars': 989, 'what': 990, 'knocks': 991, 'heavy': 992, 'jealous': 993, 'his': 994, 'storms': 995, 'suffer': 996, 'contraries': 997, 'crow': 998, 'things': 999, 'perfect': 1000, 'cares': 1001, 'keep': 1002, 'govern': 1003, 'entrails': 1004, 'least': 1005, 'folks': 1006, 'grumblings': 1007, 'himself': 1008, 'trust': 1009, 'promise': 1010, 'blow': 1011, 'abused': 1012, 'burst': 1013, 'brine': 1014, 'days': 1015, 'burn': 1016, 'manacle': 1017, 'weapon': 1018, 'feet': 1019, 'lodging': 1020, 'spendthrift': 1021, 'hanged': 1022, 'farther': 1023, 'commands': 1024, 'imposter': 1025, 'innocent': 1026, 'maintenance': 1027, 'simile': 1028, 'widows': 1029, 'theres': 1030, 'deafness': 1031, 'crown': 1032, 'rogue': 1033, 'witness': 1034, 'rend': 1035, 'wisely': 1036, 'worst': 1037, 'nettleseed': 1038, 'yea': 1039, 'guard': 1040, 'sink': 1041, 'magistrate': 1042, 'either': 1043, 'shes': 1044, 'bank': 1045, 'themselves': 1046, 'tended': 1047, 'world': 1048, 'insolent': 1049, 'quit': 1050, 'ferdinand': 1051, 'lady': 1052, 'knowing': 1053, 'most': 1054, 'parallel': 1055, 'dispersed': 1056, 'pine': 1057, 'vouched': 1058, 'illseeming': 1059, 'transported': 1060, 'bad': 1061, 'giddy': 1062, 'befal': 1063, 'wisdom': 1064, 'oer': 1065, 'warrant': 1066, 'qualities': 1067, 'prospero': 1068, 'sons': 1069, 'from': 1070, 'virtue': 1071, 'friends': 1072, 'fly': 1073, 'bend': 1074, 'rest': 1075, 'pitchers': 1076, 'learnedly': 1077, 'have': 1078, 'withal': 1079, 'cost': 1080, 'needs': 1081, 'royalty': 1082, 'blessedly': 1083, 'entitle': 1084, 'answer': 1085, 'wombs': 1086, 'smile': 1087, 'furlongs': 1088, 'water': 1089, 'everything': 1090, 'authority': 1091, 'entertainment': 1092, 'rats': 1093, 'execute': 1094, 'fast': 1095, 'share': 1096, 'key': 1097, 'pains': 1098, 'secure': 1099, 'expect': 1100, 'gate': 1101, 'she': 1102, 'grass': 1103, 'topmast': 1104, 'find': 1105, 'groand': 1106, 'sands': 1107, 'whose': 1108, 'feast': 1109, 'almost': 1110, 'whats': 1111, 'instinctively': 1112, 'winding': 1113, 'will': 1114, 'worldly': 1115, 'frosts': 1116, 'cozen': 1117, 'methinks': 1118, 'farewell': 1119, 'deck': 1120, 'haply': 1121, 'thousand': 1122, 'owes': 1123, 'repose': 1124, 'freshbrook': 1125, 'having': 1126, 'island': 1127, 'plaster': 1128, 'done': 1129, 'arise': 1130, 'duty': 1131, 'age': 1132, 'fine': 1133, 'he': 1134, 'bright': 1135, 'banquet': 1136, 'serve': 1137, 'smooth': 1138, 'moved': 1139, 'busy': 1140, 'sweetly': 1141, 'brown': 1142, 'thinks': 1143, 'glances': 1144, 'hurried': 1145, 'youre': 1146, 'left': 1147, 'prince': 1148, 'promised': 1149, 'garden': 1150, 'glance': 1151, 'aught': 1152, 'slit': 1153, 'cease': 1154, 'unkind': 1155, 'bids': 1156, 'prosper': 1157, 'tis': 1158, 'stooping': 1159, 'bade': 1160, 'enough': 1161, 'felt': 1162, 'health': 1163, 'affords': 1164, 'touch': 1165, 'god': 1166, 'hush': 1167, 'the': 1168, 'whereon': 1169, 'reputed': 1170, 'grieved': 1171, 'went': 1172, 'tutors': 1173, 'hangd': 1174, 'patient': 1175, 'noble': 1176, 'privately': 1177, 'better': 1178, 'sailors': 1179, 'spirit': 1180, 'warning': 1181, 'should': 1182, 'miss': 1183, 'neapolitan': 1184, 'mighty': 1185, 'occupation': 1186, 'miracles': 1187, 'gape': 1188, 'sorrow': 1189, 'way': 1190, 'revenged': 1191, 'trouble': 1192, 'speaking': 1193, 'murder': 1194, 'ahold': 1195, 'mast': 1196, 'bloody': 1197, 'delivered': 1198, 'work': 1199, 'twere': 1200, 'doth': 1201, 'confined': 1202, 'merriment': 1203, 'foison': 1204, 'tongue': 1205, 'bones': 1206, 'nought': 1207, 'kept': 1208, 'on': 1209, 'visit': 1210, 'warm': 1211, 'lie': 1212, 'growing': 1213, 'say': 1214, 'heavenly': 1215, 'lies': 1216, 'bountiful': 1217, 'pen': 1218, 'berries': 1219, 'aboard': 1220, 'wrinkled': 1221, 'knot': 1222, 'banishd': 1223, 'wish': 1224, 'bout': 1225, 'sayest': 1226, 'are': 1227, 'tremble': 1228, 'officer': 1229, 'sound': 1230, 'mess': 1231, 'white': 1232, 'memory': 1233, 'strength': 1234, 'unapt': 1235, 'bedfellow': 1236, 'further': 1237, 'aside': 1238, 'ordered': 1239, 'somebody': 1240, 'myself': 1241, 'years': 1242, 'qualified': 1243, 'haven': 1244, 'disposed': 1245, 'only': 1246, 'spoiled': 1247, 'sway': 1248, 'would': 1249, 'supremacy': 1250, 'afternoon': 1251, 'seest': 1252, 'dinner': 1253, 'esteem': 1254, 'mallows': 1255, 'us': 1256, 'syllable': 1257, 'tunis': 1258, 'ont': 1259, 'perfumed': 1260, 'villany': 1261, 'gun': 1262, 'evermore': 1263, 'shall': 1264, 'surely': 1265, 'shalt': 1266, 'neglecting': 1267, 'supper': 1268, 'bergamo': 1269, 'happened': 1270, 'simple': 1271, 'story': 1272, 'tricks': 1273, 'gallows': 1274, 'souls': 1275, 'mightst': 1276, 'look': 1277, 'were': 1278, 'with': 1279, 'not': 1280, 'masters': 1281, 'cram': 1282, 'majesty': 1283, 'ungently': 1284, 'sovereign': 1285, 'dollar': 1286, 'told': 1287, 'bet': 1288, 'report': 1289, 'your': 1290, 'otherwise': 1291, 'stomachs': 1292, 'free': 1293, 'outright': 1294, 'lands': 1295, 'dearest': 1296, 'kernels': 1297, 'lying': 1298, 'shines': 1299, 'keeper': 1300, 'trial': 1301, 'space': 1302, 'golden': 1303, 'sit': 1304, 'sake': 1305, 'bleeds': 1306, 'begin': 1307, 'chirurgeonly': 1308, 'which': 1309, 'follow': 1310, 'measures': 1311, 'sadly': 1312, 'harp': 1313, 'north': 1314, 'worse': 1315, 'without': 1316, 'deceiving': 1317, 'petruchio': 1318, 'prithee': 1319, 'four': 1320, 'seeming': 1321, 'moon': 1322, 'speech': 1323, 'token': 1324, 'design': 1325, 'precursors': 1326, 'hanging': 1327, 'pinchd': 1328, 'houses': 1329, 'honeycomb': 1330, 'storm': 1331, 'tell': 1332, 'moody': 1333, 'feed': 1334, 'unmitigable': 1335, 'softly': 1336, 'dearst': 1337, 'fringed': 1338, 'chide': 1339, 'holidame': 1340, 'forbid': 1341, 'conditions': 1342, 'confidence': 1343, 'telling': 1344, 'neptune': 1345, 'cloudy': 1346, 'though': 1347, 'deny': 1348, 'tribute': 1349, 'obey': 1350, 'harbour': 1351, 'round': 1352, 'thoughts': 1353, 'hard': 1354, 'screen': 1355, 'currish': 1356, 'didos': 1357, 'word': 1358, 'entreat': 1359, 'wert': 1360, 'put': 1361, 'cake': 1362, 'pearl': 1363, 'cherubim': 1364, 'looks': 1365, 'race': 1366, 'prevent': 1367, 'vigour': 1368, 'followd': 1369, 'thanks': 1370, 'seek': 1371, 'learning': 1372, 'setebos': 1373, 'task': 1374, 'supposes': 1375, 'breathes': 1376, 'biancas': 1377, 'formd': 1378, 'cabin': 1379, 'depend': 1380, 'event': 1381, 'elements': 1382, 'strokedst': 1383, 'escape': 1384, 'tides': 1385, 'schoolmaster': 1386, 'lungs': 1387, 'usurp': 1388, 'tawny': 1389, 'overblown': 1390, 'cursed': 1391, 'shrew': 1392, 'slept': 1393, 'resist': 1394, 'meant': 1395, 'alive': 1396, 'hoop': 1397, 'moving': 1398, 'behind': 1399, 'sister': 1400, 'roarers': 1401, 'alack': 1402, 'pluck': 1403, 'depth': 1404, 'controversy': 1405, 'being': 1406, 'body': 1407, 'tutor': 1408, 'gremio': 1409, 'under': 1410, 'their': 1411, 'galld': 1412, 'badest': 1413, 'heir': 1414, 'hests': 1415, 'bove': 1416, 'stand': 1417, 'mended': 1418, 'corners': 1419, 'damnd': 1420, 'mightno': 1421, 'red': 1422, 'totally': 1423, 'soon': 1424, 'after': 1425, 'other': 1426, 'they': 1427, 'betid': 1428, 'must': 1429, 'hadst': 1430, 'set': 1431, 'catches': 1432, 'spent': 1433, 'refusing': 1434, 'confederates': 1435, 'places': 1436, 'manage': 1437, 'froward': 1438, 'run': 1439, 'sees': 1440, 'hunted': 1441, 'travellers': 1442, 'necessaries': 1443, 'rock': 1444, 'natures': 1445, 'fellow': 1446, 'colours': 1447, 'lose': 1448, 'sour': 1449, 'earthy': 1450, 'am': 1451, 'leagues': 1452, 'demand': 1453, 'prayers': 1454, 'credit': 1455, 'bauble': 1456, 'howld': 1457, 'letters': 1458, 'uneasy': 1459, 'perfection': 1460, 'whilst': 1461, 'mischance': 1462, 'try': 1463, 'widechappd': 1464, 'lower': 1465, 'enforced': 1466, 'harsh': 1467, 'think': 1468, 'lucentios': 1469, 'receives': 1470, 'i': 1471, 'holp': 1472, 'expound': 1473, 'breasts': 1474, 'short': 1475, 'tamed': 1476, 'madman': 1477, 'contentious': 1478, 'heart': 1479, 'grand': 1480, 'whiles': 1481, 'offended': 1482, 'faults': 1483, 'subject': 1484, 'gentle': 1485, 'veins': 1486, 'wrong': 1487, 'able': 1488, 'been': 1489, 'complexion': 1490, 'great': 1491, 'woe': 1492, 'inveterate': 1493, 'want': 1494, 'past': 1495, 'reverend': 1496, 'potent': 1497, 'three': 1498, 'devils': 1499, 'within': 1500, 'sight': 1501, 'whence': 1502, 'trunk': 1503, 'disarm': 1504, 'drunk': 1505, 'batfowling': 1506, 'piteous': 1507, 'braved': 1508, 'then': 1509, 'yours': 1510, 'reeds': 1511, 'joves': 1512, 'ye': 1513, 'evil': 1514, 'litter': 1515, 'together': 1516, 'stroke': 1517, 'parsley': 1518, 'rapt': 1519, 'bow': 1520, 'eyne': 1521, 'hundred': 1522, 'supposing': 1523, 'backward': 1524, 'sans': 1525, 'shape': 1526, 'creature': 1527, 'biondello': 1528, 'steaded': 1529, 'drawn': 1530, 'bite': 1531, 'milan': 1532, 'any': 1533, 'nobly': 1534, 'article': 1535, 'hast': 1536, 'who': 1537, 'kind': 1538, 'glasses': 1539, 'vast': 1540, 'dally': 1541, 'greater': 1542, 'imprimendum': 1543, 'rack': 1544, 'books': 1545, 'saw': 1546, 'hastywitted': 1547, 'pale': 1548, 'weakness': 1549, 'begun': 1550, 'weep': 1551, 'exact': 1552, 'worthy': 1553, 'wine': 1554, 'upstaringthen': 1555, 'beget': 1556, 'signs': 1557, 'crowns': 1558, 'mocking': 1559, 'hag': 1560, 'goodness': 1561, 'coral': 1562, 'lush': 1563, 'freshness': 1564, 'infused': 1565, 'copatain': 1566, 'husband': 1567, 'busied': 1568, 'beheld': 1569, 'durst': 1570, 'o': 1571, 'church': 1572, 'comforter': 1573, 'year': 1574, 'wondrous': 1575, 'circumstances': 1576, 'undergoing': 1577, 'won': 1578, 'down': 1579, 'hoist': 1580, 'curld': 1581, 'standing': 1582, 'asking': 1583, 'pursue': 1584, 'neck': 1585, 'sure': 1586, 'laugh': 1587, 'shake': 1588, 'since': 1589, 'above': 1590, 'pure': 1591, 'eyeball': 1592, 'heres': 1593, 'themdingdong': 1594, 'bereft': 1595, 'print': 1596, 'my': 1597, 'uncle': 1598, 'perfidioushe': 1599, 'pity': 1600, 'seanymphs': 1601, 'wreck': 1602, 'tilth': 1603, 'feather': 1604, 'wives': 1605, 'adrian': 1606, 'misses': 1607, 'suit': 1608, 'whom': 1609, 'cure': 1610, 'entreated': 1611, 'remain': 1612, 'forget': 1613, 'savage': 1614, 'spy': 1615, 'piece': 1616, 'ill': 1617, 'up': 1618, 'win': 1619, 'carcass': 1620, 'changes': 1621, 'graced': 1622, 'closeness': 1623, 'millwheels': 1624, 'easy': 1625, 'gentleman': 1626, 'wrought': 1627, 'wall': 1628, 'had': 1629, 'limit': 1630, 'lord': 1631, 'quaint': 1632, 'attentive': 1633, 'best': 1634, 'weather': 1635, 'staind': 1636, 'ere': 1637, 'heard': 1638, 'hark': 1639, 'nothing': 1640, 'perdition': 1641, 'even': 1642, 'weakly': 1643, 'spangle': 1644, 'save': 1645, 'back': 1646, 'lives': 1647, 'shrugst': 1648, 'peg': 1649, 'dashes': 1650, 'swoln': 1651, 'secret': 1652, 'wherefore': 1653, 'neer': 1654, 'confounds': 1655, 'crept': 1656, 'momentary': 1657, 'reportst': 1658, 'purpose': 1659, 'surety': 1660, 'doubt': 1661, 'lend': 1662, 'strays': 1663, 'shapes': 1664, 'wench': 1665, 'brushd': 1666, 'bowd': 1667, 'canker': 1668, 'birth': 1669, 'met': 1670, 'venture': 1671, 'charge': 1672, 'howling': 1673, 'falsehood': 1674, 'forthcoming': 1675, 'undo': 1676, 'swallowd': 1677, 'dull': 1678, 'porridge': 1679, 'idle': 1680, 'liberal': 1681, 'nymph': 1682, 'beasts': 1683, 'minister': 1684, 'tender': 1685, 'cried': 1686, 'painted': 1687, 'demanded': 1688, 'ground': 1689, 'popular': 1690, 'auspicious': 1691, 'roots': 1692, 'hailed': 1693, 'conceives': 1694, 'midnight': 1695, 'raised': 1696, 'kneel': 1697, 'drowned': 1698, 'fellows': 1699, 'dost': 1700, 'mind': 1701, 'urchins': 1702, 'deer': 1703, 'terrible': 1704, 'hat': 1705, 'padua': 1706, 'uninhabitable': 1707, 'cerns': 1708, 'appointed': 1709, 'pittance': 1710, 'sayst': 1711, 'mistake': 1712, 'frost': 1713, 'match': 1714, 'merry': 1715, 'incapable': 1716, 'dropping': 1717, 'fated': 1718, 'servant': 1719, 'possesses': 1720, 'sorceries': 1721, 'study': 1722, 'lets': 1723, 'whist': 1724, 'oak': 1725, 'hid': 1726, 'bermoothes': 1727, 'mistakings': 1728, 'power': 1729, 'just': 1730, 'brought': 1731, 'heaved': 1732, 'was': 1733, 'executing': 1734, 'care': 1735, 'discharge': 1736, 'maincourse': 1737, 'breasted': 1738, 'held': 1739, 'providence': 1740, 'imagination': 1741, 'boy': 1742, 'turnd': 1743, 'yet': 1744, 'lodged': 1745, 'bears': 1746, 'wear': 1747, 'act': 1748, 'angels': 1749, 'watch': 1750, 'hither': 1751, 'immortal': 1752, 'troops': 1753, 'em': 1754, 'theirs': 1755, 'rabbit': 1756, 'old': 1757, 'woman': 1758, 'tranio': 1759, 'swear': 1760, 'blueeyed': 1761, 'princesses': 1762, 'dam': 1763, 'droppd': 1764, 'visitor': 1765, 'rebel': 1766, 'creatures': 1767, 'thee': 1768, 'thou': 1769, 'mediterranean': 1770, 'wager': 1771, 'new': 1772, 'trod': 1773, 'besiege': 1774, 'clerk': 1775, 'highness': 1776, 'sleepy': 1777, 'journey': 1778, 'wet': 1779, 'mother': 1780, 'gently': 1781, 'witnesses': 1782, 'undone': 1783, 'gentlewoman': 1784, 'mar': 1785, 'be': 1786, 'dive': 1787, 'lack': 1788, 'obedience': 1789, 'fame': 1790, 'dams': 1791, 'whither': 1792, 'henceforth': 1793, 'where': 1794, 'arrival': 1795, 'prevented': 1796, 'outward': 1797, 'university': 1798, 'crossd': 1799, 'merely': 1800, 'shore': 1801, 'own': 1802, 'purposes': 1803, 'goodly': 1804, 'monstrous': 1805, 'foolish': 1806, 'suppertime': 1807, 'true': 1808, 'oweth': 1809, 'pearls': 1810, 'aimd': 1811, 'obedient': 1812, 'makest': 1813, 'prison': 1814, 'quiet': 1815, 'jarring': 1816, 'lead': 1817, 'cap': 1818, 'fate': 1819, 'cracks': 1820, 'continue': 1821, 'slave': 1822, 'mong': 1823, 'wife': 1824, 'me': 1825, 'eat': 1826, 'garment': 1827, 'compare': 1828, 'welcome': 1829, 'sinner': 1830, 'preciously': 1831, 'dew': 1832, 'countenance': 1833, 'succession': 1834, 'loathness': 1835, 'close': 1836, 'ones': 1837, 'tune': 1838, 'dwelling': 1839, 'ho': 1840, 'cabins': 1841, 'twas': 1842, 'throat': 1843, 'painful': 1844, 'through': 1845, 'command': 1846, 'poverty': 1847, 'shipping': 1848, 'wore': 1849, 'trash': 1850, 'flame': 1851, 'wit': 1852, 'arms': 1853, 'again': 1854, 'laying': 1855, 'ear': 1856, 'rarities': 1857, 'truly': 1858, 'afric': 1859, 'raising': 1860, 'straight': 1861, 'grumio': 1862, 'go': 1863, 'hearing': 1864, 'changing': 1865, 'window': 1866, 'bark': 1867, 'magic': 1868, 'drowning': 1869, 'taken': 1870, 'aground': 1871, 'acre': 1872, 'stinking': 1873, 'condition': 1874, 'our': 1875, 'sprites': 1876, 'in': 1877, 'muddy': 1878, 'turns': 1879, 'list': 1880, 'no': 1881, 'last': 1882, 'stick': 1883, 'changed': 1884, 'fain': 1885, 'fleet': 1886, 'advantageous': 1887, 'beloved': 1888, 'overtopping': 1889, 'matter': 1890, 'seastorm': 1891, 'said': 1892, 'mortal': 1893, 'shouldst': 1894, 'bring': 1895, 'abysm': 1896, 'wound': 1897, 'teach': 1898, 'envy': 1899, 'pike': 1900, 'roar': 1901, 'ring': 1902, 'awakend': 1903, 'vessel': 1904, 'featly': 1905, 'shut': 1906, 'bowl': 1907, 'vincentio': 1908, 'premises': 1909, 'inquisition': 1910, 'temperance': 1911, 'relieve': 1912, 'deservedly': 1913, 'fountain': 1914, 'death': 1915, 'hear': 1916, 'enemies': 1917, 'beautys': 1918, 'cloak': 1919, 'painfully': 1920, 'make': 1921, 'ado': 1922, 'vile': 1923, 'bore': 1924, 'runs': 1925, 'like': 1926, 'winner': 1927, 'camest': 1928, 'seasorrow': 1929, 'climate': 1930, 'nay': 1931, 'eer': 1932, 'first': 1933, 'revenue': 1934, 'star': 1935, 'meal': 1936, 'ignorant': 1937, 'law': 1938, 'hagbornnot': 1939, 'islands': 1940, 'ease': 1941, 'safely': 1942, 'profit': 1943, 'arts': 1944, 'girl': 1945, 'happy': 1946, 'once': 1947, 'thence': 1948, 'craves': 1949, 'hortensio': 1950, 'person': 1951, 'appears': 1952, 'tot': 1953, 'hope': 1954, 'merchant': 1955, 'sweat': 1956, 'grew': 1957, 'rarest': 1958, 'ooze': 1959, 'looking': 1960, 'fortunes': 1961, 'sharp': 1962, 'human': 1963, 'daughters': 1964, 'beat': 1965, 'ignoble': 1966, 'pedant': 1967, 'join': 1968, 'bias': 1969, 'nature': 1970, 'mine': 1971, 'used': 1972, 'dolour': 1973, 'strive': 1974, 'winters': 1975, 'strangers': 1976, 'interrupted': 1977, 'right': 1978, 'prisoners': 1979, 'ourselves': 1980, 'honour': 1981, 'poisonous': 1982, 'direful': 1983, 'toil': 1984, 'brave': 1985, 'virgin': 1986, 'you': 1987, 'widest': 1988, 'service': 1989, 'hourly': 1990, 'hath': 1991, 'need': 1992, 'inaccessible': 1993, 'perish': 1994, 'plantation': 1995, 'fooling': 1996, 'sufferd': 1997, 'show': 1998, 'lift': 1999, 'wide': 2000, 'than': 2001, 'blister': 2002, 'half': 2003, 'bless': 2004, 'widower': 2005, 'more': 2006, 'died': 2007, 'and': 2008, 'gaol': 2009, 'knavery': 2010, 'raging': 2011, 'provokes': 2012, 'hound': 2013, 'allay': 2014, 'princely': 2015, 'headstrong': 2016, 'knave': 2017, 'wicked': 2018, 'weeks': 2019, 'bird': 2020, 'boarded': 2021, 'mid': 2022, 'suits': 2023, 'rule': 2024, 'hang': 2025, 'bliss': 2026, 'remembrance': 2027, 'moral': 2028, 'fortitude': 2029, 'unto': 2030, 'agree': 2031, 'frivolous': 2032, 'forthwith': 2033, 'droop': 2034, 'shift': 2035, 'prime': 2036, 'parts': 2037, 'amazement': 2038, 'thunderclaps': 2039, 'sky': 2040, 'loss': 2041, 'curtains': 2042, 'abhorrd': 2043, 'thus': 2044, 'return': 2045, 'honourd': 2046, 'fear': 2047, 'sulphurous': 2048, 'sigh': 2049, 'king': 2050, 'sweet': 2051, 'hours': 2052, 'cold': 2053, 'nows': 2054, 'city': 2055, 'felony': 2056, 'grave': 2057, 'offerd': 2058, 'content': 2059, 'company': 2060, 'threatening': 2061, 'careful': 2062, 'taught': 2063, 'accident': 2064, 'mouths': 2065, 'traitor': 2066, 'horses': 2067, 'flatlong': 2068, 'ist': 2069, 'hits': 2070, 'nook': 2071, 'art': 2072, 'hour': 2073, 'means': 2074, 'heed': 2075, 'sighs': 2076, 'all': 2077, 'invisible': 2078, 'gates': 2079, 'paid': 2080, 'wolves': 2081, 'air': 2082, 'spoke': 2083, 'cambio': 2084, 'faith': 2085, 'off': 2086, 'how': 2087, 'unwholesome': 2088, 'argier': 2089, 'well': 2090, 'foul': 2091, 'bats': 2092, 'affections': 2093, 'let': 2094, 'but': 2095, 'pleased': 2096, 'spiriting': 2097, 'wood': 2098, 'advocate': 2099, 'groans': 2100, 'abide': 2101, 'forswear': 2102, 'dignity': 2103, 'ravens': 2104, 'hearkens': 2105, 'freckled': 2106, 'rope': 2107, 'sidestitches': 2108, 'or': 2109, 'wreckd': 2110, 'gonzalo': 2111, 'trident': 2112, 'late': 2113, 'business': 2114, 'sun': 2115, 'soft': 2116, 'cable': 2117, 'fouler': 2118, 'beak': 2119, 'upon': 2120, 'hatches': 2121, 'feel': 2122, 'yare': 2123, 'drop': 2124, 'aeneas': 2125, 'light': 2126, 'by': 2127, 'chance': 2128, 'begins': 2129, 'cock': 2130, 'corn': 2131, 'bowsprit': 2132, 'silence': 2133, 'apple': 2134, 'brings': 2135, 'thin': 2136, 'faced': 2137, 'sirrah': 2138, 'andyonder': 2139, 'theyre': 2140, 'give': 2141, 'sighd': 2142, 'soul': 2143, 'whirlwinds': 2144, 'contented': 2145, 'cry': 2146, 'wealthy': 2147, 'miranda': 2148, 'baked': 2149, 'forgets': 2150, 'deep': 2151, 'asleep': 2152, 'bestir': 2153, 'bell': 2154, 'sowing': 2155, 'live': 2156, 'indeed': 2157, 'admit': 2158, 'head': 2159, 'honours': 2160, 'sovereignty': 2161, 'ride': 2162, 'strike': 2163, 'choose': 2164, 'commits': 2165, 'lightnings': 2166, 'call': 2167, 'foaming': 2168, 'day': 2169, 'weighd': 2170, 'italy': 2171, 'why': 2172, 'damned': 2173, 'grant': 2174, 'fetch': 2175, 'maid': 2176, 'senses': 2177, 'embrace': 2178, 'knock': 2179, 'sleep': 2180, 'whores': 2181, 'compassion': 2182, 'calldst': 2183, 'sebastian': 2184}\n",
            "{0: '', 1: 'provision', 2: 'war', 3: 'dulness', 4: 'stoppd', 5: 'dukes', 6: 'now', 7: 'ild', 8: 'sightoutrunning', 9: 'counsellor', 10: 'parents', 11: 'butt', 12: 'joind', 13: 'tend', 14: 'mean', 15: 'spouse', 16: 'marketplace', 17: 'strangeness', 18: 'might', 19: 'hearkening', 20: 'conscience', 21: 'making', 22: 'wilt', 23: 'frown', 24: 'bride', 25: 'fen', 26: 'eye', 27: 'bound', 28: 'every', 29: 'coil', 30: 'safety', 31: 'poor', 32: 'consent', 33: 'marry', 34: 'ambition', 35: 'yellow', 36: 'boat', 37: 'lay', 38: 'place', 39: 'bourn', 40: 'sometime', 41: 'dozen', 42: 'princess', 43: 'speaks', 44: 'empty', 45: 'fresh', 46: 'spoken', 47: 'stronger', 48: 'beauty', 49: 'pray', 50: 'offices', 51: 'threats', 52: 'deceitful', 53: 'lusty', 54: 'coming', 55: 'seen', 56: 'labour', 57: 'ward', 58: 'lances', 59: 'men', 60: 'blasphemous', 61: 'point', 62: 'prepared', 63: 'dedicated', 64: 'pardon', 65: 'heaviness', 66: 'doublet', 67: 'stuffs', 68: 'brinepits', 69: 'hap', 70: 'anddo', 71: 'cradled', 72: 'brothers', 73: 'boatswain', 74: 'royalties', 75: 'brow', 76: 'good', 77: 'enter', 78: 'prize', 79: 'false', 80: 'lad', 81: 'wished', 82: 'preservation', 83: 'leaky', 84: 'swaywi', 85: 'both', 86: 'furnishd', 87: 'allaying', 88: 'thyself', 89: 'present', 90: 'offer', 91: 'flung', 92: 'wonder', 93: 'commonwealth', 94: 'thought', 95: 'for', 96: 'dreadful', 97: 'cell', 98: 'heath', 99: 'destiny', 100: 'sped', 101: 'thing', 102: 'cause', 103: 'heedfully', 104: 'dashd', 105: 'concluding', 106: 'roard', 107: 'velvet', 108: 'possessd', 109: 'roaring', 110: 'ensue', 111: 'furze', 112: 'baptista', 113: 'created', 114: 'theme', 115: 'signior', 116: 'mans', 117: 'graceless', 118: 'confess', 119: 'bodes', 120: 'ministers', 121: 'priest', 122: 'riches', 123: 'loved', 124: 'foot', 125: 'abode', 126: 'vouchsafe', 127: 'oard', 128: 'attend', 129: 'saint', 130: 'counterfeit', 131: 'entertainer', 132: 'wander', 133: 'impossible', 134: 'produce', 135: 'lived', 136: 'agreement', 137: 'fort', 138: 'goodlier', 139: 'land', 140: 'bees', 141: 'burthen', 142: 'adieu', 143: 'pounds', 144: 'meet', 145: 'forgetst', 146: 'ears', 147: 'stowd', 148: 'hell', 149: 'gird', 150: 'falsely', 151: 'office', 152: 'rift', 153: 'crying', 154: 'beside', 155: 'exchange', 156: 'talking', 157: 'clouds', 158: 'there', 159: 'breath', 160: 'vainer', 161: 'fertile', 162: 'torment', 163: 'waves', 164: 'season', 165: 'fortune', 166: 'gone', 167: 'behold', 168: 'vow', 169: 'sadness', 170: 'playd', 171: 'im', 172: 'unable', 173: 'humble', 174: 'fair', 175: 'unbowdalas', 176: 'herself', 177: 'rather', 178: 'grudge', 179: 'eyelids', 180: 'eithers', 181: 'stained', 182: 'gold', 183: 'propose', 184: 'husbands', 185: 'sail', 186: 'oil', 187: 'dido', 188: 'man', 189: 'fathom', 190: 'sycorax', 191: 'pronounce', 192: 'persuasion', 193: 'did', 194: 'methat', 195: 'sober', 196: 'moonlight', 197: 'infect', 198: 'tarry', 199: 'malignant', 200: 'few', 201: 'son', 202: 'words', 203: 'instruction', 204: 'third', 205: 'dread', 206: 'laughed', 207: 'fill', 208: 'take', 209: 'cannot', 210: 'liest', 211: 'bate', 212: 'this', 213: 'charm', 214: 'joyous', 215: 'privilegio', 216: 'veriest', 217: 'sitting', 218: 'carries', 219: 'mayst', 220: 'likelihood', 221: 'silly', 222: 'suffered', 223: 'sustaining', 224: 'bawling', 225: 'dream', 226: 'miserable', 227: 'drink', 228: 'bleared', 229: 'spend', 230: 'among', 231: 'swinge', 232: 'some', 233: 'fearful', 234: 'kings', 235: 'marriage', 236: 'nutshell', 237: 'twixt', 238: 'much', 239: 'metal', 240: 'common', 241: 'vent', 242: 'endeavour', 243: 'named', 244: 'wink', 245: 'whelp', 246: 'happier', 247: 'hawk', 248: 'tokens', 249: 'end', 250: 'pitch', 251: 'yields', 252: 'natural', 253: 'womanly', 254: 'meaning', 255: 'muscles', 256: 'deceive', 257: 'millions', 258: 'rarity', 259: 'dart', 260: 'verdure', 261: 'swiftly', 262: 'troubled', 263: 'witch', 264: 'importuned', 265: 'ass', 266: 'subjects', 267: 'contending', 268: 'stranger', 269: 'thither', 270: 'teen', 271: 'din', 272: 'gabble', 273: 'thirsty', 274: 'goddess', 275: 'subtle', 276: 'knell', 277: 'mistress', 278: 'miraculous', 279: 'always', 280: 'kiss', 281: 'bodies', 282: 'wipe', 283: 'daughter', 284: 'comes', 285: 'against', 286: 'seachange', 287: 'scapes', 288: 'so', 289: 'thinkst', 290: 'darkness', 291: 'image', 292: 'forgot', 293: 'deserved', 294: 'break', 295: 'notwithstanding', 296: 'mothers', 297: 'grandmother', 298: 'swim', 299: 'music', 300: 'mad', 301: 'substitution', 302: 'morrow', 303: 'single', 304: 'maiden', 305: 'peace', 306: 'pieces', 307: 'before', 308: 'sign', 309: 'riggd', 310: 'ay', 311: 'none', 312: 'fathers', 313: 'approach', 314: 'constant', 315: 'untoward', 316: 'cooling', 317: 'dwell', 318: 'sleeps', 319: 'glut', 320: 'advance', 321: 'pockets', 322: 'heigh', 323: 'sufficient', 324: 'alonso', 325: 'firm', 326: 'african', 327: 'owest', 328: 'losses', 329: 'likes', 330: 'ready', 331: 'enmity', 332: 'next', 333: 'ope', 334: 'blessed', 335: 'afire', 336: 'greyhound', 337: 'hands', 338: 'upons', 339: 'drowsiness', 340: 'bush', 341: 'imprisond', 342: 'servants', 343: 'sensible', 344: 'toward', 345: 'vassal', 346: 'guilt', 347: 'packing', 348: 'slender', 349: 'dare', 350: 'winning', 351: 'comfort', 352: 'fish', 353: 'topsail', 354: 'glosses', 355: 'till', 356: 'safe', 357: 'pleasant', 358: 'removed', 359: 'sort', 360: 'antonio', 361: 'confine', 362: 'drownd', 363: 'yards', 364: 'curse', 365: 'divine', 366: 'mischiefs', 367: 'yes', 368: 'abundance', 369: 'seldom', 370: 'respecting', 371: 'assurance', 372: 'knowst', 373: 'temporal', 374: 'stillvexd', 375: 'waveworn', 376: 'blessd', 377: 'seems', 378: 'knotty', 379: 'times', 380: 'hose', 381: 'dowry', 382: 'dowery', 383: 'food', 384: 'angle', 385: 'mounting', 386: 'beginning', 387: 'peopled', 388: 'sea', 389: 'each', 390: 'docks', 391: 'out', 392: 'does', 393: 'beseech', 394: 'treacherous', 395: 'rub', 396: 'taen', 397: 'thourt', 398: 'pass', 399: 'prescience', 400: 'incharitable', 401: 'children', 402: 'charity', 403: 'remember', 404: 'recount', 405: 'madest', 406: 'wouldst', 407: 'about', 408: 'zenith', 409: 'devil', 410: 'beyond', 411: 'occasion', 412: 'affection', 413: 'rascalwould', 414: 'rid', 415: 'has', 416: 'scrivener', 417: 'cheek', 418: 'nose', 419: 'conycatched', 420: 'five', 421: 'certainly', 422: 'those', 423: 'speak', 424: 'strange', 425: 'courses', 426: 'eyes', 427: 'perfected', 428: 'passion', 429: 'lorded', 430: 'fall', 431: 'tale', 432: 'gallant', 433: 'bianca', 434: 'straws', 435: 'another', 436: 'midst', 437: 'use', 438: 'rotten', 439: 'overtake', 440: 'grandsire', 441: 'perils', 442: 'int', 443: 'too', 444: 'while', 445: 'dry', 446: 'winds', 447: 'knaves', 448: 'sighing', 449: 'pound', 450: 'bay', 451: 'takest', 452: 'whistle', 453: 'knife', 454: 'that', 455: 'besides', 456: 'landed', 457: 'people', 458: 'sore', 459: 'afeard', 460: 'news', 461: 'mark', 462: 'angry', 463: 'seemeth', 464: 'to', 465: 'lieu', 466: 'rememberst', 467: 'garments', 468: 'desert', 469: 'naples', 470: 'born', 471: 'cheeks', 472: 'could', 473: 'assure', 474: 'awful', 475: 'pitied', 476: 'life', 477: 'long', 478: 'may', 479: 'know', 480: 'points', 481: 'plunged', 482: 'six', 483: 'hand', 484: 'amiable', 485: 'volumes', 486: 'scornful', 487: 'inclined', 488: 'entertaind', 489: 'is', 490: 'worms', 491: 'calibans', 492: 'him', 493: 'ends', 494: 'assist', 495: 'sowt', 496: 'liberty', 497: 'bid', 498: 'ditty', 499: 'we', 500: 'request', 501: 'full', 502: 'sunk', 503: 'weak', 504: 'warrants', 505: 'ad', 506: 'patience', 507: 'bootless', 508: 'time', 509: 'door', 510: 'room', 511: 'hint', 512: 'hie', 513: 'earth', 514: 'murmurst', 515: 'into', 516: 'notes', 517: 'chat', 518: 'case', 519: 'stomach', 520: 'marvel', 521: 'less', 522: 'green', 523: 'part', 524: 'preserve', 525: 'stay', 526: 'fears', 527: 'yond', 528: 'collected', 529: 'sawst', 530: 'honest', 531: 'language', 532: 'therefore', 533: 'newdyed', 534: 'filth', 535: 'lovely', 536: 'subdued', 537: 'touchd', 538: 'made', 539: 'hate', 540: 'ever', 541: 'if', 542: 'heavens', 543: 'delicate', 544: 'penetrate', 545: 'brutish', 546: 'villains', 547: 'thunderstroke', 548: 'blemish', 549: 'rash', 550: 'absolute', 551: 'prayer', 552: 'known', 553: 'wouldt', 554: 'talk', 555: 'peevish', 556: 'unluckily', 557: 'a', 558: 'served', 559: 'thats', 560: 'yourself', 561: 'her', 562: 'sense', 563: 'roundly', 564: 'dark', 565: 'it', 566: 'abhorred', 567: 'surge', 568: 'capable', 569: 'dotard', 570: 'joyful', 571: 'ariel', 572: 'cur', 573: 'halves', 574: 'beseem', 575: 'annual', 576: 'twelve', 577: 'manifold', 578: 'far', 579: 'took', 580: 'hearest', 581: 'young', 582: 'aches', 583: 'fever', 584: 'sir', 585: 'parent', 586: 'sty', 587: 'waking', 588: 'yielded', 589: 'dead', 590: 'unwonted', 591: 'sip', 592: 'blots', 593: 'along', 594: 'came', 595: 'frighted', 596: 'government', 597: 'welkins', 598: 'draw', 599: 'malice', 600: 'seawater', 601: 'murdered', 602: 'rushcandle', 603: 'perceive', 604: 'rate', 605: 'here', 606: 'get', 607: 'fresher', 608: 'sphere', 609: 'horn', 610: 'still', 611: 'witherd', 612: 'married', 613: 'faded', 614: 'brother', 615: 'correspondent', 616: 'widow', 617: 'southwest', 618: 'infancy', 619: 'contract', 620: 'issued', 621: 'hold', 622: 'given', 623: 'cum', 624: 'sin', 625: 'cloven', 626: 'become', 627: 'hes', 628: 'powers', 629: 'learn', 630: 'heaven', 631: 'travellest', 632: 'calld', 633: 'wonders', 634: 'fury', 635: 'mountain', 636: 'meads', 637: 'paragon', 638: 'adventure', 639: 'hortensios', 640: 'bold', 641: 'bandy', 642: 'selfsame', 643: 'cast', 644: 'twain', 645: 'exactly', 646: 'cheated', 647: 'when', 648: 'distinctly', 649: 'hail', 650: 'witht', 651: 'waters', 652: 'play', 653: 'grief', 654: 'move', 655: 'quickwitted', 656: 'lords', 657: 'tonight', 658: 'die', 659: 'nimble', 660: 'hearts', 661: 'cheerly', 662: 'mistaking', 663: 'ways', 664: 'winkst', 665: 'sounds', 666: 'gentlemen', 667: 'something', 668: 'didst', 669: 'serves', 670: 'drenched', 671: 'extirpate', 672: 'unwillingly', 673: 'remembering', 674: 'impertinent', 675: 'weeping', 676: 'influence', 677: 'child', 678: 'wild', 679: 'scarlet', 680: 'forth', 681: 'such', 682: 'springs', 683: 'says', 684: 'drunkards', 685: 'library', 686: 'leapd', 687: 'deckd', 688: 'forward', 689: 'bear', 690: 'ship', 691: 'tackle', 692: 'spectacle', 693: 'open', 694: 'performd', 695: 'perishd', 696: 'wheres', 697: 'airs', 698: 'lest', 699: 'confer', 700: 'wiselier', 701: 'parlor', 702: 'carry', 703: 'maintain', 704: 'curst', 705: 'state', 706: 'dear', 707: 'its', 708: 'moralize', 709: 'wind', 710: 'favourable', 711: 'presently', 712: 'swift', 713: 'neglectst', 714: 'flote', 715: 'hit', 716: 'treason', 717: 'love', 718: 'signories', 719: 'questions', 720: 'throw', 721: 'lost', 722: 'fished', 723: 'husks', 724: 'latter', 725: 'canst', 726: 'linens', 727: 'visits', 728: 'nerves', 729: 'dough', 730: 'desperation', 731: 'pocket', 732: 'courtsied', 733: 'ivy', 734: 'stinging', 735: 'bedazzled', 736: 'diligence', 737: 'brance', 738: 'bidding', 739: 'allot', 740: 'scape', 741: 'sakes', 742: 'debt', 743: 'reason', 744: 'oerprized', 745: 'duke', 746: 'waits', 747: 'sends', 748: 'harm', 749: 'question', 750: 'see', 751: 'barren', 752: 'endowd', 753: 'maimd', 754: 'coronet', 755: 'payment', 756: 'arrived', 757: 'conferring', 758: 'temple', 759: 'villain', 760: 'plague', 761: 'yarely', 762: 'month', 763: 'ashore', 764: 'contrary', 765: 'weigh', 766: 'as', 767: 'kate', 768: 'form', 769: 'amazed', 770: 'please', 771: 'whoreson', 772: 'carthage', 773: 'letst', 774: 'violate', 775: 'spirits', 776: 'conceive', 777: 'miracle', 778: 'borne', 779: 'thy', 780: 'ashamed', 781: 'vail', 782: 'between', 783: 'ancient', 784: 'odd', 785: 'exercise', 786: 'tortoise', 787: 'governor', 788: 'external', 789: 'levied', 790: 'basis', 791: 'misst', 792: 'truer', 793: 'nor', 794: 'quick', 795: 'marrying', 796: 'howl', 797: 'traffic', 798: 'control', 799: 'an', 800: 'darest', 801: 'apparition', 802: 'replied', 803: 'unknit', 804: 'can', 805: 'believe', 806: 'quality', 807: 'destroy', 808: 'awaked', 809: 'iswhich', 810: 'flamed', 811: 'fade', 812: 'sent', 813: 'vineyard', 814: 'fie', 815: 'drops', 816: 'two', 817: 'discretion', 818: 'ebb', 819: 'ten', 820: 'army', 821: 'cheer', 822: 'homage', 823: 'bigger', 824: 'happily', 825: 'do', 826: 'heardst', 827: 'minute', 828: 'women', 829: 'seem', 830: 'these', 831: 'of', 832: 'pour', 833: 'big', 834: 'noisemaker', 835: 'one', 836: 'deign', 837: 'salt', 838: 'rich', 839: 'katharina', 840: 'missd', 841: 'habit', 842: 'europe', 843: 'engine', 844: 'hagseed', 845: 'solum', 846: 'unstanched', 847: 'inform', 848: 'pisa', 849: 'tempest', 850: 'enemy', 851: 'awake', 852: 'afraid', 853: 'attendst', 854: 'wills', 855: 'sad', 856: 'large', 857: 'eats', 858: 'come', 859: 'grown', 860: 'thine', 861: 'boot', 862: 'caliban', 863: 'surges', 864: 'court', 865: 'acorn', 866: 'sleepdie', 867: 'intolerable', 868: 'newbuilt', 869: 'fairer', 870: 'worshipful', 871: 'shot', 872: 'joy', 873: 'hair', 874: 'appendix', 875: 'sword', 876: 'francisco', 877: 'marks', 878: 'wast', 879: 'beetles', 880: 'claribel', 881: 'endured', 882: 'bettering', 883: 'fuel', 884: 'waist', 885: 'prerogative', 886: 'buds', 887: 'louder', 888: 'notorious', 889: 'knew', 890: 'thick', 891: 'master', 892: 'strong', 893: 'mercy', 894: 'speakst', 895: 'name', 896: 'many', 897: 'kissd', 898: 'isle', 899: 'gentleness', 900: 'underfoot', 901: 'else', 902: 'soundly', 903: 'sullen', 904: 'pox', 905: 'hence', 906: 'jest', 907: 'twenty', 908: 'mariners', 909: 'beating', 910: 'stripes', 911: 'fire', 912: 'suckd', 913: 'encounter', 914: 'add', 915: 'thank', 916: 'away', 917: 'stuff', 918: 'street', 919: 'gods', 920: 'fallen', 921: 'advantage', 922: 'dog', 923: 'at', 924: 'often', 925: 'omit', 926: 'nigh', 927: 'rage', 928: 'washing', 929: 'budding', 930: 'kindness', 931: 'silken', 932: 'wrings', 933: 'kneeld', 934: 'divide', 935: 'toads', 936: 'lucentio', 937: 'help', 938: 'home', 939: 'face', 940: 'loving', 941: 'never', 942: 'drown', 943: 'them', 944: 'dukedom', 945: 'beam', 946: 'night', 947: 'leave', 948: 'send', 949: 'town', 950: 'purposed', 951: 'got', 952: 'bitter', 953: 'retired', 954: 'little', 955: 'pinch', 956: 'tread', 957: 'showd', 958: 'spare', 959: 'lukes', 960: 'hereof', 961: 'pleasure', 962: 'cramps', 963: 'field', 964: 'house', 965: 'fell', 966: 'truth', 967: 'cockerel', 968: 'backs', 969: 'sailmaker', 970: 'laughter', 971: 'father', 972: 'lunatic', 973: 'bed', 974: 'excel', 975: 'self', 976: 'very', 977: 'fraughting', 978: 'charms', 979: 'queen', 980: 'below', 981: 'ha', 982: 'meddle', 983: 'fool', 984: 'becomes', 985: 'slippd', 986: 'studies', 987: 'wherein', 988: 'owe', 989: 'stars', 990: 'what', 991: 'knocks', 992: 'heavy', 993: 'jealous', 994: 'his', 995: 'storms', 996: 'suffer', 997: 'contraries', 998: 'crow', 999: 'things', 1000: 'perfect', 1001: 'cares', 1002: 'keep', 1003: 'govern', 1004: 'entrails', 1005: 'least', 1006: 'folks', 1007: 'grumblings', 1008: 'himself', 1009: 'trust', 1010: 'promise', 1011: 'blow', 1012: 'abused', 1013: 'burst', 1014: 'brine', 1015: 'days', 1016: 'burn', 1017: 'manacle', 1018: 'weapon', 1019: 'feet', 1020: 'lodging', 1021: 'spendthrift', 1022: 'hanged', 1023: 'farther', 1024: 'commands', 1025: 'imposter', 1026: 'innocent', 1027: 'maintenance', 1028: 'simile', 1029: 'widows', 1030: 'theres', 1031: 'deafness', 1032: 'crown', 1033: 'rogue', 1034: 'witness', 1035: 'rend', 1036: 'wisely', 1037: 'worst', 1038: 'nettleseed', 1039: 'yea', 1040: 'guard', 1041: 'sink', 1042: 'magistrate', 1043: 'either', 1044: 'shes', 1045: 'bank', 1046: 'themselves', 1047: 'tended', 1048: 'world', 1049: 'insolent', 1050: 'quit', 1051: 'ferdinand', 1052: 'lady', 1053: 'knowing', 1054: 'most', 1055: 'parallel', 1056: 'dispersed', 1057: 'pine', 1058: 'vouched', 1059: 'illseeming', 1060: 'transported', 1061: 'bad', 1062: 'giddy', 1063: 'befal', 1064: 'wisdom', 1065: 'oer', 1066: 'warrant', 1067: 'qualities', 1068: 'prospero', 1069: 'sons', 1070: 'from', 1071: 'virtue', 1072: 'friends', 1073: 'fly', 1074: 'bend', 1075: 'rest', 1076: 'pitchers', 1077: 'learnedly', 1078: 'have', 1079: 'withal', 1080: 'cost', 1081: 'needs', 1082: 'royalty', 1083: 'blessedly', 1084: 'entitle', 1085: 'answer', 1086: 'wombs', 1087: 'smile', 1088: 'furlongs', 1089: 'water', 1090: 'everything', 1091: 'authority', 1092: 'entertainment', 1093: 'rats', 1094: 'execute', 1095: 'fast', 1096: 'share', 1097: 'key', 1098: 'pains', 1099: 'secure', 1100: 'expect', 1101: 'gate', 1102: 'she', 1103: 'grass', 1104: 'topmast', 1105: 'find', 1106: 'groand', 1107: 'sands', 1108: 'whose', 1109: 'feast', 1110: 'almost', 1111: 'whats', 1112: 'instinctively', 1113: 'winding', 1114: 'will', 1115: 'worldly', 1116: 'frosts', 1117: 'cozen', 1118: 'methinks', 1119: 'farewell', 1120: 'deck', 1121: 'haply', 1122: 'thousand', 1123: 'owes', 1124: 'repose', 1125: 'freshbrook', 1126: 'having', 1127: 'island', 1128: 'plaster', 1129: 'done', 1130: 'arise', 1131: 'duty', 1132: 'age', 1133: 'fine', 1134: 'he', 1135: 'bright', 1136: 'banquet', 1137: 'serve', 1138: 'smooth', 1139: 'moved', 1140: 'busy', 1141: 'sweetly', 1142: 'brown', 1143: 'thinks', 1144: 'glances', 1145: 'hurried', 1146: 'youre', 1147: 'left', 1148: 'prince', 1149: 'promised', 1150: 'garden', 1151: 'glance', 1152: 'aught', 1153: 'slit', 1154: 'cease', 1155: 'unkind', 1156: 'bids', 1157: 'prosper', 1158: 'tis', 1159: 'stooping', 1160: 'bade', 1161: 'enough', 1162: 'felt', 1163: 'health', 1164: 'affords', 1165: 'touch', 1166: 'god', 1167: 'hush', 1168: 'the', 1169: 'whereon', 1170: 'reputed', 1171: 'grieved', 1172: 'went', 1173: 'tutors', 1174: 'hangd', 1175: 'patient', 1176: 'noble', 1177: 'privately', 1178: 'better', 1179: 'sailors', 1180: 'spirit', 1181: 'warning', 1182: 'should', 1183: 'miss', 1184: 'neapolitan', 1185: 'mighty', 1186: 'occupation', 1187: 'miracles', 1188: 'gape', 1189: 'sorrow', 1190: 'way', 1191: 'revenged', 1192: 'trouble', 1193: 'speaking', 1194: 'murder', 1195: 'ahold', 1196: 'mast', 1197: 'bloody', 1198: 'delivered', 1199: 'work', 1200: 'twere', 1201: 'doth', 1202: 'confined', 1203: 'merriment', 1204: 'foison', 1205: 'tongue', 1206: 'bones', 1207: 'nought', 1208: 'kept', 1209: 'on', 1210: 'visit', 1211: 'warm', 1212: 'lie', 1213: 'growing', 1214: 'say', 1215: 'heavenly', 1216: 'lies', 1217: 'bountiful', 1218: 'pen', 1219: 'berries', 1220: 'aboard', 1221: 'wrinkled', 1222: 'knot', 1223: 'banishd', 1224: 'wish', 1225: 'bout', 1226: 'sayest', 1227: 'are', 1228: 'tremble', 1229: 'officer', 1230: 'sound', 1231: 'mess', 1232: 'white', 1233: 'memory', 1234: 'strength', 1235: 'unapt', 1236: 'bedfellow', 1237: 'further', 1238: 'aside', 1239: 'ordered', 1240: 'somebody', 1241: 'myself', 1242: 'years', 1243: 'qualified', 1244: 'haven', 1245: 'disposed', 1246: 'only', 1247: 'spoiled', 1248: 'sway', 1249: 'would', 1250: 'supremacy', 1251: 'afternoon', 1252: 'seest', 1253: 'dinner', 1254: 'esteem', 1255: 'mallows', 1256: 'us', 1257: 'syllable', 1258: 'tunis', 1259: 'ont', 1260: 'perfumed', 1261: 'villany', 1262: 'gun', 1263: 'evermore', 1264: 'shall', 1265: 'surely', 1266: 'shalt', 1267: 'neglecting', 1268: 'supper', 1269: 'bergamo', 1270: 'happened', 1271: 'simple', 1272: 'story', 1273: 'tricks', 1274: 'gallows', 1275: 'souls', 1276: 'mightst', 1277: 'look', 1278: 'were', 1279: 'with', 1280: 'not', 1281: 'masters', 1282: 'cram', 1283: 'majesty', 1284: 'ungently', 1285: 'sovereign', 1286: 'dollar', 1287: 'told', 1288: 'bet', 1289: 'report', 1290: 'your', 1291: 'otherwise', 1292: 'stomachs', 1293: 'free', 1294: 'outright', 1295: 'lands', 1296: 'dearest', 1297: 'kernels', 1298: 'lying', 1299: 'shines', 1300: 'keeper', 1301: 'trial', 1302: 'space', 1303: 'golden', 1304: 'sit', 1305: 'sake', 1306: 'bleeds', 1307: 'begin', 1308: 'chirurgeonly', 1309: 'which', 1310: 'follow', 1311: 'measures', 1312: 'sadly', 1313: 'harp', 1314: 'north', 1315: 'worse', 1316: 'without', 1317: 'deceiving', 1318: 'petruchio', 1319: 'prithee', 1320: 'four', 1321: 'seeming', 1322: 'moon', 1323: 'speech', 1324: 'token', 1325: 'design', 1326: 'precursors', 1327: 'hanging', 1328: 'pinchd', 1329: 'houses', 1330: 'honeycomb', 1331: 'storm', 1332: 'tell', 1333: 'moody', 1334: 'feed', 1335: 'unmitigable', 1336: 'softly', 1337: 'dearst', 1338: 'fringed', 1339: 'chide', 1340: 'holidame', 1341: 'forbid', 1342: 'conditions', 1343: 'confidence', 1344: 'telling', 1345: 'neptune', 1346: 'cloudy', 1347: 'though', 1348: 'deny', 1349: 'tribute', 1350: 'obey', 1351: 'harbour', 1352: 'round', 1353: 'thoughts', 1354: 'hard', 1355: 'screen', 1356: 'currish', 1357: 'didos', 1358: 'word', 1359: 'entreat', 1360: 'wert', 1361: 'put', 1362: 'cake', 1363: 'pearl', 1364: 'cherubim', 1365: 'looks', 1366: 'race', 1367: 'prevent', 1368: 'vigour', 1369: 'followd', 1370: 'thanks', 1371: 'seek', 1372: 'learning', 1373: 'setebos', 1374: 'task', 1375: 'supposes', 1376: 'breathes', 1377: 'biancas', 1378: 'formd', 1379: 'cabin', 1380: 'depend', 1381: 'event', 1382: 'elements', 1383: 'strokedst', 1384: 'escape', 1385: 'tides', 1386: 'schoolmaster', 1387: 'lungs', 1388: 'usurp', 1389: 'tawny', 1390: 'overblown', 1391: 'cursed', 1392: 'shrew', 1393: 'slept', 1394: 'resist', 1395: 'meant', 1396: 'alive', 1397: 'hoop', 1398: 'moving', 1399: 'behind', 1400: 'sister', 1401: 'roarers', 1402: 'alack', 1403: 'pluck', 1404: 'depth', 1405: 'controversy', 1406: 'being', 1407: 'body', 1408: 'tutor', 1409: 'gremio', 1410: 'under', 1411: 'their', 1412: 'galld', 1413: 'badest', 1414: 'heir', 1415: 'hests', 1416: 'bove', 1417: 'stand', 1418: 'mended', 1419: 'corners', 1420: 'damnd', 1421: 'mightno', 1422: 'red', 1423: 'totally', 1424: 'soon', 1425: 'after', 1426: 'other', 1427: 'they', 1428: 'betid', 1429: 'must', 1430: 'hadst', 1431: 'set', 1432: 'catches', 1433: 'spent', 1434: 'refusing', 1435: 'confederates', 1436: 'places', 1437: 'manage', 1438: 'froward', 1439: 'run', 1440: 'sees', 1441: 'hunted', 1442: 'travellers', 1443: 'necessaries', 1444: 'rock', 1445: 'natures', 1446: 'fellow', 1447: 'colours', 1448: 'lose', 1449: 'sour', 1450: 'earthy', 1451: 'am', 1452: 'leagues', 1453: 'demand', 1454: 'prayers', 1455: 'credit', 1456: 'bauble', 1457: 'howld', 1458: 'letters', 1459: 'uneasy', 1460: 'perfection', 1461: 'whilst', 1462: 'mischance', 1463: 'try', 1464: 'widechappd', 1465: 'lower', 1466: 'enforced', 1467: 'harsh', 1468: 'think', 1469: 'lucentios', 1470: 'receives', 1471: 'i', 1472: 'holp', 1473: 'expound', 1474: 'breasts', 1475: 'short', 1476: 'tamed', 1477: 'madman', 1478: 'contentious', 1479: 'heart', 1480: 'grand', 1481: 'whiles', 1482: 'offended', 1483: 'faults', 1484: 'subject', 1485: 'gentle', 1486: 'veins', 1487: 'wrong', 1488: 'able', 1489: 'been', 1490: 'complexion', 1491: 'great', 1492: 'woe', 1493: 'inveterate', 1494: 'want', 1495: 'past', 1496: 'reverend', 1497: 'potent', 1498: 'three', 1499: 'devils', 1500: 'within', 1501: 'sight', 1502: 'whence', 1503: 'trunk', 1504: 'disarm', 1505: 'drunk', 1506: 'batfowling', 1507: 'piteous', 1508: 'braved', 1509: 'then', 1510: 'yours', 1511: 'reeds', 1512: 'joves', 1513: 'ye', 1514: 'evil', 1515: 'litter', 1516: 'together', 1517: 'stroke', 1518: 'parsley', 1519: 'rapt', 1520: 'bow', 1521: 'eyne', 1522: 'hundred', 1523: 'supposing', 1524: 'backward', 1525: 'sans', 1526: 'shape', 1527: 'creature', 1528: 'biondello', 1529: 'steaded', 1530: 'drawn', 1531: 'bite', 1532: 'milan', 1533: 'any', 1534: 'nobly', 1535: 'article', 1536: 'hast', 1537: 'who', 1538: 'kind', 1539: 'glasses', 1540: 'vast', 1541: 'dally', 1542: 'greater', 1543: 'imprimendum', 1544: 'rack', 1545: 'books', 1546: 'saw', 1547: 'hastywitted', 1548: 'pale', 1549: 'weakness', 1550: 'begun', 1551: 'weep', 1552: 'exact', 1553: 'worthy', 1554: 'wine', 1555: 'upstaringthen', 1556: 'beget', 1557: 'signs', 1558: 'crowns', 1559: 'mocking', 1560: 'hag', 1561: 'goodness', 1562: 'coral', 1563: 'lush', 1564: 'freshness', 1565: 'infused', 1566: 'copatain', 1567: 'husband', 1568: 'busied', 1569: 'beheld', 1570: 'durst', 1571: 'o', 1572: 'church', 1573: 'comforter', 1574: 'year', 1575: 'wondrous', 1576: 'circumstances', 1577: 'undergoing', 1578: 'won', 1579: 'down', 1580: 'hoist', 1581: 'curld', 1582: 'standing', 1583: 'asking', 1584: 'pursue', 1585: 'neck', 1586: 'sure', 1587: 'laugh', 1588: 'shake', 1589: 'since', 1590: 'above', 1591: 'pure', 1592: 'eyeball', 1593: 'heres', 1594: 'themdingdong', 1595: 'bereft', 1596: 'print', 1597: 'my', 1598: 'uncle', 1599: 'perfidioushe', 1600: 'pity', 1601: 'seanymphs', 1602: 'wreck', 1603: 'tilth', 1604: 'feather', 1605: 'wives', 1606: 'adrian', 1607: 'misses', 1608: 'suit', 1609: 'whom', 1610: 'cure', 1611: 'entreated', 1612: 'remain', 1613: 'forget', 1614: 'savage', 1615: 'spy', 1616: 'piece', 1617: 'ill', 1618: 'up', 1619: 'win', 1620: 'carcass', 1621: 'changes', 1622: 'graced', 1623: 'closeness', 1624: 'millwheels', 1625: 'easy', 1626: 'gentleman', 1627: 'wrought', 1628: 'wall', 1629: 'had', 1630: 'limit', 1631: 'lord', 1632: 'quaint', 1633: 'attentive', 1634: 'best', 1635: 'weather', 1636: 'staind', 1637: 'ere', 1638: 'heard', 1639: 'hark', 1640: 'nothing', 1641: 'perdition', 1642: 'even', 1643: 'weakly', 1644: 'spangle', 1645: 'save', 1646: 'back', 1647: 'lives', 1648: 'shrugst', 1649: 'peg', 1650: 'dashes', 1651: 'swoln', 1652: 'secret', 1653: 'wherefore', 1654: 'neer', 1655: 'confounds', 1656: 'crept', 1657: 'momentary', 1658: 'reportst', 1659: 'purpose', 1660: 'surety', 1661: 'doubt', 1662: 'lend', 1663: 'strays', 1664: 'shapes', 1665: 'wench', 1666: 'brushd', 1667: 'bowd', 1668: 'canker', 1669: 'birth', 1670: 'met', 1671: 'venture', 1672: 'charge', 1673: 'howling', 1674: 'falsehood', 1675: 'forthcoming', 1676: 'undo', 1677: 'swallowd', 1678: 'dull', 1679: 'porridge', 1680: 'idle', 1681: 'liberal', 1682: 'nymph', 1683: 'beasts', 1684: 'minister', 1685: 'tender', 1686: 'cried', 1687: 'painted', 1688: 'demanded', 1689: 'ground', 1690: 'popular', 1691: 'auspicious', 1692: 'roots', 1693: 'hailed', 1694: 'conceives', 1695: 'midnight', 1696: 'raised', 1697: 'kneel', 1698: 'drowned', 1699: 'fellows', 1700: 'dost', 1701: 'mind', 1702: 'urchins', 1703: 'deer', 1704: 'terrible', 1705: 'hat', 1706: 'padua', 1707: 'uninhabitable', 1708: 'cerns', 1709: 'appointed', 1710: 'pittance', 1711: 'sayst', 1712: 'mistake', 1713: 'frost', 1714: 'match', 1715: 'merry', 1716: 'incapable', 1717: 'dropping', 1718: 'fated', 1719: 'servant', 1720: 'possesses', 1721: 'sorceries', 1722: 'study', 1723: 'lets', 1724: 'whist', 1725: 'oak', 1726: 'hid', 1727: 'bermoothes', 1728: 'mistakings', 1729: 'power', 1730: 'just', 1731: 'brought', 1732: 'heaved', 1733: 'was', 1734: 'executing', 1735: 'care', 1736: 'discharge', 1737: 'maincourse', 1738: 'breasted', 1739: 'held', 1740: 'providence', 1741: 'imagination', 1742: 'boy', 1743: 'turnd', 1744: 'yet', 1745: 'lodged', 1746: 'bears', 1747: 'wear', 1748: 'act', 1749: 'angels', 1750: 'watch', 1751: 'hither', 1752: 'immortal', 1753: 'troops', 1754: 'em', 1755: 'theirs', 1756: 'rabbit', 1757: 'old', 1758: 'woman', 1759: 'tranio', 1760: 'swear', 1761: 'blueeyed', 1762: 'princesses', 1763: 'dam', 1764: 'droppd', 1765: 'visitor', 1766: 'rebel', 1767: 'creatures', 1768: 'thee', 1769: 'thou', 1770: 'mediterranean', 1771: 'wager', 1772: 'new', 1773: 'trod', 1774: 'besiege', 1775: 'clerk', 1776: 'highness', 1777: 'sleepy', 1778: 'journey', 1779: 'wet', 1780: 'mother', 1781: 'gently', 1782: 'witnesses', 1783: 'undone', 1784: 'gentlewoman', 1785: 'mar', 1786: 'be', 1787: 'dive', 1788: 'lack', 1789: 'obedience', 1790: 'fame', 1791: 'dams', 1792: 'whither', 1793: 'henceforth', 1794: 'where', 1795: 'arrival', 1796: 'prevented', 1797: 'outward', 1798: 'university', 1799: 'crossd', 1800: 'merely', 1801: 'shore', 1802: 'own', 1803: 'purposes', 1804: 'goodly', 1805: 'monstrous', 1806: 'foolish', 1807: 'suppertime', 1808: 'true', 1809: 'oweth', 1810: 'pearls', 1811: 'aimd', 1812: 'obedient', 1813: 'makest', 1814: 'prison', 1815: 'quiet', 1816: 'jarring', 1817: 'lead', 1818: 'cap', 1819: 'fate', 1820: 'cracks', 1821: 'continue', 1822: 'slave', 1823: 'mong', 1824: 'wife', 1825: 'me', 1826: 'eat', 1827: 'garment', 1828: 'compare', 1829: 'welcome', 1830: 'sinner', 1831: 'preciously', 1832: 'dew', 1833: 'countenance', 1834: 'succession', 1835: 'loathness', 1836: 'close', 1837: 'ones', 1838: 'tune', 1839: 'dwelling', 1840: 'ho', 1841: 'cabins', 1842: 'twas', 1843: 'throat', 1844: 'painful', 1845: 'through', 1846: 'command', 1847: 'poverty', 1848: 'shipping', 1849: 'wore', 1850: 'trash', 1851: 'flame', 1852: 'wit', 1853: 'arms', 1854: 'again', 1855: 'laying', 1856: 'ear', 1857: 'rarities', 1858: 'truly', 1859: 'afric', 1860: 'raising', 1861: 'straight', 1862: 'grumio', 1863: 'go', 1864: 'hearing', 1865: 'changing', 1866: 'window', 1867: 'bark', 1868: 'magic', 1869: 'drowning', 1870: 'taken', 1871: 'aground', 1872: 'acre', 1873: 'stinking', 1874: 'condition', 1875: 'our', 1876: 'sprites', 1877: 'in', 1878: 'muddy', 1879: 'turns', 1880: 'list', 1881: 'no', 1882: 'last', 1883: 'stick', 1884: 'changed', 1885: 'fain', 1886: 'fleet', 1887: 'advantageous', 1888: 'beloved', 1889: 'overtopping', 1890: 'matter', 1891: 'seastorm', 1892: 'said', 1893: 'mortal', 1894: 'shouldst', 1895: 'bring', 1896: 'abysm', 1897: 'wound', 1898: 'teach', 1899: 'envy', 1900: 'pike', 1901: 'roar', 1902: 'ring', 1903: 'awakend', 1904: 'vessel', 1905: 'featly', 1906: 'shut', 1907: 'bowl', 1908: 'vincentio', 1909: 'premises', 1910: 'inquisition', 1911: 'temperance', 1912: 'relieve', 1913: 'deservedly', 1914: 'fountain', 1915: 'death', 1916: 'hear', 1917: 'enemies', 1918: 'beautys', 1919: 'cloak', 1920: 'painfully', 1921: 'make', 1922: 'ado', 1923: 'vile', 1924: 'bore', 1925: 'runs', 1926: 'like', 1927: 'winner', 1928: 'camest', 1929: 'seasorrow', 1930: 'climate', 1931: 'nay', 1932: 'eer', 1933: 'first', 1934: 'revenue', 1935: 'star', 1936: 'meal', 1937: 'ignorant', 1938: 'law', 1939: 'hagbornnot', 1940: 'islands', 1941: 'ease', 1942: 'safely', 1943: 'profit', 1944: 'arts', 1945: 'girl', 1946: 'happy', 1947: 'once', 1948: 'thence', 1949: 'craves', 1950: 'hortensio', 1951: 'person', 1952: 'appears', 1953: 'tot', 1954: 'hope', 1955: 'merchant', 1956: 'sweat', 1957: 'grew', 1958: 'rarest', 1959: 'ooze', 1960: 'looking', 1961: 'fortunes', 1962: 'sharp', 1963: 'human', 1964: 'daughters', 1965: 'beat', 1966: 'ignoble', 1967: 'pedant', 1968: 'join', 1969: 'bias', 1970: 'nature', 1971: 'mine', 1972: 'used', 1973: 'dolour', 1974: 'strive', 1975: 'winters', 1976: 'strangers', 1977: 'interrupted', 1978: 'right', 1979: 'prisoners', 1980: 'ourselves', 1981: 'honour', 1982: 'poisonous', 1983: 'direful', 1984: 'toil', 1985: 'brave', 1986: 'virgin', 1987: 'you', 1988: 'widest', 1989: 'service', 1990: 'hourly', 1991: 'hath', 1992: 'need', 1993: 'inaccessible', 1994: 'perish', 1995: 'plantation', 1996: 'fooling', 1997: 'sufferd', 1998: 'show', 1999: 'lift', 2000: 'wide', 2001: 'than', 2002: 'blister', 2003: 'half', 2004: 'bless', 2005: 'widower', 2006: 'more', 2007: 'died', 2008: 'and', 2009: 'gaol', 2010: 'knavery', 2011: 'raging', 2012: 'provokes', 2013: 'hound', 2014: 'allay', 2015: 'princely', 2016: 'headstrong', 2017: 'knave', 2018: 'wicked', 2019: 'weeks', 2020: 'bird', 2021: 'boarded', 2022: 'mid', 2023: 'suits', 2024: 'rule', 2025: 'hang', 2026: 'bliss', 2027: 'remembrance', 2028: 'moral', 2029: 'fortitude', 2030: 'unto', 2031: 'agree', 2032: 'frivolous', 2033: 'forthwith', 2034: 'droop', 2035: 'shift', 2036: 'prime', 2037: 'parts', 2038: 'amazement', 2039: 'thunderclaps', 2040: 'sky', 2041: 'loss', 2042: 'curtains', 2043: 'abhorrd', 2044: 'thus', 2045: 'return', 2046: 'honourd', 2047: 'fear', 2048: 'sulphurous', 2049: 'sigh', 2050: 'king', 2051: 'sweet', 2052: 'hours', 2053: 'cold', 2054: 'nows', 2055: 'city', 2056: 'felony', 2057: 'grave', 2058: 'offerd', 2059: 'content', 2060: 'company', 2061: 'threatening', 2062: 'careful', 2063: 'taught', 2064: 'accident', 2065: 'mouths', 2066: 'traitor', 2067: 'horses', 2068: 'flatlong', 2069: 'ist', 2070: 'hits', 2071: 'nook', 2072: 'art', 2073: 'hour', 2074: 'means', 2075: 'heed', 2076: 'sighs', 2077: 'all', 2078: 'invisible', 2079: 'gates', 2080: 'paid', 2081: 'wolves', 2082: 'air', 2083: 'spoke', 2084: 'cambio', 2085: 'faith', 2086: 'off', 2087: 'how', 2088: 'unwholesome', 2089: 'argier', 2090: 'well', 2091: 'foul', 2092: 'bats', 2093: 'affections', 2094: 'let', 2095: 'but', 2096: 'pleased', 2097: 'spiriting', 2098: 'wood', 2099: 'advocate', 2100: 'groans', 2101: 'abide', 2102: 'forswear', 2103: 'dignity', 2104: 'ravens', 2105: 'hearkens', 2106: 'freckled', 2107: 'rope', 2108: 'sidestitches', 2109: 'or', 2110: 'wreckd', 2111: 'gonzalo', 2112: 'trident', 2113: 'late', 2114: 'business', 2115: 'sun', 2116: 'soft', 2117: 'cable', 2118: 'fouler', 2119: 'beak', 2120: 'upon', 2121: 'hatches', 2122: 'feel', 2123: 'yare', 2124: 'drop', 2125: 'aeneas', 2126: 'light', 2127: 'by', 2128: 'chance', 2129: 'begins', 2130: 'cock', 2131: 'corn', 2132: 'bowsprit', 2133: 'silence', 2134: 'apple', 2135: 'brings', 2136: 'thin', 2137: 'faced', 2138: 'sirrah', 2139: 'andyonder', 2140: 'theyre', 2141: 'give', 2142: 'sighd', 2143: 'soul', 2144: 'whirlwinds', 2145: 'contented', 2146: 'cry', 2147: 'wealthy', 2148: 'miranda', 2149: 'baked', 2150: 'forgets', 2151: 'deep', 2152: 'asleep', 2153: 'bestir', 2154: 'bell', 2155: 'sowing', 2156: 'live', 2157: 'indeed', 2158: 'admit', 2159: 'head', 2160: 'honours', 2161: 'sovereignty', 2162: 'ride', 2163: 'strike', 2164: 'choose', 2165: 'commits', 2166: 'lightnings', 2167: 'call', 2168: 'foaming', 2169: 'day', 2170: 'weighd', 2171: 'italy', 2172: 'why', 2173: 'damned', 2174: 'grant', 2175: 'fetch', 2176: 'maid', 2177: 'senses', 2178: 'embrace', 2179: 'knock', 2180: 'sleep', 2181: 'whores', 2182: 'compassion', 2183: 'calldst', 2184: 'sebastian'}\n"
          ],
          "name": "stdout"
        }
      ]
    },
    {
      "cell_type": "code",
      "metadata": {
        "colab": {
          "base_uri": "https://localhost:8080/"
        },
        "id": "6sTE6f8cpQFE",
        "outputId": "027ac7d7-72c7-4691-c68c-b70de724a0ed"
      },
      "source": [
        "# create input-context pairs\n",
        "train_sequence = [vocab[word] for word in tokens]\n",
        "\n",
        "window_size = 4\n",
        "positive_skip_grams, _ = tf.keras.preprocessing.sequence.skipgrams(\n",
        "      train_sequence, \n",
        "      vocabulary_size=vocab_size+1,\n",
        "      window_size=window_size,\n",
        "      negative_samples=0,\n",
        "      categorical=True,\n",
        "      shuffle=True)\n",
        "print(len(positive_skip_grams))"
      ],
      "execution_count": 6,
      "outputs": [
        {
          "output_type": "stream",
          "text": [
            "75848\n"
          ],
          "name": "stdout"
        }
      ]
    },
    {
      "cell_type": "code",
      "metadata": {
        "colab": {
          "base_uri": "https://localhost:8080/"
        },
        "id": "GNAmBgWGpsIy",
        "outputId": "2891f966-47dd-4724-affd-e2af2821dbee"
      },
      "source": [
        "for target, context in positive_skip_grams[:8]:\n",
        "  #if target == 2184:\n",
        "  print(f\"({target}, {context}): ({inverse_vocab[target]}, {inverse_vocab[context]})\")\n"
      ],
      "execution_count": 7,
      "outputs": [
        {
          "output_type": "stream",
          "text": [
            "(2050, 1045): (king, bank)\n",
            "(2104, 1597): (ravens, my)\n",
            "(561, 1794): (her, where)\n",
            "(1715, 1987): (merry, you)\n",
            "(1794, 1427): (where, they)\n",
            "(923, 1168): (at, the)\n",
            "(1471, 1168): (i, the)\n",
            "(1606, 2109): (adrian, or)\n"
          ],
          "name": "stdout"
        }
      ]
    },
    {
      "cell_type": "code",
      "metadata": {
        "id": "Ff8tVlcuEmjD"
      },
      "source": [
        "batchSize = 32\n",
        "bufferSize = len(positive_skip_grams)\n",
        "\n",
        "asNum = np.array(positive_skip_grams)\n",
        "test_dataset = tf.data.Dataset.from_tensor_slices((asNum[:,0], asNum[:,1]))\n",
        "\n",
        "test_dataset = test_dataset.shuffle(bufferSize)\n",
        "test_dataset = test_dataset.batch(batchSize)\n",
        "test_dataset = test_dataset.cache()\n",
        "test_dataset = test_dataset.prefetch(buffer_size=tf.data.AUTOTUNE)\n",
        "\n"
      ],
      "execution_count": 8,
      "outputs": []
    },
    {
      "cell_type": "code",
      "metadata": {
        "colab": {
          "base_uri": "https://localhost:8080/"
        },
        "id": "CLh1MuR9GfYS",
        "outputId": "566d7043-d7c0-46bf-b036-2113587c0a92"
      },
      "source": [
        "for i in test_dataset:\n",
        "  print(i)\n",
        "  break"
      ],
      "execution_count": 9,
      "outputs": [
        {
          "output_type": "stream",
          "text": [
            "(<tf.Tensor: shape=(32,), dtype=int64, numpy=\n",
            "array([ 128, 2153,  397, 1877, 1371, 1264, 1278, 1182,  682, 1733,  232,\n",
            "        826, 1168, 2176, 2049, 2008, 1562, 1492,  943, 1916, 2006, 1054,\n",
            "        858, 1772, 2008, 1209, 1987, 2111, 1969,  192, 1072,  831])>, <tf.Tensor: shape=(32,), dtype=int64, numpy=\n",
            "array([1209, 1980,  794,  557,  668,  835, 2008,  557,   45, 1780,  170,\n",
            "       1309, 1431,  939, 1168,  586, 1227, 1987, 1877, 1256,  641, 1651,\n",
            "       2172, 1378,  915,  557, 2184,  489, 1280,  839,  116, 1278])>)\n"
          ],
          "name": "stdout"
        }
      ]
    },
    {
      "cell_type": "markdown",
      "metadata": {
        "id": "b5Ai61RIAOK6"
      },
      "source": [
        "## 2.2 Model\n",
        "- implement a skip Gram model to create word embeddings\n",
        "- use keras layer for the model\n",
        "- overwrite the build function\n",
        "  - use the tf.nn.nec_loss\n",
        "  - only the outputs for the target and the sampled words can be computed this way\n",
        "  - initalize the vocabulary in the __init__ function\n",
        "  - get the embeddings in the call function\n",
        "  - get the embeddings using tf.nn.embedding_lookup\n",
        "  average the batch manually\n"
      ]
    },
    {
      "cell_type": "code",
      "metadata": {
        "id": "9xDroWoMIz-h"
      },
      "source": [
        "class Word2Vec(Layer):\n",
        "  def __init__(self, vocabSize, embeddingSize):\n",
        "    super(Word2Vec, self).__init__()\n",
        "\n",
        "    self.vocabSize = vocabSize\n",
        "    self.embeddingSize = embeddingSize\n",
        "\n",
        "  def build(self, InputShape):\n",
        "    # goal is to optimize the embedding parameters \n",
        "    self.embedding = self.add_weight(\n",
        "            shape=(self.vocabSize, self.embeddingSize),\n",
        "            initializer = RandomUniform(minval=-1, maxval=1),\n",
        "            trainable=True,\n",
        "        )\n",
        "    \n",
        "    self.nce_weights = self.add_weight(\n",
        "        shape=(self.vocabSize, self.embeddingSize),\n",
        "        initializer=\"random_normal\",\n",
        "        trainable=True\n",
        "    )\n",
        "    self.nce_biases = self.add_weight(\n",
        "        shape=(self.vocabSize,),\n",
        "        initializer=\"random_normal\",\n",
        "        trainable=True\n",
        "    )\n",
        "\n",
        "  # train_inputs := source context\n",
        "  # train_labels := target words  \n",
        "  def call(self, train_inputs, train_labels, batchSize):\n",
        "    # train_inputs should have the shape=[batch_size]\n",
        "    # train_labels should have the shape=[batch_size, 1]\n",
        "    train_labels = tf.expand_dims(train_labels, -1) \n",
        "\n",
        "    embed = tf.nn.embedding_lookup(self.embedding, train_inputs)\n",
        "\n",
        "    # print(tf.shape(embed))\n",
        "    # print(self.vocabSize)\n",
        "    loss = tf.reduce_mean(\n",
        "        tf.nn.nce_loss(\n",
        "            weights = self.nce_weights, \n",
        "            biases = self.nce_biases, \n",
        "            labels = train_labels, \n",
        "            inputs = embed, \n",
        "            num_sampled = 1, \n",
        "            num_classes = self.vocabSize, \n",
        "            num_true=1\n",
        "    ))\n",
        "\n",
        "    return loss\n",
        "\n"
      ],
      "execution_count": 11,
      "outputs": []
    },
    {
      "cell_type": "markdown",
      "metadata": {
        "id": "lgrP9n7qYW0-"
      },
      "source": [
        "# 2.3 Training"
      ]
    },
    {
      "cell_type": "code",
      "metadata": {
        "id": "-8iGXlLnun74"
      },
      "source": [
        "def train_step(model, target, context, optimizer):\n",
        "  with tf.GradientTape() as tape:\n",
        "    loss = model(target, context, batchSize)\n",
        "    gradients = tape.gradient(loss, model.trainable_variables)\n",
        "\n",
        "  optimizer.apply_gradients(zip(gradients, model.trainable_variables))\n",
        "\n",
        "  return loss\n",
        "\n",
        "def nearest_neighbours(target, k, embedding):\n",
        "  wordEmbeddings = tf.nn.embedding_lookup(embedding, vocab[target])\n",
        "  # print(wordEmbeddings.shape)\n",
        "  # print(embedding.shape)\n",
        "\n",
        "  mostSimilar = []\n",
        "  for toCompate in wordEmbeddings:\n",
        "    current = []\n",
        "    for ii in embedding.numpy():\n",
        "      current.append(distance.cosine(toCompate, ii))\n",
        "    mostSimilar.append(np.argsort(np.array(current)[-(2+k):-2]))\n",
        "\n",
        "  return [inverse_vocab[n] for n in mostSimilar], wordEmbeddings\n",
        "\n",
        "def plotEmbedding(embeddings):\n",
        "  tsne = TSNE(n_components=2, init='pca', random_state=0)\n",
        "  X_tsne = tsne.fit_transform(embeddings)\n",
        "  plot_embedding(X_tsne, \"t-SNE embedding of the word embeddings\")\n",
        "\n",
        "\n",
        "def train_model(model, epochs, learning_rate, test_tokens):\n",
        "  optimizer = tf.keras.optimizers.Adam(learning_rate=learning_rate)\n",
        "\n",
        "  for epoch in range(epochs):\n",
        "    losses = []\n",
        "\n",
        "    runningLoss = []\n",
        "    for data in test_dataset:\n",
        "      loss = train_step(model, data[0], data[1], optimizer)\n",
        "      runningLoss.append(loss)\n",
        "\n",
        "    losses.append(np.mean(runningLoss))\n",
        "    print(f\"Epoch: {epoch} loss: {loss}\")\n",
        "\n",
        "    embeddings = []\n",
        "    for token in test_tokens:\n",
        "      nearestWords, wordEmbeddings = nearest_neighbours(token, num_neighbours, model.embedding)\n",
        "      print(wordEmbeddings.shape)\n",
        "      print(f\"  {token}: {', '.join(nearestWords)}\")\n",
        "\n",
        "    \n",
        "    \n"
      ],
      "execution_count": 21,
      "outputs": []
    },
    {
      "cell_type": "code",
      "metadata": {
        "colab": {
          "base_uri": "https://localhost:8080/",
          "height": 372
        },
        "id": "7SK_cfYvVAcD",
        "outputId": "8ae8c40e-fff0-4c08-d525-1eb5b3c68689"
      },
      "source": [
        "epochs = 1\n",
        "learning_rate = 0.01\n",
        "embedding_size = 65\n",
        "num_neighbours = 5 \n",
        "\n",
        "test_tokens = [\"gold\", \"authority\", \"wine\", \"death\", \"love\", \"faith\", \"day\"]\n",
        "\n",
        "model = Word2Vec(vocab_size, embedding_size)\n",
        "\n",
        "train_model(model, epochs, learning_rate, test_tokens)"
      ],
      "execution_count": 22,
      "outputs": [
        {
          "output_type": "stream",
          "text": [
            "Epoch: 0 loss: 1.4814119338989258\n"
          ],
          "name": "stdout"
        },
        {
          "output_type": "error",
          "ename": "TypeError",
          "evalue": "ignored",
          "traceback": [
            "\u001b[0;31m---------------------------------------------------------------------------\u001b[0m",
            "\u001b[0;31mTypeError\u001b[0m                                 Traceback (most recent call last)",
            "\u001b[0;32m<ipython-input-22-f72c55c0ca6a>\u001b[0m in \u001b[0;36m<module>\u001b[0;34m()\u001b[0m\n\u001b[1;32m      8\u001b[0m \u001b[0mmodel\u001b[0m \u001b[0;34m=\u001b[0m \u001b[0mWord2Vec\u001b[0m\u001b[0;34m(\u001b[0m\u001b[0mvocab_size\u001b[0m\u001b[0;34m,\u001b[0m \u001b[0membedding_size\u001b[0m\u001b[0;34m)\u001b[0m\u001b[0;34m\u001b[0m\u001b[0;34m\u001b[0m\u001b[0m\n\u001b[1;32m      9\u001b[0m \u001b[0;34m\u001b[0m\u001b[0m\n\u001b[0;32m---> 10\u001b[0;31m \u001b[0mtrain_model\u001b[0m\u001b[0;34m(\u001b[0m\u001b[0mmodel\u001b[0m\u001b[0;34m,\u001b[0m \u001b[0mepochs\u001b[0m\u001b[0;34m,\u001b[0m \u001b[0mlearning_rate\u001b[0m\u001b[0;34m,\u001b[0m \u001b[0mtest_tokens\u001b[0m\u001b[0;34m)\u001b[0m\u001b[0;34m\u001b[0m\u001b[0;34m\u001b[0m\u001b[0m\n\u001b[0m",
            "\u001b[0;32m<ipython-input-21-71267a6569bd>\u001b[0m in \u001b[0;36mtrain_model\u001b[0;34m(model, epochs, learning_rate, test_tokens)\u001b[0m\n\u001b[1;32m     44\u001b[0m     \u001b[0membeddings\u001b[0m \u001b[0;34m=\u001b[0m \u001b[0;34m[\u001b[0m\u001b[0;34m]\u001b[0m\u001b[0;34m\u001b[0m\u001b[0;34m\u001b[0m\u001b[0m\n\u001b[1;32m     45\u001b[0m     \u001b[0;32mfor\u001b[0m \u001b[0mtoken\u001b[0m \u001b[0;32min\u001b[0m \u001b[0mtest_tokens\u001b[0m\u001b[0;34m:\u001b[0m\u001b[0;34m\u001b[0m\u001b[0;34m\u001b[0m\u001b[0m\n\u001b[0;32m---> 46\u001b[0;31m       \u001b[0mnearestWords\u001b[0m\u001b[0;34m,\u001b[0m \u001b[0mwordEmbeddings\u001b[0m \u001b[0;34m=\u001b[0m \u001b[0mnearest_neighbours\u001b[0m\u001b[0;34m(\u001b[0m\u001b[0mtoken\u001b[0m\u001b[0;34m,\u001b[0m \u001b[0mnum_neighbours\u001b[0m\u001b[0;34m,\u001b[0m \u001b[0mmodel\u001b[0m\u001b[0;34m.\u001b[0m\u001b[0membedding\u001b[0m\u001b[0;34m)\u001b[0m\u001b[0;34m\u001b[0m\u001b[0;34m\u001b[0m\u001b[0m\n\u001b[0m\u001b[1;32m     47\u001b[0m       \u001b[0mprint\u001b[0m\u001b[0;34m(\u001b[0m\u001b[0mwordEmbeddings\u001b[0m\u001b[0;34m.\u001b[0m\u001b[0mshape\u001b[0m\u001b[0;34m)\u001b[0m\u001b[0;34m\u001b[0m\u001b[0;34m\u001b[0m\u001b[0m\n\u001b[1;32m     48\u001b[0m       \u001b[0mprint\u001b[0m\u001b[0;34m(\u001b[0m\u001b[0;34mf\"  {token}: {', '.join(nearestWords)}\"\u001b[0m\u001b[0;34m)\u001b[0m\u001b[0;34m\u001b[0m\u001b[0;34m\u001b[0m\u001b[0m\n",
            "\u001b[0;32m<ipython-input-21-71267a6569bd>\u001b[0m in \u001b[0;36mnearest_neighbours\u001b[0;34m(target, k, embedding)\u001b[0m\n\u001b[1;32m     20\u001b[0m     \u001b[0mmostSimilar\u001b[0m\u001b[0;34m.\u001b[0m\u001b[0mappend\u001b[0m\u001b[0;34m(\u001b[0m\u001b[0mnp\u001b[0m\u001b[0;34m.\u001b[0m\u001b[0margsort\u001b[0m\u001b[0;34m(\u001b[0m\u001b[0mnp\u001b[0m\u001b[0;34m.\u001b[0m\u001b[0marray\u001b[0m\u001b[0;34m(\u001b[0m\u001b[0mcurrent\u001b[0m\u001b[0;34m)\u001b[0m\u001b[0;34m[\u001b[0m\u001b[0;34m-\u001b[0m\u001b[0;34m(\u001b[0m\u001b[0;36m2\u001b[0m\u001b[0;34m+\u001b[0m\u001b[0mk\u001b[0m\u001b[0;34m)\u001b[0m\u001b[0;34m:\u001b[0m\u001b[0;34m-\u001b[0m\u001b[0;36m2\u001b[0m\u001b[0;34m]\u001b[0m\u001b[0;34m)\u001b[0m\u001b[0;34m)\u001b[0m\u001b[0;34m\u001b[0m\u001b[0;34m\u001b[0m\u001b[0m\n\u001b[1;32m     21\u001b[0m \u001b[0;34m\u001b[0m\u001b[0m\n\u001b[0;32m---> 22\u001b[0;31m   \u001b[0;32mreturn\u001b[0m \u001b[0;34m[\u001b[0m\u001b[0minverse_vocab\u001b[0m\u001b[0;34m[\u001b[0m\u001b[0mn\u001b[0m\u001b[0;34m]\u001b[0m \u001b[0;32mfor\u001b[0m \u001b[0mn\u001b[0m \u001b[0;32min\u001b[0m \u001b[0mmostSimilar\u001b[0m\u001b[0;34m]\u001b[0m\u001b[0;34m,\u001b[0m \u001b[0mwordEmbeddings\u001b[0m\u001b[0;34m\u001b[0m\u001b[0;34m\u001b[0m\u001b[0m\n\u001b[0m\u001b[1;32m     23\u001b[0m \u001b[0;34m\u001b[0m\u001b[0m\n\u001b[1;32m     24\u001b[0m \u001b[0;32mdef\u001b[0m \u001b[0mplotEmbedding\u001b[0m\u001b[0;34m(\u001b[0m\u001b[0membeddings\u001b[0m\u001b[0;34m)\u001b[0m\u001b[0;34m:\u001b[0m\u001b[0;34m\u001b[0m\u001b[0;34m\u001b[0m\u001b[0m\n",
            "\u001b[0;32m<ipython-input-21-71267a6569bd>\u001b[0m in \u001b[0;36m<listcomp>\u001b[0;34m(.0)\u001b[0m\n\u001b[1;32m     20\u001b[0m     \u001b[0mmostSimilar\u001b[0m\u001b[0;34m.\u001b[0m\u001b[0mappend\u001b[0m\u001b[0;34m(\u001b[0m\u001b[0mnp\u001b[0m\u001b[0;34m.\u001b[0m\u001b[0margsort\u001b[0m\u001b[0;34m(\u001b[0m\u001b[0mnp\u001b[0m\u001b[0;34m.\u001b[0m\u001b[0marray\u001b[0m\u001b[0;34m(\u001b[0m\u001b[0mcurrent\u001b[0m\u001b[0;34m)\u001b[0m\u001b[0;34m[\u001b[0m\u001b[0;34m-\u001b[0m\u001b[0;34m(\u001b[0m\u001b[0;36m2\u001b[0m\u001b[0;34m+\u001b[0m\u001b[0mk\u001b[0m\u001b[0;34m)\u001b[0m\u001b[0;34m:\u001b[0m\u001b[0;34m-\u001b[0m\u001b[0;36m2\u001b[0m\u001b[0;34m]\u001b[0m\u001b[0;34m)\u001b[0m\u001b[0;34m)\u001b[0m\u001b[0;34m\u001b[0m\u001b[0;34m\u001b[0m\u001b[0m\n\u001b[1;32m     21\u001b[0m \u001b[0;34m\u001b[0m\u001b[0m\n\u001b[0;32m---> 22\u001b[0;31m   \u001b[0;32mreturn\u001b[0m \u001b[0;34m[\u001b[0m\u001b[0minverse_vocab\u001b[0m\u001b[0;34m[\u001b[0m\u001b[0mn\u001b[0m\u001b[0;34m]\u001b[0m \u001b[0;32mfor\u001b[0m \u001b[0mn\u001b[0m \u001b[0;32min\u001b[0m \u001b[0mmostSimilar\u001b[0m\u001b[0;34m]\u001b[0m\u001b[0;34m,\u001b[0m \u001b[0mwordEmbeddings\u001b[0m\u001b[0;34m\u001b[0m\u001b[0;34m\u001b[0m\u001b[0m\n\u001b[0m\u001b[1;32m     23\u001b[0m \u001b[0;34m\u001b[0m\u001b[0m\n\u001b[1;32m     24\u001b[0m \u001b[0;32mdef\u001b[0m \u001b[0mplotEmbedding\u001b[0m\u001b[0;34m(\u001b[0m\u001b[0membeddings\u001b[0m\u001b[0;34m)\u001b[0m\u001b[0;34m:\u001b[0m\u001b[0;34m\u001b[0m\u001b[0;34m\u001b[0m\u001b[0m\n",
            "\u001b[0;31mTypeError\u001b[0m: unhashable type: 'numpy.ndarray'"
          ]
        }
      ]
    },
    {
      "cell_type": "markdown",
      "metadata": {
        "id": "xRzEym09YcK-"
      },
      "source": [
        "# 3 Text Generation"
      ]
    },
    {
      "cell_type": "markdown",
      "metadata": {
        "id": "XsEGAncrYffx"
      },
      "source": [
        "## 3.1 Preprocessing"
      ]
    },
    {
      "cell_type": "code",
      "metadata": {
        "id": "PgDRXGwhYemK"
      },
      "source": [
        ""
      ],
      "execution_count": null,
      "outputs": []
    }
  ]
}