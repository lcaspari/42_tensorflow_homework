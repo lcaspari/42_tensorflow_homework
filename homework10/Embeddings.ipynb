{
  "nbformat": 4,
  "nbformat_minor": 0,
  "metadata": {
    "colab": {
      "name": "tinyUni",
      "provenance": [],
      "collapsed_sections": [],
      "include_colab_link": true
    },
    "kernelspec": {
      "name": "python3",
      "display_name": "Python 3"
    },
    "widgets": {
      "application/vnd.jupyter.widget-state+json": {
        "e69ff3f9167b4ae7b1b4b818e47b886b": {
          "model_module": "@jupyter-widgets/controls",
          "model_name": "HBoxModel",
          "state": {
            "_view_name": "HBoxView",
            "_dom_classes": [],
            "_model_name": "HBoxModel",
            "_view_module": "@jupyter-widgets/controls",
            "_model_module_version": "1.5.0",
            "_view_count": null,
            "_view_module_version": "1.5.0",
            "box_style": "",
            "layout": "IPY_MODEL_2d25527e23114c6eba272be4afb38b98",
            "_model_module": "@jupyter-widgets/controls",
            "children": [
              "IPY_MODEL_393cf14e102648b2b183b2ffd4779e11",
              "IPY_MODEL_a3694edcbf734ff9ad7f3ca7d0a7e447"
            ]
          }
        },
        "2d25527e23114c6eba272be4afb38b98": {
          "model_module": "@jupyter-widgets/base",
          "model_name": "LayoutModel",
          "state": {
            "_view_name": "LayoutView",
            "grid_template_rows": null,
            "right": null,
            "justify_content": null,
            "_view_module": "@jupyter-widgets/base",
            "overflow": null,
            "_model_module_version": "1.2.0",
            "_view_count": null,
            "flex_flow": null,
            "width": null,
            "min_width": null,
            "border": null,
            "align_items": null,
            "bottom": null,
            "_model_module": "@jupyter-widgets/base",
            "top": null,
            "grid_column": null,
            "overflow_y": null,
            "overflow_x": null,
            "grid_auto_flow": null,
            "grid_area": null,
            "grid_template_columns": null,
            "flex": null,
            "_model_name": "LayoutModel",
            "justify_items": null,
            "grid_row": null,
            "max_height": null,
            "align_content": null,
            "visibility": null,
            "align_self": null,
            "height": null,
            "min_height": null,
            "padding": null,
            "grid_auto_rows": null,
            "grid_gap": null,
            "max_width": null,
            "order": null,
            "_view_module_version": "1.2.0",
            "grid_template_areas": null,
            "object_position": null,
            "object_fit": null,
            "grid_auto_columns": null,
            "margin": null,
            "display": null,
            "left": null
          }
        },
        "393cf14e102648b2b183b2ffd4779e11": {
          "model_module": "@jupyter-widgets/controls",
          "model_name": "FloatProgressModel",
          "state": {
            "_view_name": "ProgressView",
            "style": "IPY_MODEL_7435639107a44f42b43b469ce25c4624",
            "_dom_classes": [],
            "description": "Dl Completed...: 100%",
            "_model_name": "FloatProgressModel",
            "bar_style": "success",
            "max": 1,
            "_view_module": "@jupyter-widgets/controls",
            "_model_module_version": "1.5.0",
            "value": 1,
            "_view_count": null,
            "_view_module_version": "1.5.0",
            "orientation": "horizontal",
            "min": 0,
            "description_tooltip": null,
            "_model_module": "@jupyter-widgets/controls",
            "layout": "IPY_MODEL_c5a24c59cedc4bad91a9cac0d17efc1c"
          }
        },
        "a3694edcbf734ff9ad7f3ca7d0a7e447": {
          "model_module": "@jupyter-widgets/controls",
          "model_name": "HTMLModel",
          "state": {
            "_view_name": "HTMLView",
            "style": "IPY_MODEL_972fd2134a23412bb38e10211448d844",
            "_dom_classes": [],
            "description": "",
            "_model_name": "HTMLModel",
            "placeholder": "​",
            "_view_module": "@jupyter-widgets/controls",
            "_model_module_version": "1.5.0",
            "value": " 1/1 [00:00&lt;00:00,  2.07 url/s]",
            "_view_count": null,
            "_view_module_version": "1.5.0",
            "description_tooltip": null,
            "_model_module": "@jupyter-widgets/controls",
            "layout": "IPY_MODEL_81b47ea906f64cbe837e3af1685b2f18"
          }
        },
        "7435639107a44f42b43b469ce25c4624": {
          "model_module": "@jupyter-widgets/controls",
          "model_name": "ProgressStyleModel",
          "state": {
            "_view_name": "StyleView",
            "_model_name": "ProgressStyleModel",
            "description_width": "initial",
            "_view_module": "@jupyter-widgets/base",
            "_model_module_version": "1.5.0",
            "_view_count": null,
            "_view_module_version": "1.2.0",
            "bar_color": null,
            "_model_module": "@jupyter-widgets/controls"
          }
        },
        "c5a24c59cedc4bad91a9cac0d17efc1c": {
          "model_module": "@jupyter-widgets/base",
          "model_name": "LayoutModel",
          "state": {
            "_view_name": "LayoutView",
            "grid_template_rows": null,
            "right": null,
            "justify_content": null,
            "_view_module": "@jupyter-widgets/base",
            "overflow": null,
            "_model_module_version": "1.2.0",
            "_view_count": null,
            "flex_flow": null,
            "width": null,
            "min_width": null,
            "border": null,
            "align_items": null,
            "bottom": null,
            "_model_module": "@jupyter-widgets/base",
            "top": null,
            "grid_column": null,
            "overflow_y": null,
            "overflow_x": null,
            "grid_auto_flow": null,
            "grid_area": null,
            "grid_template_columns": null,
            "flex": null,
            "_model_name": "LayoutModel",
            "justify_items": null,
            "grid_row": null,
            "max_height": null,
            "align_content": null,
            "visibility": null,
            "align_self": null,
            "height": null,
            "min_height": null,
            "padding": null,
            "grid_auto_rows": null,
            "grid_gap": null,
            "max_width": null,
            "order": null,
            "_view_module_version": "1.2.0",
            "grid_template_areas": null,
            "object_position": null,
            "object_fit": null,
            "grid_auto_columns": null,
            "margin": null,
            "display": null,
            "left": null
          }
        },
        "972fd2134a23412bb38e10211448d844": {
          "model_module": "@jupyter-widgets/controls",
          "model_name": "DescriptionStyleModel",
          "state": {
            "_view_name": "StyleView",
            "_model_name": "DescriptionStyleModel",
            "description_width": "",
            "_view_module": "@jupyter-widgets/base",
            "_model_module_version": "1.5.0",
            "_view_count": null,
            "_view_module_version": "1.2.0",
            "_model_module": "@jupyter-widgets/controls"
          }
        },
        "81b47ea906f64cbe837e3af1685b2f18": {
          "model_module": "@jupyter-widgets/base",
          "model_name": "LayoutModel",
          "state": {
            "_view_name": "LayoutView",
            "grid_template_rows": null,
            "right": null,
            "justify_content": null,
            "_view_module": "@jupyter-widgets/base",
            "overflow": null,
            "_model_module_version": "1.2.0",
            "_view_count": null,
            "flex_flow": null,
            "width": null,
            "min_width": null,
            "border": null,
            "align_items": null,
            "bottom": null,
            "_model_module": "@jupyter-widgets/base",
            "top": null,
            "grid_column": null,
            "overflow_y": null,
            "overflow_x": null,
            "grid_auto_flow": null,
            "grid_area": null,
            "grid_template_columns": null,
            "flex": null,
            "_model_name": "LayoutModel",
            "justify_items": null,
            "grid_row": null,
            "max_height": null,
            "align_content": null,
            "visibility": null,
            "align_self": null,
            "height": null,
            "min_height": null,
            "padding": null,
            "grid_auto_rows": null,
            "grid_gap": null,
            "max_width": null,
            "order": null,
            "_view_module_version": "1.2.0",
            "grid_template_areas": null,
            "object_position": null,
            "object_fit": null,
            "grid_auto_columns": null,
            "margin": null,
            "display": null,
            "left": null
          }
        },
        "7c6483977a134f7ab8bed5470fe59043": {
          "model_module": "@jupyter-widgets/controls",
          "model_name": "HBoxModel",
          "state": {
            "_view_name": "HBoxView",
            "_dom_classes": [],
            "_model_name": "HBoxModel",
            "_view_module": "@jupyter-widgets/controls",
            "_model_module_version": "1.5.0",
            "_view_count": null,
            "_view_module_version": "1.5.0",
            "box_style": "",
            "layout": "IPY_MODEL_5a90ab3feccb4329b16c7889a93b383d",
            "_model_module": "@jupyter-widgets/controls",
            "children": [
              "IPY_MODEL_1561d94cf45b4e6c89d15561a00c230a",
              "IPY_MODEL_77f308cc455a41ddaf093d6e8b40cf84"
            ]
          }
        },
        "5a90ab3feccb4329b16c7889a93b383d": {
          "model_module": "@jupyter-widgets/base",
          "model_name": "LayoutModel",
          "state": {
            "_view_name": "LayoutView",
            "grid_template_rows": null,
            "right": null,
            "justify_content": null,
            "_view_module": "@jupyter-widgets/base",
            "overflow": null,
            "_model_module_version": "1.2.0",
            "_view_count": null,
            "flex_flow": null,
            "width": null,
            "min_width": null,
            "border": null,
            "align_items": null,
            "bottom": null,
            "_model_module": "@jupyter-widgets/base",
            "top": null,
            "grid_column": null,
            "overflow_y": null,
            "overflow_x": null,
            "grid_auto_flow": null,
            "grid_area": null,
            "grid_template_columns": null,
            "flex": null,
            "_model_name": "LayoutModel",
            "justify_items": null,
            "grid_row": null,
            "max_height": null,
            "align_content": null,
            "visibility": null,
            "align_self": null,
            "height": null,
            "min_height": null,
            "padding": null,
            "grid_auto_rows": null,
            "grid_gap": null,
            "max_width": null,
            "order": null,
            "_view_module_version": "1.2.0",
            "grid_template_areas": null,
            "object_position": null,
            "object_fit": null,
            "grid_auto_columns": null,
            "margin": null,
            "display": null,
            "left": null
          }
        },
        "1561d94cf45b4e6c89d15561a00c230a": {
          "model_module": "@jupyter-widgets/controls",
          "model_name": "FloatProgressModel",
          "state": {
            "_view_name": "ProgressView",
            "style": "IPY_MODEL_1312c51abb4646a9a28abd1d7f6c70d6",
            "_dom_classes": [],
            "description": "Dl Size...: ",
            "_model_name": "FloatProgressModel",
            "bar_style": "success",
            "max": 1,
            "_view_module": "@jupyter-widgets/controls",
            "_model_module_version": "1.5.0",
            "value": 1,
            "_view_count": null,
            "_view_module_version": "1.5.0",
            "orientation": "horizontal",
            "min": 0,
            "description_tooltip": null,
            "_model_module": "@jupyter-widgets/controls",
            "layout": "IPY_MODEL_7643e24fb7d546dcb7b6d2e887c94045"
          }
        },
        "77f308cc455a41ddaf093d6e8b40cf84": {
          "model_module": "@jupyter-widgets/controls",
          "model_name": "HTMLModel",
          "state": {
            "_view_name": "HTMLView",
            "style": "IPY_MODEL_74fc0087905a40238df800bd4389a140",
            "_dom_classes": [],
            "description": "",
            "_model_name": "HTMLModel",
            "placeholder": "​",
            "_view_module": "@jupyter-widgets/controls",
            "_model_module_version": "1.5.0",
            "value": " 1/0 [00:00&lt;00:00,  2.23 MiB/s]",
            "_view_count": null,
            "_view_module_version": "1.5.0",
            "description_tooltip": null,
            "_model_module": "@jupyter-widgets/controls",
            "layout": "IPY_MODEL_b56537f3acdf4bf4b189fbfce0cfca20"
          }
        },
        "1312c51abb4646a9a28abd1d7f6c70d6": {
          "model_module": "@jupyter-widgets/controls",
          "model_name": "ProgressStyleModel",
          "state": {
            "_view_name": "StyleView",
            "_model_name": "ProgressStyleModel",
            "description_width": "initial",
            "_view_module": "@jupyter-widgets/base",
            "_model_module_version": "1.5.0",
            "_view_count": null,
            "_view_module_version": "1.2.0",
            "bar_color": null,
            "_model_module": "@jupyter-widgets/controls"
          }
        },
        "7643e24fb7d546dcb7b6d2e887c94045": {
          "model_module": "@jupyter-widgets/base",
          "model_name": "LayoutModel",
          "state": {
            "_view_name": "LayoutView",
            "grid_template_rows": null,
            "right": null,
            "justify_content": null,
            "_view_module": "@jupyter-widgets/base",
            "overflow": null,
            "_model_module_version": "1.2.0",
            "_view_count": null,
            "flex_flow": null,
            "width": null,
            "min_width": null,
            "border": null,
            "align_items": null,
            "bottom": null,
            "_model_module": "@jupyter-widgets/base",
            "top": null,
            "grid_column": null,
            "overflow_y": null,
            "overflow_x": null,
            "grid_auto_flow": null,
            "grid_area": null,
            "grid_template_columns": null,
            "flex": null,
            "_model_name": "LayoutModel",
            "justify_items": null,
            "grid_row": null,
            "max_height": null,
            "align_content": null,
            "visibility": null,
            "align_self": null,
            "height": null,
            "min_height": null,
            "padding": null,
            "grid_auto_rows": null,
            "grid_gap": null,
            "max_width": null,
            "order": null,
            "_view_module_version": "1.2.0",
            "grid_template_areas": null,
            "object_position": null,
            "object_fit": null,
            "grid_auto_columns": null,
            "margin": null,
            "display": null,
            "left": null
          }
        },
        "74fc0087905a40238df800bd4389a140": {
          "model_module": "@jupyter-widgets/controls",
          "model_name": "DescriptionStyleModel",
          "state": {
            "_view_name": "StyleView",
            "_model_name": "DescriptionStyleModel",
            "description_width": "",
            "_view_module": "@jupyter-widgets/base",
            "_model_module_version": "1.5.0",
            "_view_count": null,
            "_view_module_version": "1.2.0",
            "_model_module": "@jupyter-widgets/controls"
          }
        },
        "b56537f3acdf4bf4b189fbfce0cfca20": {
          "model_module": "@jupyter-widgets/base",
          "model_name": "LayoutModel",
          "state": {
            "_view_name": "LayoutView",
            "grid_template_rows": null,
            "right": null,
            "justify_content": null,
            "_view_module": "@jupyter-widgets/base",
            "overflow": null,
            "_model_module_version": "1.2.0",
            "_view_count": null,
            "flex_flow": null,
            "width": null,
            "min_width": null,
            "border": null,
            "align_items": null,
            "bottom": null,
            "_model_module": "@jupyter-widgets/base",
            "top": null,
            "grid_column": null,
            "overflow_y": null,
            "overflow_x": null,
            "grid_auto_flow": null,
            "grid_area": null,
            "grid_template_columns": null,
            "flex": null,
            "_model_name": "LayoutModel",
            "justify_items": null,
            "grid_row": null,
            "max_height": null,
            "align_content": null,
            "visibility": null,
            "align_self": null,
            "height": null,
            "min_height": null,
            "padding": null,
            "grid_auto_rows": null,
            "grid_gap": null,
            "max_width": null,
            "order": null,
            "_view_module_version": "1.2.0",
            "grid_template_areas": null,
            "object_position": null,
            "object_fit": null,
            "grid_auto_columns": null,
            "margin": null,
            "display": null,
            "left": null
          }
        },
        "553ee6d70ad9492c99be1b6ecdd0a8e3": {
          "model_module": "@jupyter-widgets/controls",
          "model_name": "HBoxModel",
          "state": {
            "_view_name": "HBoxView",
            "_dom_classes": [],
            "_model_name": "HBoxModel",
            "_view_module": "@jupyter-widgets/controls",
            "_model_module_version": "1.5.0",
            "_view_count": null,
            "_view_module_version": "1.5.0",
            "box_style": "",
            "layout": "IPY_MODEL_5e6a00a4c81848e7955228d7255104d3",
            "_model_module": "@jupyter-widgets/controls",
            "children": [
              "IPY_MODEL_90f7c375b9ae4bbaa782d0f438ef8974",
              "IPY_MODEL_017ec4b120b94cdd8b18b46c56d6bfe2"
            ]
          }
        },
        "5e6a00a4c81848e7955228d7255104d3": {
          "model_module": "@jupyter-widgets/base",
          "model_name": "LayoutModel",
          "state": {
            "_view_name": "LayoutView",
            "grid_template_rows": null,
            "right": null,
            "justify_content": null,
            "_view_module": "@jupyter-widgets/base",
            "overflow": null,
            "_model_module_version": "1.2.0",
            "_view_count": null,
            "flex_flow": null,
            "width": null,
            "min_width": null,
            "border": null,
            "align_items": null,
            "bottom": null,
            "_model_module": "@jupyter-widgets/base",
            "top": null,
            "grid_column": null,
            "overflow_y": null,
            "overflow_x": null,
            "grid_auto_flow": null,
            "grid_area": null,
            "grid_template_columns": null,
            "flex": null,
            "_model_name": "LayoutModel",
            "justify_items": null,
            "grid_row": null,
            "max_height": null,
            "align_content": null,
            "visibility": null,
            "align_self": null,
            "height": null,
            "min_height": null,
            "padding": null,
            "grid_auto_rows": null,
            "grid_gap": null,
            "max_width": null,
            "order": null,
            "_view_module_version": "1.2.0",
            "grid_template_areas": null,
            "object_position": null,
            "object_fit": null,
            "grid_auto_columns": null,
            "margin": null,
            "display": null,
            "left": null
          }
        },
        "90f7c375b9ae4bbaa782d0f438ef8974": {
          "model_module": "@jupyter-widgets/controls",
          "model_name": "FloatProgressModel",
          "state": {
            "_view_name": "ProgressView",
            "style": "IPY_MODEL_01a7bf3a20a4440cbbe1df572a41d04c",
            "_dom_classes": [],
            "description": "",
            "_model_name": "FloatProgressModel",
            "bar_style": "info",
            "max": 1,
            "_view_module": "@jupyter-widgets/controls",
            "_model_module_version": "1.5.0",
            "value": 1,
            "_view_count": null,
            "_view_module_version": "1.5.0",
            "orientation": "horizontal",
            "min": 0,
            "description_tooltip": null,
            "_model_module": "@jupyter-widgets/controls",
            "layout": "IPY_MODEL_4b49b56071e44abc8092b0d722f057da"
          }
        },
        "017ec4b120b94cdd8b18b46c56d6bfe2": {
          "model_module": "@jupyter-widgets/controls",
          "model_name": "HTMLModel",
          "state": {
            "_view_name": "HTMLView",
            "style": "IPY_MODEL_99b5669cf9134e86a5ba9c0a70c6f38d",
            "_dom_classes": [],
            "description": "",
            "_model_name": "HTMLModel",
            "placeholder": "​",
            "_view_module": "@jupyter-widgets/controls",
            "_model_module_version": "1.5.0",
            "value": " 1/0 [00:00&lt;00:00, 32.79 examples/s]",
            "_view_count": null,
            "_view_module_version": "1.5.0",
            "description_tooltip": null,
            "_model_module": "@jupyter-widgets/controls",
            "layout": "IPY_MODEL_75b24276038f4d088b65697ae92d124b"
          }
        },
        "01a7bf3a20a4440cbbe1df572a41d04c": {
          "model_module": "@jupyter-widgets/controls",
          "model_name": "ProgressStyleModel",
          "state": {
            "_view_name": "StyleView",
            "_model_name": "ProgressStyleModel",
            "description_width": "initial",
            "_view_module": "@jupyter-widgets/base",
            "_model_module_version": "1.5.0",
            "_view_count": null,
            "_view_module_version": "1.2.0",
            "bar_color": null,
            "_model_module": "@jupyter-widgets/controls"
          }
        },
        "4b49b56071e44abc8092b0d722f057da": {
          "model_module": "@jupyter-widgets/base",
          "model_name": "LayoutModel",
          "state": {
            "_view_name": "LayoutView",
            "grid_template_rows": null,
            "right": null,
            "justify_content": null,
            "_view_module": "@jupyter-widgets/base",
            "overflow": null,
            "_model_module_version": "1.2.0",
            "_view_count": null,
            "flex_flow": null,
            "width": null,
            "min_width": null,
            "border": null,
            "align_items": null,
            "bottom": null,
            "_model_module": "@jupyter-widgets/base",
            "top": null,
            "grid_column": null,
            "overflow_y": null,
            "overflow_x": null,
            "grid_auto_flow": null,
            "grid_area": null,
            "grid_template_columns": null,
            "flex": null,
            "_model_name": "LayoutModel",
            "justify_items": null,
            "grid_row": null,
            "max_height": null,
            "align_content": null,
            "visibility": null,
            "align_self": null,
            "height": null,
            "min_height": null,
            "padding": null,
            "grid_auto_rows": null,
            "grid_gap": null,
            "max_width": null,
            "order": null,
            "_view_module_version": "1.2.0",
            "grid_template_areas": null,
            "object_position": null,
            "object_fit": null,
            "grid_auto_columns": null,
            "margin": null,
            "display": null,
            "left": null
          }
        },
        "99b5669cf9134e86a5ba9c0a70c6f38d": {
          "model_module": "@jupyter-widgets/controls",
          "model_name": "DescriptionStyleModel",
          "state": {
            "_view_name": "StyleView",
            "_model_name": "DescriptionStyleModel",
            "description_width": "",
            "_view_module": "@jupyter-widgets/base",
            "_model_module_version": "1.5.0",
            "_view_count": null,
            "_view_module_version": "1.2.0",
            "_model_module": "@jupyter-widgets/controls"
          }
        },
        "75b24276038f4d088b65697ae92d124b": {
          "model_module": "@jupyter-widgets/base",
          "model_name": "LayoutModel",
          "state": {
            "_view_name": "LayoutView",
            "grid_template_rows": null,
            "right": null,
            "justify_content": null,
            "_view_module": "@jupyter-widgets/base",
            "overflow": null,
            "_model_module_version": "1.2.0",
            "_view_count": null,
            "flex_flow": null,
            "width": null,
            "min_width": null,
            "border": null,
            "align_items": null,
            "bottom": null,
            "_model_module": "@jupyter-widgets/base",
            "top": null,
            "grid_column": null,
            "overflow_y": null,
            "overflow_x": null,
            "grid_auto_flow": null,
            "grid_area": null,
            "grid_template_columns": null,
            "flex": null,
            "_model_name": "LayoutModel",
            "justify_items": null,
            "grid_row": null,
            "max_height": null,
            "align_content": null,
            "visibility": null,
            "align_self": null,
            "height": null,
            "min_height": null,
            "padding": null,
            "grid_auto_rows": null,
            "grid_gap": null,
            "max_width": null,
            "order": null,
            "_view_module_version": "1.2.0",
            "grid_template_areas": null,
            "object_position": null,
            "object_fit": null,
            "grid_auto_columns": null,
            "margin": null,
            "display": null,
            "left": null
          }
        },
        "183d0ab2fe3a4c559704704b92ecac6c": {
          "model_module": "@jupyter-widgets/controls",
          "model_name": "HBoxModel",
          "state": {
            "_view_name": "HBoxView",
            "_dom_classes": [],
            "_model_name": "HBoxModel",
            "_view_module": "@jupyter-widgets/controls",
            "_model_module_version": "1.5.0",
            "_view_count": null,
            "_view_module_version": "1.5.0",
            "box_style": "",
            "layout": "IPY_MODEL_6e041c83d6234c81b437506b491aa52f",
            "_model_module": "@jupyter-widgets/controls",
            "children": [
              "IPY_MODEL_f4b041a693304b17b18ca93762da3ab6",
              "IPY_MODEL_8d78066a5df8405ab5ad1198fa2c6c04"
            ]
          }
        },
        "6e041c83d6234c81b437506b491aa52f": {
          "model_module": "@jupyter-widgets/base",
          "model_name": "LayoutModel",
          "state": {
            "_view_name": "LayoutView",
            "grid_template_rows": null,
            "right": null,
            "justify_content": null,
            "_view_module": "@jupyter-widgets/base",
            "overflow": null,
            "_model_module_version": "1.2.0",
            "_view_count": null,
            "flex_flow": null,
            "width": null,
            "min_width": null,
            "border": null,
            "align_items": null,
            "bottom": null,
            "_model_module": "@jupyter-widgets/base",
            "top": null,
            "grid_column": null,
            "overflow_y": null,
            "overflow_x": null,
            "grid_auto_flow": null,
            "grid_area": null,
            "grid_template_columns": null,
            "flex": null,
            "_model_name": "LayoutModel",
            "justify_items": null,
            "grid_row": null,
            "max_height": null,
            "align_content": null,
            "visibility": null,
            "align_self": null,
            "height": null,
            "min_height": null,
            "padding": null,
            "grid_auto_rows": null,
            "grid_gap": null,
            "max_width": null,
            "order": null,
            "_view_module_version": "1.2.0",
            "grid_template_areas": null,
            "object_position": null,
            "object_fit": null,
            "grid_auto_columns": null,
            "margin": null,
            "display": null,
            "left": null
          }
        },
        "f4b041a693304b17b18ca93762da3ab6": {
          "model_module": "@jupyter-widgets/controls",
          "model_name": "FloatProgressModel",
          "state": {
            "_view_name": "ProgressView",
            "style": "IPY_MODEL_615b76af1c9f430897d295adffcb9d61",
            "_dom_classes": [],
            "description": "  0%",
            "_model_name": "FloatProgressModel",
            "bar_style": "danger",
            "max": 1,
            "_view_module": "@jupyter-widgets/controls",
            "_model_module_version": "1.5.0",
            "value": 0,
            "_view_count": null,
            "_view_module_version": "1.5.0",
            "orientation": "horizontal",
            "min": 0,
            "description_tooltip": null,
            "_model_module": "@jupyter-widgets/controls",
            "layout": "IPY_MODEL_be34983a10ca42398ca758e17e5ff539"
          }
        },
        "8d78066a5df8405ab5ad1198fa2c6c04": {
          "model_module": "@jupyter-widgets/controls",
          "model_name": "HTMLModel",
          "state": {
            "_view_name": "HTMLView",
            "style": "IPY_MODEL_175ecd3ba11c448a8bb8b01cd2ce7623",
            "_dom_classes": [],
            "description": "",
            "_model_name": "HTMLModel",
            "placeholder": "​",
            "_view_module": "@jupyter-widgets/controls",
            "_model_module_version": "1.5.0",
            "value": " 0/1 [00:00&lt;?, ? examples/s]",
            "_view_count": null,
            "_view_module_version": "1.5.0",
            "description_tooltip": null,
            "_model_module": "@jupyter-widgets/controls",
            "layout": "IPY_MODEL_76ab7bd401564477b3abdad884839844"
          }
        },
        "615b76af1c9f430897d295adffcb9d61": {
          "model_module": "@jupyter-widgets/controls",
          "model_name": "ProgressStyleModel",
          "state": {
            "_view_name": "StyleView",
            "_model_name": "ProgressStyleModel",
            "description_width": "initial",
            "_view_module": "@jupyter-widgets/base",
            "_model_module_version": "1.5.0",
            "_view_count": null,
            "_view_module_version": "1.2.0",
            "bar_color": null,
            "_model_module": "@jupyter-widgets/controls"
          }
        },
        "be34983a10ca42398ca758e17e5ff539": {
          "model_module": "@jupyter-widgets/base",
          "model_name": "LayoutModel",
          "state": {
            "_view_name": "LayoutView",
            "grid_template_rows": null,
            "right": null,
            "justify_content": null,
            "_view_module": "@jupyter-widgets/base",
            "overflow": null,
            "_model_module_version": "1.2.0",
            "_view_count": null,
            "flex_flow": null,
            "width": null,
            "min_width": null,
            "border": null,
            "align_items": null,
            "bottom": null,
            "_model_module": "@jupyter-widgets/base",
            "top": null,
            "grid_column": null,
            "overflow_y": null,
            "overflow_x": null,
            "grid_auto_flow": null,
            "grid_area": null,
            "grid_template_columns": null,
            "flex": null,
            "_model_name": "LayoutModel",
            "justify_items": null,
            "grid_row": null,
            "max_height": null,
            "align_content": null,
            "visibility": null,
            "align_self": null,
            "height": null,
            "min_height": null,
            "padding": null,
            "grid_auto_rows": null,
            "grid_gap": null,
            "max_width": null,
            "order": null,
            "_view_module_version": "1.2.0",
            "grid_template_areas": null,
            "object_position": null,
            "object_fit": null,
            "grid_auto_columns": null,
            "margin": null,
            "display": null,
            "left": null
          }
        },
        "175ecd3ba11c448a8bb8b01cd2ce7623": {
          "model_module": "@jupyter-widgets/controls",
          "model_name": "DescriptionStyleModel",
          "state": {
            "_view_name": "StyleView",
            "_model_name": "DescriptionStyleModel",
            "description_width": "",
            "_view_module": "@jupyter-widgets/base",
            "_model_module_version": "1.5.0",
            "_view_count": null,
            "_view_module_version": "1.2.0",
            "_model_module": "@jupyter-widgets/controls"
          }
        },
        "76ab7bd401564477b3abdad884839844": {
          "model_module": "@jupyter-widgets/base",
          "model_name": "LayoutModel",
          "state": {
            "_view_name": "LayoutView",
            "grid_template_rows": null,
            "right": null,
            "justify_content": null,
            "_view_module": "@jupyter-widgets/base",
            "overflow": null,
            "_model_module_version": "1.2.0",
            "_view_count": null,
            "flex_flow": null,
            "width": null,
            "min_width": null,
            "border": null,
            "align_items": null,
            "bottom": null,
            "_model_module": "@jupyter-widgets/base",
            "top": null,
            "grid_column": null,
            "overflow_y": null,
            "overflow_x": null,
            "grid_auto_flow": null,
            "grid_area": null,
            "grid_template_columns": null,
            "flex": null,
            "_model_name": "LayoutModel",
            "justify_items": null,
            "grid_row": null,
            "max_height": null,
            "align_content": null,
            "visibility": null,
            "align_self": null,
            "height": null,
            "min_height": null,
            "padding": null,
            "grid_auto_rows": null,
            "grid_gap": null,
            "max_width": null,
            "order": null,
            "_view_module_version": "1.2.0",
            "grid_template_areas": null,
            "object_position": null,
            "object_fit": null,
            "grid_auto_columns": null,
            "margin": null,
            "display": null,
            "left": null
          }
        },
        "c21379645802495885a13a73271efb17": {
          "model_module": "@jupyter-widgets/controls",
          "model_name": "HBoxModel",
          "state": {
            "_view_name": "HBoxView",
            "_dom_classes": [],
            "_model_name": "HBoxModel",
            "_view_module": "@jupyter-widgets/controls",
            "_model_module_version": "1.5.0",
            "_view_count": null,
            "_view_module_version": "1.5.0",
            "box_style": "",
            "layout": "IPY_MODEL_869ca181dbe049b2bbf1cac7d814e0a7",
            "_model_module": "@jupyter-widgets/controls",
            "children": [
              "IPY_MODEL_56c87187e2e14a3d8517a235e8503938",
              "IPY_MODEL_fc873fbe43e345c18b8353ddc58414fe"
            ]
          }
        },
        "869ca181dbe049b2bbf1cac7d814e0a7": {
          "model_module": "@jupyter-widgets/base",
          "model_name": "LayoutModel",
          "state": {
            "_view_name": "LayoutView",
            "grid_template_rows": null,
            "right": null,
            "justify_content": null,
            "_view_module": "@jupyter-widgets/base",
            "overflow": null,
            "_model_module_version": "1.2.0",
            "_view_count": null,
            "flex_flow": null,
            "width": null,
            "min_width": null,
            "border": null,
            "align_items": null,
            "bottom": null,
            "_model_module": "@jupyter-widgets/base",
            "top": null,
            "grid_column": null,
            "overflow_y": null,
            "overflow_x": null,
            "grid_auto_flow": null,
            "grid_area": null,
            "grid_template_columns": null,
            "flex": null,
            "_model_name": "LayoutModel",
            "justify_items": null,
            "grid_row": null,
            "max_height": null,
            "align_content": null,
            "visibility": null,
            "align_self": null,
            "height": null,
            "min_height": null,
            "padding": null,
            "grid_auto_rows": null,
            "grid_gap": null,
            "max_width": null,
            "order": null,
            "_view_module_version": "1.2.0",
            "grid_template_areas": null,
            "object_position": null,
            "object_fit": null,
            "grid_auto_columns": null,
            "margin": null,
            "display": null,
            "left": null
          }
        },
        "56c87187e2e14a3d8517a235e8503938": {
          "model_module": "@jupyter-widgets/controls",
          "model_name": "FloatProgressModel",
          "state": {
            "_view_name": "ProgressView",
            "style": "IPY_MODEL_c686584669bb495dbdb7828cf6061c37",
            "_dom_classes": [],
            "description": "",
            "_model_name": "FloatProgressModel",
            "bar_style": "info",
            "max": 1,
            "_view_module": "@jupyter-widgets/controls",
            "_model_module_version": "1.5.0",
            "value": 1,
            "_view_count": null,
            "_view_module_version": "1.5.0",
            "orientation": "horizontal",
            "min": 0,
            "description_tooltip": null,
            "_model_module": "@jupyter-widgets/controls",
            "layout": "IPY_MODEL_633dc72b2a6e4449b7ccf3ba21fe291d"
          }
        },
        "fc873fbe43e345c18b8353ddc58414fe": {
          "model_module": "@jupyter-widgets/controls",
          "model_name": "HTMLModel",
          "state": {
            "_view_name": "HTMLView",
            "style": "IPY_MODEL_2ea80431dbb94074b9adb54cdfd5a3ab",
            "_dom_classes": [],
            "description": "",
            "_model_name": "HTMLModel",
            "placeholder": "​",
            "_view_module": "@jupyter-widgets/controls",
            "_model_module_version": "1.5.0",
            "value": " 1/0 [00:00&lt;00:00, 27.89 examples/s]",
            "_view_count": null,
            "_view_module_version": "1.5.0",
            "description_tooltip": null,
            "_model_module": "@jupyter-widgets/controls",
            "layout": "IPY_MODEL_61ea98c6144d402691cac7004ce87b25"
          }
        },
        "c686584669bb495dbdb7828cf6061c37": {
          "model_module": "@jupyter-widgets/controls",
          "model_name": "ProgressStyleModel",
          "state": {
            "_view_name": "StyleView",
            "_model_name": "ProgressStyleModel",
            "description_width": "initial",
            "_view_module": "@jupyter-widgets/base",
            "_model_module_version": "1.5.0",
            "_view_count": null,
            "_view_module_version": "1.2.0",
            "bar_color": null,
            "_model_module": "@jupyter-widgets/controls"
          }
        },
        "633dc72b2a6e4449b7ccf3ba21fe291d": {
          "model_module": "@jupyter-widgets/base",
          "model_name": "LayoutModel",
          "state": {
            "_view_name": "LayoutView",
            "grid_template_rows": null,
            "right": null,
            "justify_content": null,
            "_view_module": "@jupyter-widgets/base",
            "overflow": null,
            "_model_module_version": "1.2.0",
            "_view_count": null,
            "flex_flow": null,
            "width": null,
            "min_width": null,
            "border": null,
            "align_items": null,
            "bottom": null,
            "_model_module": "@jupyter-widgets/base",
            "top": null,
            "grid_column": null,
            "overflow_y": null,
            "overflow_x": null,
            "grid_auto_flow": null,
            "grid_area": null,
            "grid_template_columns": null,
            "flex": null,
            "_model_name": "LayoutModel",
            "justify_items": null,
            "grid_row": null,
            "max_height": null,
            "align_content": null,
            "visibility": null,
            "align_self": null,
            "height": null,
            "min_height": null,
            "padding": null,
            "grid_auto_rows": null,
            "grid_gap": null,
            "max_width": null,
            "order": null,
            "_view_module_version": "1.2.0",
            "grid_template_areas": null,
            "object_position": null,
            "object_fit": null,
            "grid_auto_columns": null,
            "margin": null,
            "display": null,
            "left": null
          }
        },
        "2ea80431dbb94074b9adb54cdfd5a3ab": {
          "model_module": "@jupyter-widgets/controls",
          "model_name": "DescriptionStyleModel",
          "state": {
            "_view_name": "StyleView",
            "_model_name": "DescriptionStyleModel",
            "description_width": "",
            "_view_module": "@jupyter-widgets/base",
            "_model_module_version": "1.5.0",
            "_view_count": null,
            "_view_module_version": "1.2.0",
            "_model_module": "@jupyter-widgets/controls"
          }
        },
        "61ea98c6144d402691cac7004ce87b25": {
          "model_module": "@jupyter-widgets/base",
          "model_name": "LayoutModel",
          "state": {
            "_view_name": "LayoutView",
            "grid_template_rows": null,
            "right": null,
            "justify_content": null,
            "_view_module": "@jupyter-widgets/base",
            "overflow": null,
            "_model_module_version": "1.2.0",
            "_view_count": null,
            "flex_flow": null,
            "width": null,
            "min_width": null,
            "border": null,
            "align_items": null,
            "bottom": null,
            "_model_module": "@jupyter-widgets/base",
            "top": null,
            "grid_column": null,
            "overflow_y": null,
            "overflow_x": null,
            "grid_auto_flow": null,
            "grid_area": null,
            "grid_template_columns": null,
            "flex": null,
            "_model_name": "LayoutModel",
            "justify_items": null,
            "grid_row": null,
            "max_height": null,
            "align_content": null,
            "visibility": null,
            "align_self": null,
            "height": null,
            "min_height": null,
            "padding": null,
            "grid_auto_rows": null,
            "grid_gap": null,
            "max_width": null,
            "order": null,
            "_view_module_version": "1.2.0",
            "grid_template_areas": null,
            "object_position": null,
            "object_fit": null,
            "grid_auto_columns": null,
            "margin": null,
            "display": null,
            "left": null
          }
        },
        "b8d79ec1975046deb205d8f77a41a53a": {
          "model_module": "@jupyter-widgets/controls",
          "model_name": "HBoxModel",
          "state": {
            "_view_name": "HBoxView",
            "_dom_classes": [],
            "_model_name": "HBoxModel",
            "_view_module": "@jupyter-widgets/controls",
            "_model_module_version": "1.5.0",
            "_view_count": null,
            "_view_module_version": "1.5.0",
            "box_style": "",
            "layout": "IPY_MODEL_585bc135a73442cf878f68787fc18ff4",
            "_model_module": "@jupyter-widgets/controls",
            "children": [
              "IPY_MODEL_46bb46fa375b4cf5a320ae69b653b056",
              "IPY_MODEL_4458eee69bde4ef79cc90292d632600b"
            ]
          }
        },
        "585bc135a73442cf878f68787fc18ff4": {
          "model_module": "@jupyter-widgets/base",
          "model_name": "LayoutModel",
          "state": {
            "_view_name": "LayoutView",
            "grid_template_rows": null,
            "right": null,
            "justify_content": null,
            "_view_module": "@jupyter-widgets/base",
            "overflow": null,
            "_model_module_version": "1.2.0",
            "_view_count": null,
            "flex_flow": null,
            "width": null,
            "min_width": null,
            "border": null,
            "align_items": null,
            "bottom": null,
            "_model_module": "@jupyter-widgets/base",
            "top": null,
            "grid_column": null,
            "overflow_y": null,
            "overflow_x": null,
            "grid_auto_flow": null,
            "grid_area": null,
            "grid_template_columns": null,
            "flex": null,
            "_model_name": "LayoutModel",
            "justify_items": null,
            "grid_row": null,
            "max_height": null,
            "align_content": null,
            "visibility": null,
            "align_self": null,
            "height": null,
            "min_height": null,
            "padding": null,
            "grid_auto_rows": null,
            "grid_gap": null,
            "max_width": null,
            "order": null,
            "_view_module_version": "1.2.0",
            "grid_template_areas": null,
            "object_position": null,
            "object_fit": null,
            "grid_auto_columns": null,
            "margin": null,
            "display": null,
            "left": null
          }
        },
        "46bb46fa375b4cf5a320ae69b653b056": {
          "model_module": "@jupyter-widgets/controls",
          "model_name": "FloatProgressModel",
          "state": {
            "_view_name": "ProgressView",
            "style": "IPY_MODEL_94128265deb64344ac48d3900c2524b1",
            "_dom_classes": [],
            "description": "  0%",
            "_model_name": "FloatProgressModel",
            "bar_style": "danger",
            "max": 1,
            "_view_module": "@jupyter-widgets/controls",
            "_model_module_version": "1.5.0",
            "value": 0,
            "_view_count": null,
            "_view_module_version": "1.5.0",
            "orientation": "horizontal",
            "min": 0,
            "description_tooltip": null,
            "_model_module": "@jupyter-widgets/controls",
            "layout": "IPY_MODEL_ea899b15c0c04f8e97ba7ae75c154d6b"
          }
        },
        "4458eee69bde4ef79cc90292d632600b": {
          "model_module": "@jupyter-widgets/controls",
          "model_name": "HTMLModel",
          "state": {
            "_view_name": "HTMLView",
            "style": "IPY_MODEL_42a53c635c5e4a3e9ce877c229eac149",
            "_dom_classes": [],
            "description": "",
            "_model_name": "HTMLModel",
            "placeholder": "​",
            "_view_module": "@jupyter-widgets/controls",
            "_model_module_version": "1.5.0",
            "value": " 0/1 [00:00&lt;?, ? examples/s]",
            "_view_count": null,
            "_view_module_version": "1.5.0",
            "description_tooltip": null,
            "_model_module": "@jupyter-widgets/controls",
            "layout": "IPY_MODEL_4bf20de3bf1c4066b79c12b2f24cb4ff"
          }
        },
        "94128265deb64344ac48d3900c2524b1": {
          "model_module": "@jupyter-widgets/controls",
          "model_name": "ProgressStyleModel",
          "state": {
            "_view_name": "StyleView",
            "_model_name": "ProgressStyleModel",
            "description_width": "initial",
            "_view_module": "@jupyter-widgets/base",
            "_model_module_version": "1.5.0",
            "_view_count": null,
            "_view_module_version": "1.2.0",
            "bar_color": null,
            "_model_module": "@jupyter-widgets/controls"
          }
        },
        "ea899b15c0c04f8e97ba7ae75c154d6b": {
          "model_module": "@jupyter-widgets/base",
          "model_name": "LayoutModel",
          "state": {
            "_view_name": "LayoutView",
            "grid_template_rows": null,
            "right": null,
            "justify_content": null,
            "_view_module": "@jupyter-widgets/base",
            "overflow": null,
            "_model_module_version": "1.2.0",
            "_view_count": null,
            "flex_flow": null,
            "width": null,
            "min_width": null,
            "border": null,
            "align_items": null,
            "bottom": null,
            "_model_module": "@jupyter-widgets/base",
            "top": null,
            "grid_column": null,
            "overflow_y": null,
            "overflow_x": null,
            "grid_auto_flow": null,
            "grid_area": null,
            "grid_template_columns": null,
            "flex": null,
            "_model_name": "LayoutModel",
            "justify_items": null,
            "grid_row": null,
            "max_height": null,
            "align_content": null,
            "visibility": null,
            "align_self": null,
            "height": null,
            "min_height": null,
            "padding": null,
            "grid_auto_rows": null,
            "grid_gap": null,
            "max_width": null,
            "order": null,
            "_view_module_version": "1.2.0",
            "grid_template_areas": null,
            "object_position": null,
            "object_fit": null,
            "grid_auto_columns": null,
            "margin": null,
            "display": null,
            "left": null
          }
        },
        "42a53c635c5e4a3e9ce877c229eac149": {
          "model_module": "@jupyter-widgets/controls",
          "model_name": "DescriptionStyleModel",
          "state": {
            "_view_name": "StyleView",
            "_model_name": "DescriptionStyleModel",
            "description_width": "",
            "_view_module": "@jupyter-widgets/base",
            "_model_module_version": "1.5.0",
            "_view_count": null,
            "_view_module_version": "1.2.0",
            "_model_module": "@jupyter-widgets/controls"
          }
        },
        "4bf20de3bf1c4066b79c12b2f24cb4ff": {
          "model_module": "@jupyter-widgets/base",
          "model_name": "LayoutModel",
          "state": {
            "_view_name": "LayoutView",
            "grid_template_rows": null,
            "right": null,
            "justify_content": null,
            "_view_module": "@jupyter-widgets/base",
            "overflow": null,
            "_model_module_version": "1.2.0",
            "_view_count": null,
            "flex_flow": null,
            "width": null,
            "min_width": null,
            "border": null,
            "align_items": null,
            "bottom": null,
            "_model_module": "@jupyter-widgets/base",
            "top": null,
            "grid_column": null,
            "overflow_y": null,
            "overflow_x": null,
            "grid_auto_flow": null,
            "grid_area": null,
            "grid_template_columns": null,
            "flex": null,
            "_model_name": "LayoutModel",
            "justify_items": null,
            "grid_row": null,
            "max_height": null,
            "align_content": null,
            "visibility": null,
            "align_self": null,
            "height": null,
            "min_height": null,
            "padding": null,
            "grid_auto_rows": null,
            "grid_gap": null,
            "max_width": null,
            "order": null,
            "_view_module_version": "1.2.0",
            "grid_template_areas": null,
            "object_position": null,
            "object_fit": null,
            "grid_auto_columns": null,
            "margin": null,
            "display": null,
            "left": null
          }
        },
        "daa5f889b6664a9aab0f0b31c9f6580d": {
          "model_module": "@jupyter-widgets/controls",
          "model_name": "HBoxModel",
          "state": {
            "_view_name": "HBoxView",
            "_dom_classes": [],
            "_model_name": "HBoxModel",
            "_view_module": "@jupyter-widgets/controls",
            "_model_module_version": "1.5.0",
            "_view_count": null,
            "_view_module_version": "1.5.0",
            "box_style": "",
            "layout": "IPY_MODEL_ec8057fca6384b9889ccda386c8e574a",
            "_model_module": "@jupyter-widgets/controls",
            "children": [
              "IPY_MODEL_b6435b83bb9448519af5d36c24366a6d",
              "IPY_MODEL_70f93a79026447cd9a8cc0e7689afa8c"
            ]
          }
        },
        "ec8057fca6384b9889ccda386c8e574a": {
          "model_module": "@jupyter-widgets/base",
          "model_name": "LayoutModel",
          "state": {
            "_view_name": "LayoutView",
            "grid_template_rows": null,
            "right": null,
            "justify_content": null,
            "_view_module": "@jupyter-widgets/base",
            "overflow": null,
            "_model_module_version": "1.2.0",
            "_view_count": null,
            "flex_flow": null,
            "width": null,
            "min_width": null,
            "border": null,
            "align_items": null,
            "bottom": null,
            "_model_module": "@jupyter-widgets/base",
            "top": null,
            "grid_column": null,
            "overflow_y": null,
            "overflow_x": null,
            "grid_auto_flow": null,
            "grid_area": null,
            "grid_template_columns": null,
            "flex": null,
            "_model_name": "LayoutModel",
            "justify_items": null,
            "grid_row": null,
            "max_height": null,
            "align_content": null,
            "visibility": null,
            "align_self": null,
            "height": null,
            "min_height": null,
            "padding": null,
            "grid_auto_rows": null,
            "grid_gap": null,
            "max_width": null,
            "order": null,
            "_view_module_version": "1.2.0",
            "grid_template_areas": null,
            "object_position": null,
            "object_fit": null,
            "grid_auto_columns": null,
            "margin": null,
            "display": null,
            "left": null
          }
        },
        "b6435b83bb9448519af5d36c24366a6d": {
          "model_module": "@jupyter-widgets/controls",
          "model_name": "FloatProgressModel",
          "state": {
            "_view_name": "ProgressView",
            "style": "IPY_MODEL_f6f49b2b6a0547ffa0da0d8289d94510",
            "_dom_classes": [],
            "description": "",
            "_model_name": "FloatProgressModel",
            "bar_style": "info",
            "max": 1,
            "_view_module": "@jupyter-widgets/controls",
            "_model_module_version": "1.5.0",
            "value": 1,
            "_view_count": null,
            "_view_module_version": "1.5.0",
            "orientation": "horizontal",
            "min": 0,
            "description_tooltip": null,
            "_model_module": "@jupyter-widgets/controls",
            "layout": "IPY_MODEL_843b3bd6de9e4119ae5230cce48730e8"
          }
        },
        "70f93a79026447cd9a8cc0e7689afa8c": {
          "model_module": "@jupyter-widgets/controls",
          "model_name": "HTMLModel",
          "state": {
            "_view_name": "HTMLView",
            "style": "IPY_MODEL_4fd7faa7b5394ed88161fe6048983b56",
            "_dom_classes": [],
            "description": "",
            "_model_name": "HTMLModel",
            "placeholder": "​",
            "_view_module": "@jupyter-widgets/controls",
            "_model_module_version": "1.5.0",
            "value": " 1/0 [00:00&lt;00:00, 27.05 examples/s]",
            "_view_count": null,
            "_view_module_version": "1.5.0",
            "description_tooltip": null,
            "_model_module": "@jupyter-widgets/controls",
            "layout": "IPY_MODEL_908b9960417b459da3e9f5b83dd21b26"
          }
        },
        "f6f49b2b6a0547ffa0da0d8289d94510": {
          "model_module": "@jupyter-widgets/controls",
          "model_name": "ProgressStyleModel",
          "state": {
            "_view_name": "StyleView",
            "_model_name": "ProgressStyleModel",
            "description_width": "initial",
            "_view_module": "@jupyter-widgets/base",
            "_model_module_version": "1.5.0",
            "_view_count": null,
            "_view_module_version": "1.2.0",
            "bar_color": null,
            "_model_module": "@jupyter-widgets/controls"
          }
        },
        "843b3bd6de9e4119ae5230cce48730e8": {
          "model_module": "@jupyter-widgets/base",
          "model_name": "LayoutModel",
          "state": {
            "_view_name": "LayoutView",
            "grid_template_rows": null,
            "right": null,
            "justify_content": null,
            "_view_module": "@jupyter-widgets/base",
            "overflow": null,
            "_model_module_version": "1.2.0",
            "_view_count": null,
            "flex_flow": null,
            "width": null,
            "min_width": null,
            "border": null,
            "align_items": null,
            "bottom": null,
            "_model_module": "@jupyter-widgets/base",
            "top": null,
            "grid_column": null,
            "overflow_y": null,
            "overflow_x": null,
            "grid_auto_flow": null,
            "grid_area": null,
            "grid_template_columns": null,
            "flex": null,
            "_model_name": "LayoutModel",
            "justify_items": null,
            "grid_row": null,
            "max_height": null,
            "align_content": null,
            "visibility": null,
            "align_self": null,
            "height": null,
            "min_height": null,
            "padding": null,
            "grid_auto_rows": null,
            "grid_gap": null,
            "max_width": null,
            "order": null,
            "_view_module_version": "1.2.0",
            "grid_template_areas": null,
            "object_position": null,
            "object_fit": null,
            "grid_auto_columns": null,
            "margin": null,
            "display": null,
            "left": null
          }
        },
        "4fd7faa7b5394ed88161fe6048983b56": {
          "model_module": "@jupyter-widgets/controls",
          "model_name": "DescriptionStyleModel",
          "state": {
            "_view_name": "StyleView",
            "_model_name": "DescriptionStyleModel",
            "description_width": "",
            "_view_module": "@jupyter-widgets/base",
            "_model_module_version": "1.5.0",
            "_view_count": null,
            "_view_module_version": "1.2.0",
            "_model_module": "@jupyter-widgets/controls"
          }
        },
        "908b9960417b459da3e9f5b83dd21b26": {
          "model_module": "@jupyter-widgets/base",
          "model_name": "LayoutModel",
          "state": {
            "_view_name": "LayoutView",
            "grid_template_rows": null,
            "right": null,
            "justify_content": null,
            "_view_module": "@jupyter-widgets/base",
            "overflow": null,
            "_model_module_version": "1.2.0",
            "_view_count": null,
            "flex_flow": null,
            "width": null,
            "min_width": null,
            "border": null,
            "align_items": null,
            "bottom": null,
            "_model_module": "@jupyter-widgets/base",
            "top": null,
            "grid_column": null,
            "overflow_y": null,
            "overflow_x": null,
            "grid_auto_flow": null,
            "grid_area": null,
            "grid_template_columns": null,
            "flex": null,
            "_model_name": "LayoutModel",
            "justify_items": null,
            "grid_row": null,
            "max_height": null,
            "align_content": null,
            "visibility": null,
            "align_self": null,
            "height": null,
            "min_height": null,
            "padding": null,
            "grid_auto_rows": null,
            "grid_gap": null,
            "max_width": null,
            "order": null,
            "_view_module_version": "1.2.0",
            "grid_template_areas": null,
            "object_position": null,
            "object_fit": null,
            "grid_auto_columns": null,
            "margin": null,
            "display": null,
            "left": null
          }
        },
        "cf8981f825304adbb01b638000fc3a31": {
          "model_module": "@jupyter-widgets/controls",
          "model_name": "HBoxModel",
          "state": {
            "_view_name": "HBoxView",
            "_dom_classes": [],
            "_model_name": "HBoxModel",
            "_view_module": "@jupyter-widgets/controls",
            "_model_module_version": "1.5.0",
            "_view_count": null,
            "_view_module_version": "1.5.0",
            "box_style": "",
            "layout": "IPY_MODEL_9cfd0ca73f7645309654bc6fd7ea5c44",
            "_model_module": "@jupyter-widgets/controls",
            "children": [
              "IPY_MODEL_4659cb7cc1854211ad6cdb4d25357e38",
              "IPY_MODEL_fdcfba6bad97490db13df7e8c412124c"
            ]
          }
        },
        "9cfd0ca73f7645309654bc6fd7ea5c44": {
          "model_module": "@jupyter-widgets/base",
          "model_name": "LayoutModel",
          "state": {
            "_view_name": "LayoutView",
            "grid_template_rows": null,
            "right": null,
            "justify_content": null,
            "_view_module": "@jupyter-widgets/base",
            "overflow": null,
            "_model_module_version": "1.2.0",
            "_view_count": null,
            "flex_flow": null,
            "width": null,
            "min_width": null,
            "border": null,
            "align_items": null,
            "bottom": null,
            "_model_module": "@jupyter-widgets/base",
            "top": null,
            "grid_column": null,
            "overflow_y": null,
            "overflow_x": null,
            "grid_auto_flow": null,
            "grid_area": null,
            "grid_template_columns": null,
            "flex": null,
            "_model_name": "LayoutModel",
            "justify_items": null,
            "grid_row": null,
            "max_height": null,
            "align_content": null,
            "visibility": null,
            "align_self": null,
            "height": null,
            "min_height": null,
            "padding": null,
            "grid_auto_rows": null,
            "grid_gap": null,
            "max_width": null,
            "order": null,
            "_view_module_version": "1.2.0",
            "grid_template_areas": null,
            "object_position": null,
            "object_fit": null,
            "grid_auto_columns": null,
            "margin": null,
            "display": null,
            "left": null
          }
        },
        "4659cb7cc1854211ad6cdb4d25357e38": {
          "model_module": "@jupyter-widgets/controls",
          "model_name": "FloatProgressModel",
          "state": {
            "_view_name": "ProgressView",
            "style": "IPY_MODEL_5514834f45994d4ebff12f3975aac864",
            "_dom_classes": [],
            "description": "  0%",
            "_model_name": "FloatProgressModel",
            "bar_style": "danger",
            "max": 1,
            "_view_module": "@jupyter-widgets/controls",
            "_model_module_version": "1.5.0",
            "value": 0,
            "_view_count": null,
            "_view_module_version": "1.5.0",
            "orientation": "horizontal",
            "min": 0,
            "description_tooltip": null,
            "_model_module": "@jupyter-widgets/controls",
            "layout": "IPY_MODEL_71c683e39a264b7bb8eaec68474c0a37"
          }
        },
        "fdcfba6bad97490db13df7e8c412124c": {
          "model_module": "@jupyter-widgets/controls",
          "model_name": "HTMLModel",
          "state": {
            "_view_name": "HTMLView",
            "style": "IPY_MODEL_c57ffb486cce4617afb41cbc74841288",
            "_dom_classes": [],
            "description": "",
            "_model_name": "HTMLModel",
            "placeholder": "​",
            "_view_module": "@jupyter-widgets/controls",
            "_model_module_version": "1.5.0",
            "value": " 0/1 [00:00&lt;?, ? examples/s]",
            "_view_count": null,
            "_view_module_version": "1.5.0",
            "description_tooltip": null,
            "_model_module": "@jupyter-widgets/controls",
            "layout": "IPY_MODEL_6e250eba41a74fc89456f9d8f0146170"
          }
        },
        "5514834f45994d4ebff12f3975aac864": {
          "model_module": "@jupyter-widgets/controls",
          "model_name": "ProgressStyleModel",
          "state": {
            "_view_name": "StyleView",
            "_model_name": "ProgressStyleModel",
            "description_width": "initial",
            "_view_module": "@jupyter-widgets/base",
            "_model_module_version": "1.5.0",
            "_view_count": null,
            "_view_module_version": "1.2.0",
            "bar_color": null,
            "_model_module": "@jupyter-widgets/controls"
          }
        },
        "71c683e39a264b7bb8eaec68474c0a37": {
          "model_module": "@jupyter-widgets/base",
          "model_name": "LayoutModel",
          "state": {
            "_view_name": "LayoutView",
            "grid_template_rows": null,
            "right": null,
            "justify_content": null,
            "_view_module": "@jupyter-widgets/base",
            "overflow": null,
            "_model_module_version": "1.2.0",
            "_view_count": null,
            "flex_flow": null,
            "width": null,
            "min_width": null,
            "border": null,
            "align_items": null,
            "bottom": null,
            "_model_module": "@jupyter-widgets/base",
            "top": null,
            "grid_column": null,
            "overflow_y": null,
            "overflow_x": null,
            "grid_auto_flow": null,
            "grid_area": null,
            "grid_template_columns": null,
            "flex": null,
            "_model_name": "LayoutModel",
            "justify_items": null,
            "grid_row": null,
            "max_height": null,
            "align_content": null,
            "visibility": null,
            "align_self": null,
            "height": null,
            "min_height": null,
            "padding": null,
            "grid_auto_rows": null,
            "grid_gap": null,
            "max_width": null,
            "order": null,
            "_view_module_version": "1.2.0",
            "grid_template_areas": null,
            "object_position": null,
            "object_fit": null,
            "grid_auto_columns": null,
            "margin": null,
            "display": null,
            "left": null
          }
        },
        "c57ffb486cce4617afb41cbc74841288": {
          "model_module": "@jupyter-widgets/controls",
          "model_name": "DescriptionStyleModel",
          "state": {
            "_view_name": "StyleView",
            "_model_name": "DescriptionStyleModel",
            "description_width": "",
            "_view_module": "@jupyter-widgets/base",
            "_model_module_version": "1.5.0",
            "_view_count": null,
            "_view_module_version": "1.2.0",
            "_model_module": "@jupyter-widgets/controls"
          }
        },
        "6e250eba41a74fc89456f9d8f0146170": {
          "model_module": "@jupyter-widgets/base",
          "model_name": "LayoutModel",
          "state": {
            "_view_name": "LayoutView",
            "grid_template_rows": null,
            "right": null,
            "justify_content": null,
            "_view_module": "@jupyter-widgets/base",
            "overflow": null,
            "_model_module_version": "1.2.0",
            "_view_count": null,
            "flex_flow": null,
            "width": null,
            "min_width": null,
            "border": null,
            "align_items": null,
            "bottom": null,
            "_model_module": "@jupyter-widgets/base",
            "top": null,
            "grid_column": null,
            "overflow_y": null,
            "overflow_x": null,
            "grid_auto_flow": null,
            "grid_area": null,
            "grid_template_columns": null,
            "flex": null,
            "_model_name": "LayoutModel",
            "justify_items": null,
            "grid_row": null,
            "max_height": null,
            "align_content": null,
            "visibility": null,
            "align_self": null,
            "height": null,
            "min_height": null,
            "padding": null,
            "grid_auto_rows": null,
            "grid_gap": null,
            "max_width": null,
            "order": null,
            "_view_module_version": "1.2.0",
            "grid_template_areas": null,
            "object_position": null,
            "object_fit": null,
            "grid_auto_columns": null,
            "margin": null,
            "display": null,
            "left": null
          }
        }
      }
    },
    "accelerator": "GPU"
  },
  "cells": [
    {
      "cell_type": "markdown",
      "metadata": {
        "id": "view-in-github",
        "colab_type": "text"
      },
      "source": [
        "<a href=\"https://colab.research.google.com/github/lcaspari/42_tensorflow_homework/blob/main/homework10/Embeddings.ipynb\" target=\"_parent\"><img src=\"https://colab.research.google.com/assets/colab-badge.svg\" alt=\"Open In Colab\"/></a>"
      ]
    },
    {
      "cell_type": "code",
      "metadata": {
        "id": "Iy7V8ftA5BBs"
      },
      "source": [
        "import matplotlib.pyplot as plt\n",
        "import numpy as np\n",
        "import tensorflow as tf\n",
        "\n",
        "from tensorflow.keras import Model\n",
        "from tensorflow.keras.layers import Activation, Dense, Dot, Embedding, Flatten, GlobalAveragePooling1D, Reshape, Layer\n",
        "from tensorflow.keras.layers.experimental import preprocessing\n",
        "\n",
        "from tensorflow.keras.initializers import RandomUniform\n",
        "\n",
        "from tensorflow.python.util import compat\n",
        "\n",
        "import tensorflow_datasets as tfds\n",
        "import matplotlib.pyplot as plt\n",
        "\n",
        "from scipy.spatial import distance\n",
        "from sklearn.manifold import TSNE\n",
        "\n",
        "import re, math, time"
      ],
      "execution_count": 1,
      "outputs": []
    },
    {
      "cell_type": "markdown",
      "metadata": {
        "id": "LV_gr6U76GB1"
      },
      "source": [
        "# Load and preprocess the data"
      ]
    },
    {
      "cell_type": "markdown",
      "metadata": {
        "id": "n1Vrjq6s6NRp"
      },
      "source": [
        "## Load the data"
      ]
    },
    {
      "cell_type": "code",
      "metadata": {
        "id": "inWNgui8aCTS",
        "colab": {
          "base_uri": "https://localhost:8080/",
          "height": 357,
          "referenced_widgets": [
            "e69ff3f9167b4ae7b1b4b818e47b886b",
            "2d25527e23114c6eba272be4afb38b98",
            "393cf14e102648b2b183b2ffd4779e11",
            "a3694edcbf734ff9ad7f3ca7d0a7e447",
            "7435639107a44f42b43b469ce25c4624",
            "c5a24c59cedc4bad91a9cac0d17efc1c",
            "972fd2134a23412bb38e10211448d844",
            "81b47ea906f64cbe837e3af1685b2f18",
            "7c6483977a134f7ab8bed5470fe59043",
            "5a90ab3feccb4329b16c7889a93b383d",
            "1561d94cf45b4e6c89d15561a00c230a",
            "77f308cc455a41ddaf093d6e8b40cf84",
            "1312c51abb4646a9a28abd1d7f6c70d6",
            "7643e24fb7d546dcb7b6d2e887c94045",
            "74fc0087905a40238df800bd4389a140",
            "b56537f3acdf4bf4b189fbfce0cfca20",
            "553ee6d70ad9492c99be1b6ecdd0a8e3",
            "5e6a00a4c81848e7955228d7255104d3",
            "90f7c375b9ae4bbaa782d0f438ef8974",
            "017ec4b120b94cdd8b18b46c56d6bfe2",
            "01a7bf3a20a4440cbbe1df572a41d04c",
            "4b49b56071e44abc8092b0d722f057da",
            "99b5669cf9134e86a5ba9c0a70c6f38d",
            "75b24276038f4d088b65697ae92d124b",
            "183d0ab2fe3a4c559704704b92ecac6c",
            "6e041c83d6234c81b437506b491aa52f",
            "f4b041a693304b17b18ca93762da3ab6",
            "8d78066a5df8405ab5ad1198fa2c6c04",
            "615b76af1c9f430897d295adffcb9d61",
            "be34983a10ca42398ca758e17e5ff539",
            "175ecd3ba11c448a8bb8b01cd2ce7623",
            "76ab7bd401564477b3abdad884839844",
            "c21379645802495885a13a73271efb17",
            "869ca181dbe049b2bbf1cac7d814e0a7",
            "56c87187e2e14a3d8517a235e8503938",
            "fc873fbe43e345c18b8353ddc58414fe",
            "c686584669bb495dbdb7828cf6061c37",
            "633dc72b2a6e4449b7ccf3ba21fe291d",
            "2ea80431dbb94074b9adb54cdfd5a3ab",
            "61ea98c6144d402691cac7004ce87b25",
            "b8d79ec1975046deb205d8f77a41a53a",
            "585bc135a73442cf878f68787fc18ff4",
            "46bb46fa375b4cf5a320ae69b653b056",
            "4458eee69bde4ef79cc90292d632600b",
            "94128265deb64344ac48d3900c2524b1",
            "ea899b15c0c04f8e97ba7ae75c154d6b",
            "42a53c635c5e4a3e9ce877c229eac149",
            "4bf20de3bf1c4066b79c12b2f24cb4ff",
            "daa5f889b6664a9aab0f0b31c9f6580d",
            "ec8057fca6384b9889ccda386c8e574a",
            "b6435b83bb9448519af5d36c24366a6d",
            "70f93a79026447cd9a8cc0e7689afa8c",
            "f6f49b2b6a0547ffa0da0d8289d94510",
            "843b3bd6de9e4119ae5230cce48730e8",
            "4fd7faa7b5394ed88161fe6048983b56",
            "908b9960417b459da3e9f5b83dd21b26",
            "cf8981f825304adbb01b638000fc3a31",
            "9cfd0ca73f7645309654bc6fd7ea5c44",
            "4659cb7cc1854211ad6cdb4d25357e38",
            "fdcfba6bad97490db13df7e8c412124c",
            "5514834f45994d4ebff12f3975aac864",
            "71c683e39a264b7bb8eaec68474c0a37",
            "c57ffb486cce4617afb41cbc74841288",
            "6e250eba41a74fc89456f9d8f0146170"
          ]
        },
        "outputId": "b8af16fd-4706-4189-e7c5-5c52a90ff68d"
      },
      "source": [
        "testData = tfds.load(name=\"tiny_shakespeare\")[\"test\"]\n"
      ],
      "execution_count": 2,
      "outputs": [
        {
          "output_type": "stream",
          "text": [
            "\u001b[1mDownloading and preparing dataset tiny_shakespeare/1.0.0 (download: Unknown size, generated: 1.06 MiB, total: 1.06 MiB) to /root/tensorflow_datasets/tiny_shakespeare/1.0.0...\u001b[0m\n"
          ],
          "name": "stdout"
        },
        {
          "output_type": "display_data",
          "data": {
            "application/vnd.jupyter.widget-view+json": {
              "model_id": "e69ff3f9167b4ae7b1b4b818e47b886b",
              "version_minor": 0,
              "version_major": 2
            },
            "text/plain": [
              "HBox(children=(FloatProgress(value=1.0, bar_style='info', description='Dl Completed...', max=1.0, style=Progre…"
            ]
          },
          "metadata": {
            "tags": []
          }
        },
        {
          "output_type": "display_data",
          "data": {
            "application/vnd.jupyter.widget-view+json": {
              "model_id": "7c6483977a134f7ab8bed5470fe59043",
              "version_minor": 0,
              "version_major": 2
            },
            "text/plain": [
              "HBox(children=(FloatProgress(value=1.0, bar_style='info', description='Dl Size...', max=1.0, style=ProgressSty…"
            ]
          },
          "metadata": {
            "tags": []
          }
        },
        {
          "output_type": "stream",
          "text": [
            "\n",
            "\n",
            "\n",
            "\n"
          ],
          "name": "stdout"
        },
        {
          "output_type": "display_data",
          "data": {
            "application/vnd.jupyter.widget-view+json": {
              "model_id": "553ee6d70ad9492c99be1b6ecdd0a8e3",
              "version_minor": 0,
              "version_major": 2
            },
            "text/plain": [
              "HBox(children=(FloatProgress(value=1.0, bar_style='info', max=1.0), HTML(value='')))"
            ]
          },
          "metadata": {
            "tags": []
          }
        },
        {
          "output_type": "stream",
          "text": [
            "\rShuffling and writing examples to /root/tensorflow_datasets/tiny_shakespeare/1.0.0.incompleteTJHA7R/tiny_shakespeare-train.tfrecord\n"
          ],
          "name": "stdout"
        },
        {
          "output_type": "display_data",
          "data": {
            "application/vnd.jupyter.widget-view+json": {
              "model_id": "183d0ab2fe3a4c559704704b92ecac6c",
              "version_minor": 0,
              "version_major": 2
            },
            "text/plain": [
              "HBox(children=(FloatProgress(value=0.0, max=1.0), HTML(value='')))"
            ]
          },
          "metadata": {
            "tags": []
          }
        },
        {
          "output_type": "stream",
          "text": [
            "\r"
          ],
          "name": "stdout"
        },
        {
          "output_type": "display_data",
          "data": {
            "application/vnd.jupyter.widget-view+json": {
              "model_id": "c21379645802495885a13a73271efb17",
              "version_minor": 0,
              "version_major": 2
            },
            "text/plain": [
              "HBox(children=(FloatProgress(value=1.0, bar_style='info', max=1.0), HTML(value='')))"
            ]
          },
          "metadata": {
            "tags": []
          }
        },
        {
          "output_type": "stream",
          "text": [
            "\rShuffling and writing examples to /root/tensorflow_datasets/tiny_shakespeare/1.0.0.incompleteTJHA7R/tiny_shakespeare-validation.tfrecord\n"
          ],
          "name": "stdout"
        },
        {
          "output_type": "display_data",
          "data": {
            "application/vnd.jupyter.widget-view+json": {
              "model_id": "b8d79ec1975046deb205d8f77a41a53a",
              "version_minor": 0,
              "version_major": 2
            },
            "text/plain": [
              "HBox(children=(FloatProgress(value=0.0, max=1.0), HTML(value='')))"
            ]
          },
          "metadata": {
            "tags": []
          }
        },
        {
          "output_type": "stream",
          "text": [
            "\r"
          ],
          "name": "stdout"
        },
        {
          "output_type": "display_data",
          "data": {
            "application/vnd.jupyter.widget-view+json": {
              "model_id": "daa5f889b6664a9aab0f0b31c9f6580d",
              "version_minor": 0,
              "version_major": 2
            },
            "text/plain": [
              "HBox(children=(FloatProgress(value=1.0, bar_style='info', max=1.0), HTML(value='')))"
            ]
          },
          "metadata": {
            "tags": []
          }
        },
        {
          "output_type": "stream",
          "text": [
            "\rShuffling and writing examples to /root/tensorflow_datasets/tiny_shakespeare/1.0.0.incompleteTJHA7R/tiny_shakespeare-test.tfrecord\n"
          ],
          "name": "stdout"
        },
        {
          "output_type": "display_data",
          "data": {
            "application/vnd.jupyter.widget-view+json": {
              "model_id": "cf8981f825304adbb01b638000fc3a31",
              "version_minor": 0,
              "version_major": 2
            },
            "text/plain": [
              "HBox(children=(FloatProgress(value=0.0, max=1.0), HTML(value='')))"
            ]
          },
          "metadata": {
            "tags": []
          }
        },
        {
          "output_type": "stream",
          "text": [
            "\u001b[1mDataset tiny_shakespeare downloaded and prepared to /root/tensorflow_datasets/tiny_shakespeare/1.0.0. Subsequent calls will reuse this data.\u001b[0m\n",
            "\r"
          ],
          "name": "stdout"
        }
      ]
    },
    {
      "cell_type": "code",
      "metadata": {
        "colab": {
          "base_uri": "https://localhost:8080/"
        },
        "id": "g0NpZQqqaMAC",
        "outputId": "f20d85c4-bc3f-4185-dbb3-663a16533bab"
      },
      "source": [
        "for i in testData:\n",
        "  print(i.keys())\n",
        "  "
      ],
      "execution_count": 3,
      "outputs": [
        {
          "output_type": "stream",
          "text": [
            "dict_keys(['text'])\n"
          ],
          "name": "stdout"
        }
      ]
    },
    {
      "cell_type": "markdown",
      "metadata": {
        "id": "KzxkLlpL6n80"
      },
      "source": [
        "# 2. Word Embeddings"
      ]
    },
    {
      "cell_type": "markdown",
      "metadata": {
        "id": "AZvEdvNb6rdT"
      },
      "source": [
        "## 2.1 Preprocessing\n",
        "- translate words to enitity id \"castle\" → 1450\n",
        "  - convert to lowercase\n",
        "  - remove punctuation and new line characters\n",
        "- create two dictionaries containing the mappings\n",
        "  - dict1: word → id\n",
        "  - dict2: id → word\n",
        "- create input-target pairs \n",
        "  - containing the input and its context (the target)\n",
        "  - using a context window of 4 words\n",
        "    - (word, context1)\n",
        "    - (word, context2)\n",
        "    - (word, context3)\n",
        "    - (word, context4)\n",
        "\n",
        "**outstanding**\n",
        "→ disregard often occuring words with the given formular"
      ]
    },
    {
      "cell_type": "code",
      "metadata": {
        "colab": {
          "base_uri": "https://localhost:8080/"
        },
        "id": "VQsKk753ZGJu",
        "outputId": "fe9b437f-d980-4088-c900-29be68c9eaf9"
      },
      "source": [
        "import re\n",
        "\n",
        "# remove punctuation\n",
        "trainText = next(iter(testData))[\"text\"].numpy()\n",
        "print(trainText)\n",
        "\n",
        "trainText = re.sub(r'\\\\n', ' ', str(trainText).lower())\n",
        "trainText = re.sub(r\"[^a-zA-Z ]\", '', trainText)\n",
        "\n",
        "print(trainText)"
      ],
      "execution_count": 4,
      "outputs": [
        {
          "output_type": "stream",
          "text": [
            "b\"rance ta'en\\nAs shall with either part's agreement stand?\\n\\nBAPTISTA:\\nNot in my house, Lucentio; for, you know,\\nPitchers have ears, and I have many servants:\\nBesides, old Gremio is hearkening still;\\nAnd happily we might be interrupted.\\n\\nTRANIO:\\nThen at my lodging, an it like you:\\nThere doth my father lie; and there, this night,\\nWe'll pass the business privately and well.\\nSend for your daughter by your servant here:\\nMy boy shall fetch the scrivener presently.\\nThe worst is this, that, at so slender warning,\\nYou are like to have a thin and slender pittance.\\n\\nBAPTISTA:\\nIt likes me well. Biondello, hie you home,\\nAnd bid Bianca make her ready straight;\\nAnd, if you will, tell what hath happened,\\nLucentio's father is arrived in Padua,\\nAnd how she's like to be Lucentio's wife.\\n\\nBIONDELLO:\\nI pray the gods she may with all my heart!\\n\\nTRANIO:\\nDally not with the gods, but get thee gone.\\nSignior Baptista, shall I lead the way?\\nWelcome! one mess is like to be your cheer:\\nCome, sir; we will better it in Pisa.\\n\\nBAPTISTA:\\nI follow you.\\n\\nBIONDELLO:\\nCambio!\\n\\nLUCENTIO:\\nWhat sayest thou, Biondello?\\n\\nBIONDELLO:\\nYou saw my master wink and laugh upon you?\\n\\nLUCENTIO:\\nBiondello, what of that?\\n\\nBIONDELLO:\\nFaith, nothing; but has left me here behind, to\\nexpound the meaning or moral of his signs and tokens.\\n\\nLUCENTIO:\\nI pray thee, moralize them.\\n\\nBIONDELLO:\\nThen thus. Baptista is safe, talking with the\\ndeceiving father of a deceitful son.\\n\\nLUCENTIO:\\nAnd what of him?\\n\\nBIONDELLO:\\nHis daughter is to be brought by you to the supper.\\n\\nLUCENTIO:\\nAnd then?\\n\\nBIONDELLO:\\nThe old priest of Saint Luke's church is at your\\ncommand at all hours.\\n\\nLUCENTIO:\\nAnd what of all this?\\n\\nBIONDELLO:\\nI cannot tell; expect they are busied about a\\ncounterfeit assurance: take you assurance of her,\\n'cum privilegio ad imprimendum solum:' to the\\nchurch; take the priest, clerk, and some sufficient\\nhonest witnesses: If this be not that you look for,\\nI have no more to say, But bid Bianca farewell for\\never and a day.\\n\\nLUCENTIO:\\nHearest thou, Biondello?\\n\\nBIONDELLO:\\nI cannot tarry: I knew a wench married in an\\nafternoon as she went to the garden for parsley to\\nstuff a rabbit; and so may you, sir: and so, adieu,\\nsir. My master hath appointed me to go to Saint\\nLuke's, to bid the priest be ready to come against\\nyou come with your appendix.\\n\\nLUCENTIO:\\nI may, and will, if she be so contented:\\nShe will be pleased; then wherefore should I doubt?\\nHap what hap may, I'll roundly go about her:\\nIt shall go hard if Cambio go without her.\\n\\nPETRUCHIO:\\nCome on, i' God's name; once more toward our father's.\\nGood Lord, how bright and goodly shines the moon!\\n\\nKATHARINA:\\nThe moon! the sun: it is not moonlight now.\\n\\nPETRUCHIO:\\nI say it is the moon that shines so bright.\\n\\nKATHARINA:\\nI know it is the sun that shines so bright.\\n\\nPETRUCHIO:\\nNow, by my mother's son, and that's myself,\\nIt shall be moon, or star, or what I list,\\nOr ere I journey to your father's house.\\nGo on, and fetch our horses back again.\\nEvermore cross'd and cross'd; nothing but cross'd!\\n\\nHORTENSIO:\\nSay as he says, or we shall never go.\\n\\nKATHARINA:\\nForward, I pray, since we have come so far,\\nAnd be it moon, or sun, or what you please:\\nAn if you please to call it a rush-candle,\\nHenceforth I vow it shall be so for me.\\n\\nPETRUCHIO:\\nI say it is the moon.\\n\\nKATHARINA:\\nI know it is the moon.\\n\\nPETRUCHIO:\\nNay, then you lie: it is the blessed sun.\\n\\nKATHARINA:\\nThen, God be bless'd, it is the blessed sun:\\nBut sun it is not, when you say it is not;\\nAnd the moon changes even as your mind.\\nWhat you will have it named, even that it is;\\nAnd so it shall be so for Katharina.\\n\\nHORTENSIO:\\nPetruchio, go thy ways; the field is won.\\n\\nPETRUCHIO:\\nWell, forward, forward! thus the bowl should run,\\nAnd not unluckily against the bias.\\nBut, soft! company is coming here.\\nGood morrow, gentle mistress: where away?\\nTell me, sweet Kate, and tell me truly too,\\nHast thou beheld a fresher gentlewoman?\\nSuch war of white and red within her cheeks!\\nWhat stars do spangle heaven with such beauty,\\nAs those two eyes become that heavenly face?\\nFair lovely maid, once more good day to thee.\\nSweet Kate, embrace her for her beauty's sake.\\n\\nHORTENSIO:\\nA' will make the man mad, to make a woman of him.\\n\\nKATHARINA:\\nYoung budding virgin, fair and fresh and sweet,\\nWhither away, or where is thy abode?\\nHappy the parents of so fair a child;\\nHappier the man, whom favourable stars\\nAllot thee for his lovely bed-fellow!\\n\\nPETRUCHIO:\\nWhy, how now, Kate! I hope thou art not mad:\\nThis is a man, old, wrinkled, faded, wither'd,\\nAnd not a maiden, as thou say'st he is.\\n\\nKATHARINA:\\nPardon, old father, my mistaking eyes,\\nThat have been so bedazzled with the sun\\nThat everything I look on seemeth green:\\nNow I perceive thou art a reverend father;\\nPardon, I pray thee, for my mad mistaking.\\n\\nPETRUCHIO:\\nDo, good old grandsire; and withal make known\\nWhich way thou travellest: if along with us,\\nWe shall be joyful of thy company.\\n\\nVINCENTIO:\\nFair sir, and you my merry mistress,\\nThat with your strange encounter much amazed me,\\nMy name is call'd Vincentio; my dwelling Pisa;\\nAnd bound I am to Padua; there to visit\\nA son of mine, which long I have not seen.\\n\\nPETRUCHIO:\\nWhat is his name?\\n\\nVINCENTIO:\\nLucentio, gentle sir.\\n\\nPETRUCHIO:\\nHappily we met; the happier for thy son.\\nAnd now by law, as well as reverend age,\\nI may entitle thee my loving father:\\nThe sister to my wife, this gentlewoman,\\nThy son by this hath married. Wonder not,\\nNor be grieved: she is of good esteem,\\nHer dowery wealthy, and of worthy birth;\\nBeside, so qualified as may beseem\\nThe spouse of any noble gentleman.\\nLet me embrace with old Vincentio,\\nAnd wander we to see thy honest son,\\nWho will of thy arrival be full joyous.\\n\\nVINCENTIO:\\nBut is it true? or else is it your pleasure,\\nLike pleasant travellers, to break a jest\\nUpon the company you overtake?\\n\\nHORTENSIO:\\nI do assure thee, father, so it is.\\n\\nPETRUCHIO:\\nCome, go along, and see the truth hereof;\\nFor our first merriment hath made thee jealous.\\n\\nHORTENSIO:\\nWell, Petruchio, this has put me in heart.\\nHave to my widow! and if she be froward,\\nThen hast thou taught Hortensio to be untoward.\\n\\nBIONDELLO:\\nSoftly and swiftly, sir; for the priest is ready.\\n\\nLUCENTIO:\\nI fly, Biondello: but they may chance to need thee\\nat home; therefore leave us.\\n\\nBIONDELLO:\\nNay, faith, I'll see the church o' your back; and\\nthen come back to my master's as soon as I can.\\n\\nGREMIO:\\nI marvel Cambio comes not all this while.\\n\\nPETRUCHIO:\\nSir, here's the door, this is Lucentio's house:\\nMy father's bears more toward the market-place;\\nThither must I, and here I leave you, sir.\\n\\nVINCENTIO:\\nYou shall not choose but drink before you go:\\nI think I shall command your welcome here,\\nAnd, by all likelihood, some cheer is toward.\\n\\nGREMIO:\\nThey're busy within; you were best knock louder.\\n\\nPedant:\\nWhat's he that knocks as he would beat down the gate?\\n\\nVINCENTIO:\\nIs Signior Lucentio within, sir?\\n\\nPedant:\\nHe's within, sir, but not to be spoken withal.\\n\\nVINCENTIO:\\nWhat if a man bring him a hundred pound or two, to\\nmake merry withal?\\n\\nPedant:\\nKeep your hundred pounds to yourself: he shall\\nneed none, so long as I live.\\n\\nPETRUCHIO:\\nNay, I told you your son was well beloved in Padua.\\nDo you hear, sir? To leave frivolous circumstances,\\nI pray you, tell Signior Lucentio that his father is\\ncome from Pisa, and is here at the door to speak with him.\\n\\nPedant:\\nThou liest: his father is come from Padua and here\\nlooking out at the window.\\n\\nVINCENTIO:\\nArt thou his father?\\n\\nPedant:\\nAy, sir; so his mother says, if I may believe her.\\n\\nPETRUCHIO:\\n\\nPedant:\\nLay hands on the villain: I believe a' means to\\ncozen somebody in this city under my countenance.\\n\\nBIONDELLO:\\nI have seen them in the church together: God send\\n'em good shipping! But who is here? mine old\\nmaster Vincentio! now we are undone and brought to nothing.\\n\\nVINCENTIO:\\n\\nBIONDELLO:\\nHope I may choose, sir.\\n\\nVINCENTIO:\\nCome hither, you rogue. What, have you forgot me?\\n\\nBIONDELLO:\\nForgot you! no, sir: I could not forget you, for I\\nnever saw you before in all my life.\\n\\nVINCENTIO:\\nWhat, you notorious villain, didst thou never see\\nthy master's father, Vincentio?\\n\\nBIONDELLO:\\nWhat, my old worshipful old master? yes, marry, sir:\\nsee where he looks out of the window.\\n\\nVINCENTIO:\\nIs't so, indeed.\\n\\nBIONDELLO:\\nHelp, help, help! here's a madman will murder me.\\n\\nPedant:\\nHelp, son! help, Signior Baptista!\\n\\nPETRUCHIO:\\nPrithee, Kate, let's stand aside and see the end of\\nthis controversy.\\n\\nTRANIO:\\nSir, what are you that offer to beat my servant?\\n\\nVINCENTIO:\\nWhat am I, sir! nay, what are you, sir? O immortal\\ngods! O fine villain! A silken doublet! a velvet\\nhose! a scarlet cloak! and a copatain hat! O, I\\nam undone! I am undone! while I play the good\\nhusband at home, my son and my servant spend all at\\nthe university.\\n\\nTRANIO:\\nHow now! what's the matter?\\n\\nBAPTISTA:\\nWhat, is the man lunatic?\\n\\nTRANIO:\\nSir, you seem a sober ancient gentleman by your\\nhabit, but your words show you a madman. Why, sir,\\nwhat 'cerns it you if I wear pearl and gold? I\\nthank my good father, I am able to maintain it.\\n\\nVINCENTIO:\\nThy father! O villain! he is a sailmaker in Bergamo.\\n\\nBAPTISTA:\\nYou mistake, sir, you mistake, sir. Pray, what do\\nyou think is his name?\\n\\nVINCENTIO:\\nHis name! as if I knew not his name: I have brought\\nhim up ever since he was three years old, and his\\nname is Tranio.\\n\\nPedant:\\nAway, away, mad ass! his name is Lucentio and he is\\nmine only son, and heir to the lands of me, Signior Vincentio.\\n\\nVINCENTIO:\\nLucentio! O, he hath murdered his master! Lay hold\\non him, I charge you, in the duke's name. O, my\\nson, my son! Tell me, thou villain, where is my son Lucentio?\\n\\nTRANIO:\\nCall forth an officer.\\nCarry this mad knave to the gaol. Father Baptista,\\nI charge you see that he be forthcoming.\\n\\nVINCENTIO:\\nCarry me to the gaol!\\n\\nGREMIO:\\nStay, officer: he shall not go to prison.\\n\\nBAPTISTA:\\nTalk not, Signior Gremio: I say he shall go to prison.\\n\\nGREMIO:\\nTake heed, Signior Baptista, lest you be\\ncony-catched in this business: I dare swear this\\nis the right Vincentio.\\n\\nPedant:\\nSwear, if thou darest.\\n\\nGREMIO:\\nNay, I dare not swear it.\\n\\nTRANIO:\\nThen thou wert best say that I am not Lucentio.\\n\\nGREMIO:\\nYes, I know thee to be Signior Lucentio.\\n\\nBAPTISTA:\\nAway with the dotard! to the gaol with him!\\n\\nVINCENTIO:\\nThus strangers may be hailed and abused: O\\nmonstrous villain!\\n\\nBIONDELLO:\\nO! we are spoiled and--yonder he is: deny him,\\nforswear him, or else we are all undone.\\n\\nLUCENTIO:\\n\\nVINCENTIO:\\nLives my sweet son?\\n\\nBIANCA:\\nPardon, dear father.\\n\\nBAPTISTA:\\nHow hast thou offended?\\nWhere is Lucentio?\\n\\nLUCENTIO:\\nHere's Lucentio,\\nRight son to the right Vincentio;\\nThat have by marriage made thy daughter mine,\\nWhile counterfeit supposes bleared thine eyne.\\n\\nGREMIO:\\nHere's packing, with a witness to deceive us all!\\n\\nVINCENTIO:\\nWhere is that damned villain Tranio,\\nThat faced and braved me in this matter so?\\n\\nBAPTISTA:\\nWhy, tell me, is not this my Cambio?\\n\\nBIANCA:\\nCambio is changed into Lucentio.\\n\\nLUCENTIO:\\nLove wrought these miracles. Bianca's love\\nMade me exchange my state with Tranio,\\nWhile he did bear my countenance in the town;\\nAnd happily I have arrived at the last\\nUnto the wished haven of my bliss.\\nWhat Tranio did, myself enforced him to;\\nThen pardon him, sweet father, for my sake.\\n\\nVINCENTIO:\\nI'll slit the villain's nose, that would have sent\\nme to the gaol.\\n\\nBAPTISTA:\\nBut do you hear, sir? have you married my daughter\\nwithout asking my good will?\\n\\nVINCENTIO:\\nFear not, Baptista; we will content you, go to: but\\nI will in, to be revenged for this villany.\\n\\nBAPTISTA:\\nAnd I, to sound the depth of this knavery.\\n\\nLUCENTIO:\\nLook not pale, Bianca; thy father will not frown.\\n\\nGREMIO:\\nMy cake is dough; but I'll in among the rest,\\nOut of hope of all, but my share of the feast.\\n\\nKATHARINA:\\nHusband, let's follow, to see the end of this ado.\\n\\nPETRUCHIO:\\nFirst kiss me, Kate, and we will.\\n\\nKATHARINA:\\nWhat, in the midst of the street?\\n\\nPETRUCHIO:\\nWhat, art thou ashamed of me?\\n\\nKATHARINA:\\nNo, sir, God forbid; but ashamed to kiss.\\n\\nPETRUCHIO:\\nWhy, then let's home again. Come, sirrah, let's away.\\n\\nKATHARINA:\\nNay, I will give thee a kiss: now pray thee, love, stay.\\n\\nPETRUCHIO:\\nIs not this well? Come, my sweet Kate:\\nBetter once than never, for never too late.\\n\\nLUCENTIO:\\nAt last, though long, our jarring notes agree:\\nAnd time it is, when raging war is done,\\nTo smile at scapes and perils overblown.\\nMy fair Bianca, bid my father welcome,\\nWhile I with self-same kindness welcome thine.\\nBrother Petruchio, sister Katharina,\\nAnd thou, Hortensio, with thy loving widow,\\nFeast with the best, and welcome to my house:\\nMy banquet is to close our stomachs up,\\nAfter our great good cheer. Pray you, sit down;\\nFor now we sit to chat as well as eat.\\n\\nPETRUCHIO:\\nNothing but sit and sit, and eat and eat!\\n\\nBAPTISTA:\\nPadua affords this kindness, son Petruchio.\\n\\nPETRUCHIO:\\nPadua affords nothing but what is kind.\\n\\nHORTENSIO:\\nFor both our sakes, I would that word were true.\\n\\nPETRUCHIO:\\nNow, for my life, Hortensio fears his widow.\\n\\nWidow:\\nThen never trust me, if I be afeard.\\n\\nPETRUCHIO:\\nYou are very sensible, and yet you miss my sense:\\nI mean, Hortensio is afeard of you.\\n\\nWidow:\\nHe that is giddy thinks the world turns round.\\n\\nPETRUCHIO:\\nRoundly replied.\\n\\nKATHARINA:\\nMistress, how mean you that?\\n\\nWidow:\\nThus I conceive by him.\\n\\nPETRUCHIO:\\nConceives by me! How likes Hortensio that?\\n\\nHORTENSIO:\\nMy widow says, thus she conceives her tale.\\n\\nPETRUCHIO:\\nVery well mended. Kiss him for that, good widow.\\n\\nKATHARINA:\\n'He that is giddy thinks the world turns round:'\\nI pray you, tell me what you meant by that.\\n\\nWidow:\\nYour husband, being troubled with a shrew,\\nMeasures my husband's sorrow by his woe:\\nAnd now you know my meaning,\\n\\nKATHARINA:\\nA very mean meaning.\\n\\nWidow:\\nRight, I mean you.\\n\\nKATHARINA:\\nAnd I am mean indeed, respecting you.\\n\\nPETRUCHIO:\\nTo her, Kate!\\n\\nHORTENSIO:\\nTo her, widow!\\n\\nPETRUCHIO:\\nA hundred marks, my Kate does put her down.\\n\\nHORTENSIO:\\nThat's my office.\\n\\nPETRUCHIO:\\nSpoke like an officer; ha' to thee, lad!\\n\\nBAPTISTA:\\nHow likes Gremio these quick-witted folks?\\n\\nGREMIO:\\nBelieve me, sir, they butt together well.\\n\\nBIANCA:\\nHead, and butt! an hasty-witted body\\nWould say your head and butt were head and horn.\\n\\nVINCENTIO:\\nAy, mistress bride, hath that awaken'd you?\\n\\nBIANCA:\\nAy, but not frighted me; therefore I'll sleep again.\\n\\nPETRUCHIO:\\nNay, that you shall not: since you have begun,\\nHave at you for a bitter jest or two!\\n\\nBIANCA:\\nAm I your bird? I mean to shift my bush;\\nAnd then pursue me as you draw your bow.\\nYou are welcome all.\\n\\nPETRUCHIO:\\nShe hath prevented me. Here, Signior Tranio.\\nThis bird you aim'd at, though you hit her not;\\nTherefore a health to all that shot and miss'd.\\n\\nTRANIO:\\nO, sir, Lucentio slipp'd me like his greyhound,\\nWhich runs himself and catches for his master.\\n\\nPETRUCHIO:\\nA good swift simile, but something currish.\\n\\nTRANIO:\\n'Tis well, sir, that you hunted for yourself:\\n'Tis thought your deer does hold you at a bay.\\n\\nBAPTISTA:\\nO ho, Petruchio! Tranio hits you now.\\n\\nLUCENTIO:\\nI thank thee for that gird, good Tranio.\\n\\nHORTENSIO:\\nConfess, confess, hath he not hit you here?\\n\\nPETRUCHIO:\\nA' has a little gall'd me, I confess;\\nAnd, as the jest did glance away from me,\\n'Tis ten to one it maim'd you two outright.\\n\\nBAPTISTA:\\nNow, in good sadness, son Petruchio,\\nI think thou hast the veriest shrew of all.\\n\\nPETRUCHIO:\\nWell, I say no: and therefore for assurance\\nLet's each one send unto his wife;\\nAnd he whose wife is most obedient\\nTo come at first when he doth send for her,\\nShall win the wager which we will propose.\\n\\nHORTENSIO:\\nContent. What is the wager?\\n\\nLUCENTIO:\\nTwenty crowns.\\n\\nPETRUCHIO:\\nTwenty crowns!\\nI'll venture so much of my hawk or hound,\\nBut twenty times so much upon my wife.\\n\\nLUCENTIO:\\nA hundred then.\\n\\nHORTENSIO:\\nContent.\\n\\nPETRUCHIO:\\nA match! 'tis done.\\n\\nHORTENSIO:\\nWho shall begin?\\n\\nLUCENTIO:\\nThat will I.\\nGo, Biondello, bid your mistress come to me.\\n\\nBIONDELLO:\\nI go.\\n\\nBAPTISTA:\\nSon, I'll be your half, Bianca comes.\\n\\nLUCENTIO:\\nI'll have no halves; I'll bear it all myself.\\nHow now! what news?\\n\\nBIONDELLO:\\nSir, my mistress sends you word\\nThat she is busy and she cannot come.\\n\\nPETRUCHIO:\\nHow! she is busy and she cannot come!\\nIs that an answer?\\n\\nGREMIO:\\nAy, and a kind one too:\\nPray God, sir, your wife send you not a worse.\\n\\nPETRUCHIO:\\nI hope better.\\n\\nHORTENSIO:\\nSirrah Biondello, go and entreat my wife\\nTo come to me forthwith.\\n\\nPETRUCHIO:\\nO, ho! entreat her!\\nNay, then she must needs come.\\n\\nHORTENSIO:\\nI am afraid, sir,\\nDo what you can, yours will not be entreated.\\nNow, where's my wife?\\n\\nBIONDELLO:\\nShe says you have some goodly jest in hand:\\nShe will not come: she bids you come to her.\\n\\nPETRUCHIO:\\nWorse and worse; she will not come! O vile,\\nIntolerable, not to be endured!\\nSirrah Grumio, go to your mistress;\\nSay, I command her to come to me.\\n\\nHORTENSIO:\\nI know her answer.\\n\\nPETRUCHIO:\\nWhat?\\n\\nHORTENSIO:\\nShe will not.\\n\\nPETRUCHIO:\\nThe fouler fortune mine, and there an end.\\n\\nBAPTISTA:\\nNow, by my holidame, here comes Katharina!\\n\\nKATHARINA:\\nWhat is your will, sir, that you send for me?\\n\\nPETRUCHIO:\\nWhere is your sister, and Hortensio's wife?\\n\\nKATHARINA:\\nThey sit conferring by the parlor fire.\\n\\nPETRUCHIO:\\nGo fetch them hither: if they deny to come.\\nSwinge me them soundly forth unto their husbands:\\nAway, I say, and bring them hither straight.\\n\\nLUCENTIO:\\nHere is a wonder, if you talk of a wonder.\\n\\nHORTENSIO:\\nAnd so it is: I wonder what it bodes.\\n\\nPETRUCHIO:\\nMarry, peace it bodes, and love and quiet life,\\nAnd awful rule and right supremacy;\\nAnd, to be short, what not, that's sweet and happy?\\n\\nBAPTISTA:\\nNow, fair befal thee, good Petruchio!\\nThe wager thou hast won; and I will add\\nUnto their losses twenty thousand crowns;\\nAnother dowry to another daughter,\\nFor she is changed, as she had never been.\\n\\nPETRUCHIO:\\nNay, I will win my wager better yet\\nAnd show more sign of her obedience,\\nHer new-built virtue and obedience.\\nSee where she comes and brings your froward wives\\nAs prisoners to her womanly persuasion.\\nKatharina, that cap of yours becomes you not:\\nOff with that bauble, throw it under-foot.\\n\\nWidow:\\nLord, let me never have a cause to sigh,\\nTill I be brought to such a silly pass!\\n\\nBIANCA:\\nFie! what a foolish duty call you this?\\n\\nLUCENTIO:\\nI would your duty were as foolish too:\\nThe wisdom of your duty, fair Bianca,\\nHath cost me an hundred crowns since supper-time.\\n\\nBIANCA:\\nThe more fool you, for laying on my duty.\\n\\nPETRUCHIO:\\nKatharina, I charge thee, tell these headstrong women\\nWhat duty they do owe their lords and husbands.\\n\\nWidow:\\nCome, come, you're mocking: we will have no telling.\\n\\nPETRUCHIO:\\nCome on, I say; and first begin with her.\\n\\nWidow:\\nShe shall not.\\n\\nPETRUCHIO:\\nI say she shall: and first begin with her.\\n\\nKATHARINA:\\nFie, fie! unknit that threatening unkind brow,\\nAnd dart not scornful glances from those eyes,\\nTo wound thy lord, thy king, thy governor:\\nIt blots thy beauty as frosts do bite the meads,\\nConfounds thy fame as whirlwinds shake fair buds,\\nAnd in no sense is meet or amiable.\\nA woman moved is like a fountain troubled,\\nMuddy, ill-seeming, thick, bereft of beauty;\\nAnd while it is so, none so dry or thirsty\\nWill deign to sip or touch one drop of it.\\nThy husband is thy lord, thy life, thy keeper,\\nThy head, thy sovereign; one that cares for thee,\\nAnd for thy maintenance commits his body\\nTo painful labour both by sea and land,\\nTo watch the night in storms, the day in cold,\\nWhilst thou liest warm at home, secure and safe;\\nAnd craves no other tribute at thy hands\\nBut love, fair looks and true obedience;\\nToo little payment for so great a debt.\\nSuch duty as the subject owes the prince\\nEven such a woman oweth to her husband;\\nAnd when she is froward, peevish, sullen, sour,\\nAnd not obedient to his honest will,\\nWhat is she but a foul contending rebel\\nAnd graceless traitor to her loving lord?\\nI am ashamed that women are so simple\\nTo offer war where they should kneel for peace;\\nOr seek for rule, supremacy and sway,\\nWhen they are bound to serve, love and obey.\\nWhy are our bodies soft and weak and smooth,\\nUnapt to toil and trouble in the world,\\nBut that our soft conditions and our hearts\\nShould well agree with our external parts?\\nCome, come, you froward and unable worms!\\nMy mind hath been as big as one of yours,\\nMy heart as great, my reason haply more,\\nTo bandy word for word and frown for frown;\\nBut now I see our lances are but straws,\\nOur strength as weak, our weakness past compare,\\nThat seeming to be most which we indeed least are.\\nThen vail your stomachs, for it is no boot,\\nAnd place your hands below your husband's foot:\\nIn token of which duty, if he please,\\nMy hand is ready; may it do him ease.\\n\\nPETRUCHIO:\\nWhy, there's a wench! Come on, and kiss me, Kate.\\n\\nLUCENTIO:\\nWell, go thy ways, old lad; for thou shalt ha't.\\n\\nVINCENTIO:\\n'Tis a good hearing when children are toward.\\n\\nLUCENTIO:\\nBut a harsh hearing when women are froward.\\n\\nPETRUCHIO:\\nCome, Kate, we'll to bed.\\nWe three are married, but you two are sped.\\n'Twas I won the wager, though you hit the white;\\nAnd, being a winner, God give you good night!\\n\\nHORTENSIO:\\nNow, go thy ways; thou hast tamed a curst shrew.\\n\\nLUCENTIO:\\n'Tis a wonder, by your leave, she will be tamed so.\\n\\nMaster:\\nBoatswain!\\n\\nBoatswain:\\nHere, master: what cheer?\\n\\nMaster:\\nGood, speak to the mariners: fall to't, yarely,\\nor we run ourselves aground: bestir, bestir.\\n\\nBoatswain:\\nHeigh, my hearts! cheerly, cheerly, my hearts!\\nyare, yare! Take in the topsail. Tend to the\\nmaster's whistle. Blow, till thou burst thy wind,\\nif room enough!\\n\\nALONSO:\\nGood boatswain, have care. Where's the master?\\nPlay the men.\\n\\nBoatswain:\\nI pray now, keep below.\\n\\nANTONIO:\\nWhere is the master, boatswain?\\n\\nBoatswain:\\nDo you not hear him? You mar our labour: keep your\\ncabins: you do assist the storm.\\n\\nGONZALO:\\nNay, good, be patient.\\n\\nBoatswain:\\nWhen the sea is. Hence! What cares these roarers\\nfor the name of king? To cabin: silence! trouble us not.\\n\\nGONZALO:\\nGood, yet remember whom thou hast aboard.\\n\\nBoatswain:\\nNone that I more love than myself. You are a\\ncounsellor; if you can command these elements to\\nsilence, and work the peace of the present, we will\\nnot hand a rope more; use your authority: if you\\ncannot, give thanks you have lived so long, and make\\nyourself ready in your cabin for the mischance of\\nthe hour, if it so hap. Cheerly, good hearts! Out\\nof our way, I say.\\n\\nGONZALO:\\nI have great comfort from this fellow: methinks he\\nhath no drowning mark upon him; his complexion is\\nperfect gallows. Stand fast, good Fate, to his\\nhanging: make the rope of his destiny our cable,\\nfor our own doth little advantage. If he be not\\nborn to be hanged, our case is miserable.\\n\\nBoatswain:\\nDown with the topmast! yare! lower, lower! Bring\\nher to try with main-course.\\nA plague upon this howling! they are louder than\\nthe weather or our office.\\nYet again! what do you here? Shall we give o'er\\nand drown? Have you a mind to sink?\\n\\nSEBASTIAN:\\nA pox o' your throat, you bawling, blasphemous,\\nincharitable dog!\\n\\nBoatswain:\\nWork you then.\\n\\nANTONIO:\\nHang, cur! hang, you whoreson, insolent noisemaker!\\nWe are less afraid to be drowned than thou art.\\n\\nGONZALO:\\nI'll warrant him for drowning; though the ship were\\nno stronger than a nutshell and as leaky as an\\nunstanched wench.\\n\\nBoatswain:\\nLay her a-hold, a-hold! set her two courses off to\\nsea again; lay her off.\\n\\nMariners:\\nAll lost! to prayers, to prayers! all lost!\\n\\nBoatswain:\\nWhat, must our mouths be cold?\\n\\nGONZALO:\\nThe king and prince at prayers! let's assist them,\\nFor our case is as theirs.\\n\\nSEBASTIAN:\\nI'm out of patience.\\n\\nANTONIO:\\nWe are merely cheated of our lives by drunkards:\\nThis wide-chapp'd rascal--would thou mightst lie drowning\\nThe washing of ten tides!\\n\\nGONZALO:\\nHe'll be hang'd yet,\\nThough every drop of water swear against it\\nAnd gape at widest to glut him.\\n\\nANTONIO:\\nLet's all sink with the king.\\n\\nSEBASTIAN:\\nLet's take leave of him.\\n\\nGONZALO:\\nNow would I give a thousand furlongs of sea for an\\nacre of barren ground, long heath, brown furze, any\\nthing. The wills above be done! but I would fain\\ndie a dry death.\\n\\nMIRANDA:\\nIf by your art, my dearest father, you have\\nPut the wild waters in this roar, allay them.\\nThe sky, it seems, would pour down stinking pitch,\\nBut that the sea, mounting to the welkin's cheek,\\nDashes the fire out. O, I have suffered\\nWith those that I saw suffer: a brave vessel,\\nWho had, no doubt, some noble creature in her,\\nDash'd all to pieces. O, the cry did knock\\nAgainst my very heart. Poor souls, they perish'd.\\nHad I been any god of power, I would\\nHave sunk the sea within the earth or ere\\nIt should the good ship so have swallow'd and\\nThe fraughting souls within her.\\n\\nPROSPERO:\\nBe collected:\\nNo more amazement: tell your piteous heart\\nThere's no harm done.\\n\\nMIRANDA:\\nO, woe the day!\\n\\nPROSPERO:\\nNo harm.\\nI have done nothing but in care of thee,\\nOf thee, my dear one, thee, my daughter, who\\nArt ignorant of what thou art, nought knowing\\nOf whence I am, nor that I am more better\\nThan Prospero, master of a full poor cell,\\nAnd thy no greater father.\\n\\nMIRANDA:\\nMore to know\\nDid never meddle with my thoughts.\\n\\nPROSPERO:\\n'Tis time\\nI should inform thee farther. Lend thy hand,\\nAnd pluck my magic garment from me. So:\\nLie there, my art. Wipe thou thine eyes; have comfort.\\nThe direful spectacle of the wreck, which touch'd\\nThe very virtue of compassion in thee,\\nI have with such provision in mine art\\nSo safely ordered that there is no soul--\\nNo, not so much perdition as an hair\\nBetid to any creature in the vessel\\nWhich thou heard'st cry, which thou saw'st sink. Sit down;\\nFor thou must now know farther.\\n\\nMIRANDA:\\nYou have often\\nBegun to tell me what I am, but stopp'd\\nAnd left me to a bootless inquisition,\\nConcluding 'Stay: not yet.'\\n\\nPROSPERO:\\nThe hour's now come;\\nThe very minute bids thee ope thine ear;\\nObey and be attentive. Canst thou remember\\nA time before we came unto this cell?\\nI do not think thou canst, for then thou wast not\\nOut three years old.\\n\\nMIRANDA:\\nCertainly, sir, I can.\\n\\nPROSPERO:\\nBy what? by any other house or person?\\nOf any thing the image tell me that\\nHath kept with thy remembrance.\\n\\nMIRANDA:\\n'Tis far off\\nAnd rather like a dream than an assurance\\nThat my remembrance warrants. Had I not\\nFour or five women once that tended me?\\n\\nPROSPERO:\\nThou hadst, and more, Miranda. But how is it\\nThat this lives in thy mind? What seest thou else\\nIn the dark backward and abysm of time?\\nIf thou remember'st aught ere thou camest here,\\nHow thou camest here thou mayst.\\n\\nMIRANDA:\\nBut that I do not.\\n\\nPROSPERO:\\nTwelve year since, Miranda, twelve year since,\\nThy father was the Duke of Milan and\\nA prince of power.\\n\\nMIRANDA:\\nSir, are not you my father?\\n\\nPROSPERO:\\nThy mother was a piece of virtue, and\\nShe said thou wast my daughter; and thy father\\nWas Duke of Milan; and thou his only heir\\nAnd princess no worse issued.\\n\\nMIRANDA:\\nO the heavens!\\nWhat foul play had we, that we came from thence?\\nOr blessed was't we did?\\n\\nPROSPERO:\\nBoth, both, my girl:\\nBy foul play, as thou say'st, were we heaved thence,\\nBut blessedly holp hither.\\n\\nMIRANDA:\\nO, my heart bleeds\\nTo think o' the teen that I have turn'd you to,\\nWhich is from my remembrance! Please you, farther.\\n\\nPROSPERO:\\nMy brother and thy uncle, call'd Antonio--\\nI pray thee, mark me--that a brother should\\nBe so perfidious!--he whom next thyself\\nOf all the world I loved and to him put\\nThe manage of my state; as at that time\\nThrough all the signories it was the first\\nAnd Prospero the prime duke, being so reputed\\nIn dignity, and for the liberal arts\\nWithout a parallel; those being all my study,\\nThe government I cast upon my brother\\nAnd to my state grew stranger, being transported\\nAnd rapt in secret studies. Thy false uncle--\\nDost thou attend me?\\n\\nMIRANDA:\\nSir, most heedfully.\\n\\nPROSPERO:\\nBeing once perfected how to grant suits,\\nHow to deny them, who to advance and who\\nTo trash for over-topping, new created\\nThe creatures that were mine, I say, or changed 'em,\\nOr else new form'd 'em; having both the key\\nOf officer and office, set all hearts i' the state\\nTo what tune pleased his ear; that now he was\\nThe ivy which had hid my princely trunk,\\nAnd suck'd my verdure out on't. Thou attend'st not.\\n\\nMIRANDA:\\nO, good sir, I do.\\n\\nPROSPERO:\\nI pray thee, mark me.\\nI, thus neglecting worldly ends, all dedicated\\nTo closeness and the bettering of my mind\\nWith that which, but by being so retired,\\nO'er-prized all popular rate, in my false brother\\nAwaked an evil nature; and my trust,\\nLike a good parent, did beget of him\\nA falsehood in its contrary as great\\nAs my trust was; which had indeed no limit,\\nA confidence sans bound. He being thus lorded,\\nNot only with what my revenue yielded,\\nBut what my power might else exact, like one\\nWho having into truth, by telling of it,\\nMade such a sinner of his memory,\\nTo credit his own lie, he did believe\\nHe was indeed the duke; out o' the substitution\\nAnd executing the outward face of royalty,\\nWith all prerogative: hence his ambition growing--\\nDost thou hear?\\n\\nMIRANDA:\\nYour tale, sir, would cure deafness.\\n\\nPROSPERO:\\nTo have no screen between this part he play'd\\nAnd him he play'd it for, he needs will be\\nAbsolute Milan. Me, poor man, my library\\nWas dukedom large enough: of temporal royalties\\nHe thinks me now incapable; confederates--\\nSo dry he was for sway--wi' the King of Naples\\nTo give him annual tribute, do him homage,\\nSubject his coronet to his crown and bend\\nThe dukedom yet unbow'd--alas, poor Milan!--\\nTo most ignoble stooping.\\n\\nMIRANDA:\\nO the heavens!\\n\\nPROSPERO:\\nMark his condition and the event; then tell me\\nIf this might be a brother.\\n\\nMIRANDA:\\nI should sin\\nTo think but nobly of my grandmother:\\nGood wombs have borne bad sons.\\n\\nPROSPERO:\\nNow the condition.\\nThe King of Naples, being an enemy\\nTo me inveterate, hearkens my brother's suit;\\nWhich was, that he, in lieu o' the premises\\nOf homage and I know not how much tribute,\\nShould presently extirpate me and mine\\nOut of the dukedom and confer fair Milan\\nWith all the honours on my brother: whereon,\\nA treacherous army levied, one midnight\\nFated to the purpose did Antonio open\\nThe gates of Milan, and, i' the dead of darkness,\\nThe ministers for the purpose hurried thence\\nMe and thy crying self.\\n\\nMIRANDA:\\nAlack, for pity!\\nI, not remembering how I cried out then,\\nWill cry it o'er again: it is a hint\\nThat wrings mine eyes to't.\\n\\nPROSPERO:\\nHear a little further\\nAnd then I'll bring thee to the present business\\nWhich now's upon's; without the which this story\\nWere most impertinent.\\n\\nMIRANDA:\\nWherefore did they not\\nThat hour destroy us?\\n\\nPROSPERO:\\nWell demanded, wench:\\nMy tale provokes that question. Dear, they durst not,\\nSo dear the love my people bore me, nor set\\nA mark so bloody on the business, but\\nWith colours fairer painted their foul ends.\\nIn few, they hurried us aboard a bark,\\nBore us some leagues to sea; where they prepared\\nA rotten carcass of a boat, not rigg'd,\\nNor tackle, sail, nor mast; the very rats\\nInstinctively had quit it: there they hoist us,\\nTo cry to the sea that roar'd to us, to sigh\\nTo the winds whose pity, sighing back again,\\nDid us but loving wrong.\\n\\nMIRANDA:\\nAlack, what trouble\\nWas I then to you!\\n\\nPROSPERO:\\nO, a cherubim\\nThou wast that did preserve me. Thou didst smile.\\nInfused with a fortitude from heaven,\\nWhen I have deck'd the sea with drops full salt,\\nUnder my burthen groan'd; which raised in me\\nAn undergoing stomach, to bear up\\nAgainst what should ensue.\\n\\nMIRANDA:\\nHow came we ashore?\\n\\nPROSPERO:\\nBy Providence divine.\\nSome food we had and some fresh water that\\nA noble Neapolitan, Gonzalo,\\nOut of his charity, being then appointed\\nMaster of this design, did give us, with\\nRich garments, linens, stuffs and necessaries,\\nWhich since have steaded much; so, of his gentleness,\\nKnowing I loved my books, he furnish'd me\\nFrom mine own library with volumes that\\nI prize above my dukedom.\\n\\nMIRANDA:\\nWould I might\\nBut ever see that man!\\n\\nPROSPERO:\\nNow I arise:\\nSit still, and hear the last of our sea-sorrow.\\nHere in this island we arrived; and here\\nHave I, thy schoolmaster, made thee more profit\\nThan other princesses can that have more time\\nFor vainer hours and tutors not so careful.\\n\\nMIRANDA:\\nHeavens thank you for't! And now, I pray you, sir,\\nFor still 'tis beating in my mind, your reason\\nFor raising this sea-storm?\\n\\nPROSPERO:\\nKnow thus far forth.\\nBy accident most strange, bountiful Fortune,\\nNow my dear lady, hath mine enemies\\nBrought to this shore; and by my prescience\\nI find my zenith doth depend upon\\nA most auspicious star, whose influence\\nIf now I court not but omit, my fortunes\\nWill ever after droop. Here cease more questions:\\nThou art inclined to sleep; 'tis a good dulness,\\nAnd give it way: I know thou canst not choose.\\nCome away, servant, come. I am ready now.\\nApproach, my Ariel, come.\\n\\nARIEL:\\nAll hail, great master! grave sir, hail! I come\\nTo answer thy best pleasure; be't to fly,\\nTo swim, to dive into the fire, to ride\\nOn the curl'd clouds, to thy strong bidding task\\nAriel and all his quality.\\n\\nPROSPERO:\\nHast thou, spirit,\\nPerform'd to point the tempest that I bade thee?\\n\\nARIEL:\\nTo every article.\\nI boarded the king's ship; now on the beak,\\nNow in the waist, the deck, in every cabin,\\nI flamed amazement: sometime I'ld divide,\\nAnd burn in many places; on the topmast,\\nThe yards and bowsprit, would I flame distinctly,\\nThen meet and join. Jove's lightnings, the precursors\\nO' the dreadful thunder-claps, more momentary\\nAnd sight-outrunning were not; the fire and cracks\\nOf sulphurous roaring the most mighty Neptune\\nSeem to besiege and make his bold waves tremble,\\nYea, his dread trident shake.\\n\\nPROSPERO:\\nMy brave spirit!\\nWho was so firm, so constant, that this coil\\nWould not infect his reason?\\n\\nARIEL:\\nNot a soul\\nBut felt a fever of the mad and play'd\\nSome tricks of desperation. All but mariners\\nPlunged in the foaming brine and quit the vessel,\\nThen all afire with me: the king's son, Ferdinand,\\nWith hair up-staring,--then like reeds, not hair,--\\nWas the first man that leap'd; cried, 'Hell is empty\\nAnd all the devils are here.'\\n\\nPROSPERO:\\nWhy that's my spirit!\\nBut was not this nigh shore?\\n\\nARIEL:\\nClose by, my master.\\n\\nPROSPERO:\\nBut are they, Ariel, safe?\\n\\nARIEL:\\nNot a hair perish'd;\\nOn their sustaining garments not a blemish,\\nBut fresher than before: and, as thou badest me,\\nIn troops I have dispersed them 'bout the isle.\\nThe king's son have I landed by himself;\\nWhom I left cooling of the air with sighs\\nIn an odd angle of the isle and sitting,\\nHis arms in this sad knot.\\n\\nPROSPERO:\\nOf the king's ship\\nThe mariners say how thou hast disposed\\nAnd all the rest o' the fleet.\\n\\nARIEL:\\nSafely in harbour\\nIs the king's ship; in the deep nook, where once\\nThou call'dst me up at midnight to fetch dew\\nFrom the still-vex'd Bermoothes, there she's hid:\\nThe mariners all under hatches stow'd;\\nWho, with a charm join'd to their suffer'd labour,\\nI have left asleep; and for the rest o' the fleet\\nWhich I dispersed, they all have met again\\nAnd are upon the Mediterranean flote,\\nBound sadly home for Naples,\\nSupposing that they saw the king's ship wreck'd\\nAnd his great person perish.\\n\\nPROSPERO:\\nAriel, thy charge\\nExactly is perform'd: but there's more work.\\nWhat is the time o' the day?\\n\\nARIEL:\\nPast the mid season.\\n\\nPROSPERO:\\nAt least two glasses. The time 'twixt six and now\\nMust by us both be spent most preciously.\\n\\nARIEL:\\nIs there more toil? Since thou dost give me pains,\\nLet me remember thee what thou hast promised,\\nWhich is not yet perform'd me.\\n\\nPROSPERO:\\nHow now? moody?\\nWhat is't thou canst demand?\\n\\nARIEL:\\nMy liberty.\\n\\nPROSPERO:\\nBefore the time be out? no more!\\n\\nARIEL:\\nI prithee,\\nRemember I have done thee worthy service;\\nTold thee no lies, made thee no mistakings, served\\nWithout or grudge or grumblings: thou didst promise\\nTo bate me a full year.\\n\\nPROSPERO:\\nDost thou forget\\nFrom what a torment I did free thee?\\n\\nARIEL:\\nNo.\\n\\nPROSPERO:\\nThou dost, and think'st it much to tread the ooze\\nOf the salt deep,\\nTo run upon the sharp wind of the north,\\nTo do me business in the veins o' the earth\\nWhen it is baked with frost.\\n\\nARIEL:\\nI do not, sir.\\n\\nPROSPERO:\\nThou liest, malignant thing! Hast thou forgot\\nThe foul witch Sycorax, who with age and envy\\nWas grown into a hoop? hast thou forgot her?\\n\\nARIEL:\\nNo, sir.\\n\\nPROSPERO:\\nThou hast. Where was she born? speak; tell me.\\n\\nARIEL:\\nSir, in Argier.\\n\\nPROSPERO:\\nO, was she so? I must\\nOnce in a month recount what thou hast been,\\nWhich thou forget'st. This damn'd witch Sycorax,\\nFor mischiefs manifold and sorceries terrible\\nTo enter human hearing, from Argier,\\nThou know'st, was banish'd: for one thing she did\\nThey would not take her life. Is not this true?\\n\\nARIEL:\\nAy, sir.\\n\\nPROSPERO:\\nThis blue-eyed hag was hither brought with child\\nAnd here was left by the sailors. Thou, my slave,\\nAs thou report'st thyself, wast then her servant;\\nAnd, for thou wast a spirit too delicate\\nTo act her earthy and abhorr'd commands,\\nRefusing her grand hests, she did confine thee,\\nBy help of her more potent ministers\\nAnd in her most unmitigable rage,\\nInto a cloven pine; within which rift\\nImprison'd thou didst painfully remain\\nA dozen years; within which space she died\\nAnd left thee there; where thou didst vent thy groans\\nAs fast as mill-wheels strike. Then was this island--\\nSave for the son that she did litter here,\\nA freckled whelp hag-born--not honour'd with\\nA human shape.\\n\\nARIEL:\\nYes, Caliban her son.\\n\\nPROSPERO:\\nDull thing, I say so; he, that Caliban\\nWhom now I keep in service. Thou best know'st\\nWhat torment I did find thee in; thy groans\\nDid make wolves howl and penetrate the breasts\\nOf ever angry bears: it was a torment\\nTo lay upon the damn'd, which Sycorax\\nCould not again undo: it was mine art,\\nWhen I arrived and heard thee, that made gape\\nThe pine and let thee out.\\n\\nARIEL:\\nI thank thee, master.\\n\\nPROSPERO:\\nIf thou more murmur'st, I will rend an oak\\nAnd peg thee in his knotty entrails till\\nThou hast howl'd away twelve winters.\\n\\nARIEL:\\nPardon, master;\\nI will be correspondent to command\\nAnd do my spiriting gently.\\n\\nPROSPERO:\\nDo so, and after two days\\nI will discharge thee.\\n\\nARIEL:\\nThat's my noble master!\\nWhat shall I do? say what; what shall I do?\\n\\nPROSPERO:\\nGo make thyself like a nymph o' the sea: be subject\\nTo no sight but thine and mine, invisible\\nTo every eyeball else. Go take this shape\\nAnd hither come in't: go, hence with diligence!\\nAwake, dear heart, awake! thou hast slept well; Awake!\\n\\nMIRANDA:\\nThe strangeness of your story put\\nHeaviness in me.\\n\\nPROSPERO:\\nShake it off. Come on;\\nWe'll visit Caliban my slave, who never\\nYields us kind answer.\\n\\nMIRANDA:\\n'Tis a villain, sir,\\nI do not love to look on.\\n\\nPROSPERO:\\nBut, as 'tis,\\nWe cannot miss him: he does make our fire,\\nFetch in our wood and serves in offices\\nThat profit us. What, ho! slave! Caliban!\\nThou earth, thou! speak.\\n\\nCALIBAN:\\n\\nPROSPERO:\\nCome forth, I say! there's other business for thee:\\nCome, thou tortoise! when?\\nFine apparition! My quaint Ariel,\\nHark in thine ear.\\n\\nARIEL:\\nMy lord it shall be done.\\n\\nPROSPERO:\\nThou poisonous slave, got by the devil himself\\nUpon thy wicked dam, come forth!\\n\\nCALIBAN:\\nAs wicked dew as e'er my mother brush'd\\nWith raven's feather from unwholesome fen\\nDrop on you both! a south-west blow on ye\\nAnd blister you all o'er!\\n\\nPROSPERO:\\nFor this, be sure, to-night thou shalt have cramps,\\nSide-stitches that shall pen thy breath up; urchins\\nShall, for that vast of night that they may work,\\nAll exercise on thee; thou shalt be pinch'd\\nAs thick as honeycomb, each pinch more stinging\\nThan bees that made 'em.\\n\\nCALIBAN:\\nI must eat my dinner.\\nThis island's mine, by Sycorax my mother,\\nWhich thou takest from me. When thou camest first,\\nThou strokedst me and madest much of me, wouldst give me\\nWater with berries in't, and teach me how\\nTo name the bigger light, and how the less,\\nThat burn by day and night: and then I loved thee\\nAnd show'd thee all the qualities o' the isle,\\nThe fresh springs, brine-pits, barren place and fertile:\\nCursed be I that did so! All the charms\\nOf Sycorax, toads, beetles, bats, light on you!\\nFor I am all the subjects that you have,\\nWhich first was mine own king: and here you sty me\\nIn this hard rock, whiles you do keep from me\\nThe rest o' the island.\\n\\nPROSPERO:\\nThou most lying slave,\\nWhom stripes may move, not kindness! I have used thee,\\nFilth as thou art, with human care, and lodged thee\\nIn mine own cell, till thou didst seek to violate\\nThe honour of my child.\\n\\nCALIBAN:\\nO ho, O ho! would't had been done!\\nThou didst prevent me; I had peopled else\\nThis isle with Calibans.\\n\\nPROSPERO:\\nAbhorred slave,\\nWhich any print of goodness wilt not take,\\nBeing capable of all ill! I pitied thee,\\nTook pains to make thee speak, taught thee each hour\\nOne thing or other: when thou didst not, savage,\\nKnow thine own meaning, but wouldst gabble like\\nA thing most brutish, I endow'd thy purposes\\nWith words that made them known. But thy vile race,\\nThough thou didst learn, had that in't which\\ngood natures\\nCould not abide to be with; therefore wast thou\\nDeservedly confined into this rock,\\nWho hadst deserved more than a prison.\\n\\nCALIBAN:\\nYou taught me language; and my profit on't\\nIs, I know how to curse. The red plague rid you\\nFor learning me your language!\\n\\nPROSPERO:\\nHag-seed, hence!\\nFetch us in fuel; and be quick, thou'rt best,\\nTo answer other business. Shrug'st thou, malice?\\nIf thou neglect'st or dost unwillingly\\nWhat I command, I'll rack thee with old cramps,\\nFill all thy bones with aches, make thee roar\\nThat beasts shall tremble at thy din.\\n\\nCALIBAN:\\nNo, pray thee.\\nI must obey: his art is of such power,\\nIt would control my dam's god, Setebos,\\nand make a vassal of him.\\n\\nPROSPERO:\\nSo, slave; hence!\\nCome unto these yellow sands,\\nAnd then take hands:\\nCourtsied when you have and kiss'd\\nThe wild waves whist,\\nFoot it featly here and there;\\nAnd, sweet sprites, the burthen bear.\\nHark, hark!\\n\\nFERDINAND:\\nWhere should this music be? i' the air or the earth?\\nIt sounds no more: and sure, it waits upon\\nSome god o' the island. Sitting on a bank,\\nWeeping again the king my father's wreck,\\nThis music crept by me upon the waters,\\nAllaying both their fury and my passion\\nWith its sweet air: thence I have follow'd it,\\nOr it hath drawn me rather. But 'tis gone.\\nNo, it begins again.\\nFull fathom five thy father lies;\\nOf his bones are coral made;\\nThose are pearls that were his eyes:\\nNothing of him that doth fade\\nBut doth suffer a sea-change\\nInto something rich and strange.\\nSea-nymphs hourly ring his knell\\nHark! now I hear them,--Ding-dong, bell.\\n\\nFERDINAND:\\nThe ditty does remember my drown'd father.\\nThis is no mortal business, nor no sound\\nThat the earth owes. I hear it now above me.\\n\\nPROSPERO:\\nThe fringed curtains of thine eye advance\\nAnd say what thou seest yond.\\n\\nMIRANDA:\\nWhat is't? a spirit?\\nLord, how it looks about! Believe me, sir,\\nIt carries a brave form. But 'tis a spirit.\\n\\nPROSPERO:\\nNo, wench; it eats and sleeps and hath such senses\\nAs we have, such. This gallant which thou seest\\nWas in the wreck; and, but he's something stain'd\\nWith grief that's beauty's canker, thou mightst call him\\nA goodly person: he hath lost his fellows\\nAnd strays about to find 'em.\\n\\nMIRANDA:\\nI might call him\\nA thing divine, for nothing natural\\nI ever saw so noble.\\n\\nPROSPERO:\\n\\nFERDINAND:\\nMost sure, the goddess\\nOn whom these airs attend! Vouchsafe my prayer\\nMay know if you remain upon this island;\\nAnd that you will some good instruction give\\nHow I may bear me here: my prime request,\\nWhich I do last pronounce, is, O you wonder!\\nIf you be maid or no?\\n\\nMIRANDA:\\nNo wonder, sir;\\nBut certainly a maid.\\n\\nFERDINAND:\\nMy language! heavens!\\nI am the best of them that speak this speech,\\nWere I but where 'tis spoken.\\n\\nPROSPERO:\\nHow? the best?\\nWhat wert thou, if the King of Naples heard thee?\\n\\nFERDINAND:\\nA single thing, as I am now, that wonders\\nTo hear thee speak of Naples. He does hear me;\\nAnd that he does I weep: myself am Naples,\\nWho with mine eyes, never since at ebb, beheld\\nThe king my father wreck'd.\\n\\nMIRANDA:\\nAlack, for mercy!\\n\\nFERDINAND:\\nYes, faith, and all his lords; the Duke of Milan\\nAnd his brave son being twain.\\n\\nPROSPERO:\\n\\nMIRANDA:\\nWhy speaks my father so ungently? This\\nIs the third man that e'er I saw, the first\\nThat e'er I sigh'd for: pity move my father\\nTo be inclined my way!\\n\\nFERDINAND:\\nO, if a virgin,\\nAnd your affection not gone forth, I'll make you\\nThe queen of Naples.\\n\\nPROSPERO:\\nSoft, sir! one word more.\\nThey are both in either's powers; but this swift business\\nI must uneasy make, lest too light winning\\nMake the prize light.\\nOne word more; I charge thee\\nThat thou attend me: thou dost here usurp\\nThe name thou owest not; and hast put thyself\\nUpon this island as a spy, to win it\\nFrom me, the lord on't.\\n\\nFERDINAND:\\nNo, as I am a man.\\n\\nMIRANDA:\\nThere's nothing ill can dwell in such a temple:\\nIf the ill spirit have so fair a house,\\nGood things will strive to dwell with't.\\n\\nPROSPERO:\\nFollow me.\\nSpeak not you for him; he's a traitor. Come;\\nI'll manacle thy neck and feet together:\\nSea-water shalt thou drink; thy food shall be\\nThe fresh-brook muscles, wither'd roots and husks\\nWherein the acorn cradled. Follow.\\n\\nFERDINAND:\\nNo;\\nI will resist such entertainment till\\nMine enemy has more power.\\n\\nMIRANDA:\\nO dear father,\\nMake not too rash a trial of him, for\\nHe's gentle and not fearful.\\n\\nPROSPERO:\\nWhat? I say,\\nMy foot my tutor? Put thy sword up, traitor;\\nWho makest a show but darest not strike, thy conscience\\nIs so possess'd with guilt: come from thy ward,\\nFor I can here disarm thee with this stick\\nAnd make thy weapon drop.\\n\\nMIRANDA:\\nBeseech you, father.\\n\\nPROSPERO:\\nHence! hang not on my garments.\\n\\nMIRANDA:\\nSir, have pity;\\nI'll be his surety.\\n\\nPROSPERO:\\nSilence! one word more\\nShall make me chide thee, if not hate thee. What!\\nAn advocate for an imposter! hush!\\nThou think'st there is no more such shapes as he,\\nHaving seen but him and Caliban: foolish wench!\\nTo the most of men this is a Caliban\\nAnd they to him are angels.\\n\\nMIRANDA:\\nMy affections\\nAre then most humble; I have no ambition\\nTo see a goodlier man.\\n\\nPROSPERO:\\nCome on; obey:\\nThy nerves are in their infancy again\\nAnd have no vigour in them.\\n\\nFERDINAND:\\nSo they are;\\nMy spirits, as in a dream, are all bound up.\\nMy father's loss, the weakness which I feel,\\nThe wreck of all my friends, nor this man's threats,\\nTo whom I am subdued, are but light to me,\\nMight I but through my prison once a day\\nBehold this maid: all corners else o' the earth\\nLet liberty make use of; space enough\\nHave I in such a prison.\\n\\nPROSPERO:\\n\\nMIRANDA:\\nBe of comfort;\\nMy father's of a better nature, sir,\\nThan he appears by speech: this is unwonted\\nWhich now came from him.\\n\\nPROSPERO:\\nThou shalt be free\\nAs mountain winds: but then exactly do\\nAll points of my command.\\n\\nARIEL:\\nTo the syllable.\\n\\nPROSPERO:\\nCome, follow. Speak not for him.\\n\\nGONZALO:\\nBeseech you, sir, be merry; you have cause,\\nSo have we all, of joy; for our escape\\nIs much beyond our loss. Our hint of woe\\nIs common; every day some sailor's wife,\\nThe masters of some merchant and the merchant\\nHave just our theme of woe; but for the miracle,\\nI mean our preservation, few in millions\\nCan speak like us: then wisely, good sir, weigh\\nOur sorrow with our comfort.\\n\\nALONSO:\\nPrithee, peace.\\n\\nSEBASTIAN:\\nHe receives comfort like cold porridge.\\n\\nANTONIO:\\nThe visitor will not give him o'er so.\\n\\nSEBASTIAN:\\nLook he's winding up the watch of his wit;\\nby and by it will strike.\\n\\nGONZALO:\\nSir,--\\n\\nSEBASTIAN:\\nOne: tell.\\n\\nGONZALO:\\nWhen every grief is entertain'd that's offer'd,\\nComes to the entertainer--\\n\\nSEBASTIAN:\\nA dollar.\\n\\nGONZALO:\\nDolour comes to him, indeed: you\\nhave spoken truer than you purposed.\\n\\nSEBASTIAN:\\nYou have taken it wiselier than I meant you should.\\n\\nGONZALO:\\nTherefore, my lord,--\\n\\nANTONIO:\\nFie, what a spendthrift is he of his tongue!\\n\\nALONSO:\\nI prithee, spare.\\n\\nGONZALO:\\nWell, I have done: but yet,--\\n\\nSEBASTIAN:\\nHe will be talking.\\n\\nANTONIO:\\nWhich, of he or Adrian, for a good\\nwager, first begins to crow?\\n\\nSEBASTIAN:\\nThe old cock.\\n\\nANTONIO:\\nThe cockerel.\\n\\nSEBASTIAN:\\nDone. The wager?\\n\\nANTONIO:\\nA laughter.\\n\\nSEBASTIAN:\\nA match!\\n\\nADRIAN:\\nThough this island seem to be desert,--\\n\\nSEBASTIAN:\\nHa, ha, ha! So, you're paid.\\n\\nADRIAN:\\nUninhabitable and almost inaccessible,--\\n\\nSEBASTIAN:\\nYet,--\\n\\nADRIAN:\\nYet,--\\n\\nANTONIO:\\nHe could not miss't.\\n\\nADRIAN:\\nIt must needs be of subtle, tender and delicate\\ntemperance.\\n\\nANTONIO:\\nTemperance was a delicate wench.\\n\\nSEBASTIAN:\\nAy, and a subtle; as he most learnedly delivered.\\n\\nADRIAN:\\nThe air breathes upon us here most sweetly.\\n\\nSEBASTIAN:\\nAs if it had lungs and rotten ones.\\n\\nANTONIO:\\nOr as 'twere perfumed by a fen.\\n\\nGONZALO:\\nHere is everything advantageous to life.\\n\\nANTONIO:\\nTrue; save means to live.\\n\\nSEBASTIAN:\\nOf that there's none, or little.\\n\\nGONZALO:\\nHow lush and lusty the grass looks! how green!\\n\\nANTONIO:\\nThe ground indeed is tawny.\\n\\nSEBASTIAN:\\nWith an eye of green in't.\\n\\nANTONIO:\\nHe misses not much.\\n\\nSEBASTIAN:\\nNo; he doth but mistake the truth totally.\\n\\nGONZALO:\\nBut the rarity of it is,--which is indeed almost\\nbeyond credit,--\\n\\nSEBASTIAN:\\nAs many vouched rarities are.\\n\\nGONZALO:\\nThat our garments, being, as they were, drenched in\\nthe sea, hold notwithstanding their freshness and\\nglosses, being rather new-dyed than stained with\\nsalt water.\\n\\nANTONIO:\\nIf but one of his pockets could speak, would it not\\nsay he lies?\\n\\nSEBASTIAN:\\nAy, or very falsely pocket up his report\\n\\nGONZALO:\\nMethinks our garments are now as fresh as when we\\nput them on first in Afric, at the marriage of\\nthe king's fair daughter Claribel to the King of Tunis.\\n\\nSEBASTIAN:\\n'Twas a sweet marriage, and we prosper well in our return.\\n\\nADRIAN:\\nTunis was never graced before with such a paragon to\\ntheir queen.\\n\\nGONZALO:\\nNot since widow Dido's time.\\n\\nANTONIO:\\nWidow! a pox o' that! How came that widow in?\\nwidow Dido!\\n\\nSEBASTIAN:\\nWhat if he had said 'widower AEneas' too? Good Lord,\\nhow you take it!\\n\\nADRIAN:\\n'Widow Dido' said you? you make me study of that:\\nshe was of Carthage, not of Tunis.\\n\\nGONZALO:\\nThis Tunis, sir, was Carthage.\\n\\nADRIAN:\\nCarthage?\\n\\nGONZALO:\\nI assure you, Carthage.\\n\\nSEBASTIAN:\\nHis word is more than the miraculous harp; he hath\\nraised the wall and houses too.\\n\\nANTONIO:\\nWhat impossible matter will he make easy next?\\n\\nSEBASTIAN:\\nI think he will carry this island home in his pocket\\nand give it his son for an apple.\\n\\nANTONIO:\\nAnd, sowing the kernels of it in the sea, bring\\nforth more islands.\\n\\nGONZALO:\\nAy.\\n\\nANTONIO:\\nWhy, in good time.\\n\\nGONZALO:\\nSir, we were talking that our garments seem now\\nas fresh as when we were at Tunis at the marriage\\nof your daughter, who is now queen.\\n\\nANTONIO:\\nAnd the rarest that e'er came there.\\n\\nSEBASTIAN:\\nBate, I beseech you, widow Dido.\\n\\nANTONIO:\\nO, widow Dido! ay, widow Dido.\\n\\nGONZALO:\\nIs not, sir, my doublet as fresh as the first day I\\nwore it? I mean, in a sort.\\n\\nANTONIO:\\nThat sort was well fished for.\\n\\nGONZALO:\\nWhen I wore it at your daughter's marriage?\\n\\nALONSO:\\nYou cram these words into mine ears against\\nThe stomach of my sense. Would I had never\\nMarried my daughter there! for, coming thence,\\nMy son is lost and, in my rate, she too,\\nWho is so far from Italy removed\\nI ne'er again shall see her. O thou mine heir\\nOf Naples and of Milan, what strange fish\\nHath made his meal on thee?\\n\\nFRANCISCO:\\nSir, he may live:\\nI saw him beat the surges under him,\\nAnd ride upon their backs; he trod the water,\\nWhose enmity he flung aside, and breasted\\nThe surge most swoln that met him; his bold head\\n'Bove the contentious waves he kept, and oar'd\\nHimself with his good arms in lusty stroke\\nTo the shore, that o'er his wave-worn basis bow'd,\\nAs stooping to relieve him: I not doubt\\nHe came alive to land.\\n\\nALONSO:\\nNo, no, he's gone.\\n\\nSEBASTIAN:\\nSir, you may thank yourself for this great loss,\\nThat would not bless our Europe with your daughter,\\nBut rather lose her to an African;\\nWhere she at least is banish'd from your eye,\\nWho hath cause to wet the grief on't.\\n\\nALONSO:\\nPrithee, peace.\\n\\nSEBASTIAN:\\nYou were kneel'd to and importuned otherwise\\nBy all of us, and the fair soul herself\\nWeigh'd between loathness and obedience, at\\nWhich end o' the beam should bow. We have lost your\\nson,\\nI fear, for ever: Milan and Naples have\\nMore widows in them of this business' making\\nThan we bring men to comfort them:\\nThe fault's your own.\\n\\nALONSO:\\nSo is the dear'st o' the loss.\\n\\nGONZALO:\\nMy lord Sebastian,\\nThe truth you speak doth lack some gentleness\\nAnd time to speak it in: you rub the sore,\\nWhen you should bring the plaster.\\n\\nSEBASTIAN:\\nVery well.\\n\\nANTONIO:\\nAnd most chirurgeonly.\\n\\nGONZALO:\\nIt is foul weather in us all, good sir,\\nWhen you are cloudy.\\n\\nSEBASTIAN:\\nFoul weather?\\n\\nANTONIO:\\nVery foul.\\n\\nGONZALO:\\nHad I plantation of this isle, my lord,--\\n\\nANTONIO:\\nHe'ld sow't with nettle-seed.\\n\\nSEBASTIAN:\\nOr docks, or mallows.\\n\\nGONZALO:\\nAnd were the king on't, what would I do?\\n\\nSEBASTIAN:\\n'Scape being drunk for want of wine.\\n\\nGONZALO:\\nI' the commonwealth I would by contraries\\nExecute all things; for no kind of traffic\\nWould I admit; no name of magistrate;\\nLetters should not be known; riches, poverty,\\nAnd use of service, none; contract, succession,\\nBourn, bound of land, tilth, vineyard, none;\\nNo use of metal, corn, or wine, or oil;\\nNo occupation; all men idle, all;\\nAnd women too, but innocent and pure;\\nNo sovereignty;--\\n\\nSEBASTIAN:\\nYet he would be king on't.\\n\\nANTONIO:\\nThe latter end of his commonwealth forgets the\\nbeginning.\\n\\nGONZALO:\\nAll things in common nature should produce\\nWithout sweat or endeavour: treason, felony,\\nSword, pike, knife, gun, or need of any engine,\\nWould I not have; but nature should bring forth,\\nOf its own kind, all foison, all abundance,\\nTo feed my innocent people.\\n\\nSEBASTIAN:\\nNo marrying 'mong his subjects?\\n\\nANTONIO:\\nNone, man; all idle: whores and knaves.\\n\\nGONZALO:\\nI would with such perfection govern, sir,\\nTo excel the golden age.\\n\\nSEBASTIAN:\\nGod save his majesty!\\n\\nANTONIO:\\nLong live Gonzalo!\\n\\nGONZALO:\\nAnd,--do you mark me, sir?\\n\\nALONSO:\\nPrithee, no more: thou dost talk nothing to me.\\n\\nGONZALO:\\nI do well believe your highness; and\\ndid it to minister occasion to these gentlemen,\\nwho are of such sensible and nimble lungs that\\nthey always use to laugh at nothing.\\n\\nANTONIO:\\n'Twas you we laughed at.\\n\\nGONZALO:\\nWho in this kind of merry fooling am nothing\\nto you: so you may continue and laugh at\\nnothing still.\\n\\nANTONIO:\\nWhat a blow was there given!\\n\\nSEBASTIAN:\\nAn it had not fallen flat-long.\\n\\nGONZALO:\\nYou are gentlemen of brave metal; you would lift\\nthe moon out of her sphere, if she would continue\\nin it five weeks without changing.\\n\\nSEBASTIAN:\\nWe would so, and then go a bat-fowling.\\n\\nANTONIO:\\nNay, good my lord, be not angry.\\n\\nGONZALO:\\nNo, I warrant you; I will not adventure\\nmy discretion so weakly. Will you laugh\\nme asleep, for I am very heavy?\\n\\nANTONIO:\\nGo sleep, and hear us.\\n\\nALONSO:\\nWhat, all so soon asleep! I wish mine eyes\\nWould, with themselves, shut up my thoughts: I find\\nThey are inclined to do so.\\n\\nSEBASTIAN:\\nPlease you, sir,\\nDo not omit the heavy offer of it:\\nIt seldom visits sorrow; when it doth,\\nIt is a comforter.\\n\\nANTONIO:\\nWe two, my lord,\\nWill guard your person while you take your rest,\\nAnd watch your safety.\\n\\nALONSO:\\nThank you. Wondrous heavy.\\n\\nSEBASTIAN:\\nWhat a strange drowsiness possesses them!\\n\\nANTONIO:\\nIt is the quality o' the climate.\\n\\nSEBASTIAN:\\nWhy\\nDoth it not then our eyelids sink? I find not\\nMyself disposed to sleep.\\n\\nANTONIO:\\nNor I; my spirits are nimble.\\nThey fell together all, as by consent;\\nThey dropp'd, as by a thunder-stroke. What might,\\nWorthy Sebastian? O, what might?--No more:--\\nAnd yet me thinks I see it in thy face,\\nWhat thou shouldst be: the occasion speaks thee, and\\nMy strong imagination sees a crown\\nDropping upon thy head.\\n\\nSEBASTIAN:\\nWhat, art thou waking?\\n\\nANTONIO:\\nDo you not hear me speak?\\n\\nSEBASTIAN:\\nI do; and surely\\nIt is a sleepy language and thou speak'st\\nOut of thy sleep. What is it thou didst say?\\nThis is a strange repose, to be asleep\\nWith eyes wide open; standing, speaking, moving,\\nAnd yet so fast asleep.\\n\\nANTONIO:\\nNoble Sebastian,\\nThou let'st thy fortune sleep--die, rather; wink'st\\nWhiles thou art waking.\\n\"\n",
            "brance taen as shall with either parts agreement stand  baptista not in my house lucentio for you know pitchers have ears and i have many servants besides old gremio is hearkening still and happily we might be interrupted  tranio then at my lodging an it like you there doth my father lie and there this night well pass the business privately and well send for your daughter by your servant here my boy shall fetch the scrivener presently the worst is this that at so slender warning you are like to have a thin and slender pittance  baptista it likes me well biondello hie you home and bid bianca make her ready straight and if you will tell what hath happened lucentios father is arrived in padua and how shes like to be lucentios wife  biondello i pray the gods she may with all my heart  tranio dally not with the gods but get thee gone signior baptista shall i lead the way welcome one mess is like to be your cheer come sir we will better it in pisa  baptista i follow you  biondello cambio  lucentio what sayest thou biondello  biondello you saw my master wink and laugh upon you  lucentio biondello what of that  biondello faith nothing but has left me here behind to expound the meaning or moral of his signs and tokens  lucentio i pray thee moralize them  biondello then thus baptista is safe talking with the deceiving father of a deceitful son  lucentio and what of him  biondello his daughter is to be brought by you to the supper  lucentio and then  biondello the old priest of saint lukes church is at your command at all hours  lucentio and what of all this  biondello i cannot tell expect they are busied about a counterfeit assurance take you assurance of her cum privilegio ad imprimendum solum to the church take the priest clerk and some sufficient honest witnesses if this be not that you look for i have no more to say but bid bianca farewell for ever and a day  lucentio hearest thou biondello  biondello i cannot tarry i knew a wench married in an afternoon as she went to the garden for parsley to stuff a rabbit and so may you sir and so adieu sir my master hath appointed me to go to saint lukes to bid the priest be ready to come against you come with your appendix  lucentio i may and will if she be so contented she will be pleased then wherefore should i doubt hap what hap may ill roundly go about her it shall go hard if cambio go without her  petruchio come on i gods name once more toward our fathers good lord how bright and goodly shines the moon  katharina the moon the sun it is not moonlight now  petruchio i say it is the moon that shines so bright  katharina i know it is the sun that shines so bright  petruchio now by my mothers son and thats myself it shall be moon or star or what i list or ere i journey to your fathers house go on and fetch our horses back again evermore crossd and crossd nothing but crossd  hortensio say as he says or we shall never go  katharina forward i pray since we have come so far and be it moon or sun or what you please an if you please to call it a rushcandle henceforth i vow it shall be so for me  petruchio i say it is the moon  katharina i know it is the moon  petruchio nay then you lie it is the blessed sun  katharina then god be blessd it is the blessed sun but sun it is not when you say it is not and the moon changes even as your mind what you will have it named even that it is and so it shall be so for katharina  hortensio petruchio go thy ways the field is won  petruchio well forward forward thus the bowl should run and not unluckily against the bias but soft company is coming here good morrow gentle mistress where away tell me sweet kate and tell me truly too hast thou beheld a fresher gentlewoman such war of white and red within her cheeks what stars do spangle heaven with such beauty as those two eyes become that heavenly face fair lovely maid once more good day to thee sweet kate embrace her for her beautys sake  hortensio a will make the man mad to make a woman of him  katharina young budding virgin fair and fresh and sweet whither away or where is thy abode happy the parents of so fair a child happier the man whom favourable stars allot thee for his lovely bedfellow  petruchio why how now kate i hope thou art not mad this is a man old wrinkled faded witherd and not a maiden as thou sayst he is  katharina pardon old father my mistaking eyes that have been so bedazzled with the sun that everything i look on seemeth green now i perceive thou art a reverend father pardon i pray thee for my mad mistaking  petruchio do good old grandsire and withal make known which way thou travellest if along with us we shall be joyful of thy company  vincentio fair sir and you my merry mistress that with your strange encounter much amazed me my name is calld vincentio my dwelling pisa and bound i am to padua there to visit a son of mine which long i have not seen  petruchio what is his name  vincentio lucentio gentle sir  petruchio happily we met the happier for thy son and now by law as well as reverend age i may entitle thee my loving father the sister to my wife this gentlewoman thy son by this hath married wonder not nor be grieved she is of good esteem her dowery wealthy and of worthy birth beside so qualified as may beseem the spouse of any noble gentleman let me embrace with old vincentio and wander we to see thy honest son who will of thy arrival be full joyous  vincentio but is it true or else is it your pleasure like pleasant travellers to break a jest upon the company you overtake  hortensio i do assure thee father so it is  petruchio come go along and see the truth hereof for our first merriment hath made thee jealous  hortensio well petruchio this has put me in heart have to my widow and if she be froward then hast thou taught hortensio to be untoward  biondello softly and swiftly sir for the priest is ready  lucentio i fly biondello but they may chance to need thee at home therefore leave us  biondello nay faith ill see the church o your back and then come back to my masters as soon as i can  gremio i marvel cambio comes not all this while  petruchio sir heres the door this is lucentios house my fathers bears more toward the marketplace thither must i and here i leave you sir  vincentio you shall not choose but drink before you go i think i shall command your welcome here and by all likelihood some cheer is toward  gremio theyre busy within you were best knock louder  pedant whats he that knocks as he would beat down the gate  vincentio is signior lucentio within sir  pedant hes within sir but not to be spoken withal  vincentio what if a man bring him a hundred pound or two to make merry withal  pedant keep your hundred pounds to yourself he shall need none so long as i live  petruchio nay i told you your son was well beloved in padua do you hear sir to leave frivolous circumstances i pray you tell signior lucentio that his father is come from pisa and is here at the door to speak with him  pedant thou liest his father is come from padua and here looking out at the window  vincentio art thou his father  pedant ay sir so his mother says if i may believe her  petruchio  pedant lay hands on the villain i believe a means to cozen somebody in this city under my countenance  biondello i have seen them in the church together god send em good shipping but who is here mine old master vincentio now we are undone and brought to nothing  vincentio  biondello hope i may choose sir  vincentio come hither you rogue what have you forgot me  biondello forgot you no sir i could not forget you for i never saw you before in all my life  vincentio what you notorious villain didst thou never see thy masters father vincentio  biondello what my old worshipful old master yes marry sir see where he looks out of the window  vincentio ist so indeed  biondello help help help heres a madman will murder me  pedant help son help signior baptista  petruchio prithee kate lets stand aside and see the end of this controversy  tranio sir what are you that offer to beat my servant  vincentio what am i sir nay what are you sir o immortal gods o fine villain a silken doublet a velvet hose a scarlet cloak and a copatain hat o i am undone i am undone while i play the good husband at home my son and my servant spend all at the university  tranio how now whats the matter  baptista what is the man lunatic  tranio sir you seem a sober ancient gentleman by your habit but your words show you a madman why sir what cerns it you if i wear pearl and gold i thank my good father i am able to maintain it  vincentio thy father o villain he is a sailmaker in bergamo  baptista you mistake sir you mistake sir pray what do you think is his name  vincentio his name as if i knew not his name i have brought him up ever since he was three years old and his name is tranio  pedant away away mad ass his name is lucentio and he is mine only son and heir to the lands of me signior vincentio  vincentio lucentio o he hath murdered his master lay hold on him i charge you in the dukes name o my son my son tell me thou villain where is my son lucentio  tranio call forth an officer carry this mad knave to the gaol father baptista i charge you see that he be forthcoming  vincentio carry me to the gaol  gremio stay officer he shall not go to prison  baptista talk not signior gremio i say he shall go to prison  gremio take heed signior baptista lest you be conycatched in this business i dare swear this is the right vincentio  pedant swear if thou darest  gremio nay i dare not swear it  tranio then thou wert best say that i am not lucentio  gremio yes i know thee to be signior lucentio  baptista away with the dotard to the gaol with him  vincentio thus strangers may be hailed and abused o monstrous villain  biondello o we are spoiled andyonder he is deny him forswear him or else we are all undone  lucentio  vincentio lives my sweet son  bianca pardon dear father  baptista how hast thou offended where is lucentio  lucentio heres lucentio right son to the right vincentio that have by marriage made thy daughter mine while counterfeit supposes bleared thine eyne  gremio heres packing with a witness to deceive us all  vincentio where is that damned villain tranio that faced and braved me in this matter so  baptista why tell me is not this my cambio  bianca cambio is changed into lucentio  lucentio love wrought these miracles biancas love made me exchange my state with tranio while he did bear my countenance in the town and happily i have arrived at the last unto the wished haven of my bliss what tranio did myself enforced him to then pardon him sweet father for my sake  vincentio ill slit the villains nose that would have sent me to the gaol  baptista but do you hear sir have you married my daughter without asking my good will  vincentio fear not baptista we will content you go to but i will in to be revenged for this villany  baptista and i to sound the depth of this knavery  lucentio look not pale bianca thy father will not frown  gremio my cake is dough but ill in among the rest out of hope of all but my share of the feast  katharina husband lets follow to see the end of this ado  petruchio first kiss me kate and we will  katharina what in the midst of the street  petruchio what art thou ashamed of me  katharina no sir god forbid but ashamed to kiss  petruchio why then lets home again come sirrah lets away  katharina nay i will give thee a kiss now pray thee love stay  petruchio is not this well come my sweet kate better once than never for never too late  lucentio at last though long our jarring notes agree and time it is when raging war is done to smile at scapes and perils overblown my fair bianca bid my father welcome while i with selfsame kindness welcome thine brother petruchio sister katharina and thou hortensio with thy loving widow feast with the best and welcome to my house my banquet is to close our stomachs up after our great good cheer pray you sit down for now we sit to chat as well as eat  petruchio nothing but sit and sit and eat and eat  baptista padua affords this kindness son petruchio  petruchio padua affords nothing but what is kind  hortensio for both our sakes i would that word were true  petruchio now for my life hortensio fears his widow  widow then never trust me if i be afeard  petruchio you are very sensible and yet you miss my sense i mean hortensio is afeard of you  widow he that is giddy thinks the world turns round  petruchio roundly replied  katharina mistress how mean you that  widow thus i conceive by him  petruchio conceives by me how likes hortensio that  hortensio my widow says thus she conceives her tale  petruchio very well mended kiss him for that good widow  katharina he that is giddy thinks the world turns round i pray you tell me what you meant by that  widow your husband being troubled with a shrew measures my husbands sorrow by his woe and now you know my meaning  katharina a very mean meaning  widow right i mean you  katharina and i am mean indeed respecting you  petruchio to her kate  hortensio to her widow  petruchio a hundred marks my kate does put her down  hortensio thats my office  petruchio spoke like an officer ha to thee lad  baptista how likes gremio these quickwitted folks  gremio believe me sir they butt together well  bianca head and butt an hastywitted body would say your head and butt were head and horn  vincentio ay mistress bride hath that awakend you  bianca ay but not frighted me therefore ill sleep again  petruchio nay that you shall not since you have begun have at you for a bitter jest or two  bianca am i your bird i mean to shift my bush and then pursue me as you draw your bow you are welcome all  petruchio she hath prevented me here signior tranio this bird you aimd at though you hit her not therefore a health to all that shot and missd  tranio o sir lucentio slippd me like his greyhound which runs himself and catches for his master  petruchio a good swift simile but something currish  tranio tis well sir that you hunted for yourself tis thought your deer does hold you at a bay  baptista o ho petruchio tranio hits you now  lucentio i thank thee for that gird good tranio  hortensio confess confess hath he not hit you here  petruchio a has a little galld me i confess and as the jest did glance away from me tis ten to one it maimd you two outright  baptista now in good sadness son petruchio i think thou hast the veriest shrew of all  petruchio well i say no and therefore for assurance lets each one send unto his wife and he whose wife is most obedient to come at first when he doth send for her shall win the wager which we will propose  hortensio content what is the wager  lucentio twenty crowns  petruchio twenty crowns ill venture so much of my hawk or hound but twenty times so much upon my wife  lucentio a hundred then  hortensio content  petruchio a match tis done  hortensio who shall begin  lucentio that will i go biondello bid your mistress come to me  biondello i go  baptista son ill be your half bianca comes  lucentio ill have no halves ill bear it all myself how now what news  biondello sir my mistress sends you word that she is busy and she cannot come  petruchio how she is busy and she cannot come is that an answer  gremio ay and a kind one too pray god sir your wife send you not a worse  petruchio i hope better  hortensio sirrah biondello go and entreat my wife to come to me forthwith  petruchio o ho entreat her nay then she must needs come  hortensio i am afraid sir do what you can yours will not be entreated now wheres my wife  biondello she says you have some goodly jest in hand she will not come she bids you come to her  petruchio worse and worse she will not come o vile intolerable not to be endured sirrah grumio go to your mistress say i command her to come to me  hortensio i know her answer  petruchio what  hortensio she will not  petruchio the fouler fortune mine and there an end  baptista now by my holidame here comes katharina  katharina what is your will sir that you send for me  petruchio where is your sister and hortensios wife  katharina they sit conferring by the parlor fire  petruchio go fetch them hither if they deny to come swinge me them soundly forth unto their husbands away i say and bring them hither straight  lucentio here is a wonder if you talk of a wonder  hortensio and so it is i wonder what it bodes  petruchio marry peace it bodes and love and quiet life and awful rule and right supremacy and to be short what not thats sweet and happy  baptista now fair befal thee good petruchio the wager thou hast won and i will add unto their losses twenty thousand crowns another dowry to another daughter for she is changed as she had never been  petruchio nay i will win my wager better yet and show more sign of her obedience her newbuilt virtue and obedience see where she comes and brings your froward wives as prisoners to her womanly persuasion katharina that cap of yours becomes you not off with that bauble throw it underfoot  widow lord let me never have a cause to sigh till i be brought to such a silly pass  bianca fie what a foolish duty call you this  lucentio i would your duty were as foolish too the wisdom of your duty fair bianca hath cost me an hundred crowns since suppertime  bianca the more fool you for laying on my duty  petruchio katharina i charge thee tell these headstrong women what duty they do owe their lords and husbands  widow come come youre mocking we will have no telling  petruchio come on i say and first begin with her  widow she shall not  petruchio i say she shall and first begin with her  katharina fie fie unknit that threatening unkind brow and dart not scornful glances from those eyes to wound thy lord thy king thy governor it blots thy beauty as frosts do bite the meads confounds thy fame as whirlwinds shake fair buds and in no sense is meet or amiable a woman moved is like a fountain troubled muddy illseeming thick bereft of beauty and while it is so none so dry or thirsty will deign to sip or touch one drop of it thy husband is thy lord thy life thy keeper thy head thy sovereign one that cares for thee and for thy maintenance commits his body to painful labour both by sea and land to watch the night in storms the day in cold whilst thou liest warm at home secure and safe and craves no other tribute at thy hands but love fair looks and true obedience too little payment for so great a debt such duty as the subject owes the prince even such a woman oweth to her husband and when she is froward peevish sullen sour and not obedient to his honest will what is she but a foul contending rebel and graceless traitor to her loving lord i am ashamed that women are so simple to offer war where they should kneel for peace or seek for rule supremacy and sway when they are bound to serve love and obey why are our bodies soft and weak and smooth unapt to toil and trouble in the world but that our soft conditions and our hearts should well agree with our external parts come come you froward and unable worms my mind hath been as big as one of yours my heart as great my reason haply more to bandy word for word and frown for frown but now i see our lances are but straws our strength as weak our weakness past compare that seeming to be most which we indeed least are then vail your stomachs for it is no boot and place your hands below your husbands foot in token of which duty if he please my hand is ready may it do him ease  petruchio why theres a wench come on and kiss me kate  lucentio well go thy ways old lad for thou shalt hat  vincentio tis a good hearing when children are toward  lucentio but a harsh hearing when women are froward  petruchio come kate well to bed we three are married but you two are sped twas i won the wager though you hit the white and being a winner god give you good night  hortensio now go thy ways thou hast tamed a curst shrew  lucentio tis a wonder by your leave she will be tamed so  master boatswain  boatswain here master what cheer  master good speak to the mariners fall tot yarely or we run ourselves aground bestir bestir  boatswain heigh my hearts cheerly cheerly my hearts yare yare take in the topsail tend to the masters whistle blow till thou burst thy wind if room enough  alonso good boatswain have care wheres the master play the men  boatswain i pray now keep below  antonio where is the master boatswain  boatswain do you not hear him you mar our labour keep your cabins you do assist the storm  gonzalo nay good be patient  boatswain when the sea is hence what cares these roarers for the name of king to cabin silence trouble us not  gonzalo good yet remember whom thou hast aboard  boatswain none that i more love than myself you are a counsellor if you can command these elements to silence and work the peace of the present we will not hand a rope more use your authority if you cannot give thanks you have lived so long and make yourself ready in your cabin for the mischance of the hour if it so hap cheerly good hearts out of our way i say  gonzalo i have great comfort from this fellow methinks he hath no drowning mark upon him his complexion is perfect gallows stand fast good fate to his hanging make the rope of his destiny our cable for our own doth little advantage if he be not born to be hanged our case is miserable  boatswain down with the topmast yare lower lower bring her to try with maincourse a plague upon this howling they are louder than the weather or our office yet again what do you here shall we give oer and drown have you a mind to sink  sebastian a pox o your throat you bawling blasphemous incharitable dog  boatswain work you then  antonio hang cur hang you whoreson insolent noisemaker we are less afraid to be drowned than thou art  gonzalo ill warrant him for drowning though the ship were no stronger than a nutshell and as leaky as an unstanched wench  boatswain lay her ahold ahold set her two courses off to sea again lay her off  mariners all lost to prayers to prayers all lost  boatswain what must our mouths be cold  gonzalo the king and prince at prayers lets assist them for our case is as theirs  sebastian im out of patience  antonio we are merely cheated of our lives by drunkards this widechappd rascalwould thou mightst lie drowning the washing of ten tides  gonzalo hell be hangd yet though every drop of water swear against it and gape at widest to glut him  antonio lets all sink with the king  sebastian lets take leave of him  gonzalo now would i give a thousand furlongs of sea for an acre of barren ground long heath brown furze any thing the wills above be done but i would fain die a dry death  miranda if by your art my dearest father you have put the wild waters in this roar allay them the sky it seems would pour down stinking pitch but that the sea mounting to the welkins cheek dashes the fire out o i have suffered with those that i saw suffer a brave vessel who had no doubt some noble creature in her dashd all to pieces o the cry did knock against my very heart poor souls they perishd had i been any god of power i would have sunk the sea within the earth or ere it should the good ship so have swallowd and the fraughting souls within her  prospero be collected no more amazement tell your piteous heart theres no harm done  miranda o woe the day  prospero no harm i have done nothing but in care of thee of thee my dear one thee my daughter who art ignorant of what thou art nought knowing of whence i am nor that i am more better than prospero master of a full poor cell and thy no greater father  miranda more to know did never meddle with my thoughts  prospero tis time i should inform thee farther lend thy hand and pluck my magic garment from me so lie there my art wipe thou thine eyes have comfort the direful spectacle of the wreck which touchd the very virtue of compassion in thee i have with such provision in mine art so safely ordered that there is no soul no not so much perdition as an hair betid to any creature in the vessel which thou heardst cry which thou sawst sink sit down for thou must now know farther  miranda you have often begun to tell me what i am but stoppd and left me to a bootless inquisition concluding stay not yet  prospero the hours now come the very minute bids thee ope thine ear obey and be attentive canst thou remember a time before we came unto this cell i do not think thou canst for then thou wast not out three years old  miranda certainly sir i can  prospero by what by any other house or person of any thing the image tell me that hath kept with thy remembrance  miranda tis far off and rather like a dream than an assurance that my remembrance warrants had i not four or five women once that tended me  prospero thou hadst and more miranda but how is it that this lives in thy mind what seest thou else in the dark backward and abysm of time if thou rememberst aught ere thou camest here how thou camest here thou mayst  miranda but that i do not  prospero twelve year since miranda twelve year since thy father was the duke of milan and a prince of power  miranda sir are not you my father  prospero thy mother was a piece of virtue and she said thou wast my daughter and thy father was duke of milan and thou his only heir and princess no worse issued  miranda o the heavens what foul play had we that we came from thence or blessed wast we did  prospero both both my girl by foul play as thou sayst were we heaved thence but blessedly holp hither  miranda o my heart bleeds to think o the teen that i have turnd you to which is from my remembrance please you farther  prospero my brother and thy uncle calld antonio i pray thee mark methat a brother should be so perfidioushe whom next thyself of all the world i loved and to him put the manage of my state as at that time through all the signories it was the first and prospero the prime duke being so reputed in dignity and for the liberal arts without a parallel those being all my study the government i cast upon my brother and to my state grew stranger being transported and rapt in secret studies thy false uncle dost thou attend me  miranda sir most heedfully  prospero being once perfected how to grant suits how to deny them who to advance and who to trash for overtopping new created the creatures that were mine i say or changed em or else new formd em having both the key of officer and office set all hearts i the state to what tune pleased his ear that now he was the ivy which had hid my princely trunk and suckd my verdure out ont thou attendst not  miranda o good sir i do  prospero i pray thee mark me i thus neglecting worldly ends all dedicated to closeness and the bettering of my mind with that which but by being so retired oerprized all popular rate in my false brother awaked an evil nature and my trust like a good parent did beget of him a falsehood in its contrary as great as my trust was which had indeed no limit a confidence sans bound he being thus lorded not only with what my revenue yielded but what my power might else exact like one who having into truth by telling of it made such a sinner of his memory to credit his own lie he did believe he was indeed the duke out o the substitution and executing the outward face of royalty with all prerogative hence his ambition growing dost thou hear  miranda your tale sir would cure deafness  prospero to have no screen between this part he playd and him he playd it for he needs will be absolute milan me poor man my library was dukedom large enough of temporal royalties he thinks me now incapable confederates so dry he was for swaywi the king of naples to give him annual tribute do him homage subject his coronet to his crown and bend the dukedom yet unbowdalas poor milan to most ignoble stooping  miranda o the heavens  prospero mark his condition and the event then tell me if this might be a brother  miranda i should sin to think but nobly of my grandmother good wombs have borne bad sons  prospero now the condition the king of naples being an enemy to me inveterate hearkens my brothers suit which was that he in lieu o the premises of homage and i know not how much tribute should presently extirpate me and mine out of the dukedom and confer fair milan with all the honours on my brother whereon a treacherous army levied one midnight fated to the purpose did antonio open the gates of milan and i the dead of darkness the ministers for the purpose hurried thence me and thy crying self  miranda alack for pity i not remembering how i cried out then will cry it oer again it is a hint that wrings mine eyes tot  prospero hear a little further and then ill bring thee to the present business which nows upons without the which this story were most impertinent  miranda wherefore did they not that hour destroy us  prospero well demanded wench my tale provokes that question dear they durst not so dear the love my people bore me nor set a mark so bloody on the business but with colours fairer painted their foul ends in few they hurried us aboard a bark bore us some leagues to sea where they prepared a rotten carcass of a boat not riggd nor tackle sail nor mast the very rats instinctively had quit it there they hoist us to cry to the sea that roard to us to sigh to the winds whose pity sighing back again did us but loving wrong  miranda alack what trouble was i then to you  prospero o a cherubim thou wast that did preserve me thou didst smile infused with a fortitude from heaven when i have deckd the sea with drops full salt under my burthen groand which raised in me an undergoing stomach to bear up against what should ensue  miranda how came we ashore  prospero by providence divine some food we had and some fresh water that a noble neapolitan gonzalo out of his charity being then appointed master of this design did give us with rich garments linens stuffs and necessaries which since have steaded much so of his gentleness knowing i loved my books he furnishd me from mine own library with volumes that i prize above my dukedom  miranda would i might but ever see that man  prospero now i arise sit still and hear the last of our seasorrow here in this island we arrived and here have i thy schoolmaster made thee more profit than other princesses can that have more time for vainer hours and tutors not so careful  miranda heavens thank you fort and now i pray you sir for still tis beating in my mind your reason for raising this seastorm  prospero know thus far forth by accident most strange bountiful fortune now my dear lady hath mine enemies brought to this shore and by my prescience i find my zenith doth depend upon a most auspicious star whose influence if now i court not but omit my fortunes will ever after droop here cease more questions thou art inclined to sleep tis a good dulness and give it way i know thou canst not choose come away servant come i am ready now approach my ariel come  ariel all hail great master grave sir hail i come to answer thy best pleasure bet to fly to swim to dive into the fire to ride on the curld clouds to thy strong bidding task ariel and all his quality  prospero hast thou spirit performd to point the tempest that i bade thee  ariel to every article i boarded the kings ship now on the beak now in the waist the deck in every cabin i flamed amazement sometime ild divide and burn in many places on the topmast the yards and bowsprit would i flame distinctly then meet and join joves lightnings the precursors o the dreadful thunderclaps more momentary and sightoutrunning were not the fire and cracks of sulphurous roaring the most mighty neptune seem to besiege and make his bold waves tremble yea his dread trident shake  prospero my brave spirit who was so firm so constant that this coil would not infect his reason  ariel not a soul but felt a fever of the mad and playd some tricks of desperation all but mariners plunged in the foaming brine and quit the vessel then all afire with me the kings son ferdinand with hair upstaringthen like reeds not hair was the first man that leapd cried hell is empty and all the devils are here  prospero why thats my spirit but was not this nigh shore  ariel close by my master  prospero but are they ariel safe  ariel not a hair perishd on their sustaining garments not a blemish but fresher than before and as thou badest me in troops i have dispersed them bout the isle the kings son have i landed by himself whom i left cooling of the air with sighs in an odd angle of the isle and sitting his arms in this sad knot  prospero of the kings ship the mariners say how thou hast disposed and all the rest o the fleet  ariel safely in harbour is the kings ship in the deep nook where once thou calldst me up at midnight to fetch dew from the stillvexd bermoothes there shes hid the mariners all under hatches stowd who with a charm joind to their sufferd labour i have left asleep and for the rest o the fleet which i dispersed they all have met again and are upon the mediterranean flote bound sadly home for naples supposing that they saw the kings ship wreckd and his great person perish  prospero ariel thy charge exactly is performd but theres more work what is the time o the day  ariel past the mid season  prospero at least two glasses the time twixt six and now must by us both be spent most preciously  ariel is there more toil since thou dost give me pains let me remember thee what thou hast promised which is not yet performd me  prospero how now moody what ist thou canst demand  ariel my liberty  prospero before the time be out no more  ariel i prithee remember i have done thee worthy service told thee no lies made thee no mistakings served without or grudge or grumblings thou didst promise to bate me a full year  prospero dost thou forget from what a torment i did free thee  ariel no  prospero thou dost and thinkst it much to tread the ooze of the salt deep to run upon the sharp wind of the north to do me business in the veins o the earth when it is baked with frost  ariel i do not sir  prospero thou liest malignant thing hast thou forgot the foul witch sycorax who with age and envy was grown into a hoop hast thou forgot her  ariel no sir  prospero thou hast where was she born speak tell me  ariel sir in argier  prospero o was she so i must once in a month recount what thou hast been which thou forgetst this damnd witch sycorax for mischiefs manifold and sorceries terrible to enter human hearing from argier thou knowst was banishd for one thing she did they would not take her life is not this true  ariel ay sir  prospero this blueeyed hag was hither brought with child and here was left by the sailors thou my slave as thou reportst thyself wast then her servant and for thou wast a spirit too delicate to act her earthy and abhorrd commands refusing her grand hests she did confine thee by help of her more potent ministers and in her most unmitigable rage into a cloven pine within which rift imprisond thou didst painfully remain a dozen years within which space she died and left thee there where thou didst vent thy groans as fast as millwheels strike then was this island save for the son that she did litter here a freckled whelp hagbornnot honourd with a human shape  ariel yes caliban her son  prospero dull thing i say so he that caliban whom now i keep in service thou best knowst what torment i did find thee in thy groans did make wolves howl and penetrate the breasts of ever angry bears it was a torment to lay upon the damnd which sycorax could not again undo it was mine art when i arrived and heard thee that made gape the pine and let thee out  ariel i thank thee master  prospero if thou more murmurst i will rend an oak and peg thee in his knotty entrails till thou hast howld away twelve winters  ariel pardon master i will be correspondent to command and do my spiriting gently  prospero do so and after two days i will discharge thee  ariel thats my noble master what shall i do say what what shall i do  prospero go make thyself like a nymph o the sea be subject to no sight but thine and mine invisible to every eyeball else go take this shape and hither come int go hence with diligence awake dear heart awake thou hast slept well awake  miranda the strangeness of your story put heaviness in me  prospero shake it off come on well visit caliban my slave who never yields us kind answer  miranda tis a villain sir i do not love to look on  prospero but as tis we cannot miss him he does make our fire fetch in our wood and serves in offices that profit us what ho slave caliban thou earth thou speak  caliban  prospero come forth i say theres other business for thee come thou tortoise when fine apparition my quaint ariel hark in thine ear  ariel my lord it shall be done  prospero thou poisonous slave got by the devil himself upon thy wicked dam come forth  caliban as wicked dew as eer my mother brushd with ravens feather from unwholesome fen drop on you both a southwest blow on ye and blister you all oer  prospero for this be sure tonight thou shalt have cramps sidestitches that shall pen thy breath up urchins shall for that vast of night that they may work all exercise on thee thou shalt be pinchd as thick as honeycomb each pinch more stinging than bees that made em  caliban i must eat my dinner this islands mine by sycorax my mother which thou takest from me when thou camest first thou strokedst me and madest much of me wouldst give me water with berries int and teach me how to name the bigger light and how the less that burn by day and night and then i loved thee and showd thee all the qualities o the isle the fresh springs brinepits barren place and fertile cursed be i that did so all the charms of sycorax toads beetles bats light on you for i am all the subjects that you have which first was mine own king and here you sty me in this hard rock whiles you do keep from me the rest o the island  prospero thou most lying slave whom stripes may move not kindness i have used thee filth as thou art with human care and lodged thee in mine own cell till thou didst seek to violate the honour of my child  caliban o ho o ho wouldt had been done thou didst prevent me i had peopled else this isle with calibans  prospero abhorred slave which any print of goodness wilt not take being capable of all ill i pitied thee took pains to make thee speak taught thee each hour one thing or other when thou didst not savage know thine own meaning but wouldst gabble like a thing most brutish i endowd thy purposes with words that made them known but thy vile race though thou didst learn had that int which good natures could not abide to be with therefore wast thou deservedly confined into this rock who hadst deserved more than a prison  caliban you taught me language and my profit ont is i know how to curse the red plague rid you for learning me your language  prospero hagseed hence fetch us in fuel and be quick thourt best to answer other business shrugst thou malice if thou neglectst or dost unwillingly what i command ill rack thee with old cramps fill all thy bones with aches make thee roar that beasts shall tremble at thy din  caliban no pray thee i must obey his art is of such power it would control my dams god setebos and make a vassal of him  prospero so slave hence come unto these yellow sands and then take hands courtsied when you have and kissd the wild waves whist foot it featly here and there and sweet sprites the burthen bear hark hark  ferdinand where should this music be i the air or the earth it sounds no more and sure it waits upon some god o the island sitting on a bank weeping again the king my fathers wreck this music crept by me upon the waters allaying both their fury and my passion with its sweet air thence i have followd it or it hath drawn me rather but tis gone no it begins again full fathom five thy father lies of his bones are coral made those are pearls that were his eyes nothing of him that doth fade but doth suffer a seachange into something rich and strange seanymphs hourly ring his knell hark now i hear themdingdong bell  ferdinand the ditty does remember my drownd father this is no mortal business nor no sound that the earth owes i hear it now above me  prospero the fringed curtains of thine eye advance and say what thou seest yond  miranda what ist a spirit lord how it looks about believe me sir it carries a brave form but tis a spirit  prospero no wench it eats and sleeps and hath such senses as we have such this gallant which thou seest was in the wreck and but hes something staind with grief thats beautys canker thou mightst call him a goodly person he hath lost his fellows and strays about to find em  miranda i might call him a thing divine for nothing natural i ever saw so noble  prospero  ferdinand most sure the goddess on whom these airs attend vouchsafe my prayer may know if you remain upon this island and that you will some good instruction give how i may bear me here my prime request which i do last pronounce is o you wonder if you be maid or no  miranda no wonder sir but certainly a maid  ferdinand my language heavens i am the best of them that speak this speech were i but where tis spoken  prospero how the best what wert thou if the king of naples heard thee  ferdinand a single thing as i am now that wonders to hear thee speak of naples he does hear me and that he does i weep myself am naples who with mine eyes never since at ebb beheld the king my father wreckd  miranda alack for mercy  ferdinand yes faith and all his lords the duke of milan and his brave son being twain  prospero  miranda why speaks my father so ungently this is the third man that eer i saw the first that eer i sighd for pity move my father to be inclined my way  ferdinand o if a virgin and your affection not gone forth ill make you the queen of naples  prospero soft sir one word more they are both in eithers powers but this swift business i must uneasy make lest too light winning make the prize light one word more i charge thee that thou attend me thou dost here usurp the name thou owest not and hast put thyself upon this island as a spy to win it from me the lord ont  ferdinand no as i am a man  miranda theres nothing ill can dwell in such a temple if the ill spirit have so fair a house good things will strive to dwell witht  prospero follow me speak not you for him hes a traitor come ill manacle thy neck and feet together seawater shalt thou drink thy food shall be the freshbrook muscles witherd roots and husks wherein the acorn cradled follow  ferdinand no i will resist such entertainment till mine enemy has more power  miranda o dear father make not too rash a trial of him for hes gentle and not fearful  prospero what i say my foot my tutor put thy sword up traitor who makest a show but darest not strike thy conscience is so possessd with guilt come from thy ward for i can here disarm thee with this stick and make thy weapon drop  miranda beseech you father  prospero hence hang not on my garments  miranda sir have pity ill be his surety  prospero silence one word more shall make me chide thee if not hate thee what an advocate for an imposter hush thou thinkst there is no more such shapes as he having seen but him and caliban foolish wench to the most of men this is a caliban and they to him are angels  miranda my affections are then most humble i have no ambition to see a goodlier man  prospero come on obey thy nerves are in their infancy again and have no vigour in them  ferdinand so they are my spirits as in a dream are all bound up my fathers loss the weakness which i feel the wreck of all my friends nor this mans threats to whom i am subdued are but light to me might i but through my prison once a day behold this maid all corners else o the earth let liberty make use of space enough have i in such a prison  prospero  miranda be of comfort my fathers of a better nature sir than he appears by speech this is unwonted which now came from him  prospero thou shalt be free as mountain winds but then exactly do all points of my command  ariel to the syllable  prospero come follow speak not for him  gonzalo beseech you sir be merry you have cause so have we all of joy for our escape is much beyond our loss our hint of woe is common every day some sailors wife the masters of some merchant and the merchant have just our theme of woe but for the miracle i mean our preservation few in millions can speak like us then wisely good sir weigh our sorrow with our comfort  alonso prithee peace  sebastian he receives comfort like cold porridge  antonio the visitor will not give him oer so  sebastian look hes winding up the watch of his wit by and by it will strike  gonzalo sir  sebastian one tell  gonzalo when every grief is entertaind thats offerd comes to the entertainer  sebastian a dollar  gonzalo dolour comes to him indeed you have spoken truer than you purposed  sebastian you have taken it wiselier than i meant you should  gonzalo therefore my lord  antonio fie what a spendthrift is he of his tongue  alonso i prithee spare  gonzalo well i have done but yet  sebastian he will be talking  antonio which of he or adrian for a good wager first begins to crow  sebastian the old cock  antonio the cockerel  sebastian done the wager  antonio a laughter  sebastian a match  adrian though this island seem to be desert  sebastian ha ha ha so youre paid  adrian uninhabitable and almost inaccessible  sebastian yet  adrian yet  antonio he could not misst  adrian it must needs be of subtle tender and delicate temperance  antonio temperance was a delicate wench  sebastian ay and a subtle as he most learnedly delivered  adrian the air breathes upon us here most sweetly  sebastian as if it had lungs and rotten ones  antonio or as twere perfumed by a fen  gonzalo here is everything advantageous to life  antonio true save means to live  sebastian of that theres none or little  gonzalo how lush and lusty the grass looks how green  antonio the ground indeed is tawny  sebastian with an eye of green int  antonio he misses not much  sebastian no he doth but mistake the truth totally  gonzalo but the rarity of it iswhich is indeed almost beyond credit  sebastian as many vouched rarities are  gonzalo that our garments being as they were drenched in the sea hold notwithstanding their freshness and glosses being rather newdyed than stained with salt water  antonio if but one of his pockets could speak would it not say he lies  sebastian ay or very falsely pocket up his report  gonzalo methinks our garments are now as fresh as when we put them on first in afric at the marriage of the kings fair daughter claribel to the king of tunis  sebastian twas a sweet marriage and we prosper well in our return  adrian tunis was never graced before with such a paragon to their queen  gonzalo not since widow didos time  antonio widow a pox o that how came that widow in widow dido  sebastian what if he had said widower aeneas too good lord how you take it  adrian widow dido said you you make me study of that she was of carthage not of tunis  gonzalo this tunis sir was carthage  adrian carthage  gonzalo i assure you carthage  sebastian his word is more than the miraculous harp he hath raised the wall and houses too  antonio what impossible matter will he make easy next  sebastian i think he will carry this island home in his pocket and give it his son for an apple  antonio and sowing the kernels of it in the sea bring forth more islands  gonzalo ay  antonio why in good time  gonzalo sir we were talking that our garments seem now as fresh as when we were at tunis at the marriage of your daughter who is now queen  antonio and the rarest that eer came there  sebastian bate i beseech you widow dido  antonio o widow dido ay widow dido  gonzalo is not sir my doublet as fresh as the first day i wore it i mean in a sort  antonio that sort was well fished for  gonzalo when i wore it at your daughters marriage  alonso you cram these words into mine ears against the stomach of my sense would i had never married my daughter there for coming thence my son is lost and in my rate she too who is so far from italy removed i neer again shall see her o thou mine heir of naples and of milan what strange fish hath made his meal on thee  francisco sir he may live i saw him beat the surges under him and ride upon their backs he trod the water whose enmity he flung aside and breasted the surge most swoln that met him his bold head bove the contentious waves he kept and oard himself with his good arms in lusty stroke to the shore that oer his waveworn basis bowd as stooping to relieve him i not doubt he came alive to land  alonso no no hes gone  sebastian sir you may thank yourself for this great loss that would not bless our europe with your daughter but rather lose her to an african where she at least is banishd from your eye who hath cause to wet the grief ont  alonso prithee peace  sebastian you were kneeld to and importuned otherwise by all of us and the fair soul herself weighd between loathness and obedience at which end o the beam should bow we have lost your son i fear for ever milan and naples have more widows in them of this business making than we bring men to comfort them the faults your own  alonso so is the dearst o the loss  gonzalo my lord sebastian the truth you speak doth lack some gentleness and time to speak it in you rub the sore when you should bring the plaster  sebastian very well  antonio and most chirurgeonly  gonzalo it is foul weather in us all good sir when you are cloudy  sebastian foul weather  antonio very foul  gonzalo had i plantation of this isle my lord  antonio held sowt with nettleseed  sebastian or docks or mallows  gonzalo and were the king ont what would i do  sebastian scape being drunk for want of wine  gonzalo i the commonwealth i would by contraries execute all things for no kind of traffic would i admit no name of magistrate letters should not be known riches poverty and use of service none contract succession bourn bound of land tilth vineyard none no use of metal corn or wine or oil no occupation all men idle all and women too but innocent and pure no sovereignty  sebastian yet he would be king ont  antonio the latter end of his commonwealth forgets the beginning  gonzalo all things in common nature should produce without sweat or endeavour treason felony sword pike knife gun or need of any engine would i not have but nature should bring forth of its own kind all foison all abundance to feed my innocent people  sebastian no marrying mong his subjects  antonio none man all idle whores and knaves  gonzalo i would with such perfection govern sir to excel the golden age  sebastian god save his majesty  antonio long live gonzalo  gonzalo anddo you mark me sir  alonso prithee no more thou dost talk nothing to me  gonzalo i do well believe your highness and did it to minister occasion to these gentlemen who are of such sensible and nimble lungs that they always use to laugh at nothing  antonio twas you we laughed at  gonzalo who in this kind of merry fooling am nothing to you so you may continue and laugh at nothing still  antonio what a blow was there given  sebastian an it had not fallen flatlong  gonzalo you are gentlemen of brave metal you would lift the moon out of her sphere if she would continue in it five weeks without changing  sebastian we would so and then go a batfowling  antonio nay good my lord be not angry  gonzalo no i warrant you i will not adventure my discretion so weakly will you laugh me asleep for i am very heavy  antonio go sleep and hear us  alonso what all so soon asleep i wish mine eyes would with themselves shut up my thoughts i find they are inclined to do so  sebastian please you sir do not omit the heavy offer of it it seldom visits sorrow when it doth it is a comforter  antonio we two my lord will guard your person while you take your rest and watch your safety  alonso thank you wondrous heavy  sebastian what a strange drowsiness possesses them  antonio it is the quality o the climate  sebastian why doth it not then our eyelids sink i find not myself disposed to sleep  antonio nor i my spirits are nimble they fell together all as by consent they droppd as by a thunderstroke what might worthy sebastian o what mightno more and yet me thinks i see it in thy face what thou shouldst be the occasion speaks thee and my strong imagination sees a crown dropping upon thy head  sebastian what art thou waking  antonio do you not hear me speak  sebastian i do and surely it is a sleepy language and thou speakst out of thy sleep what is it thou didst say this is a strange repose to be asleep with eyes wide open standing speaking moving and yet so fast asleep  antonio noble sebastian thou letst thy fortune sleepdie rather winkst whiles thou art waking \n"
          ],
          "name": "stdout"
        }
      ]
    },
    {
      "cell_type": "code",
      "metadata": {
        "colab": {
          "base_uri": "https://localhost:8080/"
        },
        "id": "ib123nXgh60A",
        "outputId": "8ca2002b-aa93-48b2-c70e-c805325730a6"
      },
      "source": [
        "# assign ids to the words and create the dictionaries\n",
        "vocab = {}\n",
        "\n",
        "s = 0.001\n",
        "\n",
        "calcProb = lambda x, z: (np.sqrt(z/s)+1)*(s/z)\n",
        "\n",
        "# split the string\n",
        "tokens = trainText.split(\" \")\n",
        "for index, token in enumerate(set(tokens)):\n",
        "  # add the subsampling calucaltion\n",
        "  # z = tokens.count(token)\n",
        "  # prob = (np.sqrt(z/s)+1)*(s/z)\n",
        "  vocab[token] = index\n",
        "\n",
        "vocab_size = len(vocab)\n",
        "inverse_vocab = {index: token for token, index in vocab.items()}\n",
        "\n",
        "print(vocab_size)\n",
        "print(vocab)\n",
        "print(inverse_vocab)"
      ],
      "execution_count": 5,
      "outputs": [
        {
          "output_type": "stream",
          "text": [
            "2185\n",
            "{'': 0, 'obey': 1, 'prepared': 2, 'strike': 3, 'appears': 4, 'airs': 5, 'both': 6, 'swear': 7, 'nymph': 8, 'escape': 9, 'fie': 10, 'vouched': 11, 'thick': 12, 'eat': 13, 'ministers': 14, 'afric': 15, 'dog': 16, 'much': 17, 'newbuilt': 18, 'world': 19, 'lived': 20, 'chance': 21, 'smile': 22, 'hoop': 23, 'nobly': 24, 'bodies': 25, 'birth': 26, 'safe': 27, 'deny': 28, 'dread': 29, 'harp': 30, 'majesty': 31, 'where': 32, 'noisemaker': 33, 'cherubim': 34, 'signior': 35, 'article': 36, 'impossible': 37, 'bigger': 38, 'newdyed': 39, 'yards': 40, 'profit': 41, 'him': 42, 'memory': 43, 'bold': 44, 'come': 45, 'young': 46, 'packing': 47, 'dozen': 48, 'fair': 49, 'gabble': 50, 'storm': 51, 'cockerel': 52, 'temple': 53, 'fury': 54, 'truth': 55, 'strong': 56, 'weak': 57, 'quick': 58, 'dive': 59, 'supposes': 60, 'eats': 61, 'married': 62, 'points': 63, 'spiriting': 64, 'advocate': 65, 'wicked': 66, 'beating': 67, 'prison': 68, 'whither': 69, 'tortoise': 70, 'any': 71, 'ambition': 72, 'womanly': 73, 'cease': 74, 'matter': 75, 'worms': 76, 'replied': 77, 'off': 78, 'once': 79, 'leave': 80, 'linens': 81, 'fuel': 82, 'wombs': 83, 'madman': 84, 'knotty': 85, 'playd': 86, 'lukes': 87, 'teen': 88, 'litter': 89, 'office': 90, 'revenged': 91, 'lands': 92, 'become': 93, 'sans': 94, 'angle': 95, 'us': 96, 'we': 97, 'limit': 98, 'witnesses': 99, 'winters': 100, 'above': 101, 'she': 102, 'was': 103, 'lords': 104, 'beside': 105, 'bark': 106, 'merely': 107, 'porridge': 108, 'int': 109, 'bergamo': 110, 'drink': 111, 'clerk': 112, 'refusing': 113, 'afire': 114, 'among': 115, 'gape': 116, 'chat': 117, 'toads': 118, 'stroke': 119, 'remember': 120, 'receives': 121, 'list': 122, 'braved': 123, 'violate': 124, 'bees': 125, 'daughters': 126, 'wondrous': 127, 'bring': 128, 'gone': 129, 'evil': 130, 'furlongs': 131, 'bears': 132, 'hit': 133, 'assist': 134, 'form': 135, 'padua': 136, 'dally': 137, 'cradled': 138, 'hag': 139, 'flamed': 140, 'calibans': 141, 'begin': 142, 'fetch': 143, 'waking': 144, 'instruction': 145, 'changes': 146, 'ad': 147, 'thinks': 148, 'suffer': 149, 'spirits': 150, 'blueeyed': 151, 'biondello': 152, 'the': 153, 'intolerable': 154, 'make': 155, 'should': 156, 'answer': 157, 'mocking': 158, 'ass': 159, 'wear': 160, 'man': 161, 'cloudy': 162, 'sweet': 163, 'marketplace': 164, 'dashd': 165, 'deign': 166, 'oer': 167, 'precursors': 168, 'good': 169, 'empty': 170, 'travellers': 171, 'twain': 172, 'venture': 173, 'perils': 174, 'news': 175, 'these': 176, 'event': 177, 'blessed': 178, 'beginning': 179, 'em': 180, 'mortal': 181, 'tranio': 182, 'banquet': 183, 'they': 184, 'roard': 185, 'lances': 186, 'therefore': 187, 'house': 188, 'pen': 189, 'entertaind': 190, 'feast': 191, 'even': 192, 'lucentios': 193, 'below': 194, 'sit': 195, 'villains': 196, 'last': 197, 'cause': 198, 'themselves': 199, 'exact': 200, 'assurance': 201, 'wast': 202, 'uninhabitable': 203, 'visitor': 204, 'kept': 205, 'bad': 206, 'dear': 207, 'rats': 208, 'vainer': 209, 'mistress': 210, 'mistakings': 211, 'endowd': 212, 'grass': 213, 'fellow': 214, 'sebastian': 215, 'every': 216, 'hearest': 217, 'sirrah': 218, 'unable': 219, 'asleep': 220, 'purpose': 221, 'unluckily': 222, 'conycatched': 223, 'times': 224, 'pursue': 225, 'counterfeit': 226, 'four': 227, 'content': 228, 'methinks': 229, 'cracks': 230, 'studies': 231, 'angels': 232, 'riches': 233, 'lose': 234, 'strange': 235, 'shrew': 236, 'shift': 237, 'traffic': 238, 'king': 239, 'win': 240, 'imposter': 241, 'given': 242, 'untoward': 243, 'pale': 244, 'lightnings': 245, 'stripes': 246, 'natures': 247, 'priest': 248, 'served': 249, 'mariners': 250, 'tale': 251, 'brothers': 252, 'noble': 253, 'occasion': 254, 'hes': 255, 'pound': 256, 'rid': 257, 'long': 258, 'showd': 259, 'behold': 260, 'dukedom': 261, 'impertinent': 262, 'qualified': 263, 'sayst': 264, 'curld': 265, 'likelihood': 266, 'popular': 267, 'glance': 268, 'threatening': 269, 'spy': 270, 'boy': 271, 'letst': 272, 'confer': 273, 'telling': 274, 'extirpate': 275, 'preserve': 276, 'fated': 277, 'talking': 278, 'marks': 279, 'contented': 280, 'calldst': 281, 'eyeball': 282, 'doublet': 283, 'remain': 284, 'past': 285, 'ravens': 286, 'frosts': 287, 'possessd': 288, 'horn': 289, 'lack': 290, 'bids': 291, 'ignorant': 292, 'glasses': 293, 'magistrate': 294, 'saw': 295, 'beheld': 296, 'bountiful': 297, 'tender': 298, 'preciously': 299, 'tribute': 300, 'charge': 301, 'featly': 302, 'galld': 303, 'shes': 304, 'charm': 305, 'din': 306, 'hither': 307, 'amiable': 308, 'year': 309, 'dare': 310, 'roar': 311, 'latter': 312, 'softly': 313, 'fire': 314, 'language': 315, 'get': 316, 'losses': 317, 'knave': 318, 'rub': 319, 'choose': 320, 'prevent': 321, 'threats': 322, 'hell': 323, 'husbands': 324, 'riggd': 325, 'tune': 326, 'grown': 327, 'underfoot': 328, 'sowt': 329, 'some': 330, 'garden': 331, 'strength': 332, 'mong': 333, 'temperance': 334, 'stinking': 335, 'cried': 336, 'widower': 337, 'along': 338, 'dukes': 339, 'witness': 340, 'climate': 341, 'pearl': 342, 'always': 343, 'murmurst': 344, 'shot': 345, 'wager': 346, 'sweat': 347, 'anddo': 348, 'rememberst': 349, 'signs': 350, 'thirsty': 351, 'grandmother': 352, 'remembering': 353, 'twas': 354, 'sphere': 355, 'italy': 356, 'street': 357, 'might': 358, 'dark': 359, 'art': 360, 'subject': 361, 'instinctively': 362, 'sulphurous': 363, 'serve': 364, 'suits': 365, 'marrying': 366, 'talk': 367, 'frown': 368, 'mistaking': 369, 'alive': 370, 'play': 371, 'subjects': 372, 'print': 373, 'lady': 374, 'throat': 375, 'took': 376, 'rabbit': 377, 'study': 378, 'notwithstanding': 379, 'neer': 380, 'lord': 381, 'undergoing': 382, 'oak': 383, 'happy': 384, 'right': 385, 'daughter': 386, 'islands': 387, 'boarded': 388, 'bodes': 389, 'thither': 390, 'aught': 391, 'spirit': 392, 'coral': 393, 'vigour': 394, 'midst': 395, 'wench': 396, 'outright': 397, 'spoken': 398, 'sip': 399, 'commits': 400, 'mad': 401, 'bow': 402, 'darest': 403, 'enter': 404, 'virtue': 405, 'slit': 406, 'runs': 407, 'maid': 408, 'yielded': 409, 'velvet': 410, 'unkind': 411, 'isle': 412, 'would': 413, 'tend': 414, 'strangeness': 415, 'wander': 416, 'bank': 417, 'sped': 418, 'deceitful': 419, 'dowery': 420, 'heaviness': 421, 'sleep': 422, 'raising': 423, 'groans': 424, 'lying': 425, 'bless': 426, 'providence': 427, 'witht': 428, 'cold': 429, 'drowned': 430, 'scape': 431, 'task': 432, 'before': 433, 'words': 434, 'waves': 435, 'correspondent': 436, 'died': 437, 'syllable': 438, 'backs': 439, 'muddy': 440, 'ship': 441, 'appendix': 442, 'heed': 443, 'than': 444, 'advantage': 445, 'embrace': 446, 'fame': 447, 'insolent': 448, 'spent': 449, 'fine': 450, 'been': 451, 'request': 452, 'enemy': 453, 'sorrow': 454, 'ill': 455, 'abysm': 456, 'leagues': 457, 'immortal': 458, 'sense': 459, 'carthage': 460, 'painful': 461, 'brought': 462, 'else': 463, 'awake': 464, 'formd': 465, 'careful': 466, 'knot': 467, 'clouds': 468, 'abused': 469, 'imprimendum': 470, 'camest': 471, 'slept': 472, 'live': 473, 'story': 474, 'cost': 475, 'somebody': 476, 'head': 477, 'premises': 478, 'sad': 479, 'begins': 480, 'cares': 481, 'external': 482, 'besiege': 483, 'point': 484, 'easy': 485, 'came': 486, 'questions': 487, 'odd': 488, 'rage': 489, 'surety': 490, 'joy': 491, 'hagbornnot': 492, 'princesses': 493, 'destroy': 494, 'books': 495, 'whelp': 496, 'backward': 497, 'mighty': 498, 'countenance': 499, 'nature': 500, 'sound': 501, 'could': 502, 'habit': 503, 'rate': 504, 'moral': 505, 'looks': 506, 'winding': 507, 'town': 508, 'her': 509, 'all': 510, 'making': 511, 'girl': 512, 'another': 513, 'beget': 514, 'eye': 515, 'upon': 516, 'ashore': 517, 'first': 518, 'ends': 519, 'crept': 520, 'swoln': 521, 'say': 522, 'royalty': 523, 'advantageous': 524, 'rarity': 525, 'signories': 526, 'hadst': 527, 'sadly': 528, 'unto': 529, 'owes': 530, 'quality': 531, 'followd': 532, 'drowsiness': 533, 'exchange': 534, 'pox': 535, 'adventure': 536, 'grant': 537, 'parents': 538, 'mayst': 539, 'often': 540, 'aground': 541, 'arrived': 542, 'moody': 543, 'agree': 544, 'had': 545, 'beautys': 546, 'hours': 547, 'doubt': 548, 'north': 549, 'govern': 550, 'present': 551, 'holidame': 552, 'joves': 553, 'like': 554, 'goodly': 555, 'fountain': 556, 'human': 557, 'roundly': 558, 'moralize': 559, 'none': 560, 'token': 561, 'blots': 562, 'abhorred': 563, 'depend': 564, 'bermoothes': 565, 'froward': 566, 'breasted': 567, 'bidding': 568, 'infancy': 569, 'unwillingly': 570, 'henceforth': 571, 'raised': 572, 'divine': 573, 'selfsame': 574, 'nigh': 575, 'whence': 576, 'beyond': 577, 'hits': 578, 'faith': 579, 'sigh': 580, 'sailors': 581, 'service': 582, 'pinch': 583, 'thyself': 584, 'six': 585, 'veriest': 586, 'hastywitted': 587, 'stronger': 588, 'craves': 589, 'neglecting': 590, 'roarers': 591, 'dam': 592, 'hanging': 593, 'remembrance': 594, 'flame': 595, 'iswhich': 596, 'unstanched': 597, 'with': 598, 'resist': 599, 'swift': 600, 'deserved': 601, 'maintenance': 602, 'forthcoming': 603, 'infused': 604, 'fresher': 605, 'succession': 606, 'ride': 607, 'see': 608, 'madest': 609, 'greyhound': 610, 'woe': 611, 'guard': 612, 'hangd': 613, 'bove': 614, 'prince': 615, 'bout': 616, 'toil': 617, 'manifold': 618, 'share': 619, 'tis': 620, 'hair': 621, 'o': 622, 'african': 623, 'law': 624, 'marvel': 625, 'vent': 626, 'prime': 627, 'recount': 628, 'kneeld': 629, 'dough': 630, 'troubled': 631, 'does': 632, 'winds': 633, 'yarely': 634, 'be': 635, 'white': 636, 'cannot': 637, 'seest': 638, 'arrival': 639, 'salt': 640, 'quaint': 641, 'poor': 642, 'likes': 643, 'advance': 644, 'prayer': 645, 'secure': 646, 'lieu': 647, 'hunted': 648, 'ope': 649, 'breathes': 650, 'perfumed': 651, 'safely': 652, 'fairer': 653, 'drownd': 654, 'persuasion': 655, 'ancient': 656, 'takest': 657, 'wrinkled': 658, 'surge': 659, 'twixt': 660, 'virgin': 661, 'bourn': 662, 'laying': 663, 'without': 664, 'hawk': 665, 'land': 666, 'swallowd': 667, 'cast': 668, 'shake': 669, 'die': 670, 'widest': 671, 'bird': 672, 'learnedly': 673, 'lie': 674, 'hoist': 675, 'tokens': 676, 'held': 677, 'trod': 678, 'marriage': 679, 'to': 680, 'darkness': 681, 'against': 682, 'forswear': 683, 'great': 684, 'springs': 685, 'ungently': 686, 'simple': 687, 'witherd': 688, 'golden': 689, 'beam': 690, 'fell': 691, 'wood': 692, 'screen': 693, 'hearing': 694, 'fever': 695, 'weapon': 696, 'beseech': 697, 'changing': 698, 'invisible': 699, 'awakend': 700, 'bliss': 701, 'pass': 702, 'i': 703, 'farther': 704, 'halves': 705, 'thinkst': 706, 'body': 707, 'half': 708, 'buds': 709, 'suffered': 710, 'feather': 711, 'fain': 712, 'blister': 713, 'adrian': 714, 'rock': 715, 'crown': 716, 'apparition': 717, 'evermore': 718, 'corn': 719, 'cloak': 720, 'maimd': 721, 'inveterate': 722, 'his': 723, 'jealous': 724, 'care': 725, 'used': 726, 'tot': 727, 'look': 728, 'villany': 729, 'prerogative': 730, 'arms': 731, 'midnight': 732, 'comfort': 733, 'dearest': 734, 'vile': 735, 'use': 736, 'enforced': 737, 'roots': 738, 'stranger': 739, 'magic': 740, 'government': 741, 'foolish': 742, 'princess': 743, 'fathers': 744, 'hearkening': 745, 'importuned': 746, 'fresh': 747, 'swim': 748, 'husband': 749, 'green': 750, 'baked': 751, 'wherein': 752, 'unwholesome': 753, 'hortensios': 754, 'husks': 755, 'eyelids': 756, 'engine': 757, 'mar': 758, 'wide': 759, 'stars': 760, 'loving': 761, 'silken': 762, 'befal': 763, 'shalt': 764, 'please': 765, 'powers': 766, 'beasts': 767, 'biancas': 768, 'becomes': 769, 'ready': 770, 'asking': 771, 'berries': 772, 'mean': 773, 'winning': 774, 'widow': 775, 'deafness': 776, 'gremio': 777, 'alack': 778, 'court': 779, 'knife': 780, 'learning': 781, 'totally': 782, 'betid': 783, 'condition': 784, 'didst': 785, 'contract': 786, 'pinchd': 787, 'toward': 788, 'sail': 789, 'preservation': 790, 'seastorm': 791, 'ferdinand': 792, 'folks': 793, 'sends': 794, 'save': 795, 'face': 796, 'together': 797, 'dido': 798, 'approach': 799, 'waters': 800, 'copatain': 801, 'call': 802, 'imagination': 803, 'bet': 804, 'foot': 805, 'stillvexd': 806, 'love': 807, 'hath': 808, 'rogue': 809, 'whats': 810, 'a': 811, 'music': 812, 'spangle': 813, 'maintain': 814, 'ahold': 815, 'bright': 816, 'single': 817, 'wilt': 818, 'passion': 819, 'way': 820, 'there': 821, 'crossd': 822, 'age': 823, 'wreckd': 824, 'gentleness': 825, 'may': 826, 'kneel': 827, 'power': 828, 'usurp': 829, 'barren': 830, 'temporal': 831, 'slave': 832, 'incapable': 833, 'bauble': 834, 'sufferd': 835, 'ye': 836, 'about': 837, 'silly': 838, 'sight': 839, 'idle': 840, 'subdued': 841, 'wit': 842, 'humble': 843, 'contrary': 844, 'marry': 845, 'ado': 846, 'women': 847, 'topmast': 848, 'occupation': 849, 'keeper': 850, 'greater': 851, 'howl': 852, 'stinging': 853, 'inclined': 854, 'lift': 855, 'bedazzled': 856, 'uncle': 857, 'cure': 858, 'stand': 859, 'zenith': 860, 'carcass': 861, 'mounting': 862, 'five': 863, 'wonder': 864, 'docks': 865, 'supposing': 866, 'volumes': 867, 'heavens': 868, 'morrow': 869, 'monstrous': 870, 'andyonder': 871, 'silence': 872, 'sword': 873, 'adieu': 874, 'an': 875, 'pleasant': 876, 'ha': 877, 'act': 878, 'unbowdalas': 879, 'leapd': 880, 'break': 881, 'lush': 882, 'paragon': 883, 'overtake': 884, 'aboard': 885, 'thats': 886, 'theme': 887, 'offerd': 888, 'rule': 889, 'widechappd': 890, 'turns': 891, 'mountain': 892, 'oweth': 893, 'old': 894, 'disposed': 895, 'whistle': 896, 'take': 897, 'season': 898, 'giddy': 899, 'rope': 900, 'credit': 901, 'affords': 902, 'whores': 903, 'treason': 904, 'common': 905, 'shipping': 906, 'whist': 907, 'dispersed': 908, 'bones': 909, 'privilegio': 910, 'otherwise': 911, 'apple': 912, 'stowd': 913, 'demand': 914, 'duke': 915, 'soon': 916, 'whom': 917, 'sink': 918, 'weighd': 919, 'meddle': 920, 'being': 921, 'poisonous': 922, 'filth': 923, 'dollar': 924, 'spoke': 925, 'haply': 926, 'milan': 927, 'tended': 928, 'haven': 929, 'thoughts': 930, 'such': 931, 'weeping': 932, 'omit': 933, 'offer': 934, 'roaring': 935, 'sleepdie': 936, 'deservedly': 937, 'merchant': 938, 'well': 939, 'keep': 940, 'lost': 941, 'alonso': 942, 'said': 943, 'ditty': 944, 'hests': 945, 'sometime': 946, 'bade': 947, 'sweetly': 948, 'earthy': 949, 'compare': 950, 'parallel': 951, 'perish': 952, 'pine': 953, 'wrings': 954, 'quickwitted': 955, 'masters': 956, 'pounds': 957, 'joind': 958, 'cheated': 959, 'affections': 960, 'certainly': 961, 'business': 962, 'inquisition': 963, 'watch': 964, 'what': 965, 'burthen': 966, 'revenue': 967, 'eyes': 968, 'sea': 969, 'worse': 970, 'vincentio': 971, 'tawny': 972, 'show': 973, 'pour': 974, 'makest': 975, 'laughter': 976, 'met': 977, 'sway': 978, 'gates': 979, 'affection': 980, 'drowning': 981, 'angry': 982, 'war': 983, 'thus': 984, 'rash': 985, 'sustaining': 986, 'cock': 987, 'miserable': 988, 'learn': 989, 'brushd': 990, 'headstrong': 991, 'blasphemous': 992, 'thunderstroke': 993, 'uneasy': 994, 'blessedly': 995, 'provokes': 996, 'sprites': 997, 'stuffs': 998, 'very': 999, 'wills': 1000, 'joyous': 1001, 'steaded': 1002, 'ourselves': 1003, 'afeard': 1004, 'breasts': 1005, 'eyne': 1006, 'sadness': 1007, 'curtains': 1008, 'death': 1009, 'named': 1010, 'imprisond': 1011, 'desperation': 1012, 'heir': 1013, 'dwelling': 1014, 'devils': 1015, 'is': 1016, 'charity': 1017, 'lay': 1018, 'falsehood': 1019, 'sullen': 1020, 'plaster': 1021, 'gun': 1022, 'thin': 1023, 'gods': 1024, 'bush': 1025, 'torment': 1026, 'busy': 1027, 'ere': 1028, 'schoolmaster': 1029, 'hailed': 1030, 'serves': 1031, 'penetrate': 1032, 'curst': 1033, 'malice': 1034, 'harsh': 1035, 'trash': 1036, 'hound': 1037, 'moonlight': 1038, 'me': 1039, 'heaved': 1040, 'dropping': 1041, 'thourt': 1042, 'upons': 1043, 'through': 1044, 'at': 1045, 'creatures': 1046, 'speech': 1047, 'weakness': 1048, 'favourable': 1049, 'you': 1050, 'far': 1051, 'notes': 1052, 'wish': 1053, 'qualities': 1054, 'fraughting': 1055, 'hard': 1056, 'raging': 1057, 'assure': 1058, 'waveworn': 1059, 'beak': 1060, 'set': 1061, 'weeks': 1062, 'setebos': 1063, 'deep': 1064, 'perfect': 1065, 'fen': 1066, 'fall': 1067, 'dowry': 1068, 'plunged': 1069, 'scornful': 1070, 'dinner': 1071, 'earth': 1072, 'droppd': 1073, 'meet': 1074, 'shines': 1075, 'bend': 1076, 'grudge': 1077, 'busied': 1078, 'army': 1079, 'moved': 1080, 'warning': 1081, 'wouldt': 1082, 'yes': 1083, 'nettleseed': 1084, 'shape': 1085, 'confederates': 1086, 'known': 1087, 'free': 1088, 'in': 1089, 'boatswain': 1090, 'bandy': 1091, 'distinctly': 1092, 'capable': 1093, 'direful': 1094, 'storms': 1095, 'afternoon': 1096, 'either': 1097, 'happily': 1098, 'tutors': 1099, 'speaks': 1100, 'prosper': 1101, 'princely': 1102, 'miracles': 1103, 'inform': 1104, 'are': 1105, 'baptista': 1106, 'tread': 1107, 'happier': 1108, 'abhorrd': 1109, 'washing': 1110, 'since': 1111, 'discharge': 1112, 'muscles': 1113, 'men': 1114, 'let': 1115, 'kindness': 1116, 'rarities': 1117, 'attentive': 1118, 'sty': 1119, 'welkins': 1120, 'speakst': 1121, 'awful': 1122, 'will': 1123, 'winkst': 1124, 'garments': 1125, 'hurried': 1126, 'moon': 1127, 'hand': 1128, 'fortitude': 1129, 'furze': 1130, 'laugh': 1131, 'shouldst': 1132, 'obedience': 1133, 'wound': 1134, 'homage': 1135, 'honeycomb': 1136, 'manacle': 1137, 'queen': 1138, 'depth': 1139, 'late': 1140, 'hie': 1141, 'tackle': 1142, 'worshipful': 1143, 'solum': 1144, 'slender': 1145, 'full': 1146, 'so': 1147, 'thunderclaps': 1148, 'frighted': 1149, 'knavery': 1150, 'controversy': 1151, 'hose': 1152, 'nothing': 1153, 'wiselier': 1154, 'straight': 1155, 'sovereign': 1156, 'tempest': 1157, 'topsail': 1158, 'your': 1159, 'annual': 1160, 'exactly': 1161, 'worldly': 1162, 'mouths': 1163, 'counsellor': 1164, 'boot': 1165, 'question': 1166, 'diligence': 1167, 'ways': 1168, 'strays': 1169, 'grief': 1170, 'graced': 1171, 'word': 1172, 'dashes': 1173, 'conferring': 1174, 'mark': 1175, 'expound': 1176, 'butt': 1177, 'each': 1178, 'enough': 1179, 'hast': 1180, 'wrought': 1181, 'things': 1182, 'home': 1183, 'incharitable': 1184, 'sands': 1185, 'means': 1186, 'stick': 1187, 'gently': 1188, 'or': 1189, 'beseem': 1190, 'lend': 1191, 'must': 1192, 'measures': 1193, 'drown': 1194, 'big': 1195, 'prescience': 1196, 'goodness': 1197, 'overblown': 1198, 'people': 1199, 'produce': 1200, 'forgot': 1201, 'sleepy': 1202, 'closeness': 1203, 'beloved': 1204, 'weather': 1205, 'perceive': 1206, 'brance': 1207, 'find': 1208, 'terrible': 1209, 'harm': 1210, 'methat': 1211, 'besides': 1212, 'burn': 1213, 'fringed': 1214, 'peevish': 1215, 'after': 1216, 'heard': 1217, 'awaked': 1218, 'grand': 1219, 'himself': 1220, 'trial': 1221, 'sitting': 1222, 'momentary': 1223, 'nor': 1224, 'entertainer': 1225, 'bleeds': 1226, 'sightoutrunning': 1227, 'bedfellow': 1228, 'vineyard': 1229, 'whoreson': 1230, 'spectacle': 1231, 'shore': 1232, 'coming': 1233, 'warm': 1234, 'days': 1235, 'bear': 1236, 'image': 1237, 'under': 1238, 'true': 1239, 'slippd': 1240, 'tamed': 1241, 'master': 1242, 'sir': 1243, 'hap': 1244, 'grieved': 1245, 'pity': 1246, 'officer': 1247, 'still': 1248, 'liberty': 1249, 'arts': 1250, 'hope': 1251, 'sure': 1252, 'commands': 1253, 'cry': 1254, 'mind': 1255, 'taught': 1256, 'louder': 1257, 'stoppd': 1258, 'soul': 1259, 'hagseed': 1260, 'troops': 1261, 'carries': 1262, 'wink': 1263, 'piteous': 1264, 'canst': 1265, 'gentle': 1266, 'nose': 1267, 'further': 1268, 'children': 1269, 'bite': 1270, 'goddess': 1271, 'few': 1272, 'hatches': 1273, 'bloody': 1274, 'payment': 1275, 'lad': 1276, 'merry': 1277, 'executing': 1278, 'gold': 1279, 'changed': 1280, 'fate': 1281, 'circumstances': 1282, 'antonio': 1283, 'twere': 1284, 'rift': 1285, 'agreement': 1286, 'soundly': 1287, 'bias': 1288, 'behind': 1289, 'three': 1290, 'sovereignty': 1291, 'amazement': 1292, 'discretion': 1293, 'neapolitan': 1294, 'best': 1295, 'most': 1296, 'mended': 1297, 'join': 1298, 'labour': 1299, 'currish': 1300, 'something': 1301, 'substitution': 1302, 'which': 1303, 'library': 1304, 'bride': 1305, 'patient': 1306, 'bore': 1307, 'till': 1308, 'cursed': 1309, 'mistake': 1310, 'cur': 1311, 'wife': 1312, 'fears': 1313, 'garment': 1314, 'tutor': 1315, 'thine': 1316, 'compassion': 1317, 'furnishd': 1318, 'space': 1319, 'expect': 1320, 'royalties': 1321, 'honours': 1322, 'sin': 1323, 'nook': 1324, 'thanks': 1325, 'reason': 1326, 'mans': 1327, 'perfection': 1328, 'church': 1329, 'arise': 1330, 'university': 1331, 'feed': 1332, 'window': 1333, 'naples': 1334, 'door': 1335, 'swinge': 1336, 'wreck': 1337, 'that': 1338, 'left': 1339, 'forthwith': 1340, 'seawater': 1341, 'new': 1342, 'seemeth': 1343, 'kings': 1344, 'tilth': 1345, 'eithers': 1346, 'brutish': 1347, 'knell': 1348, 'while': 1349, 'add': 1350, 'droop': 1351, 'fly': 1352, 'mischance': 1353, 'journey': 1354, 'pockets': 1355, 'father': 1356, 'admit': 1357, 'dearst': 1358, 'letters': 1359, 'cerns': 1360, 'hark': 1361, 'rotten': 1362, 'treacherous': 1363, 'lovely': 1364, 'outward': 1365, 'southwest': 1366, 'murdered': 1367, 'nutshell': 1368, 'design': 1369, 'self': 1370, 'sent': 1371, 'maincourse': 1372, 'gonzalo': 1373, 'metal': 1374, 'more': 1375, 'auspicious': 1376, 'twenty': 1377, 'has': 1378, 'jest': 1379, 'places': 1380, 'mercy': 1381, 'execute': 1382, 'reputed': 1383, 'between': 1384, 'dotard': 1385, 'spendthrift': 1386, 'bid': 1387, 'promised': 1388, 'cooling': 1389, 'promise': 1390, 'weep': 1391, 'whilst': 1392, 'fast': 1393, 'never': 1394, 'envy': 1395, 'cap': 1396, 'freshness': 1397, 'owest': 1398, 'name': 1399, 'miranda': 1400, 'least': 1401, 'scapes': 1402, 'reverend': 1403, 'cheerly': 1404, 'foison': 1405, 'accident': 1406, 'gentlemen': 1407, 'better': 1408, 'theres': 1409, 'caliban': 1410, 'thousand': 1411, 'fooling': 1412, 'who': 1413, 'dry': 1414, 'health': 1415, 'fathom': 1416, 'tonight': 1417, 'inaccessible': 1418, 'pieces': 1419, 'seanymphs': 1420, 'painfully': 1421, 'ground': 1422, 'minister': 1423, 'able': 1424, 'overtopping': 1425, 'vouchsafe': 1426, 'knocks': 1427, 'confounds': 1428, 'piece': 1429, 'match': 1430, 'reportst': 1431, 'weakly': 1432, 'entreated': 1433, 'pearls': 1434, 'fearful': 1435, 'frost': 1436, 'vail': 1437, 'ones': 1438, 'possesses': 1439, 'fill': 1440, 'herself': 1441, 'conceive': 1442, 'sighd': 1443, 'standing': 1444, 'teach': 1445, 'meant': 1446, 'cheer': 1447, 'hearkens': 1448, 'notorious': 1449, 'mightst': 1450, 'themdingdong': 1451, 'canker': 1452, 'fish': 1453, 'strive': 1454, 'want': 1455, 'traitor': 1456, 'our': 1457, 'cum': 1458, 'repose': 1459, 'rushcandle': 1460, 'time': 1461, 'commonwealth': 1462, 'put': 1463, 'am': 1464, 'frivolous': 1465, 'damned': 1466, 'other': 1467, 'grew': 1468, 'stomach': 1469, 'eer': 1470, 'key': 1471, 'performd': 1472, 'one': 1473, 'kate': 1474, 'prevented': 1475, 'up': 1476, 'sawst': 1477, 'widows': 1478, 'wished': 1479, 'forget': 1480, 'miss': 1481, 'of': 1482, 'wipe': 1483, 'drop': 1484, 'confidence': 1485, 'yourself': 1486, 'their': 1487, 'quiet': 1488, 'taen': 1489, 'coil': 1490, 'ever': 1491, 'chide': 1492, 'work': 1493, 'enemies': 1494, 'room': 1495, 'faults': 1496, 'growing': 1497, 'authority': 1498, 'hang': 1499, 'sort': 1500, 'try': 1501, 'little': 1502, 'worst': 1503, 'were': 1504, 'honourd': 1505, 'bianca': 1506, 'lies': 1507, 'acorn': 1508, 'life': 1509, 'sunk': 1510, 'hanged': 1511, 'banishd': 1512, 'vast': 1513, 'felt': 1514, 'mother': 1515, 'myself': 1516, 'quit': 1517, 'offices': 1518, 'provision': 1519, 'influence': 1520, 'mid': 1521, 'dignity': 1522, 'landed': 1523, 'them': 1524, 'liest': 1525, 'confine': 1526, 'contending': 1527, 'bestir': 1528, 'welcome': 1529, 'gaol': 1530, 'kissd': 1531, 'charms': 1532, 'tremble': 1533, 'servant': 1534, 'nimble': 1535, 'trident': 1536, 'fellows': 1537, 'misst': 1538, 'freshbrook': 1539, 'mediterranean': 1540, 'mine': 1541, 'waits': 1542, 'yet': 1543, 'harbour': 1544, 'deceive': 1545, 'back': 1546, 'theyre': 1547, 'kernels': 1548, 'why': 1549, 'privately': 1550, 'then': 1551, 'knock': 1552, 'abode': 1553, 'cram': 1554, 'pisa': 1555, 'shall': 1556, 'cell': 1557, 'levied': 1558, 'dulness': 1559, 'control': 1560, 'forgets': 1561, 'farewell': 1562, 'heaven': 1563, 'hold': 1564, 'follow': 1565, 'pittance': 1566, 'now': 1567, 'lunatic': 1568, 'wind': 1569, 'flatlong': 1570, 'next': 1571, 'no': 1572, 'spend': 1573, 'yours': 1574, 'gentleman': 1575, 'sun': 1576, 'reeds': 1577, 'but': 1578, 'friends': 1579, 'cheek': 1580, 'cozen': 1581, 'drops': 1582, 'seasorrow': 1583, 'howld': 1584, 'trunk': 1585, 'infect': 1586, 'seems': 1587, 'neglectst': 1588, 'complexion': 1589, 'abide': 1590, 'own': 1591, 'laughed': 1592, 'brings': 1593, 'attendst': 1594, 'almost': 1595, 'hail': 1596, 'travellest': 1597, 'pluck': 1598, 'sounds': 1599, 'horses': 1600, 'bawling': 1601, 'contraries': 1602, 'acre': 1603, 'warrant': 1604, 'soft': 1605, 'light': 1606, 'he': 1607, 'thy': 1608, 'graceless': 1609, 'having': 1610, 'heardst': 1611, 'saint': 1612, 'misses': 1613, 'wine': 1614, 'breath': 1615, 'bowsprit': 1616, 'plague': 1617, 'touch': 1618, 'pitch': 1619, 'out': 1620, 'removed': 1621, 'hence': 1622, 'petruchio': 1623, 'surges': 1624, 'pleasure': 1625, 'manage': 1626, 'lower': 1627, 'told': 1628, 'nay': 1629, 'hush': 1630, 'upstaringthen': 1631, 'speak': 1632, 'end': 1633, 'stained': 1634, 'ears': 1635, 'demanded': 1636, 'sore': 1637, 'relieve': 1638, 'unmitigable': 1639, 'race': 1640, 'aside': 1641, 'open': 1642, 'retired': 1643, 'mightno': 1644, 'seen': 1645, 'conceives': 1646, 'knaves': 1647, 'third': 1648, 'batfowling': 1649, 'scrivener': 1650, 'gallows': 1651, 'sighs': 1652, 'yond': 1653, 'oil': 1654, 'sons': 1655, 'attend': 1656, 'its': 1657, 'grumblings': 1658, 'doth': 1659, 'cheeks': 1660, 'loathness': 1661, 'colours': 1662, 'fouler': 1663, 'on': 1664, 'field': 1665, 'those': 1666, 'as': 1667, 'drenched': 1668, 'state': 1669, 'ariel': 1670, 'fortune': 1671, 'day': 1672, 'peopled': 1673, 'contentious': 1674, 'close': 1675, 'weigh': 1676, 'hereof': 1677, 'two': 1678, 'unapt': 1679, 'part': 1680, 'interrupted': 1681, 'cambio': 1682, 'perdition': 1683, 'honour': 1684, 'report': 1685, 'whiles': 1686, 'just': 1687, 'gird': 1688, 'collected': 1689, 'here': 1690, 'wherefore': 1691, 'down': 1692, 'from': 1693, 'bowd': 1694, 'bowl': 1695, 'loved': 1696, 'faced': 1697, 'wisely': 1698, 'budding': 1699, 'joyful': 1700, 'fallen': 1701, 'strangers': 1702, 'waist': 1703, 'stay': 1704, 'needs': 1705, 'villain': 1706, 'respecting': 1707, 'corners': 1708, 'wheres': 1709, 'visit': 1710, 'entitle': 1711, 'esteem': 1712, 'night': 1713, 'merriment': 1714, 'tricks': 1715, 'bate': 1716, 'natural': 1717, 'dart': 1718, 'honest': 1719, 'beetles': 1720, 'knowing': 1721, 'false': 1722, 'when': 1723, 'knew': 1724, 'thou': 1725, 'tarry': 1726, 'pardon': 1727, 'hid': 1728, 'lodged': 1729, 'sorceries': 1730, 'ordered': 1731, 'large': 1732, 'trouble': 1733, 'theirs': 1734, 'supremacy': 1735, 'spare': 1736, 'sakes': 1737, 'senses': 1738, 'glances': 1739, 'comforter': 1740, 'lorded': 1741, 'aeneas': 1742, 'miraculous': 1743, 'seeming': 1744, 'simile': 1745, 'ebb': 1746, 'deck': 1747, 'minute': 1748, 'deckd': 1749, 'vow': 1750, 'brave': 1751, 'think': 1752, 'nerves': 1753, 'shut': 1754, 'won': 1755, 'calld': 1756, 'drunkards': 1757, 'hint': 1758, 'lead': 1759, 'seachange': 1760, 'heres': 1761, 'sign': 1762, 'ring': 1763, 'malignant': 1764, 'excel': 1765, 'stooping': 1766, 'brother': 1767, 'durst': 1768, 'oard': 1769, 'suckd': 1770, 'island': 1771, 'cake': 1772, 'can': 1773, 'twelve': 1774, 'bound': 1775, 'made': 1776, 'bleared': 1777, 'hate': 1778, 'glut': 1779, 'comes': 1780, 'secret': 1781, 'parent': 1782, 'mothers': 1783, 'for': 1784, 'fished': 1785, 'elements': 1786, 'taken': 1787, 'straws': 1788, 'sidestitches': 1789, 'owe': 1790, 'turnd': 1791, 'hearts': 1792, 'thence': 1793, 'damnd': 1794, 'verdure': 1795, 'whereon': 1796, 'within': 1797, 'speaking': 1798, 'offended': 1799, 'cabin': 1800, 'hundred': 1801, 'stuff': 1802, 'away': 1803, 'grave': 1804, 'tongue': 1805, 'child': 1806, 'freckled': 1807, 'painted': 1808, 'dull': 1809, 'my': 1810, 'duty': 1811, 'savage': 1812, 'deceiving': 1813, 'abundance': 1814, 'rack': 1815, 'carry': 1816, 'sister': 1817, 'dost': 1818, 'innocent': 1819, 'worthy': 1820, 'veins': 1821, 'cramps': 1822, 'ten': 1823, 'sailmaker': 1824, 'help': 1825, 'wisdom': 1826, 'not': 1827, 'rebel': 1828, 'whirlwinds': 1829, 'purposed': 1830, 'kiss': 1831, 'feet': 1832, 'tunis': 1833, 'allot': 1834, 'amazed': 1835, 'yea': 1836, 'wild': 1837, 'urchins': 1838, 'parsley': 1839, 'sees': 1840, 'flote': 1841, 'forgetst': 1842, 'again': 1843, 'less': 1844, 'coronet': 1845, 'goodlier': 1846, 'houses': 1847, 'company': 1848, 'lucentio': 1849, 'destiny': 1850, 'delivered': 1851, 'star': 1852, 'plantation': 1853, 'wet': 1854, 'encounter': 1855, 'do': 1856, 'fear': 1857, 'hear': 1858, 'exercise': 1859, 'pure': 1860, 'chirurgeonly': 1861, 'foaming': 1862, 'unknit': 1863, 'city': 1864, 'sharp': 1865, 'shapes': 1866, 'lets': 1867, 'touchd': 1868, 'dream': 1869, 'vessel': 1870, 'allaying': 1871, 'cabins': 1872, 'heath': 1873, 'millwheels': 1874, 'liberal': 1875, 'paid': 1876, 'truly': 1877, 'miracle': 1878, 'blessd': 1879, 'god': 1880, 'mischiefs': 1881, 'katharina': 1882, 'too': 1883, 'sky': 1884, 'divide': 1885, 'missd': 1886, 'howling': 1887, 'swaywi': 1888, 'went': 1889, 'thing': 1890, 'thought': 1891, 'person': 1892, 'poverty': 1893, 'perfidioushe': 1894, 'brinepits': 1895, 'fort': 1896, 'dead': 1897, 'dwell': 1898, 'beat': 1899, 'pray': 1900, 'purposes': 1901, 'sober': 1902, 'ease': 1903, 'didos': 1904, 'lusty': 1905, 'concluding': 1906, 'sayest': 1907, 'badest': 1908, 'run': 1909, 'gate': 1910, 'pains': 1911, 'yare': 1912, 'souls': 1913, 'seek': 1914, 'meaning': 1915, 'moving': 1916, 'europe': 1917, 'ward': 1918, 'round': 1919, 'supper': 1920, 'forbid': 1921, 'nought': 1922, 'parts': 1923, 'safety': 1924, 'enmity': 1925, 'undone': 1926, 'hat': 1927, 'only': 1928, 'deer': 1929, 'if': 1930, 'glosses': 1931, 'sleeps': 1932, 'perishd': 1933, 'pleased': 1934, 'pedant': 1935, 'suit': 1936, 'potent': 1937, 'wouldst': 1938, 'yellow': 1939, 'continue': 1940, 'water': 1941, 'ist': 1942, 'jarring': 1943, 'unwonted': 1944, 'though': 1945, 'created': 1946, 'rascalwould': 1947, 'prithee': 1948, 'fade': 1949, 'sour': 1950, 'ensue': 1951, 'knowst': 1952, 'ay': 1953, 'stomachs': 1954, 'maiden': 1955, 'withal': 1956, 'kind': 1957, 'fleet': 1958, 'heart': 1959, 'begun': 1960, 'staind': 1961, 'pike': 1962, 'issued': 1963, 'wolves': 1964, 'servants': 1965, 'bettering': 1966, 'whose': 1967, 'propose': 1968, 'confess': 1969, 'looking': 1970, 'have': 1971, 'bitter': 1972, 'rather': 1973, 'devil': 1974, 'case': 1975, 'pitchers': 1976, 'fool': 1977, 'heavenly': 1978, 'illseeming': 1979, 'francisco': 1980, 'claribel': 1981, 'winner': 1982, 'dedicated': 1983, 'entreat': 1984, 'woman': 1985, 'cloven': 1986, 'neck': 1987, 'patience': 1988, 'foul': 1989, 'endured': 1990, 'crying': 1991, 'wore': 1992, 'sensible': 1993, 'got': 1994, 'witch': 1995, 'hourly': 1996, 'thee': 1997, 'forward': 1998, 'says': 1999, 'desert': 2000, 'presently': 2001, 'delicate': 2002, 'rest': 2003, 'rend': 2004, 'catches': 2005, 'move': 2006, 'by': 2007, 'yields': 2008, 'aches': 2009, 'argier': 2010, 'conscience': 2011, 'red': 2012, 'hortensio': 2013, 'spouse': 2014, 'place': 2015, 'constant': 2016, 'gallant': 2017, 'governor': 2018, 'scarlet': 2019, 'bats': 2020, 'fertile': 2021, 'rich': 2022, 'prospero': 2023, 'surely': 2024, 'dolour': 2025, 'wives': 2026, 'hour': 2027, 'parlor': 2028, 'heavy': 2029, 'ho': 2030, 'shrugst': 2031, 'ont': 2032, 'murder': 2033, 'holp': 2034, 'lives': 2035, 'son': 2036, 'consent': 2037, 'millions': 2038, 'brine': 2039, 'peg': 2040, 'prayers': 2041, 'falsely': 2042, 'sowing': 2043, 'aimd': 2044, 'conditions': 2045, 'ear': 2046, 'it': 2047, 'dams': 2048, 'grumio': 2049, 'crow': 2050, 'confined': 2051, 'go': 2052, 'believe': 2053, 'heedfully': 2054, 'air': 2055, 'guilt': 2056, 'rarest': 2057, 'trust': 2058, 'wealthy': 2059, 'leaky': 2060, 'absolute': 2061, 'send': 2062, 'how': 2063, 'rapt': 2064, 'drunk': 2065, 'bay': 2066, 'meal': 2067, 'mess': 2068, 'return': 2069, 'indeed': 2070, 'happened': 2071, 'wert': 2072, 'strokedst': 2073, 'disarm': 2074, 'allay': 2075, 'cable': 2076, 'visits': 2077, 'entertainment': 2078, 'highness': 2079, 'transported': 2080, 'blow': 2081, 'nows': 2082, 'brown': 2083, 'bed': 2084, 'warrants': 2085, 'loss': 2086, 'tides': 2087, 'flung': 2088, 'blemish': 2089, 'oerprized': 2090, 'pitied': 2091, 'draw': 2092, 'bell': 2093, 'sufficient': 2094, 'gentlewoman': 2095, 'faded': 2096, 'groand': 2097, 'need': 2098, 'wrong': 2099, 'food': 2100, 'sinner': 2101, 'lest': 2102, 'undo': 2103, 'fortunes': 2104, 'crowns': 2105, 'heigh': 2106, 'did': 2107, 'dreadful': 2108, 'neptune': 2109, 'basis': 2110, 'appointed': 2111, 'thank': 2112, 'brow': 2113, 'command': 2114, 'years': 2115, 'subtle': 2116, 'prisoners': 2117, 'seldom': 2118, 'burst': 2119, 'perfected': 2120, 'boat': 2121, 'meads': 2122, 'truer': 2123, 'ild': 2124, 'peace': 2125, 'lungs': 2126, 'youre': 2127, 'bereft': 2128, 'hands': 2129, 'many': 2130, 'into': 2131, 'this': 2132, 'borne': 2133, 'done': 2134, 'necessaries': 2135, 'lodging': 2136, 'wall': 2137, 'ashamed': 2138, 'creature': 2139, 'afraid': 2140, 'spoiled': 2141, 'sighing': 2142, 'pocket': 2143, 'endeavour': 2144, 'sake': 2145, 'courses': 2146, 'prize': 2147, 'mast': 2148, 'ooze': 2149, 'bootless': 2150, 'seem': 2151, 'forth': 2152, 'give': 2153, 'smooth': 2154, 'im': 2155, 'sycorax': 2156, 'ivy': 2157, 'debt': 2158, 'wonders': 2159, 'throw': 2160, 'ignoble': 2161, 'month': 2162, 'obedient': 2163, 'entrails': 2164, 'suppertime': 2165, 'tell': 2166, 'feel': 2167, 'pronounce': 2168, 'courtsied': 2169, 'everything': 2170, 'know': 2171, 'drawn': 2172, 'grandsire': 2173, 'born': 2174, 'firm': 2175, 'vassal': 2176, 'felony': 2177, 'beauty': 2178, 'and': 2179, 'dew': 2180, 'short': 2181, 'curse': 2182, 'swiftly': 2183, 'mallows': 2184}\n",
            "{0: '', 1: 'obey', 2: 'prepared', 3: 'strike', 4: 'appears', 5: 'airs', 6: 'both', 7: 'swear', 8: 'nymph', 9: 'escape', 10: 'fie', 11: 'vouched', 12: 'thick', 13: 'eat', 14: 'ministers', 15: 'afric', 16: 'dog', 17: 'much', 18: 'newbuilt', 19: 'world', 20: 'lived', 21: 'chance', 22: 'smile', 23: 'hoop', 24: 'nobly', 25: 'bodies', 26: 'birth', 27: 'safe', 28: 'deny', 29: 'dread', 30: 'harp', 31: 'majesty', 32: 'where', 33: 'noisemaker', 34: 'cherubim', 35: 'signior', 36: 'article', 37: 'impossible', 38: 'bigger', 39: 'newdyed', 40: 'yards', 41: 'profit', 42: 'him', 43: 'memory', 44: 'bold', 45: 'come', 46: 'young', 47: 'packing', 48: 'dozen', 49: 'fair', 50: 'gabble', 51: 'storm', 52: 'cockerel', 53: 'temple', 54: 'fury', 55: 'truth', 56: 'strong', 57: 'weak', 58: 'quick', 59: 'dive', 60: 'supposes', 61: 'eats', 62: 'married', 63: 'points', 64: 'spiriting', 65: 'advocate', 66: 'wicked', 67: 'beating', 68: 'prison', 69: 'whither', 70: 'tortoise', 71: 'any', 72: 'ambition', 73: 'womanly', 74: 'cease', 75: 'matter', 76: 'worms', 77: 'replied', 78: 'off', 79: 'once', 80: 'leave', 81: 'linens', 82: 'fuel', 83: 'wombs', 84: 'madman', 85: 'knotty', 86: 'playd', 87: 'lukes', 88: 'teen', 89: 'litter', 90: 'office', 91: 'revenged', 92: 'lands', 93: 'become', 94: 'sans', 95: 'angle', 96: 'us', 97: 'we', 98: 'limit', 99: 'witnesses', 100: 'winters', 101: 'above', 102: 'she', 103: 'was', 104: 'lords', 105: 'beside', 106: 'bark', 107: 'merely', 108: 'porridge', 109: 'int', 110: 'bergamo', 111: 'drink', 112: 'clerk', 113: 'refusing', 114: 'afire', 115: 'among', 116: 'gape', 117: 'chat', 118: 'toads', 119: 'stroke', 120: 'remember', 121: 'receives', 122: 'list', 123: 'braved', 124: 'violate', 125: 'bees', 126: 'daughters', 127: 'wondrous', 128: 'bring', 129: 'gone', 130: 'evil', 131: 'furlongs', 132: 'bears', 133: 'hit', 134: 'assist', 135: 'form', 136: 'padua', 137: 'dally', 138: 'cradled', 139: 'hag', 140: 'flamed', 141: 'calibans', 142: 'begin', 143: 'fetch', 144: 'waking', 145: 'instruction', 146: 'changes', 147: 'ad', 148: 'thinks', 149: 'suffer', 150: 'spirits', 151: 'blueeyed', 152: 'biondello', 153: 'the', 154: 'intolerable', 155: 'make', 156: 'should', 157: 'answer', 158: 'mocking', 159: 'ass', 160: 'wear', 161: 'man', 162: 'cloudy', 163: 'sweet', 164: 'marketplace', 165: 'dashd', 166: 'deign', 167: 'oer', 168: 'precursors', 169: 'good', 170: 'empty', 171: 'travellers', 172: 'twain', 173: 'venture', 174: 'perils', 175: 'news', 176: 'these', 177: 'event', 178: 'blessed', 179: 'beginning', 180: 'em', 181: 'mortal', 182: 'tranio', 183: 'banquet', 184: 'they', 185: 'roard', 186: 'lances', 187: 'therefore', 188: 'house', 189: 'pen', 190: 'entertaind', 191: 'feast', 192: 'even', 193: 'lucentios', 194: 'below', 195: 'sit', 196: 'villains', 197: 'last', 198: 'cause', 199: 'themselves', 200: 'exact', 201: 'assurance', 202: 'wast', 203: 'uninhabitable', 204: 'visitor', 205: 'kept', 206: 'bad', 207: 'dear', 208: 'rats', 209: 'vainer', 210: 'mistress', 211: 'mistakings', 212: 'endowd', 213: 'grass', 214: 'fellow', 215: 'sebastian', 216: 'every', 217: 'hearest', 218: 'sirrah', 219: 'unable', 220: 'asleep', 221: 'purpose', 222: 'unluckily', 223: 'conycatched', 224: 'times', 225: 'pursue', 226: 'counterfeit', 227: 'four', 228: 'content', 229: 'methinks', 230: 'cracks', 231: 'studies', 232: 'angels', 233: 'riches', 234: 'lose', 235: 'strange', 236: 'shrew', 237: 'shift', 238: 'traffic', 239: 'king', 240: 'win', 241: 'imposter', 242: 'given', 243: 'untoward', 244: 'pale', 245: 'lightnings', 246: 'stripes', 247: 'natures', 248: 'priest', 249: 'served', 250: 'mariners', 251: 'tale', 252: 'brothers', 253: 'noble', 254: 'occasion', 255: 'hes', 256: 'pound', 257: 'rid', 258: 'long', 259: 'showd', 260: 'behold', 261: 'dukedom', 262: 'impertinent', 263: 'qualified', 264: 'sayst', 265: 'curld', 266: 'likelihood', 267: 'popular', 268: 'glance', 269: 'threatening', 270: 'spy', 271: 'boy', 272: 'letst', 273: 'confer', 274: 'telling', 275: 'extirpate', 276: 'preserve', 277: 'fated', 278: 'talking', 279: 'marks', 280: 'contented', 281: 'calldst', 282: 'eyeball', 283: 'doublet', 284: 'remain', 285: 'past', 286: 'ravens', 287: 'frosts', 288: 'possessd', 289: 'horn', 290: 'lack', 291: 'bids', 292: 'ignorant', 293: 'glasses', 294: 'magistrate', 295: 'saw', 296: 'beheld', 297: 'bountiful', 298: 'tender', 299: 'preciously', 300: 'tribute', 301: 'charge', 302: 'featly', 303: 'galld', 304: 'shes', 305: 'charm', 306: 'din', 307: 'hither', 308: 'amiable', 309: 'year', 310: 'dare', 311: 'roar', 312: 'latter', 313: 'softly', 314: 'fire', 315: 'language', 316: 'get', 317: 'losses', 318: 'knave', 319: 'rub', 320: 'choose', 321: 'prevent', 322: 'threats', 323: 'hell', 324: 'husbands', 325: 'riggd', 326: 'tune', 327: 'grown', 328: 'underfoot', 329: 'sowt', 330: 'some', 331: 'garden', 332: 'strength', 333: 'mong', 334: 'temperance', 335: 'stinking', 336: 'cried', 337: 'widower', 338: 'along', 339: 'dukes', 340: 'witness', 341: 'climate', 342: 'pearl', 343: 'always', 344: 'murmurst', 345: 'shot', 346: 'wager', 347: 'sweat', 348: 'anddo', 349: 'rememberst', 350: 'signs', 351: 'thirsty', 352: 'grandmother', 353: 'remembering', 354: 'twas', 355: 'sphere', 356: 'italy', 357: 'street', 358: 'might', 359: 'dark', 360: 'art', 361: 'subject', 362: 'instinctively', 363: 'sulphurous', 364: 'serve', 365: 'suits', 366: 'marrying', 367: 'talk', 368: 'frown', 369: 'mistaking', 370: 'alive', 371: 'play', 372: 'subjects', 373: 'print', 374: 'lady', 375: 'throat', 376: 'took', 377: 'rabbit', 378: 'study', 379: 'notwithstanding', 380: 'neer', 381: 'lord', 382: 'undergoing', 383: 'oak', 384: 'happy', 385: 'right', 386: 'daughter', 387: 'islands', 388: 'boarded', 389: 'bodes', 390: 'thither', 391: 'aught', 392: 'spirit', 393: 'coral', 394: 'vigour', 395: 'midst', 396: 'wench', 397: 'outright', 398: 'spoken', 399: 'sip', 400: 'commits', 401: 'mad', 402: 'bow', 403: 'darest', 404: 'enter', 405: 'virtue', 406: 'slit', 407: 'runs', 408: 'maid', 409: 'yielded', 410: 'velvet', 411: 'unkind', 412: 'isle', 413: 'would', 414: 'tend', 415: 'strangeness', 416: 'wander', 417: 'bank', 418: 'sped', 419: 'deceitful', 420: 'dowery', 421: 'heaviness', 422: 'sleep', 423: 'raising', 424: 'groans', 425: 'lying', 426: 'bless', 427: 'providence', 428: 'witht', 429: 'cold', 430: 'drowned', 431: 'scape', 432: 'task', 433: 'before', 434: 'words', 435: 'waves', 436: 'correspondent', 437: 'died', 438: 'syllable', 439: 'backs', 440: 'muddy', 441: 'ship', 442: 'appendix', 443: 'heed', 444: 'than', 445: 'advantage', 446: 'embrace', 447: 'fame', 448: 'insolent', 449: 'spent', 450: 'fine', 451: 'been', 452: 'request', 453: 'enemy', 454: 'sorrow', 455: 'ill', 456: 'abysm', 457: 'leagues', 458: 'immortal', 459: 'sense', 460: 'carthage', 461: 'painful', 462: 'brought', 463: 'else', 464: 'awake', 465: 'formd', 466: 'careful', 467: 'knot', 468: 'clouds', 469: 'abused', 470: 'imprimendum', 471: 'camest', 472: 'slept', 473: 'live', 474: 'story', 475: 'cost', 476: 'somebody', 477: 'head', 478: 'premises', 479: 'sad', 480: 'begins', 481: 'cares', 482: 'external', 483: 'besiege', 484: 'point', 485: 'easy', 486: 'came', 487: 'questions', 488: 'odd', 489: 'rage', 490: 'surety', 491: 'joy', 492: 'hagbornnot', 493: 'princesses', 494: 'destroy', 495: 'books', 496: 'whelp', 497: 'backward', 498: 'mighty', 499: 'countenance', 500: 'nature', 501: 'sound', 502: 'could', 503: 'habit', 504: 'rate', 505: 'moral', 506: 'looks', 507: 'winding', 508: 'town', 509: 'her', 510: 'all', 511: 'making', 512: 'girl', 513: 'another', 514: 'beget', 515: 'eye', 516: 'upon', 517: 'ashore', 518: 'first', 519: 'ends', 520: 'crept', 521: 'swoln', 522: 'say', 523: 'royalty', 524: 'advantageous', 525: 'rarity', 526: 'signories', 527: 'hadst', 528: 'sadly', 529: 'unto', 530: 'owes', 531: 'quality', 532: 'followd', 533: 'drowsiness', 534: 'exchange', 535: 'pox', 536: 'adventure', 537: 'grant', 538: 'parents', 539: 'mayst', 540: 'often', 541: 'aground', 542: 'arrived', 543: 'moody', 544: 'agree', 545: 'had', 546: 'beautys', 547: 'hours', 548: 'doubt', 549: 'north', 550: 'govern', 551: 'present', 552: 'holidame', 553: 'joves', 554: 'like', 555: 'goodly', 556: 'fountain', 557: 'human', 558: 'roundly', 559: 'moralize', 560: 'none', 561: 'token', 562: 'blots', 563: 'abhorred', 564: 'depend', 565: 'bermoothes', 566: 'froward', 567: 'breasted', 568: 'bidding', 569: 'infancy', 570: 'unwillingly', 571: 'henceforth', 572: 'raised', 573: 'divine', 574: 'selfsame', 575: 'nigh', 576: 'whence', 577: 'beyond', 578: 'hits', 579: 'faith', 580: 'sigh', 581: 'sailors', 582: 'service', 583: 'pinch', 584: 'thyself', 585: 'six', 586: 'veriest', 587: 'hastywitted', 588: 'stronger', 589: 'craves', 590: 'neglecting', 591: 'roarers', 592: 'dam', 593: 'hanging', 594: 'remembrance', 595: 'flame', 596: 'iswhich', 597: 'unstanched', 598: 'with', 599: 'resist', 600: 'swift', 601: 'deserved', 602: 'maintenance', 603: 'forthcoming', 604: 'infused', 605: 'fresher', 606: 'succession', 607: 'ride', 608: 'see', 609: 'madest', 610: 'greyhound', 611: 'woe', 612: 'guard', 613: 'hangd', 614: 'bove', 615: 'prince', 616: 'bout', 617: 'toil', 618: 'manifold', 619: 'share', 620: 'tis', 621: 'hair', 622: 'o', 623: 'african', 624: 'law', 625: 'marvel', 626: 'vent', 627: 'prime', 628: 'recount', 629: 'kneeld', 630: 'dough', 631: 'troubled', 632: 'does', 633: 'winds', 634: 'yarely', 635: 'be', 636: 'white', 637: 'cannot', 638: 'seest', 639: 'arrival', 640: 'salt', 641: 'quaint', 642: 'poor', 643: 'likes', 644: 'advance', 645: 'prayer', 646: 'secure', 647: 'lieu', 648: 'hunted', 649: 'ope', 650: 'breathes', 651: 'perfumed', 652: 'safely', 653: 'fairer', 654: 'drownd', 655: 'persuasion', 656: 'ancient', 657: 'takest', 658: 'wrinkled', 659: 'surge', 660: 'twixt', 661: 'virgin', 662: 'bourn', 663: 'laying', 664: 'without', 665: 'hawk', 666: 'land', 667: 'swallowd', 668: 'cast', 669: 'shake', 670: 'die', 671: 'widest', 672: 'bird', 673: 'learnedly', 674: 'lie', 675: 'hoist', 676: 'tokens', 677: 'held', 678: 'trod', 679: 'marriage', 680: 'to', 681: 'darkness', 682: 'against', 683: 'forswear', 684: 'great', 685: 'springs', 686: 'ungently', 687: 'simple', 688: 'witherd', 689: 'golden', 690: 'beam', 691: 'fell', 692: 'wood', 693: 'screen', 694: 'hearing', 695: 'fever', 696: 'weapon', 697: 'beseech', 698: 'changing', 699: 'invisible', 700: 'awakend', 701: 'bliss', 702: 'pass', 703: 'i', 704: 'farther', 705: 'halves', 706: 'thinkst', 707: 'body', 708: 'half', 709: 'buds', 710: 'suffered', 711: 'feather', 712: 'fain', 713: 'blister', 714: 'adrian', 715: 'rock', 716: 'crown', 717: 'apparition', 718: 'evermore', 719: 'corn', 720: 'cloak', 721: 'maimd', 722: 'inveterate', 723: 'his', 724: 'jealous', 725: 'care', 726: 'used', 727: 'tot', 728: 'look', 729: 'villany', 730: 'prerogative', 731: 'arms', 732: 'midnight', 733: 'comfort', 734: 'dearest', 735: 'vile', 736: 'use', 737: 'enforced', 738: 'roots', 739: 'stranger', 740: 'magic', 741: 'government', 742: 'foolish', 743: 'princess', 744: 'fathers', 745: 'hearkening', 746: 'importuned', 747: 'fresh', 748: 'swim', 749: 'husband', 750: 'green', 751: 'baked', 752: 'wherein', 753: 'unwholesome', 754: 'hortensios', 755: 'husks', 756: 'eyelids', 757: 'engine', 758: 'mar', 759: 'wide', 760: 'stars', 761: 'loving', 762: 'silken', 763: 'befal', 764: 'shalt', 765: 'please', 766: 'powers', 767: 'beasts', 768: 'biancas', 769: 'becomes', 770: 'ready', 771: 'asking', 772: 'berries', 773: 'mean', 774: 'winning', 775: 'widow', 776: 'deafness', 777: 'gremio', 778: 'alack', 779: 'court', 780: 'knife', 781: 'learning', 782: 'totally', 783: 'betid', 784: 'condition', 785: 'didst', 786: 'contract', 787: 'pinchd', 788: 'toward', 789: 'sail', 790: 'preservation', 791: 'seastorm', 792: 'ferdinand', 793: 'folks', 794: 'sends', 795: 'save', 796: 'face', 797: 'together', 798: 'dido', 799: 'approach', 800: 'waters', 801: 'copatain', 802: 'call', 803: 'imagination', 804: 'bet', 805: 'foot', 806: 'stillvexd', 807: 'love', 808: 'hath', 809: 'rogue', 810: 'whats', 811: 'a', 812: 'music', 813: 'spangle', 814: 'maintain', 815: 'ahold', 816: 'bright', 817: 'single', 818: 'wilt', 819: 'passion', 820: 'way', 821: 'there', 822: 'crossd', 823: 'age', 824: 'wreckd', 825: 'gentleness', 826: 'may', 827: 'kneel', 828: 'power', 829: 'usurp', 830: 'barren', 831: 'temporal', 832: 'slave', 833: 'incapable', 834: 'bauble', 835: 'sufferd', 836: 'ye', 837: 'about', 838: 'silly', 839: 'sight', 840: 'idle', 841: 'subdued', 842: 'wit', 843: 'humble', 844: 'contrary', 845: 'marry', 846: 'ado', 847: 'women', 848: 'topmast', 849: 'occupation', 850: 'keeper', 851: 'greater', 852: 'howl', 853: 'stinging', 854: 'inclined', 855: 'lift', 856: 'bedazzled', 857: 'uncle', 858: 'cure', 859: 'stand', 860: 'zenith', 861: 'carcass', 862: 'mounting', 863: 'five', 864: 'wonder', 865: 'docks', 866: 'supposing', 867: 'volumes', 868: 'heavens', 869: 'morrow', 870: 'monstrous', 871: 'andyonder', 872: 'silence', 873: 'sword', 874: 'adieu', 875: 'an', 876: 'pleasant', 877: 'ha', 878: 'act', 879: 'unbowdalas', 880: 'leapd', 881: 'break', 882: 'lush', 883: 'paragon', 884: 'overtake', 885: 'aboard', 886: 'thats', 887: 'theme', 888: 'offerd', 889: 'rule', 890: 'widechappd', 891: 'turns', 892: 'mountain', 893: 'oweth', 894: 'old', 895: 'disposed', 896: 'whistle', 897: 'take', 898: 'season', 899: 'giddy', 900: 'rope', 901: 'credit', 902: 'affords', 903: 'whores', 904: 'treason', 905: 'common', 906: 'shipping', 907: 'whist', 908: 'dispersed', 909: 'bones', 910: 'privilegio', 911: 'otherwise', 912: 'apple', 913: 'stowd', 914: 'demand', 915: 'duke', 916: 'soon', 917: 'whom', 918: 'sink', 919: 'weighd', 920: 'meddle', 921: 'being', 922: 'poisonous', 923: 'filth', 924: 'dollar', 925: 'spoke', 926: 'haply', 927: 'milan', 928: 'tended', 929: 'haven', 930: 'thoughts', 931: 'such', 932: 'weeping', 933: 'omit', 934: 'offer', 935: 'roaring', 936: 'sleepdie', 937: 'deservedly', 938: 'merchant', 939: 'well', 940: 'keep', 941: 'lost', 942: 'alonso', 943: 'said', 944: 'ditty', 945: 'hests', 946: 'sometime', 947: 'bade', 948: 'sweetly', 949: 'earthy', 950: 'compare', 951: 'parallel', 952: 'perish', 953: 'pine', 954: 'wrings', 955: 'quickwitted', 956: 'masters', 957: 'pounds', 958: 'joind', 959: 'cheated', 960: 'affections', 961: 'certainly', 962: 'business', 963: 'inquisition', 964: 'watch', 965: 'what', 966: 'burthen', 967: 'revenue', 968: 'eyes', 969: 'sea', 970: 'worse', 971: 'vincentio', 972: 'tawny', 973: 'show', 974: 'pour', 975: 'makest', 976: 'laughter', 977: 'met', 978: 'sway', 979: 'gates', 980: 'affection', 981: 'drowning', 982: 'angry', 983: 'war', 984: 'thus', 985: 'rash', 986: 'sustaining', 987: 'cock', 988: 'miserable', 989: 'learn', 990: 'brushd', 991: 'headstrong', 992: 'blasphemous', 993: 'thunderstroke', 994: 'uneasy', 995: 'blessedly', 996: 'provokes', 997: 'sprites', 998: 'stuffs', 999: 'very', 1000: 'wills', 1001: 'joyous', 1002: 'steaded', 1003: 'ourselves', 1004: 'afeard', 1005: 'breasts', 1006: 'eyne', 1007: 'sadness', 1008: 'curtains', 1009: 'death', 1010: 'named', 1011: 'imprisond', 1012: 'desperation', 1013: 'heir', 1014: 'dwelling', 1015: 'devils', 1016: 'is', 1017: 'charity', 1018: 'lay', 1019: 'falsehood', 1020: 'sullen', 1021: 'plaster', 1022: 'gun', 1023: 'thin', 1024: 'gods', 1025: 'bush', 1026: 'torment', 1027: 'busy', 1028: 'ere', 1029: 'schoolmaster', 1030: 'hailed', 1031: 'serves', 1032: 'penetrate', 1033: 'curst', 1034: 'malice', 1035: 'harsh', 1036: 'trash', 1037: 'hound', 1038: 'moonlight', 1039: 'me', 1040: 'heaved', 1041: 'dropping', 1042: 'thourt', 1043: 'upons', 1044: 'through', 1045: 'at', 1046: 'creatures', 1047: 'speech', 1048: 'weakness', 1049: 'favourable', 1050: 'you', 1051: 'far', 1052: 'notes', 1053: 'wish', 1054: 'qualities', 1055: 'fraughting', 1056: 'hard', 1057: 'raging', 1058: 'assure', 1059: 'waveworn', 1060: 'beak', 1061: 'set', 1062: 'weeks', 1063: 'setebos', 1064: 'deep', 1065: 'perfect', 1066: 'fen', 1067: 'fall', 1068: 'dowry', 1069: 'plunged', 1070: 'scornful', 1071: 'dinner', 1072: 'earth', 1073: 'droppd', 1074: 'meet', 1075: 'shines', 1076: 'bend', 1077: 'grudge', 1078: 'busied', 1079: 'army', 1080: 'moved', 1081: 'warning', 1082: 'wouldt', 1083: 'yes', 1084: 'nettleseed', 1085: 'shape', 1086: 'confederates', 1087: 'known', 1088: 'free', 1089: 'in', 1090: 'boatswain', 1091: 'bandy', 1092: 'distinctly', 1093: 'capable', 1094: 'direful', 1095: 'storms', 1096: 'afternoon', 1097: 'either', 1098: 'happily', 1099: 'tutors', 1100: 'speaks', 1101: 'prosper', 1102: 'princely', 1103: 'miracles', 1104: 'inform', 1105: 'are', 1106: 'baptista', 1107: 'tread', 1108: 'happier', 1109: 'abhorrd', 1110: 'washing', 1111: 'since', 1112: 'discharge', 1113: 'muscles', 1114: 'men', 1115: 'let', 1116: 'kindness', 1117: 'rarities', 1118: 'attentive', 1119: 'sty', 1120: 'welkins', 1121: 'speakst', 1122: 'awful', 1123: 'will', 1124: 'winkst', 1125: 'garments', 1126: 'hurried', 1127: 'moon', 1128: 'hand', 1129: 'fortitude', 1130: 'furze', 1131: 'laugh', 1132: 'shouldst', 1133: 'obedience', 1134: 'wound', 1135: 'homage', 1136: 'honeycomb', 1137: 'manacle', 1138: 'queen', 1139: 'depth', 1140: 'late', 1141: 'hie', 1142: 'tackle', 1143: 'worshipful', 1144: 'solum', 1145: 'slender', 1146: 'full', 1147: 'so', 1148: 'thunderclaps', 1149: 'frighted', 1150: 'knavery', 1151: 'controversy', 1152: 'hose', 1153: 'nothing', 1154: 'wiselier', 1155: 'straight', 1156: 'sovereign', 1157: 'tempest', 1158: 'topsail', 1159: 'your', 1160: 'annual', 1161: 'exactly', 1162: 'worldly', 1163: 'mouths', 1164: 'counsellor', 1165: 'boot', 1166: 'question', 1167: 'diligence', 1168: 'ways', 1169: 'strays', 1170: 'grief', 1171: 'graced', 1172: 'word', 1173: 'dashes', 1174: 'conferring', 1175: 'mark', 1176: 'expound', 1177: 'butt', 1178: 'each', 1179: 'enough', 1180: 'hast', 1181: 'wrought', 1182: 'things', 1183: 'home', 1184: 'incharitable', 1185: 'sands', 1186: 'means', 1187: 'stick', 1188: 'gently', 1189: 'or', 1190: 'beseem', 1191: 'lend', 1192: 'must', 1193: 'measures', 1194: 'drown', 1195: 'big', 1196: 'prescience', 1197: 'goodness', 1198: 'overblown', 1199: 'people', 1200: 'produce', 1201: 'forgot', 1202: 'sleepy', 1203: 'closeness', 1204: 'beloved', 1205: 'weather', 1206: 'perceive', 1207: 'brance', 1208: 'find', 1209: 'terrible', 1210: 'harm', 1211: 'methat', 1212: 'besides', 1213: 'burn', 1214: 'fringed', 1215: 'peevish', 1216: 'after', 1217: 'heard', 1218: 'awaked', 1219: 'grand', 1220: 'himself', 1221: 'trial', 1222: 'sitting', 1223: 'momentary', 1224: 'nor', 1225: 'entertainer', 1226: 'bleeds', 1227: 'sightoutrunning', 1228: 'bedfellow', 1229: 'vineyard', 1230: 'whoreson', 1231: 'spectacle', 1232: 'shore', 1233: 'coming', 1234: 'warm', 1235: 'days', 1236: 'bear', 1237: 'image', 1238: 'under', 1239: 'true', 1240: 'slippd', 1241: 'tamed', 1242: 'master', 1243: 'sir', 1244: 'hap', 1245: 'grieved', 1246: 'pity', 1247: 'officer', 1248: 'still', 1249: 'liberty', 1250: 'arts', 1251: 'hope', 1252: 'sure', 1253: 'commands', 1254: 'cry', 1255: 'mind', 1256: 'taught', 1257: 'louder', 1258: 'stoppd', 1259: 'soul', 1260: 'hagseed', 1261: 'troops', 1262: 'carries', 1263: 'wink', 1264: 'piteous', 1265: 'canst', 1266: 'gentle', 1267: 'nose', 1268: 'further', 1269: 'children', 1270: 'bite', 1271: 'goddess', 1272: 'few', 1273: 'hatches', 1274: 'bloody', 1275: 'payment', 1276: 'lad', 1277: 'merry', 1278: 'executing', 1279: 'gold', 1280: 'changed', 1281: 'fate', 1282: 'circumstances', 1283: 'antonio', 1284: 'twere', 1285: 'rift', 1286: 'agreement', 1287: 'soundly', 1288: 'bias', 1289: 'behind', 1290: 'three', 1291: 'sovereignty', 1292: 'amazement', 1293: 'discretion', 1294: 'neapolitan', 1295: 'best', 1296: 'most', 1297: 'mended', 1298: 'join', 1299: 'labour', 1300: 'currish', 1301: 'something', 1302: 'substitution', 1303: 'which', 1304: 'library', 1305: 'bride', 1306: 'patient', 1307: 'bore', 1308: 'till', 1309: 'cursed', 1310: 'mistake', 1311: 'cur', 1312: 'wife', 1313: 'fears', 1314: 'garment', 1315: 'tutor', 1316: 'thine', 1317: 'compassion', 1318: 'furnishd', 1319: 'space', 1320: 'expect', 1321: 'royalties', 1322: 'honours', 1323: 'sin', 1324: 'nook', 1325: 'thanks', 1326: 'reason', 1327: 'mans', 1328: 'perfection', 1329: 'church', 1330: 'arise', 1331: 'university', 1332: 'feed', 1333: 'window', 1334: 'naples', 1335: 'door', 1336: 'swinge', 1337: 'wreck', 1338: 'that', 1339: 'left', 1340: 'forthwith', 1341: 'seawater', 1342: 'new', 1343: 'seemeth', 1344: 'kings', 1345: 'tilth', 1346: 'eithers', 1347: 'brutish', 1348: 'knell', 1349: 'while', 1350: 'add', 1351: 'droop', 1352: 'fly', 1353: 'mischance', 1354: 'journey', 1355: 'pockets', 1356: 'father', 1357: 'admit', 1358: 'dearst', 1359: 'letters', 1360: 'cerns', 1361: 'hark', 1362: 'rotten', 1363: 'treacherous', 1364: 'lovely', 1365: 'outward', 1366: 'southwest', 1367: 'murdered', 1368: 'nutshell', 1369: 'design', 1370: 'self', 1371: 'sent', 1372: 'maincourse', 1373: 'gonzalo', 1374: 'metal', 1375: 'more', 1376: 'auspicious', 1377: 'twenty', 1378: 'has', 1379: 'jest', 1380: 'places', 1381: 'mercy', 1382: 'execute', 1383: 'reputed', 1384: 'between', 1385: 'dotard', 1386: 'spendthrift', 1387: 'bid', 1388: 'promised', 1389: 'cooling', 1390: 'promise', 1391: 'weep', 1392: 'whilst', 1393: 'fast', 1394: 'never', 1395: 'envy', 1396: 'cap', 1397: 'freshness', 1398: 'owest', 1399: 'name', 1400: 'miranda', 1401: 'least', 1402: 'scapes', 1403: 'reverend', 1404: 'cheerly', 1405: 'foison', 1406: 'accident', 1407: 'gentlemen', 1408: 'better', 1409: 'theres', 1410: 'caliban', 1411: 'thousand', 1412: 'fooling', 1413: 'who', 1414: 'dry', 1415: 'health', 1416: 'fathom', 1417: 'tonight', 1418: 'inaccessible', 1419: 'pieces', 1420: 'seanymphs', 1421: 'painfully', 1422: 'ground', 1423: 'minister', 1424: 'able', 1425: 'overtopping', 1426: 'vouchsafe', 1427: 'knocks', 1428: 'confounds', 1429: 'piece', 1430: 'match', 1431: 'reportst', 1432: 'weakly', 1433: 'entreated', 1434: 'pearls', 1435: 'fearful', 1436: 'frost', 1437: 'vail', 1438: 'ones', 1439: 'possesses', 1440: 'fill', 1441: 'herself', 1442: 'conceive', 1443: 'sighd', 1444: 'standing', 1445: 'teach', 1446: 'meant', 1447: 'cheer', 1448: 'hearkens', 1449: 'notorious', 1450: 'mightst', 1451: 'themdingdong', 1452: 'canker', 1453: 'fish', 1454: 'strive', 1455: 'want', 1456: 'traitor', 1457: 'our', 1458: 'cum', 1459: 'repose', 1460: 'rushcandle', 1461: 'time', 1462: 'commonwealth', 1463: 'put', 1464: 'am', 1465: 'frivolous', 1466: 'damned', 1467: 'other', 1468: 'grew', 1469: 'stomach', 1470: 'eer', 1471: 'key', 1472: 'performd', 1473: 'one', 1474: 'kate', 1475: 'prevented', 1476: 'up', 1477: 'sawst', 1478: 'widows', 1479: 'wished', 1480: 'forget', 1481: 'miss', 1482: 'of', 1483: 'wipe', 1484: 'drop', 1485: 'confidence', 1486: 'yourself', 1487: 'their', 1488: 'quiet', 1489: 'taen', 1490: 'coil', 1491: 'ever', 1492: 'chide', 1493: 'work', 1494: 'enemies', 1495: 'room', 1496: 'faults', 1497: 'growing', 1498: 'authority', 1499: 'hang', 1500: 'sort', 1501: 'try', 1502: 'little', 1503: 'worst', 1504: 'were', 1505: 'honourd', 1506: 'bianca', 1507: 'lies', 1508: 'acorn', 1509: 'life', 1510: 'sunk', 1511: 'hanged', 1512: 'banishd', 1513: 'vast', 1514: 'felt', 1515: 'mother', 1516: 'myself', 1517: 'quit', 1518: 'offices', 1519: 'provision', 1520: 'influence', 1521: 'mid', 1522: 'dignity', 1523: 'landed', 1524: 'them', 1525: 'liest', 1526: 'confine', 1527: 'contending', 1528: 'bestir', 1529: 'welcome', 1530: 'gaol', 1531: 'kissd', 1532: 'charms', 1533: 'tremble', 1534: 'servant', 1535: 'nimble', 1536: 'trident', 1537: 'fellows', 1538: 'misst', 1539: 'freshbrook', 1540: 'mediterranean', 1541: 'mine', 1542: 'waits', 1543: 'yet', 1544: 'harbour', 1545: 'deceive', 1546: 'back', 1547: 'theyre', 1548: 'kernels', 1549: 'why', 1550: 'privately', 1551: 'then', 1552: 'knock', 1553: 'abode', 1554: 'cram', 1555: 'pisa', 1556: 'shall', 1557: 'cell', 1558: 'levied', 1559: 'dulness', 1560: 'control', 1561: 'forgets', 1562: 'farewell', 1563: 'heaven', 1564: 'hold', 1565: 'follow', 1566: 'pittance', 1567: 'now', 1568: 'lunatic', 1569: 'wind', 1570: 'flatlong', 1571: 'next', 1572: 'no', 1573: 'spend', 1574: 'yours', 1575: 'gentleman', 1576: 'sun', 1577: 'reeds', 1578: 'but', 1579: 'friends', 1580: 'cheek', 1581: 'cozen', 1582: 'drops', 1583: 'seasorrow', 1584: 'howld', 1585: 'trunk', 1586: 'infect', 1587: 'seems', 1588: 'neglectst', 1589: 'complexion', 1590: 'abide', 1591: 'own', 1592: 'laughed', 1593: 'brings', 1594: 'attendst', 1595: 'almost', 1596: 'hail', 1597: 'travellest', 1598: 'pluck', 1599: 'sounds', 1600: 'horses', 1601: 'bawling', 1602: 'contraries', 1603: 'acre', 1604: 'warrant', 1605: 'soft', 1606: 'light', 1607: 'he', 1608: 'thy', 1609: 'graceless', 1610: 'having', 1611: 'heardst', 1612: 'saint', 1613: 'misses', 1614: 'wine', 1615: 'breath', 1616: 'bowsprit', 1617: 'plague', 1618: 'touch', 1619: 'pitch', 1620: 'out', 1621: 'removed', 1622: 'hence', 1623: 'petruchio', 1624: 'surges', 1625: 'pleasure', 1626: 'manage', 1627: 'lower', 1628: 'told', 1629: 'nay', 1630: 'hush', 1631: 'upstaringthen', 1632: 'speak', 1633: 'end', 1634: 'stained', 1635: 'ears', 1636: 'demanded', 1637: 'sore', 1638: 'relieve', 1639: 'unmitigable', 1640: 'race', 1641: 'aside', 1642: 'open', 1643: 'retired', 1644: 'mightno', 1645: 'seen', 1646: 'conceives', 1647: 'knaves', 1648: 'third', 1649: 'batfowling', 1650: 'scrivener', 1651: 'gallows', 1652: 'sighs', 1653: 'yond', 1654: 'oil', 1655: 'sons', 1656: 'attend', 1657: 'its', 1658: 'grumblings', 1659: 'doth', 1660: 'cheeks', 1661: 'loathness', 1662: 'colours', 1663: 'fouler', 1664: 'on', 1665: 'field', 1666: 'those', 1667: 'as', 1668: 'drenched', 1669: 'state', 1670: 'ariel', 1671: 'fortune', 1672: 'day', 1673: 'peopled', 1674: 'contentious', 1675: 'close', 1676: 'weigh', 1677: 'hereof', 1678: 'two', 1679: 'unapt', 1680: 'part', 1681: 'interrupted', 1682: 'cambio', 1683: 'perdition', 1684: 'honour', 1685: 'report', 1686: 'whiles', 1687: 'just', 1688: 'gird', 1689: 'collected', 1690: 'here', 1691: 'wherefore', 1692: 'down', 1693: 'from', 1694: 'bowd', 1695: 'bowl', 1696: 'loved', 1697: 'faced', 1698: 'wisely', 1699: 'budding', 1700: 'joyful', 1701: 'fallen', 1702: 'strangers', 1703: 'waist', 1704: 'stay', 1705: 'needs', 1706: 'villain', 1707: 'respecting', 1708: 'corners', 1709: 'wheres', 1710: 'visit', 1711: 'entitle', 1712: 'esteem', 1713: 'night', 1714: 'merriment', 1715: 'tricks', 1716: 'bate', 1717: 'natural', 1718: 'dart', 1719: 'honest', 1720: 'beetles', 1721: 'knowing', 1722: 'false', 1723: 'when', 1724: 'knew', 1725: 'thou', 1726: 'tarry', 1727: 'pardon', 1728: 'hid', 1729: 'lodged', 1730: 'sorceries', 1731: 'ordered', 1732: 'large', 1733: 'trouble', 1734: 'theirs', 1735: 'supremacy', 1736: 'spare', 1737: 'sakes', 1738: 'senses', 1739: 'glances', 1740: 'comforter', 1741: 'lorded', 1742: 'aeneas', 1743: 'miraculous', 1744: 'seeming', 1745: 'simile', 1746: 'ebb', 1747: 'deck', 1748: 'minute', 1749: 'deckd', 1750: 'vow', 1751: 'brave', 1752: 'think', 1753: 'nerves', 1754: 'shut', 1755: 'won', 1756: 'calld', 1757: 'drunkards', 1758: 'hint', 1759: 'lead', 1760: 'seachange', 1761: 'heres', 1762: 'sign', 1763: 'ring', 1764: 'malignant', 1765: 'excel', 1766: 'stooping', 1767: 'brother', 1768: 'durst', 1769: 'oard', 1770: 'suckd', 1771: 'island', 1772: 'cake', 1773: 'can', 1774: 'twelve', 1775: 'bound', 1776: 'made', 1777: 'bleared', 1778: 'hate', 1779: 'glut', 1780: 'comes', 1781: 'secret', 1782: 'parent', 1783: 'mothers', 1784: 'for', 1785: 'fished', 1786: 'elements', 1787: 'taken', 1788: 'straws', 1789: 'sidestitches', 1790: 'owe', 1791: 'turnd', 1792: 'hearts', 1793: 'thence', 1794: 'damnd', 1795: 'verdure', 1796: 'whereon', 1797: 'within', 1798: 'speaking', 1799: 'offended', 1800: 'cabin', 1801: 'hundred', 1802: 'stuff', 1803: 'away', 1804: 'grave', 1805: 'tongue', 1806: 'child', 1807: 'freckled', 1808: 'painted', 1809: 'dull', 1810: 'my', 1811: 'duty', 1812: 'savage', 1813: 'deceiving', 1814: 'abundance', 1815: 'rack', 1816: 'carry', 1817: 'sister', 1818: 'dost', 1819: 'innocent', 1820: 'worthy', 1821: 'veins', 1822: 'cramps', 1823: 'ten', 1824: 'sailmaker', 1825: 'help', 1826: 'wisdom', 1827: 'not', 1828: 'rebel', 1829: 'whirlwinds', 1830: 'purposed', 1831: 'kiss', 1832: 'feet', 1833: 'tunis', 1834: 'allot', 1835: 'amazed', 1836: 'yea', 1837: 'wild', 1838: 'urchins', 1839: 'parsley', 1840: 'sees', 1841: 'flote', 1842: 'forgetst', 1843: 'again', 1844: 'less', 1845: 'coronet', 1846: 'goodlier', 1847: 'houses', 1848: 'company', 1849: 'lucentio', 1850: 'destiny', 1851: 'delivered', 1852: 'star', 1853: 'plantation', 1854: 'wet', 1855: 'encounter', 1856: 'do', 1857: 'fear', 1858: 'hear', 1859: 'exercise', 1860: 'pure', 1861: 'chirurgeonly', 1862: 'foaming', 1863: 'unknit', 1864: 'city', 1865: 'sharp', 1866: 'shapes', 1867: 'lets', 1868: 'touchd', 1869: 'dream', 1870: 'vessel', 1871: 'allaying', 1872: 'cabins', 1873: 'heath', 1874: 'millwheels', 1875: 'liberal', 1876: 'paid', 1877: 'truly', 1878: 'miracle', 1879: 'blessd', 1880: 'god', 1881: 'mischiefs', 1882: 'katharina', 1883: 'too', 1884: 'sky', 1885: 'divide', 1886: 'missd', 1887: 'howling', 1888: 'swaywi', 1889: 'went', 1890: 'thing', 1891: 'thought', 1892: 'person', 1893: 'poverty', 1894: 'perfidioushe', 1895: 'brinepits', 1896: 'fort', 1897: 'dead', 1898: 'dwell', 1899: 'beat', 1900: 'pray', 1901: 'purposes', 1902: 'sober', 1903: 'ease', 1904: 'didos', 1905: 'lusty', 1906: 'concluding', 1907: 'sayest', 1908: 'badest', 1909: 'run', 1910: 'gate', 1911: 'pains', 1912: 'yare', 1913: 'souls', 1914: 'seek', 1915: 'meaning', 1916: 'moving', 1917: 'europe', 1918: 'ward', 1919: 'round', 1920: 'supper', 1921: 'forbid', 1922: 'nought', 1923: 'parts', 1924: 'safety', 1925: 'enmity', 1926: 'undone', 1927: 'hat', 1928: 'only', 1929: 'deer', 1930: 'if', 1931: 'glosses', 1932: 'sleeps', 1933: 'perishd', 1934: 'pleased', 1935: 'pedant', 1936: 'suit', 1937: 'potent', 1938: 'wouldst', 1939: 'yellow', 1940: 'continue', 1941: 'water', 1942: 'ist', 1943: 'jarring', 1944: 'unwonted', 1945: 'though', 1946: 'created', 1947: 'rascalwould', 1948: 'prithee', 1949: 'fade', 1950: 'sour', 1951: 'ensue', 1952: 'knowst', 1953: 'ay', 1954: 'stomachs', 1955: 'maiden', 1956: 'withal', 1957: 'kind', 1958: 'fleet', 1959: 'heart', 1960: 'begun', 1961: 'staind', 1962: 'pike', 1963: 'issued', 1964: 'wolves', 1965: 'servants', 1966: 'bettering', 1967: 'whose', 1968: 'propose', 1969: 'confess', 1970: 'looking', 1971: 'have', 1972: 'bitter', 1973: 'rather', 1974: 'devil', 1975: 'case', 1976: 'pitchers', 1977: 'fool', 1978: 'heavenly', 1979: 'illseeming', 1980: 'francisco', 1981: 'claribel', 1982: 'winner', 1983: 'dedicated', 1984: 'entreat', 1985: 'woman', 1986: 'cloven', 1987: 'neck', 1988: 'patience', 1989: 'foul', 1990: 'endured', 1991: 'crying', 1992: 'wore', 1993: 'sensible', 1994: 'got', 1995: 'witch', 1996: 'hourly', 1997: 'thee', 1998: 'forward', 1999: 'says', 2000: 'desert', 2001: 'presently', 2002: 'delicate', 2003: 'rest', 2004: 'rend', 2005: 'catches', 2006: 'move', 2007: 'by', 2008: 'yields', 2009: 'aches', 2010: 'argier', 2011: 'conscience', 2012: 'red', 2013: 'hortensio', 2014: 'spouse', 2015: 'place', 2016: 'constant', 2017: 'gallant', 2018: 'governor', 2019: 'scarlet', 2020: 'bats', 2021: 'fertile', 2022: 'rich', 2023: 'prospero', 2024: 'surely', 2025: 'dolour', 2026: 'wives', 2027: 'hour', 2028: 'parlor', 2029: 'heavy', 2030: 'ho', 2031: 'shrugst', 2032: 'ont', 2033: 'murder', 2034: 'holp', 2035: 'lives', 2036: 'son', 2037: 'consent', 2038: 'millions', 2039: 'brine', 2040: 'peg', 2041: 'prayers', 2042: 'falsely', 2043: 'sowing', 2044: 'aimd', 2045: 'conditions', 2046: 'ear', 2047: 'it', 2048: 'dams', 2049: 'grumio', 2050: 'crow', 2051: 'confined', 2052: 'go', 2053: 'believe', 2054: 'heedfully', 2055: 'air', 2056: 'guilt', 2057: 'rarest', 2058: 'trust', 2059: 'wealthy', 2060: 'leaky', 2061: 'absolute', 2062: 'send', 2063: 'how', 2064: 'rapt', 2065: 'drunk', 2066: 'bay', 2067: 'meal', 2068: 'mess', 2069: 'return', 2070: 'indeed', 2071: 'happened', 2072: 'wert', 2073: 'strokedst', 2074: 'disarm', 2075: 'allay', 2076: 'cable', 2077: 'visits', 2078: 'entertainment', 2079: 'highness', 2080: 'transported', 2081: 'blow', 2082: 'nows', 2083: 'brown', 2084: 'bed', 2085: 'warrants', 2086: 'loss', 2087: 'tides', 2088: 'flung', 2089: 'blemish', 2090: 'oerprized', 2091: 'pitied', 2092: 'draw', 2093: 'bell', 2094: 'sufficient', 2095: 'gentlewoman', 2096: 'faded', 2097: 'groand', 2098: 'need', 2099: 'wrong', 2100: 'food', 2101: 'sinner', 2102: 'lest', 2103: 'undo', 2104: 'fortunes', 2105: 'crowns', 2106: 'heigh', 2107: 'did', 2108: 'dreadful', 2109: 'neptune', 2110: 'basis', 2111: 'appointed', 2112: 'thank', 2113: 'brow', 2114: 'command', 2115: 'years', 2116: 'subtle', 2117: 'prisoners', 2118: 'seldom', 2119: 'burst', 2120: 'perfected', 2121: 'boat', 2122: 'meads', 2123: 'truer', 2124: 'ild', 2125: 'peace', 2126: 'lungs', 2127: 'youre', 2128: 'bereft', 2129: 'hands', 2130: 'many', 2131: 'into', 2132: 'this', 2133: 'borne', 2134: 'done', 2135: 'necessaries', 2136: 'lodging', 2137: 'wall', 2138: 'ashamed', 2139: 'creature', 2140: 'afraid', 2141: 'spoiled', 2142: 'sighing', 2143: 'pocket', 2144: 'endeavour', 2145: 'sake', 2146: 'courses', 2147: 'prize', 2148: 'mast', 2149: 'ooze', 2150: 'bootless', 2151: 'seem', 2152: 'forth', 2153: 'give', 2154: 'smooth', 2155: 'im', 2156: 'sycorax', 2157: 'ivy', 2158: 'debt', 2159: 'wonders', 2160: 'throw', 2161: 'ignoble', 2162: 'month', 2163: 'obedient', 2164: 'entrails', 2165: 'suppertime', 2166: 'tell', 2167: 'feel', 2168: 'pronounce', 2169: 'courtsied', 2170: 'everything', 2171: 'know', 2172: 'drawn', 2173: 'grandsire', 2174: 'born', 2175: 'firm', 2176: 'vassal', 2177: 'felony', 2178: 'beauty', 2179: 'and', 2180: 'dew', 2181: 'short', 2182: 'curse', 2183: 'swiftly', 2184: 'mallows'}\n"
          ],
          "name": "stdout"
        }
      ]
    },
    {
      "cell_type": "code",
      "metadata": {
        "colab": {
          "base_uri": "https://localhost:8080/"
        },
        "id": "6sTE6f8cpQFE",
        "outputId": "d7954f9b-eb13-4cc4-8adb-95fa637c9bc5"
      },
      "source": [
        "# create input-context pairs\n",
        "train_sequence = [vocab[word] for word in tokens]\n",
        "\n",
        "window_size = 4\n",
        "positive_skip_grams, _ = tf.keras.preprocessing.sequence.skipgrams(\n",
        "      train_sequence, \n",
        "      vocabulary_size=vocab_size+1,\n",
        "      window_size=window_size,\n",
        "      negative_samples=0,\n",
        "      categorical=True,\n",
        "      shuffle=True)\n",
        "print(len(positive_skip_grams))"
      ],
      "execution_count": 6,
      "outputs": [
        {
          "output_type": "stream",
          "text": [
            "75848\n"
          ],
          "name": "stdout"
        }
      ]
    },
    {
      "cell_type": "code",
      "metadata": {
        "colab": {
          "base_uri": "https://localhost:8080/"
        },
        "id": "GNAmBgWGpsIy",
        "outputId": "f57ee47c-4aa3-4048-86c6-0f9fb067003f"
      },
      "source": [
        "for target, context in positive_skip_grams[:8]:\n",
        "  #if target == 2184:\n",
        "  print(f\"({target}, {context}): ({inverse_vocab[target]}, {inverse_vocab[context]})\")\n"
      ],
      "execution_count": 7,
      "outputs": [
        {
          "output_type": "stream",
          "text": [
            "(680, 1967): (to, whose)\n",
            "(703, 773): (i, mean)\n",
            "(1902, 1575): (sober, gentleman)\n",
            "(2171, 703): (know, i)\n",
            "(2179, 1971): (and, have)\n",
            "(1027, 637): (busy, cannot)\n",
            "(1985, 1482): (woman, of)\n",
            "(680, 1312): (to, wife)\n"
          ],
          "name": "stdout"
        }
      ]
    },
    {
      "cell_type": "code",
      "metadata": {
        "id": "Ff8tVlcuEmjD"
      },
      "source": [
        "batchSize = 32\n",
        "bufferSize = len(positive_skip_grams)\n",
        "\n",
        "asNum = np.array(positive_skip_grams)\n",
        "test_dataset = tf.data.Dataset.from_tensor_slices((asNum[:,0], asNum[:,1]))\n",
        "\n",
        "test_dataset = test_dataset.shuffle(bufferSize)\n",
        "test_dataset = test_dataset.batch(batchSize)\n",
        "test_dataset = test_dataset.cache()\n",
        "test_dataset = test_dataset.prefetch(buffer_size=tf.data.AUTOTUNE)\n",
        "\n"
      ],
      "execution_count": 8,
      "outputs": []
    },
    {
      "cell_type": "code",
      "metadata": {
        "colab": {
          "base_uri": "https://localhost:8080/"
        },
        "id": "CLh1MuR9GfYS",
        "outputId": "3a78cb6a-8ef5-4163-8537-8cf9ac0e51e2"
      },
      "source": [
        "for i in test_dataset:\n",
        "  print(i)\n",
        "  break"
      ],
      "execution_count": 9,
      "outputs": [
        {
          "output_type": "stream",
          "text": [
            "(<tf.Tensor: shape=(32,), dtype=int64, numpy=\n",
            "array([1236, 2023,  821, 2047,  672, 1039, 1050, 1541, 1491, 1050,  510,\n",
            "       1243,  877,  106,  421,  152,  640, 1050,  659, 1810, 1900, 1050,\n",
            "        680,  680,  777,  921,  598, 1189, 1016,  965, 1810, 1725])>, <tf.Tensor: shape=(32,), dtype=int64, numpy=\n",
            "array([ 499,  620,  486, 1997, 2044, 1971,  811,  103, 2104, 1379,  705,\n",
            "        175, 1876,   96, 1463,  295,  153, 1105,  567, 2013, 1567, 1257,\n",
            "        941, 1926,  703,  811, 1487,  545,   32, 1151, 1482,  971])>)\n"
          ],
          "name": "stdout"
        }
      ]
    },
    {
      "cell_type": "markdown",
      "metadata": {
        "id": "b5Ai61RIAOK6"
      },
      "source": [
        "## 2.2 Model\n",
        "- implement a skip Gram model to create word embeddings\n",
        "- use keras layer for the model\n",
        "- overwrite the build function\n",
        "  - use the tf.nn.nec_loss\n",
        "  - only the outputs for the target and the sampled words can be computed this way\n",
        "  - initalize the vocabulary in the __init__ function\n",
        "  - get the embeddings in the call function\n",
        "  - get the embeddings using tf.nn.embedding_lookup\n",
        "  average the batch manually\n"
      ]
    },
    {
      "cell_type": "code",
      "metadata": {
        "id": "9xDroWoMIz-h"
      },
      "source": [
        "class Word2Vec(Layer):\n",
        "  def __init__(self, vocabSize, embeddingSize):\n",
        "    super(Word2Vec, self).__init__()\n",
        "\n",
        "    self.vocabSize = vocabSize\n",
        "    self.embeddingSize = embeddingSize\n",
        "\n",
        "  def build(self, InputShape):\n",
        "    # goal is to optimize the embedding parameters \n",
        "    self.embedding = self.add_weight(\n",
        "            shape=(self.vocabSize, self.embeddingSize),\n",
        "            initializer = RandomUniform(minval=-1, maxval=1),\n",
        "            trainable=True,\n",
        "        )\n",
        "    \n",
        "    self.nce_weights = self.add_weight(\n",
        "        shape=(self.vocabSize, self.embeddingSize),\n",
        "        initializer=\"random_normal\",\n",
        "        trainable=True\n",
        "    )\n",
        "    self.nce_biases = self.add_weight(\n",
        "        shape=(self.vocabSize,),\n",
        "        initializer=\"random_normal\",\n",
        "        trainable=True\n",
        "    )\n",
        "\n",
        "  # train_inputs := source context\n",
        "  # train_labels := target words  \n",
        "  def call(self, train_inputs, train_labels, batchSize):\n",
        "    # train_inputs should have the shape=[batch_size]\n",
        "    # train_labels should have the shape=[batch_size, 1]\n",
        "    train_labels = tf.expand_dims(train_labels, -1) \n",
        "\n",
        "    embed = tf.nn.embedding_lookup(self.embedding, train_inputs)\n",
        "\n",
        "    # print(tf.shape(embed))\n",
        "    # print(self.vocabSize)\n",
        "    loss = tf.reduce_mean(\n",
        "        tf.nn.nce_loss(\n",
        "            weights = self.nce_weights, \n",
        "            biases = self.nce_biases, \n",
        "            labels = train_labels, \n",
        "            inputs = embed, \n",
        "            num_sampled = 1, \n",
        "            num_classes = self.vocabSize, \n",
        "            num_true=1\n",
        "    ))\n",
        "\n",
        "    return loss\n",
        "\n"
      ],
      "execution_count": 10,
      "outputs": []
    },
    {
      "cell_type": "markdown",
      "metadata": {
        "id": "lgrP9n7qYW0-"
      },
      "source": [
        "# 2.3 Training"
      ]
    },
    {
      "cell_type": "code",
      "metadata": {
        "id": "-8iGXlLnun74"
      },
      "source": [
        "def train_step(model, target, context, optimizer):\n",
        "  with tf.GradientTape() as tape:\n",
        "    loss = model(target, context, batchSize)\n",
        "    gradients = tape.gradient(loss, model.trainable_variables)\n",
        "\n",
        "  optimizer.apply_gradients(zip(gradients, model.trainable_variables))\n",
        "\n",
        "  return loss\n",
        "\n",
        "def nearest_neighbours(target, k, embedding):\n",
        "  # get the embedding of the target word\n",
        "  targetEmbedding = tf.nn.embedding_lookup(embedding, vocab[target])\n",
        "  \n",
        "  # collect the similiarity scores \n",
        "  mostSimilar = []\n",
        "  for ii in embedding.numpy():\n",
        "    mostSimilar.append(distance.cosine(targetEmbedding, ii))\n",
        "  \n",
        "  kNeighbours = np.argsort(np.array(mostSimilar))[-(1+k):-1]\n",
        "  \n",
        "  return [inverse_vocab[n] for n in kNeighbours], targetEmbedding\n",
        "\n",
        "def plotEmbedding(embeddings, tokens):\n",
        "  tsne = TSNE(n_components=2, init='pca', random_state=0)\n",
        "  X_tsne = tsne.fit_transform(embeddings)\n",
        "\n",
        "  n = [58, 651, 393, 203, 123, 123, 123]  \n",
        "  plt.scatter(X_tsne[:,0], X_tsne[:,1])\n",
        "\n",
        "  for i, token in enumerate(tokens):\n",
        "    plt.annotate(token, (X_tsne[i,0], X_tsne[i,1]))\n",
        "\n",
        "def train_model(model, epochs, learning_rate, test_tokens):\n",
        "  optimizer = tf.keras.optimizers.Adam(learning_rate=learning_rate)\n",
        "\n",
        "  for epoch in range(epochs):\n",
        "    losses = []\n",
        "\n",
        "    runningLoss = []\n",
        "    for data in test_dataset:\n",
        "      loss = train_step(model, data[0], data[1], optimizer)\n",
        "      runningLoss.append(loss)\n",
        "\n",
        "    losses.append(np.mean(runningLoss))\n",
        "    print(f\"Epoch: {epoch} loss: {loss}\")\n",
        "\n",
        "    embeddings = []\n",
        "    for token in test_tokens:\n",
        "      nearestWords, wordEmbeddings = nearest_neighbours(token, num_neighbours, model.embedding)\n",
        "      embeddings.append(wordEmbeddings)\n",
        "      print(f\"  {token}: {', '.join(nearestWords)}\")\n",
        "\n",
        "    plotEmbedding(np.array(embeddings), test_tokens)\n",
        "    plt.show()\n",
        "    \n"
      ],
      "execution_count": 11,
      "outputs": []
    },
    {
      "cell_type": "code",
      "metadata": {
        "colab": {
          "base_uri": "https://localhost:8080/",
          "height": 1000
        },
        "id": "7SK_cfYvVAcD",
        "outputId": "20adf452-1351-477b-a7ea-cb8134316256"
      },
      "source": [
        "epochs = 10\n",
        "learning_rate = 0.01\n",
        "embedding_size = 65\n",
        "num_neighbours = 5 \n",
        "\n",
        "test_tokens = [\"gold\", \"authority\", \"wine\", \"death\", \"love\", \"faith\", \"day\"]\n",
        "\n",
        "model = Word2Vec(vocab_size, embedding_size)\n",
        "\n",
        "train_model(model, epochs, learning_rate, test_tokens)"
      ],
      "execution_count": 12,
      "outputs": [
        {
          "output_type": "stream",
          "text": [
            "Epoch: 0 loss: 0.6149881482124329\n",
            "  gold: curld, awakend, sinner, scape, serve\n",
            "  authority: sayest, trod, nigh, room, bergamo\n",
            "  wine: behind, scape, confounds, obedient, trod\n",
            "  death: paid, confounds, trod, nigh, scape\n",
            "  love: dwelling, lieu, forswear, awakend, nigh\n",
            "  faith: paid, quickwitted, scape, ship, nigh\n",
            "  day: ye, darest, scape, trod, awakend\n"
          ],
          "name": "stdout"
        },
        {
          "output_type": "display_data",
          "data": {
            "image/png": "[encoded data removed]",
            "text/plain": [
              "<Figure size 432x288 with 1 Axes>"
            ]
          },
          "metadata": {
            "tags": [],
            "needs_background": "light"
          }
        },
        {
          "output_type": "stream",
          "text": [
            "Epoch: 1 loss: 0.048147398978471756\n",
            "  gold: carries, serve, replied, born, straws\n",
            "  authority: heavenly, up, forgets, sin, winkst\n",
            "  wine: lodging, carries, prerogative, odd, plaster\n",
            "  death: bodes, joves, forgets, princess, field\n",
            "  love: awful, humble, straws, honeycomb, beasts\n",
            "  faith: beginning, clouds, enough, annual, whistle\n",
            "  day: sore, assure, beyond, jarring, darest\n"
          ],
          "name": "stdout"
        },
        {
          "output_type": "display_data",
          "data": {
            "image/png": "[encoded data removed]",
            "text/plain": [
              "<Figure size 432x288 with 1 Axes>"
            ]
          },
          "metadata": {
            "tags": [],
            "needs_background": "light"
          }
        },
        {
          "output_type": "stream",
          "text": [
            "Epoch: 2 loss: 0.6449207067489624\n",
            "  gold: intolerable, round, study, retired, mediterranean\n",
            "  authority: retired, lodging, stuffs, came, deafness\n",
            "  wine: visitor, lodging, stuffs, wert, question\n",
            "  death: speech, cock, retired, making, mistress\n",
            "  love: fine, dulness, deserved, scapes, endured\n",
            "  faith: leapd, stuffs, should, stained, souls\n",
            "  day: right, sign, laying, dulness, beside\n"
          ],
          "name": "stdout"
        },
        {
          "output_type": "display_data",
          "data": {
            "image/png": "[encoded data removed]",
            "text/plain": [
              "<Figure size 432x288 with 1 Axes>"
            ]
          },
          "metadata": {
            "tags": [],
            "needs_background": "light"
          }
        },
        {
          "output_type": "stream",
          "text": [
            "Epoch: 3 loss: 0.3346157968044281\n",
            "  gold: tilth, servant, sin, , blots\n",
            "  authority: advantage, honeycomb, bees, sin, winkst\n",
            "  wine: servant, fortunes, question, whoreson, blots\n",
            "  death: speech, goodlier, making, plaster, confounds\n",
            "  love: expound, imagination, show, deceiving, task\n",
            "  faith: blots, leapd, making, should, comfort\n",
            "  day: cake, shape, may, warrants, winkst\n"
          ],
          "name": "stdout"
        },
        {
          "output_type": "display_data",
          "data": {
            "image/png": "[encoded data removed]",
            "text/plain": [
              "<Figure size 432x288 with 1 Axes>"
            ]
          },
          "metadata": {
            "tags": [],
            "needs_background": "light"
          }
        },
        {
          "output_type": "stream",
          "text": [
            "Epoch: 4 loss: 0.4189351797103882\n",
            "  gold: married, few, devil, bad, \n",
            "  authority: smile, fame, grass, goddess, tended\n",
            "  wine: impossible, changed, mast, young, lovely\n",
            "  death: bed, moody, play, grand, swift\n",
            "  love: adventure, bawling, water, habit, ferdinand\n",
            "  faith: swift, grand, penetrate, spiriting, grudge\n",
            "  day: winkst, quaint, wills, moving, pike\n"
          ],
          "name": "stdout"
        },
        {
          "output_type": "display_data",
          "data": {
            "image/png": "[encoded data removed]",
            "text/plain": [
              "<Figure size 432x288 with 1 Axes>"
            ]
          },
          "metadata": {
            "tags": [],
            "needs_background": "light"
          }
        },
        {
          "output_type": "stream",
          "text": [
            "Epoch: 5 loss: 1.3394804000854492\n",
            "  gold: married, succession, mong, piteous, seastorm\n",
            "  authority: wombs, came, steaded, strong, seastorm\n",
            "  wine: darest, grown, muddy, alonso, like\n",
            "  death: pinchd, goodlier, confounds, bed, joves\n",
            "  love: darest, words, villain, mans, tortoise\n",
            "  faith: parsley, earthy, grand, else, basis\n",
            "  day: furze, pike, laughter, birth, foison\n"
          ],
          "name": "stdout"
        },
        {
          "output_type": "display_data",
          "data": {
            "image/png": "[encoded data removed]",
            "text/plain": [
              "<Figure size 432x288 with 1 Axes>"
            ]
          },
          "metadata": {
            "tags": [],
            "needs_background": "light"
          }
        },
        {
          "output_type": "stream",
          "text": [
            "Epoch: 6 loss: 0.2723785936832428\n",
            "  gold: thyself, borne, seastorm, , demanded\n",
            "  authority: clouds, monstrous, goddess, winkst, seastorm\n",
            "  wine: own, possesses, bowd, magistrate, marrying\n",
            "  death: howld, fall, goodlier, making, gate\n",
            "  love: strokedst, subdued, calldst, bawling, water\n",
            "  faith: grand, against, eye, else, int\n",
            "  day: almost, weeping, eye, beside, has\n"
          ],
          "name": "stdout"
        },
        {
          "output_type": "display_data",
          "data": {
            "image/png": "[encoded data removed]",
            "text/plain": [
              "<Figure size 432x288 with 1 Axes>"
            ]
          },
          "metadata": {
            "tags": [],
            "needs_background": "light"
          }
        },
        {
          "output_type": "stream",
          "text": [
            "Epoch: 7 loss: 0.0014188583008944988\n",
            "  gold: command, now, exactly, , bad\n",
            "  authority: fair, but, strong, winkst, privately\n",
            "  wine: muddy, like, endowd, marrying, privately\n",
            "  death: banishd, mistress, fall, grudge, confounds\n",
            "  love: deceiving, endowd, upon, strokedst, winds\n",
            "  faith: clouds, eye, basis, earthy, joy\n",
            "  day: serve, glosses, beside, one, has\n"
          ],
          "name": "stdout"
        },
        {
          "output_type": "display_data",
          "data": {
            "image/png": "[encoded data removed]",
            "text/plain": [
              "<Figure size 432x288 with 1 Axes>"
            ]
          },
          "metadata": {
            "tags": [],
            "needs_background": "light"
          }
        },
        {
          "output_type": "stream",
          "text": [
            "Epoch: 8 loss: 0.5151702761650085\n",
            "  gold: hours, bad, seastorm, tribute, exactly\n",
            "  authority: key, none, came, goddess, changed\n",
            "  wine: endowd, affection, deign, scarlet, name\n",
            "  death: fall, mountain, seek, tortoise, likelihood\n",
            "  love: cramps, task, strokedst, bowsprit, bees\n",
            "  faith: waist, hoop, earthy, basis, remembrance\n",
            "  day: impossible, ways, one, potent, warrants\n"
          ],
          "name": "stdout"
        },
        {
          "output_type": "display_data",
          "data": {
            "image/png": "[encoded data removed]",
            "text/plain": [
              "<Figure size 432x288 with 1 Axes>"
            ]
          },
          "metadata": {
            "tags": [],
            "needs_background": "light"
          }
        },
        {
          "output_type": "stream",
          "text": [
            "Epoch: 9 loss: 0.10493133217096329\n",
            "  gold: exactly, bad, thyself, seastorm, devil\n",
            "  authority: human, new, their, foul, changed\n",
            "  wine: comfort, affection, extirpate, like, deign\n",
            "  death: grudge, privilegio, gun, tot, trust\n",
            "  love: imposter, extirpate, take, mocking, strokedst\n",
            "  faith: had, purposed, lay, sword, run\n",
            "  day: perils, hush, mediterranean, study, howl\n"
          ],
          "name": "stdout"
        },
        {
          "output_type": "display_data",
          "data": {
            "image/png": "[encoded data removed]",
            "text/plain": [
              "<Figure size 432x288 with 1 Axes>"
            ]
          },
          "metadata": {
            "tags": [],
            "needs_background": "light"
          }
        }
      ]
    },
    {
      "cell_type": "markdown",
      "metadata": {
        "id": "xRzEym09YcK-"
      },
      "source": [
        "# 3 Text Generation"
      ]
    },
    {
      "cell_type": "markdown",
      "metadata": {
        "id": "XsEGAncrYffx"
      },
      "source": [
        "## 3.1 Preprocessing"
      ]
    },
    {
      "cell_type": "code",
      "metadata": {
        "id": "beZeulHIQNjb"
      },
      "source": [
        "dataset = tfds.load('tiny_shakespeare', split = 'train')"
      ],
      "execution_count": 13,
      "outputs": []
    },
    {
      "cell_type": "code",
      "metadata": {
        "id": "OoGWK6YaQPPo"
      },
      "source": [
        "# preprocessing data \r\n",
        "\r\n",
        "def make_handy(dataset):\r\n",
        "  \"\"\" This function extracts the string tensor and converts it \r\n",
        "      into a string and afterwards makes the text handy to work with\"\"\"\r\n",
        "\r\n",
        "  for data in dataset:\r\n",
        "    # Extracting text from dictionary and get string tensor with .numpy()\r\n",
        "    # convert string tensor to string with compat.as_text --> more handy \r\n",
        "    text = compat.as_text(data[\"text\"].numpy())\r\n",
        "\r\n",
        "  return text"
      ],
      "execution_count": 14,
      "outputs": []
    },
    {
      "cell_type": "code",
      "metadata": {
        "id": "3sgTJsIAQRix"
      },
      "source": [
        "text = make_handy(dataset)"
      ],
      "execution_count": 15,
      "outputs": []
    },
    {
      "cell_type": "code",
      "metadata": {
        "colab": {
          "base_uri": "https://localhost:8080/"
        },
        "id": "N7Em5F-2QUdl",
        "outputId": "609b15ed-7900-460b-ce0a-26b9f3e6e5d0"
      },
      "source": [
        "# The unique characters in the file\r\n",
        "vocab = sorted(set(text))\r\n",
        "print('{} unique characters'.format(len(vocab)))\r\n",
        "\r\n",
        "#splitting chars\r\n",
        "chars = tf.strings.unicode_split(text, input_encoding='UTF-8')\r\n",
        "\r\n",
        "# create Lookup \r\n",
        "\r\n",
        "# ids from chars\r\n",
        "ids_from_chars = preprocessing.StringLookup(\r\n",
        "    vocabulary=list(vocab))\r\n",
        "\r\n",
        "# chars from ids\r\n",
        "chars_from_ids = tf.keras.layers.experimental.preprocessing.StringLookup(\r\n",
        "    vocabulary=ids_from_chars.get_vocabulary(), invert=True)\r\n",
        "\r\n",
        "# all IDs\r\n",
        "all_ids = ids_from_chars(tf.strings.unicode_split(text, 'UTF-8'))\r\n",
        "\r\n",
        "ids_dataset = tf.data.Dataset.from_tensor_slices(all_ids)\r\n",
        "\r\n",
        "def text_from_ids(ids):\r\n",
        "  return tf.strings.reduce_join(chars_from_ids(ids), axis=-1)\r\n"
      ],
      "execution_count": 16,
      "outputs": [
        {
          "output_type": "stream",
          "text": [
            "65 unique characters\n"
          ],
          "name": "stdout"
        }
      ]
    },
    {
      "cell_type": "code",
      "metadata": {
        "id": "-3ykJD-hf6jj"
      },
      "source": [
        "def split_input_target(sequence):\r\n",
        "    input_text = sequence[:-1]\r\n",
        "    target_text = sequence[1:]\r\n",
        "    return input_text, target_text"
      ],
      "execution_count": 17,
      "outputs": []
    },
    {
      "cell_type": "code",
      "metadata": {
        "colab": {
          "base_uri": "https://localhost:8080/"
        },
        "id": "08xEcOooSNQS",
        "outputId": "f2316d8d-9454-44ca-9b4b-fa9a92163e02"
      },
      "source": [
        "seq_length = 100\r\n",
        "examples_per_epoch = len(text)//(seq_length+1)\r\n",
        "\r\n",
        "sequences = ids_dataset.batch(seq_length+1, drop_remainder=True)\r\n",
        "\r\n",
        "for seq in sequences.take(1):\r\n",
        "  print(chars_from_ids(seq))\r\n",
        "\r\n",
        "\r\n",
        "dataset = sequences.map(split_input_target)\r\n",
        "\r\n",
        "\r\n",
        "for input_example, target_example in  dataset.take(1):\r\n",
        "    print(\"Input :\", text_from_ids(input_example).numpy())\r\n",
        "    print(\"Target:\", text_from_ids(target_example).numpy())\r\n"
      ],
      "execution_count": 18,
      "outputs": [
        {
          "output_type": "stream",
          "text": [
            "tf.Tensor(\n",
            "[b'F' b'i' b'r' b's' b't' b' ' b'C' b'i' b't' b'i' b'z' b'e' b'n' b':'\n",
            " b'\\n' b'B' b'e' b'f' b'o' b'r' b'e' b' ' b'w' b'e' b' ' b'p' b'r' b'o'\n",
            " b'c' b'e' b'e' b'd' b' ' b'a' b'n' b'y' b' ' b'f' b'u' b'r' b't' b'h'\n",
            " b'e' b'r' b',' b' ' b'h' b'e' b'a' b'r' b' ' b'm' b'e' b' ' b's' b'p'\n",
            " b'e' b'a' b'k' b'.' b'\\n' b'\\n' b'A' b'l' b'l' b':' b'\\n' b'S' b'p' b'e'\n",
            " b'a' b'k' b',' b' ' b's' b'p' b'e' b'a' b'k' b'.' b'\\n' b'\\n' b'F' b'i'\n",
            " b'r' b's' b't' b' ' b'C' b'i' b't' b'i' b'z' b'e' b'n' b':' b'\\n' b'Y'\n",
            " b'o' b'u' b' '], shape=(101,), dtype=string)\n",
            "Input : b'First Citizen:\\nBefore we proceed any further, hear me speak.\\n\\nAll:\\nSpeak, speak.\\n\\nFirst Citizen:\\nYou'\n",
            "Target: b'irst Citizen:\\nBefore we proceed any further, hear me speak.\\n\\nAll:\\nSpeak, speak.\\n\\nFirst Citizen:\\nYou '\n"
          ],
          "name": "stdout"
        }
      ]
    },
    {
      "cell_type": "code",
      "metadata": {
        "colab": {
          "base_uri": "https://localhost:8080/"
        },
        "id": "AZEOy6ElS0s8",
        "outputId": "b1c8b4c6-142f-4547-a47c-53212a3242f8"
      },
      "source": [
        "# Batch size\r\n",
        "BATCH_SIZE = 64\r\n",
        "\r\n",
        "# Buffer size to shuffle the dataset\r\n",
        "# (TF data is designed to work with possibly infinite sequences,\r\n",
        "# so it doesn't attempt to shuffle the entire sequence in memory. Instead,\r\n",
        "# it maintains a buffer in which it shuffles elements).\r\n",
        "BUFFER_SIZE = 10000\r\n",
        "\r\n",
        "dataset = (\r\n",
        "    dataset\r\n",
        "    .shuffle(BUFFER_SIZE)\r\n",
        "    .batch(BATCH_SIZE, drop_remainder=True)\r\n",
        "    .prefetch(tf.data.experimental.AUTOTUNE))\r\n",
        "\r\n",
        "dataset"
      ],
      "execution_count": 19,
      "outputs": [
        {
          "output_type": "execute_result",
          "data": {
            "text/plain": [
              "<PrefetchDataset shapes: ((64, 100), (64, 100)), types: (tf.int64, tf.int64)>"
            ]
          },
          "metadata": {
            "tags": []
          },
          "execution_count": 19
        }
      ]
    },
    {
      "cell_type": "code",
      "metadata": {
        "colab": {
          "base_uri": "https://localhost:8080/"
        },
        "id": "A8vy1wujR6wZ",
        "outputId": "b980e99b-0b89-4ca4-ed06-7751065b02c8"
      },
      "source": [
        "#dataset = sequences.map(split_input_target)\r\n",
        "\r\n",
        "for input_example_batch, target_example_batch in dataset.take(1):\r\n",
        "  print(input_example_batch)"
      ],
      "execution_count": 20,
      "outputs": [
        {
          "output_type": "stream",
          "text": [
            "tf.Tensor(\n",
            "[[ 8  3 65 ... 43 45  3]\n",
            " [30 52 41 ... 58 44 59]\n",
            " [59  8  3 ... 41  3 59]\n",
            " ...\n",
            " [48 49 53 ...  3 42 45]\n",
            " [62 45  3 ... 59  3 58]\n",
            " [65  8  2 ... 28 21  3]], shape=(64, 100), dtype=int64)\n"
          ],
          "name": "stdout"
        }
      ]
    },
    {
      "cell_type": "code",
      "metadata": {
        "id": "ZQ5lDTR_TosC"
      },
      "source": [
        "# Length of the vocabulary in chars\r\n",
        "vocab_size = len(vocab)\r\n",
        "\r\n",
        "# The embedding dimension\r\n",
        "embedding_dim = 256\r\n",
        "\r\n",
        "# Number of RNN units\r\n",
        "rnn_units = 1024\r\n"
      ],
      "execution_count": 21,
      "outputs": []
    },
    {
      "cell_type": "code",
      "metadata": {
        "id": "UOmwBcNdQWZ_"
      },
      "source": [
        "class MyModel(tf.keras.Model):\r\n",
        "  def __init__(self, vocab_size, embedding_dim, rnn_units):\r\n",
        "    super().__init__(self)\r\n",
        "    self.embedding = tf.keras.layers.Embedding(vocab_size, embedding_dim)\r\n",
        "    self.gru = tf.keras.layers.GRU(rnn_units,\r\n",
        "                                   return_sequences=True, \r\n",
        "                                   return_state=True, \r\n",
        "                                   name = \"kevin\")\r\n",
        "    self.dense = tf.keras.layers.Dense(vocab_size)\r\n",
        "\r\n",
        "  def call(self, inputs, states=None, return_state=False, training=False):\r\n",
        "    x = inputs\r\n",
        "    # print(x, \"inputs\")\r\n",
        "    x = self.embedding(x, training=training)\r\n",
        "    if states is None:\r\n",
        "      states = self.gru.get_initial_state(x)\r\n",
        "    x, states = self.gru(x, initial_state=states, training=training)\r\n",
        "    x = self.dense(x, training=training)\r\n",
        "\r\n",
        "    if return_state:\r\n",
        "      return x, states\r\n",
        "    else: \r\n",
        "      return x"
      ],
      "execution_count": 22,
      "outputs": []
    },
    {
      "cell_type": "code",
      "metadata": {
        "colab": {
          "base_uri": "https://localhost:8080/"
        },
        "id": "Yw47oe-KQ_SX",
        "outputId": "58df4315-04d9-4b26-9bcb-fcd36d5d4932"
      },
      "source": [
        "model = MyModel(\r\n",
        "    # Be sure the vocabulary size matches the `StringLookup` layers.\r\n",
        "    vocab_size=len(ids_from_chars.get_vocabulary()),\r\n",
        "    embedding_dim=embedding_dim,\r\n",
        "    rnn_units=rnn_units)\r\n",
        "\r\n",
        "print(vocab_size)"
      ],
      "execution_count": 23,
      "outputs": [
        {
          "output_type": "stream",
          "text": [
            "65\n"
          ],
          "name": "stdout"
        }
      ]
    },
    {
      "cell_type": "code",
      "metadata": {
        "colab": {
          "base_uri": "https://localhost:8080/"
        },
        "id": "fTYAMKZZTd1s",
        "outputId": "ef020c20-0b7f-4570-93b2-9299c2469401"
      },
      "source": [
        "for input_example_batch, target_example_batch in dataset.take(1):\r\n",
        "    example_batch_predictions = model(input_example_batch)\r\n",
        "    print(example_batch_predictions.shape, \"# (batch_size, sequence_length, vocab_size)\")\r\n",
        "\r\n",
        "model.summary()"
      ],
      "execution_count": 24,
      "outputs": [
        {
          "output_type": "stream",
          "text": [
            "(64, 100, 67) # (batch_size, sequence_length, vocab_size)\n",
            "Model: \"my_model\"\n",
            "_________________________________________________________________\n",
            "Layer (type)                 Output Shape              Param #   \n",
            "=================================================================\n",
            "embedding (Embedding)        multiple                  17152     \n",
            "_________________________________________________________________\n",
            "kevin (GRU)                  multiple                  3938304   \n",
            "_________________________________________________________________\n",
            "dense (Dense)                multiple                  68675     \n",
            "=================================================================\n",
            "Total params: 4,024,131\n",
            "Trainable params: 4,024,131\n",
            "Non-trainable params: 0\n",
            "_________________________________________________________________\n"
          ],
          "name": "stdout"
        }
      ]
    },
    {
      "cell_type": "code",
      "metadata": {
        "id": "_ex4G_x6RBY1"
      },
      "source": [
        "loss = tf.losses.SparseCategoricalCrossentropy(from_logits=True)\r\n"
      ],
      "execution_count": 25,
      "outputs": []
    },
    {
      "cell_type": "code",
      "metadata": {
        "id": "loXwdS3SREAa",
        "colab": {
          "base_uri": "https://localhost:8080/"
        },
        "outputId": "28816630-f353-4daf-9359-6e12223c2120"
      },
      "source": [
        "example_batch_loss = loss(target_example_batch, example_batch_predictions)\r\n",
        "mean_loss = example_batch_loss.numpy().mean()\r\n",
        "print(\"Prediction shape: \", example_batch_predictions.shape, \" # (batch_size, sequence_length, vocab_size)\")\r\n",
        "print(\"Mean loss:        \", mean_loss)"
      ],
      "execution_count": 26,
      "outputs": [
        {
          "output_type": "stream",
          "text": [
            "Prediction shape:  (64, 100, 67)  # (batch_size, sequence_length, vocab_size)\n",
            "Mean loss:         4.2053504\n"
          ],
          "name": "stdout"
        }
      ]
    },
    {
      "cell_type": "code",
      "metadata": {
        "id": "8adG-ha7RHqk"
      },
      "source": [
        "model.compile(optimizer='adam', loss=loss)\r\n"
      ],
      "execution_count": 27,
      "outputs": []
    },
    {
      "cell_type": "code",
      "metadata": {
        "id": "KiOdJ_dhRJr3",
        "colab": {
          "base_uri": "https://localhost:8080/"
        },
        "outputId": "6a9ddc00-110b-473a-c98c-b0df3d4ec37b"
      },
      "source": [
        "EPOCHS = 20\r\n",
        "\r\n",
        "history = model.fit(dataset, epochs=EPOCHS)\r\n"
      ],
      "execution_count": 28,
      "outputs": [
        {
          "output_type": "stream",
          "text": [
            "Epoch 1/20\n",
            "155/155 [==============================] - 11s 57ms/step - loss: 3.3343\n",
            "Epoch 2/20\n",
            "155/155 [==============================] - 10s 57ms/step - loss: 2.1239\n",
            "Epoch 3/20\n",
            "155/155 [==============================] - 10s 58ms/step - loss: 1.8022\n",
            "Epoch 4/20\n",
            "155/155 [==============================] - 10s 59ms/step - loss: 1.6071\n",
            "Epoch 5/20\n",
            "155/155 [==============================] - 10s 58ms/step - loss: 1.4891\n",
            "Epoch 6/20\n",
            "155/155 [==============================] - 10s 57ms/step - loss: 1.4072\n",
            "Epoch 7/20\n",
            "155/155 [==============================] - 10s 57ms/step - loss: 1.3477\n",
            "Epoch 8/20\n",
            "155/155 [==============================] - 10s 57ms/step - loss: 1.2960\n",
            "Epoch 9/20\n",
            "155/155 [==============================] - 10s 57ms/step - loss: 1.2524\n",
            "Epoch 10/20\n",
            "155/155 [==============================] - 10s 57ms/step - loss: 1.2042\n",
            "Epoch 11/20\n",
            "155/155 [==============================] - 10s 57ms/step - loss: 1.1649\n",
            "Epoch 12/20\n",
            "155/155 [==============================] - 10s 58ms/step - loss: 1.1183\n",
            "Epoch 13/20\n",
            "155/155 [==============================] - 10s 57ms/step - loss: 1.0747\n",
            "Epoch 14/20\n",
            "155/155 [==============================] - 10s 57ms/step - loss: 1.0255\n",
            "Epoch 15/20\n",
            "155/155 [==============================] - 10s 57ms/step - loss: 0.9725\n",
            "Epoch 16/20\n",
            "155/155 [==============================] - 10s 57ms/step - loss: 0.9198\n",
            "Epoch 17/20\n",
            "155/155 [==============================] - 10s 57ms/step - loss: 0.8606\n",
            "Epoch 18/20\n",
            "155/155 [==============================] - 10s 57ms/step - loss: 0.8038\n",
            "Epoch 19/20\n",
            "155/155 [==============================] - 10s 57ms/step - loss: 0.7498\n",
            "Epoch 20/20\n",
            "155/155 [==============================] - 10s 57ms/step - loss: 0.6927\n"
          ],
          "name": "stdout"
        }
      ]
    },
    {
      "cell_type": "code",
      "metadata": {
        "id": "bxyxNEbJRKJa"
      },
      "source": [
        "class OneStep(tf.keras.Model):\r\n",
        "  def __init__(self, model, chars_from_ids, ids_from_chars, temperature=1.0):\r\n",
        "    super().__init__()\r\n",
        "    self.temperature=temperature\r\n",
        "    self.model = model\r\n",
        "    self.chars_from_ids = chars_from_ids\r\n",
        "    self.ids_from_chars = ids_from_chars\r\n",
        "\r\n",
        "    # Create a mask to prevent \"\" or \"[UNK]\" from being generated.\r\n",
        "    skip_ids = self.ids_from_chars(['','[UNK]'])[:, None]\r\n",
        "    sparse_mask = tf.SparseTensor(\r\n",
        "        # Put a -inf at each bad index.\r\n",
        "        values=[-float('inf')]*len(skip_ids),\r\n",
        "        indices = skip_ids,\r\n",
        "        # Match the shape to the vocabulary\r\n",
        "        dense_shape=[len(ids_from_chars.get_vocabulary())]) \r\n",
        "    self.prediction_mask = tf.sparse.to_dense(sparse_mask)\r\n",
        "\r\n",
        "  @tf.function\r\n",
        "  def generate_one_step(self, inputs, states=None):\r\n",
        "    # Convert strings to token IDs.\r\n",
        "    input_chars = tf.strings.unicode_split(inputs, 'UTF-8')\r\n",
        "    input_ids = self.ids_from_chars(input_chars).to_tensor()\r\n",
        "\r\n",
        "    # Run the model.\r\n",
        "    # predicted_logits.shape is [batch, char, next_char_logits] \r\n",
        "    predicted_logits, states =  self.model(inputs=input_ids, states=states, \r\n",
        "                                          return_state=True)\r\n",
        "    # Only use the last prediction.\r\n",
        "    predicted_logits = predicted_logits[:, -1, :]\r\n",
        "    predicted_logits = predicted_logits/self.temperature\r\n",
        "    # Apply the prediction mask: prevent \"\" or \"[UNK]\" from being generated.\r\n",
        "    predicted_logits = predicted_logits + self.prediction_mask\r\n",
        "\r\n",
        "    # Sample the output logits to generate token IDs.\r\n",
        "    predicted_ids = tf.random.categorical(predicted_logits, num_samples=1)\r\n",
        "    predicted_ids = tf.squeeze(predicted_ids, axis=-1)\r\n",
        "\r\n",
        "    # Convert from token ids to characters\r\n",
        "    predicted_chars = self.chars_from_ids(predicted_ids)\r\n",
        "\r\n",
        "    # Return the characters and model state.\r\n",
        "    return predicted_chars, states\r\n",
        "\r\n",
        "one_step_model = OneStep(model, chars_from_ids, ids_from_chars)\r\n"
      ],
      "execution_count": 29,
      "outputs": []
    },
    {
      "cell_type": "code",
      "metadata": {
        "id": "Q4OPT4dwRM-l",
        "colab": {
          "base_uri": "https://localhost:8080/"
        },
        "outputId": "8b9522da-16ed-4dc2-caf9-5ffc73ecdf87"
      },
      "source": [
        "start = time.time()\r\n",
        "states = None\r\n",
        "next_char = tf.constant(['ROMEO:'])\r\n",
        "result = [next_char]\r\n",
        "\r\n",
        "for n in range(1000):\r\n",
        "  next_char, states = one_step_model.generate_one_step(next_char, states=states)\r\n",
        "  result.append(next_char)\r\n",
        "\r\n",
        "result = tf.strings.join(result)\r\n",
        "end = time.time()\r\n",
        "\r\n",
        "print(result[0].numpy().decode('utf-8'), '\\n\\n' + '_'*80)\r\n",
        "\r\n",
        "print(f\"\\nRun time: {end - start}\")\r\n"
      ],
      "execution_count": 30,
      "outputs": [
        {
          "output_type": "stream",
          "text": [
            "ROMEO:\n",
            "I saw her curses that faults Marcius for the banishment\n",
            "That is so study when you pardon to myself?\n",
            "What, if thou wilt path the causes of them are\n",
            "neither maidens sudden.\n",
            "\n",
            "WARWICK:\n",
            "Send them, as near as this shame? Yourge Marcius!\n",
            "\n",
            "MARCIUS:\n",
            "I'll be gone; the very time escapes of\n",
            "Mantus to see any sharp in heaven at whit?\n",
            "Here's me deserve walk. Come, living Romeo,\n",
            "If the beard the appetite to len her crown\n",
            "Then were condect'd in Rome: you are not well-seeming,\n",
            "Bears a common friends. I love you, look that\n",
            "Which dead? She is another breaks,\n",
            "And wasten it with our steel again; nor Edward's charge,\n",
            "Have I not been within the ground. Have we not lend them serve\n",
            "Thee--not so fladiout,\n",
            "To writ their patience toward men.\n",
            "\n",
            "Nurse:\n",
            "if he certain out which name I tend it.\n",
            "But, sirrah, now from the dewicizer\n",
            "And wilt thou live to let him he hardly.\n",
            "\n",
            "HASTINGS:\n",
            "I know they shall be thus to die.\n",
            "\n",
            "DUKE VINCENTIO:\n",
            "It is a rap our cares: somewhen is there be good;\n",
            "For she shall have merel, the offender \n",
            "\n",
            "________________________________________________________________________________\n",
            "\n",
            "Run time: 2.7443461418151855\n"
          ],
          "name": "stdout"
        }
      ]
    }
  ]
}